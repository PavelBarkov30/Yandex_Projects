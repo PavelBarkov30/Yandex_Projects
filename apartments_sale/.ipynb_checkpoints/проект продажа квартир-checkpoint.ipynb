{
 "cells": [
  {
   "cell_type": "markdown",
   "metadata": {},
   "source": [
    "# Исследование объявлений о продаже квартир\n",
    "\n",
    "В нашем распоряжении данные сервиса Яндекс.Недвижимость — архив объявлений о продаже квартир в Санкт-Петербурге и соседних населённых пунктов за несколько лет. Определим рыночную стоимость объектов недвижимости.<br>\n",
    "Наша задача — установить параметры. Это позволит построить автоматизированную систему: она отследит аномалии и мошенническую деятельность. \n",
    "\n",
    "По каждой квартире на продажу доступны два вида данных. Первые вписаны пользователем, вторые — получены автоматически на основе картографических данных. Например, расстояние до центра, аэропорта, ближайшего парка и водоёма. "
   ]
  },
  {
   "cell_type": "markdown",
   "metadata": {},
   "source": [
    "**Цель исследования** — проверить :\n",
    "- как быстро продавались квартиры;\n",
    "- Какие факторы больше всего влияют на общую (полную) стоимость объекта;\n",
    "- Посчитайте среднюю цену одного квадратного метра в 10 населённых пунктах с наибольшим числом объявлений;\n",
    "- Посчитать среднюю стоимость одного киллометра в Санкт-Петербурге."
   ]
  },
  {
   "cell_type": "markdown",
   "metadata": {},
   "source": [
    "**Ход исследования**\n",
    "\n",
    "Данные о поведении пользовавателей получили из файла '/datasets/real_estate_data.csv'. О качестве данных ничего не известно. Поэтому перед проверкой гипотез понадобится обзор данных. \n",
    "\n",
    "Проверим данные на ошибки и оценим их влияние на исследование. Затем, на этапе предобработки поищем возможность исправить самые критичные ошибки данных.\n",
    " \n",
    "Таким образом, исследование пройдёт в три этапа:\n",
    " 1. Обзор данных.\n",
    " 2. Предобработка данных.\n",
    " 3. Исследовательский анализ."
   ]
  },
  {
   "cell_type": "markdown",
   "metadata": {},
   "source": [
    "### Откроем файл с данными и изучим общую информацию. "
   ]
  },
  {
   "cell_type": "code",
   "execution_count": 1,
   "metadata": {},
   "outputs": [],
   "source": [
    "import pandas as pd\n",
    "import matplotlib.pyplot as plt\n",
    "import numpy as np\n",
    "\n",
    "df = pd.read_csv('/datasets/real_estate_data.csv',sep='\\t')"
   ]
  },
  {
   "cell_type": "code",
   "execution_count": 2,
   "metadata": {},
   "outputs": [
    {
     "data": {
      "text/html": [
       "<div>\n",
       "<style scoped>\n",
       "    .dataframe tbody tr th:only-of-type {\n",
       "        vertical-align: middle;\n",
       "    }\n",
       "\n",
       "    .dataframe tbody tr th {\n",
       "        vertical-align: top;\n",
       "    }\n",
       "\n",
       "    .dataframe thead th {\n",
       "        text-align: right;\n",
       "    }\n",
       "</style>\n",
       "<table border=\"1\" class=\"dataframe\">\n",
       "  <thead>\n",
       "    <tr style=\"text-align: right;\">\n",
       "      <th></th>\n",
       "      <th>total_images</th>\n",
       "      <th>last_price</th>\n",
       "      <th>total_area</th>\n",
       "      <th>first_day_exposition</th>\n",
       "      <th>rooms</th>\n",
       "      <th>ceiling_height</th>\n",
       "      <th>floors_total</th>\n",
       "      <th>living_area</th>\n",
       "      <th>floor</th>\n",
       "      <th>is_apartment</th>\n",
       "      <th>...</th>\n",
       "      <th>kitchen_area</th>\n",
       "      <th>balcony</th>\n",
       "      <th>locality_name</th>\n",
       "      <th>airports_nearest</th>\n",
       "      <th>cityCenters_nearest</th>\n",
       "      <th>parks_around3000</th>\n",
       "      <th>parks_nearest</th>\n",
       "      <th>ponds_around3000</th>\n",
       "      <th>ponds_nearest</th>\n",
       "      <th>days_exposition</th>\n",
       "    </tr>\n",
       "  </thead>\n",
       "  <tbody>\n",
       "    <tr>\n",
       "      <th>0</th>\n",
       "      <td>20</td>\n",
       "      <td>13000000.0</td>\n",
       "      <td>108.00</td>\n",
       "      <td>2019-03-07T00:00:00</td>\n",
       "      <td>3</td>\n",
       "      <td>2.70</td>\n",
       "      <td>16.0</td>\n",
       "      <td>51.00</td>\n",
       "      <td>8</td>\n",
       "      <td>NaN</td>\n",
       "      <td>...</td>\n",
       "      <td>25.00</td>\n",
       "      <td>NaN</td>\n",
       "      <td>Санкт-Петербург</td>\n",
       "      <td>18863.0</td>\n",
       "      <td>16028.0</td>\n",
       "      <td>1.0</td>\n",
       "      <td>482.0</td>\n",
       "      <td>2.0</td>\n",
       "      <td>755.0</td>\n",
       "      <td>NaN</td>\n",
       "    </tr>\n",
       "    <tr>\n",
       "      <th>1</th>\n",
       "      <td>7</td>\n",
       "      <td>3350000.0</td>\n",
       "      <td>40.40</td>\n",
       "      <td>2018-12-04T00:00:00</td>\n",
       "      <td>1</td>\n",
       "      <td>NaN</td>\n",
       "      <td>11.0</td>\n",
       "      <td>18.60</td>\n",
       "      <td>1</td>\n",
       "      <td>NaN</td>\n",
       "      <td>...</td>\n",
       "      <td>11.00</td>\n",
       "      <td>2.0</td>\n",
       "      <td>посёлок Шушары</td>\n",
       "      <td>12817.0</td>\n",
       "      <td>18603.0</td>\n",
       "      <td>0.0</td>\n",
       "      <td>NaN</td>\n",
       "      <td>0.0</td>\n",
       "      <td>NaN</td>\n",
       "      <td>81.0</td>\n",
       "    </tr>\n",
       "    <tr>\n",
       "      <th>2</th>\n",
       "      <td>10</td>\n",
       "      <td>5196000.0</td>\n",
       "      <td>56.00</td>\n",
       "      <td>2015-08-20T00:00:00</td>\n",
       "      <td>2</td>\n",
       "      <td>NaN</td>\n",
       "      <td>5.0</td>\n",
       "      <td>34.30</td>\n",
       "      <td>4</td>\n",
       "      <td>NaN</td>\n",
       "      <td>...</td>\n",
       "      <td>8.30</td>\n",
       "      <td>0.0</td>\n",
       "      <td>Санкт-Петербург</td>\n",
       "      <td>21741.0</td>\n",
       "      <td>13933.0</td>\n",
       "      <td>1.0</td>\n",
       "      <td>90.0</td>\n",
       "      <td>2.0</td>\n",
       "      <td>574.0</td>\n",
       "      <td>558.0</td>\n",
       "    </tr>\n",
       "    <tr>\n",
       "      <th>3</th>\n",
       "      <td>0</td>\n",
       "      <td>64900000.0</td>\n",
       "      <td>159.00</td>\n",
       "      <td>2015-07-24T00:00:00</td>\n",
       "      <td>3</td>\n",
       "      <td>NaN</td>\n",
       "      <td>14.0</td>\n",
       "      <td>NaN</td>\n",
       "      <td>9</td>\n",
       "      <td>NaN</td>\n",
       "      <td>...</td>\n",
       "      <td>NaN</td>\n",
       "      <td>0.0</td>\n",
       "      <td>Санкт-Петербург</td>\n",
       "      <td>28098.0</td>\n",
       "      <td>6800.0</td>\n",
       "      <td>2.0</td>\n",
       "      <td>84.0</td>\n",
       "      <td>3.0</td>\n",
       "      <td>234.0</td>\n",
       "      <td>424.0</td>\n",
       "    </tr>\n",
       "    <tr>\n",
       "      <th>4</th>\n",
       "      <td>2</td>\n",
       "      <td>10000000.0</td>\n",
       "      <td>100.00</td>\n",
       "      <td>2018-06-19T00:00:00</td>\n",
       "      <td>2</td>\n",
       "      <td>3.03</td>\n",
       "      <td>14.0</td>\n",
       "      <td>32.00</td>\n",
       "      <td>13</td>\n",
       "      <td>NaN</td>\n",
       "      <td>...</td>\n",
       "      <td>41.00</td>\n",
       "      <td>NaN</td>\n",
       "      <td>Санкт-Петербург</td>\n",
       "      <td>31856.0</td>\n",
       "      <td>8098.0</td>\n",
       "      <td>2.0</td>\n",
       "      <td>112.0</td>\n",
       "      <td>1.0</td>\n",
       "      <td>48.0</td>\n",
       "      <td>121.0</td>\n",
       "    </tr>\n",
       "    <tr>\n",
       "      <th>5</th>\n",
       "      <td>10</td>\n",
       "      <td>2890000.0</td>\n",
       "      <td>30.40</td>\n",
       "      <td>2018-09-10T00:00:00</td>\n",
       "      <td>1</td>\n",
       "      <td>NaN</td>\n",
       "      <td>12.0</td>\n",
       "      <td>14.40</td>\n",
       "      <td>5</td>\n",
       "      <td>NaN</td>\n",
       "      <td>...</td>\n",
       "      <td>9.10</td>\n",
       "      <td>NaN</td>\n",
       "      <td>городской посёлок Янино-1</td>\n",
       "      <td>NaN</td>\n",
       "      <td>NaN</td>\n",
       "      <td>NaN</td>\n",
       "      <td>NaN</td>\n",
       "      <td>NaN</td>\n",
       "      <td>NaN</td>\n",
       "      <td>55.0</td>\n",
       "    </tr>\n",
       "    <tr>\n",
       "      <th>6</th>\n",
       "      <td>6</td>\n",
       "      <td>3700000.0</td>\n",
       "      <td>37.30</td>\n",
       "      <td>2017-11-02T00:00:00</td>\n",
       "      <td>1</td>\n",
       "      <td>NaN</td>\n",
       "      <td>26.0</td>\n",
       "      <td>10.60</td>\n",
       "      <td>6</td>\n",
       "      <td>NaN</td>\n",
       "      <td>...</td>\n",
       "      <td>14.40</td>\n",
       "      <td>1.0</td>\n",
       "      <td>посёлок Парголово</td>\n",
       "      <td>52996.0</td>\n",
       "      <td>19143.0</td>\n",
       "      <td>0.0</td>\n",
       "      <td>NaN</td>\n",
       "      <td>0.0</td>\n",
       "      <td>NaN</td>\n",
       "      <td>155.0</td>\n",
       "    </tr>\n",
       "    <tr>\n",
       "      <th>7</th>\n",
       "      <td>5</td>\n",
       "      <td>7915000.0</td>\n",
       "      <td>71.60</td>\n",
       "      <td>2019-04-18T00:00:00</td>\n",
       "      <td>2</td>\n",
       "      <td>NaN</td>\n",
       "      <td>24.0</td>\n",
       "      <td>NaN</td>\n",
       "      <td>22</td>\n",
       "      <td>NaN</td>\n",
       "      <td>...</td>\n",
       "      <td>18.90</td>\n",
       "      <td>2.0</td>\n",
       "      <td>Санкт-Петербург</td>\n",
       "      <td>23982.0</td>\n",
       "      <td>11634.0</td>\n",
       "      <td>0.0</td>\n",
       "      <td>NaN</td>\n",
       "      <td>0.0</td>\n",
       "      <td>NaN</td>\n",
       "      <td>NaN</td>\n",
       "    </tr>\n",
       "    <tr>\n",
       "      <th>8</th>\n",
       "      <td>20</td>\n",
       "      <td>2900000.0</td>\n",
       "      <td>33.16</td>\n",
       "      <td>2018-05-23T00:00:00</td>\n",
       "      <td>1</td>\n",
       "      <td>NaN</td>\n",
       "      <td>27.0</td>\n",
       "      <td>15.43</td>\n",
       "      <td>26</td>\n",
       "      <td>NaN</td>\n",
       "      <td>...</td>\n",
       "      <td>8.81</td>\n",
       "      <td>NaN</td>\n",
       "      <td>посёлок Мурино</td>\n",
       "      <td>NaN</td>\n",
       "      <td>NaN</td>\n",
       "      <td>NaN</td>\n",
       "      <td>NaN</td>\n",
       "      <td>NaN</td>\n",
       "      <td>NaN</td>\n",
       "      <td>189.0</td>\n",
       "    </tr>\n",
       "    <tr>\n",
       "      <th>9</th>\n",
       "      <td>18</td>\n",
       "      <td>5400000.0</td>\n",
       "      <td>61.00</td>\n",
       "      <td>2017-02-26T00:00:00</td>\n",
       "      <td>3</td>\n",
       "      <td>2.50</td>\n",
       "      <td>9.0</td>\n",
       "      <td>43.60</td>\n",
       "      <td>7</td>\n",
       "      <td>NaN</td>\n",
       "      <td>...</td>\n",
       "      <td>6.50</td>\n",
       "      <td>2.0</td>\n",
       "      <td>Санкт-Петербург</td>\n",
       "      <td>50898.0</td>\n",
       "      <td>15008.0</td>\n",
       "      <td>0.0</td>\n",
       "      <td>NaN</td>\n",
       "      <td>0.0</td>\n",
       "      <td>NaN</td>\n",
       "      <td>289.0</td>\n",
       "    </tr>\n",
       "  </tbody>\n",
       "</table>\n",
       "<p>10 rows × 22 columns</p>\n",
       "</div>"
      ],
      "text/plain": [
       "   total_images  last_price  total_area first_day_exposition  rooms  \\\n",
       "0            20  13000000.0      108.00  2019-03-07T00:00:00      3   \n",
       "1             7   3350000.0       40.40  2018-12-04T00:00:00      1   \n",
       "2            10   5196000.0       56.00  2015-08-20T00:00:00      2   \n",
       "3             0  64900000.0      159.00  2015-07-24T00:00:00      3   \n",
       "4             2  10000000.0      100.00  2018-06-19T00:00:00      2   \n",
       "5            10   2890000.0       30.40  2018-09-10T00:00:00      1   \n",
       "6             6   3700000.0       37.30  2017-11-02T00:00:00      1   \n",
       "7             5   7915000.0       71.60  2019-04-18T00:00:00      2   \n",
       "8            20   2900000.0       33.16  2018-05-23T00:00:00      1   \n",
       "9            18   5400000.0       61.00  2017-02-26T00:00:00      3   \n",
       "\n",
       "   ceiling_height  floors_total  living_area  floor is_apartment  ...  \\\n",
       "0            2.70          16.0        51.00      8          NaN  ...   \n",
       "1             NaN          11.0        18.60      1          NaN  ...   \n",
       "2             NaN           5.0        34.30      4          NaN  ...   \n",
       "3             NaN          14.0          NaN      9          NaN  ...   \n",
       "4            3.03          14.0        32.00     13          NaN  ...   \n",
       "5             NaN          12.0        14.40      5          NaN  ...   \n",
       "6             NaN          26.0        10.60      6          NaN  ...   \n",
       "7             NaN          24.0          NaN     22          NaN  ...   \n",
       "8             NaN          27.0        15.43     26          NaN  ...   \n",
       "9            2.50           9.0        43.60      7          NaN  ...   \n",
       "\n",
       "   kitchen_area  balcony              locality_name  airports_nearest  \\\n",
       "0         25.00      NaN            Санкт-Петербург           18863.0   \n",
       "1         11.00      2.0             посёлок Шушары           12817.0   \n",
       "2          8.30      0.0            Санкт-Петербург           21741.0   \n",
       "3           NaN      0.0            Санкт-Петербург           28098.0   \n",
       "4         41.00      NaN            Санкт-Петербург           31856.0   \n",
       "5          9.10      NaN  городской посёлок Янино-1               NaN   \n",
       "6         14.40      1.0          посёлок Парголово           52996.0   \n",
       "7         18.90      2.0            Санкт-Петербург           23982.0   \n",
       "8          8.81      NaN             посёлок Мурино               NaN   \n",
       "9          6.50      2.0            Санкт-Петербург           50898.0   \n",
       "\n",
       "  cityCenters_nearest  parks_around3000  parks_nearest  ponds_around3000  \\\n",
       "0             16028.0               1.0          482.0               2.0   \n",
       "1             18603.0               0.0            NaN               0.0   \n",
       "2             13933.0               1.0           90.0               2.0   \n",
       "3              6800.0               2.0           84.0               3.0   \n",
       "4              8098.0               2.0          112.0               1.0   \n",
       "5                 NaN               NaN            NaN               NaN   \n",
       "6             19143.0               0.0            NaN               0.0   \n",
       "7             11634.0               0.0            NaN               0.0   \n",
       "8                 NaN               NaN            NaN               NaN   \n",
       "9             15008.0               0.0            NaN               0.0   \n",
       "\n",
       "   ponds_nearest  days_exposition  \n",
       "0          755.0              NaN  \n",
       "1            NaN             81.0  \n",
       "2          574.0            558.0  \n",
       "3          234.0            424.0  \n",
       "4           48.0            121.0  \n",
       "5            NaN             55.0  \n",
       "6            NaN            155.0  \n",
       "7            NaN              NaN  \n",
       "8            NaN            189.0  \n",
       "9            NaN            289.0  \n",
       "\n",
       "[10 rows x 22 columns]"
      ]
     },
     "metadata": {},
     "output_type": "display_data"
    }
   ],
   "source": [
    "display(df.head(10))"
   ]
  },
  {
   "cell_type": "code",
   "execution_count": 3,
   "metadata": {},
   "outputs": [
    {
     "name": "stdout",
     "output_type": "stream",
     "text": [
      "<class 'pandas.core.frame.DataFrame'>\n",
      "RangeIndex: 23699 entries, 0 to 23698\n",
      "Data columns (total 22 columns):\n",
      " #   Column                Non-Null Count  Dtype  \n",
      "---  ------                --------------  -----  \n",
      " 0   total_images          23699 non-null  int64  \n",
      " 1   last_price            23699 non-null  float64\n",
      " 2   total_area            23699 non-null  float64\n",
      " 3   first_day_exposition  23699 non-null  object \n",
      " 4   rooms                 23699 non-null  int64  \n",
      " 5   ceiling_height        14504 non-null  float64\n",
      " 6   floors_total          23613 non-null  float64\n",
      " 7   living_area           21796 non-null  float64\n",
      " 8   floor                 23699 non-null  int64  \n",
      " 9   is_apartment          2775 non-null   object \n",
      " 10  studio                23699 non-null  bool   \n",
      " 11  open_plan             23699 non-null  bool   \n",
      " 12  kitchen_area          21421 non-null  float64\n",
      " 13  balcony               12180 non-null  float64\n",
      " 14  locality_name         23650 non-null  object \n",
      " 15  airports_nearest      18157 non-null  float64\n",
      " 16  cityCenters_nearest   18180 non-null  float64\n",
      " 17  parks_around3000      18181 non-null  float64\n",
      " 18  parks_nearest         8079 non-null   float64\n",
      " 19  ponds_around3000      18181 non-null  float64\n",
      " 20  ponds_nearest         9110 non-null   float64\n",
      " 21  days_exposition       20518 non-null  float64\n",
      "dtypes: bool(2), float64(14), int64(3), object(3)\n",
      "memory usage: 3.7+ MB\n"
     ]
    }
   ],
   "source": [
    "df.info()"
   ]
  },
  {
   "cell_type": "code",
   "execution_count": 4,
   "metadata": {},
   "outputs": [
    {
     "data": {
      "image/png": "[encoded data removed]",
      "text/plain": [
       "<Figure size 1080x1440 with 20 Axes>"
      ]
     },
     "metadata": {
      "needs_background": "light"
     },
     "output_type": "display_data"
    }
   ],
   "source": [
    "df.hist(figsize=(15,20))\n",
    "plt.show()"
   ]
  },
  {
   "cell_type": "markdown",
   "metadata": {},
   "source": [
    "### Предобработка данных"
   ]
  },
  {
   "cell_type": "markdown",
   "metadata": {},
   "source": [
    "#### Поиск и изучение пропущеных значений."
   ]
  },
  {
   "cell_type": "markdown",
   "metadata": {},
   "source": [
    "***Процент пропущенных значений по столбцам.***"
   ]
  },
  {
   "cell_type": "code",
   "execution_count": 5,
   "metadata": {},
   "outputs": [
    {
     "data": {
      "text/plain": [
       "is_apartment            0.882906\n",
       "parks_nearest           0.659100\n",
       "ponds_nearest           0.615596\n",
       "balcony                 0.486054\n",
       "ceiling_height          0.387991\n",
       "airports_nearest        0.233850\n",
       "cityCenters_nearest     0.232879\n",
       "ponds_around3000        0.232837\n",
       "parks_around3000        0.232837\n",
       "days_exposition         0.134225\n",
       "kitchen_area            0.096122\n",
       "living_area             0.080299\n",
       "floors_total            0.003629\n",
       "locality_name           0.002068\n",
       "total_images            0.000000\n",
       "last_price              0.000000\n",
       "studio                  0.000000\n",
       "floor                   0.000000\n",
       "rooms                   0.000000\n",
       "first_day_exposition    0.000000\n",
       "total_area              0.000000\n",
       "open_plan               0.000000\n",
       "dtype: float64"
      ]
     },
     "execution_count": 5,
     "metadata": {},
     "output_type": "execute_result"
    }
   ],
   "source": [
    "df.isna().mean().sort_values(ascending=False)"
   ]
  },
  {
   "cell_type": "code",
   "execution_count": 6,
   "metadata": {},
   "outputs": [],
   "source": [
    "df[['balcony','days_exposition','ponds_around3000','parks_around3000']]=df[['balcony','days_exposition','ponds_around3000','parks_around3000']].fillna(0)"
   ]
  },
  {
   "cell_type": "code",
   "execution_count": 7,
   "metadata": {},
   "outputs": [
    {
     "data": {
      "text/plain": [
       "23699"
      ]
     },
     "execution_count": 7,
     "metadata": {},
     "output_type": "execute_result"
    }
   ],
   "source": [
    "len(df)"
   ]
  },
  {
   "cell_type": "code",
   "execution_count": 8,
   "metadata": {},
   "outputs": [],
   "source": [
    "df=df.dropna(subset=['floors_total'])"
   ]
  },
  {
   "cell_type": "code",
   "execution_count": 9,
   "metadata": {},
   "outputs": [
    {
     "data": {
      "text/plain": [
       "23613"
      ]
     },
     "execution_count": 9,
     "metadata": {},
     "output_type": "execute_result"
    }
   ],
   "source": [
    "len(df)"
   ]
  },
  {
   "cell_type": "markdown",
   "metadata": {},
   "source": [
    "##### Заполнение пропусков:\n",
    "Отсутствующие значения в столбцах **ponds_around3000, parks_around3000, balcony** посчитал возможным заполнить нулями, так как отсутсвие значений в них вполне вероятно может указывать на отсутствие этих элементов как таковых- нет балкона, нет парка или водоема поблизости.<br />\n",
    "В остальных столбцах природа отсутвия значений однозначно не ясна, значения могут быть потеряны при загрузке/выгрузке, невнимательность и т.д. <br>\n",
    "Решил удалить строки с пропущенными значениями в столбце floors_total , так как заполнить ничем нельзя, а для анализа этот столбец понадобится. Плюс, их количество несущественное-0.36 %.\n"
   ]
  },
  {
   "cell_type": "markdown",
   "metadata": {},
   "source": [
    "**Заполнение столбца 'ceiling_height' медианным значением по регионам.**"
   ]
  },
  {
   "cell_type": "code",
   "execution_count": 91,
   "metadata": {},
   "outputs": [],
   "source": [
    "df['ceiling_height']=df['ceiling_height'].fillna(df.groupby('locality_name')['ceiling_height'].transform('median'))"
   ]
  },
  {
   "cell_type": "markdown",
   "metadata": {},
   "source": [
    "**Заполнение столбца 'cityCenters_nearest' медианным значением по регионам.**"
   ]
  },
  {
   "cell_type": "code",
   "execution_count": 11,
   "metadata": {},
   "outputs": [],
   "source": [
    "df['cityCenters_nearest']=df['cityCenters_nearest'].fillna(\n",
    "    df.groupby('locality_name')['cityCenters_nearest'].transform('median'))"
   ]
  },
  {
   "cell_type": "markdown",
   "metadata": {},
   "source": [
    "#### Изучение типа данных."
   ]
  },
  {
   "cell_type": "code",
   "execution_count": 92,
   "metadata": {},
   "outputs": [
    {
     "name": "stdout",
     "output_type": "stream",
     "text": [
      "<class 'pandas.core.frame.DataFrame'>\n",
      "Int64Index: 23439 entries, 0 to 23698\n",
      "Data columns (total 29 columns):\n",
      " #   Column                Non-Null Count  Dtype         \n",
      "---  ------                --------------  -----         \n",
      " 0   total_images          23439 non-null  int64         \n",
      " 1   last_price            23439 non-null  int64         \n",
      " 2   total_area            23439 non-null  float64       \n",
      " 3   first_day_exposition  23439 non-null  datetime64[ns]\n",
      " 4   rooms                 23439 non-null  int64         \n",
      " 5   ceiling_height        23439 non-null  float64       \n",
      " 6   floors_total          23439 non-null  int64         \n",
      " 7   living_area           21600 non-null  float64       \n",
      " 8   floor                 23439 non-null  int64         \n",
      " 9   is_apartment          2752 non-null   object        \n",
      " 10  studio                23439 non-null  bool          \n",
      " 11  open_plan             23439 non-null  bool          \n",
      " 12  kitchen_area          21249 non-null  float64       \n",
      " 13  balcony               23439 non-null  int64         \n",
      " 14  locality_name         23425 non-null  object        \n",
      " 15  airports_nearest      18033 non-null  float64       \n",
      " 16  cityCenters_nearest   18125 non-null  float64       \n",
      " 17  parks_around3000      23439 non-null  int64         \n",
      " 18  parks_nearest         8027 non-null   float64       \n",
      " 19  ponds_around3000      23439 non-null  int64         \n",
      " 20  ponds_nearest         9033 non-null   float64       \n",
      " 21  days_exposition       23439 non-null  float64       \n",
      " 22  price_per_metre       23439 non-null  float64       \n",
      " 23  weekday               23439 non-null  int64         \n",
      " 24  month                 23439 non-null  int64         \n",
      " 25  year                  23439 non-null  int64         \n",
      " 26  floor_type            23439 non-null  object        \n",
      " 27  km_to_city            18125 non-null  float64       \n",
      " 28  last_price_lemon      23439 non-null  float64       \n",
      "dtypes: bool(2), datetime64[ns](1), float64(12), int64(11), object(3)\n",
      "memory usage: 5.6+ MB\n"
     ]
    }
   ],
   "source": [
    "df.info()"
   ]
  },
  {
   "cell_type": "code",
   "execution_count": 13,
   "metadata": {},
   "outputs": [],
   "source": [
    "df[['balcony','parks_around3000','ponds_around3000','floors_total','last_price']]=df[\n",
    "    ['balcony','parks_around3000','ponds_around3000','floors_total','last_price']].astype('int')"
   ]
  },
  {
   "cell_type": "code",
   "execution_count": 14,
   "metadata": {},
   "outputs": [],
   "source": [
    "df['first_day_exposition']=pd.to_datetime(df['first_day_exposition'],format='%Y-%m-%dT%H:%M:%S')"
   ]
  },
  {
   "cell_type": "code",
   "execution_count": 15,
   "metadata": {},
   "outputs": [
    {
     "data": {
      "text/plain": [
       "0       2019-03-07\n",
       "1       2018-12-04\n",
       "2       2015-08-20\n",
       "3       2015-07-24\n",
       "4       2018-06-19\n",
       "           ...    \n",
       "23694   2017-03-21\n",
       "23695   2018-01-15\n",
       "23696   2018-02-11\n",
       "23697   2017-03-28\n",
       "23698   2017-07-21\n",
       "Name: first_day_exposition, Length: 23613, dtype: datetime64[ns]"
      ]
     },
     "execution_count": 15,
     "metadata": {},
     "output_type": "execute_result"
    }
   ],
   "source": [
    "df['first_day_exposition']"
   ]
  },
  {
   "cell_type": "markdown",
   "metadata": {},
   "source": [
    "##### Изменены типы данных следующих столбцов: \n",
    "\n",
    "Столбцы:**'balcony'(число балконов),'parks_around3000'(число парков поблизости),'ponds_around3000'(число водоемов поблизости),'last_price(стоимость квартиры)'** поменял с float на  int так как эти параметры могут быть только целыми числами.<br />\n",
    "Так же было бы логично поменять тип дынных на int в столбцах 'floors_total'(всего этажей) и 'days_exposition'(дни), но там есть пропуски,которые было решено пока не заполнять, а анализировать с ними.<br />\n",
    "Тип данных столбца 'first_day_exposition'(дата) изменен на datetimeд для удобства дальшей работы со временем"
   ]
  },
  {
   "cell_type": "markdown",
   "metadata": {},
   "source": [
    "#### Посмотрим уникальные значения в столбце locality_name, устраним неявные дубликаты."
   ]
  },
  {
   "cell_type": "code",
   "execution_count": 16,
   "metadata": {},
   "outputs": [
    {
     "data": {
      "text/plain": [
       "array(['Санкт-Петербург', 'посёлок Шушары', 'городской посёлок Янино-1',\n",
       "       'посёлок Парголово', 'посёлок Мурино', 'Ломоносов', 'Сертолово',\n",
       "       'Петергоф', 'Пушкин', 'деревня Кудрово', 'Коммунар', 'Колпино',\n",
       "       'поселок городского типа Красный Бор', 'Гатчина', 'поселок Мурино',\n",
       "       'деревня Фёдоровское', 'Выборг', 'Кронштадт', 'Кировск',\n",
       "       'деревня Новое Девяткино', 'посёлок Металлострой',\n",
       "       'посёлок городского типа Лебяжье',\n",
       "       'посёлок городского типа Сиверский', 'поселок Молодцово',\n",
       "       'поселок городского типа Кузьмоловский',\n",
       "       'садовое товарищество Новая Ропша', 'Павловск',\n",
       "       'деревня Пикколово', 'Всеволожск', 'Волхов', 'Кингисепп',\n",
       "       'Приозерск', 'Сестрорецк', 'деревня Куттузи', 'посёлок Аннино',\n",
       "       'поселок городского типа Ефимовский', 'посёлок Плодовое',\n",
       "       'деревня Заклинье', 'поселок Торковичи', 'поселок Первомайское',\n",
       "       'Красное Село', 'посёлок Понтонный', 'Сясьстрой', 'деревня Старая',\n",
       "       'деревня Лесколово', 'посёлок Новый Свет', 'Сланцы',\n",
       "       'село Путилово', 'Ивангород', 'Мурино', 'Шлиссельбург',\n",
       "       'Никольское', 'Зеленогорск', 'Сосновый Бор', 'поселок Новый Свет',\n",
       "       'деревня Оржицы', 'деревня Кальтино', 'Кудрово',\n",
       "       'поселок Романовка', 'посёлок Бугры', 'поселок Бугры',\n",
       "       'поселок городского типа Рощино', 'Кириши', 'Луга', 'Волосово',\n",
       "       'Отрадное', 'село Павлово', 'поселок Оредеж', 'село Копорье',\n",
       "       'посёлок городского типа Красный Бор', 'посёлок Молодёжное',\n",
       "       'Тихвин', 'посёлок Победа', 'деревня Нурма',\n",
       "       'поселок городского типа Синявино', 'Тосно',\n",
       "       'посёлок городского типа Кузьмоловский', 'посёлок Стрельна',\n",
       "       'Бокситогорск', 'посёлок Александровская', 'деревня Лопухинка',\n",
       "       'Пикалёво', 'поселок Терволово',\n",
       "       'поселок городского типа Советский', 'Подпорожье',\n",
       "       'посёлок Петровское', 'посёлок городского типа Токсово',\n",
       "       'поселок Сельцо', 'посёлок городского типа Вырица',\n",
       "       'деревня Кипень', 'деревня Келози', 'деревня Вартемяги',\n",
       "       'посёлок Тельмана', 'поселок Севастьяново',\n",
       "       'городской поселок Большая Ижора', nan,\n",
       "       'городской посёлок Павлово', 'деревня Агалатово',\n",
       "       'посёлок Новогорелово', 'городской посёлок Лесогорский',\n",
       "       'деревня Лаголово', 'поселок Цвелодубово',\n",
       "       'поселок городского типа Рахья', 'поселок городского типа Вырица',\n",
       "       'деревня Белогорка', 'поселок Заводской',\n",
       "       'городской посёлок Новоселье', 'деревня Большие Колпаны',\n",
       "       'деревня Горбунки', 'деревня Батово', 'деревня Заневка',\n",
       "       'деревня Иссад', 'Приморск', 'городской посёлок Фёдоровское',\n",
       "       'деревня Мистолово', 'Новая Ладога', 'поселок Зимитицы',\n",
       "       'поселок Барышево', 'деревня Разметелево',\n",
       "       'поселок городского типа имени Свердлова', 'деревня Пеники',\n",
       "       'поселок Рябово', 'деревня Пудомяги', 'поселок станции Корнево',\n",
       "       'деревня Низино', 'деревня Бегуницы', 'посёлок Поляны',\n",
       "       'городской посёлок Мга', 'поселок Елизаветино',\n",
       "       'посёлок городского типа Кузнечное', 'деревня Колтуши',\n",
       "       'поселок Запорожское', 'посёлок городского типа Рощино',\n",
       "       'деревня Гостилицы', 'деревня Малое Карлино',\n",
       "       'посёлок Мичуринское', 'посёлок городского типа имени Морозова',\n",
       "       'посёлок Песочный', 'посёлок Сосново', 'деревня Аро',\n",
       "       'поселок Ильичёво', 'посёлок городского типа Тайцы',\n",
       "       'деревня Малое Верево', 'деревня Извара', 'поселок станции Вещево',\n",
       "       'село Паша', 'деревня Калитино',\n",
       "       'посёлок городского типа Ульяновка', 'деревня Чудской Бор',\n",
       "       'поселок городского типа Дубровка', 'деревня Мины',\n",
       "       'поселок Войсковицы', 'посёлок городского типа имени Свердлова',\n",
       "       'деревня Коркино', 'посёлок Ропша',\n",
       "       'поселок городского типа Приладожский', 'посёлок Щеглово',\n",
       "       'посёлок Гаврилово', 'Лодейное Поле', 'деревня Рабитицы',\n",
       "       'поселок городского типа Никольский', 'деревня Кузьмолово',\n",
       "       'деревня Малые Колпаны', 'поселок Тельмана',\n",
       "       'посёлок Петро-Славянка', 'городской посёлок Назия',\n",
       "       'посёлок Репино', 'посёлок Ильичёво', 'поселок Углово',\n",
       "       'поселок Старая Малукса', 'садовое товарищество Рахья',\n",
       "       'поселок Аннино', 'поселок Победа', 'деревня Меньково',\n",
       "       'деревня Старые Бегуницы', 'посёлок Сапёрный', 'поселок Семрино',\n",
       "       'поселок Гаврилово', 'поселок Глажево', 'поселок Кобринское',\n",
       "       'деревня Гарболово', 'деревня Юкки',\n",
       "       'поселок станции Приветнинское', 'деревня Мануйлово',\n",
       "       'деревня Пчева', 'поселок Поляны', 'поселок Цвылёво',\n",
       "       'поселок Мельниково', 'посёлок Пудость', 'посёлок Усть-Луга',\n",
       "       'Светогорск', 'Любань', 'поселок Селезнёво',\n",
       "       'поселок городского типа Рябово', 'Каменногорск', 'деревня Кривко',\n",
       "       'поселок Глебычево', 'деревня Парицы', 'поселок Жилпосёлок',\n",
       "       'посёлок городского типа Мга', 'городской поселок Янино-1',\n",
       "       'посёлок Войскорово', 'село Никольское', 'посёлок Терволово',\n",
       "       'поселок Стеклянный', 'посёлок городского типа Важины',\n",
       "       'посёлок Мыза-Ивановка', 'село Русско-Высоцкое',\n",
       "       'поселок городского типа Лебяжье',\n",
       "       'поселок городского типа Форносово', 'село Старая Ладога',\n",
       "       'поселок Житково', 'городской посёлок Виллози', 'деревня Лампово',\n",
       "       'деревня Шпаньково', 'деревня Лаврики', 'посёлок Сумино',\n",
       "       'посёлок Возрождение', 'деревня Старосиверская',\n",
       "       'посёлок Кикерино', 'поселок Возрождение',\n",
       "       'деревня Старое Хинколово', 'посёлок Пригородный',\n",
       "       'посёлок Торфяное', 'городской посёлок Будогощь',\n",
       "       'поселок Суходолье', 'поселок Красная Долина', 'деревня Хапо-Ое',\n",
       "       'поселок городского типа Дружная Горка', 'поселок Лисий Нос',\n",
       "       'деревня Яльгелево', 'посёлок Стеклянный', 'село Рождествено',\n",
       "       'деревня Старополье', 'посёлок Левашово', 'деревня Сяськелево',\n",
       "       'деревня Камышовка',\n",
       "       'садоводческое некоммерческое товарищество Лесная Поляна',\n",
       "       'деревня Хязельки', 'поселок Жилгородок',\n",
       "       'посёлок городского типа Павлово', 'деревня Ялгино',\n",
       "       'поселок Новый Учхоз', 'городской посёлок Рощино',\n",
       "       'поселок Гончарово', 'поселок Почап', 'посёлок Сапёрное',\n",
       "       'посёлок Платформа 69-й километр', 'поселок Каложицы',\n",
       "       'деревня Фалилеево', 'деревня Пельгора',\n",
       "       'поселок городского типа Лесогорский', 'деревня Торошковичи',\n",
       "       'посёлок Белоостров', 'посёлок Алексеевка', 'поселок Серебрянский',\n",
       "       'поселок Лукаши', 'поселок Петровское', 'деревня Щеглово',\n",
       "       'поселок Мичуринское', 'деревня Тарасово', 'поселок Кингисеппский',\n",
       "       'посёлок при железнодорожной станции Вещево', 'поселок Ушаки',\n",
       "       'деревня Котлы', 'деревня Сижно', 'деревня Торосово',\n",
       "       'посёлок Форт Красная Горка', 'деревня Новолисино',\n",
       "       'посёлок станции Громово', 'деревня Глинка', 'посёлок Мельниково',\n",
       "       'поселок городского типа Назия', 'деревня Старая Пустошь',\n",
       "       'поселок Коммунары', 'поселок Починок',\n",
       "       'посёлок городского типа Вознесенье', 'деревня Разбегаево',\n",
       "       'посёлок городского типа Рябово', 'поселок Гладкое',\n",
       "       'посёлок при железнодорожной станции Приветнинское',\n",
       "       'поселок Тёсово-4', 'посёлок Жилгородок', 'деревня Бор',\n",
       "       'посёлок Коробицыно', 'деревня Большая Вруда', 'деревня Курковицы',\n",
       "       'посёлок Лисий Нос', 'городской посёлок Советский',\n",
       "       'посёлок Кобралово', 'деревня Суоранда', 'поселок Кобралово',\n",
       "       'поселок городского типа Кондратьево',\n",
       "       'коттеджный поселок Счастье', 'поселок Любань', 'деревня Реброво',\n",
       "       'деревня Зимитицы', 'деревня Тойворово', 'поселок Семиозерье',\n",
       "       'поселок Лесное', 'поселок Совхозный', 'поселок Усть-Луга',\n",
       "       'посёлок Ленинское', 'посёлок Суйда',\n",
       "       'посёлок городского типа Форносово', 'деревня Нижние Осельки',\n",
       "       'посёлок станции Свирь', 'поселок Перово', 'Высоцк',\n",
       "       'поселок Гарболово', 'село Шум', 'поселок Котельский',\n",
       "       'поселок станции Лужайка', 'деревня Большая Пустомержа',\n",
       "       'поселок Красносельское', 'деревня Вахнова Кара', 'деревня Пижма',\n",
       "       'коттеджный поселок Кивеннапа Север', 'поселок Коробицыно',\n",
       "       'поселок Ромашки', 'посёлок Перово', 'деревня Каськово',\n",
       "       'деревня Куровицы', 'посёлок Плоское', 'поселок Сумино',\n",
       "       'поселок городского типа Большая Ижора', 'поселок Кирпичное',\n",
       "       'деревня Ям-Тесово', 'деревня Раздолье', 'деревня Терпилицы',\n",
       "       'поселок городского типа Токсово', 'посёлок Шугозеро',\n",
       "       'деревня Ваганово', 'поселок Пушное', 'садовое товарищество Садко',\n",
       "       'посёлок Усть-Ижора', 'деревня Выскатка',\n",
       "       'городской посёлок Свирьстрой', 'поселок Громово',\n",
       "       'деревня Кисельня', 'посёлок Старая Малукса',\n",
       "       'деревня Трубников Бор', 'поселок Калитино',\n",
       "       'посёлок Высокоключевой', 'садовое товарищество Приладожский',\n",
       "       'посёлок Пансионат Зелёный Бор', 'деревня Ненимяки',\n",
       "       'поселок Пансионат Зелёный Бор', 'деревня Снегирёвка',\n",
       "       'деревня Рапполово', 'деревня Пустынка', 'поселок Рабитицы',\n",
       "       'деревня Большой Сабск', 'деревня Русско', 'деревня Лупполово',\n",
       "       'деревня Большое Рейзино', 'деревня Малая Романовка',\n",
       "       'поселок Дружноселье', 'поселок Пчевжа', 'поселок Володарское',\n",
       "       'деревня Нижняя', 'коттеджный посёлок Лесное', 'деревня Тихковицы',\n",
       "       'деревня Борисова Грива', 'посёлок Дзержинского'], dtype=object)"
      ]
     },
     "execution_count": 16,
     "metadata": {},
     "output_type": "execute_result"
    }
   ],
   "source": [
    "df['locality_name'].unique()"
   ]
  },
  {
   "cell_type": "code",
   "execution_count": 17,
   "metadata": {},
   "outputs": [],
   "source": [
    "df['locality_name']=df['locality_name'].str.replace('ё','е')"
   ]
  },
  {
   "cell_type": "code",
   "execution_count": 18,
   "metadata": {},
   "outputs": [],
   "source": [
    "df['locality_name']=df['locality_name'].str.replace('поселок городского типа','поселок')"
   ]
  },
  {
   "cell_type": "code",
   "execution_count": 19,
   "metadata": {},
   "outputs": [],
   "source": [
    "df['locality_name']=df['locality_name'].str.replace('городской поселок','поселок')"
   ]
  },
  {
   "cell_type": "code",
   "execution_count": 20,
   "metadata": {
    "scrolled": true
   },
   "outputs": [
    {
     "data": {
      "text/plain": [
       "array(['Санкт-Петербург', 'поселок Шушары', 'поселок Янино-1',\n",
       "       'поселок Парголово', 'поселок Мурино', 'Ломоносов', 'Сертолово',\n",
       "       'Петергоф', 'Пушкин', 'деревня Кудрово', 'Коммунар', 'Колпино',\n",
       "       'поселок Красный Бор', 'Гатчина', 'деревня Федоровское', 'Выборг',\n",
       "       'Кронштадт', 'Кировск', 'деревня Новое Девяткино',\n",
       "       'поселок Металлострой', 'поселок Лебяжье', 'поселок Сиверский',\n",
       "       'поселок Молодцово', 'поселок Кузьмоловский',\n",
       "       'садовое товарищество Новая Ропша', 'Павловск',\n",
       "       'деревня Пикколово', 'Всеволожск', 'Волхов', 'Кингисепп',\n",
       "       'Приозерск', 'Сестрорецк', 'деревня Куттузи', 'поселок Аннино',\n",
       "       'поселок Ефимовский', 'поселок Плодовое', 'деревня Заклинье',\n",
       "       'поселок Торковичи', 'поселок Первомайское', 'Красное Село',\n",
       "       'поселок Понтонный', 'Сясьстрой', 'деревня Старая',\n",
       "       'деревня Лесколово', 'поселок Новый Свет', 'Сланцы',\n",
       "       'село Путилово', 'Ивангород', 'Мурино', 'Шлиссельбург',\n",
       "       'Никольское', 'Зеленогорск', 'Сосновый Бор', 'деревня Оржицы',\n",
       "       'деревня Кальтино', 'Кудрово', 'поселок Романовка',\n",
       "       'поселок Бугры', 'поселок Рощино', 'Кириши', 'Луга', 'Волосово',\n",
       "       'Отрадное', 'село Павлово', 'поселок Оредеж', 'село Копорье',\n",
       "       'поселок Молодежное', 'Тихвин', 'поселок Победа', 'деревня Нурма',\n",
       "       'поселок Синявино', 'Тосно', 'поселок Стрельна', 'Бокситогорск',\n",
       "       'поселок Александровская', 'деревня Лопухинка', 'Пикалево',\n",
       "       'поселок Терволово', 'поселок Советский', 'Подпорожье',\n",
       "       'поселок Петровское', 'поселок Токсово', 'поселок Сельцо',\n",
       "       'поселок Вырица', 'деревня Кипень', 'деревня Келози',\n",
       "       'деревня Вартемяги', 'поселок Тельмана', 'поселок Севастьяново',\n",
       "       'поселок Большая Ижора', nan, 'поселок Павлово',\n",
       "       'деревня Агалатово', 'поселок Новогорелово', 'поселок Лесогорский',\n",
       "       'деревня Лаголово', 'поселок Цвелодубово', 'поселок Рахья',\n",
       "       'деревня Белогорка', 'поселок Заводской', 'поселок Новоселье',\n",
       "       'деревня Большие Колпаны', 'деревня Горбунки', 'деревня Батово',\n",
       "       'деревня Заневка', 'деревня Иссад', 'Приморск',\n",
       "       'поселок Федоровское', 'деревня Мистолово', 'Новая Ладога',\n",
       "       'поселок Зимитицы', 'поселок Барышево', 'деревня Разметелево',\n",
       "       'поселок имени Свердлова', 'деревня Пеники', 'поселок Рябово',\n",
       "       'деревня Пудомяги', 'поселок станции Корнево', 'деревня Низино',\n",
       "       'деревня Бегуницы', 'поселок Поляны', 'поселок Мга',\n",
       "       'поселок Елизаветино', 'поселок Кузнечное', 'деревня Колтуши',\n",
       "       'поселок Запорожское', 'деревня Гостилицы',\n",
       "       'деревня Малое Карлино', 'поселок Мичуринское',\n",
       "       'поселок имени Морозова', 'поселок Песочный', 'поселок Сосново',\n",
       "       'деревня Аро', 'поселок Ильичево', 'поселок Тайцы',\n",
       "       'деревня Малое Верево', 'деревня Извара', 'поселок станции Вещево',\n",
       "       'село Паша', 'деревня Калитино', 'поселок Ульяновка',\n",
       "       'деревня Чудской Бор', 'поселок Дубровка', 'деревня Мины',\n",
       "       'поселок Войсковицы', 'деревня Коркино', 'поселок Ропша',\n",
       "       'поселок Приладожский', 'поселок Щеглово', 'поселок Гаврилово',\n",
       "       'Лодейное Поле', 'деревня Рабитицы', 'поселок Никольский',\n",
       "       'деревня Кузьмолово', 'деревня Малые Колпаны',\n",
       "       'поселок Петро-Славянка', 'поселок Назия', 'поселок Репино',\n",
       "       'поселок Углово', 'поселок Старая Малукса',\n",
       "       'садовое товарищество Рахья', 'деревня Меньково',\n",
       "       'деревня Старые Бегуницы', 'поселок Саперный', 'поселок Семрино',\n",
       "       'поселок Глажево', 'поселок Кобринское', 'деревня Гарболово',\n",
       "       'деревня Юкки', 'поселок станции Приветнинское',\n",
       "       'деревня Мануйлово', 'деревня Пчева', 'поселок Цвылево',\n",
       "       'поселок Мельниково', 'поселок Пудость', 'поселок Усть-Луга',\n",
       "       'Светогорск', 'Любань', 'поселок Селезнево', 'Каменногорск',\n",
       "       'деревня Кривко', 'поселок Глебычево', 'деревня Парицы',\n",
       "       'поселок Жилпоселок', 'поселок Войскорово', 'село Никольское',\n",
       "       'поселок Стеклянный', 'поселок Важины', 'поселок Мыза-Ивановка',\n",
       "       'село Русско-Высоцкое', 'поселок Форносово', 'село Старая Ладога',\n",
       "       'поселок Житково', 'поселок Виллози', 'деревня Лампово',\n",
       "       'деревня Шпаньково', 'деревня Лаврики', 'поселок Сумино',\n",
       "       'поселок Возрождение', 'деревня Старосиверская',\n",
       "       'поселок Кикерино', 'деревня Старое Хинколово',\n",
       "       'поселок Пригородный', 'поселок Торфяное', 'поселок Будогощь',\n",
       "       'поселок Суходолье', 'поселок Красная Долина', 'деревня Хапо-Ое',\n",
       "       'поселок Дружная Горка', 'поселок Лисий Нос', 'деревня Яльгелево',\n",
       "       'село Рождествено', 'деревня Старополье', 'поселок Левашово',\n",
       "       'деревня Сяськелево', 'деревня Камышовка',\n",
       "       'садоводческое некоммерческое товарищество Лесная Поляна',\n",
       "       'деревня Хязельки', 'поселок Жилгородок', 'деревня Ялгино',\n",
       "       'поселок Новый Учхоз', 'поселок Гончарово', 'поселок Почап',\n",
       "       'поселок Саперное', 'поселок Платформа 69-й километр',\n",
       "       'поселок Каложицы', 'деревня Фалилеево', 'деревня Пельгора',\n",
       "       'деревня Торошковичи', 'поселок Белоостров', 'поселок Алексеевка',\n",
       "       'поселок Серебрянский', 'поселок Лукаши', 'деревня Щеглово',\n",
       "       'деревня Тарасово', 'поселок Кингисеппский',\n",
       "       'поселок при железнодорожной станции Вещево', 'поселок Ушаки',\n",
       "       'деревня Котлы', 'деревня Сижно', 'деревня Торосово',\n",
       "       'поселок Форт Красная Горка', 'деревня Новолисино',\n",
       "       'поселок станции Громово', 'деревня Глинка',\n",
       "       'деревня Старая Пустошь', 'поселок Коммунары', 'поселок Починок',\n",
       "       'поселок Вознесенье', 'деревня Разбегаево', 'поселок Гладкое',\n",
       "       'поселок при железнодорожной станции Приветнинское',\n",
       "       'поселок Тесово-4', 'деревня Бор', 'поселок Коробицыно',\n",
       "       'деревня Большая Вруда', 'деревня Курковицы', 'поселок Кобралово',\n",
       "       'деревня Суоранда', 'поселок Кондратьево',\n",
       "       'коттеджный поселок Счастье', 'поселок Любань', 'деревня Реброво',\n",
       "       'деревня Зимитицы', 'деревня Тойворово', 'поселок Семиозерье',\n",
       "       'поселок Лесное', 'поселок Совхозный', 'поселок Ленинское',\n",
       "       'поселок Суйда', 'деревня Нижние Осельки', 'поселок станции Свирь',\n",
       "       'поселок Перово', 'Высоцк', 'поселок Гарболово', 'село Шум',\n",
       "       'поселок Котельский', 'поселок станции Лужайка',\n",
       "       'деревня Большая Пустомержа', 'поселок Красносельское',\n",
       "       'деревня Вахнова Кара', 'деревня Пижма',\n",
       "       'коттеджный поселок Кивеннапа Север', 'поселок Ромашки',\n",
       "       'деревня Каськово', 'деревня Куровицы', 'поселок Плоское',\n",
       "       'поселок Кирпичное', 'деревня Ям-Тесово', 'деревня Раздолье',\n",
       "       'деревня Терпилицы', 'поселок Шугозеро', 'деревня Ваганово',\n",
       "       'поселок Пушное', 'садовое товарищество Садко',\n",
       "       'поселок Усть-Ижора', 'деревня Выскатка', 'поселок Свирьстрой',\n",
       "       'поселок Громово', 'деревня Кисельня', 'деревня Трубников Бор',\n",
       "       'поселок Калитино', 'поселок Высокоключевой',\n",
       "       'садовое товарищество Приладожский',\n",
       "       'поселок Пансионат Зеленый Бор', 'деревня Ненимяки',\n",
       "       'деревня Снегиревка', 'деревня Рапполово', 'деревня Пустынка',\n",
       "       'поселок Рабитицы', 'деревня Большой Сабск', 'деревня Русско',\n",
       "       'деревня Лупполово', 'деревня Большое Рейзино',\n",
       "       'деревня Малая Романовка', 'поселок Дружноселье', 'поселок Пчевжа',\n",
       "       'поселок Володарское', 'деревня Нижняя',\n",
       "       'коттеджный поселок Лесное', 'деревня Тихковицы',\n",
       "       'деревня Борисова Грива', 'поселок Дзержинского'], dtype=object)"
      ]
     },
     "execution_count": 20,
     "metadata": {},
     "output_type": "execute_result"
    }
   ],
   "source": [
    "df['locality_name'].unique()"
   ]
  },
  {
   "cell_type": "markdown",
   "metadata": {},
   "source": [
    "#### Обработка выбивающихся значений:"
   ]
  },
  {
   "cell_type": "code",
   "execution_count": 21,
   "metadata": {},
   "outputs": [
    {
     "data": {
      "image/png": "[encoded data removed]",
      "text/plain": [
       "<Figure size 432x288 with 1 Axes>"
      ]
     },
     "metadata": {
      "needs_background": "light"
     },
     "output_type": "display_data"
    }
   ],
   "source": [
    "df.boxplot(column='ceiling_height')\n",
    "plt.show()"
   ]
  },
  {
   "cell_type": "code",
   "execution_count": 22,
   "metadata": {},
   "outputs": [],
   "source": [
    "df.loc[df['ceiling_height']>5,'ceiling_height']=df['ceiling_height']/10"
   ]
  },
  {
   "cell_type": "code",
   "execution_count": 23,
   "metadata": {},
   "outputs": [],
   "source": [
    "q1=df['ceiling_height'].quantile(0.25)"
   ]
  },
  {
   "cell_type": "code",
   "execution_count": 24,
   "metadata": {},
   "outputs": [],
   "source": [
    "q3=df['ceiling_height'].quantile(0.75)"
   ]
  },
  {
   "cell_type": "code",
   "execution_count": 25,
   "metadata": {},
   "outputs": [
    {
     "data": {
      "text/plain": [
       "2690"
      ]
     },
     "execution_count": 25,
     "metadata": {},
     "output_type": "execute_result"
    }
   ],
   "source": [
    "(df['ceiling_height']>q3+(q3-q1)*1.5).sum()"
   ]
  },
  {
   "cell_type": "code",
   "execution_count": 26,
   "metadata": {},
   "outputs": [],
   "source": [
    "df=df.loc[df['ceiling_height'].between(2,5)]"
   ]
  },
  {
   "cell_type": "code",
   "execution_count": 27,
   "metadata": {},
   "outputs": [
    {
     "data": {
      "text/plain": [
       "array([2.7  , 2.615, 3.03 , 2.6  , 2.64 , 2.5  , 2.67 , 2.55 , 2.56 ,\n",
       "       3.05 , 2.75 , 2.9  , 2.56 , 2.8  , 3.   , 2.65 , 3.2  , 2.61 ,\n",
       "       3.25 , 3.45 , 2.77 , 2.85 , 2.525, 2.57 , 4.15 , 3.5  , 3.3  ,\n",
       "       2.71 , 4.   , 2.47 , 2.73 , 2.84 , 3.1  , 2.34 , 3.4  , 2.52 ,\n",
       "       3.06 , 2.72 , 2.54 , 2.51 , 2.78 , 2.76 , 2.58 , 3.7  , 2.87 ,\n",
       "       2.66 , 2.59 , 2.   , 2.45 , 3.6  , 3.9  , 2.92 , 3.11 , 3.13 ,\n",
       "       3.8  , 3.15 , 3.55 , 3.16 , 3.62 , 3.12 , 2.53 , 2.74 , 2.96 ,\n",
       "       2.46 , 5.   , 2.79 , 2.95 , 4.06 , 2.94 , 3.82 , 3.54 , 3.53 ,\n",
       "       2.83 , 4.7  , 2.4  , 3.38 , 3.01 , 3.65 , 3.18 , 3.35 , 2.3  ,\n",
       "       3.57 , 2.48 , 2.515, 2.62 , 2.82 , 2.65 , 3.98 , 2.63 , 3.83 ,\n",
       "       3.52 , 3.95 , 3.75 , 2.88 , 3.67 , 3.87 , 3.66 , 3.85 , 3.86 ,\n",
       "       4.19 , 3.24 , 4.8  , 4.5  , 4.2  , 3.36 , 3.08 , 3.68 , 3.07 ,\n",
       "       3.37 , 3.09 , 3.26 , 3.34 , 2.81 , 3.44 , 2.97 , 3.14 , 2.725,\n",
       "       4.37 , 2.68 , 2.6  , 3.22 , 3.27 , 2.675, 4.1  , 2.93 , 3.46 ,\n",
       "       3.47 , 3.33 , 3.63 , 2.625, 3.32 , 2.98 , 2.86 , 3.17 , 4.4  ,\n",
       "       3.28 , 3.04 , 4.45 , 3.84 , 3.23 , 3.02 , 3.21 , 3.43 , 2.575,\n",
       "       2.555, 3.78 , 4.3  , 3.39 , 2.69 , 3.31 , 4.65 , 3.56 , 2.2  ,\n",
       "       3.51 , 3.93 , 3.42 , 2.99 , 3.49 , 4.14 , 2.91 , 3.88 , 4.25 ,\n",
       "       3.29 , 2.25 , 3.76 , 3.69 , 2.26 , 2.89 , 3.58 , 2.49 , 4.9  ,\n",
       "       3.48 , 3.59 ])"
      ]
     },
     "execution_count": 27,
     "metadata": {},
     "output_type": "execute_result"
    }
   ],
   "source": [
    "df['ceiling_height'].unique()"
   ]
  },
  {
   "cell_type": "markdown",
   "metadata": {},
   "source": [
    "***В столбце с высотой потолков сначала все значения,которые больше 5 метро( выше 5 метров потолки в обычных квартирах вряд ли существуют), разделил на 10, предполагая ,что ошиблись при занесении этих значений и точку не туда поставили. Потом ограничил высоту от2 до 5 метров.**"
   ]
  },
  {
   "cell_type": "markdown",
   "metadata": {},
   "source": [
    "#### Проверка наличия явных дубликатов\n"
   ]
  },
  {
   "cell_type": "code",
   "execution_count": 28,
   "metadata": {},
   "outputs": [
    {
     "data": {
      "text/plain": [
       "0"
      ]
     },
     "execution_count": 28,
     "metadata": {},
     "output_type": "execute_result"
    }
   ],
   "source": [
    "df.duplicated().sum()"
   ]
  },
  {
   "cell_type": "markdown",
   "metadata": {},
   "source": [
    "Явные дубликаты отсутствуют."
   ]
  },
  {
   "cell_type": "markdown",
   "metadata": {},
   "source": [
    "### Посчитайте и добавьте в таблицу новые столбцы"
   ]
  },
  {
   "cell_type": "markdown",
   "metadata": {},
   "source": [
    "#### Цена одного квадратного метра."
   ]
  },
  {
   "cell_type": "code",
   "execution_count": 29,
   "metadata": {},
   "outputs": [],
   "source": [
    "df['price_per_metre']=df['last_price']/df['total_area']"
   ]
  },
  {
   "cell_type": "markdown",
   "metadata": {},
   "source": [
    "#### День недели публикации объявления"
   ]
  },
  {
   "cell_type": "code",
   "execution_count": 30,
   "metadata": {},
   "outputs": [],
   "source": [
    "df['weekday']=df['first_day_exposition'].dt.weekday "
   ]
  },
  {
   "cell_type": "markdown",
   "metadata": {},
   "source": [
    "#### Месяц публикации объявления"
   ]
  },
  {
   "cell_type": "code",
   "execution_count": 31,
   "metadata": {},
   "outputs": [],
   "source": [
    "df['month']=df['first_day_exposition'].dt.month "
   ]
  },
  {
   "cell_type": "markdown",
   "metadata": {},
   "source": [
    "#### Год публикации объявления"
   ]
  },
  {
   "cell_type": "code",
   "execution_count": 32,
   "metadata": {},
   "outputs": [],
   "source": [
    "df['year']=df['first_day_exposition'].dt.year "
   ]
  },
  {
   "cell_type": "markdown",
   "metadata": {},
   "source": [
    "#### Тип этажа квартиры"
   ]
  },
  {
   "cell_type": "code",
   "execution_count": 33,
   "metadata": {},
   "outputs": [],
   "source": [
    "def floor_type(current,total):\n",
    "    if current == total:\n",
    "        return 'последний'\n",
    "    elif current == 1:\n",
    "        return 'первый'\n",
    "    return 'другой'"
   ]
  },
  {
   "cell_type": "code",
   "execution_count": 34,
   "metadata": {},
   "outputs": [],
   "source": [
    "df['floor_type']=df.apply(lambda x: floor_type(x.floor,x.floors_total),axis=1)"
   ]
  },
  {
   "cell_type": "markdown",
   "metadata": {},
   "source": [
    "#### Расстояние до центра города в километрах"
   ]
  },
  {
   "cell_type": "code",
   "execution_count": 35,
   "metadata": {},
   "outputs": [],
   "source": [
    "df['km_to_city']=(df['cityCenters_nearest']/1000).apply(np.floor)"
   ]
  },
  {
   "cell_type": "code",
   "execution_count": 36,
   "metadata": {},
   "outputs": [
    {
     "data": {
      "text/html": [
       "<div>\n",
       "<style scoped>\n",
       "    .dataframe tbody tr th:only-of-type {\n",
       "        vertical-align: middle;\n",
       "    }\n",
       "\n",
       "    .dataframe tbody tr th {\n",
       "        vertical-align: top;\n",
       "    }\n",
       "\n",
       "    .dataframe thead th {\n",
       "        text-align: right;\n",
       "    }\n",
       "</style>\n",
       "<table border=\"1\" class=\"dataframe\">\n",
       "  <thead>\n",
       "    <tr style=\"text-align: right;\">\n",
       "      <th></th>\n",
       "      <th>cityCenters_nearest</th>\n",
       "      <th>km_to_city</th>\n",
       "    </tr>\n",
       "  </thead>\n",
       "  <tbody>\n",
       "    <tr>\n",
       "      <th>0</th>\n",
       "      <td>16028.0</td>\n",
       "      <td>16.0</td>\n",
       "    </tr>\n",
       "    <tr>\n",
       "      <th>1</th>\n",
       "      <td>18603.0</td>\n",
       "      <td>18.0</td>\n",
       "    </tr>\n",
       "    <tr>\n",
       "      <th>2</th>\n",
       "      <td>13933.0</td>\n",
       "      <td>13.0</td>\n",
       "    </tr>\n",
       "    <tr>\n",
       "      <th>3</th>\n",
       "      <td>6800.0</td>\n",
       "      <td>6.0</td>\n",
       "    </tr>\n",
       "    <tr>\n",
       "      <th>4</th>\n",
       "      <td>8098.0</td>\n",
       "      <td>8.0</td>\n",
       "    </tr>\n",
       "    <tr>\n",
       "      <th>...</th>\n",
       "      <td>...</td>\n",
       "      <td>...</td>\n",
       "    </tr>\n",
       "    <tr>\n",
       "      <th>23693</th>\n",
       "      <td>34104.0</td>\n",
       "      <td>34.0</td>\n",
       "    </tr>\n",
       "    <tr>\n",
       "      <th>23694</th>\n",
       "      <td>4232.0</td>\n",
       "      <td>4.0</td>\n",
       "    </tr>\n",
       "    <tr>\n",
       "      <th>23695</th>\n",
       "      <td>NaN</td>\n",
       "      <td>NaN</td>\n",
       "    </tr>\n",
       "    <tr>\n",
       "      <th>23697</th>\n",
       "      <td>10364.0</td>\n",
       "      <td>10.0</td>\n",
       "    </tr>\n",
       "    <tr>\n",
       "      <th>23698</th>\n",
       "      <td>NaN</td>\n",
       "      <td>NaN</td>\n",
       "    </tr>\n",
       "  </tbody>\n",
       "</table>\n",
       "<p>23439 rows × 2 columns</p>\n",
       "</div>"
      ],
      "text/plain": [
       "       cityCenters_nearest  km_to_city\n",
       "0                  16028.0        16.0\n",
       "1                  18603.0        18.0\n",
       "2                  13933.0        13.0\n",
       "3                   6800.0         6.0\n",
       "4                   8098.0         8.0\n",
       "...                    ...         ...\n",
       "23693              34104.0        34.0\n",
       "23694               4232.0         4.0\n",
       "23695                  NaN         NaN\n",
       "23697              10364.0        10.0\n",
       "23698                  NaN         NaN\n",
       "\n",
       "[23439 rows x 2 columns]"
      ]
     },
     "execution_count": 36,
     "metadata": {},
     "output_type": "execute_result"
    }
   ],
   "source": [
    "df[['cityCenters_nearest','km_to_city']]"
   ]
  },
  {
   "cell_type": "markdown",
   "metadata": {},
   "source": [
    "### Исследовательский анализ данных:"
   ]
  },
  {
   "cell_type": "markdown",
   "metadata": {},
   "source": [
    "- общая площадь\n"
   ]
  },
  {
   "cell_type": "code",
   "execution_count": 37,
   "metadata": {},
   "outputs": [
    {
     "data": {
      "text/plain": [
       "count    23439.000000\n",
       "mean        60.357066\n",
       "std         35.586990\n",
       "min         12.000000\n",
       "25%         40.000000\n",
       "50%         52.000000\n",
       "75%         70.000000\n",
       "max        900.000000\n",
       "Name: total_area, dtype: float64"
      ]
     },
     "execution_count": 37,
     "metadata": {},
     "output_type": "execute_result"
    }
   ],
   "source": [
    "df['total_area'].describe()"
   ]
  },
  {
   "cell_type": "code",
   "execution_count": 38,
   "metadata": {},
   "outputs": [
    {
     "data": {
      "text/plain": [
       "<AxesSubplot:>"
      ]
     },
     "execution_count": 38,
     "metadata": {},
     "output_type": "execute_result"
    },
    {
     "data": {
      "image/png": "[encoded data removed]",
      "text/plain": [
       "<Figure size 432x288 with 1 Axes>"
      ]
     },
     "metadata": {
      "needs_background": "light"
     },
     "output_type": "display_data"
    }
   ],
   "source": [
    "df['total_area'].hist(range=(0,400))"
   ]
  },
  {
   "cell_type": "markdown",
   "metadata": {},
   "source": [
    "Анализируя распределение площадей квартир на основании графика и таблицы с основными статистичискими параметрами , можно сказать что общаяя площадь варируется от 12 до 900 метров, средняя площадь квартир равна почти 62 кв.м."
   ]
  },
  {
   "cell_type": "markdown",
   "metadata": {},
   "source": [
    "- жилая площадь"
   ]
  },
  {
   "cell_type": "code",
   "execution_count": 39,
   "metadata": {},
   "outputs": [
    {
     "data": {
      "text/plain": [
       "count    21600.000000\n",
       "mean        34.469456\n",
       "std         22.026253\n",
       "min          2.000000\n",
       "25%         18.600000\n",
       "50%         30.000000\n",
       "75%         42.300000\n",
       "max        409.700000\n",
       "Name: living_area, dtype: float64"
      ]
     },
     "execution_count": 39,
     "metadata": {},
     "output_type": "execute_result"
    }
   ],
   "source": [
    "df['living_area'].describe()"
   ]
  },
  {
   "cell_type": "code",
   "execution_count": 40,
   "metadata": {},
   "outputs": [
    {
     "data": {
      "text/plain": [
       "<AxesSubplot:>"
      ]
     },
     "execution_count": 40,
     "metadata": {},
     "output_type": "execute_result"
    },
    {
     "data": {
      "image/png": "[encoded data removed]",
      "text/plain": [
       "<Figure size 432x288 with 1 Axes>"
      ]
     },
     "metadata": {
      "needs_background": "light"
     },
     "output_type": "display_data"
    }
   ],
   "source": [
    "df['living_area'].hist(range=(0,300))"
   ]
  },
  {
   "cell_type": "markdown",
   "metadata": {},
   "source": [
    "Анализируя распределение жилых площадей квартир на основании графика и таблицы с основными статистичискими параметрами , можно сказать что жилая площадь варируется от 2 до 409 метров, средняя жилая площадь квартир равна почти 36 кв.м. Площадь в 2 кв.м. очень подозрительна.<br>\n",
    "Число объявлений,где заполнено поле с жилой площадью практически на 1000 меньше чем число объявлений с заполнеными данными по общей площади, тоже стоит держать в уме."
   ]
  },
  {
   "cell_type": "markdown",
   "metadata": {},
   "source": [
    "- площадь кухни"
   ]
  },
  {
   "cell_type": "code",
   "execution_count": 41,
   "metadata": {},
   "outputs": [
    {
     "data": {
      "text/plain": [
       "count    21249.000000\n",
       "mean        10.569285\n",
       "std          5.896897\n",
       "min          1.300000\n",
       "25%          7.000000\n",
       "50%          9.110000\n",
       "75%         12.000000\n",
       "max        112.000000\n",
       "Name: kitchen_area, dtype: float64"
      ]
     },
     "execution_count": 41,
     "metadata": {},
     "output_type": "execute_result"
    }
   ],
   "source": [
    "df['kitchen_area'].describe()"
   ]
  },
  {
   "cell_type": "code",
   "execution_count": 42,
   "metadata": {},
   "outputs": [
    {
     "data": {
      "text/plain": [
       "<AxesSubplot:>"
      ]
     },
     "execution_count": 42,
     "metadata": {},
     "output_type": "execute_result"
    },
    {
     "data": {
      "image/png": "[encoded data removed]",
      "text/plain": [
       "<Figure size 432x288 with 1 Axes>"
      ]
     },
     "metadata": {
      "needs_background": "light"
     },
     "output_type": "display_data"
    }
   ],
   "source": [
    "df['kitchen_area'].hist(range=(0,80))"
   ]
  },
  {
   "cell_type": "markdown",
   "metadata": {},
   "source": [
    "Анализируя распределение  площадей кухонь на основании графика и таблицы с основными статистичискими параметрами , можно сказать что  площадь кухонь варируется от 1.3 до 112 метров, средняя  площадь кухонь равна  10.5 кв.м. Площадь в 1.3 кв.м. вряд ли возможно в реальности.\n"
   ]
  },
  {
   "cell_type": "markdown",
   "metadata": {},
   "source": [
    "- цена объекта"
   ]
  },
  {
   "cell_type": "code",
   "execution_count": 43,
   "metadata": {},
   "outputs": [],
   "source": [
    "df['last_price_lemon']=df['last_price']/1000000"
   ]
  },
  {
   "cell_type": "code",
   "execution_count": 44,
   "metadata": {},
   "outputs": [
    {
     "data": {
      "text/plain": [
       "count    23439.000000\n",
       "mean         6.549562\n",
       "std         10.852778\n",
       "min          0.012190\n",
       "25%          3.450000\n",
       "50%          4.650000\n",
       "75%          6.800000\n",
       "max        763.000000\n",
       "Name: last_price_lemon, dtype: float64"
      ]
     },
     "execution_count": 44,
     "metadata": {},
     "output_type": "execute_result"
    }
   ],
   "source": [
    "df['last_price_lemon'].describe()"
   ]
  },
  {
   "cell_type": "code",
   "execution_count": 45,
   "metadata": {},
   "outputs": [
    {
     "data": {
      "text/plain": [
       "<AxesSubplot:>"
      ]
     },
     "execution_count": 45,
     "metadata": {},
     "output_type": "execute_result"
    },
    {
     "data": {
      "image/png": "[encoded data removed]",
      "text/plain": [
       "<Figure size 432x288 with 1 Axes>"
      ]
     },
     "metadata": {
      "needs_background": "light"
     },
     "output_type": "display_data"
    }
   ],
   "source": [
    "df['last_price_lemon'].hist(range=(0,200))"
   ]
  },
  {
   "cell_type": "markdown",
   "metadata": {},
   "source": [
    "Анализируя распределение стоимости квартир на основании графика и таблицы с основными статистичискими параметрами , можно сказать что стоимость квартир варируется от 0.01  до 420 миллионов, средняя  стоимость квартиры  равна почти 7 миллионов."
   ]
  },
  {
   "cell_type": "markdown",
   "metadata": {},
   "source": [
    "- количество комнат"
   ]
  },
  {
   "cell_type": "code",
   "execution_count": 46,
   "metadata": {},
   "outputs": [
    {
     "data": {
      "text/plain": [
       "count    23439.000000\n",
       "mean         2.071718\n",
       "std          1.079296\n",
       "min          0.000000\n",
       "25%          1.000000\n",
       "50%          2.000000\n",
       "75%          3.000000\n",
       "max         19.000000\n",
       "Name: rooms, dtype: float64"
      ]
     },
     "execution_count": 46,
     "metadata": {},
     "output_type": "execute_result"
    }
   ],
   "source": [
    "df['rooms'].describe()"
   ]
  },
  {
   "cell_type": "code",
   "execution_count": 47,
   "metadata": {},
   "outputs": [
    {
     "data": {
      "text/plain": [
       "<AxesSubplot:>"
      ]
     },
     "execution_count": 47,
     "metadata": {},
     "output_type": "execute_result"
    },
    {
     "data": {
      "image/png": "[encoded data removed]",
      "text/plain": [
       "<Figure size 432x288 with 1 Axes>"
      ]
     },
     "metadata": {
      "needs_background": "light"
     },
     "output_type": "display_data"
    }
   ],
   "source": [
    "df['rooms'].hist()"
   ]
  },
  {
   "cell_type": "code",
   "execution_count": 48,
   "metadata": {},
   "outputs": [
    {
     "data": {
      "text/plain": [
       "1     7963\n",
       "2     7839\n",
       "3     5758\n",
       "4     1172\n",
       "5      323\n",
       "0      191\n",
       "6      103\n",
       "7       59\n",
       "8       12\n",
       "9        8\n",
       "10       3\n",
       "11       2\n",
       "14       2\n",
       "19       1\n",
       "16       1\n",
       "12       1\n",
       "15       1\n",
       "Name: rooms, dtype: int64"
      ]
     },
     "execution_count": 48,
     "metadata": {},
     "output_type": "execute_result"
    }
   ],
   "source": [
    "df['rooms'].value_counts()"
   ]
  },
  {
   "cell_type": "markdown",
   "metadata": {},
   "source": [
    "Анализируя распределение количества комнат в  квартирах на основании графика и таблицы с основными статистичискими параметрами , можно сказать что количество комнат  варируется от 0  до 16 , среднее количество комнат равном двум. 81 объявление с количеством комнат равным 0."
   ]
  },
  {
   "cell_type": "markdown",
   "metadata": {},
   "source": [
    "- высота потолков"
   ]
  },
  {
   "cell_type": "code",
   "execution_count": 49,
   "metadata": {},
   "outputs": [
    {
     "data": {
      "text/plain": [
       "count    23439.000000\n",
       "mean         2.703006\n",
       "std          0.221572\n",
       "min          2.000000\n",
       "25%          2.550000\n",
       "50%          2.700000\n",
       "75%          2.700000\n",
       "max          5.000000\n",
       "Name: ceiling_height, dtype: float64"
      ]
     },
     "execution_count": 49,
     "metadata": {},
     "output_type": "execute_result"
    }
   ],
   "source": [
    "df['ceiling_height'].describe()"
   ]
  },
  {
   "cell_type": "code",
   "execution_count": 50,
   "metadata": {},
   "outputs": [
    {
     "data": {
      "text/plain": [
       "<AxesSubplot:>"
      ]
     },
     "execution_count": 50,
     "metadata": {},
     "output_type": "execute_result"
    },
    {
     "data": {
      "image/png": "[encoded data removed]",
      "text/plain": [
       "<Figure size 432x288 with 1 Axes>"
      ]
     },
     "metadata": {
      "needs_background": "light"
     },
     "output_type": "display_data"
    }
   ],
   "source": [
    "df['ceiling_height'].hist()"
   ]
  },
  {
   "cell_type": "code",
   "execution_count": 51,
   "metadata": {},
   "outputs": [
    {
     "data": {
      "text/plain": [
       "2.70    7761\n",
       "2.50    4167\n",
       "2.60    2135\n",
       "2.55    1571\n",
       "2.75    1122\n",
       "        ... \n",
       "3.59       1\n",
       "3.48       1\n",
       "4.90       1\n",
       "2.49       1\n",
       "4.65       1\n",
       "Name: ceiling_height, Length: 173, dtype: int64"
      ]
     },
     "execution_count": 51,
     "metadata": {},
     "output_type": "execute_result"
    }
   ],
   "source": [
    "df['ceiling_height'].value_counts()"
   ]
  },
  {
   "cell_type": "markdown",
   "metadata": {},
   "source": [
    "Анализируя распределение высот потолков в  квартирах на основании графика и таблицы с основными статистичискими параметрами , можно сказать что высоты потолков варируется от 2  до 5 , средняя высота потолков равном 2.7. Стоит отметить,что диапазон 2-5 метров был установлен мной выше в разделе обработки аномальных значений. Для более подробного анализы этих параметров стоило бы перепроверить исходные данные, проконсультироваться, возможно изменить диапазон."
   ]
  },
  {
   "cell_type": "markdown",
   "metadata": {},
   "source": [
    "- этаж квартиры"
   ]
  },
  {
   "cell_type": "code",
   "execution_count": 52,
   "metadata": {},
   "outputs": [
    {
     "data": {
      "text/plain": [
       "count    23439.000000\n",
       "mean         5.893852\n",
       "std          4.876904\n",
       "min          1.000000\n",
       "25%          2.000000\n",
       "50%          4.000000\n",
       "75%          8.000000\n",
       "max         33.000000\n",
       "Name: floor, dtype: float64"
      ]
     },
     "execution_count": 52,
     "metadata": {},
     "output_type": "execute_result"
    }
   ],
   "source": [
    "df['floor'].describe()"
   ]
  },
  {
   "cell_type": "code",
   "execution_count": 53,
   "metadata": {},
   "outputs": [
    {
     "data": {
      "text/plain": [
       "<AxesSubplot:>"
      ]
     },
     "execution_count": 53,
     "metadata": {},
     "output_type": "execute_result"
    },
    {
     "data": {
      "image/png": "[encoded data removed]",
      "text/plain": [
       "<Figure size 432x288 with 1 Axes>"
      ]
     },
     "metadata": {
      "needs_background": "light"
     },
     "output_type": "display_data"
    }
   ],
   "source": [
    "df['floor'].hist()"
   ]
  },
  {
   "cell_type": "code",
   "execution_count": 54,
   "metadata": {},
   "outputs": [
    {
     "data": {
      "text/plain": [
       "2     3325\n",
       "3     3041\n",
       "1     2871\n",
       "4     2777\n",
       "5     2591\n",
       "6     1292\n",
       "7     1210\n",
       "8     1074\n",
       "9     1045\n",
       "10     684\n",
       "11     520\n",
       "12     519\n",
       "13     376\n",
       "15     339\n",
       "14     333\n",
       "16     315\n",
       "17     225\n",
       "18     175\n",
       "19     144\n",
       "21     119\n",
       "22     111\n",
       "20     108\n",
       "23      98\n",
       "24      61\n",
       "25      46\n",
       "26      24\n",
       "27      10\n",
       "28       1\n",
       "29       1\n",
       "32       1\n",
       "30       1\n",
       "33       1\n",
       "31       1\n",
       "Name: floor, dtype: int64"
      ]
     },
     "execution_count": 54,
     "metadata": {},
     "output_type": "execute_result"
    }
   ],
   "source": [
    "df['floor'].value_counts()"
   ]
  },
  {
   "cell_type": "markdown",
   "metadata": {},
   "source": [
    "Анализируя распределение этажей квартир из объявлений на основании графика и таблицы с основными статистичискими параметрами , можно сказать что этажность продаваемых квартир варируется от 1  до 30 , медианный этаж четвертый. Больше всего квартир продается на втором этаже."
   ]
  },
  {
   "cell_type": "markdown",
   "metadata": {},
   "source": [
    "- тип этажа квартиры"
   ]
  },
  {
   "cell_type": "code",
   "execution_count": 55,
   "metadata": {},
   "outputs": [
    {
     "data": {
      "text/plain": [
       "другой       17282\n",
       "последний     3309\n",
       "первый        2848\n",
       "Name: floor_type, dtype: int64"
      ]
     },
     "execution_count": 55,
     "metadata": {},
     "output_type": "execute_result"
    }
   ],
   "source": [
    "df['floor_type'].value_counts()"
   ]
  },
  {
   "cell_type": "code",
   "execution_count": 56,
   "metadata": {},
   "outputs": [
    {
     "data": {
      "text/plain": [
       "<AxesSubplot:>"
      ]
     },
     "execution_count": 56,
     "metadata": {},
     "output_type": "execute_result"
    },
    {
     "data": {
      "image/png": "[encoded data removed]",
      "text/plain": [
       "<Figure size 432x288 with 1 Axes>"
      ]
     },
     "metadata": {
      "needs_background": "light"
     },
     "output_type": "display_data"
    }
   ],
   "source": [
    "df['floor_type'].hist()"
   ]
  },
  {
   "cell_type": "markdown",
   "metadata": {},
   "source": [
    "Данный график с распределение дополняет предыдущий, но тут данные разбиты на три группы: первы, последний и другой этаж. По нему видно,что больше всего квартир продается с \"другого\" этажа."
   ]
  },
  {
   "cell_type": "markdown",
   "metadata": {},
   "source": [
    "- общее количество этажей в доме"
   ]
  },
  {
   "cell_type": "code",
   "execution_count": 57,
   "metadata": {},
   "outputs": [
    {
     "data": {
      "text/plain": [
       "count    23439.000000\n",
       "mean        10.708861\n",
       "std          6.592743\n",
       "min          1.000000\n",
       "25%          5.000000\n",
       "50%          9.000000\n",
       "75%         16.000000\n",
       "max         60.000000\n",
       "Name: floors_total, dtype: float64"
      ]
     },
     "execution_count": 57,
     "metadata": {},
     "output_type": "execute_result"
    }
   ],
   "source": [
    "df['floors_total'].describe()"
   ]
  },
  {
   "cell_type": "code",
   "execution_count": 58,
   "metadata": {},
   "outputs": [
    {
     "data": {
      "text/plain": [
       "<AxesSubplot:>"
      ]
     },
     "execution_count": 58,
     "metadata": {},
     "output_type": "execute_result"
    },
    {
     "data": {
      "image/png": "[encoded data removed]",
      "text/plain": [
       "<Figure size 432x288 with 1 Axes>"
      ]
     },
     "metadata": {
      "needs_background": "light"
     },
     "output_type": "display_data"
    }
   ],
   "source": [
    "df['floors_total'].hist()"
   ]
  },
  {
   "cell_type": "code",
   "execution_count": 59,
   "metadata": {},
   "outputs": [
    {
     "data": {
      "text/plain": [
       "5     5716\n",
       "9     3756\n",
       "16    1373\n",
       "12    1360\n",
       "4     1181\n",
       "10    1174\n",
       "25    1075\n",
       "6      907\n",
       "17     832\n",
       "3      645\n",
       "7      589\n",
       "14     552\n",
       "18     504\n",
       "24     463\n",
       "8      388\n",
       "15     365\n",
       "2      360\n",
       "23     350\n",
       "19     339\n",
       "22     286\n",
       "20     271\n",
       "13     229\n",
       "11     202\n",
       "27     164\n",
       "21     158\n",
       "26     124\n",
       "35      24\n",
       "1       23\n",
       "28      21\n",
       "36       3\n",
       "34       1\n",
       "60       1\n",
       "52       1\n",
       "29       1\n",
       "33       1\n",
       "Name: floors_total, dtype: int64"
      ]
     },
     "execution_count": 59,
     "metadata": {},
     "output_type": "execute_result"
    }
   ],
   "source": [
    "df['floors_total'].value_counts()"
   ]
  },
  {
   "cell_type": "markdown",
   "metadata": {},
   "source": [
    "Анализируя распределение общего количества этажей в домах где продаются квартиры, на основании графика и таблицы с основными статистичискими параметрами , можно сказать что этажность домов где продаются квартиры варируется от 1  до 60, медианный этаж 9. Больше всего квартир продается в домах с количеством этажей равным пяти."
   ]
  },
  {
   "cell_type": "markdown",
   "metadata": {},
   "source": [
    "- расстояние до центра города в метрах"
   ]
  },
  {
   "cell_type": "code",
   "execution_count": 60,
   "metadata": {},
   "outputs": [
    {
     "data": {
      "text/plain": [
       "count    18125.000000\n",
       "mean     14190.283172\n",
       "std       8608.373153\n",
       "min        181.000000\n",
       "25%       9257.000000\n",
       "50%      13073.000000\n",
       "75%      16275.000000\n",
       "max      65968.000000\n",
       "Name: cityCenters_nearest, dtype: float64"
      ]
     },
     "execution_count": 60,
     "metadata": {},
     "output_type": "execute_result"
    }
   ],
   "source": [
    "df['cityCenters_nearest'].describe()"
   ]
  },
  {
   "cell_type": "code",
   "execution_count": 61,
   "metadata": {},
   "outputs": [
    {
     "data": {
      "text/plain": [
       "<AxesSubplot:>"
      ]
     },
     "execution_count": 61,
     "metadata": {},
     "output_type": "execute_result"
    },
    {
     "data": {
      "image/png": "[encoded data removed]",
      "text/plain": [
       "<Figure size 432x288 with 1 Axes>"
      ]
     },
     "metadata": {
      "needs_background": "light"
     },
     "output_type": "display_data"
    }
   ],
   "source": [
    "df['cityCenters_nearest'].hist()"
   ]
  },
  {
   "cell_type": "markdown",
   "metadata": {},
   "source": [
    "Анализируя распределение расстояний от домов где продаются квартиры до центра города, на основании графика и таблицы с основными статистичискими параметрами , можно сказать что в среднем до ближайшего города 1.4 км. Самый  дальний дом находится на расстоянии 65 км, ближайший на расстоянии 181 м."
   ]
  },
  {
   "cell_type": "markdown",
   "metadata": {},
   "source": [
    "- расстояние до ближайшего аэропорта"
   ]
  },
  {
   "cell_type": "code",
   "execution_count": 62,
   "metadata": {},
   "outputs": [
    {
     "data": {
      "text/plain": [
       "count    18033.000000\n",
       "mean     28793.801974\n",
       "std      12631.795837\n",
       "min          0.000000\n",
       "25%      18557.000000\n",
       "50%      26755.000000\n",
       "75%      37273.000000\n",
       "max      84869.000000\n",
       "Name: airports_nearest, dtype: float64"
      ]
     },
     "execution_count": 62,
     "metadata": {},
     "output_type": "execute_result"
    }
   ],
   "source": [
    "df['airports_nearest'].describe()"
   ]
  },
  {
   "cell_type": "code",
   "execution_count": 63,
   "metadata": {},
   "outputs": [
    {
     "data": {
      "text/plain": [
       "<AxesSubplot:>"
      ]
     },
     "execution_count": 63,
     "metadata": {},
     "output_type": "execute_result"
    },
    {
     "data": {
      "image/png": "[encoded data removed]",
      "text/plain": [
       "<Figure size 432x288 with 1 Axes>"
      ]
     },
     "metadata": {
      "needs_background": "light"
     },
     "output_type": "display_data"
    }
   ],
   "source": [
    "df['airports_nearest'].hist()"
   ]
  },
  {
   "cell_type": "markdown",
   "metadata": {},
   "source": [
    "Анализируя распределение расстояний от домов где продаются квартиры до аэропорта, на основании графика и таблицы с основными статистичискими параметрами , можно сказать что в среднем до ближайшего аэропорта 28 км. Самый  дальний дом находится на расстоянии 84 км, ближайший на расстоянии 0 м, что вызывает вопросы к данным."
   ]
  },
  {
   "cell_type": "markdown",
   "metadata": {},
   "source": [
    "- расстояние до ближайшего парка"
   ]
  },
  {
   "cell_type": "code",
   "execution_count": 64,
   "metadata": {},
   "outputs": [
    {
     "data": {
      "text/plain": [
       "count    8027.000000\n",
       "mean      490.760309\n",
       "std       341.594847\n",
       "min         1.000000\n",
       "25%       288.000000\n",
       "50%       455.000000\n",
       "75%       612.000000\n",
       "max      3190.000000\n",
       "Name: parks_nearest, dtype: float64"
      ]
     },
     "execution_count": 64,
     "metadata": {},
     "output_type": "execute_result"
    }
   ],
   "source": [
    "df['parks_nearest'].describe()"
   ]
  },
  {
   "cell_type": "code",
   "execution_count": 65,
   "metadata": {},
   "outputs": [
    {
     "data": {
      "text/plain": [
       "<AxesSubplot:>"
      ]
     },
     "execution_count": 65,
     "metadata": {},
     "output_type": "execute_result"
    },
    {
     "data": {
      "image/png": "[encoded data removed]",
      "text/plain": [
       "<Figure size 432x288 with 1 Axes>"
      ]
     },
     "metadata": {
      "needs_background": "light"
     },
     "output_type": "display_data"
    }
   ],
   "source": [
    "df['parks_nearest'].hist()"
   ]
  },
  {
   "cell_type": "markdown",
   "metadata": {},
   "source": [
    "Анализируя распределение расстояний от домов где продаются квартиры до парка  , на основании графика и таблицы с основными статистичискими параметрами , можно сказать что в среднем до ближайшего парка 477 м. Самый  дальний дом находится на расстоянии 3 км, ближайший на расстоянии 3 м."
   ]
  },
  {
   "cell_type": "markdown",
   "metadata": {},
   "source": [
    "- день и месяц публикации объявления"
   ]
  },
  {
   "cell_type": "code",
   "execution_count": 66,
   "metadata": {},
   "outputs": [
    {
     "data": {
      "text/plain": [
       "2     2619\n",
       "3     2558\n",
       "11    2348\n",
       "4     2347\n",
       "10    2099\n",
       "9     1962\n",
       "6     1732\n",
       "8     1728\n",
       "7     1677\n",
       "12    1628\n",
       "1     1485\n",
       "5     1256\n",
       "Name: first_day_exposition, dtype: int64"
      ]
     },
     "execution_count": 66,
     "metadata": {},
     "output_type": "execute_result"
    }
   ],
   "source": [
    "df['first_day_exposition'].dt.month.value_counts()"
   ]
  },
  {
   "cell_type": "code",
   "execution_count": 67,
   "metadata": {},
   "outputs": [
    {
     "data": {
      "text/plain": [
       "<AxesSubplot:>"
      ]
     },
     "execution_count": 67,
     "metadata": {},
     "output_type": "execute_result"
    },
    {
     "data": {
      "image/png": "[encoded data removed]",
      "text/plain": [
       "<Figure size 432x288 with 1 Axes>"
      ]
     },
     "metadata": {
      "needs_background": "light"
     },
     "output_type": "display_data"
    }
   ],
   "source": [
    "df['first_day_exposition'].dt.month.hist()"
   ]
  },
  {
   "cell_type": "markdown",
   "metadata": {},
   "source": [
    "По данному распределению видно,что объявления публикуются активнее в начале и конце года, в середине года количество публикаций меньше более чем в два раза."
   ]
  },
  {
   "cell_type": "code",
   "execution_count": 68,
   "metadata": {},
   "outputs": [
    {
     "data": {
      "text/plain": [
       "1     1119\n",
       "10    1088\n",
       "26     887\n",
       "12     861\n",
       "20     860\n",
       "14     828\n",
       "11     825\n",
       "13     821\n",
       "15     819\n",
       "21     814\n",
       "22     795\n",
       "27     790\n",
       "9      781\n",
       "8      773\n",
       "19     764\n",
       "18     758\n",
       "25     750\n",
       "28     742\n",
       "17     740\n",
       "16     724\n",
       "7      720\n",
       "23     708\n",
       "4      699\n",
       "24     676\n",
       "29     674\n",
       "2      669\n",
       "6      657\n",
       "3      644\n",
       "5      615\n",
       "30     518\n",
       "31     320\n",
       "Name: first_day_exposition, dtype: int64"
      ]
     },
     "execution_count": 68,
     "metadata": {},
     "output_type": "execute_result"
    }
   ],
   "source": [
    "df['first_day_exposition'].dt.day.value_counts()"
   ]
  },
  {
   "cell_type": "code",
   "execution_count": 69,
   "metadata": {},
   "outputs": [
    {
     "data": {
      "text/plain": [
       "<AxesSubplot:>"
      ]
     },
     "execution_count": 69,
     "metadata": {},
     "output_type": "execute_result"
    },
    {
     "data": {
      "image/png": "[encoded data removed]",
      "text/plain": [
       "<Figure size 432x288 with 1 Axes>"
      ]
     },
     "metadata": {
      "needs_background": "light"
     },
     "output_type": "display_data"
    }
   ],
   "source": [
    "df['first_day_exposition'].dt.day.hist()"
   ]
  },
  {
   "cell_type": "markdown",
   "metadata": {},
   "source": [
    "По данному распределению видно,что объявления публикуются практичиски с одинаковой частотой каждый день в течении месяца."
   ]
  },
  {
   "cell_type": "markdown",
   "metadata": {},
   "source": [
    "- Изучите, как быстро продавались квартиры"
   ]
  },
  {
   "cell_type": "code",
   "execution_count": 70,
   "metadata": {},
   "outputs": [
    {
     "data": {
      "text/plain": [
       "count    23439.000000\n",
       "mean       156.730108\n",
       "std        213.816810\n",
       "min          0.000000\n",
       "25%         22.000000\n",
       "50%         74.000000\n",
       "75%        199.000000\n",
       "max       1580.000000\n",
       "Name: days_exposition, dtype: float64"
      ]
     },
     "execution_count": 70,
     "metadata": {},
     "output_type": "execute_result"
    }
   ],
   "source": [
    "df['days_exposition'].describe()"
   ]
  },
  {
   "cell_type": "code",
   "execution_count": 93,
   "metadata": {},
   "outputs": [
    {
     "data": {
      "text/plain": [
       "<AxesSubplot:>"
      ]
     },
     "execution_count": 93,
     "metadata": {},
     "output_type": "execute_result"
    },
    {
     "data": {
      "image/png": "[encoded data removed]",
      "text/plain": [
       "<Figure size 432x288 with 1 Axes>"
      ]
     },
     "metadata": {
      "needs_background": "light"
     },
     "output_type": "display_data"
    }
   ],
   "source": [
    "df['days_exposition'].hist(bins = 100)"
   ]
  },
  {
   "cell_type": "code",
   "execution_count": 72,
   "metadata": {},
   "outputs": [
    {
     "data": {
      "text/plain": [
       "0.0       3143\n",
       "45.0       859\n",
       "60.0       537\n",
       "7.0        233\n",
       "30.0       207\n",
       "          ... \n",
       "1114.0       1\n",
       "920.0        1\n",
       "1135.0       1\n",
       "1105.0       1\n",
       "1174.0       1\n",
       "Name: days_exposition, Length: 1140, dtype: int64"
      ]
     },
     "execution_count": 72,
     "metadata": {},
     "output_type": "execute_result"
    }
   ],
   "source": [
    "df['days_exposition'].value_counts()"
   ]
  },
  {
   "cell_type": "markdown",
   "metadata": {},
   "source": [
    "По данному распределению видно,что продажа квартиры занимает от 0 до 1580 дней. В 1580 дней еще можно поверить, хоть и мало вероятно. Непонятно что означает 0 ,либо продажу в тот же день, либо просто ошибку в заполнении.Медианное значение количества дней на продажу равно 72. Больше всего продали за 45 дней, если не считать нули.<br>\n",
    "Чем больше дней висит объявление, тем меньшее количество квартир продаётся. Падение продаж начинается где-то с 25 дней."
   ]
  },
  {
   "cell_type": "markdown",
   "metadata": {},
   "source": [
    "### Изучим какие факторы больше всего влияют на общую (полную) стоимость объекта."
   ]
  },
  {
   "cell_type": "markdown",
   "metadata": {},
   "source": [
    "- Изучим зависимость полной стоимости квартиры от общей площади."
   ]
  },
  {
   "cell_type": "code",
   "execution_count": 73,
   "metadata": {},
   "outputs": [
    {
     "data": {
      "image/png": "[encoded data removed]",
      "text/plain": [
       "<Figure size 864x432 with 1 Axes>"
      ]
     },
     "metadata": {
      "needs_background": "light"
     },
     "output_type": "display_data"
    }
   ],
   "source": [
    "df.pivot_table(index='total_area',values='last_price_lemon').plot(style='o',grid=True,figsize=(12,6))\n",
    "plt.show()"
   ]
  },
  {
   "cell_type": "code",
   "execution_count": 74,
   "metadata": {},
   "outputs": [
    {
     "data": {
      "text/plain": [
       "0.6519280737284339"
      ]
     },
     "execution_count": 74,
     "metadata": {},
     "output_type": "execute_result"
    }
   ],
   "source": [
    "df['total_area'].corr(df['last_price_lemon'])"
   ]
  },
  {
   "cell_type": "markdown",
   "metadata": {},
   "source": [
    "Зависимость цены квартиры от общей площади квартиры есть."
   ]
  },
  {
   "cell_type": "markdown",
   "metadata": {},
   "source": [
    "- Изучим зависимость полной стоимости квартиры от жилой площади."
   ]
  },
  {
   "cell_type": "code",
   "execution_count": 75,
   "metadata": {},
   "outputs": [
    {
     "data": {
      "image/png": "[encoded data removed]",
      "text/plain": [
       "<Figure size 864x432 with 1 Axes>"
      ]
     },
     "metadata": {
      "needs_background": "light"
     },
     "output_type": "display_data"
    }
   ],
   "source": [
    "df.pivot_table(index='living_area',values='last_price_lemon').plot(style='o',grid=True,figsize=(12,6))\n",
    "plt.show()"
   ]
  },
  {
   "cell_type": "code",
   "execution_count": 76,
   "metadata": {},
   "outputs": [
    {
     "data": {
      "text/plain": [
       "0.563704258178081"
      ]
     },
     "execution_count": 76,
     "metadata": {},
     "output_type": "execute_result"
    }
   ],
   "source": [
    "df['living_area'].corr(df['last_price_lemon'])"
   ]
  },
  {
   "cell_type": "markdown",
   "metadata": {},
   "source": [
    "Зависимость цены квартиры от площади жилого помещения есть."
   ]
  },
  {
   "cell_type": "markdown",
   "metadata": {},
   "source": [
    "- Изучим зависимость полной стоимости квартиры от площади кухни."
   ]
  },
  {
   "cell_type": "code",
   "execution_count": 77,
   "metadata": {},
   "outputs": [
    {
     "data": {
      "image/png": "[encoded data removed]",
      "text/plain": [
       "<Figure size 864x432 with 1 Axes>"
      ]
     },
     "metadata": {
      "needs_background": "light"
     },
     "output_type": "display_data"
    }
   ],
   "source": [
    "df.pivot_table(index='kitchen_area',values='last_price_lemon').plot(style='o',grid=True,figsize=(12,6))\n",
    "plt.show()"
   ]
  },
  {
   "cell_type": "code",
   "execution_count": 78,
   "metadata": {},
   "outputs": [
    {
     "data": {
      "text/plain": [
       "0.5184730869238765"
      ]
     },
     "execution_count": 78,
     "metadata": {},
     "output_type": "execute_result"
    }
   ],
   "source": [
    "df['kitchen_area'].corr(df['last_price_lemon'])"
   ]
  },
  {
   "cell_type": "markdown",
   "metadata": {},
   "source": [
    "Зависимость цены квартиры от площади кухни есть."
   ]
  },
  {
   "cell_type": "markdown",
   "metadata": {},
   "source": [
    "- Изучим зависимость полной стоимости квартиры от количества комнат."
   ]
  },
  {
   "cell_type": "code",
   "execution_count": 79,
   "metadata": {},
   "outputs": [
    {
     "data": {
      "image/png": "[encoded data removed]",
      "text/plain": [
       "<Figure size 864x432 with 1 Axes>"
      ]
     },
     "metadata": {
      "needs_background": "light"
     },
     "output_type": "display_data"
    }
   ],
   "source": [
    "df.pivot_table(index='rooms',values='last_price_lemon').plot(grid=True,figsize=(12,6))\n",
    "plt.show()"
   ]
  },
  {
   "cell_type": "code",
   "execution_count": 80,
   "metadata": {},
   "outputs": [
    {
     "data": {
      "text/plain": [
       "0.3626888336166435"
      ]
     },
     "execution_count": 80,
     "metadata": {},
     "output_type": "execute_result"
    }
   ],
   "source": [
    "df['rooms'].corr(df['last_price_lemon'])"
   ]
  },
  {
   "cell_type": "markdown",
   "metadata": {},
   "source": [
    "Зависимость цены квартиры от количества комнат есть."
   ]
  },
  {
   "cell_type": "markdown",
   "metadata": {},
   "source": [
    "- Изучим зависимость полной стоимости квартиры от типа этажа."
   ]
  },
  {
   "cell_type": "code",
   "execution_count": 81,
   "metadata": {},
   "outputs": [
    {
     "data": {
      "image/png": "[encoded data removed]",
      "text/plain": [
       "<Figure size 864x432 with 1 Axes>"
      ]
     },
     "metadata": {
      "needs_background": "light"
     },
     "output_type": "display_data"
    }
   ],
   "source": [
    "df.pivot_table(index='floor_type',values='last_price_lemon').plot(grid=True,figsize=(12,6))\n",
    "plt.show()"
   ]
  },
  {
   "cell_type": "markdown",
   "metadata": {},
   "source": [
    "Самые дешевые квартиры продаются на первом этаже. Самые дорогие на последнем."
   ]
  },
  {
   "cell_type": "markdown",
   "metadata": {},
   "source": [
    "**Изучим зависимость полной стоимости квартиры от даты размещения.**"
   ]
  },
  {
   "cell_type": "markdown",
   "metadata": {},
   "source": [
    "- зависимость стоимости от дня публикации."
   ]
  },
  {
   "cell_type": "code",
   "execution_count": 82,
   "metadata": {},
   "outputs": [
    {
     "data": {
      "image/png": "[encoded data removed]",
      "text/plain": [
       "<Figure size 864x432 with 1 Axes>"
      ]
     },
     "metadata": {
      "needs_background": "light"
     },
     "output_type": "display_data"
    }
   ],
   "source": [
    "df.pivot_table(index='weekday',values='last_price_lemon').plot(kind='bar',grid=True,figsize=(12,6))\n",
    "plt.show()"
   ]
  },
  {
   "cell_type": "markdown",
   "metadata": {},
   "source": [
    "- Зависимость стоимости от месяца публикации."
   ]
  },
  {
   "cell_type": "code",
   "execution_count": 83,
   "metadata": {},
   "outputs": [
    {
     "data": {
      "image/png": "[encoded data removed]",
      "text/plain": [
       "<Figure size 864x432 with 1 Axes>"
      ]
     },
     "metadata": {
      "needs_background": "light"
     },
     "output_type": "display_data"
    }
   ],
   "source": [
    "df.pivot_table(index='month',values='last_price_lemon').plot(kind='bar',grid=True,figsize=(12,6))\n",
    "plt.show()"
   ]
  },
  {
   "cell_type": "markdown",
   "metadata": {},
   "source": [
    "- Зависимость стоимости от года публикации."
   ]
  },
  {
   "cell_type": "code",
   "execution_count": 84,
   "metadata": {},
   "outputs": [
    {
     "data": {
      "image/png": "[encoded data removed]",
      "text/plain": [
       "<Figure size 864x432 with 1 Axes>"
      ]
     },
     "metadata": {
      "needs_background": "light"
     },
     "output_type": "display_data"
    }
   ],
   "source": [
    "df.pivot_table(index='year',values='last_price_lemon').plot(kind='bar',grid=True,figsize=(12,6))\n",
    "plt.show()"
   ]
  },
  {
   "cell_type": "markdown",
   "metadata": {},
   "source": [
    "Изучив зависимость стоимости квартир от дня,месяца и года размещения выявлено:\n",
    "- стоимость квартир немного ниже в объявлениях,которые размещались в конце недели.\n",
    "- стоимость квартир самая большая в объявлениях, которые размещались в декабре.\n",
    "- стоимость квартир по годам падала с 2014 до 2016 года, с 2016 по 2019 год стоимость примерно одинаковая."
   ]
  },
  {
   "cell_type": "markdown",
   "metadata": {},
   "source": [
    "- **Посчитайте среднюю цену одного квадратного метра в 10 населённых пунктах с наибольшим числом объявлений.** "
   ]
  },
  {
   "cell_type": "code",
   "execution_count": 85,
   "metadata": {},
   "outputs": [],
   "source": [
    "dt=df.pivot_table(index='locality_name',values='price_per_metre',aggfunc=(\n",
    "    'median','count')).sort_values('count',ascending=False)"
   ]
  },
  {
   "cell_type": "code",
   "execution_count": 86,
   "metadata": {},
   "outputs": [
    {
     "data": {
      "text/html": [
       "<div>\n",
       "<style scoped>\n",
       "    .dataframe tbody tr th:only-of-type {\n",
       "        vertical-align: middle;\n",
       "    }\n",
       "\n",
       "    .dataframe tbody tr th {\n",
       "        vertical-align: top;\n",
       "    }\n",
       "\n",
       "    .dataframe thead th {\n",
       "        text-align: right;\n",
       "    }\n",
       "</style>\n",
       "<table border=\"1\" class=\"dataframe\">\n",
       "  <thead>\n",
       "    <tr style=\"text-align: right;\">\n",
       "      <th></th>\n",
       "      <th>count</th>\n",
       "      <th>median</th>\n",
       "    </tr>\n",
       "    <tr>\n",
       "      <th>locality_name</th>\n",
       "      <th></th>\n",
       "      <th></th>\n",
       "    </tr>\n",
       "  </thead>\n",
       "  <tbody>\n",
       "    <tr>\n",
       "      <th>Санкт-Петербург</th>\n",
       "      <td>15637</td>\n",
       "      <td>104761.904762</td>\n",
       "    </tr>\n",
       "    <tr>\n",
       "      <th>поселок Мурино</th>\n",
       "      <td>552</td>\n",
       "      <td>86059.293995</td>\n",
       "    </tr>\n",
       "    <tr>\n",
       "      <th>поселок Шушары</th>\n",
       "      <td>439</td>\n",
       "      <td>76829.268293</td>\n",
       "    </tr>\n",
       "    <tr>\n",
       "      <th>Всеволожск</th>\n",
       "      <td>398</td>\n",
       "      <td>65789.473684</td>\n",
       "    </tr>\n",
       "    <tr>\n",
       "      <th>Пушкин</th>\n",
       "      <td>369</td>\n",
       "      <td>100000.000000</td>\n",
       "    </tr>\n",
       "    <tr>\n",
       "      <th>Колпино</th>\n",
       "      <td>338</td>\n",
       "      <td>74723.748474</td>\n",
       "    </tr>\n",
       "    <tr>\n",
       "      <th>поселок Парголово</th>\n",
       "      <td>327</td>\n",
       "      <td>91642.857143</td>\n",
       "    </tr>\n",
       "    <tr>\n",
       "      <th>Гатчина</th>\n",
       "      <td>307</td>\n",
       "      <td>67796.610169</td>\n",
       "    </tr>\n",
       "    <tr>\n",
       "      <th>деревня Кудрово</th>\n",
       "      <td>299</td>\n",
       "      <td>91860.465116</td>\n",
       "    </tr>\n",
       "    <tr>\n",
       "      <th>Выборг</th>\n",
       "      <td>237</td>\n",
       "      <td>58158.319871</td>\n",
       "    </tr>\n",
       "  </tbody>\n",
       "</table>\n",
       "</div>"
      ],
      "text/plain": [
       "                   count         median\n",
       "locality_name                          \n",
       "Санкт-Петербург    15637  104761.904762\n",
       "поселок Мурино       552   86059.293995\n",
       "поселок Шушары       439   76829.268293\n",
       "Всеволожск           398   65789.473684\n",
       "Пушкин               369  100000.000000\n",
       "Колпино              338   74723.748474\n",
       "поселок Парголово    327   91642.857143\n",
       "Гатчина              307   67796.610169\n",
       "деревня Кудрово      299   91860.465116\n",
       "Выборг               237   58158.319871"
      ]
     },
     "execution_count": 86,
     "metadata": {},
     "output_type": "execute_result"
    }
   ],
   "source": [
    "dt[:10]"
   ]
  },
  {
   "cell_type": "markdown",
   "metadata": {},
   "source": [
    "Больше всего объявлений в Санкт-Петербурге и стоимость одного квадратного метра там самая дорогая- почти 106 тысяч."
   ]
  },
  {
   "cell_type": "markdown",
   "metadata": {},
   "source": [
    "- Теперь выделите квартиры в Санкт-Петербурге с помощью столбца locality_name и вычислите среднюю цену каждого километра"
   ]
  },
  {
   "cell_type": "code",
   "execution_count": 87,
   "metadata": {},
   "outputs": [],
   "source": [
    "Peter_df=df.query('locality_name==\"Санкт-Петербург\"')"
   ]
  },
  {
   "cell_type": "code",
   "execution_count": 88,
   "metadata": {},
   "outputs": [
    {
     "name": "stderr",
     "output_type": "stream",
     "text": [
      "/tmp/ipykernel_325/1643274499.py:1: SettingWithCopyWarning: \n",
      "A value is trying to be set on a copy of a slice from a DataFrame.\n",
      "Try using .loc[row_indexer,col_indexer] = value instead\n",
      "\n",
      "See the caveats in the documentation: https://pandas.pydata.org/pandas-docs/stable/user_guide/indexing.html#returning-a-view-versus-a-copy\n",
      "  Peter_df['price_per_km']=Peter_df['last_price']/Peter_df['km_to_city']\n"
     ]
    }
   ],
   "source": [
    "Peter_df['price_per_km']=Peter_df['last_price']/Peter_df['km_to_city']"
   ]
  },
  {
   "cell_type": "code",
   "execution_count": 89,
   "metadata": {},
   "outputs": [
    {
     "data": {
      "text/plain": [
       "0        8.125000e+05\n",
       "2        3.996923e+05\n",
       "3        1.081667e+07\n",
       "4        1.250000e+06\n",
       "7        7.195455e+05\n",
       "             ...     \n",
       "23689    2.218750e+05\n",
       "23690    9.166667e+05\n",
       "23691    2.367500e+06\n",
       "23694    2.425000e+06\n",
       "23697    1.147500e+06\n",
       "Name: price_per_km, Length: 15637, dtype: float64"
      ]
     },
     "execution_count": 89,
     "metadata": {},
     "output_type": "execute_result"
    }
   ],
   "source": [
    "Peter_df['price_per_km']"
   ]
  },
  {
   "cell_type": "code",
   "execution_count": 90,
   "metadata": {},
   "outputs": [
    {
     "data": {
      "image/png": "[encoded data removed]",
      "text/plain": [
       "<Figure size 432x288 with 1 Axes>"
      ]
     },
     "metadata": {
      "needs_background": "light"
     },
     "output_type": "display_data"
    }
   ],
   "source": [
    "Peter_df.groupby('km_to_city')['price_per_km'].mean().plot(grid = True, title = 'Заголовок')\n",
    "plt.show()"
   ]
  },
  {
   "cell_type": "markdown",
   "metadata": {},
   "source": [
    "Чем дольше от цетра,тем дешевле стоит объект. Все логично."
   ]
  },
  {
   "cell_type": "markdown",
   "metadata": {},
   "source": [
    "### Общий вывод"
   ]
  },
  {
   "cell_type": "markdown",
   "metadata": {},
   "source": [
    "На основании полученных иследований можно зафиксировать параметры в среднем самой популярной квартиры:<br>\n",
    "общая площадь-62 км.м.<br>\n",
    "жилая площадь-36 кв.м.<br>\n",
    "площадь кухни-10.5 кв.м.<br>\n",
    "стоимость-7 млн.<br>\n",
    "кол.комнат-2<br>\n",
    "высота потолков-2.7 м<br>\n",
    "этаж квартиры-4<br>\n",
    "этажность дома-9<br>\n",
    "расстояние до центра города-1.4 км<br>\n",
    "расстояние до аэропорта-28 км.<br>\n",
    "расстояние до парка-477 м.<br>\n",
    "Больше всего квартир продают на \"другом\" этаже.<br>\n",
    "Количество объявлений в начале и конце года значительно больше чем в середине.<br>"
   ]
  },
  {
   "cell_type": "markdown",
   "metadata": {},
   "source": [
    "Изучая количество дней, необходимое для продажи было определено медианное значение количества дней на продажу, оно равно 72.<br>\n",
    "Больше всего продали за 45 дней."
   ]
  },
  {
   "cell_type": "markdown",
   "metadata": {},
   "source": [
    "Изучили зависимость общей стоимости квартир от следующих параметров: "
   ]
  },
  {
   "cell_type": "markdown",
   "metadata": {},
   "source": [
    "- общей площади ;\n"
   ]
  },
  {
   "cell_type": "markdown",
   "metadata": {},
   "source": [
    " - жилой площади;"
   ]
  },
  {
   "cell_type": "markdown",
   "metadata": {},
   "source": [
    "- площади кухни;"
   ]
  },
  {
   "cell_type": "markdown",
   "metadata": {},
   "source": [
    "- количество комнат;"
   ]
  },
  {
   "cell_type": "markdown",
   "metadata": {},
   "source": [
    " - типа этажа, на котором расположена квартира (первый, последний, другой);"
   ]
  },
  {
   "cell_type": "markdown",
   "metadata": {},
   "source": [
    "- даты размещения (день недели, месяц, год);"
   ]
  },
  {
   "cell_type": "markdown",
   "metadata": {},
   "source": [
    "Для каждой зависимотри посчитали коэффициент корреляции и определили,что больше всего стоимость квартиры зависит от **общей площади квартиры.**"
   ]
  },
  {
   "cell_type": "markdown",
   "metadata": {},
   "source": [
    "В процессе выполнения проекта был проведен общий анализ данных, предобработка, включающая выявление пропусков, аномальных значений, дубликатов.<br> \n",
    "Были постоены графики и расчитаны коэффициенты корреляции Пирсона для определения зависимостей."
   ]
  }
 ],
 "metadata": {
  "ExecuteTimeLog": [
   {
    "duration": 1005,
    "start_time": "2022-08-21T09:37:39.216Z"
   },
   {
    "duration": 12,
    "start_time": "2022-08-21T09:37:59.317Z"
   },
   {
    "duration": 84,
    "start_time": "2022-08-21T09:40:42.991Z"
   },
   {
    "duration": 7,
    "start_time": "2022-08-21T09:40:43.972Z"
   },
   {
    "duration": 77,
    "start_time": "2022-08-21T09:47:29.937Z"
   },
   {
    "duration": 7,
    "start_time": "2022-08-21T09:47:30.454Z"
   },
   {
    "duration": 8,
    "start_time": "2022-08-21T09:47:39.846Z"
   },
   {
    "duration": 83,
    "start_time": "2022-08-21T09:52:49.482Z"
   },
   {
    "duration": 7,
    "start_time": "2022-08-21T09:52:59.004Z"
   },
   {
    "duration": 79,
    "start_time": "2022-08-21T09:53:39.336Z"
   },
   {
    "duration": 8,
    "start_time": "2022-08-21T09:53:40.426Z"
   },
   {
    "duration": 187,
    "start_time": "2022-08-21T10:05:45.155Z"
   },
   {
    "duration": 77,
    "start_time": "2022-08-21T10:05:54.762Z"
   },
   {
    "duration": 8,
    "start_time": "2022-08-21T10:05:55.630Z"
   },
   {
    "duration": 77,
    "start_time": "2022-08-21T10:11:19.222Z"
   },
   {
    "duration": 7,
    "start_time": "2022-08-21T10:11:20.132Z"
   },
   {
    "duration": 5,
    "start_time": "2022-08-21T10:11:38.562Z"
   },
   {
    "duration": 80,
    "start_time": "2022-08-21T10:14:45.690Z"
   },
   {
    "duration": 4,
    "start_time": "2022-08-21T10:14:46.932Z"
   },
   {
    "duration": 80,
    "start_time": "2022-08-21T10:14:56.290Z"
   },
   {
    "duration": 41,
    "start_time": "2022-08-21T10:15:05.128Z"
   },
   {
    "duration": 41,
    "start_time": "2022-08-21T10:17:50.328Z"
   },
   {
    "duration": 2027,
    "start_time": "2022-08-21T10:18:16.037Z"
   },
   {
    "duration": 25,
    "start_time": "2022-08-21T10:34:32.774Z"
   },
   {
    "duration": 9,
    "start_time": "2022-08-21T10:34:41.402Z"
   },
   {
    "duration": 26,
    "start_time": "2022-08-21T10:36:29.469Z"
   },
   {
    "duration": 19,
    "start_time": "2022-08-21T10:36:55.310Z"
   },
   {
    "duration": 73,
    "start_time": "2022-08-21T10:44:12.126Z"
   },
   {
    "duration": 11,
    "start_time": "2022-08-21T10:44:40.374Z"
   },
   {
    "duration": 10,
    "start_time": "2022-08-21T10:45:02.719Z"
   },
   {
    "duration": 10,
    "start_time": "2022-08-21T10:45:19.064Z"
   },
   {
    "duration": 10,
    "start_time": "2022-08-21T10:45:19.368Z"
   },
   {
    "duration": 9,
    "start_time": "2022-08-21T10:45:39.969Z"
   },
   {
    "duration": 9,
    "start_time": "2022-08-21T10:45:40.776Z"
   },
   {
    "duration": 4,
    "start_time": "2022-08-21T10:48:58.889Z"
   },
   {
    "duration": 13,
    "start_time": "2022-08-21T10:49:00.204Z"
   },
   {
    "duration": 1207,
    "start_time": "2022-08-21T10:51:33.408Z"
   },
   {
    "duration": 5,
    "start_time": "2022-08-21T10:53:02.171Z"
   },
   {
    "duration": 21,
    "start_time": "2022-08-21T10:53:12.482Z"
   },
   {
    "duration": 5,
    "start_time": "2022-08-21T10:54:30.723Z"
   },
   {
    "duration": 15,
    "start_time": "2022-08-21T10:54:30.962Z"
   },
   {
    "duration": 10,
    "start_time": "2022-08-21T10:54:38.250Z"
   },
   {
    "duration": 5,
    "start_time": "2022-08-21T10:55:22.600Z"
   },
   {
    "duration": 9,
    "start_time": "2022-08-21T10:55:23.011Z"
   },
   {
    "duration": 11,
    "start_time": "2022-08-21T10:56:38.720Z"
   },
   {
    "duration": 10,
    "start_time": "2022-08-21T10:57:40.672Z"
   },
   {
    "duration": 7,
    "start_time": "2022-08-21T10:57:41.115Z"
   },
   {
    "duration": 10,
    "start_time": "2022-08-21T10:57:41.673Z"
   },
   {
    "duration": 15,
    "start_time": "2022-08-21T11:08:15.431Z"
   },
   {
    "duration": 15,
    "start_time": "2022-08-21T11:08:47.476Z"
   },
   {
    "duration": 14,
    "start_time": "2022-08-21T11:35:52.732Z"
   },
   {
    "duration": 7,
    "start_time": "2022-08-21T11:40:30.999Z"
   },
   {
    "duration": 8,
    "start_time": "2022-08-21T11:40:34.156Z"
   },
   {
    "duration": 25,
    "start_time": "2022-08-21T11:41:11.045Z"
   },
   {
    "duration": 16,
    "start_time": "2022-08-21T11:43:17.069Z"
   },
   {
    "duration": 11,
    "start_time": "2022-08-21T11:43:31.212Z"
   },
   {
    "duration": 16,
    "start_time": "2022-08-21T11:46:02.615Z"
   },
   {
    "duration": 15,
    "start_time": "2022-08-21T11:46:10.660Z"
   },
   {
    "duration": 8,
    "start_time": "2022-08-21T11:46:29.652Z"
   },
   {
    "duration": 16,
    "start_time": "2022-08-21T11:46:40.819Z"
   },
   {
    "duration": 24,
    "start_time": "2022-08-21T11:47:05.363Z"
   },
   {
    "duration": 6,
    "start_time": "2022-08-21T11:47:05.756Z"
   },
   {
    "duration": 20,
    "start_time": "2022-08-21T11:47:06.180Z"
   },
   {
    "duration": 35,
    "start_time": "2022-08-21T11:53:51.600Z"
   },
   {
    "duration": 28,
    "start_time": "2022-08-21T11:53:57.290Z"
   },
   {
    "duration": 7,
    "start_time": "2022-08-21T12:00:05.634Z"
   },
   {
    "duration": 6,
    "start_time": "2022-08-21T12:08:03.936Z"
   },
   {
    "duration": 83,
    "start_time": "2022-08-21T12:10:13.617Z"
   },
   {
    "duration": 8,
    "start_time": "2022-08-21T12:10:40.725Z"
   },
   {
    "duration": 10,
    "start_time": "2022-08-21T12:10:49.712Z"
   },
   {
    "duration": 12,
    "start_time": "2022-08-21T12:10:51.739Z"
   },
   {
    "duration": 19,
    "start_time": "2022-08-21T12:11:01.515Z"
   },
   {
    "duration": 6,
    "start_time": "2022-08-21T12:17:08.512Z"
   },
   {
    "duration": 6,
    "start_time": "2022-08-21T12:19:22.964Z"
   },
   {
    "duration": 6,
    "start_time": "2022-08-21T12:20:57.480Z"
   },
   {
    "duration": 7,
    "start_time": "2022-08-21T12:22:46.331Z"
   },
   {
    "duration": 4,
    "start_time": "2022-08-21T12:32:14.746Z"
   },
   {
    "duration": 82,
    "start_time": "2022-08-21T12:38:21.241Z"
   },
   {
    "duration": 32,
    "start_time": "2022-08-21T12:38:21.502Z"
   },
   {
    "duration": 14,
    "start_time": "2022-08-21T12:38:21.773Z"
   },
   {
    "duration": 1692,
    "start_time": "2022-08-21T12:38:22.086Z"
   },
   {
    "duration": 8,
    "start_time": "2022-08-21T12:38:23.779Z"
   },
   {
    "duration": 18,
    "start_time": "2022-08-21T12:38:23.789Z"
   },
   {
    "duration": 8,
    "start_time": "2022-08-21T12:38:23.808Z"
   },
   {
    "duration": 13,
    "start_time": "2022-08-21T12:38:24.130Z"
   },
   {
    "duration": 6,
    "start_time": "2022-08-21T12:38:24.395Z"
   },
   {
    "duration": 7,
    "start_time": "2022-08-21T12:38:24.771Z"
   },
   {
    "duration": 5,
    "start_time": "2022-08-21T12:38:25.164Z"
   },
   {
    "duration": 12,
    "start_time": "2022-08-21T12:38:25.430Z"
   },
   {
    "duration": 7,
    "start_time": "2022-08-21T12:38:26.650Z"
   },
   {
    "duration": 5,
    "start_time": "2022-08-21T12:38:27.842Z"
   },
   {
    "duration": 12,
    "start_time": "2022-08-21T12:40:52.532Z"
   },
   {
    "duration": 7,
    "start_time": "2022-08-21T12:40:54.041Z"
   },
   {
    "duration": 4,
    "start_time": "2022-08-21T12:40:55.077Z"
   },
   {
    "duration": 7,
    "start_time": "2022-08-21T13:13:51.371Z"
   },
   {
    "duration": 9,
    "start_time": "2022-08-21T13:15:13.521Z"
   },
   {
    "duration": 7,
    "start_time": "2022-08-21T14:27:59.955Z"
   },
   {
    "duration": 7,
    "start_time": "2022-08-21T14:28:57.906Z"
   },
   {
    "duration": 10,
    "start_time": "2022-08-21T14:42:02.198Z"
   },
   {
    "duration": 4,
    "start_time": "2022-08-21T14:53:10.813Z"
   },
   {
    "duration": 8,
    "start_time": "2022-08-21T14:53:53.777Z"
   },
   {
    "duration": 7,
    "start_time": "2022-08-21T14:54:04.075Z"
   },
   {
    "duration": 7,
    "start_time": "2022-08-21T14:56:32.870Z"
   },
   {
    "duration": 9,
    "start_time": "2022-08-21T14:56:42.712Z"
   },
   {
    "duration": 4,
    "start_time": "2022-08-21T14:56:59.304Z"
   },
   {
    "duration": 6,
    "start_time": "2022-08-21T14:57:17.516Z"
   },
   {
    "duration": 13,
    "start_time": "2022-08-21T15:08:38.960Z"
   },
   {
    "duration": 5,
    "start_time": "2022-08-21T15:14:45.959Z"
   },
   {
    "duration": 37,
    "start_time": "2022-08-21T15:14:58.521Z"
   },
   {
    "duration": 6,
    "start_time": "2022-08-21T16:40:11.399Z"
   },
   {
    "duration": 40,
    "start_time": "2022-08-21T16:40:21.490Z"
   },
   {
    "duration": 29,
    "start_time": "2022-08-21T16:55:30.805Z"
   },
   {
    "duration": 69,
    "start_time": "2022-08-21T16:59:09.787Z"
   },
   {
    "duration": 9,
    "start_time": "2022-08-21T16:59:18.638Z"
   },
   {
    "duration": 6,
    "start_time": "2022-08-21T17:02:47.246Z"
   },
   {
    "duration": 9,
    "start_time": "2022-08-21T17:03:02.852Z"
   },
   {
    "duration": 13,
    "start_time": "2022-08-21T17:03:56.877Z"
   },
   {
    "duration": 6,
    "start_time": "2022-08-21T17:07:47.270Z"
   },
   {
    "duration": 13,
    "start_time": "2022-08-21T17:10:47.395Z"
   },
   {
    "duration": 10,
    "start_time": "2022-08-21T17:10:55.768Z"
   },
   {
    "duration": 8,
    "start_time": "2022-08-21T17:17:27.766Z"
   },
   {
    "duration": 5,
    "start_time": "2022-08-21T17:17:38.849Z"
   },
   {
    "duration": 10,
    "start_time": "2022-08-21T17:17:44.101Z"
   },
   {
    "duration": 9,
    "start_time": "2022-08-21T17:18:01.270Z"
   },
   {
    "duration": 683,
    "start_time": "2022-08-21T17:18:11.182Z"
   },
   {
    "duration": 29,
    "start_time": "2022-08-21T17:18:11.867Z"
   },
   {
    "duration": 22,
    "start_time": "2022-08-21T17:18:11.897Z"
   },
   {
    "duration": 1831,
    "start_time": "2022-08-21T17:18:11.921Z"
   },
   {
    "duration": 8,
    "start_time": "2022-08-21T17:18:13.754Z"
   },
   {
    "duration": 6,
    "start_time": "2022-08-21T17:18:13.763Z"
   },
   {
    "duration": 9,
    "start_time": "2022-08-21T17:18:13.770Z"
   },
   {
    "duration": 11,
    "start_time": "2022-08-21T17:18:13.780Z"
   },
   {
    "duration": 7,
    "start_time": "2022-08-21T17:18:13.793Z"
   },
   {
    "duration": 9,
    "start_time": "2022-08-21T17:18:13.802Z"
   },
   {
    "duration": 16,
    "start_time": "2022-08-21T17:18:13.813Z"
   },
   {
    "duration": 16,
    "start_time": "2022-08-21T17:18:13.830Z"
   },
   {
    "duration": 5,
    "start_time": "2022-08-21T17:18:13.847Z"
   },
   {
    "duration": 13,
    "start_time": "2022-08-21T17:18:13.854Z"
   },
   {
    "duration": 52,
    "start_time": "2022-08-21T17:18:13.868Z"
   },
   {
    "duration": 6,
    "start_time": "2022-08-21T17:18:13.922Z"
   },
   {
    "duration": 88,
    "start_time": "2022-08-21T17:18:13.930Z"
   },
   {
    "duration": 0,
    "start_time": "2022-08-21T17:18:14.019Z"
   },
   {
    "duration": 0,
    "start_time": "2022-08-21T17:18:14.021Z"
   },
   {
    "duration": 0,
    "start_time": "2022-08-21T17:18:14.021Z"
   },
   {
    "duration": 8,
    "start_time": "2022-08-21T17:18:30.420Z"
   },
   {
    "duration": 5,
    "start_time": "2022-08-21T17:18:54.221Z"
   },
   {
    "duration": 6,
    "start_time": "2022-08-21T17:19:05.579Z"
   },
   {
    "duration": 13,
    "start_time": "2022-08-21T17:25:27.260Z"
   },
   {
    "duration": 8,
    "start_time": "2022-08-21T17:26:00.038Z"
   },
   {
    "duration": 13,
    "start_time": "2022-08-21T17:26:25.082Z"
   },
   {
    "duration": 5,
    "start_time": "2022-08-21T17:26:25.738Z"
   },
   {
    "duration": 3,
    "start_time": "2022-08-21T17:33:12.050Z"
   },
   {
    "duration": 9,
    "start_time": "2022-08-21T17:33:12.696Z"
   },
   {
    "duration": 9,
    "start_time": "2022-08-21T17:35:49.374Z"
   },
   {
    "duration": 10,
    "start_time": "2022-08-21T17:36:15.757Z"
   },
   {
    "duration": 11,
    "start_time": "2022-08-21T17:36:28.926Z"
   },
   {
    "duration": 8,
    "start_time": "2022-08-21T17:38:37.753Z"
   },
   {
    "duration": 81,
    "start_time": "2022-08-21T17:42:17.724Z"
   },
   {
    "duration": 183,
    "start_time": "2022-08-21T17:43:32.982Z"
   },
   {
    "duration": 98,
    "start_time": "2022-08-21T17:45:53.570Z"
   },
   {
    "duration": 7,
    "start_time": "2022-08-21T17:46:10.470Z"
   },
   {
    "duration": 8,
    "start_time": "2022-08-21T17:47:34.949Z"
   },
   {
    "duration": 18,
    "start_time": "2022-08-21T17:48:43.913Z"
   },
   {
    "duration": 109,
    "start_time": "2022-08-21T19:34:17.973Z"
   },
   {
    "duration": 14,
    "start_time": "2022-08-21T19:34:30.931Z"
   },
   {
    "duration": 13,
    "start_time": "2022-08-21T19:34:38.652Z"
   },
   {
    "duration": 83,
    "start_time": "2022-08-21T19:37:00.462Z"
   },
   {
    "duration": 49,
    "start_time": "2022-08-21T19:38:18.892Z"
   },
   {
    "duration": 7,
    "start_time": "2022-08-21T19:38:25.585Z"
   },
   {
    "duration": 16,
    "start_time": "2022-08-21T19:38:39.191Z"
   },
   {
    "duration": 25,
    "start_time": "2022-08-21T19:38:39.863Z"
   },
   {
    "duration": 6,
    "start_time": "2022-08-21T19:38:40.476Z"
   },
   {
    "duration": 8,
    "start_time": "2022-08-21T19:41:14.287Z"
   },
   {
    "duration": 37,
    "start_time": "2022-08-21T19:41:38.624Z"
   },
   {
    "duration": 31,
    "start_time": "2022-08-21T19:42:15.002Z"
   },
   {
    "duration": 8,
    "start_time": "2022-08-21T19:42:15.510Z"
   },
   {
    "duration": 6,
    "start_time": "2022-08-21T19:45:36.980Z"
   },
   {
    "duration": 9,
    "start_time": "2022-08-21T19:48:20.101Z"
   },
   {
    "duration": 5,
    "start_time": "2022-08-21T19:48:44.724Z"
   },
   {
    "duration": 20,
    "start_time": "2022-08-21T19:49:50.638Z"
   },
   {
    "duration": 8,
    "start_time": "2022-08-21T19:49:51.813Z"
   },
   {
    "duration": 24,
    "start_time": "2022-08-21T19:49:58.580Z"
   },
   {
    "duration": 6,
    "start_time": "2022-08-21T19:49:58.947Z"
   },
   {
    "duration": 4,
    "start_time": "2022-08-21T19:50:25.120Z"
   },
   {
    "duration": 5,
    "start_time": "2022-08-21T19:50:28.126Z"
   },
   {
    "duration": 5,
    "start_time": "2022-08-21T19:55:08.579Z"
   },
   {
    "duration": 7,
    "start_time": "2022-08-21T19:55:09.457Z"
   },
   {
    "duration": 1240,
    "start_time": "2022-08-22T17:09:26.807Z"
   },
   {
    "duration": 38,
    "start_time": "2022-08-22T17:09:28.049Z"
   },
   {
    "duration": 25,
    "start_time": "2022-08-22T17:09:28.088Z"
   },
   {
    "duration": 2639,
    "start_time": "2022-08-22T17:09:28.116Z"
   },
   {
    "duration": 11,
    "start_time": "2022-08-22T17:09:30.757Z"
   },
   {
    "duration": 12,
    "start_time": "2022-08-22T17:09:30.771Z"
   },
   {
    "duration": 60,
    "start_time": "2022-08-22T17:09:30.784Z"
   },
   {
    "duration": 19,
    "start_time": "2022-08-22T17:09:30.845Z"
   },
   {
    "duration": 11,
    "start_time": "2022-08-22T17:09:30.867Z"
   },
   {
    "duration": 24,
    "start_time": "2022-08-22T17:09:30.882Z"
   },
   {
    "duration": 52,
    "start_time": "2022-08-22T17:09:30.915Z"
   },
   {
    "duration": 21,
    "start_time": "2022-08-22T17:09:30.969Z"
   },
   {
    "duration": 13,
    "start_time": "2022-08-22T17:09:31.000Z"
   },
   {
    "duration": 59,
    "start_time": "2022-08-22T17:09:31.016Z"
   },
   {
    "duration": 91,
    "start_time": "2022-08-22T17:09:31.077Z"
   },
   {
    "duration": 10,
    "start_time": "2022-08-22T17:09:31.170Z"
   },
   {
    "duration": 79,
    "start_time": "2022-08-22T17:09:31.182Z"
   },
   {
    "duration": 9,
    "start_time": "2022-08-22T17:09:31.263Z"
   },
   {
    "duration": 38,
    "start_time": "2022-08-22T17:09:31.276Z"
   },
   {
    "duration": 28,
    "start_time": "2022-08-22T17:09:31.327Z"
   },
   {
    "duration": 17,
    "start_time": "2022-08-22T17:09:31.357Z"
   },
   {
    "duration": 79,
    "start_time": "2022-08-22T17:09:31.377Z"
   },
   {
    "duration": 6,
    "start_time": "2022-08-22T17:11:51.856Z"
   },
   {
    "duration": 71,
    "start_time": "2022-08-22T17:11:53.943Z"
   },
   {
    "duration": 39,
    "start_time": "2022-08-22T17:12:17.546Z"
   },
   {
    "duration": 106,
    "start_time": "2022-08-22T17:15:57.390Z"
   },
   {
    "duration": 20,
    "start_time": "2022-08-22T17:18:54.770Z"
   },
   {
    "duration": 17,
    "start_time": "2022-08-22T17:19:27.632Z"
   },
   {
    "duration": 27,
    "start_time": "2022-08-22T17:24:49.134Z"
   },
   {
    "duration": 7,
    "start_time": "2022-08-22T17:24:49.674Z"
   },
   {
    "duration": 124,
    "start_time": "2022-08-22T17:27:10.960Z"
   },
   {
    "duration": 120,
    "start_time": "2022-08-22T17:27:35.146Z"
   },
   {
    "duration": 113,
    "start_time": "2022-08-22T17:27:42.936Z"
   },
   {
    "duration": 12,
    "start_time": "2022-08-22T17:28:30.239Z"
   },
   {
    "duration": 12,
    "start_time": "2022-08-22T17:28:45.574Z"
   },
   {
    "duration": 6,
    "start_time": "2022-08-22T17:41:00.840Z"
   },
   {
    "duration": 7,
    "start_time": "2022-08-22T17:41:03.034Z"
   },
   {
    "duration": 1165,
    "start_time": "2022-08-22T19:33:21.555Z"
   },
   {
    "duration": 35,
    "start_time": "2022-08-22T19:33:22.722Z"
   },
   {
    "duration": 17,
    "start_time": "2022-08-22T19:33:22.758Z"
   },
   {
    "duration": 2171,
    "start_time": "2022-08-22T19:33:22.777Z"
   },
   {
    "duration": 11,
    "start_time": "2022-08-22T19:33:24.949Z"
   },
   {
    "duration": 9,
    "start_time": "2022-08-22T19:33:24.961Z"
   },
   {
    "duration": 24,
    "start_time": "2022-08-22T19:33:24.971Z"
   },
   {
    "duration": 13,
    "start_time": "2022-08-22T19:33:24.999Z"
   },
   {
    "duration": 9,
    "start_time": "2022-08-22T19:33:25.015Z"
   },
   {
    "duration": 6,
    "start_time": "2022-08-22T19:33:25.026Z"
   },
   {
    "duration": 9,
    "start_time": "2022-08-22T19:33:25.034Z"
   },
   {
    "duration": 13,
    "start_time": "2022-08-22T19:33:25.044Z"
   },
   {
    "duration": 5,
    "start_time": "2022-08-22T19:33:25.059Z"
   },
   {
    "duration": 85,
    "start_time": "2022-08-22T19:33:25.066Z"
   },
   {
    "duration": 0,
    "start_time": "2022-08-22T19:33:25.152Z"
   },
   {
    "duration": 0,
    "start_time": "2022-08-22T19:33:25.153Z"
   },
   {
    "duration": 0,
    "start_time": "2022-08-22T19:33:25.154Z"
   },
   {
    "duration": 0,
    "start_time": "2022-08-22T19:33:25.155Z"
   },
   {
    "duration": 0,
    "start_time": "2022-08-22T19:33:25.156Z"
   },
   {
    "duration": 0,
    "start_time": "2022-08-22T19:33:25.157Z"
   },
   {
    "duration": 0,
    "start_time": "2022-08-22T19:33:25.159Z"
   },
   {
    "duration": 11,
    "start_time": "2022-08-22T19:33:58.329Z"
   },
   {
    "duration": 10,
    "start_time": "2022-08-22T19:34:04.352Z"
   },
   {
    "duration": 2,
    "start_time": "2022-08-22T19:34:48.568Z"
   },
   {
    "duration": 17,
    "start_time": "2022-08-22T19:36:55.047Z"
   },
   {
    "duration": 13,
    "start_time": "2022-08-22T19:37:41.879Z"
   },
   {
    "duration": 16,
    "start_time": "2022-08-22T19:38:05.790Z"
   },
   {
    "duration": 14,
    "start_time": "2022-08-22T19:38:41.013Z"
   },
   {
    "duration": 5,
    "start_time": "2022-08-22T19:38:43.217Z"
   },
   {
    "duration": 4,
    "start_time": "2022-08-22T19:38:43.656Z"
   },
   {
    "duration": 7,
    "start_time": "2022-08-22T19:38:44.125Z"
   },
   {
    "duration": 10,
    "start_time": "2022-08-22T19:39:26.319Z"
   },
   {
    "duration": 5,
    "start_time": "2022-08-22T19:39:28.314Z"
   },
   {
    "duration": 2,
    "start_time": "2022-08-22T19:39:28.918Z"
   },
   {
    "duration": 6,
    "start_time": "2022-08-22T19:39:29.420Z"
   },
   {
    "duration": 6,
    "start_time": "2022-08-22T19:41:05.136Z"
   },
   {
    "duration": 44,
    "start_time": "2022-08-22T19:41:13.352Z"
   },
   {
    "duration": 6,
    "start_time": "2022-08-22T19:41:45.839Z"
   },
   {
    "duration": 6,
    "start_time": "2022-08-22T19:41:46.619Z"
   },
   {
    "duration": 5,
    "start_time": "2022-08-22T19:41:49.423Z"
   },
   {
    "duration": 48,
    "start_time": "2022-08-22T19:41:50.610Z"
   },
   {
    "duration": 1071,
    "start_time": "2022-08-23T16:14:54.580Z"
   },
   {
    "duration": 31,
    "start_time": "2022-08-23T16:14:55.653Z"
   },
   {
    "duration": 22,
    "start_time": "2022-08-23T16:14:55.685Z"
   },
   {
    "duration": 2033,
    "start_time": "2022-08-23T16:14:55.709Z"
   },
   {
    "duration": 10,
    "start_time": "2022-08-23T16:14:57.744Z"
   },
   {
    "duration": 7,
    "start_time": "2022-08-23T16:14:57.755Z"
   },
   {
    "duration": 15,
    "start_time": "2022-08-23T16:14:57.763Z"
   },
   {
    "duration": 18,
    "start_time": "2022-08-23T16:14:57.779Z"
   },
   {
    "duration": 7,
    "start_time": "2022-08-23T16:14:57.800Z"
   },
   {
    "duration": 13,
    "start_time": "2022-08-23T16:14:57.810Z"
   },
   {
    "duration": 27,
    "start_time": "2022-08-23T16:14:57.824Z"
   },
   {
    "duration": 18,
    "start_time": "2022-08-23T16:14:57.853Z"
   },
   {
    "duration": 8,
    "start_time": "2022-08-23T16:14:57.873Z"
   },
   {
    "duration": 17,
    "start_time": "2022-08-23T16:14:57.882Z"
   },
   {
    "duration": 11,
    "start_time": "2022-08-23T16:14:57.900Z"
   },
   {
    "duration": 9,
    "start_time": "2022-08-23T16:14:57.912Z"
   },
   {
    "duration": 91,
    "start_time": "2022-08-23T16:14:57.922Z"
   },
   {
    "duration": 0,
    "start_time": "2022-08-23T16:14:58.015Z"
   },
   {
    "duration": 0,
    "start_time": "2022-08-23T16:14:58.016Z"
   },
   {
    "duration": 0,
    "start_time": "2022-08-23T16:14:58.018Z"
   },
   {
    "duration": 0,
    "start_time": "2022-08-23T16:14:58.019Z"
   },
   {
    "duration": 0,
    "start_time": "2022-08-23T16:14:58.021Z"
   },
   {
    "duration": 0,
    "start_time": "2022-08-23T16:14:58.022Z"
   },
   {
    "duration": 66,
    "start_time": "2022-08-23T16:19:52.009Z"
   },
   {
    "duration": 62,
    "start_time": "2022-08-23T16:20:09.773Z"
   },
   {
    "duration": 58,
    "start_time": "2022-08-23T16:20:41.504Z"
   },
   {
    "duration": 51,
    "start_time": "2022-08-23T16:22:16.959Z"
   },
   {
    "duration": 6,
    "start_time": "2022-08-23T16:22:19.311Z"
   },
   {
    "duration": 53,
    "start_time": "2022-08-23T16:22:22.626Z"
   },
   {
    "duration": 5,
    "start_time": "2022-08-23T16:22:57.317Z"
   },
   {
    "duration": 45,
    "start_time": "2022-08-23T16:24:32.260Z"
   },
   {
    "duration": 6,
    "start_time": "2022-08-23T16:24:39.873Z"
   },
   {
    "duration": 5,
    "start_time": "2022-08-23T16:24:40.455Z"
   },
   {
    "duration": 4,
    "start_time": "2022-08-23T16:24:41.020Z"
   },
   {
    "duration": 44,
    "start_time": "2022-08-23T16:24:42.010Z"
   },
   {
    "duration": 84,
    "start_time": "2022-08-23T16:24:53.733Z"
   },
   {
    "duration": 26,
    "start_time": "2022-08-23T16:24:53.943Z"
   },
   {
    "duration": 15,
    "start_time": "2022-08-23T16:24:54.145Z"
   },
   {
    "duration": 1757,
    "start_time": "2022-08-23T16:24:54.341Z"
   },
   {
    "duration": 10,
    "start_time": "2022-08-23T16:24:56.100Z"
   },
   {
    "duration": 5,
    "start_time": "2022-08-23T16:24:56.111Z"
   },
   {
    "duration": 15,
    "start_time": "2022-08-23T16:24:56.873Z"
   },
   {
    "duration": 7,
    "start_time": "2022-08-23T16:24:57.214Z"
   },
   {
    "duration": 14,
    "start_time": "2022-08-23T16:24:57.527Z"
   },
   {
    "duration": 5,
    "start_time": "2022-08-23T16:24:57.816Z"
   },
   {
    "duration": 7,
    "start_time": "2022-08-23T16:24:59.410Z"
   },
   {
    "duration": 10,
    "start_time": "2022-08-23T16:24:59.754Z"
   },
   {
    "duration": 101,
    "start_time": "2022-08-23T16:25:00.361Z"
   },
   {
    "duration": 6,
    "start_time": "2022-08-23T16:25:01.997Z"
   },
   {
    "duration": 5,
    "start_time": "2022-08-23T16:25:03.091Z"
   },
   {
    "duration": 11,
    "start_time": "2022-08-23T16:25:03.294Z"
   },
   {
    "duration": 6,
    "start_time": "2022-08-23T16:25:03.525Z"
   },
   {
    "duration": 5,
    "start_time": "2022-08-23T16:25:05.564Z"
   },
   {
    "duration": 7,
    "start_time": "2022-08-23T16:25:06.002Z"
   },
   {
    "duration": 7,
    "start_time": "2022-08-23T16:25:06.407Z"
   },
   {
    "duration": 6,
    "start_time": "2022-08-23T16:25:06.824Z"
   },
   {
    "duration": 39,
    "start_time": "2022-08-23T16:25:08.282Z"
   },
   {
    "duration": 62,
    "start_time": "2022-08-23T16:28:45.934Z"
   },
   {
    "duration": 51,
    "start_time": "2022-08-23T16:29:47.635Z"
   },
   {
    "duration": 3,
    "start_time": "2022-08-23T16:30:38.153Z"
   },
   {
    "duration": 16,
    "start_time": "2022-08-23T16:32:19.310Z"
   },
   {
    "duration": 13,
    "start_time": "2022-08-23T16:34:34.508Z"
   },
   {
    "duration": 3,
    "start_time": "2022-08-23T16:36:34.875Z"
   },
   {
    "duration": 4,
    "start_time": "2022-08-23T16:37:00.998Z"
   },
   {
    "duration": 180,
    "start_time": "2022-08-23T16:37:01.535Z"
   },
   {
    "duration": 3,
    "start_time": "2022-08-23T16:37:08.170Z"
   },
   {
    "duration": 210,
    "start_time": "2022-08-23T16:37:08.561Z"
   },
   {
    "duration": 3,
    "start_time": "2022-08-23T16:37:19.162Z"
   },
   {
    "duration": 187,
    "start_time": "2022-08-23T16:37:19.407Z"
   },
   {
    "duration": 4,
    "start_time": "2022-08-23T16:37:28.877Z"
   },
   {
    "duration": 296,
    "start_time": "2022-08-23T16:37:29.131Z"
   },
   {
    "duration": 4,
    "start_time": "2022-08-23T16:38:28.294Z"
   },
   {
    "duration": 5,
    "start_time": "2022-08-23T16:38:33.138Z"
   },
   {
    "duration": 4,
    "start_time": "2022-08-23T16:38:34.643Z"
   },
   {
    "duration": 10,
    "start_time": "2022-08-23T16:39:28.403Z"
   },
   {
    "duration": 10,
    "start_time": "2022-08-23T16:39:55.146Z"
   },
   {
    "duration": 15,
    "start_time": "2022-08-23T16:40:13.295Z"
   },
   {
    "duration": 13,
    "start_time": "2022-08-23T16:40:47.898Z"
   },
   {
    "duration": 9,
    "start_time": "2022-08-23T16:41:51.506Z"
   },
   {
    "duration": 14,
    "start_time": "2022-08-23T16:42:19.746Z"
   },
   {
    "duration": 6,
    "start_time": "2022-08-23T16:42:51.479Z"
   },
   {
    "duration": 13,
    "start_time": "2022-08-23T16:43:08.420Z"
   },
   {
    "duration": 11,
    "start_time": "2022-08-23T16:44:54.985Z"
   },
   {
    "duration": 10,
    "start_time": "2022-08-23T16:45:39.228Z"
   },
   {
    "duration": 9,
    "start_time": "2022-08-23T16:45:46.358Z"
   },
   {
    "duration": 6,
    "start_time": "2022-08-23T16:45:55.469Z"
   },
   {
    "duration": 13,
    "start_time": "2022-08-23T16:45:57.116Z"
   },
   {
    "duration": 6,
    "start_time": "2022-08-23T16:46:04.856Z"
   },
   {
    "duration": 9,
    "start_time": "2022-08-23T16:46:48.781Z"
   },
   {
    "duration": 7,
    "start_time": "2022-08-23T16:47:32.214Z"
   },
   {
    "duration": 3,
    "start_time": "2022-08-23T16:49:49.363Z"
   },
   {
    "duration": 221,
    "start_time": "2022-08-23T16:49:51.000Z"
   },
   {
    "duration": 10,
    "start_time": "2022-08-23T16:50:07.480Z"
   },
   {
    "duration": 51,
    "start_time": "2022-08-23T16:50:55.429Z"
   },
   {
    "duration": 11,
    "start_time": "2022-08-23T16:51:19.877Z"
   },
   {
    "duration": 42,
    "start_time": "2022-08-23T16:53:12.740Z"
   },
   {
    "duration": 8,
    "start_time": "2022-08-23T16:54:32.010Z"
   },
   {
    "duration": 192,
    "start_time": "2022-08-23T16:54:39.519Z"
   },
   {
    "duration": 3,
    "start_time": "2022-08-23T16:57:54.344Z"
   },
   {
    "duration": 4,
    "start_time": "2022-08-23T16:58:02.330Z"
   },
   {
    "duration": 10,
    "start_time": "2022-08-23T16:58:23.295Z"
   },
   {
    "duration": 9,
    "start_time": "2022-08-23T16:58:55.866Z"
   },
   {
    "duration": 16,
    "start_time": "2022-08-23T16:59:09.768Z"
   },
   {
    "duration": 37,
    "start_time": "2022-08-23T16:59:37.400Z"
   },
   {
    "duration": 10,
    "start_time": "2022-08-23T17:00:37.909Z"
   },
   {
    "duration": 13,
    "start_time": "2022-08-23T17:13:17.933Z"
   },
   {
    "duration": 9,
    "start_time": "2022-08-23T17:14:09.453Z"
   },
   {
    "duration": 54,
    "start_time": "2022-08-23T17:14:16.489Z"
   },
   {
    "duration": 5,
    "start_time": "2022-08-23T17:15:46.845Z"
   },
   {
    "duration": 5,
    "start_time": "2022-08-23T17:16:17.688Z"
   },
   {
    "duration": 4,
    "start_time": "2022-08-23T17:19:10.133Z"
   },
   {
    "duration": 7,
    "start_time": "2022-08-23T17:27:50.579Z"
   },
   {
    "duration": 4,
    "start_time": "2022-08-23T17:28:12.746Z"
   },
   {
    "duration": 6,
    "start_time": "2022-08-23T17:28:59.980Z"
   },
   {
    "duration": 5,
    "start_time": "2022-08-23T17:29:13.653Z"
   },
   {
    "duration": 5,
    "start_time": "2022-08-23T17:29:24.654Z"
   },
   {
    "duration": 4,
    "start_time": "2022-08-23T17:29:25.040Z"
   },
   {
    "duration": 678,
    "start_time": "2022-08-23T17:30:50.082Z"
   },
   {
    "duration": 559,
    "start_time": "2022-08-23T17:31:10.433Z"
   },
   {
    "duration": 870,
    "start_time": "2022-08-23T17:32:16.762Z"
   },
   {
    "duration": 648,
    "start_time": "2022-08-23T17:32:54.861Z"
   },
   {
    "duration": 92,
    "start_time": "2022-08-23T17:33:03.057Z"
   },
   {
    "duration": 29,
    "start_time": "2022-08-23T17:33:04.089Z"
   },
   {
    "duration": 14,
    "start_time": "2022-08-23T17:33:06.540Z"
   },
   {
    "duration": 1882,
    "start_time": "2022-08-23T17:33:07.030Z"
   },
   {
    "duration": 11,
    "start_time": "2022-08-23T17:33:15.560Z"
   },
   {
    "duration": 7,
    "start_time": "2022-08-23T17:33:16.195Z"
   },
   {
    "duration": 7,
    "start_time": "2022-08-23T17:33:16.575Z"
   },
   {
    "duration": 13,
    "start_time": "2022-08-23T17:33:18.884Z"
   },
   {
    "duration": 7,
    "start_time": "2022-08-23T17:33:19.540Z"
   },
   {
    "duration": 6,
    "start_time": "2022-08-23T17:33:19.976Z"
   },
   {
    "duration": 5,
    "start_time": "2022-08-23T17:33:20.790Z"
   },
   {
    "duration": 5,
    "start_time": "2022-08-23T17:33:23.163Z"
   },
   {
    "duration": 9,
    "start_time": "2022-08-23T17:33:24.247Z"
   },
   {
    "duration": 48,
    "start_time": "2022-08-23T17:33:24.836Z"
   },
   {
    "duration": 5,
    "start_time": "2022-08-23T17:33:25.851Z"
   },
   {
    "duration": 7,
    "start_time": "2022-08-23T17:33:29.087Z"
   },
   {
    "duration": 4,
    "start_time": "2022-08-23T17:33:30.119Z"
   },
   {
    "duration": 6,
    "start_time": "2022-08-23T17:33:31.075Z"
   },
   {
    "duration": 5,
    "start_time": "2022-08-23T17:33:31.485Z"
   },
   {
    "duration": 5,
    "start_time": "2022-08-23T17:33:31.969Z"
   },
   {
    "duration": 6,
    "start_time": "2022-08-23T17:33:33.059Z"
   },
   {
    "duration": 5,
    "start_time": "2022-08-23T17:33:59.147Z"
   },
   {
    "duration": 6,
    "start_time": "2022-08-23T17:34:03.693Z"
   },
   {
    "duration": 4,
    "start_time": "2022-08-23T17:34:38.536Z"
   },
   {
    "duration": 6,
    "start_time": "2022-08-23T17:34:43.755Z"
   },
   {
    "duration": 4,
    "start_time": "2022-08-23T17:35:53.444Z"
   },
   {
    "duration": 4,
    "start_time": "2022-08-23T17:35:54.404Z"
   },
   {
    "duration": 4,
    "start_time": "2022-08-23T17:35:55.152Z"
   },
   {
    "duration": 5,
    "start_time": "2022-08-23T17:35:56.044Z"
   },
   {
    "duration": 3,
    "start_time": "2022-08-23T17:35:56.853Z"
   },
   {
    "duration": 191,
    "start_time": "2022-08-23T17:35:58.840Z"
   },
   {
    "duration": 9,
    "start_time": "2022-08-23T17:36:01.160Z"
   },
   {
    "duration": 8,
    "start_time": "2022-08-23T17:36:02.376Z"
   },
   {
    "duration": 10,
    "start_time": "2022-08-23T17:36:02.852Z"
   },
   {
    "duration": 12,
    "start_time": "2022-08-23T17:37:27.459Z"
   },
   {
    "duration": 3,
    "start_time": "2022-08-23T17:37:39.684Z"
   },
   {
    "duration": 14,
    "start_time": "2022-08-23T17:37:40.248Z"
   },
   {
    "duration": 255,
    "start_time": "2022-08-23T17:38:26.132Z"
   },
   {
    "duration": 43,
    "start_time": "2022-08-23T17:38:45.402Z"
   },
   {
    "duration": 7,
    "start_time": "2022-08-23T17:38:58.147Z"
   },
   {
    "duration": 49,
    "start_time": "2022-08-23T17:38:58.499Z"
   },
   {
    "duration": 5,
    "start_time": "2022-08-23T17:40:08.448Z"
   },
   {
    "duration": 11,
    "start_time": "2022-08-23T17:40:55.267Z"
   },
   {
    "duration": 4,
    "start_time": "2022-08-23T17:41:04.641Z"
   },
   {
    "duration": 4,
    "start_time": "2022-08-23T17:41:16.580Z"
   },
   {
    "duration": 7,
    "start_time": "2022-08-23T17:41:16.996Z"
   },
   {
    "duration": 3,
    "start_time": "2022-08-23T17:41:17.361Z"
   },
   {
    "duration": 5,
    "start_time": "2022-08-23T17:42:39.681Z"
   },
   {
    "duration": 14,
    "start_time": "2022-08-23T17:43:12.572Z"
   },
   {
    "duration": 2452,
    "start_time": "2022-08-23T17:43:13.577Z"
   },
   {
    "duration": 6,
    "start_time": "2022-08-23T17:43:30.128Z"
   },
   {
    "duration": 4,
    "start_time": "2022-08-23T17:43:30.391Z"
   },
   {
    "duration": 7,
    "start_time": "2022-08-23T17:43:32.149Z"
   },
   {
    "duration": 3,
    "start_time": "2022-08-23T17:43:32.450Z"
   },
   {
    "duration": 88,
    "start_time": "2022-08-23T17:44:28.943Z"
   },
   {
    "duration": 4,
    "start_time": "2022-08-23T17:44:37.047Z"
   },
   {
    "duration": 4,
    "start_time": "2022-08-23T17:44:52.848Z"
   },
   {
    "duration": 91,
    "start_time": "2022-08-23T17:45:10.631Z"
   },
   {
    "duration": 28,
    "start_time": "2022-08-23T17:45:11.235Z"
   },
   {
    "duration": 14,
    "start_time": "2022-08-23T17:45:11.982Z"
   },
   {
    "duration": 2040,
    "start_time": "2022-08-23T17:45:12.687Z"
   },
   {
    "duration": 12,
    "start_time": "2022-08-23T17:45:15.267Z"
   },
   {
    "duration": 6,
    "start_time": "2022-08-23T17:45:16.159Z"
   },
   {
    "duration": 4,
    "start_time": "2022-08-23T17:45:16.779Z"
   },
   {
    "duration": 7,
    "start_time": "2022-08-23T17:45:18.454Z"
   },
   {
    "duration": 3,
    "start_time": "2022-08-23T17:45:18.950Z"
   },
   {
    "duration": 5,
    "start_time": "2022-08-23T17:45:35.948Z"
   },
   {
    "duration": 85,
    "start_time": "2022-08-23T17:45:52.229Z"
   },
   {
    "duration": 28,
    "start_time": "2022-08-23T17:45:53.267Z"
   },
   {
    "duration": 15,
    "start_time": "2022-08-23T17:45:53.735Z"
   },
   {
    "duration": 1673,
    "start_time": "2022-08-23T17:45:54.347Z"
   },
   {
    "duration": 9,
    "start_time": "2022-08-23T17:45:58.635Z"
   },
   {
    "duration": 5,
    "start_time": "2022-08-23T17:46:00.341Z"
   },
   {
    "duration": 4,
    "start_time": "2022-08-23T17:46:01.448Z"
   },
   {
    "duration": 7,
    "start_time": "2022-08-23T17:46:03.086Z"
   },
   {
    "duration": 3,
    "start_time": "2022-08-23T17:46:04.560Z"
   },
   {
    "duration": 6,
    "start_time": "2022-08-23T17:47:51.847Z"
   },
   {
    "duration": 4,
    "start_time": "2022-08-23T17:47:52.328Z"
   },
   {
    "duration": 6,
    "start_time": "2022-08-23T17:47:57.569Z"
   },
   {
    "duration": 4,
    "start_time": "2022-08-23T17:47:57.792Z"
   },
   {
    "duration": 84,
    "start_time": "2022-08-23T17:48:03.645Z"
   },
   {
    "duration": 29,
    "start_time": "2022-08-23T17:48:03.846Z"
   },
   {
    "duration": 20,
    "start_time": "2022-08-23T17:48:04.034Z"
   },
   {
    "duration": 1970,
    "start_time": "2022-08-23T17:48:04.173Z"
   },
   {
    "duration": 9,
    "start_time": "2022-08-23T17:48:06.145Z"
   },
   {
    "duration": 5,
    "start_time": "2022-08-23T17:48:06.156Z"
   },
   {
    "duration": 9,
    "start_time": "2022-08-23T17:48:06.163Z"
   },
   {
    "duration": 8,
    "start_time": "2022-08-23T17:48:13.449Z"
   },
   {
    "duration": 3,
    "start_time": "2022-08-23T17:48:13.852Z"
   },
   {
    "duration": 15,
    "start_time": "2022-08-23T17:49:08.601Z"
   },
   {
    "duration": 10,
    "start_time": "2022-08-23T17:49:14.485Z"
   },
   {
    "duration": 12,
    "start_time": "2022-08-23T17:49:16.469Z"
   },
   {
    "duration": 6,
    "start_time": "2022-08-23T17:49:17.491Z"
   },
   {
    "duration": 7,
    "start_time": "2022-08-23T17:49:20.125Z"
   },
   {
    "duration": 11,
    "start_time": "2022-08-23T17:49:20.798Z"
   },
   {
    "duration": 49,
    "start_time": "2022-08-23T17:49:21.401Z"
   },
   {
    "duration": 6,
    "start_time": "2022-08-23T17:49:22.543Z"
   },
   {
    "duration": 7,
    "start_time": "2022-08-23T17:49:35.492Z"
   },
   {
    "duration": 578,
    "start_time": "2022-08-23T17:51:22.142Z"
   },
   {
    "duration": 575,
    "start_time": "2022-08-23T17:51:46.699Z"
   },
   {
    "duration": 0,
    "start_time": "2022-08-23T17:51:47.275Z"
   },
   {
    "duration": 596,
    "start_time": "2022-08-23T17:51:47.498Z"
   },
   {
    "duration": 95,
    "start_time": "2022-08-23T17:51:59.934Z"
   },
   {
    "duration": 27,
    "start_time": "2022-08-23T17:52:00.410Z"
   },
   {
    "duration": 15,
    "start_time": "2022-08-23T17:52:00.792Z"
   },
   {
    "duration": 1706,
    "start_time": "2022-08-23T17:52:01.165Z"
   },
   {
    "duration": 17,
    "start_time": "2022-08-23T17:52:02.873Z"
   },
   {
    "duration": 4,
    "start_time": "2022-08-23T17:52:02.892Z"
   },
   {
    "duration": 3,
    "start_time": "2022-08-23T17:52:03.062Z"
   },
   {
    "duration": 7,
    "start_time": "2022-08-23T17:52:05.006Z"
   },
   {
    "duration": 4,
    "start_time": "2022-08-23T17:52:05.430Z"
   },
   {
    "duration": 15,
    "start_time": "2022-08-23T17:52:06.949Z"
   },
   {
    "duration": 8,
    "start_time": "2022-08-23T17:52:07.491Z"
   },
   {
    "duration": 7,
    "start_time": "2022-08-23T17:52:08.172Z"
   },
   {
    "duration": 6,
    "start_time": "2022-08-23T17:52:09.599Z"
   },
   {
    "duration": 6,
    "start_time": "2022-08-23T17:52:10.548Z"
   },
   {
    "duration": 11,
    "start_time": "2022-08-23T17:52:11.232Z"
   },
   {
    "duration": 39,
    "start_time": "2022-08-23T17:52:13.075Z"
   },
   {
    "duration": 5,
    "start_time": "2022-08-23T17:52:15.131Z"
   },
   {
    "duration": 4,
    "start_time": "2022-08-23T17:52:22.452Z"
   },
   {
    "duration": 5,
    "start_time": "2022-08-23T17:52:24.634Z"
   },
   {
    "duration": 5,
    "start_time": "2022-08-23T17:52:30.130Z"
   },
   {
    "duration": 550,
    "start_time": "2022-08-23T17:52:30.978Z"
   },
   {
    "duration": 551,
    "start_time": "2022-08-23T17:52:42.848Z"
   },
   {
    "duration": 520,
    "start_time": "2022-08-23T17:52:52.437Z"
   },
   {
    "duration": 556,
    "start_time": "2022-08-23T17:52:54.764Z"
   },
   {
    "duration": 84,
    "start_time": "2022-08-23T17:53:37.635Z"
   },
   {
    "duration": 28,
    "start_time": "2022-08-23T17:53:38.142Z"
   },
   {
    "duration": 15,
    "start_time": "2022-08-23T17:53:38.172Z"
   },
   {
    "duration": 1888,
    "start_time": "2022-08-23T17:53:38.200Z"
   },
   {
    "duration": 9,
    "start_time": "2022-08-23T17:53:40.090Z"
   },
   {
    "duration": 11,
    "start_time": "2022-08-23T17:53:40.101Z"
   },
   {
    "duration": 6,
    "start_time": "2022-08-23T17:53:40.114Z"
   },
   {
    "duration": 9,
    "start_time": "2022-08-23T17:53:40.121Z"
   },
   {
    "duration": 4,
    "start_time": "2022-08-23T17:53:40.131Z"
   },
   {
    "duration": 17,
    "start_time": "2022-08-23T17:53:40.136Z"
   },
   {
    "duration": 35,
    "start_time": "2022-08-23T17:53:40.154Z"
   },
   {
    "duration": 7,
    "start_time": "2022-08-23T17:53:40.191Z"
   },
   {
    "duration": 9,
    "start_time": "2022-08-23T17:53:40.200Z"
   },
   {
    "duration": 10,
    "start_time": "2022-08-23T17:53:40.210Z"
   },
   {
    "duration": 12,
    "start_time": "2022-08-23T17:53:40.222Z"
   },
   {
    "duration": 48,
    "start_time": "2022-08-23T17:53:40.235Z"
   },
   {
    "duration": 0,
    "start_time": "2022-08-23T17:53:40.284Z"
   },
   {
    "duration": 5,
    "start_time": "2022-08-23T17:53:49.364Z"
   },
   {
    "duration": 7,
    "start_time": "2022-08-23T17:53:49.955Z"
   },
   {
    "duration": 4,
    "start_time": "2022-08-23T17:53:50.272Z"
   },
   {
    "duration": 4,
    "start_time": "2022-08-23T17:53:50.547Z"
   },
   {
    "duration": 6,
    "start_time": "2022-08-23T17:53:56.644Z"
   },
   {
    "duration": 5,
    "start_time": "2022-08-23T17:53:56.944Z"
   },
   {
    "duration": 5,
    "start_time": "2022-08-23T17:56:57.455Z"
   },
   {
    "duration": 542,
    "start_time": "2022-08-23T17:57:20.839Z"
   },
   {
    "duration": 0,
    "start_time": "2022-08-23T17:57:21.382Z"
   },
   {
    "duration": 92,
    "start_time": "2022-08-23T17:57:36.351Z"
   },
   {
    "duration": 28,
    "start_time": "2022-08-23T17:57:36.546Z"
   },
   {
    "duration": 15,
    "start_time": "2022-08-23T17:57:36.679Z"
   },
   {
    "duration": 1737,
    "start_time": "2022-08-23T17:57:36.867Z"
   },
   {
    "duration": 9,
    "start_time": "2022-08-23T17:57:40.867Z"
   },
   {
    "duration": 6,
    "start_time": "2022-08-23T17:57:41.930Z"
   },
   {
    "duration": 3,
    "start_time": "2022-08-23T17:57:42.302Z"
   },
   {
    "duration": 7,
    "start_time": "2022-08-23T17:57:42.595Z"
   },
   {
    "duration": 4,
    "start_time": "2022-08-23T17:57:42.847Z"
   },
   {
    "duration": 14,
    "start_time": "2022-08-23T17:57:43.392Z"
   },
   {
    "duration": 7,
    "start_time": "2022-08-23T17:57:43.557Z"
   },
   {
    "duration": 7,
    "start_time": "2022-08-23T17:57:43.746Z"
   },
   {
    "duration": 5,
    "start_time": "2022-08-23T17:57:43.947Z"
   },
   {
    "duration": 7,
    "start_time": "2022-08-23T17:57:44.791Z"
   },
   {
    "duration": 11,
    "start_time": "2022-08-23T17:57:45.013Z"
   },
   {
    "duration": 53,
    "start_time": "2022-08-23T17:57:45.997Z"
   },
   {
    "duration": 6,
    "start_time": "2022-08-23T17:57:47.293Z"
   },
   {
    "duration": 4,
    "start_time": "2022-08-23T17:57:49.452Z"
   },
   {
    "duration": 4,
    "start_time": "2022-08-23T17:57:49.894Z"
   },
   {
    "duration": 546,
    "start_time": "2022-08-23T17:57:50.546Z"
   },
   {
    "duration": 536,
    "start_time": "2022-08-23T17:57:52.586Z"
   },
   {
    "duration": 80,
    "start_time": "2022-08-23T17:58:27.893Z"
   },
   {
    "duration": 32,
    "start_time": "2022-08-23T17:58:28.602Z"
   },
   {
    "duration": 14,
    "start_time": "2022-08-23T17:58:29.135Z"
   },
   {
    "duration": 1947,
    "start_time": "2022-08-23T17:58:29.529Z"
   },
   {
    "duration": 15,
    "start_time": "2022-08-23T17:58:31.478Z"
   },
   {
    "duration": 5,
    "start_time": "2022-08-23T17:58:31.524Z"
   },
   {
    "duration": 3,
    "start_time": "2022-08-23T17:58:31.971Z"
   },
   {
    "duration": 6,
    "start_time": "2022-08-23T17:58:33.027Z"
   },
   {
    "duration": 5,
    "start_time": "2022-08-23T17:58:34.022Z"
   },
   {
    "duration": 13,
    "start_time": "2022-08-23T17:58:35.451Z"
   },
   {
    "duration": 7,
    "start_time": "2022-08-23T17:58:35.866Z"
   },
   {
    "duration": 10,
    "start_time": "2022-08-23T17:58:36.328Z"
   },
   {
    "duration": 6,
    "start_time": "2022-08-23T17:58:36.787Z"
   },
   {
    "duration": 5,
    "start_time": "2022-08-23T17:58:38.149Z"
   },
   {
    "duration": 10,
    "start_time": "2022-08-23T17:58:38.629Z"
   },
   {
    "duration": 45,
    "start_time": "2022-08-23T17:58:39.282Z"
   },
   {
    "duration": 5,
    "start_time": "2022-08-23T17:58:40.671Z"
   },
   {
    "duration": 4,
    "start_time": "2022-08-23T17:58:42.856Z"
   },
   {
    "duration": 4,
    "start_time": "2022-08-23T17:58:43.589Z"
   },
   {
    "duration": 538,
    "start_time": "2022-08-23T17:58:45.029Z"
   },
   {
    "duration": 565,
    "start_time": "2022-08-23T17:58:46.541Z"
   },
   {
    "duration": 552,
    "start_time": "2022-08-23T17:58:48.133Z"
   },
   {
    "duration": 509,
    "start_time": "2022-08-23T17:58:48.692Z"
   },
   {
    "duration": 613,
    "start_time": "2022-08-23T17:59:14.538Z"
   },
   {
    "duration": 558,
    "start_time": "2022-08-23T17:59:25.673Z"
   },
   {
    "duration": 530,
    "start_time": "2022-08-23T17:59:26.409Z"
   },
   {
    "duration": 543,
    "start_time": "2022-08-23T17:59:26.985Z"
   },
   {
    "duration": 533,
    "start_time": "2022-08-23T17:59:27.570Z"
   },
   {
    "duration": 730,
    "start_time": "2022-08-23T17:59:31.124Z"
   },
   {
    "duration": 531,
    "start_time": "2022-08-23T17:59:34.487Z"
   },
   {
    "duration": 82,
    "start_time": "2022-08-23T17:59:47.460Z"
   },
   {
    "duration": 28,
    "start_time": "2022-08-23T17:59:49.730Z"
   },
   {
    "duration": 13,
    "start_time": "2022-08-23T17:59:50.836Z"
   },
   {
    "duration": 1674,
    "start_time": "2022-08-23T17:59:51.099Z"
   },
   {
    "duration": 743,
    "start_time": "2022-08-23T18:00:04.460Z"
   },
   {
    "duration": 32,
    "start_time": "2022-08-23T18:00:05.205Z"
   },
   {
    "duration": 15,
    "start_time": "2022-08-23T18:00:05.239Z"
   },
   {
    "duration": 2063,
    "start_time": "2022-08-23T18:00:05.255Z"
   },
   {
    "duration": 11,
    "start_time": "2022-08-23T18:00:07.320Z"
   },
   {
    "duration": 9,
    "start_time": "2022-08-23T18:00:07.333Z"
   },
   {
    "duration": 9,
    "start_time": "2022-08-23T18:00:07.344Z"
   },
   {
    "duration": 16,
    "start_time": "2022-08-23T18:00:07.355Z"
   },
   {
    "duration": 8,
    "start_time": "2022-08-23T18:00:07.373Z"
   },
   {
    "duration": 18,
    "start_time": "2022-08-23T18:00:07.384Z"
   },
   {
    "duration": 8,
    "start_time": "2022-08-23T18:00:07.404Z"
   },
   {
    "duration": 7,
    "start_time": "2022-08-23T18:00:07.414Z"
   },
   {
    "duration": 8,
    "start_time": "2022-08-23T18:00:07.423Z"
   },
   {
    "duration": 13,
    "start_time": "2022-08-23T18:00:07.432Z"
   },
   {
    "duration": 14,
    "start_time": "2022-08-23T18:00:07.447Z"
   },
   {
    "duration": 61,
    "start_time": "2022-08-23T18:00:07.462Z"
   },
   {
    "duration": 0,
    "start_time": "2022-08-23T18:00:07.525Z"
   },
   {
    "duration": 0,
    "start_time": "2022-08-23T18:00:07.526Z"
   },
   {
    "duration": 0,
    "start_time": "2022-08-23T18:00:07.527Z"
   },
   {
    "duration": 0,
    "start_time": "2022-08-23T18:00:07.528Z"
   },
   {
    "duration": 0,
    "start_time": "2022-08-23T18:00:07.529Z"
   },
   {
    "duration": 0,
    "start_time": "2022-08-23T18:00:07.530Z"
   },
   {
    "duration": 0,
    "start_time": "2022-08-23T18:00:07.531Z"
   },
   {
    "duration": 0,
    "start_time": "2022-08-23T18:00:07.533Z"
   },
   {
    "duration": 0,
    "start_time": "2022-08-23T18:00:07.535Z"
   },
   {
    "duration": 0,
    "start_time": "2022-08-23T18:00:07.537Z"
   },
   {
    "duration": 0,
    "start_time": "2022-08-23T18:00:07.539Z"
   },
   {
    "duration": 0,
    "start_time": "2022-08-23T18:00:07.540Z"
   },
   {
    "duration": 0,
    "start_time": "2022-08-23T18:00:07.541Z"
   },
   {
    "duration": 0,
    "start_time": "2022-08-23T18:00:07.543Z"
   },
   {
    "duration": 0,
    "start_time": "2022-08-23T18:00:07.545Z"
   },
   {
    "duration": 0,
    "start_time": "2022-08-23T18:00:07.546Z"
   },
   {
    "duration": 4,
    "start_time": "2022-08-23T18:00:11.920Z"
   },
   {
    "duration": 845,
    "start_time": "2022-08-23T18:00:14.974Z"
   },
   {
    "duration": 614,
    "start_time": "2022-08-23T18:00:25.647Z"
   },
   {
    "duration": 92,
    "start_time": "2022-08-23T18:00:31.982Z"
   },
   {
    "duration": 28,
    "start_time": "2022-08-23T18:00:33.258Z"
   },
   {
    "duration": 14,
    "start_time": "2022-08-23T18:00:33.643Z"
   },
   {
    "duration": 1867,
    "start_time": "2022-08-23T18:00:33.928Z"
   },
   {
    "duration": 11,
    "start_time": "2022-08-23T18:00:35.937Z"
   },
   {
    "duration": 7,
    "start_time": "2022-08-23T18:00:36.252Z"
   },
   {
    "duration": 4,
    "start_time": "2022-08-23T18:00:36.603Z"
   },
   {
    "duration": 7,
    "start_time": "2022-08-23T18:00:36.903Z"
   },
   {
    "duration": 4,
    "start_time": "2022-08-23T18:00:37.194Z"
   },
   {
    "duration": 14,
    "start_time": "2022-08-23T18:00:38.121Z"
   },
   {
    "duration": 7,
    "start_time": "2022-08-23T18:00:38.382Z"
   },
   {
    "duration": 8,
    "start_time": "2022-08-23T18:00:38.750Z"
   },
   {
    "duration": 6,
    "start_time": "2022-08-23T18:00:39.029Z"
   },
   {
    "duration": 6,
    "start_time": "2022-08-23T18:00:39.864Z"
   },
   {
    "duration": 13,
    "start_time": "2022-08-23T18:00:40.153Z"
   },
   {
    "duration": 47,
    "start_time": "2022-08-23T18:00:40.483Z"
   },
   {
    "duration": 6,
    "start_time": "2022-08-23T18:00:41.535Z"
   },
   {
    "duration": 4,
    "start_time": "2022-08-23T18:00:43.680Z"
   },
   {
    "duration": 4,
    "start_time": "2022-08-23T18:00:48.642Z"
   },
   {
    "duration": 536,
    "start_time": "2022-08-23T18:00:50.656Z"
   },
   {
    "duration": 608,
    "start_time": "2022-08-23T18:00:52.616Z"
   },
   {
    "duration": 558,
    "start_time": "2022-08-23T18:00:53.985Z"
   },
   {
    "duration": 550,
    "start_time": "2022-08-23T18:00:55.523Z"
   },
   {
    "duration": 549,
    "start_time": "2022-08-23T18:01:54.025Z"
   },
   {
    "duration": 618,
    "start_time": "2022-08-23T18:01:55.631Z"
   },
   {
    "duration": 612,
    "start_time": "2022-08-23T18:01:56.572Z"
   },
   {
    "duration": 0,
    "start_time": "2022-08-23T18:01:57.186Z"
   },
   {
    "duration": 564,
    "start_time": "2022-08-23T18:01:58.186Z"
   },
   {
    "duration": 608,
    "start_time": "2022-08-23T18:01:59.719Z"
   },
   {
    "duration": 570,
    "start_time": "2022-08-23T18:02:01.074Z"
   },
   {
    "duration": 85,
    "start_time": "2022-08-23T19:03:07.156Z"
   },
   {
    "duration": 30,
    "start_time": "2022-08-23T19:03:07.782Z"
   },
   {
    "duration": 14,
    "start_time": "2022-08-23T19:03:09.401Z"
   },
   {
    "duration": 1905,
    "start_time": "2022-08-23T19:03:09.659Z"
   },
   {
    "duration": 10,
    "start_time": "2022-08-23T19:03:12.236Z"
   },
   {
    "duration": 6,
    "start_time": "2022-08-23T19:03:12.761Z"
   },
   {
    "duration": 3,
    "start_time": "2022-08-23T19:03:13.636Z"
   },
   {
    "duration": 7,
    "start_time": "2022-08-23T19:03:14.206Z"
   },
   {
    "duration": 5,
    "start_time": "2022-08-23T19:03:15.005Z"
   },
   {
    "duration": 13,
    "start_time": "2022-08-23T19:03:16.757Z"
   },
   {
    "duration": 7,
    "start_time": "2022-08-23T19:03:17.237Z"
   },
   {
    "duration": 7,
    "start_time": "2022-08-23T19:03:17.782Z"
   },
   {
    "duration": 6,
    "start_time": "2022-08-23T19:03:18.172Z"
   },
   {
    "duration": 6,
    "start_time": "2022-08-23T19:03:19.637Z"
   },
   {
    "duration": 11,
    "start_time": "2022-08-23T19:03:20.295Z"
   },
   {
    "duration": 7,
    "start_time": "2022-08-23T19:04:04.798Z"
   },
   {
    "duration": 14,
    "start_time": "2022-08-23T19:04:15.483Z"
   },
   {
    "duration": 5,
    "start_time": "2022-08-23T19:04:37.702Z"
   },
   {
    "duration": 5,
    "start_time": "2022-08-23T19:04:38.475Z"
   },
   {
    "duration": 713,
    "start_time": "2022-08-23T19:04:40.950Z"
   },
   {
    "duration": 1348,
    "start_time": "2022-08-23T19:04:43.752Z"
   },
   {
    "duration": 0,
    "start_time": "2022-08-23T19:04:45.103Z"
   },
   {
    "duration": 1106,
    "start_time": "2022-08-23T19:04:49.143Z"
   },
   {
    "duration": 668,
    "start_time": "2022-08-23T19:04:58.509Z"
   },
   {
    "duration": 615,
    "start_time": "2022-08-23T19:05:00.752Z"
   },
   {
    "duration": 0,
    "start_time": "2022-08-23T19:05:01.369Z"
   },
   {
    "duration": 737,
    "start_time": "2022-08-23T19:05:07.957Z"
   },
   {
    "duration": 693,
    "start_time": "2022-08-23T19:05:50.203Z"
   },
   {
    "duration": 1123,
    "start_time": "2022-08-23T19:06:12.081Z"
   },
   {
    "duration": 640,
    "start_time": "2022-08-23T19:14:41.229Z"
   },
   {
    "duration": 86,
    "start_time": "2022-08-23T19:21:12.541Z"
   },
   {
    "duration": 28,
    "start_time": "2022-08-23T19:21:12.750Z"
   },
   {
    "duration": 15,
    "start_time": "2022-08-23T19:21:12.958Z"
   },
   {
    "duration": 1806,
    "start_time": "2022-08-23T19:21:13.318Z"
   },
   {
    "duration": 10,
    "start_time": "2022-08-23T19:21:15.126Z"
   },
   {
    "duration": 5,
    "start_time": "2022-08-23T19:21:15.170Z"
   },
   {
    "duration": 4,
    "start_time": "2022-08-23T19:21:15.541Z"
   },
   {
    "duration": 10,
    "start_time": "2022-08-23T19:21:16.025Z"
   },
   {
    "duration": 6,
    "start_time": "2022-08-23T19:21:16.340Z"
   },
   {
    "duration": 16,
    "start_time": "2022-08-23T19:21:17.539Z"
   },
   {
    "duration": 8,
    "start_time": "2022-08-23T19:21:17.858Z"
   },
   {
    "duration": 8,
    "start_time": "2022-08-23T19:21:18.235Z"
   },
   {
    "duration": 6,
    "start_time": "2022-08-23T19:21:18.573Z"
   },
   {
    "duration": 8,
    "start_time": "2022-08-23T19:21:19.642Z"
   },
   {
    "duration": 12,
    "start_time": "2022-08-23T19:21:20.018Z"
   },
   {
    "duration": 6,
    "start_time": "2022-08-23T19:21:20.571Z"
   },
   {
    "duration": 62,
    "start_time": "2022-08-23T19:21:21.976Z"
   },
   {
    "duration": 5,
    "start_time": "2022-08-23T19:21:22.570Z"
   },
   {
    "duration": 4,
    "start_time": "2022-08-23T19:21:24.065Z"
   },
   {
    "duration": 4,
    "start_time": "2022-08-23T19:21:24.282Z"
   },
   {
    "duration": 5,
    "start_time": "2022-08-23T19:21:24.514Z"
   },
   {
    "duration": 7,
    "start_time": "2022-08-23T19:21:25.481Z"
   },
   {
    "duration": 6,
    "start_time": "2022-08-23T19:21:26.314Z"
   },
   {
    "duration": 4,
    "start_time": "2022-08-23T19:21:30.419Z"
   },
   {
    "duration": 5,
    "start_time": "2022-08-23T19:21:35.666Z"
   },
   {
    "duration": 5,
    "start_time": "2022-08-23T19:21:38.143Z"
   },
   {
    "duration": 5,
    "start_time": "2022-08-23T19:21:41.346Z"
   },
   {
    "duration": 3,
    "start_time": "2022-08-23T19:21:42.084Z"
   },
   {
    "duration": 179,
    "start_time": "2022-08-23T19:21:44.741Z"
   },
   {
    "duration": 11,
    "start_time": "2022-08-23T19:21:46.352Z"
   },
   {
    "duration": 205,
    "start_time": "2022-08-23T19:21:47.070Z"
   },
   {
    "duration": 12,
    "start_time": "2022-08-23T19:21:47.362Z"
   },
   {
    "duration": 4,
    "start_time": "2022-08-23T19:22:29.035Z"
   },
   {
    "duration": 5,
    "start_time": "2022-08-23T19:22:30.878Z"
   },
   {
    "duration": 4,
    "start_time": "2022-08-23T19:22:31.766Z"
   },
   {
    "duration": 6,
    "start_time": "2022-08-23T19:22:32.809Z"
   },
   {
    "duration": 95,
    "start_time": "2022-08-23T19:25:06.133Z"
   },
   {
    "duration": 37,
    "start_time": "2022-08-23T19:25:06.359Z"
   },
   {
    "duration": 18,
    "start_time": "2022-08-23T19:25:06.539Z"
   },
   {
    "duration": 2091,
    "start_time": "2022-08-23T19:25:06.738Z"
   },
   {
    "duration": 11,
    "start_time": "2022-08-23T19:25:08.830Z"
   },
   {
    "duration": 5,
    "start_time": "2022-08-23T19:25:08.843Z"
   },
   {
    "duration": 4,
    "start_time": "2022-08-23T19:25:08.850Z"
   },
   {
    "duration": 9,
    "start_time": "2022-08-23T19:25:08.855Z"
   },
   {
    "duration": 41,
    "start_time": "2022-08-23T19:25:08.865Z"
   },
   {
    "duration": 21,
    "start_time": "2022-08-23T19:25:09.183Z"
   },
   {
    "duration": 9,
    "start_time": "2022-08-23T19:25:09.564Z"
   },
   {
    "duration": 9,
    "start_time": "2022-08-23T19:25:10.110Z"
   },
   {
    "duration": 6,
    "start_time": "2022-08-23T19:25:10.770Z"
   },
   {
    "duration": 7,
    "start_time": "2022-08-23T19:25:12.251Z"
   },
   {
    "duration": 11,
    "start_time": "2022-08-23T19:25:12.598Z"
   },
   {
    "duration": 11,
    "start_time": "2022-08-23T19:25:13.092Z"
   },
   {
    "duration": 76,
    "start_time": "2022-08-23T19:25:13.479Z"
   },
   {
    "duration": 5,
    "start_time": "2022-08-23T19:25:14.230Z"
   },
   {
    "duration": 5,
    "start_time": "2022-08-23T19:25:17.655Z"
   },
   {
    "duration": 4,
    "start_time": "2022-08-23T19:25:18.122Z"
   },
   {
    "duration": 7,
    "start_time": "2022-08-23T19:25:18.395Z"
   },
   {
    "duration": 11,
    "start_time": "2022-08-23T19:25:19.087Z"
   },
   {
    "duration": 4,
    "start_time": "2022-08-23T19:25:19.569Z"
   },
   {
    "duration": 6,
    "start_time": "2022-08-23T19:25:20.133Z"
   },
   {
    "duration": 14,
    "start_time": "2022-08-23T19:26:16.376Z"
   },
   {
    "duration": 10,
    "start_time": "2022-08-23T19:26:35.240Z"
   },
   {
    "duration": 5,
    "start_time": "2022-08-23T19:26:36.022Z"
   },
   {
    "duration": 7,
    "start_time": "2022-08-23T19:26:47.661Z"
   },
   {
    "duration": 5,
    "start_time": "2022-08-23T19:27:18.572Z"
   },
   {
    "duration": 5,
    "start_time": "2022-08-23T19:27:31.823Z"
   },
   {
    "duration": 13,
    "start_time": "2022-08-23T19:27:42.483Z"
   },
   {
    "duration": 13,
    "start_time": "2022-08-23T19:27:42.779Z"
   },
   {
    "duration": 11,
    "start_time": "2022-08-23T19:27:43.063Z"
   },
   {
    "duration": 8,
    "start_time": "2022-08-23T19:27:43.385Z"
   },
   {
    "duration": 10,
    "start_time": "2022-08-23T19:27:44.083Z"
   },
   {
    "duration": 4,
    "start_time": "2022-08-23T19:28:37.922Z"
   },
   {
    "duration": 6,
    "start_time": "2022-08-23T19:28:38.376Z"
   },
   {
    "duration": 7,
    "start_time": "2022-08-23T19:28:38.691Z"
   },
   {
    "duration": 6,
    "start_time": "2022-08-23T19:32:56.066Z"
   },
   {
    "duration": 5,
    "start_time": "2022-08-23T19:32:57.033Z"
   },
   {
    "duration": 4,
    "start_time": "2022-08-23T19:33:48.492Z"
   },
   {
    "duration": 5,
    "start_time": "2022-08-23T19:33:49.349Z"
   },
   {
    "duration": 5,
    "start_time": "2022-08-23T19:33:49.963Z"
   },
   {
    "duration": 5,
    "start_time": "2022-08-23T19:33:50.648Z"
   },
   {
    "duration": 3,
    "start_time": "2022-08-23T19:33:51.450Z"
   },
   {
    "duration": 192,
    "start_time": "2022-08-23T19:33:52.632Z"
   },
   {
    "duration": 37,
    "start_time": "2022-08-23T19:34:09.929Z"
   },
   {
    "duration": 3,
    "start_time": "2022-08-23T19:35:42.847Z"
   },
   {
    "duration": 581,
    "start_time": "2022-08-23T19:35:43.457Z"
   },
   {
    "duration": 11,
    "start_time": "2022-08-23T19:36:01.318Z"
   },
   {
    "duration": 39,
    "start_time": "2022-08-23T19:36:13.786Z"
   },
   {
    "duration": 11,
    "start_time": "2022-08-23T19:37:01.738Z"
   },
   {
    "duration": 9,
    "start_time": "2022-08-23T19:37:17.738Z"
   },
   {
    "duration": 9,
    "start_time": "2022-08-23T19:37:34.529Z"
   },
   {
    "duration": 350,
    "start_time": "2022-08-23T19:38:47.421Z"
   },
   {
    "duration": 427,
    "start_time": "2022-08-23T19:39:01.538Z"
   },
   {
    "duration": 16,
    "start_time": "2022-08-23T19:39:21.401Z"
   },
   {
    "duration": 3,
    "start_time": "2022-08-23T19:39:35.522Z"
   },
   {
    "duration": 197,
    "start_time": "2022-08-23T19:39:36.226Z"
   },
   {
    "duration": 19,
    "start_time": "2022-08-23T19:39:46.227Z"
   },
   {
    "duration": 3,
    "start_time": "2022-08-23T19:39:55.228Z"
   },
   {
    "duration": 190,
    "start_time": "2022-08-23T19:39:55.485Z"
   },
   {
    "duration": 215,
    "start_time": "2022-08-23T19:41:12.346Z"
   },
   {
    "duration": 9,
    "start_time": "2022-08-23T19:41:43.251Z"
   },
   {
    "duration": 4,
    "start_time": "2022-08-23T19:44:28.449Z"
   },
   {
    "duration": 6,
    "start_time": "2022-08-23T19:44:42.108Z"
   },
   {
    "duration": 6,
    "start_time": "2022-08-23T19:44:47.376Z"
   },
   {
    "duration": 906,
    "start_time": "2022-08-23T19:58:29.879Z"
   },
   {
    "duration": 7,
    "start_time": "2022-08-23T19:58:45.893Z"
   },
   {
    "duration": 1123,
    "start_time": "2022-08-23T19:58:48.669Z"
   },
   {
    "duration": 734,
    "start_time": "2022-08-23T20:01:46.688Z"
   },
   {
    "duration": 4,
    "start_time": "2022-08-23T20:01:59.707Z"
   },
   {
    "duration": 5,
    "start_time": "2022-08-23T20:02:00.430Z"
   },
   {
    "duration": 5,
    "start_time": "2022-08-23T20:02:01.005Z"
   },
   {
    "duration": 5,
    "start_time": "2022-08-23T20:02:05.416Z"
   },
   {
    "duration": 6,
    "start_time": "2022-08-23T20:02:05.815Z"
   },
   {
    "duration": 6,
    "start_time": "2022-08-23T20:02:06.115Z"
   },
   {
    "duration": 4,
    "start_time": "2022-08-23T20:02:08.075Z"
   },
   {
    "duration": 5,
    "start_time": "2022-08-23T20:02:08.534Z"
   },
   {
    "duration": 5,
    "start_time": "2022-08-23T20:02:09.312Z"
   },
   {
    "duration": 5,
    "start_time": "2022-08-23T20:02:09.998Z"
   },
   {
    "duration": 2,
    "start_time": "2022-08-23T20:02:10.709Z"
   },
   {
    "duration": 822,
    "start_time": "2022-08-23T20:02:11.378Z"
   },
   {
    "duration": 54,
    "start_time": "2022-08-23T20:03:08.439Z"
   },
   {
    "duration": 13,
    "start_time": "2022-08-23T20:03:43.840Z"
   },
   {
    "duration": 3,
    "start_time": "2022-08-23T20:03:51.613Z"
   },
   {
    "duration": 16,
    "start_time": "2022-08-23T20:03:51.842Z"
   },
   {
    "duration": 3,
    "start_time": "2022-08-23T20:04:18.442Z"
   },
   {
    "duration": 14,
    "start_time": "2022-08-23T20:04:18.954Z"
   },
   {
    "duration": 271,
    "start_time": "2022-08-23T20:04:23.913Z"
   },
   {
    "duration": 1040,
    "start_time": "2022-08-24T16:16:43.518Z"
   },
   {
    "duration": 34,
    "start_time": "2022-08-24T16:16:44.560Z"
   },
   {
    "duration": 16,
    "start_time": "2022-08-24T16:16:44.595Z"
   },
   {
    "duration": 2011,
    "start_time": "2022-08-24T16:16:44.614Z"
   },
   {
    "duration": 10,
    "start_time": "2022-08-24T16:16:46.626Z"
   },
   {
    "duration": 5,
    "start_time": "2022-08-24T16:16:46.638Z"
   },
   {
    "duration": 6,
    "start_time": "2022-08-24T16:16:46.644Z"
   },
   {
    "duration": 11,
    "start_time": "2022-08-24T16:16:46.651Z"
   },
   {
    "duration": 4,
    "start_time": "2022-08-24T16:16:46.663Z"
   },
   {
    "duration": 13,
    "start_time": "2022-08-24T16:16:46.671Z"
   },
   {
    "duration": 7,
    "start_time": "2022-08-24T16:16:46.686Z"
   },
   {
    "duration": 8,
    "start_time": "2022-08-24T16:16:46.695Z"
   },
   {
    "duration": 15,
    "start_time": "2022-08-24T16:16:46.704Z"
   },
   {
    "duration": 11,
    "start_time": "2022-08-24T16:16:46.720Z"
   },
   {
    "duration": 33,
    "start_time": "2022-08-24T16:16:46.732Z"
   },
   {
    "duration": 13,
    "start_time": "2022-08-24T16:16:46.766Z"
   },
   {
    "duration": 15,
    "start_time": "2022-08-24T16:16:46.781Z"
   },
   {
    "duration": 6,
    "start_time": "2022-08-24T16:16:46.798Z"
   },
   {
    "duration": 6,
    "start_time": "2022-08-24T16:16:46.806Z"
   },
   {
    "duration": 7,
    "start_time": "2022-08-24T16:16:46.813Z"
   },
   {
    "duration": 37,
    "start_time": "2022-08-24T16:16:46.821Z"
   },
   {
    "duration": 4,
    "start_time": "2022-08-24T16:16:46.860Z"
   },
   {
    "duration": 10,
    "start_time": "2022-08-24T16:16:46.866Z"
   },
   {
    "duration": 6,
    "start_time": "2022-08-24T16:16:46.877Z"
   },
   {
    "duration": 5,
    "start_time": "2022-08-24T16:16:46.885Z"
   },
   {
    "duration": 6,
    "start_time": "2022-08-24T16:16:46.892Z"
   },
   {
    "duration": 102,
    "start_time": "2022-08-24T16:16:46.899Z"
   },
   {
    "duration": 0,
    "start_time": "2022-08-24T16:16:47.003Z"
   },
   {
    "duration": 0,
    "start_time": "2022-08-24T16:16:47.004Z"
   },
   {
    "duration": 51,
    "start_time": "2022-08-24T16:18:55.401Z"
   },
   {
    "duration": 67,
    "start_time": "2022-08-24T16:20:05.706Z"
   },
   {
    "duration": 5,
    "start_time": "2022-08-24T16:20:20.187Z"
   },
   {
    "duration": 3,
    "start_time": "2022-08-24T16:20:21.508Z"
   },
   {
    "duration": 57,
    "start_time": "2022-08-24T16:20:22.731Z"
   },
   {
    "duration": 3,
    "start_time": "2022-08-24T16:20:25.870Z"
   },
   {
    "duration": 54,
    "start_time": "2022-08-24T16:20:26.145Z"
   },
   {
    "duration": 8,
    "start_time": "2022-08-24T16:22:46.871Z"
   },
   {
    "duration": 77,
    "start_time": "2022-08-24T16:23:29.415Z"
   },
   {
    "duration": 31,
    "start_time": "2022-08-24T16:23:34.386Z"
   },
   {
    "duration": 4,
    "start_time": "2022-08-24T16:23:47.536Z"
   },
   {
    "duration": 12,
    "start_time": "2022-08-24T16:23:58.333Z"
   },
   {
    "duration": 326,
    "start_time": "2022-08-24T16:24:45.659Z"
   },
   {
    "duration": 27,
    "start_time": "2022-08-24T16:25:11.562Z"
   },
   {
    "duration": 4,
    "start_time": "2022-08-24T16:25:29.165Z"
   },
   {
    "duration": 10,
    "start_time": "2022-08-24T16:25:29.735Z"
   },
   {
    "duration": 11,
    "start_time": "2022-08-24T16:25:37.652Z"
   },
   {
    "duration": 10,
    "start_time": "2022-08-24T16:25:39.085Z"
   },
   {
    "duration": 9,
    "start_time": "2022-08-24T16:25:40.047Z"
   },
   {
    "duration": 3,
    "start_time": "2022-08-24T16:25:41.683Z"
   },
   {
    "duration": 311,
    "start_time": "2022-08-24T16:25:42.842Z"
   },
   {
    "duration": 4,
    "start_time": "2022-08-24T16:25:44.149Z"
   },
   {
    "duration": 10,
    "start_time": "2022-08-24T16:25:44.676Z"
   },
   {
    "duration": 30,
    "start_time": "2022-08-24T16:25:45.270Z"
   },
   {
    "duration": 73,
    "start_time": "2022-08-24T16:27:00.829Z"
   },
   {
    "duration": 36,
    "start_time": "2022-08-24T16:27:22.579Z"
   },
   {
    "duration": 95,
    "start_time": "2022-08-24T16:28:34.644Z"
   },
   {
    "duration": 30,
    "start_time": "2022-08-24T16:28:35.109Z"
   },
   {
    "duration": 14,
    "start_time": "2022-08-24T16:28:35.562Z"
   },
   {
    "duration": 1963,
    "start_time": "2022-08-24T16:28:35.891Z"
   },
   {
    "duration": 10,
    "start_time": "2022-08-24T16:28:37.858Z"
   },
   {
    "duration": 5,
    "start_time": "2022-08-24T16:28:37.869Z"
   },
   {
    "duration": 9,
    "start_time": "2022-08-24T16:28:37.875Z"
   },
   {
    "duration": 7,
    "start_time": "2022-08-24T16:28:38.150Z"
   },
   {
    "duration": 4,
    "start_time": "2022-08-24T16:28:38.752Z"
   },
   {
    "duration": 13,
    "start_time": "2022-08-24T16:28:40.812Z"
   },
   {
    "duration": 12,
    "start_time": "2022-08-24T16:28:48.590Z"
   },
   {
    "duration": 8,
    "start_time": "2022-08-24T16:28:49.105Z"
   },
   {
    "duration": 8,
    "start_time": "2022-08-24T16:28:49.981Z"
   },
   {
    "duration": 5,
    "start_time": "2022-08-24T16:28:50.423Z"
   },
   {
    "duration": 7,
    "start_time": "2022-08-24T16:28:52.551Z"
   },
   {
    "duration": 11,
    "start_time": "2022-08-24T16:28:53.013Z"
   },
   {
    "duration": 15,
    "start_time": "2022-08-24T16:28:53.374Z"
   },
   {
    "duration": 14,
    "start_time": "2022-08-24T16:28:53.969Z"
   },
   {
    "duration": 8,
    "start_time": "2022-08-24T16:28:55.190Z"
   },
   {
    "duration": 5,
    "start_time": "2022-08-24T16:29:41.090Z"
   },
   {
    "duration": 6,
    "start_time": "2022-08-24T16:29:41.322Z"
   },
   {
    "duration": 6,
    "start_time": "2022-08-24T16:29:41.555Z"
   },
   {
    "duration": 4,
    "start_time": "2022-08-24T16:29:43.171Z"
   },
   {
    "duration": 5,
    "start_time": "2022-08-24T16:29:44.930Z"
   },
   {
    "duration": 5,
    "start_time": "2022-08-24T16:29:46.764Z"
   },
   {
    "duration": 5,
    "start_time": "2022-08-24T16:29:47.760Z"
   },
   {
    "duration": 3,
    "start_time": "2022-08-24T16:29:48.746Z"
   },
   {
    "duration": 232,
    "start_time": "2022-08-24T16:29:49.140Z"
   },
   {
    "duration": 5,
    "start_time": "2022-08-24T16:29:49.927Z"
   },
   {
    "duration": 24,
    "start_time": "2022-08-24T16:29:50.387Z"
   },
   {
    "duration": 25,
    "start_time": "2022-08-24T16:30:14.782Z"
   },
   {
    "duration": 1325,
    "start_time": "2022-08-24T16:35:35.001Z"
   },
   {
    "duration": 123,
    "start_time": "2022-08-24T16:35:42.011Z"
   },
   {
    "duration": 10,
    "start_time": "2022-08-24T16:36:31.145Z"
   },
   {
    "duration": 36,
    "start_time": "2022-08-24T16:37:39.664Z"
   },
   {
    "duration": 133,
    "start_time": "2022-08-24T16:38:43.207Z"
   },
   {
    "duration": 9,
    "start_time": "2022-08-24T16:38:58.298Z"
   },
   {
    "duration": 38,
    "start_time": "2022-08-24T16:39:49.540Z"
   },
   {
    "duration": 131,
    "start_time": "2022-08-24T16:41:53.243Z"
   },
   {
    "duration": 9,
    "start_time": "2022-08-24T16:41:58.155Z"
   },
   {
    "duration": 10,
    "start_time": "2022-08-24T16:43:21.783Z"
   },
   {
    "duration": 135,
    "start_time": "2022-08-24T16:43:35.766Z"
   },
   {
    "duration": 8,
    "start_time": "2022-08-24T16:45:18.832Z"
   },
   {
    "duration": 121,
    "start_time": "2022-08-24T16:45:56.129Z"
   },
   {
    "duration": 44,
    "start_time": "2022-08-24T16:46:37.938Z"
   },
   {
    "duration": 6,
    "start_time": "2022-08-24T16:46:50.616Z"
   },
   {
    "duration": 11,
    "start_time": "2022-08-24T16:48:19.236Z"
   },
   {
    "duration": 132,
    "start_time": "2022-08-24T16:48:32.735Z"
   },
   {
    "duration": 7,
    "start_time": "2022-08-24T16:48:52.781Z"
   },
   {
    "duration": 197,
    "start_time": "2022-08-24T16:49:50.959Z"
   },
   {
    "duration": 5,
    "start_time": "2022-08-24T16:50:19.069Z"
   },
   {
    "duration": 8,
    "start_time": "2022-08-24T16:50:26.539Z"
   },
   {
    "duration": 7,
    "start_time": "2022-08-24T16:50:39.626Z"
   },
   {
    "duration": 105,
    "start_time": "2022-08-24T16:50:50.799Z"
   },
   {
    "duration": 9,
    "start_time": "2022-08-24T16:55:20.490Z"
   },
   {
    "duration": 120,
    "start_time": "2022-08-24T16:55:36.774Z"
   },
   {
    "duration": 7,
    "start_time": "2022-08-24T16:55:55.754Z"
   },
   {
    "duration": 1326,
    "start_time": "2022-08-24T16:56:40.588Z"
   },
   {
    "duration": 9,
    "start_time": "2022-08-24T16:57:02.303Z"
   },
   {
    "duration": 152,
    "start_time": "2022-08-24T16:57:25.611Z"
   },
   {
    "duration": 6,
    "start_time": "2022-08-24T16:57:28.058Z"
   },
   {
    "duration": 9,
    "start_time": "2022-08-24T16:59:27.492Z"
   },
   {
    "duration": 130,
    "start_time": "2022-08-24T16:59:27.895Z"
   },
   {
    "duration": 7,
    "start_time": "2022-08-24T16:59:28.402Z"
   },
   {
    "duration": 38,
    "start_time": "2022-08-24T17:03:16.885Z"
   },
   {
    "duration": 11,
    "start_time": "2022-08-24T17:03:56.300Z"
   },
   {
    "duration": 6,
    "start_time": "2022-08-24T17:04:13.550Z"
   },
   {
    "duration": 5,
    "start_time": "2022-08-24T17:04:24.606Z"
   },
   {
    "duration": 9,
    "start_time": "2022-08-24T17:04:28.577Z"
   },
   {
    "duration": 6,
    "start_time": "2022-08-24T17:04:33.306Z"
   },
   {
    "duration": 15,
    "start_time": "2022-08-24T17:06:02.146Z"
   },
   {
    "duration": 11,
    "start_time": "2022-08-24T17:06:05.698Z"
   },
   {
    "duration": 16,
    "start_time": "2022-08-24T17:06:13.358Z"
   },
   {
    "duration": 12,
    "start_time": "2022-08-24T17:06:15.703Z"
   },
   {
    "duration": 10,
    "start_time": "2022-08-24T17:07:10.168Z"
   },
   {
    "duration": 8,
    "start_time": "2022-08-24T17:07:29.638Z"
   },
   {
    "duration": 8,
    "start_time": "2022-08-24T17:07:43.097Z"
   },
   {
    "duration": 8,
    "start_time": "2022-08-24T17:08:48.969Z"
   },
   {
    "duration": 89,
    "start_time": "2022-08-24T17:09:19.309Z"
   },
   {
    "duration": 192,
    "start_time": "2022-08-24T17:09:30.674Z"
   },
   {
    "duration": 1042,
    "start_time": "2022-08-25T15:33:10.418Z"
   },
   {
    "duration": 34,
    "start_time": "2022-08-25T15:33:11.463Z"
   },
   {
    "duration": 15,
    "start_time": "2022-08-25T15:33:12.140Z"
   },
   {
    "duration": 1877,
    "start_time": "2022-08-25T15:33:12.416Z"
   },
   {
    "duration": 10,
    "start_time": "2022-08-25T15:33:14.295Z"
   },
   {
    "duration": 6,
    "start_time": "2022-08-25T15:33:14.307Z"
   },
   {
    "duration": 6,
    "start_time": "2022-08-25T15:33:14.315Z"
   },
   {
    "duration": 10,
    "start_time": "2022-08-25T15:33:14.479Z"
   },
   {
    "duration": 3,
    "start_time": "2022-08-25T15:33:14.803Z"
   },
   {
    "duration": 19,
    "start_time": "2022-08-25T15:33:15.653Z"
   },
   {
    "duration": 9,
    "start_time": "2022-08-25T15:33:15.870Z"
   },
   {
    "duration": 7,
    "start_time": "2022-08-25T15:33:16.061Z"
   },
   {
    "duration": 5,
    "start_time": "2022-08-25T15:33:16.269Z"
   },
   {
    "duration": 7,
    "start_time": "2022-08-25T15:33:16.833Z"
   },
   {
    "duration": 10,
    "start_time": "2022-08-25T15:33:17.046Z"
   },
   {
    "duration": 15,
    "start_time": "2022-08-25T15:33:17.264Z"
   },
   {
    "duration": 14,
    "start_time": "2022-08-25T15:33:17.452Z"
   },
   {
    "duration": 7,
    "start_time": "2022-08-25T15:33:17.645Z"
   },
   {
    "duration": 6,
    "start_time": "2022-08-25T15:33:18.260Z"
   },
   {
    "duration": 7,
    "start_time": "2022-08-25T15:33:18.458Z"
   },
   {
    "duration": 7,
    "start_time": "2022-08-25T15:33:18.962Z"
   },
   {
    "duration": 4,
    "start_time": "2022-08-25T15:33:19.091Z"
   },
   {
    "duration": 6,
    "start_time": "2022-08-25T15:33:19.149Z"
   },
   {
    "duration": 5,
    "start_time": "2022-08-25T15:33:19.224Z"
   },
   {
    "duration": 5,
    "start_time": "2022-08-25T15:33:19.292Z"
   },
   {
    "duration": 3,
    "start_time": "2022-08-25T15:33:19.351Z"
   },
   {
    "duration": 225,
    "start_time": "2022-08-25T15:33:19.530Z"
   },
   {
    "duration": 4,
    "start_time": "2022-08-25T15:33:19.974Z"
   },
   {
    "duration": 12,
    "start_time": "2022-08-25T15:33:20.193Z"
   },
   {
    "duration": 10,
    "start_time": "2022-08-25T15:33:21.083Z"
   },
   {
    "duration": 118,
    "start_time": "2022-08-25T15:33:21.278Z"
   },
   {
    "duration": 8,
    "start_time": "2022-08-25T15:33:21.866Z"
   },
   {
    "duration": 125,
    "start_time": "2022-08-25T15:33:22.070Z"
   },
   {
    "duration": 9,
    "start_time": "2022-08-25T15:33:22.706Z"
   },
   {
    "duration": 115,
    "start_time": "2022-08-25T15:33:22.922Z"
   },
   {
    "duration": 8,
    "start_time": "2022-08-25T15:33:23.578Z"
   },
   {
    "duration": 122,
    "start_time": "2022-08-25T15:33:23.803Z"
   },
   {
    "duration": 9,
    "start_time": "2022-08-25T15:33:24.425Z"
   },
   {
    "duration": 198,
    "start_time": "2022-08-25T15:33:24.628Z"
   },
   {
    "duration": 6,
    "start_time": "2022-08-25T15:33:24.852Z"
   },
   {
    "duration": 10,
    "start_time": "2022-08-25T15:33:25.533Z"
   },
   {
    "duration": 130,
    "start_time": "2022-08-25T15:33:25.754Z"
   },
   {
    "duration": 6,
    "start_time": "2022-08-25T15:33:25.985Z"
   },
   {
    "duration": 9,
    "start_time": "2022-08-25T15:33:26.804Z"
   },
   {
    "duration": 139,
    "start_time": "2022-08-25T15:33:27.005Z"
   },
   {
    "duration": 6,
    "start_time": "2022-08-25T15:33:27.209Z"
   },
   {
    "duration": 6,
    "start_time": "2022-08-25T15:33:27.617Z"
   },
   {
    "duration": 107,
    "start_time": "2022-08-25T15:33:27.820Z"
   },
   {
    "duration": 8,
    "start_time": "2022-08-25T15:33:28.408Z"
   },
   {
    "duration": 119,
    "start_time": "2022-08-25T15:33:28.602Z"
   },
   {
    "duration": 6,
    "start_time": "2022-08-25T15:33:28.782Z"
   },
   {
    "duration": 9,
    "start_time": "2022-08-25T15:33:29.406Z"
   },
   {
    "duration": 139,
    "start_time": "2022-08-25T15:33:29.627Z"
   },
   {
    "duration": 7,
    "start_time": "2022-08-25T15:33:29.836Z"
   },
   {
    "duration": 15,
    "start_time": "2022-08-25T15:33:31.905Z"
   },
   {
    "duration": 11,
    "start_time": "2022-08-25T15:33:32.558Z"
   },
   {
    "duration": 72,
    "start_time": "2022-08-25T15:37:51.092Z"
   },
   {
    "duration": 103,
    "start_time": "2022-08-25T15:38:13.714Z"
   },
   {
    "duration": 7,
    "start_time": "2022-08-25T15:39:03.733Z"
   },
   {
    "duration": 6,
    "start_time": "2022-08-25T15:39:18.759Z"
   },
   {
    "duration": 6,
    "start_time": "2022-08-25T15:39:31.452Z"
   },
   {
    "duration": 9,
    "start_time": "2022-08-25T15:41:36.736Z"
   },
   {
    "duration": 113,
    "start_time": "2022-08-25T15:41:46.383Z"
   },
   {
    "duration": 50,
    "start_time": "2022-08-25T15:45:42.293Z"
   },
   {
    "duration": 50,
    "start_time": "2022-08-25T15:45:42.690Z"
   },
   {
    "duration": 10,
    "start_time": "2022-08-25T15:45:50.954Z"
   },
   {
    "duration": 117,
    "start_time": "2022-08-25T15:45:57.136Z"
   },
   {
    "duration": 53,
    "start_time": "2022-08-25T15:46:45.592Z"
   },
   {
    "duration": 43,
    "start_time": "2022-08-25T15:47:10.354Z"
   },
   {
    "duration": 10,
    "start_time": "2022-08-25T15:50:24.020Z"
   },
   {
    "duration": 8,
    "start_time": "2022-08-25T15:51:10.313Z"
   },
   {
    "duration": 7,
    "start_time": "2022-08-25T15:51:50.113Z"
   },
   {
    "duration": 9,
    "start_time": "2022-08-25T15:51:56.186Z"
   },
   {
    "duration": 7,
    "start_time": "2022-08-25T15:52:30.179Z"
   },
   {
    "duration": 37,
    "start_time": "2022-08-25T15:53:58.265Z"
   },
   {
    "duration": 49,
    "start_time": "2022-08-25T15:54:03.368Z"
   },
   {
    "duration": 6,
    "start_time": "2022-08-25T15:54:28.452Z"
   },
   {
    "duration": 1037,
    "start_time": "2022-08-25T17:31:18.505Z"
   },
   {
    "duration": 38,
    "start_time": "2022-08-25T17:31:19.544Z"
   },
   {
    "duration": 17,
    "start_time": "2022-08-25T17:31:19.584Z"
   },
   {
    "duration": 2150,
    "start_time": "2022-08-25T17:31:19.861Z"
   },
   {
    "duration": 12,
    "start_time": "2022-08-25T17:31:22.014Z"
   },
   {
    "duration": 6,
    "start_time": "2022-08-25T17:31:22.028Z"
   },
   {
    "duration": 6,
    "start_time": "2022-08-25T17:31:22.036Z"
   },
   {
    "duration": 13,
    "start_time": "2022-08-25T17:31:22.044Z"
   },
   {
    "duration": 4,
    "start_time": "2022-08-25T17:31:22.302Z"
   },
   {
    "duration": 17,
    "start_time": "2022-08-25T17:31:24.140Z"
   },
   {
    "duration": 9,
    "start_time": "2022-08-25T17:31:24.819Z"
   },
   {
    "duration": 8,
    "start_time": "2022-08-25T17:31:25.311Z"
   },
   {
    "duration": 7,
    "start_time": "2022-08-25T17:31:25.702Z"
   },
   {
    "duration": 7,
    "start_time": "2022-08-25T17:31:26.554Z"
   },
   {
    "duration": 13,
    "start_time": "2022-08-25T17:31:26.730Z"
   },
   {
    "duration": 17,
    "start_time": "2022-08-25T17:31:26.901Z"
   },
   {
    "duration": 20,
    "start_time": "2022-08-25T17:31:27.060Z"
   },
   {
    "duration": 8,
    "start_time": "2022-08-25T17:31:27.233Z"
   },
   {
    "duration": 5,
    "start_time": "2022-08-25T17:31:27.738Z"
   },
   {
    "duration": 7,
    "start_time": "2022-08-25T17:31:27.905Z"
   },
   {
    "duration": 9,
    "start_time": "2022-08-25T17:31:28.062Z"
   },
   {
    "duration": 5,
    "start_time": "2022-08-25T17:31:28.916Z"
   },
   {
    "duration": 5,
    "start_time": "2022-08-25T17:31:29.474Z"
   },
   {
    "duration": 5,
    "start_time": "2022-08-25T17:31:29.550Z"
   },
   {
    "duration": 5,
    "start_time": "2022-08-25T17:31:29.636Z"
   },
   {
    "duration": 3,
    "start_time": "2022-08-25T17:31:29.725Z"
   },
   {
    "duration": 256,
    "start_time": "2022-08-25T17:31:29.775Z"
   },
   {
    "duration": 4,
    "start_time": "2022-08-25T17:31:30.034Z"
   },
   {
    "duration": 28,
    "start_time": "2022-08-25T17:31:30.040Z"
   },
   {
    "duration": 14,
    "start_time": "2022-08-25T17:31:30.070Z"
   },
   {
    "duration": 140,
    "start_time": "2022-08-25T17:31:30.162Z"
   },
   {
    "duration": 10,
    "start_time": "2022-08-25T17:31:30.681Z"
   },
   {
    "duration": 152,
    "start_time": "2022-08-25T17:31:30.830Z"
   },
   {
    "duration": 13,
    "start_time": "2022-08-25T17:31:31.326Z"
   },
   {
    "duration": 152,
    "start_time": "2022-08-25T17:31:31.479Z"
   },
   {
    "duration": 10,
    "start_time": "2022-08-25T17:31:31.943Z"
   },
   {
    "duration": 218,
    "start_time": "2022-08-25T17:31:32.018Z"
   },
   {
    "duration": 9,
    "start_time": "2022-08-25T17:31:32.698Z"
   },
   {
    "duration": 146,
    "start_time": "2022-08-25T17:31:32.877Z"
   },
   {
    "duration": 7,
    "start_time": "2022-08-25T17:31:33.066Z"
   },
   {
    "duration": 10,
    "start_time": "2022-08-25T17:31:33.653Z"
   },
   {
    "duration": 177,
    "start_time": "2022-08-25T17:31:33.836Z"
   },
   {
    "duration": 8,
    "start_time": "2022-08-25T17:31:34.036Z"
   },
   {
    "duration": 9,
    "start_time": "2022-08-25T17:31:36.450Z"
   },
   {
    "duration": 136,
    "start_time": "2022-08-25T17:31:36.650Z"
   },
   {
    "duration": 6,
    "start_time": "2022-08-25T17:31:36.841Z"
   },
   {
    "duration": 7,
    "start_time": "2022-08-25T17:31:37.232Z"
   },
   {
    "duration": 113,
    "start_time": "2022-08-25T17:31:37.428Z"
   },
   {
    "duration": 10,
    "start_time": "2022-08-25T17:31:38.001Z"
   },
   {
    "duration": 140,
    "start_time": "2022-08-25T17:31:38.203Z"
   },
   {
    "duration": 7,
    "start_time": "2022-08-25T17:31:38.441Z"
   },
   {
    "duration": 10,
    "start_time": "2022-08-25T17:31:39.737Z"
   },
   {
    "duration": 159,
    "start_time": "2022-08-25T17:31:40.251Z"
   },
   {
    "duration": 10,
    "start_time": "2022-08-25T17:31:41.833Z"
   },
   {
    "duration": 136,
    "start_time": "2022-08-25T17:31:42.207Z"
   },
   {
    "duration": 10,
    "start_time": "2022-08-25T17:31:43.246Z"
   },
   {
    "duration": 142,
    "start_time": "2022-08-25T17:31:43.559Z"
   },
   {
    "duration": 8,
    "start_time": "2022-08-25T17:31:44.312Z"
   },
   {
    "duration": 19,
    "start_time": "2022-08-25T17:31:45.502Z"
   },
   {
    "duration": 11,
    "start_time": "2022-08-25T17:31:46.121Z"
   },
   {
    "duration": 150,
    "start_time": "2022-08-25T17:32:46.842Z"
   },
   {
    "duration": 147,
    "start_time": "2022-08-25T17:33:00.785Z"
   },
   {
    "duration": 94,
    "start_time": "2022-08-25T17:35:17.016Z"
   },
   {
    "duration": 17,
    "start_time": "2022-08-25T17:35:48.480Z"
   },
   {
    "duration": 12,
    "start_time": "2022-08-25T17:38:10.207Z"
   },
   {
    "duration": 16,
    "start_time": "2022-08-25T17:38:28.409Z"
   },
   {
    "duration": 14,
    "start_time": "2022-08-25T17:38:38.301Z"
   },
   {
    "duration": 8,
    "start_time": "2022-08-25T17:39:37.054Z"
   },
   {
    "duration": 49,
    "start_time": "2022-08-25T17:46:37.159Z"
   },
   {
    "duration": 10,
    "start_time": "2022-08-25T17:49:05.663Z"
   },
   {
    "duration": 46,
    "start_time": "2022-08-25T17:50:18.471Z"
   },
   {
    "duration": 8,
    "start_time": "2022-08-25T17:50:54.194Z"
   },
   {
    "duration": 12,
    "start_time": "2022-08-25T17:55:21.467Z"
   },
   {
    "duration": 1132,
    "start_time": "2022-08-26T15:07:20.010Z"
   },
   {
    "duration": 39,
    "start_time": "2022-08-26T15:07:21.144Z"
   },
   {
    "duration": 17,
    "start_time": "2022-08-26T15:07:21.184Z"
   },
   {
    "duration": 2434,
    "start_time": "2022-08-26T15:07:21.203Z"
   },
   {
    "duration": 11,
    "start_time": "2022-08-26T15:07:23.640Z"
   },
   {
    "duration": 53,
    "start_time": "2022-08-26T15:07:23.653Z"
   },
   {
    "duration": 8,
    "start_time": "2022-08-26T15:07:23.708Z"
   },
   {
    "duration": 17,
    "start_time": "2022-08-26T15:07:23.718Z"
   },
   {
    "duration": 6,
    "start_time": "2022-08-26T15:07:23.737Z"
   },
   {
    "duration": 27,
    "start_time": "2022-08-26T15:07:23.745Z"
   },
   {
    "duration": 10,
    "start_time": "2022-08-26T15:07:23.774Z"
   },
   {
    "duration": 12,
    "start_time": "2022-08-26T15:07:23.786Z"
   },
   {
    "duration": 10,
    "start_time": "2022-08-26T15:07:23.799Z"
   },
   {
    "duration": 11,
    "start_time": "2022-08-26T15:07:23.813Z"
   },
   {
    "duration": 16,
    "start_time": "2022-08-26T15:07:23.826Z"
   },
   {
    "duration": 16,
    "start_time": "2022-08-26T15:07:23.868Z"
   },
   {
    "duration": 20,
    "start_time": "2022-08-26T15:07:23.886Z"
   },
   {
    "duration": 10,
    "start_time": "2022-08-26T15:07:23.907Z"
   },
   {
    "duration": 9,
    "start_time": "2022-08-26T15:07:23.919Z"
   },
   {
    "duration": 11,
    "start_time": "2022-08-26T15:07:23.929Z"
   },
   {
    "duration": 30,
    "start_time": "2022-08-26T15:07:23.942Z"
   },
   {
    "duration": 6,
    "start_time": "2022-08-26T15:07:23.973Z"
   },
   {
    "duration": 8,
    "start_time": "2022-08-26T15:07:23.981Z"
   },
   {
    "duration": 5,
    "start_time": "2022-08-26T15:07:23.990Z"
   },
   {
    "duration": 7,
    "start_time": "2022-08-26T15:07:23.996Z"
   },
   {
    "duration": 3,
    "start_time": "2022-08-26T15:07:24.005Z"
   },
   {
    "duration": 280,
    "start_time": "2022-08-26T15:07:24.010Z"
   },
   {
    "duration": 5,
    "start_time": "2022-08-26T15:07:24.292Z"
   },
   {
    "duration": 20,
    "start_time": "2022-08-26T15:07:24.298Z"
   },
   {
    "duration": 9,
    "start_time": "2022-08-26T15:07:24.320Z"
   },
   {
    "duration": 149,
    "start_time": "2022-08-26T15:07:24.330Z"
   },
   {
    "duration": 9,
    "start_time": "2022-08-26T15:07:24.481Z"
   },
   {
    "duration": 165,
    "start_time": "2022-08-26T15:07:24.491Z"
   },
   {
    "duration": 28,
    "start_time": "2022-08-26T15:07:24.658Z"
   },
   {
    "duration": 138,
    "start_time": "2022-08-26T15:07:24.688Z"
   },
   {
    "duration": 9,
    "start_time": "2022-08-26T15:07:24.828Z"
   },
   {
    "duration": 155,
    "start_time": "2022-08-26T15:07:24.839Z"
   },
   {
    "duration": 9,
    "start_time": "2022-08-26T15:07:24.995Z"
   },
   {
    "duration": 230,
    "start_time": "2022-08-26T15:07:25.005Z"
   },
   {
    "duration": 6,
    "start_time": "2022-08-26T15:07:25.236Z"
   },
   {
    "duration": 23,
    "start_time": "2022-08-26T15:07:25.246Z"
   },
   {
    "duration": 152,
    "start_time": "2022-08-26T15:07:25.270Z"
   },
   {
    "duration": 7,
    "start_time": "2022-08-26T15:07:25.423Z"
   },
   {
    "duration": 10,
    "start_time": "2022-08-26T15:07:25.432Z"
   },
   {
    "duration": 189,
    "start_time": "2022-08-26T15:07:25.444Z"
   },
   {
    "duration": 6,
    "start_time": "2022-08-26T15:07:25.634Z"
   },
   {
    "duration": 18,
    "start_time": "2022-08-26T15:07:25.642Z"
   },
   {
    "duration": 134,
    "start_time": "2022-08-26T15:07:25.668Z"
   },
   {
    "duration": 11,
    "start_time": "2022-08-26T15:07:25.804Z"
   },
   {
    "duration": 157,
    "start_time": "2022-08-26T15:07:25.817Z"
   },
   {
    "duration": 5,
    "start_time": "2022-08-26T15:07:25.976Z"
   },
   {
    "duration": 15,
    "start_time": "2022-08-26T15:07:25.983Z"
   },
   {
    "duration": 169,
    "start_time": "2022-08-26T15:07:26.000Z"
   },
   {
    "duration": 10,
    "start_time": "2022-08-26T15:07:26.171Z"
   },
   {
    "duration": 149,
    "start_time": "2022-08-26T15:07:26.182Z"
   },
   {
    "duration": 9,
    "start_time": "2022-08-26T15:07:26.333Z"
   },
   {
    "duration": 176,
    "start_time": "2022-08-26T15:07:26.343Z"
   },
   {
    "duration": 188,
    "start_time": "2022-08-26T15:07:26.522Z"
   },
   {
    "duration": 194,
    "start_time": "2022-08-26T15:07:26.712Z"
   },
   {
    "duration": 18,
    "start_time": "2022-08-26T15:07:26.908Z"
   },
   {
    "duration": 8,
    "start_time": "2022-08-26T15:07:26.928Z"
   },
   {
    "duration": 31,
    "start_time": "2022-08-26T15:07:26.937Z"
   },
   {
    "duration": 11,
    "start_time": "2022-08-26T15:07:26.970Z"
   },
   {
    "duration": 48,
    "start_time": "2022-08-26T15:07:26.983Z"
   },
   {
    "duration": 75,
    "start_time": "2022-08-26T15:18:13.584Z"
   },
   {
    "duration": 10,
    "start_time": "2022-08-26T15:18:34.866Z"
   },
   {
    "duration": 9,
    "start_time": "2022-08-26T15:19:36.119Z"
   },
   {
    "duration": 10,
    "start_time": "2022-08-26T15:19:42.319Z"
   },
   {
    "duration": 9,
    "start_time": "2022-08-26T15:20:24.826Z"
   },
   {
    "duration": 22,
    "start_time": "2022-08-26T15:21:18.693Z"
   },
   {
    "duration": 20,
    "start_time": "2022-08-26T15:21:26.324Z"
   },
   {
    "duration": 137,
    "start_time": "2022-08-26T15:23:34.379Z"
   },
   {
    "duration": 130,
    "start_time": "2022-08-26T15:23:40.688Z"
   },
   {
    "duration": 176,
    "start_time": "2022-08-26T15:23:47.048Z"
   },
   {
    "duration": 216,
    "start_time": "2022-08-26T15:23:51.072Z"
   },
   {
    "duration": 145,
    "start_time": "2022-08-26T15:23:57.925Z"
   },
   {
    "duration": 6,
    "start_time": "2022-08-26T15:37:01.792Z"
   },
   {
    "duration": 1297,
    "start_time": "2022-08-26T15:37:51.157Z"
   },
   {
    "duration": 6,
    "start_time": "2022-08-26T15:38:19.758Z"
   },
   {
    "duration": 11,
    "start_time": "2022-08-26T15:38:33.203Z"
   },
   {
    "duration": 140,
    "start_time": "2022-08-26T15:38:43.191Z"
   },
   {
    "duration": 249,
    "start_time": "2022-08-26T15:41:49.375Z"
   },
   {
    "duration": 128,
    "start_time": "2022-08-26T15:41:57.600Z"
   },
   {
    "duration": 147,
    "start_time": "2022-08-26T15:42:27.367Z"
   },
   {
    "duration": 7,
    "start_time": "2022-08-26T15:45:18.824Z"
   },
   {
    "duration": 12,
    "start_time": "2022-08-26T15:47:53.102Z"
   },
   {
    "duration": 6,
    "start_time": "2022-08-26T15:48:30.919Z"
   },
   {
    "duration": 5,
    "start_time": "2022-08-26T15:48:44.913Z"
   },
   {
    "duration": 6,
    "start_time": "2022-08-26T15:49:51.884Z"
   },
   {
    "duration": 6,
    "start_time": "2022-08-26T15:52:33.769Z"
   },
   {
    "duration": 9,
    "start_time": "2022-08-26T16:18:24.817Z"
   },
   {
    "duration": 7,
    "start_time": "2022-08-26T16:19:22.485Z"
   },
   {
    "duration": 9,
    "start_time": "2022-08-26T16:26:38.893Z"
   },
   {
    "duration": 149,
    "start_time": "2022-08-26T16:26:48.615Z"
   },
   {
    "duration": 7,
    "start_time": "2022-08-26T16:27:12.599Z"
   },
   {
    "duration": 8,
    "start_time": "2022-08-26T16:34:17.671Z"
   },
   {
    "duration": 7,
    "start_time": "2022-08-26T16:37:04.100Z"
   },
   {
    "duration": 6,
    "start_time": "2022-08-26T16:38:16.116Z"
   },
   {
    "duration": 40,
    "start_time": "2022-08-26T16:38:31.904Z"
   },
   {
    "duration": 107,
    "start_time": "2022-08-26T16:43:45.940Z"
   },
   {
    "duration": 189,
    "start_time": "2022-08-26T16:44:23.907Z"
   },
   {
    "duration": 10,
    "start_time": "2022-08-26T16:45:44.489Z"
   },
   {
    "duration": 195,
    "start_time": "2022-08-26T16:45:44.738Z"
   },
   {
    "duration": 8,
    "start_time": "2022-08-26T16:46:10.674Z"
   },
   {
    "duration": 6,
    "start_time": "2022-08-26T16:46:30.694Z"
   },
   {
    "duration": 6,
    "start_time": "2022-08-26T16:46:43.041Z"
   },
   {
    "duration": 6,
    "start_time": "2022-08-26T16:46:49.108Z"
   },
   {
    "duration": 157,
    "start_time": "2022-08-26T16:47:39.841Z"
   },
   {
    "duration": 148,
    "start_time": "2022-08-26T16:49:19.382Z"
   },
   {
    "duration": 8,
    "start_time": "2022-08-26T16:50:19.633Z"
   },
   {
    "duration": 5,
    "start_time": "2022-08-26T16:53:23.452Z"
   },
   {
    "duration": 232,
    "start_time": "2022-08-26T16:53:37.712Z"
   },
   {
    "duration": 4,
    "start_time": "2022-08-26T16:53:47.857Z"
   },
   {
    "duration": 221,
    "start_time": "2022-08-26T16:53:48.189Z"
   },
   {
    "duration": 5,
    "start_time": "2022-08-26T16:54:32.759Z"
   },
   {
    "duration": 7,
    "start_time": "2022-08-26T16:54:39.994Z"
   },
   {
    "duration": 109,
    "start_time": "2022-08-26T16:55:26.288Z"
   },
   {
    "duration": 5,
    "start_time": "2022-08-26T16:55:40.823Z"
   },
   {
    "duration": 6,
    "start_time": "2022-08-26T16:55:51.304Z"
   },
   {
    "duration": 316,
    "start_time": "2022-08-26T16:56:04.147Z"
   },
   {
    "duration": 145,
    "start_time": "2022-08-26T16:56:12.909Z"
   },
   {
    "duration": 1005,
    "start_time": "2022-08-27T09:10:28.844Z"
   },
   {
    "duration": 35,
    "start_time": "2022-08-27T09:10:29.851Z"
   },
   {
    "duration": 14,
    "start_time": "2022-08-27T09:10:29.887Z"
   },
   {
    "duration": 1973,
    "start_time": "2022-08-27T09:10:29.903Z"
   },
   {
    "duration": 9,
    "start_time": "2022-08-27T09:10:31.878Z"
   },
   {
    "duration": 6,
    "start_time": "2022-08-27T09:10:31.888Z"
   },
   {
    "duration": 11,
    "start_time": "2022-08-27T09:10:31.895Z"
   },
   {
    "duration": 29,
    "start_time": "2022-08-27T09:10:31.907Z"
   },
   {
    "duration": 3,
    "start_time": "2022-08-27T09:10:31.937Z"
   },
   {
    "duration": 19,
    "start_time": "2022-08-27T09:10:31.942Z"
   },
   {
    "duration": 8,
    "start_time": "2022-08-27T09:10:31.962Z"
   },
   {
    "duration": 9,
    "start_time": "2022-08-27T09:10:31.972Z"
   },
   {
    "duration": 10,
    "start_time": "2022-08-27T09:10:31.982Z"
   },
   {
    "duration": 16,
    "start_time": "2022-08-27T09:10:31.994Z"
   },
   {
    "duration": 19,
    "start_time": "2022-08-27T09:10:32.012Z"
   },
   {
    "duration": 17,
    "start_time": "2022-08-27T09:10:32.033Z"
   },
   {
    "duration": 15,
    "start_time": "2022-08-27T09:10:32.052Z"
   },
   {
    "duration": 9,
    "start_time": "2022-08-27T09:10:32.068Z"
   },
   {
    "duration": 9,
    "start_time": "2022-08-27T09:10:32.078Z"
   },
   {
    "duration": 10,
    "start_time": "2022-08-27T09:10:32.088Z"
   },
   {
    "duration": 6,
    "start_time": "2022-08-27T09:10:32.100Z"
   },
   {
    "duration": 16,
    "start_time": "2022-08-27T09:10:32.108Z"
   },
   {
    "duration": 9,
    "start_time": "2022-08-27T09:10:32.125Z"
   },
   {
    "duration": 4,
    "start_time": "2022-08-27T09:10:32.136Z"
   },
   {
    "duration": 5,
    "start_time": "2022-08-27T09:10:32.142Z"
   },
   {
    "duration": 6,
    "start_time": "2022-08-27T09:10:32.148Z"
   },
   {
    "duration": 240,
    "start_time": "2022-08-27T09:10:32.155Z"
   },
   {
    "duration": 7,
    "start_time": "2022-08-27T09:10:32.400Z"
   },
   {
    "duration": 18,
    "start_time": "2022-08-27T09:10:32.409Z"
   },
   {
    "duration": 8,
    "start_time": "2022-08-27T09:10:32.429Z"
   },
   {
    "duration": 139,
    "start_time": "2022-08-27T09:10:32.439Z"
   },
   {
    "duration": 8,
    "start_time": "2022-08-27T09:10:32.579Z"
   },
   {
    "duration": 153,
    "start_time": "2022-08-27T09:10:32.588Z"
   },
   {
    "duration": 9,
    "start_time": "2022-08-27T09:10:32.743Z"
   },
   {
    "duration": 135,
    "start_time": "2022-08-27T09:10:32.754Z"
   },
   {
    "duration": 3,
    "start_time": "2022-08-27T09:10:32.891Z"
   },
   {
    "duration": 22,
    "start_time": "2022-08-27T09:10:32.896Z"
   },
   {
    "duration": 123,
    "start_time": "2022-08-27T09:10:32.919Z"
   },
   {
    "duration": 8,
    "start_time": "2022-08-27T09:10:33.044Z"
   },
   {
    "duration": 204,
    "start_time": "2022-08-27T09:10:33.053Z"
   },
   {
    "duration": 4,
    "start_time": "2022-08-27T09:10:33.259Z"
   },
   {
    "duration": 11,
    "start_time": "2022-08-27T09:10:33.265Z"
   },
   {
    "duration": 132,
    "start_time": "2022-08-27T09:10:33.278Z"
   },
   {
    "duration": 8,
    "start_time": "2022-08-27T09:10:33.412Z"
   },
   {
    "duration": 10,
    "start_time": "2022-08-27T09:10:33.421Z"
   },
   {
    "duration": 131,
    "start_time": "2022-08-27T09:10:33.432Z"
   },
   {
    "duration": 4,
    "start_time": "2022-08-27T09:10:33.565Z"
   },
   {
    "duration": 13,
    "start_time": "2022-08-27T09:10:33.570Z"
   },
   {
    "duration": 111,
    "start_time": "2022-08-27T09:10:33.584Z"
   },
   {
    "duration": 14,
    "start_time": "2022-08-27T09:10:33.697Z"
   },
   {
    "duration": 126,
    "start_time": "2022-08-27T09:10:33.713Z"
   },
   {
    "duration": 4,
    "start_time": "2022-08-27T09:10:33.841Z"
   },
   {
    "duration": 9,
    "start_time": "2022-08-27T09:10:33.847Z"
   },
   {
    "duration": 152,
    "start_time": "2022-08-27T09:10:33.857Z"
   },
   {
    "duration": 12,
    "start_time": "2022-08-27T09:10:34.011Z"
   },
   {
    "duration": 133,
    "start_time": "2022-08-27T09:10:34.024Z"
   },
   {
    "duration": 9,
    "start_time": "2022-08-27T09:10:34.158Z"
   },
   {
    "duration": 140,
    "start_time": "2022-08-27T09:10:34.168Z"
   },
   {
    "duration": 9,
    "start_time": "2022-08-27T09:10:34.310Z"
   },
   {
    "duration": 127,
    "start_time": "2022-08-27T09:10:34.321Z"
   },
   {
    "duration": 8,
    "start_time": "2022-08-27T09:10:34.449Z"
   },
   {
    "duration": 162,
    "start_time": "2022-08-27T09:10:34.459Z"
   },
   {
    "duration": 8,
    "start_time": "2022-08-27T09:10:34.622Z"
   },
   {
    "duration": 149,
    "start_time": "2022-08-27T09:10:34.631Z"
   },
   {
    "duration": 6,
    "start_time": "2022-08-27T09:10:34.782Z"
   },
   {
    "duration": 31,
    "start_time": "2022-08-27T09:10:34.789Z"
   },
   {
    "duration": 6,
    "start_time": "2022-08-27T09:10:34.822Z"
   },
   {
    "duration": 5,
    "start_time": "2022-08-27T09:10:34.830Z"
   },
   {
    "duration": 8,
    "start_time": "2022-08-27T09:10:34.836Z"
   },
   {
    "duration": 4,
    "start_time": "2022-08-27T09:10:34.845Z"
   },
   {
    "duration": 10,
    "start_time": "2022-08-27T09:10:34.850Z"
   },
   {
    "duration": 159,
    "start_time": "2022-08-27T09:10:34.861Z"
   },
   {
    "duration": 82,
    "start_time": "2022-08-27T09:13:01.118Z"
   },
   {
    "duration": 70,
    "start_time": "2022-08-27T09:17:51.903Z"
   },
   {
    "duration": 41,
    "start_time": "2022-08-27T09:17:59.403Z"
   },
   {
    "duration": 125,
    "start_time": "2022-08-27T09:24:14.737Z"
   },
   {
    "duration": 3,
    "start_time": "2022-08-27T09:27:47.460Z"
   },
   {
    "duration": 233,
    "start_time": "2022-08-27T09:27:50.019Z"
   },
   {
    "duration": 3,
    "start_time": "2022-08-27T09:33:34.850Z"
   },
   {
    "duration": 129,
    "start_time": "2022-08-27T09:33:55.720Z"
   },
   {
    "duration": 120,
    "start_time": "2022-08-27T09:36:43.575Z"
   },
   {
    "duration": 170,
    "start_time": "2022-08-27T09:37:56.060Z"
   },
   {
    "duration": 40,
    "start_time": "2022-08-27T09:39:30.975Z"
   },
   {
    "duration": 128,
    "start_time": "2022-08-27T09:39:46.601Z"
   },
   {
    "duration": 127,
    "start_time": "2022-08-27T09:40:31.823Z"
   },
   {
    "duration": 42,
    "start_time": "2022-08-27T09:41:32.044Z"
   },
   {
    "duration": 246,
    "start_time": "2022-08-27T09:41:54.913Z"
   },
   {
    "duration": 121,
    "start_time": "2022-08-27T09:42:48.517Z"
   },
   {
    "duration": 130,
    "start_time": "2022-08-27T09:53:20.525Z"
   },
   {
    "duration": 135,
    "start_time": "2022-08-27T09:53:59.047Z"
   },
   {
    "duration": 154,
    "start_time": "2022-08-27T09:54:28.022Z"
   },
   {
    "duration": 164,
    "start_time": "2022-08-27T09:54:35.774Z"
   },
   {
    "duration": 134,
    "start_time": "2022-08-27T09:54:41.663Z"
   },
   {
    "duration": 141,
    "start_time": "2022-08-27T09:54:47.071Z"
   },
   {
    "duration": 137,
    "start_time": "2022-08-27T09:54:55.484Z"
   },
   {
    "duration": 131,
    "start_time": "2022-08-27T09:57:22.273Z"
   },
   {
    "duration": 214,
    "start_time": "2022-08-27T09:58:38.148Z"
   },
   {
    "duration": 226,
    "start_time": "2022-08-27T10:02:47.392Z"
   },
   {
    "duration": 244,
    "start_time": "2022-08-27T10:05:15.694Z"
   },
   {
    "duration": 710,
    "start_time": "2022-08-27T10:12:31.536Z"
   },
   {
    "duration": 31,
    "start_time": "2022-08-27T10:12:32.248Z"
   },
   {
    "duration": 32,
    "start_time": "2022-08-27T10:12:32.281Z"
   },
   {
    "duration": 1926,
    "start_time": "2022-08-27T10:12:32.315Z"
   },
   {
    "duration": 12,
    "start_time": "2022-08-27T10:12:34.244Z"
   },
   {
    "duration": 7,
    "start_time": "2022-08-27T10:12:34.258Z"
   },
   {
    "duration": 9,
    "start_time": "2022-08-27T10:12:34.267Z"
   },
   {
    "duration": 14,
    "start_time": "2022-08-27T10:12:34.278Z"
   },
   {
    "duration": 6,
    "start_time": "2022-08-27T10:12:34.294Z"
   },
   {
    "duration": 19,
    "start_time": "2022-08-27T10:12:34.301Z"
   },
   {
    "duration": 10,
    "start_time": "2022-08-27T10:12:34.322Z"
   },
   {
    "duration": 10,
    "start_time": "2022-08-27T10:12:34.334Z"
   },
   {
    "duration": 8,
    "start_time": "2022-08-27T10:12:34.346Z"
   },
   {
    "duration": 9,
    "start_time": "2022-08-27T10:12:34.357Z"
   },
   {
    "duration": 45,
    "start_time": "2022-08-27T10:12:34.368Z"
   },
   {
    "duration": 19,
    "start_time": "2022-08-27T10:12:34.416Z"
   },
   {
    "duration": 27,
    "start_time": "2022-08-27T10:12:34.438Z"
   },
   {
    "duration": 9,
    "start_time": "2022-08-27T10:12:34.467Z"
   },
   {
    "duration": 8,
    "start_time": "2022-08-27T10:12:34.478Z"
   },
   {
    "duration": 25,
    "start_time": "2022-08-27T10:12:34.488Z"
   },
   {
    "duration": 8,
    "start_time": "2022-08-27T10:12:34.514Z"
   },
   {
    "duration": 9,
    "start_time": "2022-08-27T10:12:34.524Z"
   },
   {
    "duration": 9,
    "start_time": "2022-08-27T10:12:34.535Z"
   },
   {
    "duration": 10,
    "start_time": "2022-08-27T10:12:34.546Z"
   },
   {
    "duration": 5,
    "start_time": "2022-08-27T10:12:34.558Z"
   },
   {
    "duration": 4,
    "start_time": "2022-08-27T10:12:34.565Z"
   },
   {
    "duration": 295,
    "start_time": "2022-08-27T10:12:34.571Z"
   },
   {
    "duration": 5,
    "start_time": "2022-08-27T10:12:34.868Z"
   },
   {
    "duration": 16,
    "start_time": "2022-08-27T10:12:34.874Z"
   },
   {
    "duration": 21,
    "start_time": "2022-08-27T10:12:34.891Z"
   },
   {
    "duration": 167,
    "start_time": "2022-08-27T10:12:34.914Z"
   },
   {
    "duration": 9,
    "start_time": "2022-08-27T10:12:35.083Z"
   },
   {
    "duration": 168,
    "start_time": "2022-08-27T10:12:35.093Z"
   },
   {
    "duration": 10,
    "start_time": "2022-08-27T10:12:35.262Z"
   },
   {
    "duration": 148,
    "start_time": "2022-08-27T10:12:35.274Z"
   },
   {
    "duration": 5,
    "start_time": "2022-08-27T10:12:35.423Z"
   },
   {
    "duration": 12,
    "start_time": "2022-08-27T10:12:35.430Z"
   },
   {
    "duration": 160,
    "start_time": "2022-08-27T10:12:35.443Z"
   },
   {
    "duration": 9,
    "start_time": "2022-08-27T10:12:35.606Z"
   },
   {
    "duration": 226,
    "start_time": "2022-08-27T10:12:35.617Z"
   },
   {
    "duration": 6,
    "start_time": "2022-08-27T10:12:35.847Z"
   },
   {
    "duration": 11,
    "start_time": "2022-08-27T10:12:35.855Z"
   },
   {
    "duration": 147,
    "start_time": "2022-08-27T10:12:35.867Z"
   },
   {
    "duration": 9,
    "start_time": "2022-08-27T10:12:36.016Z"
   },
   {
    "duration": 18,
    "start_time": "2022-08-27T10:12:36.026Z"
   },
   {
    "duration": 178,
    "start_time": "2022-08-27T10:12:36.046Z"
   },
   {
    "duration": 8,
    "start_time": "2022-08-27T10:12:36.226Z"
   },
   {
    "duration": 12,
    "start_time": "2022-08-27T10:12:36.236Z"
   },
   {
    "duration": 136,
    "start_time": "2022-08-27T10:12:36.250Z"
   },
   {
    "duration": 21,
    "start_time": "2022-08-27T10:12:36.389Z"
   },
   {
    "duration": 153,
    "start_time": "2022-08-27T10:12:36.412Z"
   },
   {
    "duration": 17,
    "start_time": "2022-08-27T10:12:36.567Z"
   },
   {
    "duration": 14,
    "start_time": "2022-08-27T10:12:36.586Z"
   },
   {
    "duration": 150,
    "start_time": "2022-08-27T10:12:36.602Z"
   },
   {
    "duration": 9,
    "start_time": "2022-08-27T10:12:36.754Z"
   },
   {
    "duration": 132,
    "start_time": "2022-08-27T10:12:36.765Z"
   },
   {
    "duration": 13,
    "start_time": "2022-08-27T10:12:36.900Z"
   },
   {
    "duration": 143,
    "start_time": "2022-08-27T10:12:36.914Z"
   },
   {
    "duration": 7,
    "start_time": "2022-08-27T10:12:37.058Z"
   },
   {
    "duration": 136,
    "start_time": "2022-08-27T10:12:37.066Z"
   },
   {
    "duration": 7,
    "start_time": "2022-08-27T10:12:37.206Z"
   },
   {
    "duration": 149,
    "start_time": "2022-08-27T10:12:37.215Z"
   },
   {
    "duration": 9,
    "start_time": "2022-08-27T10:12:37.366Z"
   },
   {
    "duration": 154,
    "start_time": "2022-08-27T10:12:37.377Z"
   },
   {
    "duration": 6,
    "start_time": "2022-08-27T10:12:37.533Z"
   },
   {
    "duration": 158,
    "start_time": "2022-08-27T10:12:58.387Z"
   },
   {
    "duration": 137,
    "start_time": "2022-08-27T10:12:58.546Z"
   },
   {
    "duration": 289,
    "start_time": "2022-08-27T10:12:58.684Z"
   },
   {
    "duration": 16,
    "start_time": "2022-08-27T10:12:58.975Z"
   },
   {
    "duration": 19,
    "start_time": "2022-08-27T10:12:58.992Z"
   },
   {
    "duration": 9,
    "start_time": "2022-08-27T10:12:59.013Z"
   },
   {
    "duration": 5,
    "start_time": "2022-08-27T10:12:59.023Z"
   },
   {
    "duration": 7,
    "start_time": "2022-08-27T10:12:59.029Z"
   },
   {
    "duration": 151,
    "start_time": "2022-08-27T10:12:59.037Z"
   },
   {
    "duration": 170,
    "start_time": "2022-08-27T10:13:20.318Z"
   },
   {
    "duration": 148,
    "start_time": "2022-08-27T10:13:20.490Z"
   },
   {
    "duration": 148,
    "start_time": "2022-08-27T10:13:20.640Z"
   },
   {
    "duration": 186,
    "start_time": "2022-08-27T10:23:12.338Z"
   },
   {
    "duration": 171,
    "start_time": "2022-08-27T10:24:05.959Z"
   },
   {
    "duration": 133,
    "start_time": "2022-08-27T10:24:12.183Z"
   },
   {
    "duration": 1663,
    "start_time": "2022-08-27T10:26:21.871Z"
   },
   {
    "duration": 133,
    "start_time": "2022-08-27T10:26:42.601Z"
   },
   {
    "duration": 131,
    "start_time": "2022-08-27T10:26:52.497Z"
   },
   {
    "duration": 1277,
    "start_time": "2022-08-27T10:26:57.652Z"
   },
   {
    "duration": 1154,
    "start_time": "2022-08-27T10:27:18.159Z"
   },
   {
    "duration": 2133,
    "start_time": "2022-08-27T10:28:04.249Z"
   },
   {
    "duration": 1194,
    "start_time": "2022-08-27T10:29:50.768Z"
   },
   {
    "duration": 190,
    "start_time": "2022-08-27T10:30:16.648Z"
   },
   {
    "duration": 152,
    "start_time": "2022-08-27T10:30:59.521Z"
   },
   {
    "duration": 9,
    "start_time": "2022-08-27T10:33:42.494Z"
   },
   {
    "duration": 150,
    "start_time": "2022-08-27T10:51:07.827Z"
   },
   {
    "duration": 159,
    "start_time": "2022-08-27T10:51:19.394Z"
   },
   {
    "duration": 7,
    "start_time": "2022-08-27T12:12:23.747Z"
   },
   {
    "duration": 4,
    "start_time": "2022-08-27T12:13:20.369Z"
   },
   {
    "duration": 8,
    "start_time": "2022-08-27T12:13:37.983Z"
   },
   {
    "duration": 7,
    "start_time": "2022-08-27T12:14:28.080Z"
   },
   {
    "duration": 6,
    "start_time": "2022-08-27T12:16:24.590Z"
   },
   {
    "duration": 6,
    "start_time": "2022-08-27T12:16:39.801Z"
   },
   {
    "duration": 305,
    "start_time": "2022-08-27T12:17:02.071Z"
   },
   {
    "duration": 12,
    "start_time": "2022-08-27T12:17:52.179Z"
   },
   {
    "duration": 214,
    "start_time": "2022-08-27T12:28:51.357Z"
   },
   {
    "duration": 46,
    "start_time": "2022-08-27T14:44:28.289Z"
   },
   {
    "duration": 920,
    "start_time": "2022-08-27T14:44:37.699Z"
   },
   {
    "duration": 30,
    "start_time": "2022-08-27T14:44:38.620Z"
   },
   {
    "duration": 14,
    "start_time": "2022-08-27T14:44:38.652Z"
   },
   {
    "duration": 1685,
    "start_time": "2022-08-27T14:44:38.668Z"
   },
   {
    "duration": 10,
    "start_time": "2022-08-27T14:44:40.355Z"
   },
   {
    "duration": 6,
    "start_time": "2022-08-27T14:44:40.366Z"
   },
   {
    "duration": 7,
    "start_time": "2022-08-27T14:44:40.373Z"
   },
   {
    "duration": 9,
    "start_time": "2022-08-27T14:44:40.399Z"
   },
   {
    "duration": 4,
    "start_time": "2022-08-27T14:44:40.410Z"
   },
   {
    "duration": 17,
    "start_time": "2022-08-27T14:44:40.417Z"
   },
   {
    "duration": 8,
    "start_time": "2022-08-27T14:44:40.436Z"
   },
   {
    "duration": 8,
    "start_time": "2022-08-27T14:44:40.446Z"
   },
   {
    "duration": 9,
    "start_time": "2022-08-27T14:44:40.456Z"
   },
   {
    "duration": 44,
    "start_time": "2022-08-27T14:44:40.466Z"
   },
   {
    "duration": 6,
    "start_time": "2022-08-27T14:44:40.511Z"
   },
   {
    "duration": 15,
    "start_time": "2022-08-27T14:44:40.518Z"
   },
   {
    "duration": 14,
    "start_time": "2022-08-27T14:44:40.535Z"
   },
   {
    "duration": 13,
    "start_time": "2022-08-27T14:44:40.550Z"
   },
   {
    "duration": 9,
    "start_time": "2022-08-27T14:44:40.565Z"
   },
   {
    "duration": 23,
    "start_time": "2022-08-27T14:44:40.575Z"
   },
   {
    "duration": 10,
    "start_time": "2022-08-27T14:44:40.599Z"
   },
   {
    "duration": 8,
    "start_time": "2022-08-27T14:44:40.611Z"
   },
   {
    "duration": 6,
    "start_time": "2022-08-27T14:44:40.620Z"
   },
   {
    "duration": 6,
    "start_time": "2022-08-27T14:44:40.627Z"
   },
   {
    "duration": 4,
    "start_time": "2022-08-27T14:44:40.634Z"
   },
   {
    "duration": 4,
    "start_time": "2022-08-27T14:44:40.639Z"
   },
   {
    "duration": 4,
    "start_time": "2022-08-27T14:44:40.645Z"
   },
   {
    "duration": 263,
    "start_time": "2022-08-27T14:44:40.653Z"
   },
   {
    "duration": 4,
    "start_time": "2022-08-27T14:44:40.918Z"
   },
   {
    "duration": 16,
    "start_time": "2022-08-27T14:44:40.923Z"
   },
   {
    "duration": 7,
    "start_time": "2022-08-27T14:44:40.940Z"
   },
   {
    "duration": 126,
    "start_time": "2022-08-27T14:44:40.948Z"
   },
   {
    "duration": 8,
    "start_time": "2022-08-27T14:44:41.075Z"
   },
   {
    "duration": 143,
    "start_time": "2022-08-27T14:44:41.085Z"
   },
   {
    "duration": 8,
    "start_time": "2022-08-27T14:44:41.229Z"
   },
   {
    "duration": 125,
    "start_time": "2022-08-27T14:44:41.238Z"
   },
   {
    "duration": 4,
    "start_time": "2022-08-27T14:44:41.365Z"
   },
   {
    "duration": 14,
    "start_time": "2022-08-27T14:44:41.370Z"
   },
   {
    "duration": 119,
    "start_time": "2022-08-27T14:44:41.386Z"
   },
   {
    "duration": 6,
    "start_time": "2022-08-27T14:44:41.507Z"
   },
   {
    "duration": 174,
    "start_time": "2022-08-27T14:44:41.515Z"
   },
   {
    "duration": 10,
    "start_time": "2022-08-27T14:44:41.691Z"
   },
   {
    "duration": 8,
    "start_time": "2022-08-27T14:44:41.702Z"
   },
   {
    "duration": 124,
    "start_time": "2022-08-27T14:44:41.711Z"
   },
   {
    "duration": 6,
    "start_time": "2022-08-27T14:44:41.837Z"
   },
   {
    "duration": 12,
    "start_time": "2022-08-27T14:44:41.844Z"
   },
   {
    "duration": 125,
    "start_time": "2022-08-27T14:44:41.858Z"
   },
   {
    "duration": 5,
    "start_time": "2022-08-27T14:44:41.985Z"
   },
   {
    "duration": 11,
    "start_time": "2022-08-27T14:44:41.991Z"
   },
   {
    "duration": 115,
    "start_time": "2022-08-27T14:44:42.004Z"
   },
   {
    "duration": 7,
    "start_time": "2022-08-27T14:44:42.121Z"
   },
   {
    "duration": 125,
    "start_time": "2022-08-27T14:44:42.130Z"
   },
   {
    "duration": 5,
    "start_time": "2022-08-27T14:44:42.257Z"
   },
   {
    "duration": 10,
    "start_time": "2022-08-27T14:44:42.263Z"
   },
   {
    "duration": 128,
    "start_time": "2022-08-27T14:44:42.275Z"
   },
   {
    "duration": 7,
    "start_time": "2022-08-27T14:44:42.405Z"
   },
   {
    "duration": 115,
    "start_time": "2022-08-27T14:44:42.413Z"
   },
   {
    "duration": 8,
    "start_time": "2022-08-27T14:44:42.529Z"
   },
   {
    "duration": 122,
    "start_time": "2022-08-27T14:44:42.539Z"
   },
   {
    "duration": 6,
    "start_time": "2022-08-27T14:44:42.663Z"
   },
   {
    "duration": 119,
    "start_time": "2022-08-27T14:44:42.670Z"
   },
   {
    "duration": 11,
    "start_time": "2022-08-27T14:44:42.790Z"
   },
   {
    "duration": 129,
    "start_time": "2022-08-27T14:44:42.802Z"
   },
   {
    "duration": 8,
    "start_time": "2022-08-27T14:44:42.933Z"
   },
   {
    "duration": 131,
    "start_time": "2022-08-27T14:44:42.943Z"
   },
   {
    "duration": 7,
    "start_time": "2022-08-27T14:44:43.076Z"
   },
   {
    "duration": 157,
    "start_time": "2022-08-27T14:44:43.084Z"
   },
   {
    "duration": 5,
    "start_time": "2022-08-27T14:44:43.243Z"
   },
   {
    "duration": 166,
    "start_time": "2022-08-27T14:44:43.250Z"
   },
   {
    "duration": 6,
    "start_time": "2022-08-27T14:44:43.418Z"
   },
   {
    "duration": 222,
    "start_time": "2022-08-27T14:44:43.425Z"
   },
   {
    "duration": 4,
    "start_time": "2022-08-27T14:44:43.649Z"
   },
   {
    "duration": 158,
    "start_time": "2022-08-27T14:44:43.654Z"
   },
   {
    "duration": 4,
    "start_time": "2022-08-27T14:44:43.814Z"
   },
   {
    "duration": 151,
    "start_time": "2022-08-27T14:44:43.819Z"
   },
   {
    "duration": 295,
    "start_time": "2022-08-27T14:44:43.971Z"
   },
   {
    "duration": 14,
    "start_time": "2022-08-27T14:44:44.267Z"
   },
   {
    "duration": 17,
    "start_time": "2022-08-27T14:44:44.282Z"
   },
   {
    "duration": 10,
    "start_time": "2022-08-27T14:44:44.300Z"
   },
   {
    "duration": 5,
    "start_time": "2022-08-27T14:44:44.311Z"
   },
   {
    "duration": 8,
    "start_time": "2022-08-27T14:44:44.317Z"
   },
   {
    "duration": 156,
    "start_time": "2022-08-27T14:44:44.330Z"
   },
   {
    "duration": 122,
    "start_time": "2022-08-27T14:50:02.231Z"
   },
   {
    "duration": 1595,
    "start_time": "2022-08-28T08:18:41.178Z"
   },
   {
    "duration": 812,
    "start_time": "2022-08-28T08:19:01.248Z"
   },
   {
    "duration": 38,
    "start_time": "2022-08-28T08:19:02.062Z"
   },
   {
    "duration": 26,
    "start_time": "2022-08-28T08:19:02.102Z"
   },
   {
    "duration": 2294,
    "start_time": "2022-08-28T08:19:02.130Z"
   },
   {
    "duration": 12,
    "start_time": "2022-08-28T08:19:04.427Z"
   },
   {
    "duration": 8,
    "start_time": "2022-08-28T08:19:04.442Z"
   },
   {
    "duration": 7,
    "start_time": "2022-08-28T08:19:04.451Z"
   },
   {
    "duration": 13,
    "start_time": "2022-08-28T08:19:04.460Z"
   },
   {
    "duration": 5,
    "start_time": "2022-08-28T08:19:04.475Z"
   },
   {
    "duration": 37,
    "start_time": "2022-08-28T08:19:04.482Z"
   },
   {
    "duration": 10,
    "start_time": "2022-08-28T08:19:04.521Z"
   },
   {
    "duration": 10,
    "start_time": "2022-08-28T08:19:04.533Z"
   },
   {
    "duration": 7,
    "start_time": "2022-08-28T08:19:04.546Z"
   },
   {
    "duration": 13,
    "start_time": "2022-08-28T08:19:04.557Z"
   },
   {
    "duration": 17,
    "start_time": "2022-08-28T08:19:04.572Z"
   },
   {
    "duration": 55,
    "start_time": "2022-08-28T08:19:04.591Z"
   },
   {
    "duration": 23,
    "start_time": "2022-08-28T08:19:04.648Z"
   },
   {
    "duration": 13,
    "start_time": "2022-08-28T08:19:04.673Z"
   },
   {
    "duration": 8,
    "start_time": "2022-08-28T08:19:04.688Z"
   },
   {
    "duration": 10,
    "start_time": "2022-08-28T08:19:04.697Z"
   },
   {
    "duration": 23,
    "start_time": "2022-08-28T08:19:04.709Z"
   },
   {
    "duration": 15,
    "start_time": "2022-08-28T08:19:04.734Z"
   },
   {
    "duration": 16,
    "start_time": "2022-08-28T08:19:04.751Z"
   },
   {
    "duration": 7,
    "start_time": "2022-08-28T08:19:04.769Z"
   },
   {
    "duration": 9,
    "start_time": "2022-08-28T08:19:04.777Z"
   },
   {
    "duration": 5,
    "start_time": "2022-08-28T08:19:04.788Z"
   },
   {
    "duration": 305,
    "start_time": "2022-08-28T08:19:04.794Z"
   },
   {
    "duration": 18,
    "start_time": "2022-08-28T08:19:05.101Z"
   },
   {
    "duration": 46,
    "start_time": "2022-08-28T08:19:05.120Z"
   },
   {
    "duration": 12,
    "start_time": "2022-08-28T08:19:05.168Z"
   },
   {
    "duration": 150,
    "start_time": "2022-08-28T08:19:05.182Z"
   },
   {
    "duration": 10,
    "start_time": "2022-08-28T08:19:05.334Z"
   },
   {
    "duration": 187,
    "start_time": "2022-08-28T08:19:05.346Z"
   },
   {
    "duration": 10,
    "start_time": "2022-08-28T08:19:05.536Z"
   },
   {
    "duration": 184,
    "start_time": "2022-08-28T08:19:05.548Z"
   },
   {
    "duration": 5,
    "start_time": "2022-08-28T08:19:05.734Z"
   },
   {
    "duration": 21,
    "start_time": "2022-08-28T08:19:05.741Z"
   },
   {
    "duration": 190,
    "start_time": "2022-08-28T08:19:05.765Z"
   },
   {
    "duration": 12,
    "start_time": "2022-08-28T08:19:05.957Z"
   },
   {
    "duration": 298,
    "start_time": "2022-08-28T08:19:05.971Z"
   },
   {
    "duration": 7,
    "start_time": "2022-08-28T08:19:06.275Z"
   },
   {
    "duration": 18,
    "start_time": "2022-08-28T08:19:06.284Z"
   },
   {
    "duration": 168,
    "start_time": "2022-08-28T08:19:06.309Z"
   },
   {
    "duration": 8,
    "start_time": "2022-08-28T08:19:06.479Z"
   },
   {
    "duration": 41,
    "start_time": "2022-08-28T08:19:06.488Z"
   },
   {
    "duration": 134,
    "start_time": "2022-08-28T08:19:06.530Z"
   },
   {
    "duration": 8,
    "start_time": "2022-08-28T08:19:06.665Z"
   },
   {
    "duration": 11,
    "start_time": "2022-08-28T08:19:06.675Z"
   },
   {
    "duration": 142,
    "start_time": "2022-08-28T08:19:06.688Z"
   },
   {
    "duration": 9,
    "start_time": "2022-08-28T08:19:06.832Z"
   },
   {
    "duration": 172,
    "start_time": "2022-08-28T08:19:06.843Z"
   },
   {
    "duration": 13,
    "start_time": "2022-08-28T08:19:07.018Z"
   },
   {
    "duration": 13,
    "start_time": "2022-08-28T08:19:07.033Z"
   },
   {
    "duration": 199,
    "start_time": "2022-08-28T08:19:07.048Z"
   },
   {
    "duration": 10,
    "start_time": "2022-08-28T08:19:07.250Z"
   },
   {
    "duration": 194,
    "start_time": "2022-08-28T08:19:07.263Z"
   },
   {
    "duration": 11,
    "start_time": "2022-08-28T08:19:07.459Z"
   },
   {
    "duration": 184,
    "start_time": "2022-08-28T08:19:07.472Z"
   },
   {
    "duration": 7,
    "start_time": "2022-08-28T08:19:07.658Z"
   },
   {
    "duration": 173,
    "start_time": "2022-08-28T08:19:07.667Z"
   },
   {
    "duration": 8,
    "start_time": "2022-08-28T08:19:07.843Z"
   },
   {
    "duration": 181,
    "start_time": "2022-08-28T08:19:07.854Z"
   },
   {
    "duration": 9,
    "start_time": "2022-08-28T08:19:08.037Z"
   },
   {
    "duration": 197,
    "start_time": "2022-08-28T08:19:08.048Z"
   },
   {
    "duration": 9,
    "start_time": "2022-08-28T08:19:08.247Z"
   },
   {
    "duration": 206,
    "start_time": "2022-08-28T08:19:08.258Z"
   },
   {
    "duration": 7,
    "start_time": "2022-08-28T08:19:08.466Z"
   },
   {
    "duration": 195,
    "start_time": "2022-08-28T08:19:08.475Z"
   },
   {
    "duration": 6,
    "start_time": "2022-08-28T08:19:08.672Z"
   },
   {
    "duration": 294,
    "start_time": "2022-08-28T08:19:08.679Z"
   },
   {
    "duration": 6,
    "start_time": "2022-08-28T08:19:08.974Z"
   },
   {
    "duration": 197,
    "start_time": "2022-08-28T08:19:08.982Z"
   },
   {
    "duration": 6,
    "start_time": "2022-08-28T08:19:09.181Z"
   },
   {
    "duration": 191,
    "start_time": "2022-08-28T08:19:09.190Z"
   },
   {
    "duration": 349,
    "start_time": "2022-08-28T08:19:09.383Z"
   },
   {
    "duration": 15,
    "start_time": "2022-08-28T08:19:09.734Z"
   },
   {
    "duration": 7,
    "start_time": "2022-08-28T08:19:09.751Z"
   },
   {
    "duration": 12,
    "start_time": "2022-08-28T08:19:09.760Z"
   },
   {
    "duration": 5,
    "start_time": "2022-08-28T08:19:09.773Z"
   },
   {
    "duration": 37,
    "start_time": "2022-08-28T08:19:09.779Z"
   },
   {
    "duration": 146,
    "start_time": "2022-08-28T08:19:09.818Z"
   },
   {
    "duration": 5,
    "start_time": "2022-08-28T08:39:54.891Z"
   },
   {
    "duration": 43,
    "start_time": "2022-08-28T08:40:31.962Z"
   },
   {
    "duration": 9,
    "start_time": "2022-08-28T08:40:40.283Z"
   },
   {
    "duration": 6,
    "start_time": "2022-08-28T08:43:40.387Z"
   },
   {
    "duration": 79,
    "start_time": "2022-08-28T08:48:41.347Z"
   },
   {
    "duration": 24,
    "start_time": "2022-08-28T08:48:53.046Z"
   },
   {
    "duration": 6,
    "start_time": "2022-08-28T08:53:09.227Z"
   },
   {
    "duration": 7,
    "start_time": "2022-08-28T08:53:26.627Z"
   },
   {
    "duration": 7,
    "start_time": "2022-08-28T08:54:14.460Z"
   },
   {
    "duration": 2886,
    "start_time": "2022-08-28T09:00:10.851Z"
   },
   {
    "duration": 149,
    "start_time": "2022-08-28T09:04:55.270Z"
   },
   {
    "duration": 138,
    "start_time": "2022-08-28T09:05:05.535Z"
   },
   {
    "duration": 140,
    "start_time": "2022-08-28T09:05:42.238Z"
   },
   {
    "duration": 172,
    "start_time": "2022-08-28T09:06:06.991Z"
   },
   {
    "duration": 387,
    "start_time": "2022-08-28T09:06:24.312Z"
   },
   {
    "duration": 157,
    "start_time": "2022-08-28T09:07:07.627Z"
   },
   {
    "duration": 164,
    "start_time": "2022-08-28T09:07:16.851Z"
   },
   {
    "duration": 155,
    "start_time": "2022-08-28T09:10:16.938Z"
   },
   {
    "duration": 17,
    "start_time": "2022-08-28T09:12:34.637Z"
   },
   {
    "duration": 8,
    "start_time": "2022-08-28T09:12:36.166Z"
   },
   {
    "duration": 35,
    "start_time": "2022-08-28T09:17:31.945Z"
   },
   {
    "duration": 9,
    "start_time": "2022-08-28T09:18:48.945Z"
   },
   {
    "duration": 10,
    "start_time": "2022-08-28T09:19:19.858Z"
   },
   {
    "duration": 206,
    "start_time": "2022-08-28T09:19:45.558Z"
   },
   {
    "duration": 196,
    "start_time": "2022-08-28T09:20:41.891Z"
   },
   {
    "duration": 9,
    "start_time": "2022-08-28T09:21:41.708Z"
   },
   {
    "duration": 233,
    "start_time": "2022-08-28T09:23:39.728Z"
   },
   {
    "duration": 174,
    "start_time": "2022-08-28T09:23:48.086Z"
   },
   {
    "duration": 217,
    "start_time": "2022-08-28T09:25:02.969Z"
   },
   {
    "duration": 161,
    "start_time": "2022-08-28T09:25:22.523Z"
   },
   {
    "duration": 201,
    "start_time": "2022-08-28T09:39:48.483Z"
   },
   {
    "duration": 167,
    "start_time": "2022-08-28T09:40:00.287Z"
   },
   {
    "duration": 202,
    "start_time": "2022-08-28T09:40:09.907Z"
   },
   {
    "duration": 175,
    "start_time": "2022-08-28T09:40:40.292Z"
   },
   {
    "duration": 167,
    "start_time": "2022-08-28T09:40:52.428Z"
   },
   {
    "duration": 158,
    "start_time": "2022-08-28T09:41:20.348Z"
   },
   {
    "duration": 9,
    "start_time": "2022-08-28T09:43:06.950Z"
   },
   {
    "duration": 142,
    "start_time": "2022-08-28T09:44:26.056Z"
   },
   {
    "duration": 4,
    "start_time": "2022-08-28T09:45:24.003Z"
   },
   {
    "duration": 5,
    "start_time": "2022-08-28T09:45:49.742Z"
   },
   {
    "duration": 6,
    "start_time": "2022-08-28T09:48:41.207Z"
   },
   {
    "duration": 6,
    "start_time": "2022-08-28T09:54:24.928Z"
   },
   {
    "duration": 8,
    "start_time": "2022-08-28T09:57:16.512Z"
   },
   {
    "duration": 6,
    "start_time": "2022-08-28T09:57:24.640Z"
   },
   {
    "duration": 5,
    "start_time": "2022-08-28T09:57:25.059Z"
   },
   {
    "duration": 6,
    "start_time": "2022-08-28T09:57:25.391Z"
   },
   {
    "duration": 5,
    "start_time": "2022-08-28T09:57:29.025Z"
   },
   {
    "duration": 6,
    "start_time": "2022-08-28T09:57:29.404Z"
   },
   {
    "duration": 5,
    "start_time": "2022-08-28T09:57:29.713Z"
   },
   {
    "duration": 7,
    "start_time": "2022-08-28T09:57:30.029Z"
   },
   {
    "duration": 117,
    "start_time": "2022-08-28T09:57:39.258Z"
   },
   {
    "duration": 116,
    "start_time": "2022-08-28T09:57:44.853Z"
   },
   {
    "duration": 44,
    "start_time": "2022-08-28T10:44:31.982Z"
   },
   {
    "duration": 5,
    "start_time": "2022-08-28T10:44:51.581Z"
   },
   {
    "duration": 5,
    "start_time": "2022-08-28T10:45:48.887Z"
   },
   {
    "duration": 6,
    "start_time": "2022-08-28T10:45:58.500Z"
   },
   {
    "duration": 10,
    "start_time": "2022-08-28T10:46:33.499Z"
   },
   {
    "duration": 6,
    "start_time": "2022-08-28T10:46:47.564Z"
   },
   {
    "duration": 11,
    "start_time": "2022-08-28T10:46:58.624Z"
   },
   {
    "duration": 114,
    "start_time": "2022-08-28T10:48:29.148Z"
   },
   {
    "duration": 32,
    "start_time": "2022-08-28T10:48:29.824Z"
   },
   {
    "duration": 16,
    "start_time": "2022-08-28T10:48:30.691Z"
   },
   {
    "duration": 2395,
    "start_time": "2022-08-28T10:48:33.537Z"
   },
   {
    "duration": 11,
    "start_time": "2022-08-28T10:48:39.227Z"
   },
   {
    "duration": 6,
    "start_time": "2022-08-28T10:48:42.457Z"
   },
   {
    "duration": 4,
    "start_time": "2022-08-28T10:48:42.923Z"
   },
   {
    "duration": 8,
    "start_time": "2022-08-28T10:48:43.445Z"
   },
   {
    "duration": 4,
    "start_time": "2022-08-28T10:48:43.864Z"
   },
   {
    "duration": 9,
    "start_time": "2022-08-28T10:48:46.576Z"
   },
   {
    "duration": 6,
    "start_time": "2022-08-28T10:49:17.039Z"
   },
   {
    "duration": 458,
    "start_time": "2022-08-28T10:51:29.396Z"
   },
   {
    "duration": 417,
    "start_time": "2022-08-28T10:53:23.456Z"
   },
   {
    "duration": 7,
    "start_time": "2022-08-28T10:59:13.961Z"
   },
   {
    "duration": 18,
    "start_time": "2022-08-28T11:03:08.708Z"
   },
   {
    "duration": 7,
    "start_time": "2022-08-28T11:03:15.864Z"
   },
   {
    "duration": 7,
    "start_time": "2022-08-28T11:08:27.055Z"
   },
   {
    "duration": 8,
    "start_time": "2022-08-28T11:08:27.678Z"
   },
   {
    "duration": 20,
    "start_time": "2022-08-28T11:08:32.827Z"
   },
   {
    "duration": 842,
    "start_time": "2022-08-28T11:09:02.328Z"
   },
   {
    "duration": 56,
    "start_time": "2022-08-28T11:09:03.172Z"
   },
   {
    "duration": 20,
    "start_time": "2022-08-28T11:09:03.230Z"
   },
   {
    "duration": 2177,
    "start_time": "2022-08-28T11:09:03.253Z"
   },
   {
    "duration": 13,
    "start_time": "2022-08-28T11:09:05.434Z"
   },
   {
    "duration": 7,
    "start_time": "2022-08-28T11:09:05.449Z"
   },
   {
    "duration": 9,
    "start_time": "2022-08-28T11:09:05.457Z"
   },
   {
    "duration": 16,
    "start_time": "2022-08-28T11:09:05.468Z"
   },
   {
    "duration": 5,
    "start_time": "2022-08-28T11:09:05.485Z"
   },
   {
    "duration": 33,
    "start_time": "2022-08-28T11:09:05.492Z"
   },
   {
    "duration": 13,
    "start_time": "2022-08-28T11:09:05.528Z"
   },
   {
    "duration": 18,
    "start_time": "2022-08-28T11:09:05.543Z"
   },
   {
    "duration": 10,
    "start_time": "2022-08-28T11:09:05.562Z"
   },
   {
    "duration": 8,
    "start_time": "2022-08-28T11:09:05.575Z"
   },
   {
    "duration": 27,
    "start_time": "2022-08-28T11:09:05.585Z"
   },
   {
    "duration": 9,
    "start_time": "2022-08-28T11:09:05.614Z"
   },
   {
    "duration": 23,
    "start_time": "2022-08-28T11:09:05.625Z"
   },
   {
    "duration": 20,
    "start_time": "2022-08-28T11:09:05.650Z"
   },
   {
    "duration": 27,
    "start_time": "2022-08-28T11:09:05.672Z"
   },
   {
    "duration": 29,
    "start_time": "2022-08-28T11:09:05.701Z"
   },
   {
    "duration": 146,
    "start_time": "2022-08-28T11:09:05.740Z"
   },
   {
    "duration": 6,
    "start_time": "2022-08-28T11:09:05.888Z"
   },
   {
    "duration": 22,
    "start_time": "2022-08-28T11:09:05.895Z"
   },
   {
    "duration": 31,
    "start_time": "2022-08-28T11:09:05.921Z"
   },
   {
    "duration": 8,
    "start_time": "2022-08-28T11:09:05.954Z"
   },
   {
    "duration": 15,
    "start_time": "2022-08-28T11:09:05.964Z"
   },
   {
    "duration": 21,
    "start_time": "2022-08-28T11:09:05.981Z"
   },
   {
    "duration": 36,
    "start_time": "2022-08-28T11:09:06.004Z"
   },
   {
    "duration": 12,
    "start_time": "2022-08-28T11:09:06.042Z"
   },
   {
    "duration": 18,
    "start_time": "2022-08-28T11:09:06.057Z"
   },
   {
    "duration": 10,
    "start_time": "2022-08-28T11:09:06.077Z"
   },
   {
    "duration": 7,
    "start_time": "2022-08-28T11:09:06.088Z"
   },
   {
    "duration": 13,
    "start_time": "2022-08-28T11:09:06.097Z"
   },
   {
    "duration": 453,
    "start_time": "2022-08-28T11:09:06.128Z"
   },
   {
    "duration": 4,
    "start_time": "2022-08-28T11:09:06.583Z"
   },
   {
    "duration": 40,
    "start_time": "2022-08-28T11:09:06.589Z"
   },
   {
    "duration": 10,
    "start_time": "2022-08-28T11:09:06.634Z"
   },
   {
    "duration": 163,
    "start_time": "2022-08-28T11:09:06.646Z"
   },
   {
    "duration": 12,
    "start_time": "2022-08-28T11:09:06.811Z"
   },
   {
    "duration": 150,
    "start_time": "2022-08-28T11:09:06.825Z"
   },
   {
    "duration": 9,
    "start_time": "2022-08-28T11:09:06.980Z"
   },
   {
    "duration": 270,
    "start_time": "2022-08-28T11:09:06.991Z"
   },
   {
    "duration": 4,
    "start_time": "2022-08-28T11:09:07.263Z"
   },
   {
    "duration": 17,
    "start_time": "2022-08-28T11:09:07.269Z"
   },
   {
    "duration": 195,
    "start_time": "2022-08-28T11:09:07.288Z"
   },
   {
    "duration": 10,
    "start_time": "2022-08-28T11:09:07.486Z"
   },
   {
    "duration": 189,
    "start_time": "2022-08-28T11:09:07.516Z"
   },
   {
    "duration": 12,
    "start_time": "2022-08-28T11:09:07.710Z"
   },
   {
    "duration": 23,
    "start_time": "2022-08-28T11:09:07.725Z"
   },
   {
    "duration": 144,
    "start_time": "2022-08-28T11:09:07.751Z"
   },
   {
    "duration": 32,
    "start_time": "2022-08-28T11:09:07.896Z"
   },
   {
    "duration": 10,
    "start_time": "2022-08-28T11:09:07.930Z"
   },
   {
    "duration": 139,
    "start_time": "2022-08-28T11:09:07.942Z"
   },
   {
    "duration": 6,
    "start_time": "2022-08-28T11:09:08.083Z"
   },
   {
    "duration": 40,
    "start_time": "2022-08-28T11:09:08.091Z"
   },
   {
    "duration": 153,
    "start_time": "2022-08-28T11:09:08.133Z"
   },
   {
    "duration": 8,
    "start_time": "2022-08-28T11:09:08.288Z"
   },
   {
    "duration": 162,
    "start_time": "2022-08-28T11:09:08.298Z"
   },
   {
    "duration": 7,
    "start_time": "2022-08-28T11:09:08.462Z"
   },
   {
    "duration": 18,
    "start_time": "2022-08-28T11:09:08.471Z"
   },
   {
    "duration": 202,
    "start_time": "2022-08-28T11:09:08.491Z"
   },
   {
    "duration": 23,
    "start_time": "2022-08-28T11:09:08.695Z"
   },
   {
    "duration": 146,
    "start_time": "2022-08-28T11:09:08.724Z"
   },
   {
    "duration": 10,
    "start_time": "2022-08-28T11:09:08.871Z"
   },
   {
    "duration": 177,
    "start_time": "2022-08-28T11:09:08.883Z"
   },
   {
    "duration": 8,
    "start_time": "2022-08-28T11:09:09.062Z"
   },
   {
    "duration": 191,
    "start_time": "2022-08-28T11:09:09.071Z"
   },
   {
    "duration": 8,
    "start_time": "2022-08-28T11:09:09.264Z"
   },
   {
    "duration": 249,
    "start_time": "2022-08-28T11:09:09.273Z"
   },
   {
    "duration": 13,
    "start_time": "2022-08-28T11:09:09.528Z"
   },
   {
    "duration": 185,
    "start_time": "2022-08-28T11:09:09.543Z"
   },
   {
    "duration": 11,
    "start_time": "2022-08-28T11:09:09.733Z"
   },
   {
    "duration": 182,
    "start_time": "2022-08-28T11:09:09.746Z"
   },
   {
    "duration": 8,
    "start_time": "2022-08-28T11:09:09.931Z"
   },
   {
    "duration": 217,
    "start_time": "2022-08-28T11:09:09.941Z"
   },
   {
    "duration": 6,
    "start_time": "2022-08-28T11:09:10.160Z"
   },
   {
    "duration": 205,
    "start_time": "2022-08-28T11:09:10.168Z"
   },
   {
    "duration": 6,
    "start_time": "2022-08-28T11:09:10.375Z"
   },
   {
    "duration": 187,
    "start_time": "2022-08-28T11:09:10.382Z"
   },
   {
    "duration": 5,
    "start_time": "2022-08-28T11:09:10.570Z"
   },
   {
    "duration": 172,
    "start_time": "2022-08-28T11:09:10.577Z"
   },
   {
    "duration": 187,
    "start_time": "2022-08-28T11:09:10.751Z"
   },
   {
    "duration": 214,
    "start_time": "2022-08-28T11:09:10.941Z"
   },
   {
    "duration": 182,
    "start_time": "2022-08-28T11:09:11.157Z"
   },
   {
    "duration": 25,
    "start_time": "2022-08-28T11:09:11.342Z"
   },
   {
    "duration": 7,
    "start_time": "2022-08-28T11:09:11.369Z"
   },
   {
    "duration": 48,
    "start_time": "2022-08-28T11:09:11.377Z"
   },
   {
    "duration": 6,
    "start_time": "2022-08-28T11:09:11.429Z"
   },
   {
    "duration": 11,
    "start_time": "2022-08-28T11:09:11.438Z"
   },
   {
    "duration": 181,
    "start_time": "2022-08-28T11:09:11.451Z"
   },
   {
    "duration": 11,
    "start_time": "2022-08-28T11:11:02.102Z"
   },
   {
    "duration": 8,
    "start_time": "2022-08-28T11:12:50.201Z"
   },
   {
    "duration": 9,
    "start_time": "2022-08-28T11:12:51.049Z"
   },
   {
    "duration": 18,
    "start_time": "2022-08-28T11:12:52.235Z"
   },
   {
    "duration": 11,
    "start_time": "2022-08-28T11:13:18.288Z"
   },
   {
    "duration": 133,
    "start_time": "2022-08-28T11:15:04.028Z"
   },
   {
    "duration": 5,
    "start_time": "2022-08-28T11:15:13.843Z"
   },
   {
    "duration": 6,
    "start_time": "2022-08-28T11:15:14.359Z"
   },
   {
    "duration": 13,
    "start_time": "2022-08-28T11:15:15.017Z"
   },
   {
    "duration": 8,
    "start_time": "2022-08-28T11:15:15.535Z"
   },
   {
    "duration": 16,
    "start_time": "2022-08-28T11:15:42.300Z"
   },
   {
    "duration": 7,
    "start_time": "2022-08-28T11:15:42.946Z"
   },
   {
    "duration": 6,
    "start_time": "2022-08-28T11:15:59.050Z"
   },
   {
    "duration": 7,
    "start_time": "2022-08-28T11:18:08.932Z"
   },
   {
    "duration": 10,
    "start_time": "2022-08-28T11:18:23.604Z"
   },
   {
    "duration": 39,
    "start_time": "2022-08-28T11:19:37.692Z"
   },
   {
    "duration": 3,
    "start_time": "2022-08-28T11:19:42.180Z"
   },
   {
    "duration": 6,
    "start_time": "2022-08-28T11:19:42.965Z"
   },
   {
    "duration": 6,
    "start_time": "2022-08-28T11:19:43.743Z"
   },
   {
    "duration": 6,
    "start_time": "2022-08-28T11:19:44.574Z"
   },
   {
    "duration": 6,
    "start_time": "2022-08-28T11:19:45.919Z"
   },
   {
    "duration": 491,
    "start_time": "2022-08-28T11:19:46.438Z"
   },
   {
    "duration": 4,
    "start_time": "2022-08-28T11:19:47.251Z"
   },
   {
    "duration": 14,
    "start_time": "2022-08-28T11:19:50.116Z"
   },
   {
    "duration": 11,
    "start_time": "2022-08-28T11:20:11.140Z"
   },
   {
    "duration": 160,
    "start_time": "2022-08-28T11:20:13.083Z"
   },
   {
    "duration": 10,
    "start_time": "2022-08-28T11:20:16.767Z"
   },
   {
    "duration": 137,
    "start_time": "2022-08-28T11:20:18.027Z"
   },
   {
    "duration": 11,
    "start_time": "2022-08-28T11:20:19.390Z"
   },
   {
    "duration": 180,
    "start_time": "2022-08-28T11:20:20.027Z"
   },
   {
    "duration": 5,
    "start_time": "2022-08-28T11:20:22.108Z"
   },
   {
    "duration": 10,
    "start_time": "2022-08-28T11:20:22.470Z"
   },
   {
    "duration": 139,
    "start_time": "2022-08-28T11:20:22.948Z"
   },
   {
    "duration": 9,
    "start_time": "2022-08-28T11:20:24.371Z"
   },
   {
    "duration": 192,
    "start_time": "2022-08-28T11:20:25.400Z"
   },
   {
    "duration": 6,
    "start_time": "2022-08-28T11:20:25.594Z"
   },
   {
    "duration": 11,
    "start_time": "2022-08-28T11:20:27.344Z"
   },
   {
    "duration": 152,
    "start_time": "2022-08-28T11:20:31.255Z"
   },
   {
    "duration": 8,
    "start_time": "2022-08-28T11:20:37.949Z"
   },
   {
    "duration": 9,
    "start_time": "2022-08-28T11:20:44.369Z"
   },
   {
    "duration": 144,
    "start_time": "2022-08-28T11:20:44.661Z"
   },
   {
    "duration": 7,
    "start_time": "2022-08-28T11:20:45.092Z"
   },
   {
    "duration": 8,
    "start_time": "2022-08-28T11:20:46.266Z"
   },
   {
    "duration": 149,
    "start_time": "2022-08-28T11:20:46.693Z"
   },
   {
    "duration": 10,
    "start_time": "2022-08-28T11:20:49.860Z"
   },
   {
    "duration": 239,
    "start_time": "2022-08-28T11:20:50.328Z"
   },
   {
    "duration": 8,
    "start_time": "2022-08-28T11:20:50.835Z"
   },
   {
    "duration": 10,
    "start_time": "2022-08-28T11:20:54.855Z"
   },
   {
    "duration": 152,
    "start_time": "2022-08-28T11:20:56.353Z"
   },
   {
    "duration": 770,
    "start_time": "2022-08-28T20:34:16.347Z"
   },
   {
    "duration": 32,
    "start_time": "2022-08-28T20:34:17.118Z"
   },
   {
    "duration": 14,
    "start_time": "2022-08-28T20:34:17.152Z"
   },
   {
    "duration": 1907,
    "start_time": "2022-08-28T20:34:17.168Z"
   },
   {
    "duration": 14,
    "start_time": "2022-08-28T20:34:19.077Z"
   },
   {
    "duration": 9,
    "start_time": "2022-08-28T20:34:19.093Z"
   },
   {
    "duration": 16,
    "start_time": "2022-08-28T20:34:19.104Z"
   },
   {
    "duration": 25,
    "start_time": "2022-08-28T20:34:19.122Z"
   },
   {
    "duration": 8,
    "start_time": "2022-08-28T20:34:19.149Z"
   },
   {
    "duration": 7,
    "start_time": "2022-08-28T20:34:19.160Z"
   },
   {
    "duration": 8,
    "start_time": "2022-08-28T20:34:19.169Z"
   },
   {
    "duration": 16,
    "start_time": "2022-08-28T20:34:19.178Z"
   },
   {
    "duration": 9,
    "start_time": "2022-08-28T20:34:19.195Z"
   },
   {
    "duration": 34,
    "start_time": "2022-08-28T20:34:19.206Z"
   },
   {
    "duration": 8,
    "start_time": "2022-08-28T20:34:19.242Z"
   },
   {
    "duration": 10,
    "start_time": "2022-08-28T20:34:19.252Z"
   },
   {
    "duration": 13,
    "start_time": "2022-08-28T20:34:19.263Z"
   },
   {
    "duration": 17,
    "start_time": "2022-08-28T20:34:19.277Z"
   },
   {
    "duration": 25,
    "start_time": "2022-08-28T20:34:19.295Z"
   },
   {
    "duration": 18,
    "start_time": "2022-08-28T20:34:19.322Z"
   },
   {
    "duration": 112,
    "start_time": "2022-08-28T20:34:19.341Z"
   },
   {
    "duration": 5,
    "start_time": "2022-08-28T20:34:19.455Z"
   },
   {
    "duration": 11,
    "start_time": "2022-08-28T20:34:19.461Z"
   },
   {
    "duration": 6,
    "start_time": "2022-08-28T20:34:19.473Z"
   },
   {
    "duration": 8,
    "start_time": "2022-08-28T20:34:19.480Z"
   },
   {
    "duration": 9,
    "start_time": "2022-08-28T20:34:19.490Z"
   },
   {
    "duration": 7,
    "start_time": "2022-08-28T20:34:19.500Z"
   },
   {
    "duration": 43,
    "start_time": "2022-08-28T20:34:19.511Z"
   },
   {
    "duration": 3,
    "start_time": "2022-08-28T20:34:19.556Z"
   },
   {
    "duration": 12,
    "start_time": "2022-08-28T20:34:19.561Z"
   },
   {
    "duration": 12,
    "start_time": "2022-08-28T20:34:19.575Z"
   },
   {
    "duration": 6,
    "start_time": "2022-08-28T20:34:19.588Z"
   },
   {
    "duration": 3,
    "start_time": "2022-08-28T20:34:19.596Z"
   },
   {
    "duration": 419,
    "start_time": "2022-08-28T20:34:19.601Z"
   },
   {
    "duration": 3,
    "start_time": "2022-08-28T20:34:20.022Z"
   },
   {
    "duration": 19,
    "start_time": "2022-08-28T20:34:20.027Z"
   },
   {
    "duration": 8,
    "start_time": "2022-08-28T20:34:20.048Z"
   },
   {
    "duration": 158,
    "start_time": "2022-08-28T20:34:20.057Z"
   },
   {
    "duration": 9,
    "start_time": "2022-08-28T20:34:20.217Z"
   },
   {
    "duration": 141,
    "start_time": "2022-08-28T20:34:20.228Z"
   },
   {
    "duration": 9,
    "start_time": "2022-08-28T20:34:20.370Z"
   },
   {
    "duration": 229,
    "start_time": "2022-08-28T20:34:20.380Z"
   },
   {
    "duration": 4,
    "start_time": "2022-08-28T20:34:20.611Z"
   },
   {
    "duration": 22,
    "start_time": "2022-08-28T20:34:20.616Z"
   },
   {
    "duration": 138,
    "start_time": "2022-08-28T20:34:20.640Z"
   },
   {
    "duration": 8,
    "start_time": "2022-08-28T20:34:20.780Z"
   },
   {
    "duration": 152,
    "start_time": "2022-08-28T20:34:20.789Z"
   },
   {
    "duration": 6,
    "start_time": "2022-08-28T20:34:20.943Z"
   },
   {
    "duration": 15,
    "start_time": "2022-08-28T20:34:20.950Z"
   },
   {
    "duration": 142,
    "start_time": "2022-08-28T20:34:20.967Z"
   },
   {
    "duration": 7,
    "start_time": "2022-08-28T20:34:21.110Z"
   },
   {
    "duration": 21,
    "start_time": "2022-08-28T20:34:21.118Z"
   },
   {
    "duration": 131,
    "start_time": "2022-08-28T20:34:21.140Z"
   },
   {
    "duration": 6,
    "start_time": "2022-08-28T20:34:21.273Z"
   },
   {
    "duration": 12,
    "start_time": "2022-08-28T20:34:21.280Z"
   },
   {
    "duration": 124,
    "start_time": "2022-08-28T20:34:21.294Z"
   },
   {
    "duration": 8,
    "start_time": "2022-08-28T20:34:21.420Z"
   },
   {
    "duration": 124,
    "start_time": "2022-08-28T20:34:21.439Z"
   },
   {
    "duration": 6,
    "start_time": "2022-08-28T20:34:21.565Z"
   },
   {
    "duration": 10,
    "start_time": "2022-08-28T20:34:21.573Z"
   },
   {
    "duration": 165,
    "start_time": "2022-08-28T20:34:21.584Z"
   },
   {
    "duration": 10,
    "start_time": "2022-08-28T20:34:21.751Z"
   },
   {
    "duration": 127,
    "start_time": "2022-08-28T20:34:21.762Z"
   },
   {
    "duration": 9,
    "start_time": "2022-08-28T20:34:21.891Z"
   },
   {
    "duration": 157,
    "start_time": "2022-08-28T20:34:21.901Z"
   },
   {
    "duration": 8,
    "start_time": "2022-08-28T20:34:22.060Z"
   },
   {
    "duration": 152,
    "start_time": "2022-08-28T20:34:22.069Z"
   },
   {
    "duration": 16,
    "start_time": "2022-08-28T20:34:22.223Z"
   },
   {
    "duration": 198,
    "start_time": "2022-08-28T20:34:22.240Z"
   },
   {
    "duration": 9,
    "start_time": "2022-08-28T20:34:22.440Z"
   },
   {
    "duration": 144,
    "start_time": "2022-08-28T20:34:22.451Z"
   },
   {
    "duration": 7,
    "start_time": "2022-08-28T20:34:22.597Z"
   },
   {
    "duration": 153,
    "start_time": "2022-08-28T20:34:22.605Z"
   },
   {
    "duration": 5,
    "start_time": "2022-08-28T20:34:22.760Z"
   },
   {
    "duration": 167,
    "start_time": "2022-08-28T20:34:22.766Z"
   },
   {
    "duration": 7,
    "start_time": "2022-08-28T20:34:22.934Z"
   },
   {
    "duration": 151,
    "start_time": "2022-08-28T20:34:22.943Z"
   },
   {
    "duration": 5,
    "start_time": "2022-08-28T20:34:23.096Z"
   },
   {
    "duration": 166,
    "start_time": "2022-08-28T20:34:23.102Z"
   },
   {
    "duration": 5,
    "start_time": "2022-08-28T20:34:23.269Z"
   },
   {
    "duration": 149,
    "start_time": "2022-08-28T20:34:23.275Z"
   },
   {
    "duration": 158,
    "start_time": "2022-08-28T20:34:23.430Z"
   },
   {
    "duration": 205,
    "start_time": "2022-08-28T20:34:23.589Z"
   },
   {
    "duration": 151,
    "start_time": "2022-08-28T20:34:23.796Z"
   },
   {
    "duration": 16,
    "start_time": "2022-08-28T20:34:23.949Z"
   },
   {
    "duration": 7,
    "start_time": "2022-08-28T20:34:23.966Z"
   },
   {
    "duration": 11,
    "start_time": "2022-08-28T20:34:23.974Z"
   },
   {
    "duration": 4,
    "start_time": "2022-08-28T20:34:23.986Z"
   },
   {
    "duration": 6,
    "start_time": "2022-08-28T20:34:23.992Z"
   },
   {
    "duration": 158,
    "start_time": "2022-08-28T20:34:23.999Z"
   },
   {
    "duration": 7,
    "start_time": "2022-08-28T20:35:33.827Z"
   },
   {
    "duration": 15,
    "start_time": "2022-08-28T20:35:35.492Z"
   },
   {
    "duration": 717,
    "start_time": "2022-08-28T20:35:45.798Z"
   },
   {
    "duration": 31,
    "start_time": "2022-08-28T20:35:46.517Z"
   },
   {
    "duration": 14,
    "start_time": "2022-08-28T20:35:46.550Z"
   },
   {
    "duration": 1882,
    "start_time": "2022-08-28T20:35:46.565Z"
   },
   {
    "duration": 10,
    "start_time": "2022-08-28T20:35:48.448Z"
   },
   {
    "duration": 5,
    "start_time": "2022-08-28T20:35:48.460Z"
   },
   {
    "duration": 4,
    "start_time": "2022-08-28T20:35:48.467Z"
   },
   {
    "duration": 10,
    "start_time": "2022-08-28T20:35:48.472Z"
   },
   {
    "duration": 3,
    "start_time": "2022-08-28T20:35:48.484Z"
   },
   {
    "duration": 13,
    "start_time": "2022-08-28T20:35:48.489Z"
   },
   {
    "duration": 7,
    "start_time": "2022-08-28T20:35:48.503Z"
   },
   {
    "duration": 14,
    "start_time": "2022-08-28T20:35:48.539Z"
   },
   {
    "duration": 9,
    "start_time": "2022-08-28T20:35:48.555Z"
   },
   {
    "duration": 7,
    "start_time": "2022-08-28T20:35:48.566Z"
   },
   {
    "duration": 9,
    "start_time": "2022-08-28T20:35:48.574Z"
   },
   {
    "duration": 10,
    "start_time": "2022-08-28T20:35:48.584Z"
   },
   {
    "duration": 14,
    "start_time": "2022-08-28T20:35:48.595Z"
   },
   {
    "duration": 39,
    "start_time": "2022-08-28T20:35:48.610Z"
   },
   {
    "duration": 14,
    "start_time": "2022-08-28T20:35:48.651Z"
   },
   {
    "duration": 9,
    "start_time": "2022-08-28T20:35:48.666Z"
   },
   {
    "duration": 126,
    "start_time": "2022-08-28T20:35:48.677Z"
   },
   {
    "duration": 6,
    "start_time": "2022-08-28T20:35:48.805Z"
   },
   {
    "duration": 6,
    "start_time": "2022-08-28T20:35:48.812Z"
   },
   {
    "duration": 19,
    "start_time": "2022-08-28T20:35:48.819Z"
   },
   {
    "duration": 4,
    "start_time": "2022-08-28T20:35:48.840Z"
   },
   {
    "duration": 12,
    "start_time": "2022-08-28T20:35:48.846Z"
   },
   {
    "duration": 10,
    "start_time": "2022-08-28T20:35:48.860Z"
   },
   {
    "duration": 27,
    "start_time": "2022-08-28T20:35:48.876Z"
   },
   {
    "duration": 4,
    "start_time": "2022-08-28T20:35:48.905Z"
   },
   {
    "duration": 32,
    "start_time": "2022-08-28T20:35:48.911Z"
   },
   {
    "duration": 11,
    "start_time": "2022-08-28T20:35:48.946Z"
   },
   {
    "duration": 14,
    "start_time": "2022-08-28T20:35:48.959Z"
   },
   {
    "duration": 6,
    "start_time": "2022-08-28T20:35:48.975Z"
   },
   {
    "duration": 413,
    "start_time": "2022-08-28T20:35:48.983Z"
   },
   {
    "duration": 4,
    "start_time": "2022-08-28T20:35:49.398Z"
   },
   {
    "duration": 18,
    "start_time": "2022-08-28T20:35:49.404Z"
   },
   {
    "duration": 19,
    "start_time": "2022-08-28T20:35:49.423Z"
   },
   {
    "duration": 156,
    "start_time": "2022-08-28T20:35:49.443Z"
   },
   {
    "duration": 8,
    "start_time": "2022-08-28T20:35:49.601Z"
   },
   {
    "duration": 147,
    "start_time": "2022-08-28T20:35:49.611Z"
   },
   {
    "duration": 10,
    "start_time": "2022-08-28T20:35:49.759Z"
   },
   {
    "duration": 235,
    "start_time": "2022-08-28T20:35:49.770Z"
   },
   {
    "duration": 4,
    "start_time": "2022-08-28T20:35:50.007Z"
   },
   {
    "duration": 26,
    "start_time": "2022-08-28T20:35:50.012Z"
   },
   {
    "duration": 136,
    "start_time": "2022-08-28T20:35:50.040Z"
   },
   {
    "duration": 8,
    "start_time": "2022-08-28T20:35:50.177Z"
   },
   {
    "duration": 153,
    "start_time": "2022-08-28T20:35:50.187Z"
   },
   {
    "duration": 7,
    "start_time": "2022-08-28T20:35:50.342Z"
   },
   {
    "duration": 10,
    "start_time": "2022-08-28T20:35:50.350Z"
   },
   {
    "duration": 155,
    "start_time": "2022-08-28T20:35:50.362Z"
   },
   {
    "duration": 19,
    "start_time": "2022-08-28T20:35:50.519Z"
   },
   {
    "duration": 7,
    "start_time": "2022-08-28T20:35:50.540Z"
   },
   {
    "duration": 137,
    "start_time": "2022-08-28T20:35:50.549Z"
   },
   {
    "duration": 6,
    "start_time": "2022-08-28T20:35:50.688Z"
   },
   {
    "duration": 10,
    "start_time": "2022-08-28T20:35:50.695Z"
   },
   {
    "duration": 137,
    "start_time": "2022-08-28T20:35:50.706Z"
   },
   {
    "duration": 8,
    "start_time": "2022-08-28T20:35:50.844Z"
   },
   {
    "duration": 132,
    "start_time": "2022-08-28T20:35:50.854Z"
   },
   {
    "duration": 5,
    "start_time": "2022-08-28T20:35:50.988Z"
   },
   {
    "duration": 12,
    "start_time": "2022-08-28T20:35:50.995Z"
   },
   {
    "duration": 142,
    "start_time": "2022-08-28T20:35:51.009Z"
   },
   {
    "duration": 9,
    "start_time": "2022-08-28T20:35:51.153Z"
   },
   {
    "duration": 135,
    "start_time": "2022-08-28T20:35:51.164Z"
   },
   {
    "duration": 10,
    "start_time": "2022-08-28T20:35:51.300Z"
   },
   {
    "duration": 152,
    "start_time": "2022-08-28T20:35:51.311Z"
   },
   {
    "duration": 7,
    "start_time": "2022-08-28T20:35:51.465Z"
   },
   {
    "duration": 157,
    "start_time": "2022-08-28T20:35:51.474Z"
   },
   {
    "duration": 9,
    "start_time": "2022-08-28T20:35:51.633Z"
   },
   {
    "duration": 205,
    "start_time": "2022-08-28T20:35:51.644Z"
   },
   {
    "duration": 8,
    "start_time": "2022-08-28T20:35:51.851Z"
   },
   {
    "duration": 146,
    "start_time": "2022-08-28T20:35:51.861Z"
   },
   {
    "duration": 6,
    "start_time": "2022-08-28T20:35:52.009Z"
   },
   {
    "duration": 181,
    "start_time": "2022-08-28T20:35:52.017Z"
   },
   {
    "duration": 5,
    "start_time": "2022-08-28T20:35:52.200Z"
   },
   {
    "duration": 172,
    "start_time": "2022-08-28T20:35:52.206Z"
   },
   {
    "duration": 5,
    "start_time": "2022-08-28T20:35:52.380Z"
   },
   {
    "duration": 176,
    "start_time": "2022-08-28T20:35:52.387Z"
   },
   {
    "duration": 6,
    "start_time": "2022-08-28T20:35:52.565Z"
   },
   {
    "duration": 176,
    "start_time": "2022-08-28T20:35:52.572Z"
   },
   {
    "duration": 6,
    "start_time": "2022-08-28T20:35:52.750Z"
   },
   {
    "duration": 152,
    "start_time": "2022-08-28T20:35:52.757Z"
   },
   {
    "duration": 163,
    "start_time": "2022-08-28T20:35:52.915Z"
   },
   {
    "duration": 197,
    "start_time": "2022-08-28T20:35:53.080Z"
   },
   {
    "duration": 156,
    "start_time": "2022-08-28T20:35:53.279Z"
   },
   {
    "duration": 16,
    "start_time": "2022-08-28T20:35:53.438Z"
   },
   {
    "duration": 7,
    "start_time": "2022-08-28T20:35:53.456Z"
   },
   {
    "duration": 10,
    "start_time": "2022-08-28T20:35:53.465Z"
   },
   {
    "duration": 4,
    "start_time": "2022-08-28T20:35:53.477Z"
   },
   {
    "duration": 7,
    "start_time": "2022-08-28T20:35:53.483Z"
   },
   {
    "duration": 156,
    "start_time": "2022-08-28T20:35:53.491Z"
   },
   {
    "duration": 7,
    "start_time": "2022-08-28T20:36:20.653Z"
   },
   {
    "duration": 16,
    "start_time": "2022-08-28T20:36:22.430Z"
   },
   {
    "duration": 332,
    "start_time": "2022-08-28T20:38:04.155Z"
   }
  ],
  "kernelspec": {
   "display_name": "Python 3 (ipykernel)",
   "language": "python",
   "name": "python3"
  },
  "language_info": {
   "codemirror_mode": {
    "name": "ipython",
    "version": 3
   },
   "file_extension": ".py",
   "mimetype": "text/x-python",
   "name": "python",
   "nbconvert_exporter": "python",
   "pygments_lexer": "ipython3",
   "version": "3.9.13"
  },
  "toc": {
   "base_numbering": 1,
   "nav_menu": {},
   "number_sections": true,
   "sideBar": true,
   "skip_h1_title": true,
   "title_cell": "Table of Contents",
   "title_sidebar": "Contents",
   "toc_cell": false,
   "toc_position": {},
   "toc_section_display": true,
   "toc_window_display": true
  }
 },
 "nbformat": 4,
 "nbformat_minor": 4
}
