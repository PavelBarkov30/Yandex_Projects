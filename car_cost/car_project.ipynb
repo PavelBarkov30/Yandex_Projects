{
 "cells": [
  {
   "cell_type": "markdown",
   "metadata": {},
   "source": [
    "# Определение стоимости автомобилей"
   ]
  },
  {
   "cell_type": "markdown",
   "metadata": {},
   "source": [
    "Сервис по продаже автомобилей с пробегом «Не бит, не крашен» разрабатывает приложение для привлечения новых клиентов. В нём можно быстро узнать рыночную стоимость своего автомобиля. В вашем распоряжении исторические данные: технические характеристики, комплектации и цены автомобилей. Вам нужно построить модель для определения стоимости. \n",
    "\n",
    "Заказчику важны:\n",
    "\n",
    "- качество предсказания;\n",
    "- скорость предсказания;\n",
    "- время обучения."
   ]
  },
  {
   "cell_type": "markdown",
   "metadata": {},
   "source": [
    "## Установка и импорт необходимых библиотек"
   ]
  },
  {
   "cell_type": "code",
   "execution_count": 15,
   "metadata": {},
   "outputs": [
    {
     "name": "stdout",
     "output_type": "stream",
     "text": [
      "Requirement already satisfied: lightgbm in c:\\users\\pulka\\anaconda3\\lib\\site-packages (3.3.5)\n",
      "Requirement already satisfied: scikit-learn!=0.22.0 in c:\\users\\pulka\\anaconda3\\lib\\site-packages (from lightgbm) (1.1.3)\n",
      "Requirement already satisfied: numpy in c:\\users\\pulka\\anaconda3\\lib\\site-packages (from lightgbm) (1.21.5)\n",
      "Requirement already satisfied: wheel in c:\\users\\pulka\\anaconda3\\lib\\site-packages (from lightgbm) (0.37.1)\n",
      "Requirement already satisfied: scipy in c:\\users\\pulka\\anaconda3\\lib\\site-packages (from lightgbm) (1.9.3)\n",
      "Requirement already satisfied: joblib>=1.0.0 in c:\\users\\pulka\\anaconda3\\lib\\site-packages (from scikit-learn!=0.22.0->lightgbm) (1.2.0)\n",
      "Requirement already satisfied: threadpoolctl>=2.0.0 in c:\\users\\pulka\\anaconda3\\lib\\site-packages (from scikit-learn!=0.22.0->lightgbm) (2.2.0)\n"
     ]
    }
   ],
   "source": [
    "!pip install lightgbm"
   ]
  },
  {
   "cell_type": "code",
   "execution_count": 16,
   "metadata": {},
   "outputs": [],
   "source": [
    "import pandas as pd\n",
    "import numpy as np\n",
    "import matplotlib.pyplot as plt\n",
    "import seaborn as sns\n",
    "\n",
    "from catboost import CatBoostRegressor\n",
    "from sklearn.ensemble import RandomForestRegressor\n",
    "from lightgbm import LGBMRegressor\n",
    "from sklearn.model_selection import train_test_split, GridSearchCV, cross_val_score\n",
    "from sklearn.metrics import mean_squared_error\n",
    "from sklearn.pipeline import Pipeline\n",
    "from sklearn.preprocessing import OneHotEncoder, OrdinalEncoder, StandardScaler\n",
    "from sklearn.compose import ColumnTransformer\n",
    "\n",
    "import warnings\n",
    "from time import time\n",
    "\n",
    "warnings.filterwarnings('ignore')\n",
    "%matplotlib inline"
   ]
  },
  {
   "cell_type": "markdown",
   "metadata": {},
   "source": [
    "## Подготовка данных"
   ]
  },
  {
   "cell_type": "code",
   "execution_count": 17,
   "metadata": {},
   "outputs": [],
   "source": [
    "try:\n",
    "    df = pd.read_csv('/datasets/autos.csv')\n",
    "except:\n",
    "    df = pd.read_csv(r'C:\\Users\\pulka\\OneDrive\\Рабочий стол\\численные методы\\проект численнын методы/autos.csv')"
   ]
  },
  {
   "cell_type": "code",
   "execution_count": 18,
   "metadata": {},
   "outputs": [
    {
     "data": {
      "text/html": [
       "<div>\n",
       "<style scoped>\n",
       "    .dataframe tbody tr th:only-of-type {\n",
       "        vertical-align: middle;\n",
       "    }\n",
       "\n",
       "    .dataframe tbody tr th {\n",
       "        vertical-align: top;\n",
       "    }\n",
       "\n",
       "    .dataframe thead th {\n",
       "        text-align: right;\n",
       "    }\n",
       "</style>\n",
       "<table border=\"1\" class=\"dataframe\">\n",
       "  <thead>\n",
       "    <tr style=\"text-align: right;\">\n",
       "      <th></th>\n",
       "      <th>DateCrawled</th>\n",
       "      <th>Price</th>\n",
       "      <th>VehicleType</th>\n",
       "      <th>RegistrationYear</th>\n",
       "      <th>Gearbox</th>\n",
       "      <th>Power</th>\n",
       "      <th>Model</th>\n",
       "      <th>Kilometer</th>\n",
       "      <th>RegistrationMonth</th>\n",
       "      <th>FuelType</th>\n",
       "      <th>Brand</th>\n",
       "      <th>Repaired</th>\n",
       "      <th>DateCreated</th>\n",
       "      <th>NumberOfPictures</th>\n",
       "      <th>PostalCode</th>\n",
       "      <th>LastSeen</th>\n",
       "    </tr>\n",
       "  </thead>\n",
       "  <tbody>\n",
       "    <tr>\n",
       "      <th>0</th>\n",
       "      <td>2016-03-24 11:52:17</td>\n",
       "      <td>480</td>\n",
       "      <td>NaN</td>\n",
       "      <td>1993</td>\n",
       "      <td>manual</td>\n",
       "      <td>0</td>\n",
       "      <td>golf</td>\n",
       "      <td>150000</td>\n",
       "      <td>0</td>\n",
       "      <td>petrol</td>\n",
       "      <td>volkswagen</td>\n",
       "      <td>NaN</td>\n",
       "      <td>2016-03-24 00:00:00</td>\n",
       "      <td>0</td>\n",
       "      <td>70435</td>\n",
       "      <td>2016-04-07 03:16:57</td>\n",
       "    </tr>\n",
       "    <tr>\n",
       "      <th>1</th>\n",
       "      <td>2016-03-24 10:58:45</td>\n",
       "      <td>18300</td>\n",
       "      <td>coupe</td>\n",
       "      <td>2011</td>\n",
       "      <td>manual</td>\n",
       "      <td>190</td>\n",
       "      <td>NaN</td>\n",
       "      <td>125000</td>\n",
       "      <td>5</td>\n",
       "      <td>gasoline</td>\n",
       "      <td>audi</td>\n",
       "      <td>yes</td>\n",
       "      <td>2016-03-24 00:00:00</td>\n",
       "      <td>0</td>\n",
       "      <td>66954</td>\n",
       "      <td>2016-04-07 01:46:50</td>\n",
       "    </tr>\n",
       "    <tr>\n",
       "      <th>2</th>\n",
       "      <td>2016-03-14 12:52:21</td>\n",
       "      <td>9800</td>\n",
       "      <td>suv</td>\n",
       "      <td>2004</td>\n",
       "      <td>auto</td>\n",
       "      <td>163</td>\n",
       "      <td>grand</td>\n",
       "      <td>125000</td>\n",
       "      <td>8</td>\n",
       "      <td>gasoline</td>\n",
       "      <td>jeep</td>\n",
       "      <td>NaN</td>\n",
       "      <td>2016-03-14 00:00:00</td>\n",
       "      <td>0</td>\n",
       "      <td>90480</td>\n",
       "      <td>2016-04-05 12:47:46</td>\n",
       "    </tr>\n",
       "    <tr>\n",
       "      <th>3</th>\n",
       "      <td>2016-03-17 16:54:04</td>\n",
       "      <td>1500</td>\n",
       "      <td>small</td>\n",
       "      <td>2001</td>\n",
       "      <td>manual</td>\n",
       "      <td>75</td>\n",
       "      <td>golf</td>\n",
       "      <td>150000</td>\n",
       "      <td>6</td>\n",
       "      <td>petrol</td>\n",
       "      <td>volkswagen</td>\n",
       "      <td>no</td>\n",
       "      <td>2016-03-17 00:00:00</td>\n",
       "      <td>0</td>\n",
       "      <td>91074</td>\n",
       "      <td>2016-03-17 17:40:17</td>\n",
       "    </tr>\n",
       "    <tr>\n",
       "      <th>4</th>\n",
       "      <td>2016-03-31 17:25:20</td>\n",
       "      <td>3600</td>\n",
       "      <td>small</td>\n",
       "      <td>2008</td>\n",
       "      <td>manual</td>\n",
       "      <td>69</td>\n",
       "      <td>fabia</td>\n",
       "      <td>90000</td>\n",
       "      <td>7</td>\n",
       "      <td>gasoline</td>\n",
       "      <td>skoda</td>\n",
       "      <td>no</td>\n",
       "      <td>2016-03-31 00:00:00</td>\n",
       "      <td>0</td>\n",
       "      <td>60437</td>\n",
       "      <td>2016-04-06 10:17:21</td>\n",
       "    </tr>\n",
       "  </tbody>\n",
       "</table>\n",
       "</div>"
      ],
      "text/plain": [
       "           DateCrawled  Price VehicleType  RegistrationYear Gearbox  Power  \\\n",
       "0  2016-03-24 11:52:17    480         NaN              1993  manual      0   \n",
       "1  2016-03-24 10:58:45  18300       coupe              2011  manual    190   \n",
       "2  2016-03-14 12:52:21   9800         suv              2004    auto    163   \n",
       "3  2016-03-17 16:54:04   1500       small              2001  manual     75   \n",
       "4  2016-03-31 17:25:20   3600       small              2008  manual     69   \n",
       "\n",
       "   Model  Kilometer  RegistrationMonth  FuelType       Brand Repaired  \\\n",
       "0   golf     150000                  0    petrol  volkswagen      NaN   \n",
       "1    NaN     125000                  5  gasoline        audi      yes   \n",
       "2  grand     125000                  8  gasoline        jeep      NaN   \n",
       "3   golf     150000                  6    petrol  volkswagen       no   \n",
       "4  fabia      90000                  7  gasoline       skoda       no   \n",
       "\n",
       "           DateCreated  NumberOfPictures  PostalCode             LastSeen  \n",
       "0  2016-03-24 00:00:00                 0       70435  2016-04-07 03:16:57  \n",
       "1  2016-03-24 00:00:00                 0       66954  2016-04-07 01:46:50  \n",
       "2  2016-03-14 00:00:00                 0       90480  2016-04-05 12:47:46  \n",
       "3  2016-03-17 00:00:00                 0       91074  2016-03-17 17:40:17  \n",
       "4  2016-03-31 00:00:00                 0       60437  2016-04-06 10:17:21  "
      ]
     },
     "execution_count": 18,
     "metadata": {},
     "output_type": "execute_result"
    }
   ],
   "source": [
    "df.head()"
   ]
  },
  {
   "cell_type": "code",
   "execution_count": 19,
   "metadata": {},
   "outputs": [
    {
     "name": "stdout",
     "output_type": "stream",
     "text": [
      "<class 'pandas.core.frame.DataFrame'>\n",
      "RangeIndex: 354369 entries, 0 to 354368\n",
      "Data columns (total 16 columns):\n",
      " #   Column             Non-Null Count   Dtype \n",
      "---  ------             --------------   ----- \n",
      " 0   DateCrawled        354369 non-null  object\n",
      " 1   Price              354369 non-null  int64 \n",
      " 2   VehicleType        316879 non-null  object\n",
      " 3   RegistrationYear   354369 non-null  int64 \n",
      " 4   Gearbox            334536 non-null  object\n",
      " 5   Power              354369 non-null  int64 \n",
      " 6   Model              334664 non-null  object\n",
      " 7   Kilometer          354369 non-null  int64 \n",
      " 8   RegistrationMonth  354369 non-null  int64 \n",
      " 9   FuelType           321474 non-null  object\n",
      " 10  Brand              354369 non-null  object\n",
      " 11  Repaired           283215 non-null  object\n",
      " 12  DateCreated        354369 non-null  object\n",
      " 13  NumberOfPictures   354369 non-null  int64 \n",
      " 14  PostalCode         354369 non-null  int64 \n",
      " 15  LastSeen           354369 non-null  object\n",
      "dtypes: int64(7), object(9)\n",
      "memory usage: 43.3+ MB\n"
     ]
    }
   ],
   "source": [
    "df.info()"
   ]
  },
  {
   "cell_type": "markdown",
   "metadata": {},
   "source": [
    "Количество пропусков в данных."
   ]
  },
  {
   "cell_type": "code",
   "execution_count": 20,
   "metadata": {},
   "outputs": [
    {
     "data": {
      "image/png": "[encoded data removed]",
      "text/plain": [
       "<Figure size 640x480 with 1 Axes>"
      ]
     },
     "metadata": {},
     "output_type": "display_data"
    }
   ],
   "source": [
    "df.isna().mean().plot(kind = 'bar', grid = True);"
   ]
  },
  {
   "cell_type": "markdown",
   "metadata": {},
   "source": [
    "Удалим строки с пропущенными значениями , там где их меньше 10 процентов : `Gearbox`, `Model`, `FuelType`"
   ]
  },
  {
   "cell_type": "code",
   "execution_count": 21,
   "metadata": {},
   "outputs": [],
   "source": [
    "df = df.dropna(subset= ['Gearbox', 'Model', 'FuelType'])"
   ]
  },
  {
   "cell_type": "markdown",
   "metadata": {},
   "source": [
    "Удалим явные дубликаты. "
   ]
  },
  {
   "cell_type": "code",
   "execution_count": 22,
   "metadata": {},
   "outputs": [],
   "source": [
    "df = df.drop_duplicates()"
   ]
  },
  {
   "cell_type": "code",
   "execution_count": 23,
   "metadata": {},
   "outputs": [
    {
     "name": "stdout",
     "output_type": "stream",
     "text": [
      "15.561462769034536 %\n"
     ]
    }
   ],
   "source": [
    "#Посмотрим сколько данных удалили.\n",
    "print(((354369 - len(df))/354369)*100,'%')"
   ]
  },
  {
   "cell_type": "code",
   "execution_count": 24,
   "metadata": {},
   "outputs": [
    {
     "data": {
      "text/plain": [
       "Index(['DateCrawled', 'Price', 'VehicleType', 'RegistrationYear', 'Gearbox',\n",
       "       'Power', 'Model', 'Kilometer', 'RegistrationMonth', 'FuelType', 'Brand',\n",
       "       'Repaired', 'DateCreated', 'NumberOfPictures', 'PostalCode',\n",
       "       'LastSeen'],\n",
       "      dtype='object')"
      ]
     },
     "execution_count": 24,
     "metadata": {},
     "output_type": "execute_result"
    }
   ],
   "source": [
    "df.columns"
   ]
  },
  {
   "cell_type": "markdown",
   "metadata": {},
   "source": [
    "#### Рассмотрим каждый столбец отдельно."
   ]
  },
  {
   "cell_type": "markdown",
   "metadata": {},
   "source": [
    "- цена"
   ]
  },
  {
   "cell_type": "code",
   "execution_count": 25,
   "metadata": {},
   "outputs": [
    {
     "data": {
      "text/plain": [
       "<AxesSubplot: >"
      ]
     },
     "execution_count": 25,
     "metadata": {},
     "output_type": "execute_result"
    },
    {
     "data": {
      "image/png": "[encoded data removed]",
      "text/plain": [
       "<Figure size 640x480 with 1 Axes>"
      ]
     },
     "metadata": {},
     "output_type": "display_data"
    }
   ],
   "source": [
    "df.Price.hist()"
   ]
  },
  {
   "cell_type": "code",
   "execution_count": 26,
   "metadata": {},
   "outputs": [],
   "source": [
    "df = df.query('Price >1')"
   ]
  },
  {
   "cell_type": "markdown",
   "metadata": {},
   "source": [
    "- тип автомобильного кузова"
   ]
  },
  {
   "cell_type": "code",
   "execution_count": 27,
   "metadata": {},
   "outputs": [
    {
     "data": {
      "text/plain": [
       "array([nan, 'suv', 'small', 'sedan', 'convertible', 'bus', 'wagon',\n",
       "       'coupe', 'other'], dtype=object)"
      ]
     },
     "execution_count": 27,
     "metadata": {},
     "output_type": "execute_result"
    }
   ],
   "source": [
    "df.VehicleType.unique()"
   ]
  },
  {
   "cell_type": "code",
   "execution_count": 28,
   "metadata": {},
   "outputs": [
    {
     "data": {
      "text/plain": [
       "sedan          81374\n",
       "small          68673\n",
       "wagon          57792\n",
       "bus            26033\n",
       "convertible    17952\n",
       "NaN            14121\n",
       "coupe          13895\n",
       "suv            10530\n",
       "other           2343\n",
       "Name: VehicleType, dtype: int64"
      ]
     },
     "execution_count": 28,
     "metadata": {},
     "output_type": "execute_result"
    }
   ],
   "source": [
    "df.VehicleType.value_counts(dropna = False)"
   ]
  },
  {
   "cell_type": "code",
   "execution_count": 29,
   "metadata": {},
   "outputs": [
    {
     "data": {
      "text/plain": [
       "Model   VehicleType\n",
       "100     convertible      1\n",
       "        coupe            2\n",
       "        sedan          250\n",
       "        wagon           93\n",
       "145     coupe            2\n",
       "                      ... \n",
       "zafira  other           19\n",
       "        sedan           19\n",
       "        small            9\n",
       "        suv              5\n",
       "        wagon          171\n",
       "Name: VehicleType, Length: 1083, dtype: int64"
      ]
     },
     "execution_count": 29,
     "metadata": {},
     "output_type": "execute_result"
    }
   ],
   "source": [
    "df.groupby(['Model', 'VehicleType'])['VehicleType'].count()"
   ]
  },
  {
   "cell_type": "markdown",
   "metadata": {},
   "source": [
    "Так как невозможно однозначно определить тип кузова, отнесем все к категории `other`. <br>\n",
    "Можно было бы заполнить тип кузова в зависимости от модели, но у одной модели может быть несколько вариантов кузова."
   ]
  },
  {
   "cell_type": "code",
   "execution_count": 30,
   "metadata": {},
   "outputs": [],
   "source": [
    "df['VehicleType'] = df['VehicleType'].fillna('other')"
   ]
  },
  {
   "cell_type": "markdown",
   "metadata": {},
   "source": [
    "- год регистрации автомобиля"
   ]
  },
  {
   "cell_type": "code",
   "execution_count": 31,
   "metadata": {},
   "outputs": [
    {
     "data": {
      "text/plain": [
       "1999    19102\n",
       "2005    18387\n",
       "2006    18148\n",
       "2000    17967\n",
       "2003    17695\n",
       "        ...  \n",
       "1936        1\n",
       "1935        1\n",
       "1934        1\n",
       "1400        1\n",
       "1600        1\n",
       "Name: RegistrationYear, Length: 95, dtype: int64"
      ]
     },
     "execution_count": 31,
     "metadata": {},
     "output_type": "execute_result"
    }
   ],
   "source": [
    "df.RegistrationYear.value_counts()"
   ]
  },
  {
   "cell_type": "code",
   "execution_count": 32,
   "metadata": {},
   "outputs": [
    {
     "data": {
      "text/plain": [
       "array([1993, 2004, 2001, 2008, 1995, 2014, 2005, 2011, 2007, 2009, 2002,\n",
       "       2018, 1997, 1990, 1981, 2003, 2016, 1984, 2006, 1999, 1998, 2017,\n",
       "       2012, 2010, 2000, 1992, 2013, 1994, 1991, 1996, 1989, 2015, 1985,\n",
       "       1982, 1983, 1973, 1969, 1971, 1987, 1988, 1980, 1986, 1965, 1970,\n",
       "       1945, 1974, 1955, 1978, 1976, 1979, 1972, 1977, 1966, 1975, 1963,\n",
       "       1961, 1967, 1960, 1964, 1910, 1968, 1937, 1951, 1953, 2019, 1954,\n",
       "       1959, 1958, 1956, 2900, 1962, 1400, 1950, 1932, 1952, 3700, 5000,\n",
       "       1942, 1957, 1923, 1930, 1943, 1938, 1934, 1935, 1936, 1000, 1929,\n",
       "       6000, 1928, 1931, 1927, 1933, 1947, 1600], dtype=int64)"
      ]
     },
     "execution_count": 32,
     "metadata": {},
     "output_type": "execute_result"
    }
   ],
   "source": [
    "df.RegistrationYear.unique()"
   ]
  },
  {
   "cell_type": "code",
   "execution_count": 33,
   "metadata": {},
   "outputs": [
    {
     "data": {
      "text/plain": [
       "<AxesSubplot: >"
      ]
     },
     "execution_count": 33,
     "metadata": {},
     "output_type": "execute_result"
    },
    {
     "data": {
      "image/png": "[encoded data removed]",
      "text/plain": [
       "<Figure size 640x480 with 1 Axes>"
      ]
     },
     "metadata": {},
     "output_type": "display_data"
    }
   ],
   "source": [
    "sns.boxplot(df.RegistrationYear)"
   ]
  },
  {
   "cell_type": "code",
   "execution_count": 34,
   "metadata": {},
   "outputs": [
    {
     "name": "stdout",
     "output_type": "stream",
     "text": [
      "q1 = 1999.0\n",
      "q3 = 2007.0\n",
      "qmin = 1987.0\n",
      "qmax = 2019.0\n"
     ]
    }
   ],
   "source": [
    "q1 = df['RegistrationYear'].quantile(0.25)\n",
    "q3 = df['RegistrationYear'].quantile(0.75)\n",
    "qmin = q1 - 1.5*(q3-q1)\n",
    "qmax = q3 + 1.5*(q3 - q1)\n",
    "print(f'q1 = {q1}')\n",
    "print(f'q3 = {q3}')\n",
    "print(f'qmin = {qmin}')\n",
    "print(f'qmax = {qmax}')"
   ]
  },
  {
   "cell_type": "code",
   "execution_count": 35,
   "metadata": {},
   "outputs": [],
   "source": [
    "df = df.loc[df['RegistrationYear'].between(1900, 2016)]"
   ]
  },
  {
   "cell_type": "markdown",
   "metadata": {},
   "source": [
    "Значения вроде 1000, 6000 и т.д. явно записаны ошибочно, их никак не обработать( поделить на что-то и т.д.). Ограничим временной период с 1900 по 2016 годы. Максимально возможный год регистрации должен соответствовать дате скачивания анкеты (DateCrawled) в 2016 году."
   ]
  },
  {
   "cell_type": "markdown",
   "metadata": {},
   "source": [
    "- Тип коробки передач"
   ]
  },
  {
   "cell_type": "code",
   "execution_count": 36,
   "metadata": {},
   "outputs": [
    {
     "data": {
      "text/plain": [
       "array(['manual', 'auto'], dtype=object)"
      ]
     },
     "execution_count": 36,
     "metadata": {},
     "output_type": "execute_result"
    }
   ],
   "source": [
    "df.Gearbox.unique()"
   ]
  },
  {
   "cell_type": "markdown",
   "metadata": {},
   "source": [
    "- мощность (л. с.)"
   ]
  },
  {
   "cell_type": "code",
   "execution_count": 37,
   "metadata": {
    "scrolled": true
   },
   "outputs": [
    {
     "data": {
      "text/plain": [
       "array([    0,   163,    75,    69,   102,   109,   125,   105,   140,\n",
       "         115,   190,   136,   160,   231,    50,   118,   193,    99,\n",
       "          60,   113,   218,   122,   129,    70,    95,    61,   177,\n",
       "         170,   143,   101,   232,   156,    80,    82,    90,   155,\n",
       "         150,   185,    87,   180,    86,   131,   224,   235,   200,\n",
       "         178,   265,    77,   110,   120,    54,   286,   116,   184,\n",
       "         204,    88,   194,    64,   305,   197,   179,   250,   313,\n",
       "          45,    98,    41,   130,   114,   211,    56,   201,   213,\n",
       "         107,   174,   100,   220,    73,   192,    66,    74,    58,\n",
       "          52,   147,    71,    97,    65,   239,    68,   203,   144,\n",
       "         300,   103,    85,   258,   320,    63,    81,   148,    44,\n",
       "          83,   145,    55,   280,   260,   104,   306,   188,   333,\n",
       "         117,   141,   132,   165,   234,   158,    39,    92,    51,\n",
       "         135,    59,   230,    53,    84,   209,    43,   146,    67,\n",
       "         106,   276,   344,    72,   237,   245,   111,   299,   326,\n",
       "         279,    23,   138,   310,   175,    96,   226,   126,   301,\n",
       "         166,   334,   128,   133,   124,    33,   219,   241,   167,\n",
       "         182,   196,   238,  1398,   228,    48,   272,   139,    79,\n",
       "         256,   243,   252,   340,   121,   289,   222,   198,   284,\n",
       "         450,   233,   387,   347,   172,   137,    94,   212,   476,\n",
       "         314,    30,   173,   290,   207,   205,   171,    78,    91,\n",
       "          89,   349,   186,   108,    76,   953,    93,   142,   199,\n",
       "         112,   152,    57,   367,   240,   208,   210,    46,   435,\n",
       "        1001,   225,   127,    26,   176,   161,    40,   603,   307,\n",
       "         354,    35,   206,   771,   355,   273,   223,   255,   151,\n",
       "         123,   154,   149,  7515,   268,   620,   400,   275,    34,\n",
       "           2,   242,  1779,   162,  1753,   329,   285,   420,   247,\n",
       "         164,   168,    47,   215,   360,    18,   330,   500,    62,\n",
       "         325,   183,   254,   134,    15,   321,   315,   952,   169,\n",
       "         328,    37,   119,   426,   379,   264,    22,   157,    42,\n",
       "         195,   343,   309,   507,   381,   271,   440,   401,   189,\n",
       "        2729,    21,   181,   249,  1240,   521,     1,  1900,   292,\n",
       "         303,    29,    38,  1993,    14,   216,   504,   267,   331,\n",
       "         363,   261,   270,   253,   696, 10520,   376,   227,   311,\n",
       "          27,   217,   350,    20,  1999,    11,    25,   394,    12,\n",
       "         298,   296,    49,   515,  1659,     4,   294,   187,   246,\n",
       "           5,    17,  1625,   221,  1367,   259,    24,  1597,   266,\n",
       "          16,   374,     9,   405,    13,     8,   411,   900,   600,\n",
       "           7,   159, 10218,  7544,   287,    19,   214,   457,   236,\n",
       "         282,   385,   388,   335,  1360,   202,  3750,  1062,    10,\n",
       "        1024, 11530,  1796,   460,  1780, 12012, 17932,   316,  2005,\n",
       "        1800,  1399,   191,   278,   396,   380,   257,   449,   295,\n",
       "         153,   288,  1653,   520,   560,   281,  1500,   386,    32,\n",
       "        1202,  2016,   430,  1436,  1405,   671,   274,  1288,  1055,\n",
       "        6226,  1115,   277,  1105,   341,  1223,   392,  8404,  1968,\n",
       "         338,   445,  1920,   370,   517,  4400, 10522,     6,   431,\n",
       "        1164,   371,  1501,   269,   428, 11635,   304,   390,   348,\n",
       "        1703,   579,   580,   408,    31,  1403,   489,  5575,   262,\n",
       "       19211,   585,   353,   490,   283,   352,  1000,   550,  3199,\n",
       "        1312,   950,  4700,  1600,  3454,   251,   850,   337,   700,\n",
       "        2331,  2789,   487,    36,   519,  2461,  6006,  5815,  6018,\n",
       "        1781,   612,  1506,  5809, 15020,  1300,  5867,  1598, 17410,\n",
       "        1363,   584,   322,  1054,   382,   318,   510,   525,    28,\n",
       "        1151,   685,   317,   703,  1771, 15001,   514,   332,   324,\n",
       "        6045,   425,   308,  6010,   475,   903,   640,  2000,   362,\n",
       "         248,   651,  2799,   368, 17011,   505,   606,  1521,   601,\n",
       "         351,   398,  1998, 10311,   409,  1230, 17019,  8259,  1895,\n",
       "         871,   909,  1595,   776,  1400, 17700, 11011,  1199,   357,\n",
       "        1162, 15033,  1896,   339,  6512,   454,   604,   999, 16312,\n",
       "         336, 20000,   416,   678,  1021,  1870, 13636,   323,  1158,\n",
       "        2009,  6062,  1275,   572,   244,   399,  1016,  1221,   345,\n",
       "        2402,  1362,   544,   645,   907,   702,  1995,  1003,  1432,\n",
       "        9013, 15017,   540,  2018, 11025,  1433,  1701,  2792,  1502,\n",
       "        1239,  1390,  1160,  1783,   229,  9007,  1149,   754,  2017,\n",
       "        5420,   365,   356,   364, 12512,  7511,  1011,  1299,  1079,\n",
       "         998,  1100,   346,  1933,   508, 16311,   551,  7529,  1707,\n",
       "        1416,  1700,  8500,  1012,   293,  1503, 10110,   421,  4507,\n",
       "        1631,  7518,  1250,   377,  1004,  1799,  9012,  2007,  1548,\n",
       "        1241,   650,     3], dtype=int64)"
      ]
     },
     "execution_count": 37,
     "metadata": {},
     "output_type": "execute_result"
    }
   ],
   "source": [
    "df.Power.unique()"
   ]
  },
  {
   "cell_type": "code",
   "execution_count": 38,
   "metadata": {},
   "outputs": [
    {
     "data": {
      "text/plain": [
       "<AxesSubplot: >"
      ]
     },
     "execution_count": 38,
     "metadata": {},
     "output_type": "execute_result"
    },
    {
     "data": {
      "image/png": "[encoded data removed]",
      "text/plain": [
       "<Figure size 640x480 with 1 Axes>"
      ]
     },
     "metadata": {},
     "output_type": "display_data"
    }
   ],
   "source": [
    "sns.boxplot(df.Power)"
   ]
  },
  {
   "cell_type": "code",
   "execution_count": 39,
   "metadata": {},
   "outputs": [
    {
     "data": {
      "text/plain": [
       "0"
      ]
     },
     "execution_count": 39,
     "metadata": {},
     "output_type": "execute_result"
    }
   ],
   "source": [
    "df['Power'].min()"
   ]
  },
  {
   "cell_type": "markdown",
   "metadata": {},
   "source": [
    "Если проанализировать модели авто, то можно заметить, что все авто условно среднего класс, спорткаров нет. Мощности больше 200-300 л.с. у них не могут быть. Обработаем данные."
   ]
  },
  {
   "cell_type": "code",
   "execution_count": 40,
   "metadata": {},
   "outputs": [],
   "source": [
    "df.loc[df['Power'] > 999,'Power'] = df['Power']/10\n",
    "df.loc[df['Power'] > 9999,'Power'] = df['Power']/100"
   ]
  },
  {
   "cell_type": "markdown",
   "metadata": {},
   "source": [
    "- модель автомобиля"
   ]
  },
  {
   "cell_type": "code",
   "execution_count": 41,
   "metadata": {
    "scrolled": true
   },
   "outputs": [
    {
     "data": {
      "text/plain": [
       "array(['golf', 'grand', 'fabia', '3er', '2_reihe', 'c_max', '3_reihe',\n",
       "       'passat', 'navara', 'twingo', 'a_klasse', 'scirocco', '5er',\n",
       "       'arosa', 'other', 'civic', 'transporter', 'punto', 'e_klasse',\n",
       "       'clio', 'one', 'fortwo', '1er', 'b_klasse', 'astra', 'a8', 'jetta',\n",
       "       'polo', 'fiesta', 'c_klasse', 'micra', 'vito', 'sprinter', '156',\n",
       "       'escort', 'forester', 'xc_reihe', 'scenic', 'a4', 'a1', 'combo',\n",
       "       'focus', 'tt', 'a6', 'jazz', 'slk', '7er', 'corsa', '80', '147',\n",
       "       'z_reihe', 'sorento', 'v40', 'ibiza', 'mustang', 'eos', 'touran',\n",
       "       'getz', 'insignia', 'ka', 'almera', 'megane', 'a3', 'lupo', 'r19',\n",
       "       'caddy', 'mondeo', 'colt', 'vectra', 'berlingo', 'tiguan',\n",
       "       'sharan', '6_reihe', 'c4', 'panda', 'up', 'i_reihe', 'ceed',\n",
       "       'kangoo', '5_reihe', 'yeti', 'octavia', 'zafira', 'mii',\n",
       "       'rx_reihe', '6er', 'modus', 'fox', 'matiz', 'beetle', 'rio',\n",
       "       'touareg', 'logan', 'omega', 'cuore', 's_max', 'a2', 'galaxy',\n",
       "       'c3', 'viano', 's_klasse', '1_reihe', 'avensis', 'roomster', 'sl',\n",
       "       'kaefer', 'santa', 'cooper', 'leon', 'a5', 'sportage', 'ptcruiser',\n",
       "       'clk', 'primera', '4_reihe', 'espace', 'x_reihe', 'exeo',\n",
       "       'transit', 'juke', 'qashqai', 'carisma', 'accord', 'corolla',\n",
       "       'lanos', 'phaeton', 'cordoba', 'verso', 'swift', 'rav', '159',\n",
       "       'picanto', 'boxster', 'stilo', 'alhambra', 'laguna', 'roadster',\n",
       "       'ypsilon', 'galant', 'justy', '90', 'sirion', 'signum',\n",
       "       'crossfire', 'agila', 'duster', 'v50', 'mx_reihe', '500', 'meriva',\n",
       "       'c_reihe', 'v_klasse', 'm_klasse', 'yaris', 'c5', 'aygo',\n",
       "       'seicento', 'cc', '911', 'bora', 'forfour', '100', 'cl', 'tigra',\n",
       "       '300c', 'cr_reihe', 'spark', 'kuga', 'impreza', 'x_type', 'ducato',\n",
       "       's_type', 'x_trail', 'toledo', 'altea', 'voyager', 'carnival',\n",
       "       'v70', 'bravo', 'antara', 'c1', 'kadett', 'citigo', 'jimny',\n",
       "       'cayenne', 'wrangler', 'lybra', 'q7', 'lancer', 'captiva',\n",
       "       'fusion', 'discovery', 'sandero', 'note', 'spider', 'cherokee',\n",
       "       'clubman', 'samara', 'defender', 'cx_reihe', 'legacy', 'pajero',\n",
       "       'auris', 'c2', 'niva', 's60', '900', 'nubira', 'vivaro', 'tucson',\n",
       "       'g_klasse', 'freelander', 'lodgy', '850', 'range_rover', '601',\n",
       "       'superb', 'q3', 'serie_2', 'calibra', 'glk', 'charade', 'croma',\n",
       "       'outlander', 'doblo', 'musa', 'move', '9000', 'kalos', 'v60',\n",
       "       '145', '200', 'm_reihe', 'b_max', 'range_rover_sport', 'aveo',\n",
       "       'terios', 'rangerover', 'q5', 'range_rover_evoque', 'materia',\n",
       "       'gl', 'kalina', 'elefantino', 'delta', 'i3', 'amarok', 'kappa',\n",
       "       'serie_3', 'serie_1'], dtype=object)"
      ]
     },
     "execution_count": 41,
     "metadata": {},
     "output_type": "execute_result"
    }
   ],
   "source": [
    "df.Model.unique()"
   ]
  },
  {
   "cell_type": "code",
   "execution_count": 42,
   "metadata": {},
   "outputs": [
    {
     "data": {
      "text/html": [
       "<div>\n",
       "<style scoped>\n",
       "    .dataframe tbody tr th:only-of-type {\n",
       "        vertical-align: middle;\n",
       "    }\n",
       "\n",
       "    .dataframe tbody tr th {\n",
       "        vertical-align: top;\n",
       "    }\n",
       "\n",
       "    .dataframe thead th {\n",
       "        text-align: right;\n",
       "    }\n",
       "</style>\n",
       "<table border=\"1\" class=\"dataframe\">\n",
       "  <thead>\n",
       "    <tr style=\"text-align: right;\">\n",
       "      <th></th>\n",
       "      <th>mean</th>\n",
       "      <th>max</th>\n",
       "    </tr>\n",
       "    <tr>\n",
       "      <th>Model</th>\n",
       "      <th></th>\n",
       "      <th></th>\n",
       "    </tr>\n",
       "  </thead>\n",
       "  <tbody>\n",
       "    <tr>\n",
       "      <th>gl</th>\n",
       "      <td>18378.833333</td>\n",
       "      <td>20000</td>\n",
       "    </tr>\n",
       "    <tr>\n",
       "      <th>glk</th>\n",
       "      <td>16580.196721</td>\n",
       "      <td>20000</td>\n",
       "    </tr>\n",
       "    <tr>\n",
       "      <th>a5</th>\n",
       "      <td>15903.287091</td>\n",
       "      <td>20000</td>\n",
       "    </tr>\n",
       "    <tr>\n",
       "      <th>q5</th>\n",
       "      <td>15843.989691</td>\n",
       "      <td>20000</td>\n",
       "    </tr>\n",
       "    <tr>\n",
       "      <th>q7</th>\n",
       "      <td>15658.699482</td>\n",
       "      <td>19999</td>\n",
       "    </tr>\n",
       "    <tr>\n",
       "      <th>...</th>\n",
       "      <td>...</td>\n",
       "      <td>...</td>\n",
       "    </tr>\n",
       "    <tr>\n",
       "      <th>seicento</th>\n",
       "      <td>852.179732</td>\n",
       "      <td>7950</td>\n",
       "    </tr>\n",
       "    <tr>\n",
       "      <th>move</th>\n",
       "      <td>723.923077</td>\n",
       "      <td>2500</td>\n",
       "    </tr>\n",
       "    <tr>\n",
       "      <th>samara</th>\n",
       "      <td>624.500000</td>\n",
       "      <td>2199</td>\n",
       "    </tr>\n",
       "    <tr>\n",
       "      <th>lanos</th>\n",
       "      <td>598.446154</td>\n",
       "      <td>1400</td>\n",
       "    </tr>\n",
       "    <tr>\n",
       "      <th>elefantino</th>\n",
       "      <td>489.857143</td>\n",
       "      <td>1100</td>\n",
       "    </tr>\n",
       "  </tbody>\n",
       "</table>\n",
       "<p>250 rows × 2 columns</p>\n",
       "</div>"
      ],
      "text/plain": [
       "                    mean    max\n",
       "Model                          \n",
       "gl          18378.833333  20000\n",
       "glk         16580.196721  20000\n",
       "a5          15903.287091  20000\n",
       "q5          15843.989691  20000\n",
       "q7          15658.699482  19999\n",
       "...                  ...    ...\n",
       "seicento      852.179732   7950\n",
       "move          723.923077   2500\n",
       "samara        624.500000   2199\n",
       "lanos         598.446154   1400\n",
       "elefantino    489.857143   1100\n",
       "\n",
       "[250 rows x 2 columns]"
      ]
     },
     "execution_count": 42,
     "metadata": {},
     "output_type": "execute_result"
    }
   ],
   "source": [
    "df.groupby('Model')['Price'].agg(['mean', 'max']).sort_values(by = 'mean', ascending = False)"
   ]
  },
  {
   "cell_type": "markdown",
   "metadata": {},
   "source": [
    "- пробег (км)"
   ]
  },
  {
   "cell_type": "code",
   "execution_count": 43,
   "metadata": {},
   "outputs": [
    {
     "data": {
      "text/plain": [
       "array([150000, 125000,  90000,  30000,  70000, 100000,  60000,   5000,\n",
       "        20000,  80000,  50000,  40000,  10000], dtype=int64)"
      ]
     },
     "execution_count": 43,
     "metadata": {},
     "output_type": "execute_result"
    }
   ],
   "source": [
    "df.Kilometer.unique()"
   ]
  },
  {
   "cell_type": "code",
   "execution_count": 44,
   "metadata": {},
   "outputs": [
    {
     "data": {
      "text/plain": [
       "<AxesSubplot: xlabel='Kilometer', ylabel='Price'>"
      ]
     },
     "execution_count": 44,
     "metadata": {},
     "output_type": "execute_result"
    },
    {
     "data": {
      "image/png": "[encoded data removed]",
      "text/plain": [
       "<Figure size 640x480 with 1 Axes>"
      ]
     },
     "metadata": {},
     "output_type": "display_data"
    }
   ],
   "source": [
    "sns.barplot( x = df.Kilometer, y = df.Price)"
   ]
  },
  {
   "cell_type": "markdown",
   "metadata": {},
   "source": [
    "- месяц регистрации автомобиля"
   ]
  },
  {
   "cell_type": "code",
   "execution_count": 45,
   "metadata": {},
   "outputs": [
    {
     "data": {
      "text/plain": [
       "array([ 0,  8,  6,  7, 10, 12, 11,  3,  2,  1,  4,  5,  9], dtype=int64)"
      ]
     },
     "execution_count": 45,
     "metadata": {},
     "output_type": "execute_result"
    }
   ],
   "source": [
    "df.RegistrationMonth.unique()"
   ]
  },
  {
   "cell_type": "markdown",
   "metadata": {},
   "source": [
    "- тип топлива"
   ]
  },
  {
   "cell_type": "code",
   "execution_count": 46,
   "metadata": {},
   "outputs": [
    {
     "data": {
      "text/plain": [
       "array(['petrol', 'gasoline', 'lpg', 'other', 'hybrid', 'cng', 'electric'],\n",
       "      dtype=object)"
      ]
     },
     "execution_count": 46,
     "metadata": {},
     "output_type": "execute_result"
    }
   ],
   "source": [
    "df.FuelType.unique()"
   ]
  },
  {
   "cell_type": "code",
   "execution_count": 47,
   "metadata": {},
   "outputs": [
    {
     "data": {
      "image/png": "[encoded data removed]",
      "text/plain": [
       "<Figure size 640x480 with 1 Axes>"
      ]
     },
     "metadata": {},
     "output_type": "display_data"
    }
   ],
   "source": [
    "plt.title('Стоимость автомобилей в зависимости от типа топлива')\n",
    "sns.barplot(x = df['FuelType'], y = df['Price']);"
   ]
  },
  {
   "cell_type": "markdown",
   "metadata": {},
   "source": [
    "- марка автомобиля"
   ]
  },
  {
   "cell_type": "code",
   "execution_count": 48,
   "metadata": {},
   "outputs": [
    {
     "data": {
      "text/plain": [
       "array(['volkswagen', 'jeep', 'skoda', 'bmw', 'peugeot', 'ford', 'mazda',\n",
       "       'nissan', 'renault', 'mercedes_benz', 'seat', 'honda', 'fiat',\n",
       "       'mini', 'smart', 'opel', 'audi', 'alfa_romeo', 'subaru', 'volvo',\n",
       "       'mitsubishi', 'kia', 'hyundai', 'suzuki', 'lancia', 'citroen',\n",
       "       'toyota', 'chevrolet', 'dacia', 'daihatsu', 'chrysler', 'jaguar',\n",
       "       'daewoo', 'rover', 'porsche', 'saab', 'land_rover', 'trabant',\n",
       "       'lada'], dtype=object)"
      ]
     },
     "execution_count": 48,
     "metadata": {},
     "output_type": "execute_result"
    }
   ],
   "source": [
    "df.Brand.unique()"
   ]
  },
  {
   "cell_type": "code",
   "execution_count": 49,
   "metadata": {
    "scrolled": true
   },
   "outputs": [
    {
     "data": {
      "text/html": [
       "<div>\n",
       "<style scoped>\n",
       "    .dataframe tbody tr th:only-of-type {\n",
       "        vertical-align: middle;\n",
       "    }\n",
       "\n",
       "    .dataframe tbody tr th {\n",
       "        vertical-align: top;\n",
       "    }\n",
       "\n",
       "    .dataframe thead th {\n",
       "        text-align: right;\n",
       "    }\n",
       "</style>\n",
       "<table border=\"1\" class=\"dataframe\">\n",
       "  <thead>\n",
       "    <tr style=\"text-align: right;\">\n",
       "      <th></th>\n",
       "      <th>mean</th>\n",
       "      <th>max</th>\n",
       "    </tr>\n",
       "    <tr>\n",
       "      <th>Brand</th>\n",
       "      <th></th>\n",
       "      <th></th>\n",
       "    </tr>\n",
       "  </thead>\n",
       "  <tbody>\n",
       "    <tr>\n",
       "      <th>porsche</th>\n",
       "      <td>12372.489396</td>\n",
       "      <td>20000</td>\n",
       "    </tr>\n",
       "    <tr>\n",
       "      <th>mini</th>\n",
       "      <td>9307.940144</td>\n",
       "      <td>20000</td>\n",
       "    </tr>\n",
       "    <tr>\n",
       "      <th>land_rover</th>\n",
       "      <td>8901.351967</td>\n",
       "      <td>20000</td>\n",
       "    </tr>\n",
       "    <tr>\n",
       "      <th>jeep</th>\n",
       "      <td>7597.235915</td>\n",
       "      <td>20000</td>\n",
       "    </tr>\n",
       "    <tr>\n",
       "      <th>jaguar</th>\n",
       "      <td>7118.101580</td>\n",
       "      <td>20000</td>\n",
       "    </tr>\n",
       "    <tr>\n",
       "      <th>audi</th>\n",
       "      <td>6837.671001</td>\n",
       "      <td>20000</td>\n",
       "    </tr>\n",
       "    <tr>\n",
       "      <th>bmw</th>\n",
       "      <td>6700.354784</td>\n",
       "      <td>20000</td>\n",
       "    </tr>\n",
       "    <tr>\n",
       "      <th>mercedes_benz</th>\n",
       "      <td>6316.136739</td>\n",
       "      <td>20000</td>\n",
       "    </tr>\n",
       "    <tr>\n",
       "      <th>skoda</th>\n",
       "      <td>6210.348676</td>\n",
       "      <td>20000</td>\n",
       "    </tr>\n",
       "    <tr>\n",
       "      <th>dacia</th>\n",
       "      <td>5951.540984</td>\n",
       "      <td>19990</td>\n",
       "    </tr>\n",
       "    <tr>\n",
       "      <th>chevrolet</th>\n",
       "      <td>5950.410922</td>\n",
       "      <td>20000</td>\n",
       "    </tr>\n",
       "    <tr>\n",
       "      <th>hyundai</th>\n",
       "      <td>5510.016469</td>\n",
       "      <td>19999</td>\n",
       "    </tr>\n",
       "    <tr>\n",
       "      <th>kia</th>\n",
       "      <td>5391.154923</td>\n",
       "      <td>20000</td>\n",
       "    </tr>\n",
       "    <tr>\n",
       "      <th>toyota</th>\n",
       "      <td>4986.872393</td>\n",
       "      <td>20000</td>\n",
       "    </tr>\n",
       "    <tr>\n",
       "      <th>volkswagen</th>\n",
       "      <td>4888.104034</td>\n",
       "      <td>20000</td>\n",
       "    </tr>\n",
       "    <tr>\n",
       "      <th>volvo</th>\n",
       "      <td>4647.316871</td>\n",
       "      <td>20000</td>\n",
       "    </tr>\n",
       "    <tr>\n",
       "      <th>nissan</th>\n",
       "      <td>4515.862528</td>\n",
       "      <td>20000</td>\n",
       "    </tr>\n",
       "    <tr>\n",
       "      <th>seat</th>\n",
       "      <td>4407.515678</td>\n",
       "      <td>20000</td>\n",
       "    </tr>\n",
       "    <tr>\n",
       "      <th>suzuki</th>\n",
       "      <td>4252.403056</td>\n",
       "      <td>19800</td>\n",
       "    </tr>\n",
       "    <tr>\n",
       "      <th>alfa_romeo</th>\n",
       "      <td>4082.599894</td>\n",
       "      <td>19500</td>\n",
       "    </tr>\n",
       "    <tr>\n",
       "      <th>subaru</th>\n",
       "      <td>4056.181818</td>\n",
       "      <td>19950</td>\n",
       "    </tr>\n",
       "    <tr>\n",
       "      <th>chrysler</th>\n",
       "      <td>4053.669264</td>\n",
       "      <td>20000</td>\n",
       "    </tr>\n",
       "    <tr>\n",
       "      <th>honda</th>\n",
       "      <td>4028.828305</td>\n",
       "      <td>20000</td>\n",
       "    </tr>\n",
       "    <tr>\n",
       "      <th>mazda</th>\n",
       "      <td>4013.970563</td>\n",
       "      <td>19999</td>\n",
       "    </tr>\n",
       "    <tr>\n",
       "      <th>saab</th>\n",
       "      <td>3976.368653</td>\n",
       "      <td>19990</td>\n",
       "    </tr>\n",
       "    <tr>\n",
       "      <th>smart</th>\n",
       "      <td>3834.668150</td>\n",
       "      <td>20000</td>\n",
       "    </tr>\n",
       "    <tr>\n",
       "      <th>citroen</th>\n",
       "      <td>3751.115030</td>\n",
       "      <td>19950</td>\n",
       "    </tr>\n",
       "    <tr>\n",
       "      <th>ford</th>\n",
       "      <td>3525.098722</td>\n",
       "      <td>20000</td>\n",
       "    </tr>\n",
       "    <tr>\n",
       "      <th>peugeot</th>\n",
       "      <td>3414.929426</td>\n",
       "      <td>20000</td>\n",
       "    </tr>\n",
       "    <tr>\n",
       "      <th>lada</th>\n",
       "      <td>3284.370588</td>\n",
       "      <td>12390</td>\n",
       "    </tr>\n",
       "    <tr>\n",
       "      <th>mitsubishi</th>\n",
       "      <td>3243.904155</td>\n",
       "      <td>20000</td>\n",
       "    </tr>\n",
       "    <tr>\n",
       "      <th>opel</th>\n",
       "      <td>3059.029540</td>\n",
       "      <td>20000</td>\n",
       "    </tr>\n",
       "    <tr>\n",
       "      <th>fiat</th>\n",
       "      <td>2998.421846</td>\n",
       "      <td>20000</td>\n",
       "    </tr>\n",
       "    <tr>\n",
       "      <th>lancia</th>\n",
       "      <td>2564.398892</td>\n",
       "      <td>19500</td>\n",
       "    </tr>\n",
       "    <tr>\n",
       "      <th>renault</th>\n",
       "      <td>2546.765503</td>\n",
       "      <td>20000</td>\n",
       "    </tr>\n",
       "    <tr>\n",
       "      <th>trabant</th>\n",
       "      <td>2303.284615</td>\n",
       "      <td>14500</td>\n",
       "    </tr>\n",
       "    <tr>\n",
       "      <th>daihatsu</th>\n",
       "      <td>1907.811200</td>\n",
       "      <td>12850</td>\n",
       "    </tr>\n",
       "    <tr>\n",
       "      <th>rover</th>\n",
       "      <td>1520.709877</td>\n",
       "      <td>16900</td>\n",
       "    </tr>\n",
       "    <tr>\n",
       "      <th>daewoo</th>\n",
       "      <td>1087.171913</td>\n",
       "      <td>3850</td>\n",
       "    </tr>\n",
       "  </tbody>\n",
       "</table>\n",
       "</div>"
      ],
      "text/plain": [
       "                       mean    max\n",
       "Brand                             \n",
       "porsche        12372.489396  20000\n",
       "mini            9307.940144  20000\n",
       "land_rover      8901.351967  20000\n",
       "jeep            7597.235915  20000\n",
       "jaguar          7118.101580  20000\n",
       "audi            6837.671001  20000\n",
       "bmw             6700.354784  20000\n",
       "mercedes_benz   6316.136739  20000\n",
       "skoda           6210.348676  20000\n",
       "dacia           5951.540984  19990\n",
       "chevrolet       5950.410922  20000\n",
       "hyundai         5510.016469  19999\n",
       "kia             5391.154923  20000\n",
       "toyota          4986.872393  20000\n",
       "volkswagen      4888.104034  20000\n",
       "volvo           4647.316871  20000\n",
       "nissan          4515.862528  20000\n",
       "seat            4407.515678  20000\n",
       "suzuki          4252.403056  19800\n",
       "alfa_romeo      4082.599894  19500\n",
       "subaru          4056.181818  19950\n",
       "chrysler        4053.669264  20000\n",
       "honda           4028.828305  20000\n",
       "mazda           4013.970563  19999\n",
       "saab            3976.368653  19990\n",
       "smart           3834.668150  20000\n",
       "citroen         3751.115030  19950\n",
       "ford            3525.098722  20000\n",
       "peugeot         3414.929426  20000\n",
       "lada            3284.370588  12390\n",
       "mitsubishi      3243.904155  20000\n",
       "opel            3059.029540  20000\n",
       "fiat            2998.421846  20000\n",
       "lancia          2564.398892  19500\n",
       "renault         2546.765503  20000\n",
       "trabant         2303.284615  14500\n",
       "daihatsu        1907.811200  12850\n",
       "rover           1520.709877  16900\n",
       "daewoo          1087.171913   3850"
      ]
     },
     "execution_count": 49,
     "metadata": {},
     "output_type": "execute_result"
    }
   ],
   "source": [
    "df.groupby('Brand')['Price'].agg(['mean', 'max']).sort_values(by = 'mean', ascending = False)"
   ]
  },
  {
   "cell_type": "markdown",
   "metadata": {},
   "source": [
    " - была машина в ремонте или нет"
   ]
  },
  {
   "cell_type": "code",
   "execution_count": 50,
   "metadata": {},
   "outputs": [
    {
     "data": {
      "text/plain": [
       "no     218270\n",
       "NaN     40185\n",
       "yes     27504\n",
       "Name: Repaired, dtype: int64"
      ]
     },
     "execution_count": 50,
     "metadata": {},
     "output_type": "execute_result"
    }
   ],
   "source": [
    "df['Repaired'].value_counts(dropna=False)"
   ]
  },
  {
   "cell_type": "code",
   "execution_count": 51,
   "metadata": {},
   "outputs": [],
   "source": [
    "df['Repaired'] = df['Repaired'].fillna('unknown')"
   ]
  },
  {
   "cell_type": "code",
   "execution_count": 52,
   "metadata": {},
   "outputs": [
    {
     "data": {
      "text/html": [
       "<div>\n",
       "<style scoped>\n",
       "    .dataframe tbody tr th:only-of-type {\n",
       "        vertical-align: middle;\n",
       "    }\n",
       "\n",
       "    .dataframe tbody tr th {\n",
       "        vertical-align: top;\n",
       "    }\n",
       "\n",
       "    .dataframe thead th {\n",
       "        text-align: right;\n",
       "    }\n",
       "</style>\n",
       "<table border=\"1\" class=\"dataframe\">\n",
       "  <thead>\n",
       "    <tr style=\"text-align: right;\">\n",
       "      <th></th>\n",
       "      <th>DateCrawled</th>\n",
       "      <th>Price</th>\n",
       "      <th>VehicleType</th>\n",
       "      <th>RegistrationYear</th>\n",
       "      <th>Gearbox</th>\n",
       "      <th>Power</th>\n",
       "      <th>Model</th>\n",
       "      <th>Kilometer</th>\n",
       "      <th>RegistrationMonth</th>\n",
       "      <th>FuelType</th>\n",
       "      <th>Brand</th>\n",
       "      <th>Repaired</th>\n",
       "      <th>DateCreated</th>\n",
       "      <th>NumberOfPictures</th>\n",
       "      <th>PostalCode</th>\n",
       "      <th>LastSeen</th>\n",
       "    </tr>\n",
       "  </thead>\n",
       "  <tbody>\n",
       "    <tr>\n",
       "      <th>0</th>\n",
       "      <td>2016-03-24 11:52:17</td>\n",
       "      <td>480</td>\n",
       "      <td>other</td>\n",
       "      <td>1993</td>\n",
       "      <td>manual</td>\n",
       "      <td>0.0</td>\n",
       "      <td>golf</td>\n",
       "      <td>150000</td>\n",
       "      <td>0</td>\n",
       "      <td>petrol</td>\n",
       "      <td>volkswagen</td>\n",
       "      <td>unknown</td>\n",
       "      <td>2016-03-24 00:00:00</td>\n",
       "      <td>0</td>\n",
       "      <td>70435</td>\n",
       "      <td>2016-04-07 03:16:57</td>\n",
       "    </tr>\n",
       "    <tr>\n",
       "      <th>2</th>\n",
       "      <td>2016-03-14 12:52:21</td>\n",
       "      <td>9800</td>\n",
       "      <td>suv</td>\n",
       "      <td>2004</td>\n",
       "      <td>auto</td>\n",
       "      <td>163.0</td>\n",
       "      <td>grand</td>\n",
       "      <td>125000</td>\n",
       "      <td>8</td>\n",
       "      <td>gasoline</td>\n",
       "      <td>jeep</td>\n",
       "      <td>unknown</td>\n",
       "      <td>2016-03-14 00:00:00</td>\n",
       "      <td>0</td>\n",
       "      <td>90480</td>\n",
       "      <td>2016-04-05 12:47:46</td>\n",
       "    </tr>\n",
       "  </tbody>\n",
       "</table>\n",
       "</div>"
      ],
      "text/plain": [
       "           DateCrawled  Price VehicleType  RegistrationYear Gearbox  Power  \\\n",
       "0  2016-03-24 11:52:17    480       other              1993  manual    0.0   \n",
       "2  2016-03-14 12:52:21   9800         suv              2004    auto  163.0   \n",
       "\n",
       "   Model  Kilometer  RegistrationMonth  FuelType       Brand Repaired  \\\n",
       "0   golf     150000                  0    petrol  volkswagen  unknown   \n",
       "2  grand     125000                  8  gasoline        jeep  unknown   \n",
       "\n",
       "           DateCreated  NumberOfPictures  PostalCode             LastSeen  \n",
       "0  2016-03-24 00:00:00                 0       70435  2016-04-07 03:16:57  \n",
       "2  2016-03-14 00:00:00                 0       90480  2016-04-05 12:47:46  "
      ]
     },
     "execution_count": 52,
     "metadata": {},
     "output_type": "execute_result"
    }
   ],
   "source": [
    "df.query('Repaired == \"unknown\"').head(2)"
   ]
  },
  {
   "cell_type": "markdown",
   "metadata": {},
   "source": [
    "Так как по другим характеристикам невозможно однозначно сказать был ли автомобиль в ремонте или нет, заполним пропуски фразой `unknown`."
   ]
  },
  {
   "cell_type": "markdown",
   "metadata": {},
   "source": [
    "-  дата создания анкеты"
   ]
  },
  {
   "cell_type": "code",
   "execution_count": 53,
   "metadata": {},
   "outputs": [
    {
     "data": {
      "text/plain": [
       "0         2016-03-24 00:00:00\n",
       "2         2016-03-14 00:00:00\n",
       "3         2016-03-17 00:00:00\n",
       "4         2016-03-31 00:00:00\n",
       "5         2016-04-04 00:00:00\n",
       "                 ...         \n",
       "354362    2016-03-19 00:00:00\n",
       "354363    2016-03-27 00:00:00\n",
       "354366    2016-03-05 00:00:00\n",
       "354367    2016-03-19 00:00:00\n",
       "354368    2016-03-20 00:00:00\n",
       "Name: DateCreated, Length: 285959, dtype: object"
      ]
     },
     "execution_count": 53,
     "metadata": {},
     "output_type": "execute_result"
    }
   ],
   "source": [
    "df.DateCreated"
   ]
  },
  {
   "cell_type": "markdown",
   "metadata": {},
   "source": [
    "- количество фотографий автомобиля"
   ]
  },
  {
   "cell_type": "code",
   "execution_count": 54,
   "metadata": {},
   "outputs": [
    {
     "data": {
      "text/plain": [
       "array([0], dtype=int64)"
      ]
     },
     "execution_count": 54,
     "metadata": {},
     "output_type": "execute_result"
    }
   ],
   "source": [
    "df.NumberOfPictures.unique()"
   ]
  },
  {
   "cell_type": "markdown",
   "metadata": {},
   "source": [
    "-  почтовый индекс владельца анкеты (пользователя)"
   ]
  },
  {
   "cell_type": "code",
   "execution_count": 55,
   "metadata": {},
   "outputs": [
    {
     "data": {
      "text/plain": [
       "array([70435, 90480, 91074, ..., 67159, 89344, 24363], dtype=int64)"
      ]
     },
     "execution_count": 55,
     "metadata": {},
     "output_type": "execute_result"
    }
   ],
   "source": [
    "df.PostalCode.unique()"
   ]
  },
  {
   "cell_type": "markdown",
   "metadata": {},
   "source": [
    "- дата последней активности пользователя"
   ]
  },
  {
   "cell_type": "code",
   "execution_count": 56,
   "metadata": {},
   "outputs": [
    {
     "data": {
      "text/plain": [
       "array(['2016-04-07 03:16:57', '2016-04-05 12:47:46',\n",
       "       '2016-03-17 17:40:17', ..., '2016-04-02 18:16:20',\n",
       "       '2016-03-19 20:44:43', '2016-03-29 10:17:23'], dtype=object)"
      ]
     },
     "execution_count": 56,
     "metadata": {},
     "output_type": "execute_result"
    }
   ],
   "source": [
    "df.LastSeen.unique()"
   ]
  },
  {
   "cell_type": "code",
   "execution_count": 57,
   "metadata": {},
   "outputs": [
    {
     "data": {
      "text/plain": [
       "Index(['DateCrawled', 'Price', 'VehicleType', 'RegistrationYear', 'Gearbox',\n",
       "       'Power', 'Model', 'Kilometer', 'RegistrationMonth', 'FuelType', 'Brand',\n",
       "       'Repaired', 'DateCreated', 'NumberOfPictures', 'PostalCode',\n",
       "       'LastSeen'],\n",
       "      dtype='object')"
      ]
     },
     "execution_count": 57,
     "metadata": {},
     "output_type": "execute_result"
    }
   ],
   "source": [
    "df.columns"
   ]
  },
  {
   "cell_type": "code",
   "execution_count": 58,
   "metadata": {},
   "outputs": [],
   "source": [
    "corr = df[['Price', 'VehicleType', 'RegistrationYear', 'Gearbox',\n",
    "       'Power', 'Model', 'Kilometer', 'FuelType', 'Brand',\n",
    "       'Repaired']].corr()"
   ]
  },
  {
   "cell_type": "code",
   "execution_count": 59,
   "metadata": {},
   "outputs": [
    {
     "data": {
      "image/png": "[encoded data removed]",
      "text/plain": [
       "<Figure size 640x480 with 2 Axes>"
      ]
     },
     "metadata": {},
     "output_type": "display_data"
    }
   ],
   "source": [
    "sns.heatmap(corr);"
   ]
  },
  {
   "cell_type": "markdown",
   "metadata": {},
   "source": [
    "## Обучение моделей"
   ]
  },
  {
   "cell_type": "markdown",
   "metadata": {},
   "source": [
    "### Подготовка данных."
   ]
  },
  {
   "cell_type": "markdown",
   "metadata": {},
   "source": [
    "Определяем признаки для прогноза и целевой признак."
   ]
  },
  {
   "cell_type": "code",
   "execution_count": 60,
   "metadata": {},
   "outputs": [],
   "source": [
    "X = df[['VehicleType', 'RegistrationYear', 'Gearbox',\n",
    "       'Power', 'Model', 'Kilometer', 'FuelType', 'Brand',\n",
    "       'Repaired']]\n",
    "y =df['Price']"
   ]
  },
  {
   "cell_type": "markdown",
   "metadata": {},
   "source": [
    "Выделяем тренировочную, тестовую выборки."
   ]
  },
  {
   "cell_type": "code",
   "execution_count": 61,
   "metadata": {},
   "outputs": [],
   "source": [
    "# тренировочная и тестовая выбрки \n",
    "X_train, X_test, y_train, y_test = train_test_split(X, y, test_size= 0.3, random_state=42)"
   ]
  },
  {
   "cell_type": "code",
   "execution_count": 62,
   "metadata": {},
   "outputs": [
    {
     "name": "stdout",
     "output_type": "stream",
     "text": [
      "Размерность всей выборки(285959, 9)\n"
     ]
    }
   ],
   "source": [
    "print(f'Размерность всей выборки{X.shape}')"
   ]
  },
  {
   "cell_type": "code",
   "execution_count": 63,
   "metadata": {},
   "outputs": [
    {
     "name": "stdout",
     "output_type": "stream",
     "text": [
      "Размерность тренировочной выборки(200171, 9)\n"
     ]
    }
   ],
   "source": [
    "print(f'Размерность тренировочной выборки{X_train.shape}')"
   ]
  },
  {
   "cell_type": "code",
   "execution_count": 64,
   "metadata": {},
   "outputs": [
    {
     "name": "stdout",
     "output_type": "stream",
     "text": [
      "Размерность тестовой выборки(85788, 9)\n"
     ]
    }
   ],
   "source": [
    "print(f'Размерность тестовой выборки{X_test.shape}')"
   ]
  },
  {
   "cell_type": "code",
   "execution_count": 65,
   "metadata": {},
   "outputs": [
    {
     "data": {
      "text/plain": [
       "0"
      ]
     },
     "execution_count": 65,
     "metadata": {},
     "output_type": "execute_result"
    }
   ],
   "source": [
    "# проверка размерности выборок\n",
    "X_train.shape[0] + X_test.shape[0] - X.shape[0]"
   ]
  },
  {
   "cell_type": "code",
   "execution_count": 66,
   "metadata": {},
   "outputs": [],
   "source": [
    "# масщтабирование числовых данных\n",
    "numeric_preproces = Pipeline([('scaler',StandardScaler())])"
   ]
  },
  {
   "cell_type": "code",
   "execution_count": 67,
   "metadata": {},
   "outputs": [],
   "source": [
    "# кодирование категориальных данных \n",
    "categorial_preproces = Pipeline([('ordinal', OrdinalEncoder(handle_unknown='use_encoded_value', unknown_value=-1))])"
   ]
  },
  {
   "cell_type": "code",
   "execution_count": 68,
   "metadata": {},
   "outputs": [],
   "source": [
    "# процесс подготовки данных для Случайного леса\n",
    "preprocessor_for_tree = ColumnTransformer([\n",
    "    (\n",
    "        'categorical', \n",
    "        categorial_preproces, \n",
    "        X.select_dtypes(include=['object']).columns\n",
    "    ),\n",
    "    (\n",
    "        'numerical', \n",
    "        numeric_preproces, \n",
    "        X.select_dtypes(include=['number']).columns\n",
    "    )\n",
    "])"
   ]
  },
  {
   "cell_type": "code",
   "execution_count": 69,
   "metadata": {},
   "outputs": [],
   "source": [
    "# Процесс подготовки данных для бустингов\n",
    "preprocessor_for_boost = ColumnTransformer([\n",
    "    (\n",
    "        'numerical', \n",
    "        numeric_preproces, \n",
    "        X.select_dtypes(include=['number']).columns\n",
    "    )\n",
    "])"
   ]
  },
  {
   "cell_type": "code",
   "execution_count": 70,
   "metadata": {},
   "outputs": [],
   "source": [
    "\n",
    "pipe_for_tree = Pipeline([\n",
    "    ('preprocessor', preprocessor_for_tree),\n",
    "    ('classifier', RandomForestRegressor(random_state=42))\n",
    "])"
   ]
  },
  {
   "cell_type": "code",
   "execution_count": 71,
   "metadata": {},
   "outputs": [],
   "source": [
    "\n",
    "pipe_for_lgbm = Pipeline([\n",
    "    ('preprocessor', preprocessor_for_tree),\n",
    "    ('classifier', LGBMRegressor(random_state=42))\n",
    "])"
   ]
  },
  {
   "cell_type": "code",
   "execution_count": 72,
   "metadata": {},
   "outputs": [],
   "source": [
    "\n",
    "pipe_for_catboost = Pipeline([\n",
    "    ('preprocessor', preprocessor_for_tree),\n",
    "    ('classifier', CatBoostRegressor(random_state=42))\n",
    "])"
   ]
  },
  {
   "cell_type": "markdown",
   "metadata": {},
   "source": [
    "### Random Forest"
   ]
  },
  {
   "cell_type": "code",
   "execution_count": 73,
   "metadata": {},
   "outputs": [],
   "source": [
    "param = {\n",
    "    'classifier__n_estimators': [100, 200],\n",
    "    'classifier__max_depth': [5, 10]\n",
    "}"
   ]
  },
  {
   "cell_type": "code",
   "execution_count": 74,
   "metadata": {},
   "outputs": [],
   "source": [
    "grid_tree =  GridSearchCV(pipe_for_tree, param, cv = 5, scoring= 'neg_mean_squared_error')"
   ]
  },
  {
   "cell_type": "code",
   "execution_count": 75,
   "metadata": {},
   "outputs": [],
   "source": [
    "start_time = time()\n",
    "grid_tree.fit(X_train,y_train)\n",
    "run_time_1 = time() - start_time"
   ]
  },
  {
   "cell_type": "code",
   "execution_count": 76,
   "metadata": {},
   "outputs": [],
   "source": [
    "start_time = time()\n",
    "predict_rf = grid_tree.predict(X_train)\n",
    "run_time_1_1 = time() - start_time"
   ]
  },
  {
   "cell_type": "code",
   "execution_count": 77,
   "metadata": {},
   "outputs": [],
   "source": [
    "scores_1 = grid_tree.best_score_"
   ]
  },
  {
   "cell_type": "code",
   "execution_count": 78,
   "metadata": {},
   "outputs": [
    {
     "name": "stdout",
     "output_type": "stream",
     "text": [
      "1863.3176753192845\n"
     ]
    }
   ],
   "source": [
    "RMSE_forest = np.abs(scores_1.mean())**0.5\n",
    "print(RMSE_forest)"
   ]
  },
  {
   "cell_type": "markdown",
   "metadata": {},
   "source": [
    "### Light GBM"
   ]
  },
  {
   "cell_type": "code",
   "execution_count": 79,
   "metadata": {},
   "outputs": [],
   "source": [
    "param = {\n",
    "    'classifier__n_estimators': [100, 200],\n",
    "    'classifier__max_depth': [5, 10]\n",
    "}"
   ]
  },
  {
   "cell_type": "code",
   "execution_count": 80,
   "metadata": {},
   "outputs": [],
   "source": [
    "grid_lgbm = GridSearchCV(pipe_for_lgbm, param, cv = 5, scoring= 'neg_mean_squared_error')"
   ]
  },
  {
   "cell_type": "code",
   "execution_count": 81,
   "metadata": {},
   "outputs": [],
   "source": [
    "start_time = time()\n",
    "grid_lgbm.fit(X_train, y_train)\n",
    "run_time_2 = time() - start_time"
   ]
  },
  {
   "cell_type": "code",
   "execution_count": 82,
   "metadata": {},
   "outputs": [],
   "source": [
    "start_time = time()\n",
    "predict = grid_lgbm.predict(X_train)\n",
    "run_time_2_1 = time() - start_time"
   ]
  },
  {
   "cell_type": "code",
   "execution_count": 83,
   "metadata": {},
   "outputs": [],
   "source": [
    "scores_2 = grid_lgbm.best_score_"
   ]
  },
  {
   "cell_type": "code",
   "execution_count": 84,
   "metadata": {},
   "outputs": [
    {
     "name": "stdout",
     "output_type": "stream",
     "text": [
      "1609.9908551555948\n"
     ]
    }
   ],
   "source": [
    "RMSE_lgbm = np.abs(scores_2)**0.5\n",
    "print(RMSE_lgbm)"
   ]
  },
  {
   "cell_type": "markdown",
   "metadata": {},
   "source": [
    "### CatBoost"
   ]
  },
  {
   "cell_type": "code",
   "execution_count": 85,
   "metadata": {},
   "outputs": [],
   "source": [
    "numeric = ['RegistrationYear', 'Power', 'Kilometer']"
   ]
  },
  {
   "cell_type": "code",
   "execution_count": 87,
   "metadata": {},
   "outputs": [],
   "source": [
    "scaler = StandardScaler()\n",
    "scaler.fit_transform(X_train[numeric])\n",
    "X_train[numeric] = scaler.transform(X_train[numeric])\n",
    "X_test[numeric] = scaler.transform(X_test[numeric])"
   ]
  },
  {
   "cell_type": "code",
   "execution_count": 88,
   "metadata": {},
   "outputs": [],
   "source": [
    "cat_features = ['VehicleType', 'Gearbox','Model', 'FuelType', 'Brand', 'Repaired']"
   ]
  },
  {
   "cell_type": "code",
   "execution_count": 89,
   "metadata": {},
   "outputs": [],
   "source": [
    "model = CatBoostRegressor(random_state=42)"
   ]
  },
  {
   "cell_type": "code",
   "execution_count": 95,
   "metadata": {},
   "outputs": [],
   "source": [
    "start_time = time()\n",
    "model.fit (X_train, y_train, cat_features = cat_features, verbose = False)\n",
    "run_time_3 = time() - start_time"
   ]
  },
  {
   "cell_type": "code",
   "execution_count": 96,
   "metadata": {},
   "outputs": [],
   "source": [
    "start_time = time()\n",
    "predict = model.predict(X_train)\n",
    "run_time_3_1 = time() - start_time"
   ]
  },
  {
   "cell_type": "code",
   "execution_count": 97,
   "metadata": {},
   "outputs": [
    {
     "name": "stdout",
     "output_type": "stream",
     "text": [
      "1497.6199915503385\n"
     ]
    }
   ],
   "source": [
    "RMSE_catboost = np.abs(mean_squared_error(y_train,predict ).mean())**0.5\n",
    "print(RMSE_catboost)"
   ]
  },
  {
   "cell_type": "markdown",
   "metadata": {},
   "source": [
    "## Анализ моделей"
   ]
  },
  {
   "cell_type": "code",
   "execution_count": 99,
   "metadata": {},
   "outputs": [],
   "source": [
    "columns  = ['Время обучения', 'Время прогноза', 'Метрика RMSE']\n",
    "index = ['Random Forest', 'Light GBM', 'Cat Boost']"
   ]
  },
  {
   "cell_type": "code",
   "execution_count": 100,
   "metadata": {},
   "outputs": [
    {
     "data": {
      "text/html": [
       "<div>\n",
       "<style scoped>\n",
       "    .dataframe tbody tr th:only-of-type {\n",
       "        vertical-align: middle;\n",
       "    }\n",
       "\n",
       "    .dataframe tbody tr th {\n",
       "        vertical-align: top;\n",
       "    }\n",
       "\n",
       "    .dataframe thead th {\n",
       "        text-align: right;\n",
       "    }\n",
       "</style>\n",
       "<table border=\"1\" class=\"dataframe\">\n",
       "  <thead>\n",
       "    <tr style=\"text-align: right;\">\n",
       "      <th></th>\n",
       "      <th>Время обучения</th>\n",
       "      <th>Время прогноза</th>\n",
       "      <th>Метрика RMSE</th>\n",
       "    </tr>\n",
       "  </thead>\n",
       "  <tbody>\n",
       "    <tr>\n",
       "      <th>Random Forest</th>\n",
       "      <td>675.823628</td>\n",
       "      <td>3.978400</td>\n",
       "      <td>1863.317675</td>\n",
       "    </tr>\n",
       "    <tr>\n",
       "      <th>Light GBM</th>\n",
       "      <td>22.465712</td>\n",
       "      <td>0.766270</td>\n",
       "      <td>1609.990855</td>\n",
       "    </tr>\n",
       "    <tr>\n",
       "      <th>Cat Boost</th>\n",
       "      <td>104.232616</td>\n",
       "      <td>0.800743</td>\n",
       "      <td>1497.619992</td>\n",
       "    </tr>\n",
       "  </tbody>\n",
       "</table>\n",
       "</div>"
      ],
      "text/plain": [
       "               Время обучения  Время прогноза  Метрика RMSE\n",
       "Random Forest      675.823628        3.978400   1863.317675\n",
       "Light GBM           22.465712        0.766270   1609.990855\n",
       "Cat Boost          104.232616        0.800743   1497.619992"
      ]
     },
     "execution_count": 100,
     "metadata": {},
     "output_type": "execute_result"
    }
   ],
   "source": [
    "pd.DataFrame(data = [[run_time_1,run_time_1_1,RMSE_forest],\n",
    "            [run_time_2,run_time_2_1,RMSE_lgbm],\n",
    "            [run_time_3,run_time_3_1,RMSE_catboost]],index = index, columns = columns )"
   ]
  },
  {
   "cell_type": "markdown",
   "metadata": {},
   "source": [
    "## Тестирование лучшей модели"
   ]
  },
  {
   "cell_type": "markdown",
   "metadata": {},
   "source": [
    "Проверим метрику лучшей модели на тестовой выборке."
   ]
  },
  {
   "cell_type": "code",
   "execution_count": 101,
   "metadata": {},
   "outputs": [],
   "source": [
    "pred_tesr = model.predict(X_test)"
   ]
  },
  {
   "cell_type": "code",
   "execution_count": 102,
   "metadata": {},
   "outputs": [],
   "source": [
    "RMSE = np.abs(mean_squared_error(y_test, pred_tesr))**0.5"
   ]
  },
  {
   "cell_type": "code",
   "execution_count": 103,
   "metadata": {},
   "outputs": [
    {
     "name": "stdout",
     "output_type": "stream",
     "text": [
      "1570.5649175624253\n"
     ]
    }
   ],
   "source": [
    "print(RMSE)"
   ]
  },
  {
   "cell_type": "markdown",
   "metadata": {},
   "source": [
    "## Вывод:"
   ]
  },
  {
   "cell_type": "markdown",
   "metadata": {},
   "source": [
    "На основе полученных данных о продаже автомобилей мы обучили три модели по определению цены автомобилей : Random Forest, Light GBM, Cat Boost.\n",
    "Критериями для выбора модели было:\n",
    "    - качество предсказания;\n",
    "    - время обучения модели;\n",
    "    - время предсказания модели.\n",
    "По итогу получили следующее.<br>\n",
    "Самое быстрое `время` как обучения, так и прогноза имеет модель `Light GBM`.<br>\n",
    "Лучшая `метрика` у модели `Сat Boost`.<br>\n",
    "Модель Random Forest имеет схожую с моделью Сat Boost метрику, но времени для обучения требует в разы больше.<br>\n",
    "Для выбора наиболее подходящей между `Light GBM` и `Cat Boost` нужно узнать что ценее-скорость или качество.<br>\n",
    "На данном этапе выберем Catboost."
   ]
  },
  {
   "cell_type": "markdown",
   "metadata": {},
   "source": [
    "Метрика RMSE Catboost на тестовой выборке- 1570."
   ]
  }
 ],
 "metadata": {
  "ExecuteTimeLog": [
   {
    "duration": 48,
    "start_time": "2023-04-19T16:06:44.714Z"
   },
   {
    "duration": 2378,
    "start_time": "2023-04-19T16:06:52.112Z"
   },
   {
    "duration": 1715,
    "start_time": "2023-04-19T16:06:54.693Z"
   },
   {
    "duration": 6,
    "start_time": "2023-04-19T16:08:37.290Z"
   },
   {
    "duration": 1041,
    "start_time": "2023-04-19T16:08:40.161Z"
   },
   {
    "duration": 16,
    "start_time": "2023-04-19T16:08:44.039Z"
   },
   {
    "duration": 120,
    "start_time": "2023-04-19T16:08:46.850Z"
   },
   {
    "duration": 310,
    "start_time": "2023-04-19T16:08:49.022Z"
   },
   {
    "duration": 87,
    "start_time": "2023-04-19T16:08:56.697Z"
   },
   {
    "duration": 372,
    "start_time": "2023-04-19T16:08:57.247Z"
   },
   {
    "duration": 3,
    "start_time": "2023-04-19T16:08:57.620Z"
   },
   {
    "duration": 4,
    "start_time": "2023-04-19T16:08:58.326Z"
   },
   {
    "duration": 196,
    "start_time": "2023-04-19T16:09:01.531Z"
   },
   {
    "duration": 7,
    "start_time": "2023-04-19T16:09:04.257Z"
   },
   {
    "duration": 146,
    "start_time": "2023-04-19T16:10:08.728Z"
   },
   {
    "duration": 34,
    "start_time": "2023-04-19T16:10:13.408Z"
   },
   {
    "duration": 93,
    "start_time": "2023-04-19T16:11:31.729Z"
   },
   {
    "duration": 76,
    "start_time": "2023-04-19T16:13:29.501Z"
   },
   {
    "duration": 300,
    "start_time": "2023-04-19T16:13:39.149Z"
   },
   {
    "duration": 46,
    "start_time": "2023-04-19T16:13:46.395Z"
   },
   {
    "duration": 145,
    "start_time": "2023-04-19T16:13:55.687Z"
   },
   {
    "duration": 28,
    "start_time": "2023-04-19T16:13:57.498Z"
   },
   {
    "duration": 39,
    "start_time": "2023-04-19T16:14:42.827Z"
   },
   {
    "duration": 20,
    "start_time": "2023-04-19T16:14:50.320Z"
   },
   {
    "duration": 5,
    "start_time": "2023-04-19T16:15:04.518Z"
   },
   {
    "duration": 154,
    "start_time": "2023-04-19T16:15:17.030Z"
   },
   {
    "duration": 91,
    "start_time": "2023-04-19T16:15:54.555Z"
   },
   {
    "duration": 148,
    "start_time": "2023-04-19T16:16:27.342Z"
   },
   {
    "duration": 41,
    "start_time": "2023-04-19T16:16:27.628Z"
   },
   {
    "duration": 17,
    "start_time": "2023-04-19T16:16:28.331Z"
   },
   {
    "duration": 27,
    "start_time": "2023-04-19T16:16:28.842Z"
   },
   {
    "duration": 67,
    "start_time": "2023-04-19T16:16:29.094Z"
   },
   {
    "duration": 15,
    "start_time": "2023-04-19T16:16:29.489Z"
   },
   {
    "duration": 8,
    "start_time": "2023-04-19T16:16:30.277Z"
   },
   {
    "duration": 6,
    "start_time": "2023-04-19T16:16:30.440Z"
   },
   {
    "duration": 110,
    "start_time": "2023-04-19T16:16:30.632Z"
   },
   {
    "duration": 16,
    "start_time": "2023-04-19T16:16:30.832Z"
   },
   {
    "duration": 47,
    "start_time": "2023-04-19T16:16:31.030Z"
   },
   {
    "duration": 18,
    "start_time": "2023-04-19T16:16:32.982Z"
   },
   {
    "duration": 7,
    "start_time": "2023-04-19T16:16:33.835Z"
   },
   {
    "duration": 138,
    "start_time": "2023-04-19T16:16:34.378Z"
   },
   {
    "duration": 6,
    "start_time": "2023-04-19T16:16:34.616Z"
   },
   {
    "duration": 20,
    "start_time": "2023-04-19T16:16:36.254Z"
   },
   {
    "duration": 21,
    "start_time": "2023-04-19T16:16:37.352Z"
   },
   {
    "duration": 47,
    "start_time": "2023-04-19T16:16:38.204Z"
   },
   {
    "duration": 7,
    "start_time": "2023-04-19T16:16:38.752Z"
   },
   {
    "duration": 2197,
    "start_time": "2023-04-19T16:16:39.160Z"
   },
   {
    "duration": 5,
    "start_time": "2023-04-19T16:16:41.359Z"
   },
   {
    "duration": 21,
    "start_time": "2023-04-19T16:16:41.366Z"
   },
   {
    "duration": 2125,
    "start_time": "2023-04-19T16:16:41.389Z"
   },
   {
    "duration": 34,
    "start_time": "2023-04-19T16:16:43.516Z"
   },
   {
    "duration": 39,
    "start_time": "2023-04-19T16:16:43.551Z"
   },
   {
    "duration": 25,
    "start_time": "2023-04-19T16:16:43.592Z"
   },
   {
    "duration": 18,
    "start_time": "2023-04-19T16:16:43.842Z"
   },
   {
    "duration": 29,
    "start_time": "2023-04-19T16:16:44.731Z"
   },
   {
    "duration": 5,
    "start_time": "2023-04-19T16:16:48.898Z"
   },
   {
    "duration": 8,
    "start_time": "2023-04-19T16:16:49.532Z"
   },
   {
    "duration": 7,
    "start_time": "2023-04-19T16:16:52.841Z"
   },
   {
    "duration": 53,
    "start_time": "2023-04-19T16:16:53.250Z"
   },
   {
    "duration": 4,
    "start_time": "2023-04-19T16:16:53.486Z"
   },
   {
    "duration": 36,
    "start_time": "2023-04-19T16:16:54.824Z"
   },
   {
    "duration": 406,
    "start_time": "2023-04-19T16:16:59.404Z"
   },
   {
    "duration": 14,
    "start_time": "2023-04-19T16:17:49.330Z"
   },
   {
    "duration": 66,
    "start_time": "2023-04-19T16:23:35.420Z"
   },
   {
    "duration": 10,
    "start_time": "2023-04-19T16:23:51.752Z"
   },
   {
    "duration": 20,
    "start_time": "2023-04-19T16:24:03.082Z"
   },
   {
    "duration": 59,
    "start_time": "2023-04-19T16:24:03.728Z"
   },
   {
    "duration": 9,
    "start_time": "2023-04-19T16:24:03.948Z"
   },
   {
    "duration": 18,
    "start_time": "2023-04-19T16:24:12.116Z"
   },
   {
    "duration": 107,
    "start_time": "2023-04-19T16:24:22.480Z"
   },
   {
    "duration": 4,
    "start_time": "2023-04-19T16:24:29.647Z"
   },
   {
    "duration": 4,
    "start_time": "2023-04-19T16:25:33.740Z"
   },
   {
    "duration": 3,
    "start_time": "2023-04-19T16:26:40.754Z"
   },
   {
    "duration": 3,
    "start_time": "2023-04-19T16:26:41.128Z"
   },
   {
    "duration": 13,
    "start_time": "2023-04-19T16:27:30.869Z"
   },
   {
    "duration": 6,
    "start_time": "2023-04-19T16:27:51.686Z"
   },
   {
    "duration": 51,
    "start_time": "2023-04-19T16:29:05.212Z"
   },
   {
    "duration": 5,
    "start_time": "2023-04-19T16:29:17.239Z"
   },
   {
    "duration": 4,
    "start_time": "2023-04-19T16:29:26.991Z"
   },
   {
    "duration": 3,
    "start_time": "2023-04-19T16:35:12.240Z"
   },
   {
    "duration": 3,
    "start_time": "2023-04-19T16:35:13.207Z"
   },
   {
    "duration": 24,
    "start_time": "2023-04-19T16:35:14.285Z"
   },
   {
    "duration": 7,
    "start_time": "2023-04-19T16:35:15.456Z"
   },
   {
    "duration": 3,
    "start_time": "2023-04-19T16:35:18.344Z"
   },
   {
    "duration": 3,
    "start_time": "2023-04-19T16:35:19.007Z"
   },
   {
    "duration": 3,
    "start_time": "2023-04-19T16:35:19.481Z"
   },
   {
    "duration": 41734,
    "start_time": "2023-04-19T16:35:26.981Z"
   },
   {
    "duration": 4,
    "start_time": "2023-04-19T16:36:08.717Z"
   },
   {
    "duration": 9,
    "start_time": "2023-04-19T16:40:17.477Z"
   },
   {
    "duration": 6,
    "start_time": "2023-04-19T16:40:53.027Z"
   },
   {
    "duration": 19,
    "start_time": "2023-04-19T16:41:49.780Z"
   },
   {
    "duration": 141789,
    "start_time": "2023-04-19T16:47:43.731Z"
   },
   {
    "duration": 4,
    "start_time": "2023-04-19T16:50:05.522Z"
   },
   {
    "duration": 5,
    "start_time": "2023-04-19T16:50:34.264Z"
   },
   {
    "duration": 4,
    "start_time": "2023-04-19T16:51:08.252Z"
   },
   {
    "duration": 6274,
    "start_time": "2023-04-19T16:52:32.476Z"
   },
   {
    "duration": 9,
    "start_time": "2023-04-19T16:52:38.752Z"
   },
   {
    "duration": 0,
    "start_time": "2023-04-19T16:52:38.762Z"
   },
   {
    "duration": 6258,
    "start_time": "2023-04-19T16:52:55.074Z"
   },
   {
    "duration": 3,
    "start_time": "2023-04-19T16:53:01.334Z"
   }
  ],
  "kernelspec": {
   "display_name": "Python 3 (ipykernel)",
   "language": "python",
   "name": "python3"
  },
  "language_info": {
   "codemirror_mode": {
    "name": "ipython",
    "version": 3
   },
   "file_extension": ".py",
   "mimetype": "text/x-python",
   "name": "python",
   "nbconvert_exporter": "python",
   "pygments_lexer": "ipython3",
   "version": "3.9.12"
  },
  "toc": {
   "base_numbering": 1,
   "nav_menu": {},
   "number_sections": true,
   "sideBar": true,
   "skip_h1_title": true,
   "title_cell": "Table of Contents",
   "title_sidebar": "Contents",
   "toc_cell": false,
   "toc_position": {},
   "toc_section_display": true,
   "toc_window_display": false
  },
  "toc-autonumbering": true
 },
 "nbformat": 4,
 "nbformat_minor": 4
}
