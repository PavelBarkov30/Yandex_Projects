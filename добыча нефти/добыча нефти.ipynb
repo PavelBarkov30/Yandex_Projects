{
 "cells": [
  {
   "cell_type": "markdown",
   "metadata": {},
   "source": [
    "# Выбор локации для скважины"
   ]
  },
  {
   "cell_type": "markdown",
   "metadata": {},
   "source": [
    "Допустим, вы работаете в добывающей компании «ГлавРосГосНефть». Нужно решить, где бурить новую скважину.\n",
    "\n",
    "Вам предоставлены пробы нефти в трёх регионах: в каждом 10 000 месторождений, где измерили качество нефти и объём её запасов. Постройте модель машинного обучения, которая поможет определить регион, где добыча принесёт наибольшую прибыль. Проанализируйте возможную прибыль и риски техникой *Bootstrap.*\n",
    "\n",
    "Шаги для выбора локации:\n",
    "\n",
    "- В избранном регионе ищут месторождения, для каждого определяют значения признаков;\n",
    "- Строят модель и оценивают объём запасов;\n",
    "- Выбирают месторождения с самым высокими оценками значений. Количество месторождений зависит от бюджета компании и стоимости разработки одной скважины;\n",
    "- Прибыль равна суммарной прибыли отобранных месторождений."
   ]
  },
  {
   "cell_type": "markdown",
   "metadata": {},
   "source": [
    "#### Описание данных : <br>\n",
    "Данные геологоразведки трёх регионов находятся в трех файлах:\n",
    "   - geo_data_0 - первый регион;\n",
    "   - geo_data_1 - второй регион;\n",
    "   - geo_data_2 - третий регион;"
   ]
  },
  {
   "cell_type": "markdown",
   "metadata": {},
   "source": [
    "Каждый файл состоит из следующих столбцов:<br>"
   ]
  },
  {
   "cell_type": "markdown",
   "metadata": {},
   "source": [
    "- id — уникальный идентификатор скважины;\n",
    "- f0, f1, f2 — три признака точек (неважно, что они означают, но сами признаки значимы);\n",
    "- product — объём запасов в скважине (тыс. баррелей).\n"
   ]
  },
  {
   "cell_type": "markdown",
   "metadata": {},
   "source": [
    "## Загрузка и подготовка данных"
   ]
  },
  {
   "cell_type": "code",
   "execution_count": 1,
   "metadata": {},
   "outputs": [
    {
     "name": "stdout",
     "output_type": "stream",
     "text": [
      "Requirement already satisfied: phik in /opt/conda/lib/python3.9/site-packages (0.12.3)\n",
      "Requirement already satisfied: numpy>=1.18.0 in /opt/conda/lib/python3.9/site-packages (from phik) (1.21.1)\n",
      "Requirement already satisfied: matplotlib>=2.2.3 in /opt/conda/lib/python3.9/site-packages (from phik) (3.3.4)\n",
      "Requirement already satisfied: joblib>=0.14.1 in /opt/conda/lib/python3.9/site-packages (from phik) (1.1.0)\n",
      "Requirement already satisfied: scipy>=1.5.2 in /opt/conda/lib/python3.9/site-packages (from phik) (1.9.1)\n",
      "Requirement already satisfied: pandas>=0.25.1 in /opt/conda/lib/python3.9/site-packages (from phik) (1.2.4)\n",
      "Requirement already satisfied: kiwisolver>=1.0.1 in /opt/conda/lib/python3.9/site-packages (from matplotlib>=2.2.3->phik) (1.4.4)\n",
      "Requirement already satisfied: pyparsing!=2.0.4,!=2.1.2,!=2.1.6,>=2.0.3 in /opt/conda/lib/python3.9/site-packages (from matplotlib>=2.2.3->phik) (2.4.7)\n",
      "Requirement already satisfied: python-dateutil>=2.1 in /opt/conda/lib/python3.9/site-packages (from matplotlib>=2.2.3->phik) (2.8.1)\n",
      "Requirement already satisfied: pillow>=6.2.0 in /opt/conda/lib/python3.9/site-packages (from matplotlib>=2.2.3->phik) (8.4.0)\n",
      "Requirement already satisfied: cycler>=0.10 in /opt/conda/lib/python3.9/site-packages (from matplotlib>=2.2.3->phik) (0.11.0)\n",
      "Requirement already satisfied: pytz>=2017.3 in /opt/conda/lib/python3.9/site-packages (from pandas>=0.25.1->phik) (2021.1)\n",
      "Requirement already satisfied: six>=1.5 in /opt/conda/lib/python3.9/site-packages (from python-dateutil>=2.1->matplotlib>=2.2.3->phik) (1.16.0)\n",
      "Note: you may need to restart the kernel to use updated packages.\n"
     ]
    }
   ],
   "source": [
    "pip install phik"
   ]
  },
  {
   "cell_type": "code",
   "execution_count": 7,
   "metadata": {},
   "outputs": [],
   "source": [
    "# импортируем необходимые для работы библиотеки\n",
    "import pandas as pd\n",
    "import seaborn as sns\n",
    "import numpy as np\n",
    "import matplotlib.pyplot as plt\n",
    "#import phik\n",
    "#from phik.report import plot_correlation_matrix\n",
    "#from phik import report\n",
    "from sklearn.model_selection import train_test_split\n",
    "from sklearn.linear_model import LinearRegression\n",
    "from sklearn.preprocessing import StandardScaler\n",
    "from sklearn.metrics import mean_squared_error"
   ]
  },
  {
   "cell_type": "code",
   "execution_count": 8,
   "metadata": {},
   "outputs": [],
   "source": [
    "# Основные характеристики для расчетов:\n",
    "BUDGET=10E9         # общий бюджет на разработку\n",
    "BARREL_PRICE=450000 # стоимость одной тысячи баррелей\n",
    "TOP_HOLES=200       # количество скважин c максимальным запасом по предсказанию\n",
    "HOLES=500           # количество скважин для разработки\n",
    "BOOTSTRAP_SIZE=1000  "
   ]
  },
  {
   "cell_type": "code",
   "execution_count": 9,
   "metadata": {},
   "outputs": [],
   "source": [
    "try:\n",
    "    df_1 = pd.read_csv(r'D:\\project ML в бизнесе\\geo_data_0.csv')\n",
    "    df_2 = pd.read_csv(r'D:\\project ML в бизнесе\\geo_data_1.csv')\n",
    "    df_3 = pd.read_csv(r'D:\\project ML в бизнесе\\geo_data_2.csv')\n",
    "except:\n",
    "    df_1 = pd.read_csv('/datasets/geo_data_0.csv')\n",
    "    df_2 = pd.read_csv('/datasets/geo_data_1.csv')\n",
    "    df_3 = pd.read_csv('/datasets/geo_data_2.csv')"
   ]
  },
  {
   "cell_type": "markdown",
   "metadata": {},
   "source": [
    "#### Изучение и подготовка данных для первого региона."
   ]
  },
  {
   "cell_type": "code",
   "execution_count": 10,
   "metadata": {},
   "outputs": [
    {
     "data": {
      "text/html": [
       "<div>\n",
       "<style scoped>\n",
       "    .dataframe tbody tr th:only-of-type {\n",
       "        vertical-align: middle;\n",
       "    }\n",
       "\n",
       "    .dataframe tbody tr th {\n",
       "        vertical-align: top;\n",
       "    }\n",
       "\n",
       "    .dataframe thead th {\n",
       "        text-align: right;\n",
       "    }\n",
       "</style>\n",
       "<table border=\"1\" class=\"dataframe\">\n",
       "  <thead>\n",
       "    <tr style=\"text-align: right;\">\n",
       "      <th></th>\n",
       "      <th>id</th>\n",
       "      <th>f0</th>\n",
       "      <th>f1</th>\n",
       "      <th>f2</th>\n",
       "      <th>product</th>\n",
       "    </tr>\n",
       "  </thead>\n",
       "  <tbody>\n",
       "    <tr>\n",
       "      <th>0</th>\n",
       "      <td>txEyH</td>\n",
       "      <td>0.705745</td>\n",
       "      <td>-0.497823</td>\n",
       "      <td>1.221170</td>\n",
       "      <td>105.280062</td>\n",
       "    </tr>\n",
       "    <tr>\n",
       "      <th>1</th>\n",
       "      <td>2acmU</td>\n",
       "      <td>1.334711</td>\n",
       "      <td>-0.340164</td>\n",
       "      <td>4.365080</td>\n",
       "      <td>73.037750</td>\n",
       "    </tr>\n",
       "    <tr>\n",
       "      <th>2</th>\n",
       "      <td>409Wp</td>\n",
       "      <td>1.022732</td>\n",
       "      <td>0.151990</td>\n",
       "      <td>1.419926</td>\n",
       "      <td>85.265647</td>\n",
       "    </tr>\n",
       "    <tr>\n",
       "      <th>3</th>\n",
       "      <td>iJLyR</td>\n",
       "      <td>-0.032172</td>\n",
       "      <td>0.139033</td>\n",
       "      <td>2.978566</td>\n",
       "      <td>168.620776</td>\n",
       "    </tr>\n",
       "    <tr>\n",
       "      <th>4</th>\n",
       "      <td>Xdl7t</td>\n",
       "      <td>1.988431</td>\n",
       "      <td>0.155413</td>\n",
       "      <td>4.751769</td>\n",
       "      <td>154.036647</td>\n",
       "    </tr>\n",
       "  </tbody>\n",
       "</table>\n",
       "</div>"
      ],
      "text/plain": [
       "      id        f0        f1        f2     product\n",
       "0  txEyH  0.705745 -0.497823  1.221170  105.280062\n",
       "1  2acmU  1.334711 -0.340164  4.365080   73.037750\n",
       "2  409Wp  1.022732  0.151990  1.419926   85.265647\n",
       "3  iJLyR -0.032172  0.139033  2.978566  168.620776\n",
       "4  Xdl7t  1.988431  0.155413  4.751769  154.036647"
      ]
     },
     "metadata": {},
     "output_type": "display_data"
    },
    {
     "name": "stdout",
     "output_type": "stream",
     "text": [
      "<class 'pandas.core.frame.DataFrame'>\n",
      "RangeIndex: 100000 entries, 0 to 99999\n",
      "Data columns (total 5 columns):\n",
      " #   Column   Non-Null Count   Dtype  \n",
      "---  ------   --------------   -----  \n",
      " 0   id       100000 non-null  object \n",
      " 1   f0       100000 non-null  float64\n",
      " 2   f1       100000 non-null  float64\n",
      " 3   f2       100000 non-null  float64\n",
      " 4   product  100000 non-null  float64\n",
      "dtypes: float64(4), object(1)\n",
      "memory usage: 3.8+ MB\n"
     ]
    },
    {
     "data": {
      "text/plain": [
       "None"
      ]
     },
     "metadata": {},
     "output_type": "display_data"
    },
    {
     "data": {
      "text/plain": [
       "(None, None)"
      ]
     },
     "execution_count": 10,
     "metadata": {},
     "output_type": "execute_result"
    }
   ],
   "source": [
    "display(df_1.head()), display(df_1.info())"
   ]
  },
  {
   "cell_type": "markdown",
   "metadata": {},
   "source": [
    "Посмотрим основные статистики нашей выборки:"
   ]
  },
  {
   "cell_type": "code",
   "execution_count": 11,
   "metadata": {},
   "outputs": [
    {
     "data": {
      "text/html": [
       "<div>\n",
       "<style scoped>\n",
       "    .dataframe tbody tr th:only-of-type {\n",
       "        vertical-align: middle;\n",
       "    }\n",
       "\n",
       "    .dataframe tbody tr th {\n",
       "        vertical-align: top;\n",
       "    }\n",
       "\n",
       "    .dataframe thead th {\n",
       "        text-align: right;\n",
       "    }\n",
       "</style>\n",
       "<table border=\"1\" class=\"dataframe\">\n",
       "  <thead>\n",
       "    <tr style=\"text-align: right;\">\n",
       "      <th></th>\n",
       "      <th>f0</th>\n",
       "      <th>f1</th>\n",
       "      <th>f2</th>\n",
       "      <th>product</th>\n",
       "    </tr>\n",
       "  </thead>\n",
       "  <tbody>\n",
       "    <tr>\n",
       "      <th>count</th>\n",
       "      <td>100000.000000</td>\n",
       "      <td>100000.000000</td>\n",
       "      <td>100000.000000</td>\n",
       "      <td>100000.000000</td>\n",
       "    </tr>\n",
       "    <tr>\n",
       "      <th>mean</th>\n",
       "      <td>0.500419</td>\n",
       "      <td>0.250143</td>\n",
       "      <td>2.502647</td>\n",
       "      <td>92.500000</td>\n",
       "    </tr>\n",
       "    <tr>\n",
       "      <th>std</th>\n",
       "      <td>0.871832</td>\n",
       "      <td>0.504433</td>\n",
       "      <td>3.248248</td>\n",
       "      <td>44.288691</td>\n",
       "    </tr>\n",
       "    <tr>\n",
       "      <th>min</th>\n",
       "      <td>-1.408605</td>\n",
       "      <td>-0.848218</td>\n",
       "      <td>-12.088328</td>\n",
       "      <td>0.000000</td>\n",
       "    </tr>\n",
       "    <tr>\n",
       "      <th>25%</th>\n",
       "      <td>-0.072580</td>\n",
       "      <td>-0.200881</td>\n",
       "      <td>0.287748</td>\n",
       "      <td>56.497507</td>\n",
       "    </tr>\n",
       "    <tr>\n",
       "      <th>50%</th>\n",
       "      <td>0.502360</td>\n",
       "      <td>0.250252</td>\n",
       "      <td>2.515969</td>\n",
       "      <td>91.849972</td>\n",
       "    </tr>\n",
       "    <tr>\n",
       "      <th>75%</th>\n",
       "      <td>1.073581</td>\n",
       "      <td>0.700646</td>\n",
       "      <td>4.715088</td>\n",
       "      <td>128.564089</td>\n",
       "    </tr>\n",
       "    <tr>\n",
       "      <th>max</th>\n",
       "      <td>2.362331</td>\n",
       "      <td>1.343769</td>\n",
       "      <td>16.003790</td>\n",
       "      <td>185.364347</td>\n",
       "    </tr>\n",
       "  </tbody>\n",
       "</table>\n",
       "</div>"
      ],
      "text/plain": [
       "                  f0             f1             f2        product\n",
       "count  100000.000000  100000.000000  100000.000000  100000.000000\n",
       "mean        0.500419       0.250143       2.502647      92.500000\n",
       "std         0.871832       0.504433       3.248248      44.288691\n",
       "min        -1.408605      -0.848218     -12.088328       0.000000\n",
       "25%        -0.072580      -0.200881       0.287748      56.497507\n",
       "50%         0.502360       0.250252       2.515969      91.849972\n",
       "75%         1.073581       0.700646       4.715088     128.564089\n",
       "max         2.362331       1.343769      16.003790     185.364347"
      ]
     },
     "execution_count": 11,
     "metadata": {},
     "output_type": "execute_result"
    }
   ],
   "source": [
    "df_1.describe()"
   ]
  },
  {
   "cell_type": "markdown",
   "metadata": {},
   "source": [
    "Проведем проверку на наличие явных дубликатов: "
   ]
  },
  {
   "cell_type": "code",
   "execution_count": 13,
   "metadata": {},
   "outputs": [
    {
     "data": {
      "text/html": [
       "<div>\n",
       "<style scoped>\n",
       "    .dataframe tbody tr th:only-of-type {\n",
       "        vertical-align: middle;\n",
       "    }\n",
       "\n",
       "    .dataframe tbody tr th {\n",
       "        vertical-align: top;\n",
       "    }\n",
       "\n",
       "    .dataframe thead th {\n",
       "        text-align: right;\n",
       "    }\n",
       "</style>\n",
       "<table border=\"1\" class=\"dataframe\">\n",
       "  <thead>\n",
       "    <tr style=\"text-align: right;\">\n",
       "      <th></th>\n",
       "      <th>id</th>\n",
       "      <th>f0</th>\n",
       "      <th>f1</th>\n",
       "      <th>f2</th>\n",
       "      <th>product</th>\n",
       "    </tr>\n",
       "  </thead>\n",
       "  <tbody>\n",
       "    <tr>\n",
       "      <th>0</th>\n",
       "      <td>txEyH</td>\n",
       "      <td>0.705745</td>\n",
       "      <td>-0.497823</td>\n",
       "      <td>1.221170</td>\n",
       "      <td>105.280062</td>\n",
       "    </tr>\n",
       "    <tr>\n",
       "      <th>1</th>\n",
       "      <td>2acmU</td>\n",
       "      <td>1.334711</td>\n",
       "      <td>-0.340164</td>\n",
       "      <td>4.365080</td>\n",
       "      <td>73.037750</td>\n",
       "    </tr>\n",
       "    <tr>\n",
       "      <th>2</th>\n",
       "      <td>409Wp</td>\n",
       "      <td>1.022732</td>\n",
       "      <td>0.151990</td>\n",
       "      <td>1.419926</td>\n",
       "      <td>85.265647</td>\n",
       "    </tr>\n",
       "    <tr>\n",
       "      <th>3</th>\n",
       "      <td>iJLyR</td>\n",
       "      <td>-0.032172</td>\n",
       "      <td>0.139033</td>\n",
       "      <td>2.978566</td>\n",
       "      <td>168.620776</td>\n",
       "    </tr>\n",
       "    <tr>\n",
       "      <th>4</th>\n",
       "      <td>Xdl7t</td>\n",
       "      <td>1.988431</td>\n",
       "      <td>0.155413</td>\n",
       "      <td>4.751769</td>\n",
       "      <td>154.036647</td>\n",
       "    </tr>\n",
       "  </tbody>\n",
       "</table>\n",
       "</div>"
      ],
      "text/plain": [
       "      id        f0        f1        f2     product\n",
       "0  txEyH  0.705745 -0.497823  1.221170  105.280062\n",
       "1  2acmU  1.334711 -0.340164  4.365080   73.037750\n",
       "2  409Wp  1.022732  0.151990  1.419926   85.265647\n",
       "3  iJLyR -0.032172  0.139033  2.978566  168.620776\n",
       "4  Xdl7t  1.988431  0.155413  4.751769  154.036647"
      ]
     },
     "execution_count": 13,
     "metadata": {},
     "output_type": "execute_result"
    }
   ],
   "source": [
    "df_1.head()"
   ]
  },
  {
   "cell_type": "code",
   "execution_count": 14,
   "metadata": {},
   "outputs": [],
   "source": [
    "df_1['new'] = df_1['f0']* 100"
   ]
  },
  {
   "cell_type": "code",
   "execution_count": 15,
   "metadata": {},
   "outputs": [
    {
     "data": {
      "text/html": [
       "<div>\n",
       "<style scoped>\n",
       "    .dataframe tbody tr th:only-of-type {\n",
       "        vertical-align: middle;\n",
       "    }\n",
       "\n",
       "    .dataframe tbody tr th {\n",
       "        vertical-align: top;\n",
       "    }\n",
       "\n",
       "    .dataframe thead th {\n",
       "        text-align: right;\n",
       "    }\n",
       "</style>\n",
       "<table border=\"1\" class=\"dataframe\">\n",
       "  <thead>\n",
       "    <tr style=\"text-align: right;\">\n",
       "      <th></th>\n",
       "      <th>id</th>\n",
       "      <th>f0</th>\n",
       "      <th>f1</th>\n",
       "      <th>f2</th>\n",
       "      <th>product</th>\n",
       "      <th>new</th>\n",
       "    </tr>\n",
       "  </thead>\n",
       "  <tbody>\n",
       "    <tr>\n",
       "      <th>0</th>\n",
       "      <td>txEyH</td>\n",
       "      <td>0.705745</td>\n",
       "      <td>-0.497823</td>\n",
       "      <td>1.221170</td>\n",
       "      <td>105.280062</td>\n",
       "      <td>70.574498</td>\n",
       "    </tr>\n",
       "    <tr>\n",
       "      <th>1</th>\n",
       "      <td>2acmU</td>\n",
       "      <td>1.334711</td>\n",
       "      <td>-0.340164</td>\n",
       "      <td>4.365080</td>\n",
       "      <td>73.037750</td>\n",
       "      <td>133.471129</td>\n",
       "    </tr>\n",
       "    <tr>\n",
       "      <th>2</th>\n",
       "      <td>409Wp</td>\n",
       "      <td>1.022732</td>\n",
       "      <td>0.151990</td>\n",
       "      <td>1.419926</td>\n",
       "      <td>85.265647</td>\n",
       "      <td>102.273226</td>\n",
       "    </tr>\n",
       "    <tr>\n",
       "      <th>3</th>\n",
       "      <td>iJLyR</td>\n",
       "      <td>-0.032172</td>\n",
       "      <td>0.139033</td>\n",
       "      <td>2.978566</td>\n",
       "      <td>168.620776</td>\n",
       "      <td>-3.217162</td>\n",
       "    </tr>\n",
       "    <tr>\n",
       "      <th>4</th>\n",
       "      <td>Xdl7t</td>\n",
       "      <td>1.988431</td>\n",
       "      <td>0.155413</td>\n",
       "      <td>4.751769</td>\n",
       "      <td>154.036647</td>\n",
       "      <td>198.843106</td>\n",
       "    </tr>\n",
       "  </tbody>\n",
       "</table>\n",
       "</div>"
      ],
      "text/plain": [
       "      id        f0        f1        f2     product         new\n",
       "0  txEyH  0.705745 -0.497823  1.221170  105.280062   70.574498\n",
       "1  2acmU  1.334711 -0.340164  4.365080   73.037750  133.471129\n",
       "2  409Wp  1.022732  0.151990  1.419926   85.265647  102.273226\n",
       "3  iJLyR -0.032172  0.139033  2.978566  168.620776   -3.217162\n",
       "4  Xdl7t  1.988431  0.155413  4.751769  154.036647  198.843106"
      ]
     },
     "execution_count": 15,
     "metadata": {},
     "output_type": "execute_result"
    }
   ],
   "source": [
    "df_1.head()"
   ]
  },
  {
   "cell_type": "code",
   "execution_count": 7,
   "metadata": {},
   "outputs": [
    {
     "data": {
      "text/plain": [
       "0"
      ]
     },
     "execution_count": 7,
     "metadata": {},
     "output_type": "execute_result"
    }
   ],
   "source": [
    "df_1.duplicated().sum()"
   ]
  },
  {
   "cell_type": "code",
   "execution_count": 8,
   "metadata": {},
   "outputs": [
    {
     "data": {
      "text/html": [
       "<div>\n",
       "<style scoped>\n",
       "    .dataframe tbody tr th:only-of-type {\n",
       "        vertical-align: middle;\n",
       "    }\n",
       "\n",
       "    .dataframe tbody tr th {\n",
       "        vertical-align: top;\n",
       "    }\n",
       "\n",
       "    .dataframe thead th {\n",
       "        text-align: right;\n",
       "    }\n",
       "</style>\n",
       "<table border=\"1\" class=\"dataframe\">\n",
       "  <thead>\n",
       "    <tr style=\"text-align: right;\">\n",
       "      <th></th>\n",
       "      <th>f0</th>\n",
       "      <th>f1</th>\n",
       "      <th>f2</th>\n",
       "      <th>product</th>\n",
       "    </tr>\n",
       "  </thead>\n",
       "  <tbody>\n",
       "    <tr>\n",
       "      <th>f0</th>\n",
       "      <td>1.000000</td>\n",
       "      <td>-0.440723</td>\n",
       "      <td>-0.003153</td>\n",
       "      <td>0.143536</td>\n",
       "    </tr>\n",
       "    <tr>\n",
       "      <th>f1</th>\n",
       "      <td>-0.440723</td>\n",
       "      <td>1.000000</td>\n",
       "      <td>0.001724</td>\n",
       "      <td>-0.192356</td>\n",
       "    </tr>\n",
       "    <tr>\n",
       "      <th>f2</th>\n",
       "      <td>-0.003153</td>\n",
       "      <td>0.001724</td>\n",
       "      <td>1.000000</td>\n",
       "      <td>0.483663</td>\n",
       "    </tr>\n",
       "    <tr>\n",
       "      <th>product</th>\n",
       "      <td>0.143536</td>\n",
       "      <td>-0.192356</td>\n",
       "      <td>0.483663</td>\n",
       "      <td>1.000000</td>\n",
       "    </tr>\n",
       "  </tbody>\n",
       "</table>\n",
       "</div>"
      ],
      "text/plain": [
       "               f0        f1        f2   product\n",
       "f0       1.000000 -0.440723 -0.003153  0.143536\n",
       "f1      -0.440723  1.000000  0.001724 -0.192356\n",
       "f2      -0.003153  0.001724  1.000000  0.483663\n",
       "product  0.143536 -0.192356  0.483663  1.000000"
      ]
     },
     "execution_count": 8,
     "metadata": {},
     "output_type": "execute_result"
    }
   ],
   "source": [
    "df_1[['f0','f1','f2','product']].corr()"
   ]
  },
  {
   "cell_type": "code",
   "execution_count": 9,
   "metadata": {},
   "outputs": [
    {
     "name": "stdout",
     "output_type": "stream",
     "text": [
      "interval columns not set, guessing: ['f0', 'f1', 'f2', 'product']\n"
     ]
    },
    {
     "data": {
      "text/html": [
       "<div>\n",
       "<style scoped>\n",
       "    .dataframe tbody tr th:only-of-type {\n",
       "        vertical-align: middle;\n",
       "    }\n",
       "\n",
       "    .dataframe tbody tr th {\n",
       "        vertical-align: top;\n",
       "    }\n",
       "\n",
       "    .dataframe thead th {\n",
       "        text-align: right;\n",
       "    }\n",
       "</style>\n",
       "<table border=\"1\" class=\"dataframe\">\n",
       "  <thead>\n",
       "    <tr style=\"text-align: right;\">\n",
       "      <th></th>\n",
       "      <th>f0</th>\n",
       "      <th>f1</th>\n",
       "      <th>f2</th>\n",
       "      <th>product</th>\n",
       "    </tr>\n",
       "  </thead>\n",
       "  <tbody>\n",
       "    <tr>\n",
       "      <th>f0</th>\n",
       "      <td>1.000000</td>\n",
       "      <td>0.762170</td>\n",
       "      <td>0.000000</td>\n",
       "      <td>0.215525</td>\n",
       "    </tr>\n",
       "    <tr>\n",
       "      <th>f1</th>\n",
       "      <td>0.762170</td>\n",
       "      <td>1.000000</td>\n",
       "      <td>0.000000</td>\n",
       "      <td>0.253544</td>\n",
       "    </tr>\n",
       "    <tr>\n",
       "      <th>f2</th>\n",
       "      <td>0.000000</td>\n",
       "      <td>0.000000</td>\n",
       "      <td>1.000000</td>\n",
       "      <td>0.475901</td>\n",
       "    </tr>\n",
       "    <tr>\n",
       "      <th>product</th>\n",
       "      <td>0.215525</td>\n",
       "      <td>0.253544</td>\n",
       "      <td>0.475901</td>\n",
       "      <td>1.000000</td>\n",
       "    </tr>\n",
       "  </tbody>\n",
       "</table>\n",
       "</div>"
      ],
      "text/plain": [
       "               f0        f1        f2   product\n",
       "f0       1.000000  0.762170  0.000000  0.215525\n",
       "f1       0.762170  1.000000  0.000000  0.253544\n",
       "f2       0.000000  0.000000  1.000000  0.475901\n",
       "product  0.215525  0.253544  0.475901  1.000000"
      ]
     },
     "execution_count": 9,
     "metadata": {},
     "output_type": "execute_result"
    }
   ],
   "source": [
    "df_1[['f0','f1','f2','product']].phik_matrix()"
   ]
  },
  {
   "cell_type": "code",
   "execution_count": 10,
   "metadata": {},
   "outputs": [
    {
     "data": {
      "image/png": "[encoded data removed]",
      "text/plain": [
       "<Figure size 432x288 with 1 Axes>"
      ]
     },
     "metadata": {
      "needs_background": "light"
     },
     "output_type": "display_data"
    }
   ],
   "source": [
    "df_1['f0'].plot(kind='hist',grid=True,title='Признак \"f0\" первого региона');"
   ]
  },
  {
   "cell_type": "code",
   "execution_count": 11,
   "metadata": {},
   "outputs": [
    {
     "data": {
      "image/png": "[encoded data removed]",
      "text/plain": [
       "<Figure size 432x288 with 1 Axes>"
      ]
     },
     "metadata": {
      "needs_background": "light"
     },
     "output_type": "display_data"
    }
   ],
   "source": [
    "df_1['f1'].plot(kind='hist',grid=True,title='Признак \"f1\" первого региона');"
   ]
  },
  {
   "cell_type": "code",
   "execution_count": 12,
   "metadata": {},
   "outputs": [
    {
     "data": {
      "image/png": "[encoded data removed]",
      "text/plain": [
       "<Figure size 432x288 with 1 Axes>"
      ]
     },
     "metadata": {
      "needs_background": "light"
     },
     "output_type": "display_data"
    }
   ],
   "source": [
    "df_1['f2'].plot(kind='hist',grid=True,title='Признак \"f2\" первого региона');"
   ]
  },
  {
   "cell_type": "code",
   "execution_count": 13,
   "metadata": {},
   "outputs": [
    {
     "data": {
      "image/png": "[encoded data removed]",
      "text/plain": [
       "<Figure size 432x288 with 1 Axes>"
      ]
     },
     "metadata": {
      "needs_background": "light"
     },
     "output_type": "display_data"
    }
   ],
   "source": [
    "df_1['product'].plot(kind='hist',grid=True,title='Целевой признак \"product\" первого региона');\n",
    "plt.xlabel('тыс.бар.');"
   ]
  },
  {
   "cell_type": "markdown",
   "metadata": {},
   "source": [
    "### Подготовка данных для второго региона."
   ]
  },
  {
   "cell_type": "code",
   "execution_count": 14,
   "metadata": {},
   "outputs": [
    {
     "data": {
      "text/html": [
       "<div>\n",
       "<style scoped>\n",
       "    .dataframe tbody tr th:only-of-type {\n",
       "        vertical-align: middle;\n",
       "    }\n",
       "\n",
       "    .dataframe tbody tr th {\n",
       "        vertical-align: top;\n",
       "    }\n",
       "\n",
       "    .dataframe thead th {\n",
       "        text-align: right;\n",
       "    }\n",
       "</style>\n",
       "<table border=\"1\" class=\"dataframe\">\n",
       "  <thead>\n",
       "    <tr style=\"text-align: right;\">\n",
       "      <th></th>\n",
       "      <th>id</th>\n",
       "      <th>f0</th>\n",
       "      <th>f1</th>\n",
       "      <th>f2</th>\n",
       "      <th>product</th>\n",
       "    </tr>\n",
       "  </thead>\n",
       "  <tbody>\n",
       "    <tr>\n",
       "      <th>0</th>\n",
       "      <td>kBEdx</td>\n",
       "      <td>-15.001348</td>\n",
       "      <td>-8.276000</td>\n",
       "      <td>-0.005876</td>\n",
       "      <td>3.179103</td>\n",
       "    </tr>\n",
       "    <tr>\n",
       "      <th>1</th>\n",
       "      <td>62mP7</td>\n",
       "      <td>14.272088</td>\n",
       "      <td>-3.475083</td>\n",
       "      <td>0.999183</td>\n",
       "      <td>26.953261</td>\n",
       "    </tr>\n",
       "    <tr>\n",
       "      <th>2</th>\n",
       "      <td>vyE1P</td>\n",
       "      <td>6.263187</td>\n",
       "      <td>-5.948386</td>\n",
       "      <td>5.001160</td>\n",
       "      <td>134.766305</td>\n",
       "    </tr>\n",
       "    <tr>\n",
       "      <th>3</th>\n",
       "      <td>KcrkZ</td>\n",
       "      <td>-13.081196</td>\n",
       "      <td>-11.506057</td>\n",
       "      <td>4.999415</td>\n",
       "      <td>137.945408</td>\n",
       "    </tr>\n",
       "    <tr>\n",
       "      <th>4</th>\n",
       "      <td>AHL4O</td>\n",
       "      <td>12.702195</td>\n",
       "      <td>-8.147433</td>\n",
       "      <td>5.004363</td>\n",
       "      <td>134.766305</td>\n",
       "    </tr>\n",
       "  </tbody>\n",
       "</table>\n",
       "</div>"
      ],
      "text/plain": [
       "      id         f0         f1        f2     product\n",
       "0  kBEdx -15.001348  -8.276000 -0.005876    3.179103\n",
       "1  62mP7  14.272088  -3.475083  0.999183   26.953261\n",
       "2  vyE1P   6.263187  -5.948386  5.001160  134.766305\n",
       "3  KcrkZ -13.081196 -11.506057  4.999415  137.945408\n",
       "4  AHL4O  12.702195  -8.147433  5.004363  134.766305"
      ]
     },
     "metadata": {},
     "output_type": "display_data"
    },
    {
     "name": "stdout",
     "output_type": "stream",
     "text": [
      "<class 'pandas.core.frame.DataFrame'>\n",
      "RangeIndex: 100000 entries, 0 to 99999\n",
      "Data columns (total 5 columns):\n",
      " #   Column   Non-Null Count   Dtype  \n",
      "---  ------   --------------   -----  \n",
      " 0   id       100000 non-null  object \n",
      " 1   f0       100000 non-null  float64\n",
      " 2   f1       100000 non-null  float64\n",
      " 3   f2       100000 non-null  float64\n",
      " 4   product  100000 non-null  float64\n",
      "dtypes: float64(4), object(1)\n",
      "memory usage: 3.8+ MB\n"
     ]
    },
    {
     "data": {
      "text/plain": [
       "None"
      ]
     },
     "metadata": {},
     "output_type": "display_data"
    },
    {
     "data": {
      "text/plain": [
       "(None, None)"
      ]
     },
     "execution_count": 14,
     "metadata": {},
     "output_type": "execute_result"
    }
   ],
   "source": [
    "display(df_2.head()), display(df_2.info())"
   ]
  },
  {
   "cell_type": "markdown",
   "metadata": {},
   "source": [
    "Посмотрим основные статистики нашей выборки:"
   ]
  },
  {
   "cell_type": "code",
   "execution_count": 15,
   "metadata": {},
   "outputs": [
    {
     "data": {
      "text/html": [
       "<div>\n",
       "<style scoped>\n",
       "    .dataframe tbody tr th:only-of-type {\n",
       "        vertical-align: middle;\n",
       "    }\n",
       "\n",
       "    .dataframe tbody tr th {\n",
       "        vertical-align: top;\n",
       "    }\n",
       "\n",
       "    .dataframe thead th {\n",
       "        text-align: right;\n",
       "    }\n",
       "</style>\n",
       "<table border=\"1\" class=\"dataframe\">\n",
       "  <thead>\n",
       "    <tr style=\"text-align: right;\">\n",
       "      <th></th>\n",
       "      <th>f0</th>\n",
       "      <th>f1</th>\n",
       "      <th>f2</th>\n",
       "      <th>product</th>\n",
       "    </tr>\n",
       "  </thead>\n",
       "  <tbody>\n",
       "    <tr>\n",
       "      <th>count</th>\n",
       "      <td>100000.000000</td>\n",
       "      <td>100000.000000</td>\n",
       "      <td>100000.000000</td>\n",
       "      <td>100000.000000</td>\n",
       "    </tr>\n",
       "    <tr>\n",
       "      <th>mean</th>\n",
       "      <td>1.141296</td>\n",
       "      <td>-4.796579</td>\n",
       "      <td>2.494541</td>\n",
       "      <td>68.825000</td>\n",
       "    </tr>\n",
       "    <tr>\n",
       "      <th>std</th>\n",
       "      <td>8.965932</td>\n",
       "      <td>5.119872</td>\n",
       "      <td>1.703572</td>\n",
       "      <td>45.944423</td>\n",
       "    </tr>\n",
       "    <tr>\n",
       "      <th>min</th>\n",
       "      <td>-31.609576</td>\n",
       "      <td>-26.358598</td>\n",
       "      <td>-0.018144</td>\n",
       "      <td>0.000000</td>\n",
       "    </tr>\n",
       "    <tr>\n",
       "      <th>25%</th>\n",
       "      <td>-6.298551</td>\n",
       "      <td>-8.267985</td>\n",
       "      <td>1.000021</td>\n",
       "      <td>26.953261</td>\n",
       "    </tr>\n",
       "    <tr>\n",
       "      <th>50%</th>\n",
       "      <td>1.153055</td>\n",
       "      <td>-4.813172</td>\n",
       "      <td>2.011479</td>\n",
       "      <td>57.085625</td>\n",
       "    </tr>\n",
       "    <tr>\n",
       "      <th>75%</th>\n",
       "      <td>8.621015</td>\n",
       "      <td>-1.332816</td>\n",
       "      <td>3.999904</td>\n",
       "      <td>107.813044</td>\n",
       "    </tr>\n",
       "    <tr>\n",
       "      <th>max</th>\n",
       "      <td>29.421755</td>\n",
       "      <td>18.734063</td>\n",
       "      <td>5.019721</td>\n",
       "      <td>137.945408</td>\n",
       "    </tr>\n",
       "  </tbody>\n",
       "</table>\n",
       "</div>"
      ],
      "text/plain": [
       "                  f0             f1             f2        product\n",
       "count  100000.000000  100000.000000  100000.000000  100000.000000\n",
       "mean        1.141296      -4.796579       2.494541      68.825000\n",
       "std         8.965932       5.119872       1.703572      45.944423\n",
       "min       -31.609576     -26.358598      -0.018144       0.000000\n",
       "25%        -6.298551      -8.267985       1.000021      26.953261\n",
       "50%         1.153055      -4.813172       2.011479      57.085625\n",
       "75%         8.621015      -1.332816       3.999904     107.813044\n",
       "max        29.421755      18.734063       5.019721     137.945408"
      ]
     },
     "execution_count": 15,
     "metadata": {},
     "output_type": "execute_result"
    }
   ],
   "source": [
    "df_2.describe()"
   ]
  },
  {
   "cell_type": "markdown",
   "metadata": {},
   "source": [
    "Проведем проверку на наличие явных дубликатов: "
   ]
  },
  {
   "cell_type": "code",
   "execution_count": 16,
   "metadata": {},
   "outputs": [
    {
     "data": {
      "text/plain": [
       "0"
      ]
     },
     "execution_count": 16,
     "metadata": {},
     "output_type": "execute_result"
    }
   ],
   "source": [
    "df_2.duplicated().sum()"
   ]
  },
  {
   "cell_type": "code",
   "execution_count": 17,
   "metadata": {},
   "outputs": [
    {
     "data": {
      "text/html": [
       "<div>\n",
       "<style scoped>\n",
       "    .dataframe tbody tr th:only-of-type {\n",
       "        vertical-align: middle;\n",
       "    }\n",
       "\n",
       "    .dataframe tbody tr th {\n",
       "        vertical-align: top;\n",
       "    }\n",
       "\n",
       "    .dataframe thead th {\n",
       "        text-align: right;\n",
       "    }\n",
       "</style>\n",
       "<table border=\"1\" class=\"dataframe\">\n",
       "  <thead>\n",
       "    <tr style=\"text-align: right;\">\n",
       "      <th></th>\n",
       "      <th>f0</th>\n",
       "      <th>f1</th>\n",
       "      <th>f2</th>\n",
       "      <th>product</th>\n",
       "    </tr>\n",
       "  </thead>\n",
       "  <tbody>\n",
       "    <tr>\n",
       "      <th>f0</th>\n",
       "      <td>1.000000</td>\n",
       "      <td>0.182287</td>\n",
       "      <td>-0.001777</td>\n",
       "      <td>-0.030491</td>\n",
       "    </tr>\n",
       "    <tr>\n",
       "      <th>f1</th>\n",
       "      <td>0.182287</td>\n",
       "      <td>1.000000</td>\n",
       "      <td>-0.002595</td>\n",
       "      <td>-0.010155</td>\n",
       "    </tr>\n",
       "    <tr>\n",
       "      <th>f2</th>\n",
       "      <td>-0.001777</td>\n",
       "      <td>-0.002595</td>\n",
       "      <td>1.000000</td>\n",
       "      <td>0.999397</td>\n",
       "    </tr>\n",
       "    <tr>\n",
       "      <th>product</th>\n",
       "      <td>-0.030491</td>\n",
       "      <td>-0.010155</td>\n",
       "      <td>0.999397</td>\n",
       "      <td>1.000000</td>\n",
       "    </tr>\n",
       "  </tbody>\n",
       "</table>\n",
       "</div>"
      ],
      "text/plain": [
       "               f0        f1        f2   product\n",
       "f0       1.000000  0.182287 -0.001777 -0.030491\n",
       "f1       0.182287  1.000000 -0.002595 -0.010155\n",
       "f2      -0.001777 -0.002595  1.000000  0.999397\n",
       "product -0.030491 -0.010155  0.999397  1.000000"
      ]
     },
     "execution_count": 17,
     "metadata": {},
     "output_type": "execute_result"
    }
   ],
   "source": [
    "df_2[['f0','f1','f2','product']].corr()"
   ]
  },
  {
   "cell_type": "code",
   "execution_count": 18,
   "metadata": {},
   "outputs": [
    {
     "name": "stdout",
     "output_type": "stream",
     "text": [
      "interval columns not set, guessing: ['f0', 'f1', 'f2', 'product']\n"
     ]
    },
    {
     "data": {
      "text/html": [
       "<div>\n",
       "<style scoped>\n",
       "    .dataframe tbody tr th:only-of-type {\n",
       "        vertical-align: middle;\n",
       "    }\n",
       "\n",
       "    .dataframe tbody tr th {\n",
       "        vertical-align: top;\n",
       "    }\n",
       "\n",
       "    .dataframe thead th {\n",
       "        text-align: right;\n",
       "    }\n",
       "</style>\n",
       "<table border=\"1\" class=\"dataframe\">\n",
       "  <thead>\n",
       "    <tr style=\"text-align: right;\">\n",
       "      <th></th>\n",
       "      <th>f0</th>\n",
       "      <th>f1</th>\n",
       "      <th>f2</th>\n",
       "      <th>product</th>\n",
       "    </tr>\n",
       "  </thead>\n",
       "  <tbody>\n",
       "    <tr>\n",
       "      <th>f0</th>\n",
       "      <td>1.000000</td>\n",
       "      <td>0.196080</td>\n",
       "      <td>0.000000</td>\n",
       "      <td>0.628482</td>\n",
       "    </tr>\n",
       "    <tr>\n",
       "      <th>f1</th>\n",
       "      <td>0.196080</td>\n",
       "      <td>1.000000</td>\n",
       "      <td>0.000000</td>\n",
       "      <td>0.185965</td>\n",
       "    </tr>\n",
       "    <tr>\n",
       "      <th>f2</th>\n",
       "      <td>0.000000</td>\n",
       "      <td>0.000000</td>\n",
       "      <td>1.000000</td>\n",
       "      <td>0.978936</td>\n",
       "    </tr>\n",
       "    <tr>\n",
       "      <th>product</th>\n",
       "      <td>0.628482</td>\n",
       "      <td>0.185965</td>\n",
       "      <td>0.978936</td>\n",
       "      <td>1.000000</td>\n",
       "    </tr>\n",
       "  </tbody>\n",
       "</table>\n",
       "</div>"
      ],
      "text/plain": [
       "               f0        f1        f2   product\n",
       "f0       1.000000  0.196080  0.000000  0.628482\n",
       "f1       0.196080  1.000000  0.000000  0.185965\n",
       "f2       0.000000  0.000000  1.000000  0.978936\n",
       "product  0.628482  0.185965  0.978936  1.000000"
      ]
     },
     "execution_count": 18,
     "metadata": {},
     "output_type": "execute_result"
    }
   ],
   "source": [
    "df_2[['f0','f1','f2','product']].phik_matrix()"
   ]
  },
  {
   "cell_type": "code",
   "execution_count": 19,
   "metadata": {},
   "outputs": [
    {
     "data": {
      "image/png": "[encoded data removed]",
      "text/plain": [
       "<Figure size 432x288 with 1 Axes>"
      ]
     },
     "metadata": {
      "needs_background": "light"
     },
     "output_type": "display_data"
    }
   ],
   "source": [
    "df_2['f0'].plot(kind='hist',grid=True,title='Признак \"f0\" второго региона');"
   ]
  },
  {
   "cell_type": "code",
   "execution_count": 20,
   "metadata": {},
   "outputs": [
    {
     "data": {
      "image/png": "[encoded data removed]",
      "text/plain": [
       "<Figure size 432x288 with 1 Axes>"
      ]
     },
     "metadata": {
      "needs_background": "light"
     },
     "output_type": "display_data"
    }
   ],
   "source": [
    "df_2['f1'].plot(kind='hist',grid=True,title='Признак \"f1\" второго региона');"
   ]
  },
  {
   "cell_type": "code",
   "execution_count": 21,
   "metadata": {},
   "outputs": [
    {
     "data": {
      "image/png": "[encoded data removed]",
      "text/plain": [
       "<Figure size 432x288 with 1 Axes>"
      ]
     },
     "metadata": {
      "needs_background": "light"
     },
     "output_type": "display_data"
    }
   ],
   "source": [
    "df_2['f2'].plot(kind='hist',grid=True,title='Признак \"f2\" второго региона');"
   ]
  },
  {
   "cell_type": "code",
   "execution_count": 22,
   "metadata": {},
   "outputs": [
    {
     "data": {
      "image/png": "[encoded data removed]",
      "text/plain": [
       "<Figure size 432x288 with 1 Axes>"
      ]
     },
     "metadata": {
      "needs_background": "light"
     },
     "output_type": "display_data"
    }
   ],
   "source": [
    "df_2['product'].plot(kind='hist',grid=True,title='Целевой признак \"product\" второго региона');\n",
    "plt.xlabel('тыс.бар.');"
   ]
  },
  {
   "cell_type": "markdown",
   "metadata": {},
   "source": [
    "### Подготовка данных для третьего региона."
   ]
  },
  {
   "cell_type": "code",
   "execution_count": 23,
   "metadata": {},
   "outputs": [
    {
     "data": {
      "text/html": [
       "<div>\n",
       "<style scoped>\n",
       "    .dataframe tbody tr th:only-of-type {\n",
       "        vertical-align: middle;\n",
       "    }\n",
       "\n",
       "    .dataframe tbody tr th {\n",
       "        vertical-align: top;\n",
       "    }\n",
       "\n",
       "    .dataframe thead th {\n",
       "        text-align: right;\n",
       "    }\n",
       "</style>\n",
       "<table border=\"1\" class=\"dataframe\">\n",
       "  <thead>\n",
       "    <tr style=\"text-align: right;\">\n",
       "      <th></th>\n",
       "      <th>id</th>\n",
       "      <th>f0</th>\n",
       "      <th>f1</th>\n",
       "      <th>f2</th>\n",
       "      <th>product</th>\n",
       "    </tr>\n",
       "  </thead>\n",
       "  <tbody>\n",
       "    <tr>\n",
       "      <th>0</th>\n",
       "      <td>fwXo0</td>\n",
       "      <td>-1.146987</td>\n",
       "      <td>0.963328</td>\n",
       "      <td>-0.828965</td>\n",
       "      <td>27.758673</td>\n",
       "    </tr>\n",
       "    <tr>\n",
       "      <th>1</th>\n",
       "      <td>WJtFt</td>\n",
       "      <td>0.262778</td>\n",
       "      <td>0.269839</td>\n",
       "      <td>-2.530187</td>\n",
       "      <td>56.069697</td>\n",
       "    </tr>\n",
       "    <tr>\n",
       "      <th>2</th>\n",
       "      <td>ovLUW</td>\n",
       "      <td>0.194587</td>\n",
       "      <td>0.289035</td>\n",
       "      <td>-5.586433</td>\n",
       "      <td>62.871910</td>\n",
       "    </tr>\n",
       "    <tr>\n",
       "      <th>3</th>\n",
       "      <td>q6cA6</td>\n",
       "      <td>2.236060</td>\n",
       "      <td>-0.553760</td>\n",
       "      <td>0.930038</td>\n",
       "      <td>114.572842</td>\n",
       "    </tr>\n",
       "    <tr>\n",
       "      <th>4</th>\n",
       "      <td>WPMUX</td>\n",
       "      <td>-0.515993</td>\n",
       "      <td>1.716266</td>\n",
       "      <td>5.899011</td>\n",
       "      <td>149.600746</td>\n",
       "    </tr>\n",
       "  </tbody>\n",
       "</table>\n",
       "</div>"
      ],
      "text/plain": [
       "      id        f0        f1        f2     product\n",
       "0  fwXo0 -1.146987  0.963328 -0.828965   27.758673\n",
       "1  WJtFt  0.262778  0.269839 -2.530187   56.069697\n",
       "2  ovLUW  0.194587  0.289035 -5.586433   62.871910\n",
       "3  q6cA6  2.236060 -0.553760  0.930038  114.572842\n",
       "4  WPMUX -0.515993  1.716266  5.899011  149.600746"
      ]
     },
     "metadata": {},
     "output_type": "display_data"
    },
    {
     "name": "stdout",
     "output_type": "stream",
     "text": [
      "<class 'pandas.core.frame.DataFrame'>\n",
      "RangeIndex: 100000 entries, 0 to 99999\n",
      "Data columns (total 5 columns):\n",
      " #   Column   Non-Null Count   Dtype  \n",
      "---  ------   --------------   -----  \n",
      " 0   id       100000 non-null  object \n",
      " 1   f0       100000 non-null  float64\n",
      " 2   f1       100000 non-null  float64\n",
      " 3   f2       100000 non-null  float64\n",
      " 4   product  100000 non-null  float64\n",
      "dtypes: float64(4), object(1)\n",
      "memory usage: 3.8+ MB\n"
     ]
    },
    {
     "data": {
      "text/plain": [
       "None"
      ]
     },
     "metadata": {},
     "output_type": "display_data"
    },
    {
     "data": {
      "text/plain": [
       "(None, None)"
      ]
     },
     "execution_count": 23,
     "metadata": {},
     "output_type": "execute_result"
    }
   ],
   "source": [
    "display(df_3.head()), display(df_3.info())"
   ]
  },
  {
   "cell_type": "markdown",
   "metadata": {},
   "source": [
    "Посмотрим основные статистики нашей выборки:"
   ]
  },
  {
   "cell_type": "code",
   "execution_count": 24,
   "metadata": {},
   "outputs": [
    {
     "data": {
      "text/html": [
       "<div>\n",
       "<style scoped>\n",
       "    .dataframe tbody tr th:only-of-type {\n",
       "        vertical-align: middle;\n",
       "    }\n",
       "\n",
       "    .dataframe tbody tr th {\n",
       "        vertical-align: top;\n",
       "    }\n",
       "\n",
       "    .dataframe thead th {\n",
       "        text-align: right;\n",
       "    }\n",
       "</style>\n",
       "<table border=\"1\" class=\"dataframe\">\n",
       "  <thead>\n",
       "    <tr style=\"text-align: right;\">\n",
       "      <th></th>\n",
       "      <th>f0</th>\n",
       "      <th>f1</th>\n",
       "      <th>f2</th>\n",
       "      <th>product</th>\n",
       "    </tr>\n",
       "  </thead>\n",
       "  <tbody>\n",
       "    <tr>\n",
       "      <th>count</th>\n",
       "      <td>100000.000000</td>\n",
       "      <td>100000.000000</td>\n",
       "      <td>100000.000000</td>\n",
       "      <td>100000.000000</td>\n",
       "    </tr>\n",
       "    <tr>\n",
       "      <th>mean</th>\n",
       "      <td>0.002023</td>\n",
       "      <td>-0.002081</td>\n",
       "      <td>2.495128</td>\n",
       "      <td>95.000000</td>\n",
       "    </tr>\n",
       "    <tr>\n",
       "      <th>std</th>\n",
       "      <td>1.732045</td>\n",
       "      <td>1.730417</td>\n",
       "      <td>3.473445</td>\n",
       "      <td>44.749921</td>\n",
       "    </tr>\n",
       "    <tr>\n",
       "      <th>min</th>\n",
       "      <td>-8.760004</td>\n",
       "      <td>-7.084020</td>\n",
       "      <td>-11.970335</td>\n",
       "      <td>0.000000</td>\n",
       "    </tr>\n",
       "    <tr>\n",
       "      <th>25%</th>\n",
       "      <td>-1.162288</td>\n",
       "      <td>-1.174820</td>\n",
       "      <td>0.130359</td>\n",
       "      <td>59.450441</td>\n",
       "    </tr>\n",
       "    <tr>\n",
       "      <th>50%</th>\n",
       "      <td>0.009424</td>\n",
       "      <td>-0.009482</td>\n",
       "      <td>2.484236</td>\n",
       "      <td>94.925613</td>\n",
       "    </tr>\n",
       "    <tr>\n",
       "      <th>75%</th>\n",
       "      <td>1.158535</td>\n",
       "      <td>1.163678</td>\n",
       "      <td>4.858794</td>\n",
       "      <td>130.595027</td>\n",
       "    </tr>\n",
       "    <tr>\n",
       "      <th>max</th>\n",
       "      <td>7.238262</td>\n",
       "      <td>7.844801</td>\n",
       "      <td>16.739402</td>\n",
       "      <td>190.029838</td>\n",
       "    </tr>\n",
       "  </tbody>\n",
       "</table>\n",
       "</div>"
      ],
      "text/plain": [
       "                  f0             f1             f2        product\n",
       "count  100000.000000  100000.000000  100000.000000  100000.000000\n",
       "mean        0.002023      -0.002081       2.495128      95.000000\n",
       "std         1.732045       1.730417       3.473445      44.749921\n",
       "min        -8.760004      -7.084020     -11.970335       0.000000\n",
       "25%        -1.162288      -1.174820       0.130359      59.450441\n",
       "50%         0.009424      -0.009482       2.484236      94.925613\n",
       "75%         1.158535       1.163678       4.858794     130.595027\n",
       "max         7.238262       7.844801      16.739402     190.029838"
      ]
     },
     "execution_count": 24,
     "metadata": {},
     "output_type": "execute_result"
    }
   ],
   "source": [
    "df_3.describe()"
   ]
  },
  {
   "cell_type": "markdown",
   "metadata": {},
   "source": [
    "Проведем проверку на наличие явных дубликатов: "
   ]
  },
  {
   "cell_type": "code",
   "execution_count": 25,
   "metadata": {},
   "outputs": [
    {
     "data": {
      "text/plain": [
       "0"
      ]
     },
     "execution_count": 25,
     "metadata": {},
     "output_type": "execute_result"
    }
   ],
   "source": [
    "df_3.duplicated().sum()"
   ]
  },
  {
   "cell_type": "code",
   "execution_count": 26,
   "metadata": {},
   "outputs": [
    {
     "data": {
      "text/html": [
       "<div>\n",
       "<style scoped>\n",
       "    .dataframe tbody tr th:only-of-type {\n",
       "        vertical-align: middle;\n",
       "    }\n",
       "\n",
       "    .dataframe tbody tr th {\n",
       "        vertical-align: top;\n",
       "    }\n",
       "\n",
       "    .dataframe thead th {\n",
       "        text-align: right;\n",
       "    }\n",
       "</style>\n",
       "<table border=\"1\" class=\"dataframe\">\n",
       "  <thead>\n",
       "    <tr style=\"text-align: right;\">\n",
       "      <th></th>\n",
       "      <th>f0</th>\n",
       "      <th>f1</th>\n",
       "      <th>f2</th>\n",
       "      <th>product</th>\n",
       "    </tr>\n",
       "  </thead>\n",
       "  <tbody>\n",
       "    <tr>\n",
       "      <th>f0</th>\n",
       "      <td>1.000000</td>\n",
       "      <td>0.000528</td>\n",
       "      <td>-0.000448</td>\n",
       "      <td>-0.001987</td>\n",
       "    </tr>\n",
       "    <tr>\n",
       "      <th>f1</th>\n",
       "      <td>0.000528</td>\n",
       "      <td>1.000000</td>\n",
       "      <td>0.000779</td>\n",
       "      <td>-0.001012</td>\n",
       "    </tr>\n",
       "    <tr>\n",
       "      <th>f2</th>\n",
       "      <td>-0.000448</td>\n",
       "      <td>0.000779</td>\n",
       "      <td>1.000000</td>\n",
       "      <td>0.445871</td>\n",
       "    </tr>\n",
       "    <tr>\n",
       "      <th>product</th>\n",
       "      <td>-0.001987</td>\n",
       "      <td>-0.001012</td>\n",
       "      <td>0.445871</td>\n",
       "      <td>1.000000</td>\n",
       "    </tr>\n",
       "  </tbody>\n",
       "</table>\n",
       "</div>"
      ],
      "text/plain": [
       "               f0        f1        f2   product\n",
       "f0       1.000000  0.000528 -0.000448 -0.001987\n",
       "f1       0.000528  1.000000  0.000779 -0.001012\n",
       "f2      -0.000448  0.000779  1.000000  0.445871\n",
       "product -0.001987 -0.001012  0.445871  1.000000"
      ]
     },
     "execution_count": 26,
     "metadata": {},
     "output_type": "execute_result"
    }
   ],
   "source": [
    "df_3[['f0','f1','f2','product']].corr()"
   ]
  },
  {
   "cell_type": "code",
   "execution_count": 27,
   "metadata": {},
   "outputs": [
    {
     "name": "stdout",
     "output_type": "stream",
     "text": [
      "interval columns not set, guessing: ['f0', 'f1', 'f2', 'product']\n"
     ]
    },
    {
     "data": {
      "text/html": [
       "<div>\n",
       "<style scoped>\n",
       "    .dataframe tbody tr th:only-of-type {\n",
       "        vertical-align: middle;\n",
       "    }\n",
       "\n",
       "    .dataframe tbody tr th {\n",
       "        vertical-align: top;\n",
       "    }\n",
       "\n",
       "    .dataframe thead th {\n",
       "        text-align: right;\n",
       "    }\n",
       "</style>\n",
       "<table border=\"1\" class=\"dataframe\">\n",
       "  <thead>\n",
       "    <tr style=\"text-align: right;\">\n",
       "      <th></th>\n",
       "      <th>f0</th>\n",
       "      <th>f1</th>\n",
       "      <th>f2</th>\n",
       "      <th>product</th>\n",
       "    </tr>\n",
       "  </thead>\n",
       "  <tbody>\n",
       "    <tr>\n",
       "      <th>f0</th>\n",
       "      <td>1.000000</td>\n",
       "      <td>0.000000</td>\n",
       "      <td>0.000000</td>\n",
       "      <td>0.201068</td>\n",
       "    </tr>\n",
       "    <tr>\n",
       "      <th>f1</th>\n",
       "      <td>0.000000</td>\n",
       "      <td>1.000000</td>\n",
       "      <td>0.000000</td>\n",
       "      <td>0.221022</td>\n",
       "    </tr>\n",
       "    <tr>\n",
       "      <th>f2</th>\n",
       "      <td>0.000000</td>\n",
       "      <td>0.000000</td>\n",
       "      <td>1.000000</td>\n",
       "      <td>0.443287</td>\n",
       "    </tr>\n",
       "    <tr>\n",
       "      <th>product</th>\n",
       "      <td>0.201068</td>\n",
       "      <td>0.221022</td>\n",
       "      <td>0.443287</td>\n",
       "      <td>1.000000</td>\n",
       "    </tr>\n",
       "  </tbody>\n",
       "</table>\n",
       "</div>"
      ],
      "text/plain": [
       "               f0        f1        f2   product\n",
       "f0       1.000000  0.000000  0.000000  0.201068\n",
       "f1       0.000000  1.000000  0.000000  0.221022\n",
       "f2       0.000000  0.000000  1.000000  0.443287\n",
       "product  0.201068  0.221022  0.443287  1.000000"
      ]
     },
     "execution_count": 27,
     "metadata": {},
     "output_type": "execute_result"
    }
   ],
   "source": [
    "df_3[['f0','f1','f2','product']].phik_matrix()"
   ]
  },
  {
   "cell_type": "code",
   "execution_count": 28,
   "metadata": {},
   "outputs": [
    {
     "data": {
      "image/png": "[encoded data removed]",
      "text/plain": [
       "<Figure size 432x288 with 1 Axes>"
      ]
     },
     "metadata": {
      "needs_background": "light"
     },
     "output_type": "display_data"
    }
   ],
   "source": [
    "df_3['f0'].plot(kind='hist',grid=True,title='Признак \"f0\" третьего региона');"
   ]
  },
  {
   "cell_type": "code",
   "execution_count": 29,
   "metadata": {},
   "outputs": [
    {
     "data": {
      "image/png": "[encoded data removed]",
      "text/plain": [
       "<Figure size 432x288 with 1 Axes>"
      ]
     },
     "metadata": {
      "needs_background": "light"
     },
     "output_type": "display_data"
    }
   ],
   "source": [
    "df_3['f1'].plot(kind='hist',grid=True,title='Признак \"f1\" третьего региона');"
   ]
  },
  {
   "cell_type": "code",
   "execution_count": 30,
   "metadata": {},
   "outputs": [
    {
     "data": {
      "image/png": "[encoded data removed]",
      "text/plain": [
       "<Figure size 432x288 with 1 Axes>"
      ]
     },
     "metadata": {
      "needs_background": "light"
     },
     "output_type": "display_data"
    }
   ],
   "source": [
    "df_3['f2'].plot(kind='hist',grid=True,title='Признак \"f2\" третьего региона');"
   ]
  },
  {
   "cell_type": "code",
   "execution_count": 31,
   "metadata": {},
   "outputs": [
    {
     "data": {
      "image/png": "[encoded data removed]",
      "text/plain": [
       "<Figure size 432x288 with 1 Axes>"
      ]
     },
     "metadata": {
      "needs_background": "light"
     },
     "output_type": "display_data"
    }
   ],
   "source": [
    "df_3['product'].plot(kind='hist',grid=True,title='Целевой признак \"product\" третьего региона');\n",
    "plt.xlabel('тыс.бар.');"
   ]
  },
  {
   "cell_type": "markdown",
   "metadata": {},
   "source": [
    "## Обучение и проверка модели"
   ]
  },
  {
   "cell_type": "code",
   "execution_count": 32,
   "metadata": {},
   "outputs": [],
   "source": [
    "def modeling(df):\n",
    "    \n",
    "    # выделяем целевой признак и признаки для прогноза\n",
    "    X=df.drop(['id','product'], axis=1)\n",
    "    y=df['product']\n",
    "    \n",
    "    # делим выборку на тренировочную и валидационную выборки в соотношении 75:25\n",
    "    X_train, X_valid, y_train, y_valid = train_test_split(X, y, test_size=0.25, random_state=42)\n",
    "    \n",
    "    # обучаем модель линейной регрессии\n",
    "    model = LinearRegression()\n",
    "    model.fit(X_train, y_train)\n",
    "    pred = model.predict(X_valid)\n",
    "    mse = mean_squared_error(pred, y_valid)\n",
    "    rmse = np.sqrt(mse)\n",
    "    mean_values=pred.mean()\n",
    "    return y_valid, pred, mse, rmse, mean_values"
   ]
  },
  {
   "cell_type": "markdown",
   "metadata": {},
   "source": [
    "#### Первый регион."
   ]
  },
  {
   "cell_type": "code",
   "execution_count": 33,
   "metadata": {},
   "outputs": [],
   "source": [
    "y_valid_1, pred_1, mse_1, rmse_1, mean_values_1 = modeling(df_1)"
   ]
  },
  {
   "cell_type": "code",
   "execution_count": 34,
   "metadata": {},
   "outputs": [
    {
     "name": "stdout",
     "output_type": "stream",
     "text": [
      "RMSE_1: 37.75660035026169\n",
      "Средний запас предсказанного сырья: 92.39879990657768 тыс.бар.\n"
     ]
    }
   ],
   "source": [
    "print('RMSE_1:', rmse_1)\n",
    "print('Средний запас предсказанного сырья:', mean_values_1,'тыс.бар.')"
   ]
  },
  {
   "cell_type": "markdown",
   "metadata": {},
   "source": [
    "#### Второй регион."
   ]
  },
  {
   "cell_type": "code",
   "execution_count": 35,
   "metadata": {},
   "outputs": [],
   "source": [
    "y_valid_2, pred_2, mse_2, rmse_2, mean_values_2 = modeling(df_2)"
   ]
  },
  {
   "cell_type": "code",
   "execution_count": 36,
   "metadata": {},
   "outputs": [
    {
     "name": "stdout",
     "output_type": "stream",
     "text": [
      "RMSE_2: 0.890280100102884\n",
      "Средний запас предсказанного сырья: 68.71287803913762 тыс.бар.\n"
     ]
    }
   ],
   "source": [
    "print('RMSE_2:', rmse_2)\n",
    "print('Средний запас предсказанного сырья:', mean_values_2,'тыс.бар.')"
   ]
  },
  {
   "cell_type": "markdown",
   "metadata": {},
   "source": [
    "#### Третий регион."
   ]
  },
  {
   "cell_type": "code",
   "execution_count": 37,
   "metadata": {},
   "outputs": [],
   "source": [
    "y_valid_3, pred_3, mse_3, rmse_3, mean_values_3 = modeling(df_3)"
   ]
  },
  {
   "cell_type": "code",
   "execution_count": 38,
   "metadata": {},
   "outputs": [
    {
     "name": "stdout",
     "output_type": "stream",
     "text": [
      "RMSE_3: 40.145872311342174\n",
      "Средний запас предсказанного сырья: 94.77102387765939 тыс.бар.\n"
     ]
    }
   ],
   "source": [
    "print('RMSE_3:', rmse_3)\n",
    "print('Средний запас предсказанного сырья:', mean_values_3,'тыс.бар.')"
   ]
  },
  {
   "cell_type": "markdown",
   "metadata": {},
   "source": [
    "Средний запас сырья по предсказанным данным больше у третьего региона, но среднеквадратическая ошибка здесь так же самая большаяя."
   ]
  },
  {
   "cell_type": "markdown",
   "metadata": {},
   "source": [
    "## Подготовка к расчёту прибыли"
   ]
  },
  {
   "cell_type": "markdown",
   "metadata": {},
   "source": [
    "#### Функция для расчета прибыли."
   ]
  },
  {
   "cell_type": "code",
   "execution_count": 39,
   "metadata": {},
   "outputs": [
    {
     "name": "stdout",
     "output_type": "stream",
     "text": [
      "111.0 тыс.бар.\n"
     ]
    }
   ],
   "source": [
    "min_price=np.round(BUDGET/(BARREL_PRICE*TOP_HOLES)) \n",
    "print(min_price,'тыс.бар.')"
   ]
  },
  {
   "cell_type": "markdown",
   "metadata": {},
   "source": [
    "- Достаточный объём сырья для безубыточной разработки новой скважины= 111 тыс.баррелей"
   ]
  },
  {
   "cell_type": "markdown",
   "metadata": {},
   "source": [
    "#### Сравним средним запас по предсказаниям модели в каждом регионе  с достаточным объёмом сырья для безубыточной разработки новой скважины."
   ]
  },
  {
   "cell_type": "code",
   "execution_count": 40,
   "metadata": {},
   "outputs": [
    {
     "name": "stdout",
     "output_type": "stream",
     "text": [
      "Достаточный объём: 111.0 тыс.бар.\n",
      "Первый регион: 92.33 тыс.бар.\n",
      "Второй регион: 68.73 тыс.бар.\n",
      "Третий регион: 95.15 тыс.бар.\n"
     ]
    }
   ],
   "source": [
    "print('Достаточный объём:', min_price,'тыс.бар.')\n",
    "print('Первый регион:', np.round(y_valid_1.mean(),decimals=2),'тыс.бар.')\n",
    "print('Второй регион:', np.round(y_valid_2.mean(),decimals=2),'тыс.бар.')\n",
    "print('Третий регион:', np.round(y_valid_3.mean(),decimals=2),'тыс.бар.')"
   ]
  },
  {
   "cell_type": "markdown",
   "metadata": {},
   "source": [
    "- Во всех регионах средний запас сырья по предсказаниям модели меньше достаточного объёма сырья для безубыточной разработки новой скважины."
   ]
  },
  {
   "cell_type": "markdown",
   "metadata": {},
   "source": [
    "## Расчёт прибыли и рисков "
   ]
  },
  {
   "cell_type": "markdown",
   "metadata": {},
   "source": [
    "Подготовка типов данных:"
   ]
  },
  {
   "cell_type": "code",
   "execution_count": 41,
   "metadata": {},
   "outputs": [],
   "source": [
    "def type_series(y, pred):\n",
    "    y=y.reset_index(drop=True)\n",
    "    pred=pd.Series(pred)\n",
    "    return y, pred"
   ]
  },
  {
   "cell_type": "code",
   "execution_count": 42,
   "metadata": {},
   "outputs": [],
   "source": [
    "y_valid_1, pred_1=type_series(y_valid_1, pred_1)"
   ]
  },
  {
   "cell_type": "code",
   "execution_count": 43,
   "metadata": {},
   "outputs": [],
   "source": [
    "y_valid_2, pred_2=type_series(y_valid_2, pred_2)"
   ]
  },
  {
   "cell_type": "code",
   "execution_count": 44,
   "metadata": {},
   "outputs": [],
   "source": [
    "y_valid_3, pred_3=type_series(y_valid_3, pred_3)"
   ]
  },
  {
   "cell_type": "markdown",
   "metadata": {},
   "source": [
    "#### Посчитаем прибыль по выбранным скважинам и предсказаниям модели."
   ]
  },
  {
   "cell_type": "code",
   "execution_count": 45,
   "metadata": {},
   "outputs": [],
   "source": [
    "#функция для расчёта прибыли по выбранным скважинам и предсказаниям модели\n",
    "def profit(y: pd.Series, pred: pd.Series)-> int:\n",
    "    pred_top = pred.sort_values(ascending = False)\n",
    "    selected = y[pred_top.index][:TOP_HOLES]\n",
    "    value = selected.sum()\n",
    "    profit = value*BARREL_PRICE-BUDGET \n",
    "    return profit"
   ]
  },
  {
   "cell_type": "markdown",
   "metadata": {},
   "source": [
    "Первый регион"
   ]
  },
  {
   "cell_type": "code",
   "execution_count": 46,
   "metadata": {},
   "outputs": [
    {
     "name": "stdout",
     "output_type": "stream",
     "text": [
      "3359.14 ,млн.руб.\n"
     ]
    }
   ],
   "source": [
    "print(np.round(profit(y_valid_1, pred_1)/1000000,decimals=2),',млн.руб.')"
   ]
  },
  {
   "cell_type": "markdown",
   "metadata": {},
   "source": [
    "Второй регион"
   ]
  },
  {
   "cell_type": "code",
   "execution_count": 47,
   "metadata": {},
   "outputs": [
    {
     "name": "stdout",
     "output_type": "stream",
     "text": [
      "2415.09 ,млн.руб.\n"
     ]
    }
   ],
   "source": [
    "print(np.round(profit(y_valid_2, pred_2)/1000000,decimals=2),',млн.руб.')"
   ]
  },
  {
   "cell_type": "markdown",
   "metadata": {},
   "source": [
    "Третий регион"
   ]
  },
  {
   "cell_type": "code",
   "execution_count": 48,
   "metadata": {},
   "outputs": [
    {
     "name": "stdout",
     "output_type": "stream",
     "text": [
      "2598.57 ,млн.руб.\n"
     ]
    }
   ],
   "source": [
    "print(np.round(profit(y_valid_3, pred_3)/1000000,decimals=2),',млн.руб.')"
   ]
  },
  {
   "cell_type": "markdown",
   "metadata": {},
   "source": [
    "#### Применим технику Bootstrap c 1000 выборок, чтобы найти распределение прибыли. Также найдем среднюю прибыль, 95%-ый доверительный интервал и риск убытков."
   ]
  },
  {
   "cell_type": "code",
   "execution_count": 49,
   "metadata": {},
   "outputs": [],
   "source": [
    "def bootstrap(y_valid: pd.Series , pred: pd.Series):\n",
    "    state = np.random.RandomState(12345)\n",
    "    values_profit = []\n",
    "    for i in range(BOOTSTRAP_SIZE):\n",
    "        y_subsample = y_valid.sample(n = HOLES, replace = True, random_state=state)\n",
    "        pred_subsumple = pred[y_subsample.index]\n",
    "        pred_subsumple = pred_subsumple.reset_index(drop = True)\n",
    "        y_subsample = y_subsample.reset_index(drop = True)\n",
    "        profit_dist = profit(y_subsample, pred_subsumple)\n",
    "        values_profit.append(profit_dist/1000000)\n",
    "    values_profit = pd.Series(values_profit)    \n",
    "    profit_mean = np.round(values_profit.mean(),decimals=2),\n",
    "    lower = np.round(values_profit.quantile(0.25),decimals=2),\n",
    "    higher = np.round(values_profit.quantile(0.975),decimals=2),\n",
    "    risk = ((values_profit < 0).mean())*100\n",
    "    return values_profit, profit_mean, lower, higher, risk"
   ]
  },
  {
   "cell_type": "markdown",
   "metadata": {},
   "source": [
    "#### Первый регион"
   ]
  },
  {
   "cell_type": "code",
   "execution_count": 50,
   "metadata": {},
   "outputs": [],
   "source": [
    "values_profit_1, profit_mean_1, lower_1, higher_1, risk_1 = bootstrap(y_valid_1,pred_1)"
   ]
  },
  {
   "cell_type": "code",
   "execution_count": 51,
   "metadata": {},
   "outputs": [
    {
     "data": {
      "image/png": "[encoded data removed]",
      "text/plain": [
       "<Figure size 432x288 with 1 Axes>"
      ]
     },
     "metadata": {
      "needs_background": "light"
     },
     "output_type": "display_data"
    }
   ],
   "source": [
    "values_profit_1.plot(kind='hist',title='Распределение прибыли в первом регионе',grid=True);\n",
    "plt.xlabel('млн.руб.');"
   ]
  },
  {
   "cell_type": "markdown",
   "metadata": {},
   "source": [
    "#### Второй регион"
   ]
  },
  {
   "cell_type": "code",
   "execution_count": 52,
   "metadata": {},
   "outputs": [],
   "source": [
    "values_profit_2, profit_mean_2, lower_2, higher_2, risk_2 = bootstrap(y_valid_2,pred_2)"
   ]
  },
  {
   "cell_type": "code",
   "execution_count": 53,
   "metadata": {},
   "outputs": [
    {
     "data": {
      "image/png": "[encoded data removed]",
      "text/plain": [
       "<Figure size 432x288 with 1 Axes>"
      ]
     },
     "metadata": {
      "needs_background": "light"
     },
     "output_type": "display_data"
    }
   ],
   "source": [
    "values_profit_1.plot(kind='hist',title='Распределение прибыли во втором регионе',grid=True);\n",
    "plt.xlabel('млн.руб.');"
   ]
  },
  {
   "cell_type": "markdown",
   "metadata": {},
   "source": [
    "#### Третий регион"
   ]
  },
  {
   "cell_type": "code",
   "execution_count": 54,
   "metadata": {},
   "outputs": [],
   "source": [
    "values_profit_3, profit_mean_3, lower_3, higher_3, risk_3 = bootstrap(y_valid_3,pred_3)"
   ]
  },
  {
   "cell_type": "code",
   "execution_count": 55,
   "metadata": {},
   "outputs": [
    {
     "data": {
      "image/png": "[encoded data removed]",
      "text/plain": [
       "<Figure size 432x288 with 1 Axes>"
      ]
     },
     "metadata": {
      "needs_background": "light"
     },
     "output_type": "display_data"
    }
   ],
   "source": [
    "values_profit_3.plot(kind='hist',title='Распределение прибыли в третьем регионе',grid=True);\n",
    "plt.xlabel('млн.руб.');"
   ]
  },
  {
   "cell_type": "code",
   "execution_count": 56,
   "metadata": {},
   "outputs": [],
   "source": [
    "final=pd.DataFrame(\n",
    "                  [\n",
    "                   [profit_mean_1, lower_1, higher_1, risk_1],\n",
    "                   [profit_mean_2, lower_2, higher_2, risk_2],\n",
    "                   [profit_mean_3, lower_3, higher_3, risk_3]],\n",
    "                   index=['Первый регион','Второй регион','Третий регион'],\n",
    "                   columns=['Средняя прибыль,млн.руб','Нижняя граница доверительно интервала,млн.руб.',\n",
    "                            'Верхний граница доверительно интервала,млн.руб.','Риск убытков,%'\n",
    "                                                                                                        ]\n",
    "                                                                                                        )"
   ]
  },
  {
   "cell_type": "code",
   "execution_count": 57,
   "metadata": {},
   "outputs": [
    {
     "data": {
      "text/html": [
       "<div>\n",
       "<style scoped>\n",
       "    .dataframe tbody tr th:only-of-type {\n",
       "        vertical-align: middle;\n",
       "    }\n",
       "\n",
       "    .dataframe tbody tr th {\n",
       "        vertical-align: top;\n",
       "    }\n",
       "\n",
       "    .dataframe thead th {\n",
       "        text-align: right;\n",
       "    }\n",
       "</style>\n",
       "<table border=\"1\" class=\"dataframe\">\n",
       "  <thead>\n",
       "    <tr style=\"text-align: right;\">\n",
       "      <th></th>\n",
       "      <th>Средняя прибыль,млн.руб</th>\n",
       "      <th>Нижняя граница доверительно интервала,млн.руб.</th>\n",
       "      <th>Верхний граница доверительно интервала,млн.руб.</th>\n",
       "      <th>Риск убытков,%</th>\n",
       "    </tr>\n",
       "  </thead>\n",
       "  <tbody>\n",
       "    <tr>\n",
       "      <th>Первый регион</th>\n",
       "      <td>(406.28,)</td>\n",
       "      <td>(245.81,)</td>\n",
       "      <td>(911.74,)</td>\n",
       "      <td>6.7</td>\n",
       "    </tr>\n",
       "    <tr>\n",
       "      <th>Второй регион</th>\n",
       "      <td>(432.62,)</td>\n",
       "      <td>(299.19,)</td>\n",
       "      <td>(815.97,)</td>\n",
       "      <td>1.9</td>\n",
       "    </tr>\n",
       "    <tr>\n",
       "      <th>Третий регион</th>\n",
       "      <td>(377.36,)</td>\n",
       "      <td>(183.72,)</td>\n",
       "      <td>(901.77,)</td>\n",
       "      <td>7.4</td>\n",
       "    </tr>\n",
       "  </tbody>\n",
       "</table>\n",
       "</div>"
      ],
      "text/plain": [
       "              Средняя прибыль,млн.руб  \\\n",
       "Первый регион               (406.28,)   \n",
       "Второй регион               (432.62,)   \n",
       "Третий регион               (377.36,)   \n",
       "\n",
       "              Нижняя граница доверительно интервала,млн.руб.  \\\n",
       "Первый регион                                      (245.81,)   \n",
       "Второй регион                                      (299.19,)   \n",
       "Третий регион                                      (183.72,)   \n",
       "\n",
       "              Верхний граница доверительно интервала,млн.руб.  Риск убытков,%  \n",
       "Первый регион                                       (911.74,)             6.7  \n",
       "Второй регион                                       (815.97,)             1.9  \n",
       "Третий регион                                       (901.77,)             7.4  "
      ]
     },
     "metadata": {},
     "output_type": "display_data"
    }
   ],
   "source": [
    "display(final)"
   ]
  },
  {
   "cell_type": "code",
   "execution_count": null,
   "metadata": {},
   "outputs": [],
   "source": []
  },
  {
   "cell_type": "markdown",
   "metadata": {},
   "source": [
    "### Вывод:<br>\n",
    "В рамках данного исследования была проведена подготовка данных, обучена модель линейной регрессии и сделан прогноз запасов для скважин из трёх регионов:<br> \n",
    "* Регион 1. Средний запас сырья: 92.33 тыс. баррелей*   \n",
    "* Регион 2. Средний запас сырья: 68.73 тыс. баррелей*  \n",
    "* Регион 3. Средний запас сырья: 95.15 тыс. баррелей*  \n",
    "Достаточный объём: 1111.0\n",
    "\n",
    "Достаточный объём сырья для безубыточной разработки - новой скважины равен 111 тыс. барреля.\n",
    "\n",
    "В каждом из трёх регионов средний запас сырья скважины меньше полученного значения достаточного объёма сырья.\n",
    "\n",
    "#### Прибыль по выбранным скважинам и предсказаниям модели. <br>\n",
    "\n",
    " - Регион 1- 3359,14 ,млн.руб.\n",
    " - Регион 2- 2415 ,млн.руб. \n",
    " - Реuион 3- 2598,57 ,млн.руб."
   ]
  },
  {
   "cell_type": "markdown",
   "metadata": {},
   "source": [
    "#### Применили технику Bootstrap с 1000 выборок, для нахождения распределение прибыли. <br>"
   ]
  },
  {
   "cell_type": "code",
   "execution_count": 58,
   "metadata": {},
   "outputs": [
    {
     "data": {
      "text/html": [
       "<div>\n",
       "<style scoped>\n",
       "    .dataframe tbody tr th:only-of-type {\n",
       "        vertical-align: middle;\n",
       "    }\n",
       "\n",
       "    .dataframe tbody tr th {\n",
       "        vertical-align: top;\n",
       "    }\n",
       "\n",
       "    .dataframe thead th {\n",
       "        text-align: right;\n",
       "    }\n",
       "</style>\n",
       "<table border=\"1\" class=\"dataframe\">\n",
       "  <thead>\n",
       "    <tr style=\"text-align: right;\">\n",
       "      <th></th>\n",
       "      <th>Средняя прибыль,млн.руб</th>\n",
       "      <th>Нижняя граница доверительно интервала,млн.руб.</th>\n",
       "      <th>Верхний граница доверительно интервала,млн.руб.</th>\n",
       "      <th>Риск убытков,%</th>\n",
       "    </tr>\n",
       "  </thead>\n",
       "  <tbody>\n",
       "    <tr>\n",
       "      <th>Первый регион</th>\n",
       "      <td>(406.28,)</td>\n",
       "      <td>(245.81,)</td>\n",
       "      <td>(911.74,)</td>\n",
       "      <td>6.7</td>\n",
       "    </tr>\n",
       "    <tr>\n",
       "      <th>Второй регион</th>\n",
       "      <td>(432.62,)</td>\n",
       "      <td>(299.19,)</td>\n",
       "      <td>(815.97,)</td>\n",
       "      <td>1.9</td>\n",
       "    </tr>\n",
       "    <tr>\n",
       "      <th>Третий регион</th>\n",
       "      <td>(377.36,)</td>\n",
       "      <td>(183.72,)</td>\n",
       "      <td>(901.77,)</td>\n",
       "      <td>7.4</td>\n",
       "    </tr>\n",
       "  </tbody>\n",
       "</table>\n",
       "</div>"
      ],
      "text/plain": [
       "              Средняя прибыль,млн.руб  \\\n",
       "Первый регион               (406.28,)   \n",
       "Второй регион               (432.62,)   \n",
       "Третий регион               (377.36,)   \n",
       "\n",
       "              Нижняя граница доверительно интервала,млн.руб.  \\\n",
       "Первый регион                                      (245.81,)   \n",
       "Второй регион                                      (299.19,)   \n",
       "Третий регион                                      (183.72,)   \n",
       "\n",
       "              Верхний граница доверительно интервала,млн.руб.  Риск убытков,%  \n",
       "Первый регион                                       (911.74,)             6.7  \n",
       "Второй регион                                       (815.97,)             1.9  \n",
       "Третий регион                                       (901.77,)             7.4  "
      ]
     },
     "metadata": {},
     "output_type": "display_data"
    }
   ],
   "source": [
    "display(final)"
   ]
  },
  {
   "cell_type": "markdown",
   "metadata": {},
   "source": [
    "На основании полученных данных можно сделать вывод, что регион 2 является наиболее привлекательным для разработки. Самая высокая прибыль лучших месторождений и наименьший риск получения убытков..  \n",
    "\n",
    "Данный регион рекомендован к освоению.  "
   ]
  }
 ],
 "metadata": {
  "ExecuteTimeLog": [
   {
    "duration": 1620,
    "start_time": "2022-12-12T16:32:46.795Z"
   },
   {
    "duration": 188,
    "start_time": "2022-12-12T16:32:48.416Z"
   },
   {
    "duration": 0,
    "start_time": "2022-12-12T16:32:48.608Z"
   },
   {
    "duration": 0,
    "start_time": "2022-12-12T16:32:48.609Z"
   },
   {
    "duration": 0,
    "start_time": "2022-12-12T16:32:48.610Z"
   },
   {
    "duration": 0,
    "start_time": "2022-12-12T16:32:48.611Z"
   },
   {
    "duration": 0,
    "start_time": "2022-12-12T16:32:48.612Z"
   },
   {
    "duration": 0,
    "start_time": "2022-12-12T16:32:48.613Z"
   },
   {
    "duration": 0,
    "start_time": "2022-12-12T16:32:48.622Z"
   },
   {
    "duration": 0,
    "start_time": "2022-12-12T16:32:48.623Z"
   },
   {
    "duration": 0,
    "start_time": "2022-12-12T16:32:48.625Z"
   },
   {
    "duration": 0,
    "start_time": "2022-12-12T16:32:48.626Z"
   },
   {
    "duration": 0,
    "start_time": "2022-12-12T16:32:48.628Z"
   },
   {
    "duration": 0,
    "start_time": "2022-12-12T16:32:48.629Z"
   },
   {
    "duration": 0,
    "start_time": "2022-12-12T16:32:48.630Z"
   },
   {
    "duration": 0,
    "start_time": "2022-12-12T16:32:48.631Z"
   },
   {
    "duration": 0,
    "start_time": "2022-12-12T16:32:48.633Z"
   },
   {
    "duration": 0,
    "start_time": "2022-12-12T16:32:48.634Z"
   },
   {
    "duration": 0,
    "start_time": "2022-12-12T16:32:48.635Z"
   },
   {
    "duration": 0,
    "start_time": "2022-12-12T16:32:48.637Z"
   },
   {
    "duration": 0,
    "start_time": "2022-12-12T16:32:48.638Z"
   },
   {
    "duration": 0,
    "start_time": "2022-12-12T16:32:48.639Z"
   },
   {
    "duration": 0,
    "start_time": "2022-12-12T16:32:48.641Z"
   },
   {
    "duration": 0,
    "start_time": "2022-12-12T16:32:48.642Z"
   },
   {
    "duration": 0,
    "start_time": "2022-12-12T16:32:48.643Z"
   },
   {
    "duration": 0,
    "start_time": "2022-12-12T16:32:48.645Z"
   },
   {
    "duration": 0,
    "start_time": "2022-12-12T16:32:48.646Z"
   },
   {
    "duration": 0,
    "start_time": "2022-12-12T16:32:48.647Z"
   },
   {
    "duration": 0,
    "start_time": "2022-12-12T16:32:48.649Z"
   },
   {
    "duration": 0,
    "start_time": "2022-12-12T16:32:48.650Z"
   },
   {
    "duration": 0,
    "start_time": "2022-12-12T16:32:48.651Z"
   },
   {
    "duration": 0,
    "start_time": "2022-12-12T16:32:48.652Z"
   },
   {
    "duration": 0,
    "start_time": "2022-12-12T16:32:48.653Z"
   },
   {
    "duration": 0,
    "start_time": "2022-12-12T16:32:48.655Z"
   },
   {
    "duration": 0,
    "start_time": "2022-12-12T16:32:48.656Z"
   },
   {
    "duration": 0,
    "start_time": "2022-12-12T16:32:48.657Z"
   },
   {
    "duration": 0,
    "start_time": "2022-12-12T16:32:48.658Z"
   },
   {
    "duration": 0,
    "start_time": "2022-12-12T16:32:48.659Z"
   },
   {
    "duration": 0,
    "start_time": "2022-12-12T16:32:48.660Z"
   },
   {
    "duration": 0,
    "start_time": "2022-12-12T16:32:48.661Z"
   },
   {
    "duration": 0,
    "start_time": "2022-12-12T16:32:48.725Z"
   },
   {
    "duration": 0,
    "start_time": "2022-12-12T16:32:48.726Z"
   },
   {
    "duration": 0,
    "start_time": "2022-12-12T16:32:48.727Z"
   },
   {
    "duration": 0,
    "start_time": "2022-12-12T16:32:48.728Z"
   },
   {
    "duration": 0,
    "start_time": "2022-12-12T16:32:48.729Z"
   },
   {
    "duration": 0,
    "start_time": "2022-12-12T16:32:48.730Z"
   },
   {
    "duration": 1606,
    "start_time": "2022-12-12T16:33:31.543Z"
   },
   {
    "duration": 398,
    "start_time": "2022-12-12T16:33:33.151Z"
   },
   {
    "duration": 29,
    "start_time": "2022-12-12T16:33:33.551Z"
   },
   {
    "duration": 57,
    "start_time": "2022-12-12T16:33:33.582Z"
   },
   {
    "duration": 46,
    "start_time": "2022-12-12T16:33:33.640Z"
   },
   {
    "duration": 11,
    "start_time": "2022-12-12T16:33:33.687Z"
   },
   {
    "duration": 357,
    "start_time": "2022-12-12T16:33:33.699Z"
   },
   {
    "duration": 350,
    "start_time": "2022-12-12T16:33:34.058Z"
   },
   {
    "duration": 177,
    "start_time": "2022-12-12T16:33:34.410Z"
   },
   {
    "duration": 33,
    "start_time": "2022-12-12T16:33:34.590Z"
   },
   {
    "duration": 34,
    "start_time": "2022-12-12T16:33:34.625Z"
   },
   {
    "duration": 62,
    "start_time": "2022-12-12T16:33:34.661Z"
   },
   {
    "duration": 13,
    "start_time": "2022-12-12T16:33:34.724Z"
   },
   {
    "duration": 302,
    "start_time": "2022-12-12T16:33:34.739Z"
   },
   {
    "duration": 321,
    "start_time": "2022-12-12T16:33:35.043Z"
   },
   {
    "duration": 256,
    "start_time": "2022-12-12T16:33:35.366Z"
   },
   {
    "duration": 26,
    "start_time": "2022-12-12T16:33:35.623Z"
   },
   {
    "duration": 38,
    "start_time": "2022-12-12T16:33:35.651Z"
   },
   {
    "duration": 74,
    "start_time": "2022-12-12T16:33:35.692Z"
   },
   {
    "duration": 15,
    "start_time": "2022-12-12T16:33:35.767Z"
   },
   {
    "duration": 345,
    "start_time": "2022-12-12T16:33:35.784Z"
   },
   {
    "duration": 330,
    "start_time": "2022-12-12T16:33:36.130Z"
   },
   {
    "duration": 184,
    "start_time": "2022-12-12T16:33:36.461Z"
   },
   {
    "duration": 4,
    "start_time": "2022-12-12T16:33:36.647Z"
   },
   {
    "duration": 101,
    "start_time": "2022-12-12T16:33:36.653Z"
   },
   {
    "duration": 65,
    "start_time": "2022-12-12T16:33:36.756Z"
   },
   {
    "duration": 300,
    "start_time": "2022-12-12T16:33:36.823Z"
   },
   {
    "duration": 3,
    "start_time": "2022-12-12T16:33:37.127Z"
   },
   {
    "duration": 409,
    "start_time": "2022-12-12T16:33:37.131Z"
   },
   {
    "duration": 5,
    "start_time": "2022-12-12T16:33:37.621Z"
   },
   {
    "duration": 95,
    "start_time": "2022-12-12T16:33:37.628Z"
   },
   {
    "duration": 6,
    "start_time": "2022-12-12T16:33:37.725Z"
   },
   {
    "duration": 11,
    "start_time": "2022-12-12T16:33:37.732Z"
   },
   {
    "duration": 4,
    "start_time": "2022-12-12T16:33:37.745Z"
   },
   {
    "duration": 9,
    "start_time": "2022-12-12T16:33:37.751Z"
   },
   {
    "duration": 15,
    "start_time": "2022-12-12T16:33:37.761Z"
   },
   {
    "duration": 9,
    "start_time": "2022-12-12T16:33:37.778Z"
   },
   {
    "duration": 8,
    "start_time": "2022-12-12T16:33:37.788Z"
   },
   {
    "duration": 11,
    "start_time": "2022-12-12T16:33:37.797Z"
   },
   {
    "duration": 8,
    "start_time": "2022-12-12T16:33:37.822Z"
   },
   {
    "duration": 9,
    "start_time": "2022-12-12T16:33:37.831Z"
   },
   {
    "duration": 5,
    "start_time": "2022-12-12T16:33:37.841Z"
   },
   {
    "duration": 7,
    "start_time": "2022-12-12T16:33:37.847Z"
   },
   {
    "duration": 1224,
    "start_time": "2022-12-12T16:33:37.857Z"
   },
   {
    "duration": 1146,
    "start_time": "2022-12-12T16:33:39.083Z"
   },
   {
    "duration": 1164,
    "start_time": "2022-12-12T16:33:40.230Z"
   },
   {
    "duration": 5,
    "start_time": "2022-12-12T16:35:50.302Z"
   },
   {
    "duration": 1139,
    "start_time": "2022-12-12T16:35:52.805Z"
   },
   {
    "duration": 1181,
    "start_time": "2022-12-12T16:35:58.101Z"
   },
   {
    "duration": 1195,
    "start_time": "2022-12-12T16:36:00.681Z"
   },
   {
    "duration": 1589,
    "start_time": "2022-12-12T16:39:11.583Z"
   },
   {
    "duration": 408,
    "start_time": "2022-12-12T16:39:13.175Z"
   },
   {
    "duration": 39,
    "start_time": "2022-12-12T16:39:13.585Z"
   },
   {
    "duration": 39,
    "start_time": "2022-12-12T16:39:13.626Z"
   },
   {
    "duration": 69,
    "start_time": "2022-12-12T16:39:13.667Z"
   },
   {
    "duration": 11,
    "start_time": "2022-12-12T16:39:13.737Z"
   },
   {
    "duration": 330,
    "start_time": "2022-12-12T16:39:13.750Z"
   },
   {
    "duration": 447,
    "start_time": "2022-12-12T16:39:14.084Z"
   },
   {
    "duration": 182,
    "start_time": "2022-12-12T16:39:14.533Z"
   },
   {
    "duration": 29,
    "start_time": "2022-12-12T16:39:14.724Z"
   },
   {
    "duration": 68,
    "start_time": "2022-12-12T16:39:14.755Z"
   },
   {
    "duration": 64,
    "start_time": "2022-12-12T16:39:14.825Z"
   },
   {
    "duration": 38,
    "start_time": "2022-12-12T16:39:14.891Z"
   },
   {
    "duration": 317,
    "start_time": "2022-12-12T16:39:14.931Z"
   },
   {
    "duration": 318,
    "start_time": "2022-12-12T16:39:15.250Z"
   },
   {
    "duration": 336,
    "start_time": "2022-12-12T16:39:15.570Z"
   },
   {
    "duration": 31,
    "start_time": "2022-12-12T16:39:15.908Z"
   },
   {
    "duration": 40,
    "start_time": "2022-12-12T16:39:15.941Z"
   },
   {
    "duration": 81,
    "start_time": "2022-12-12T16:39:15.983Z"
   },
   {
    "duration": 13,
    "start_time": "2022-12-12T16:39:16.066Z"
   },
   {
    "duration": 334,
    "start_time": "2022-12-12T16:39:16.081Z"
   },
   {
    "duration": 331,
    "start_time": "2022-12-12T16:39:16.422Z"
   },
   {
    "duration": 184,
    "start_time": "2022-12-12T16:39:16.754Z"
   },
   {
    "duration": 5,
    "start_time": "2022-12-12T16:39:16.941Z"
   },
   {
    "duration": 101,
    "start_time": "2022-12-12T16:39:16.947Z"
   },
   {
    "duration": 72,
    "start_time": "2022-12-12T16:39:17.053Z"
   },
   {
    "duration": 293,
    "start_time": "2022-12-12T16:39:17.129Z"
   },
   {
    "duration": 4,
    "start_time": "2022-12-12T16:39:17.426Z"
   },
   {
    "duration": 340,
    "start_time": "2022-12-12T16:39:17.431Z"
   },
   {
    "duration": 51,
    "start_time": "2022-12-12T16:39:17.773Z"
   },
   {
    "duration": 105,
    "start_time": "2022-12-12T16:39:17.829Z"
   },
   {
    "duration": 18,
    "start_time": "2022-12-12T16:39:17.937Z"
   },
   {
    "duration": 7,
    "start_time": "2022-12-12T16:39:17.957Z"
   },
   {
    "duration": 7,
    "start_time": "2022-12-12T16:39:17.966Z"
   },
   {
    "duration": 7,
    "start_time": "2022-12-12T16:39:17.975Z"
   },
   {
    "duration": 9,
    "start_time": "2022-12-12T16:39:17.984Z"
   },
   {
    "duration": 6,
    "start_time": "2022-12-12T16:39:17.995Z"
   },
   {
    "duration": 6,
    "start_time": "2022-12-12T16:39:18.003Z"
   },
   {
    "duration": 11,
    "start_time": "2022-12-12T16:39:18.010Z"
   },
   {
    "duration": 9,
    "start_time": "2022-12-12T16:39:18.023Z"
   },
   {
    "duration": 7,
    "start_time": "2022-12-12T16:39:18.034Z"
   },
   {
    "duration": 2,
    "start_time": "2022-12-12T16:39:18.043Z"
   },
   {
    "duration": 7,
    "start_time": "2022-12-12T16:39:18.046Z"
   },
   {
    "duration": 1426,
    "start_time": "2022-12-12T16:39:18.055Z"
   },
   {
    "duration": 1378,
    "start_time": "2022-12-12T16:39:19.483Z"
   },
   {
    "duration": 1419,
    "start_time": "2022-12-12T16:39:20.862Z"
   },
   {
    "duration": 2375,
    "start_time": "2022-12-13T21:12:50.556Z"
   },
   {
    "duration": 1641,
    "start_time": "2022-12-13T21:12:52.933Z"
   },
   {
    "duration": 3,
    "start_time": "2022-12-13T21:12:54.576Z"
   },
   {
    "duration": 432,
    "start_time": "2022-12-13T21:12:54.581Z"
   },
   {
    "duration": 35,
    "start_time": "2022-12-13T21:12:55.015Z"
   },
   {
    "duration": 37,
    "start_time": "2022-12-13T21:12:55.052Z"
   },
   {
    "duration": 67,
    "start_time": "2022-12-13T21:12:55.091Z"
   },
   {
    "duration": 19,
    "start_time": "2022-12-13T21:12:55.160Z"
   },
   {
    "duration": 305,
    "start_time": "2022-12-13T21:12:55.181Z"
   },
   {
    "duration": 192,
    "start_time": "2022-12-13T21:12:55.489Z"
   },
   {
    "duration": 153,
    "start_time": "2022-12-13T21:12:55.682Z"
   },
   {
    "duration": 162,
    "start_time": "2022-12-13T21:12:55.837Z"
   },
   {
    "duration": 189,
    "start_time": "2022-12-13T21:12:56.001Z"
   },
   {
    "duration": 24,
    "start_time": "2022-12-13T21:12:56.192Z"
   },
   {
    "duration": 51,
    "start_time": "2022-12-13T21:12:56.217Z"
   },
   {
    "duration": 46,
    "start_time": "2022-12-13T21:12:56.270Z"
   },
   {
    "duration": 21,
    "start_time": "2022-12-13T21:12:56.335Z"
   },
   {
    "duration": 314,
    "start_time": "2022-12-13T21:12:56.357Z"
   },
   {
    "duration": 182,
    "start_time": "2022-12-13T21:12:56.673Z"
   },
   {
    "duration": 230,
    "start_time": "2022-12-13T21:12:56.856Z"
   },
   {
    "duration": 167,
    "start_time": "2022-12-13T21:12:57.088Z"
   },
   {
    "duration": 181,
    "start_time": "2022-12-13T21:12:57.257Z"
   },
   {
    "duration": 24,
    "start_time": "2022-12-13T21:12:57.440Z"
   },
   {
    "duration": 35,
    "start_time": "2022-12-13T21:12:57.466Z"
   },
   {
    "duration": 68,
    "start_time": "2022-12-13T21:12:57.503Z"
   },
   {
    "duration": 21,
    "start_time": "2022-12-13T21:12:57.573Z"
   },
   {
    "duration": 316,
    "start_time": "2022-12-13T21:12:57.595Z"
   },
   {
    "duration": 181,
    "start_time": "2022-12-13T21:12:57.916Z"
   },
   {
    "duration": 168,
    "start_time": "2022-12-13T21:12:58.098Z"
   },
   {
    "duration": 163,
    "start_time": "2022-12-13T21:12:58.267Z"
   },
   {
    "duration": 176,
    "start_time": "2022-12-13T21:12:58.434Z"
   },
   {
    "duration": 4,
    "start_time": "2022-12-13T21:12:58.612Z"
   },
   {
    "duration": 39,
    "start_time": "2022-12-13T21:12:58.618Z"
   },
   {
    "duration": 80,
    "start_time": "2022-12-13T21:12:58.659Z"
   },
   {
    "duration": 123,
    "start_time": "2022-12-13T21:12:58.742Z"
   },
   {
    "duration": 72,
    "start_time": "2022-12-13T21:12:58.867Z"
   },
   {
    "duration": 127,
    "start_time": "2022-12-13T21:12:58.941Z"
   },
   {
    "duration": 68,
    "start_time": "2022-12-13T21:12:59.071Z"
   },
   {
    "duration": 110,
    "start_time": "2022-12-13T21:12:59.141Z"
   },
   {
    "duration": 18,
    "start_time": "2022-12-13T21:12:59.253Z"
   },
   {
    "duration": 9,
    "start_time": "2022-12-13T21:12:59.273Z"
   },
   {
    "duration": 15,
    "start_time": "2022-12-13T21:12:59.284Z"
   },
   {
    "duration": 10,
    "start_time": "2022-12-13T21:12:59.301Z"
   },
   {
    "duration": 21,
    "start_time": "2022-12-13T21:12:59.313Z"
   },
   {
    "duration": 14,
    "start_time": "2022-12-13T21:12:59.335Z"
   },
   {
    "duration": 14,
    "start_time": "2022-12-13T21:12:59.350Z"
   },
   {
    "duration": 9,
    "start_time": "2022-12-13T21:12:59.366Z"
   },
   {
    "duration": 9,
    "start_time": "2022-12-13T21:12:59.376Z"
   },
   {
    "duration": 6,
    "start_time": "2022-12-13T21:12:59.386Z"
   },
   {
    "duration": 1167,
    "start_time": "2022-12-13T21:12:59.394Z"
   },
   {
    "duration": 155,
    "start_time": "2022-12-13T21:13:00.564Z"
   },
   {
    "duration": 1179,
    "start_time": "2022-12-13T21:13:00.721Z"
   },
   {
    "duration": 170,
    "start_time": "2022-12-13T21:13:01.902Z"
   },
   {
    "duration": 1242,
    "start_time": "2022-12-13T21:13:02.074Z"
   },
   {
    "duration": 159,
    "start_time": "2022-12-13T21:13:03.318Z"
   },
   {
    "duration": 5,
    "start_time": "2022-12-13T21:13:03.479Z"
   },
   {
    "duration": 23,
    "start_time": "2022-12-13T21:13:03.485Z"
   },
   {
    "duration": 23,
    "start_time": "2022-12-13T21:13:03.510Z"
   },
   {
    "duration": 1383,
    "start_time": "2022-12-27T16:42:01.036Z"
   },
   {
    "duration": 0,
    "start_time": "2022-12-27T16:42:02.421Z"
   },
   {
    "duration": 0,
    "start_time": "2022-12-27T16:42:02.422Z"
   },
   {
    "duration": 8,
    "start_time": "2022-12-27T16:42:03.643Z"
   },
   {
    "duration": 10,
    "start_time": "2022-12-27T16:42:20.407Z"
   },
   {
    "duration": 2,
    "start_time": "2022-12-27T16:42:20.923Z"
   },
   {
    "duration": 8,
    "start_time": "2022-12-27T16:42:29.132Z"
   },
   {
    "duration": 7,
    "start_time": "2022-12-27T16:42:33.860Z"
   },
   {
    "duration": 270,
    "start_time": "2022-12-27T16:42:38.953Z"
   },
   {
    "duration": 3,
    "start_time": "2022-12-27T16:42:39.493Z"
   },
   {
    "duration": 728,
    "start_time": "2022-12-27T16:42:39.893Z"
   },
   {
    "duration": 24,
    "start_time": "2022-12-27T16:42:40.710Z"
   },
   {
    "duration": 33,
    "start_time": "2022-12-27T16:42:42.460Z"
   },
   {
    "duration": 11,
    "start_time": "2022-12-27T16:42:59.810Z"
   },
   {
    "duration": 8,
    "start_time": "2022-12-27T16:43:09.066Z"
   },
   {
    "duration": 5,
    "start_time": "2022-12-27T16:43:36.821Z"
   },
   {
    "duration": 9,
    "start_time": "2022-12-27T16:43:46.233Z"
   }
  ],
  "kernelspec": {
   "display_name": "Python 3 (ipykernel)",
   "language": "python",
   "name": "python3"
  },
  "language_info": {
   "codemirror_mode": {
    "name": "ipython",
    "version": 3
   },
   "file_extension": ".py",
   "mimetype": "text/x-python",
   "name": "python",
   "nbconvert_exporter": "python",
   "pygments_lexer": "ipython3",
   "version": "3.9.12"
  },
  "toc": {
   "base_numbering": 1,
   "nav_menu": {},
   "number_sections": true,
   "sideBar": true,
   "skip_h1_title": true,
   "title_cell": "Table of Contents",
   "title_sidebar": "Contents",
   "toc_cell": false,
   "toc_position": {},
   "toc_section_display": true,
   "toc_window_display": false
  }
 },
 "nbformat": 4,
 "nbformat_minor": 4
}
