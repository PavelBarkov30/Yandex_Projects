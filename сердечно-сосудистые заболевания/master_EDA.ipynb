{
 "cells": [
  {
   "cell_type": "markdown",
   "id": "4dd30fe0",
   "metadata": {},
   "source": [
    "# Проект по определению сердечно-сосудистых заболеваний "
   ]
  },
  {
   "cell_type": "code",
   "execution_count": 7,
   "id": "4e3989e2",
   "metadata": {},
   "outputs": [],
   "source": [
    "# импорт необходимых библиотек\n",
    "import pandas as pd\n",
    "import numpy as np\n",
    "import matplotlib.pyplot as plt\n",
    "import seaborn as sns\n",
    "from sklearn.preprocessing import StandardScaler, MinMaxScaler\n",
    "from sklearn.model_selection import GridSearchCV, train_test_split\n",
    "from sklearn.ensemble import RandomForestClassifier\n",
    "from sklearn.metrics import roc_auc_score, roc_curve, f1_score\n",
    "from sklearn.linear_model import LinearRegression, LogisticRegression\n",
    "import warnings"
   ]
  },
  {
   "cell_type": "code",
   "execution_count": 8,
   "id": "77642234",
   "metadata": {},
   "outputs": [],
   "source": [
    "warnings.filterwarnings('ignore')\n",
    "%matplotlib inline"
   ]
  },
  {
   "cell_type": "code",
   "execution_count": 9,
   "id": "d2004182",
   "metadata": {},
   "outputs": [],
   "source": [
    "df_train = pd.read_csv(r'C:\\Users\\pulka\\train.csv')\n",
    "df_test = pd.read_csv(r'C:\\Users\\pulka\\test.csv')\n"
   ]
  },
  {
   "cell_type": "code",
   "execution_count": 10,
   "id": "5c370f6e",
   "metadata": {},
   "outputs": [
    {
     "name": "stdout",
     "output_type": "stream",
     "text": [
      "<class 'pandas.core.frame.DataFrame'>\n",
      "RangeIndex: 70000 entries, 0 to 69999\n",
      "Data columns (total 13 columns):\n",
      " #   Column       Non-Null Count  Dtype  \n",
      "---  ------       --------------  -----  \n",
      " 0   id           70000 non-null  int64  \n",
      " 1   age          70000 non-null  int64  \n",
      " 2   gender       70000 non-null  int64  \n",
      " 3   height       70000 non-null  int64  \n",
      " 4   weight       70000 non-null  float64\n",
      " 5   ap_hi        70000 non-null  int64  \n",
      " 6   ap_lo        70000 non-null  int64  \n",
      " 7   cholesterol  70000 non-null  int64  \n",
      " 8   gluc         70000 non-null  int64  \n",
      " 9   smoke        70000 non-null  int64  \n",
      " 10  alco         70000 non-null  int64  \n",
      " 11  active       70000 non-null  int64  \n",
      " 12  cardio       70000 non-null  int64  \n",
      "dtypes: float64(1), int64(12)\n",
      "memory usage: 6.9 MB\n"
     ]
    },
    {
     "data": {
      "text/plain": [
       "None"
      ]
     },
     "metadata": {},
     "output_type": "display_data"
    },
    {
     "name": "stdout",
     "output_type": "stream",
     "text": [
      "<class 'pandas.core.frame.DataFrame'>\n",
      "RangeIndex: 30000 entries, 0 to 29999\n",
      "Data columns (total 12 columns):\n",
      " #   Column       Non-Null Count  Dtype  \n",
      "---  ------       --------------  -----  \n",
      " 0   id           30000 non-null  int64  \n",
      " 1   age          30000 non-null  int64  \n",
      " 2   gender       30000 non-null  int64  \n",
      " 3   height       30000 non-null  int64  \n",
      " 4   weight       30000 non-null  float64\n",
      " 5   ap_hi        30000 non-null  int64  \n",
      " 6   ap_lo        30000 non-null  int64  \n",
      " 7   cholesterol  30000 non-null  int64  \n",
      " 8   gluc         30000 non-null  int64  \n",
      " 9   smoke        30000 non-null  int64  \n",
      " 10  alco         30000 non-null  int64  \n",
      " 11  active       30000 non-null  int64  \n",
      "dtypes: float64(1), int64(11)\n",
      "memory usage: 2.7 MB\n"
     ]
    },
    {
     "data": {
      "text/plain": [
       "None"
      ]
     },
     "metadata": {},
     "output_type": "display_data"
    }
   ],
   "source": [
    "display(df_train.info())\n",
    "display(df_test.info())"
   ]
  },
  {
   "cell_type": "code",
   "execution_count": 11,
   "id": "dda4d6ba",
   "metadata": {},
   "outputs": [
    {
     "data": {
      "text/html": [
       "<div>\n",
       "<style scoped>\n",
       "    .dataframe tbody tr th:only-of-type {\n",
       "        vertical-align: middle;\n",
       "    }\n",
       "\n",
       "    .dataframe tbody tr th {\n",
       "        vertical-align: top;\n",
       "    }\n",
       "\n",
       "    .dataframe thead th {\n",
       "        text-align: right;\n",
       "    }\n",
       "</style>\n",
       "<table border=\"1\" class=\"dataframe\">\n",
       "  <thead>\n",
       "    <tr style=\"text-align: right;\">\n",
       "      <th></th>\n",
       "      <th>id</th>\n",
       "      <th>age</th>\n",
       "      <th>gender</th>\n",
       "      <th>height</th>\n",
       "      <th>weight</th>\n",
       "      <th>ap_hi</th>\n",
       "      <th>ap_lo</th>\n",
       "      <th>cholesterol</th>\n",
       "      <th>gluc</th>\n",
       "      <th>smoke</th>\n",
       "      <th>alco</th>\n",
       "      <th>active</th>\n",
       "      <th>cardio</th>\n",
       "    </tr>\n",
       "  </thead>\n",
       "  <tbody>\n",
       "    <tr>\n",
       "      <th>0</th>\n",
       "      <td>0</td>\n",
       "      <td>18393</td>\n",
       "      <td>2</td>\n",
       "      <td>168</td>\n",
       "      <td>62.0</td>\n",
       "      <td>110</td>\n",
       "      <td>80</td>\n",
       "      <td>1</td>\n",
       "      <td>1</td>\n",
       "      <td>0</td>\n",
       "      <td>0</td>\n",
       "      <td>1</td>\n",
       "      <td>0</td>\n",
       "    </tr>\n",
       "    <tr>\n",
       "      <th>1</th>\n",
       "      <td>1</td>\n",
       "      <td>20228</td>\n",
       "      <td>1</td>\n",
       "      <td>156</td>\n",
       "      <td>85.0</td>\n",
       "      <td>140</td>\n",
       "      <td>90</td>\n",
       "      <td>3</td>\n",
       "      <td>1</td>\n",
       "      <td>0</td>\n",
       "      <td>0</td>\n",
       "      <td>1</td>\n",
       "      <td>1</td>\n",
       "    </tr>\n",
       "    <tr>\n",
       "      <th>2</th>\n",
       "      <td>2</td>\n",
       "      <td>18857</td>\n",
       "      <td>1</td>\n",
       "      <td>165</td>\n",
       "      <td>64.0</td>\n",
       "      <td>130</td>\n",
       "      <td>70</td>\n",
       "      <td>3</td>\n",
       "      <td>1</td>\n",
       "      <td>0</td>\n",
       "      <td>0</td>\n",
       "      <td>0</td>\n",
       "      <td>1</td>\n",
       "    </tr>\n",
       "    <tr>\n",
       "      <th>3</th>\n",
       "      <td>3</td>\n",
       "      <td>17623</td>\n",
       "      <td>2</td>\n",
       "      <td>169</td>\n",
       "      <td>82.0</td>\n",
       "      <td>150</td>\n",
       "      <td>100</td>\n",
       "      <td>1</td>\n",
       "      <td>1</td>\n",
       "      <td>0</td>\n",
       "      <td>0</td>\n",
       "      <td>1</td>\n",
       "      <td>1</td>\n",
       "    </tr>\n",
       "    <tr>\n",
       "      <th>4</th>\n",
       "      <td>4</td>\n",
       "      <td>17474</td>\n",
       "      <td>1</td>\n",
       "      <td>156</td>\n",
       "      <td>56.0</td>\n",
       "      <td>100</td>\n",
       "      <td>60</td>\n",
       "      <td>1</td>\n",
       "      <td>1</td>\n",
       "      <td>0</td>\n",
       "      <td>0</td>\n",
       "      <td>0</td>\n",
       "      <td>0</td>\n",
       "    </tr>\n",
       "  </tbody>\n",
       "</table>\n",
       "</div>"
      ],
      "text/plain": [
       "   id    age  gender  height  weight  ap_hi  ap_lo  cholesterol  gluc  smoke  \\\n",
       "0   0  18393       2     168    62.0    110     80            1     1      0   \n",
       "1   1  20228       1     156    85.0    140     90            3     1      0   \n",
       "2   2  18857       1     165    64.0    130     70            3     1      0   \n",
       "3   3  17623       2     169    82.0    150    100            1     1      0   \n",
       "4   4  17474       1     156    56.0    100     60            1     1      0   \n",
       "\n",
       "   alco  active  cardio  \n",
       "0     0       1       0  \n",
       "1     0       1       1  \n",
       "2     0       0       1  \n",
       "3     0       1       1  \n",
       "4     0       0       0  "
      ]
     },
     "metadata": {},
     "output_type": "display_data"
    },
    {
     "data": {
      "text/html": [
       "<div>\n",
       "<style scoped>\n",
       "    .dataframe tbody tr th:only-of-type {\n",
       "        vertical-align: middle;\n",
       "    }\n",
       "\n",
       "    .dataframe tbody tr th {\n",
       "        vertical-align: top;\n",
       "    }\n",
       "\n",
       "    .dataframe thead th {\n",
       "        text-align: right;\n",
       "    }\n",
       "</style>\n",
       "<table border=\"1\" class=\"dataframe\">\n",
       "  <thead>\n",
       "    <tr style=\"text-align: right;\">\n",
       "      <th></th>\n",
       "      <th>id</th>\n",
       "      <th>age</th>\n",
       "      <th>gender</th>\n",
       "      <th>height</th>\n",
       "      <th>weight</th>\n",
       "      <th>ap_hi</th>\n",
       "      <th>ap_lo</th>\n",
       "      <th>cholesterol</th>\n",
       "      <th>gluc</th>\n",
       "      <th>smoke</th>\n",
       "      <th>alco</th>\n",
       "      <th>active</th>\n",
       "    </tr>\n",
       "  </thead>\n",
       "  <tbody>\n",
       "    <tr>\n",
       "      <th>0</th>\n",
       "      <td>5</td>\n",
       "      <td>18888</td>\n",
       "      <td>1</td>\n",
       "      <td>154</td>\n",
       "      <td>85.0</td>\n",
       "      <td>130</td>\n",
       "      <td>80</td>\n",
       "      <td>1</td>\n",
       "      <td>1</td>\n",
       "      <td>0</td>\n",
       "      <td>0</td>\n",
       "      <td>1</td>\n",
       "    </tr>\n",
       "    <tr>\n",
       "      <th>1</th>\n",
       "      <td>6</td>\n",
       "      <td>19042</td>\n",
       "      <td>2</td>\n",
       "      <td>170</td>\n",
       "      <td>69.0</td>\n",
       "      <td>130</td>\n",
       "      <td>90</td>\n",
       "      <td>1</td>\n",
       "      <td>1</td>\n",
       "      <td>0</td>\n",
       "      <td>0</td>\n",
       "      <td>1</td>\n",
       "    </tr>\n",
       "    <tr>\n",
       "      <th>2</th>\n",
       "      <td>7</td>\n",
       "      <td>20432</td>\n",
       "      <td>1</td>\n",
       "      <td>160</td>\n",
       "      <td>70.0</td>\n",
       "      <td>120</td>\n",
       "      <td>75</td>\n",
       "      <td>1</td>\n",
       "      <td>1</td>\n",
       "      <td>0</td>\n",
       "      <td>0</td>\n",
       "      <td>0</td>\n",
       "    </tr>\n",
       "    <tr>\n",
       "      <th>3</th>\n",
       "      <td>10</td>\n",
       "      <td>18133</td>\n",
       "      <td>2</td>\n",
       "      <td>185</td>\n",
       "      <td>94.0</td>\n",
       "      <td>130</td>\n",
       "      <td>90</td>\n",
       "      <td>1</td>\n",
       "      <td>1</td>\n",
       "      <td>0</td>\n",
       "      <td>0</td>\n",
       "      <td>1</td>\n",
       "    </tr>\n",
       "    <tr>\n",
       "      <th>4</th>\n",
       "      <td>11</td>\n",
       "      <td>16093</td>\n",
       "      <td>2</td>\n",
       "      <td>170</td>\n",
       "      <td>76.0</td>\n",
       "      <td>120</td>\n",
       "      <td>80</td>\n",
       "      <td>1</td>\n",
       "      <td>1</td>\n",
       "      <td>0</td>\n",
       "      <td>0</td>\n",
       "      <td>1</td>\n",
       "    </tr>\n",
       "  </tbody>\n",
       "</table>\n",
       "</div>"
      ],
      "text/plain": [
       "   id    age  gender  height  weight  ap_hi  ap_lo  cholesterol  gluc  smoke  \\\n",
       "0   5  18888       1     154    85.0    130     80            1     1      0   \n",
       "1   6  19042       2     170    69.0    130     90            1     1      0   \n",
       "2   7  20432       1     160    70.0    120     75            1     1      0   \n",
       "3  10  18133       2     185    94.0    130     90            1     1      0   \n",
       "4  11  16093       2     170    76.0    120     80            1     1      0   \n",
       "\n",
       "   alco  active  \n",
       "0     0       1  \n",
       "1     0       1  \n",
       "2     0       0  \n",
       "3     0       1  \n",
       "4     0       1  "
      ]
     },
     "metadata": {},
     "output_type": "display_data"
    }
   ],
   "source": [
    "display(df_train.head())\n",
    "display(df_test.head())"
   ]
  },
  {
   "cell_type": "code",
   "execution_count": 6,
   "id": "78fb8940",
   "metadata": {},
   "outputs": [
    {
     "data": {
      "text/plain": [
       "Index(['id', 'age', 'gender', 'height', 'weight', 'ap_hi', 'ap_lo',\n",
       "       'cholesterol', 'gluc', 'smoke', 'alco', 'active', 'cardio'],\n",
       "      dtype='object')"
      ]
     },
     "execution_count": 6,
     "metadata": {},
     "output_type": "execute_result"
    }
   ],
   "source": [
    "df_train.columns"
   ]
  },
  {
   "cell_type": "code",
   "execution_count": 7,
   "id": "ee924710",
   "metadata": {},
   "outputs": [
    {
     "data": {
      "text/html": [
       "<div>\n",
       "<style scoped>\n",
       "    .dataframe tbody tr th:only-of-type {\n",
       "        vertical-align: middle;\n",
       "    }\n",
       "\n",
       "    .dataframe tbody tr th {\n",
       "        vertical-align: top;\n",
       "    }\n",
       "\n",
       "    .dataframe thead th {\n",
       "        text-align: right;\n",
       "    }\n",
       "</style>\n",
       "<table border=\"1\" class=\"dataframe\">\n",
       "  <thead>\n",
       "    <tr style=\"text-align: right;\">\n",
       "      <th></th>\n",
       "      <th>id</th>\n",
       "      <th>age</th>\n",
       "      <th>gender</th>\n",
       "      <th>height</th>\n",
       "      <th>weight</th>\n",
       "      <th>ap_hi</th>\n",
       "      <th>ap_lo</th>\n",
       "      <th>cholesterol</th>\n",
       "      <th>gluc</th>\n",
       "      <th>smoke</th>\n",
       "      <th>alco</th>\n",
       "      <th>active</th>\n",
       "      <th>cardio</th>\n",
       "    </tr>\n",
       "  </thead>\n",
       "  <tbody>\n",
       "    <tr>\n",
       "      <th>count</th>\n",
       "      <td>70000.000000</td>\n",
       "      <td>70000.000000</td>\n",
       "      <td>70000.000000</td>\n",
       "      <td>70000.000000</td>\n",
       "      <td>70000.000000</td>\n",
       "      <td>70000.000000</td>\n",
       "      <td>70000.000000</td>\n",
       "      <td>70000.000000</td>\n",
       "      <td>70000.000000</td>\n",
       "      <td>70000.000000</td>\n",
       "      <td>70000.000000</td>\n",
       "      <td>70000.000000</td>\n",
       "      <td>70000.000000</td>\n",
       "    </tr>\n",
       "    <tr>\n",
       "      <th>mean</th>\n",
       "      <td>49972.419900</td>\n",
       "      <td>19468.865814</td>\n",
       "      <td>1.349571</td>\n",
       "      <td>164.359229</td>\n",
       "      <td>74.205690</td>\n",
       "      <td>128.817286</td>\n",
       "      <td>96.630414</td>\n",
       "      <td>1.366871</td>\n",
       "      <td>1.226457</td>\n",
       "      <td>0.088129</td>\n",
       "      <td>0.053771</td>\n",
       "      <td>0.803729</td>\n",
       "      <td>0.499700</td>\n",
       "    </tr>\n",
       "    <tr>\n",
       "      <th>std</th>\n",
       "      <td>28851.302323</td>\n",
       "      <td>2467.251667</td>\n",
       "      <td>0.476838</td>\n",
       "      <td>8.210126</td>\n",
       "      <td>14.395757</td>\n",
       "      <td>154.011419</td>\n",
       "      <td>188.472530</td>\n",
       "      <td>0.680250</td>\n",
       "      <td>0.572270</td>\n",
       "      <td>0.283484</td>\n",
       "      <td>0.225568</td>\n",
       "      <td>0.397179</td>\n",
       "      <td>0.500003</td>\n",
       "    </tr>\n",
       "    <tr>\n",
       "      <th>min</th>\n",
       "      <td>0.000000</td>\n",
       "      <td>10798.000000</td>\n",
       "      <td>1.000000</td>\n",
       "      <td>55.000000</td>\n",
       "      <td>10.000000</td>\n",
       "      <td>-150.000000</td>\n",
       "      <td>-70.000000</td>\n",
       "      <td>1.000000</td>\n",
       "      <td>1.000000</td>\n",
       "      <td>0.000000</td>\n",
       "      <td>0.000000</td>\n",
       "      <td>0.000000</td>\n",
       "      <td>0.000000</td>\n",
       "    </tr>\n",
       "    <tr>\n",
       "      <th>25%</th>\n",
       "      <td>25006.750000</td>\n",
       "      <td>17664.000000</td>\n",
       "      <td>1.000000</td>\n",
       "      <td>159.000000</td>\n",
       "      <td>65.000000</td>\n",
       "      <td>120.000000</td>\n",
       "      <td>80.000000</td>\n",
       "      <td>1.000000</td>\n",
       "      <td>1.000000</td>\n",
       "      <td>0.000000</td>\n",
       "      <td>0.000000</td>\n",
       "      <td>1.000000</td>\n",
       "      <td>0.000000</td>\n",
       "    </tr>\n",
       "    <tr>\n",
       "      <th>50%</th>\n",
       "      <td>50001.500000</td>\n",
       "      <td>19703.000000</td>\n",
       "      <td>1.000000</td>\n",
       "      <td>165.000000</td>\n",
       "      <td>72.000000</td>\n",
       "      <td>120.000000</td>\n",
       "      <td>80.000000</td>\n",
       "      <td>1.000000</td>\n",
       "      <td>1.000000</td>\n",
       "      <td>0.000000</td>\n",
       "      <td>0.000000</td>\n",
       "      <td>1.000000</td>\n",
       "      <td>0.000000</td>\n",
       "    </tr>\n",
       "    <tr>\n",
       "      <th>75%</th>\n",
       "      <td>74889.250000</td>\n",
       "      <td>21327.000000</td>\n",
       "      <td>2.000000</td>\n",
       "      <td>170.000000</td>\n",
       "      <td>82.000000</td>\n",
       "      <td>140.000000</td>\n",
       "      <td>90.000000</td>\n",
       "      <td>2.000000</td>\n",
       "      <td>1.000000</td>\n",
       "      <td>0.000000</td>\n",
       "      <td>0.000000</td>\n",
       "      <td>1.000000</td>\n",
       "      <td>1.000000</td>\n",
       "    </tr>\n",
       "    <tr>\n",
       "      <th>max</th>\n",
       "      <td>99999.000000</td>\n",
       "      <td>23713.000000</td>\n",
       "      <td>2.000000</td>\n",
       "      <td>250.000000</td>\n",
       "      <td>200.000000</td>\n",
       "      <td>16020.000000</td>\n",
       "      <td>11000.000000</td>\n",
       "      <td>3.000000</td>\n",
       "      <td>3.000000</td>\n",
       "      <td>1.000000</td>\n",
       "      <td>1.000000</td>\n",
       "      <td>1.000000</td>\n",
       "      <td>1.000000</td>\n",
       "    </tr>\n",
       "  </tbody>\n",
       "</table>\n",
       "</div>"
      ],
      "text/plain": [
       "                 id           age  ...        active        cardio\n",
       "count  70000.000000  70000.000000  ...  70000.000000  70000.000000\n",
       "mean   49972.419900  19468.865814  ...      0.803729      0.499700\n",
       "std    28851.302323   2467.251667  ...      0.397179      0.500003\n",
       "min        0.000000  10798.000000  ...      0.000000      0.000000\n",
       "25%    25006.750000  17664.000000  ...      1.000000      0.000000\n",
       "50%    50001.500000  19703.000000  ...      1.000000      0.000000\n",
       "75%    74889.250000  21327.000000  ...      1.000000      1.000000\n",
       "max    99999.000000  23713.000000  ...      1.000000      1.000000\n",
       "\n",
       "[8 rows x 13 columns]"
      ]
     },
     "execution_count": 7,
     "metadata": {},
     "output_type": "execute_result"
    }
   ],
   "source": [
    "df_train.describe()"
   ]
  },
  {
   "cell_type": "markdown",
   "id": "38c75e37",
   "metadata": {},
   "source": [
    "#### Возраст "
   ]
  },
  {
   "cell_type": "code",
   "execution_count": 8,
   "id": "3b15adb8",
   "metadata": {},
   "outputs": [
    {
     "data": {
      "text/plain": [
       "0        18393\n",
       "1        20228\n",
       "2        18857\n",
       "3        17623\n",
       "4        17474\n",
       "         ...  \n",
       "69995    19240\n",
       "69996    22601\n",
       "69997    19066\n",
       "69998    22431\n",
       "69999    20540\n",
       "Name: age, Length: 70000, dtype: int64"
      ]
     },
     "execution_count": 8,
     "metadata": {},
     "output_type": "execute_result"
    }
   ],
   "source": [
    "df_train['age']"
   ]
  },
  {
   "cell_type": "code",
   "execution_count": 9,
   "id": "c340e9f2",
   "metadata": {},
   "outputs": [],
   "source": [
    "df_train['age'] = (df_train['age']/365)\n",
    "df_train['age'] = df_train['age'].round()"
   ]
  },
  {
   "cell_type": "code",
   "execution_count": 10,
   "id": "1ba08ca5",
   "metadata": {},
   "outputs": [
    {
     "data": {
      "text/plain": [
       "0        50.0\n",
       "1        55.0\n",
       "2        52.0\n",
       "3        48.0\n",
       "4        48.0\n",
       "         ... \n",
       "69995    53.0\n",
       "69996    62.0\n",
       "69997    52.0\n",
       "69998    61.0\n",
       "69999    56.0\n",
       "Name: age, Length: 70000, dtype: float64"
      ]
     },
     "execution_count": 10,
     "metadata": {},
     "output_type": "execute_result"
    }
   ],
   "source": [
    "df_train['age']"
   ]
  },
  {
   "cell_type": "code",
   "execution_count": 11,
   "id": "f09de658",
   "metadata": {},
   "outputs": [
    {
     "data": {
      "image/png": "[encoded data removed]",
      "text/plain": [
       "<Figure size 2000x500 with 1 Axes>"
      ]
     },
     "metadata": {},
     "output_type": "display_data"
    }
   ],
   "source": [
    "plt.figure(figsize=(20,5))\n",
    "sns.countplot(data = df_train, x= df_train['age'], hue = df_train['cardio']);"
   ]
  },
  {
   "cell_type": "code",
   "execution_count": 12,
   "id": "88415bc9",
   "metadata": {},
   "outputs": [
    {
     "data": {
      "image/png": "[encoded data removed]",
      "text/plain": [
       "<Figure size 640x480 with 1 Axes>"
      ]
     },
     "metadata": {},
     "output_type": "display_data"
    }
   ],
   "source": [
    "plt.boxplot(df_train['age']);"
   ]
  },
  {
   "cell_type": "code",
   "execution_count": null,
   "id": "84eea9e2",
   "metadata": {},
   "outputs": [],
   "source": []
  },
  {
   "cell_type": "code",
   "execution_count": null,
   "id": "15a3c46e",
   "metadata": {},
   "outputs": [],
   "source": []
  },
  {
   "cell_type": "markdown",
   "id": "bfdca719",
   "metadata": {},
   "source": [
    "### Пол"
   ]
  },
  {
   "cell_type": "code",
   "execution_count": 13,
   "id": "23a6188c",
   "metadata": {},
   "outputs": [
    {
     "data": {
      "text/plain": [
       "1    45530\n",
       "2    24470\n",
       "Name: gender, dtype: int64"
      ]
     },
     "execution_count": 13,
     "metadata": {},
     "output_type": "execute_result"
    }
   ],
   "source": [
    "df_train.gender.value_counts()"
   ]
  },
  {
   "cell_type": "code",
   "execution_count": 14,
   "id": "ba839758",
   "metadata": {},
   "outputs": [
    {
     "data": {
      "image/png": "[encoded data removed]",
      "text/plain": [
       "<Figure size 640x480 with 1 Axes>"
      ]
     },
     "metadata": {},
     "output_type": "display_data"
    }
   ],
   "source": [
    "pd.crosstab(df_train['gender'], df_train['cardio']).plot(kind = 'bar', stacked = 'true',grid = 'True' );"
   ]
  },
  {
   "cell_type": "markdown",
   "id": "7f51905d",
   "metadata": {},
   "source": [
    "### Рост"
   ]
  },
  {
   "cell_type": "code",
   "execution_count": 15,
   "id": "2bb6888c",
   "metadata": {},
   "outputs": [
    {
     "data": {
      "text/plain": [
       "0        168\n",
       "1        156\n",
       "2        165\n",
       "3        169\n",
       "4        156\n",
       "        ... \n",
       "69995    168\n",
       "69996    158\n",
       "69997    183\n",
       "69998    163\n",
       "69999    170\n",
       "Name: height, Length: 70000, dtype: int64"
      ]
     },
     "execution_count": 15,
     "metadata": {},
     "output_type": "execute_result"
    }
   ],
   "source": [
    "df_train.height"
   ]
  },
  {
   "cell_type": "code",
   "execution_count": 16,
   "id": "d6d6444e",
   "metadata": {},
   "outputs": [
    {
     "data": {
      "image/png": "[encoded data removed]",
      "text/plain": [
       "<Figure size 2000x1000 with 1 Axes>"
      ]
     },
     "metadata": {},
     "output_type": "display_data"
    }
   ],
   "source": [
    "plt.figure(figsize=(20,10))\n",
    "sns.countplot(data = df_train, x= df_train['height'], hue = df_train['cardio']);"
   ]
  },
  {
   "cell_type": "code",
   "execution_count": 17,
   "id": "8865f362",
   "metadata": {},
   "outputs": [
    {
     "data": {
      "image/png": "[encoded data removed]",
      "text/plain": [
       "<Figure size 640x480 with 1 Axes>"
      ]
     },
     "metadata": {},
     "output_type": "display_data"
    }
   ],
   "source": [
    "plt.boxplot(df_train['height']);"
   ]
  },
  {
   "cell_type": "code",
   "execution_count": 18,
   "id": "4571ed22",
   "metadata": {},
   "outputs": [
    {
     "name": "stdout",
     "output_type": "stream",
     "text": [
      "q1=159.0\n",
      "q3=170.0\n",
      "max=186.5\n",
      "min=142.5\n"
     ]
    }
   ],
   "source": [
    "q1 = df_train['height'].quantile(0.25)\n",
    "q3 = df_train['height'].quantile(0.75)\n",
    "max_lim = q3 + 1.5 * (q3 - q1)\n",
    "min_lim = q1 - 1.5 * (q3 - q1)\n",
    "print(f'q1={q1}\\nq3={q3}\\nmax={max_lim}\\nmin={min_lim}')"
   ]
  },
  {
   "cell_type": "code",
   "execution_count": 19,
   "id": "9aa03455",
   "metadata": {},
   "outputs": [
    {
     "name": "stdout",
     "output_type": "stream",
     "text": [
      "221\n",
      "64\n"
     ]
    }
   ],
   "source": [
    "print(df_train.loc[df_train['height'] <142].shape[0])\n",
    "print(df_train.loc[df_train['height'] >190].shape[0])\n"
   ]
  },
  {
   "cell_type": "code",
   "execution_count": 20,
   "id": "5f864428",
   "metadata": {},
   "outputs": [
    {
     "data": {
      "text/plain": [
       "0.004071428571428571"
      ]
     },
     "execution_count": 20,
     "metadata": {},
     "output_type": "execute_result"
    }
   ],
   "source": [
    "(221+64)/70000"
   ]
  },
  {
   "cell_type": "code",
   "execution_count": 21,
   "id": "34576f29",
   "metadata": {},
   "outputs": [],
   "source": [
    "df_train = df_train.loc[df_train['height'].between(142, 186)]"
   ]
  },
  {
   "cell_type": "code",
   "execution_count": 22,
   "id": "a2750d94",
   "metadata": {},
   "outputs": [
    {
     "data": {
      "text/html": [
       "<div>\n",
       "<style scoped>\n",
       "    .dataframe tbody tr th:only-of-type {\n",
       "        vertical-align: middle;\n",
       "    }\n",
       "\n",
       "    .dataframe tbody tr th {\n",
       "        vertical-align: top;\n",
       "    }\n",
       "\n",
       "    .dataframe thead th {\n",
       "        text-align: right;\n",
       "    }\n",
       "</style>\n",
       "<table border=\"1\" class=\"dataframe\">\n",
       "  <thead>\n",
       "    <tr style=\"text-align: right;\">\n",
       "      <th></th>\n",
       "      <th>id</th>\n",
       "      <th>age</th>\n",
       "      <th>gender</th>\n",
       "      <th>height</th>\n",
       "      <th>weight</th>\n",
       "      <th>ap_hi</th>\n",
       "      <th>ap_lo</th>\n",
       "      <th>cholesterol</th>\n",
       "      <th>gluc</th>\n",
       "      <th>smoke</th>\n",
       "      <th>alco</th>\n",
       "      <th>active</th>\n",
       "      <th>cardio</th>\n",
       "    </tr>\n",
       "  </thead>\n",
       "  <tbody>\n",
       "    <tr>\n",
       "      <th>0</th>\n",
       "      <td>0</td>\n",
       "      <td>50.0</td>\n",
       "      <td>2</td>\n",
       "      <td>168</td>\n",
       "      <td>62.0</td>\n",
       "      <td>110</td>\n",
       "      <td>80</td>\n",
       "      <td>1</td>\n",
       "      <td>1</td>\n",
       "      <td>0</td>\n",
       "      <td>0</td>\n",
       "      <td>1</td>\n",
       "      <td>0</td>\n",
       "    </tr>\n",
       "    <tr>\n",
       "      <th>1</th>\n",
       "      <td>1</td>\n",
       "      <td>55.0</td>\n",
       "      <td>1</td>\n",
       "      <td>156</td>\n",
       "      <td>85.0</td>\n",
       "      <td>140</td>\n",
       "      <td>90</td>\n",
       "      <td>3</td>\n",
       "      <td>1</td>\n",
       "      <td>0</td>\n",
       "      <td>0</td>\n",
       "      <td>1</td>\n",
       "      <td>1</td>\n",
       "    </tr>\n",
       "    <tr>\n",
       "      <th>2</th>\n",
       "      <td>2</td>\n",
       "      <td>52.0</td>\n",
       "      <td>1</td>\n",
       "      <td>165</td>\n",
       "      <td>64.0</td>\n",
       "      <td>130</td>\n",
       "      <td>70</td>\n",
       "      <td>3</td>\n",
       "      <td>1</td>\n",
       "      <td>0</td>\n",
       "      <td>0</td>\n",
       "      <td>0</td>\n",
       "      <td>1</td>\n",
       "    </tr>\n",
       "    <tr>\n",
       "      <th>3</th>\n",
       "      <td>3</td>\n",
       "      <td>48.0</td>\n",
       "      <td>2</td>\n",
       "      <td>169</td>\n",
       "      <td>82.0</td>\n",
       "      <td>150</td>\n",
       "      <td>100</td>\n",
       "      <td>1</td>\n",
       "      <td>1</td>\n",
       "      <td>0</td>\n",
       "      <td>0</td>\n",
       "      <td>1</td>\n",
       "      <td>1</td>\n",
       "    </tr>\n",
       "    <tr>\n",
       "      <th>4</th>\n",
       "      <td>4</td>\n",
       "      <td>48.0</td>\n",
       "      <td>1</td>\n",
       "      <td>156</td>\n",
       "      <td>56.0</td>\n",
       "      <td>100</td>\n",
       "      <td>60</td>\n",
       "      <td>1</td>\n",
       "      <td>1</td>\n",
       "      <td>0</td>\n",
       "      <td>0</td>\n",
       "      <td>0</td>\n",
       "      <td>0</td>\n",
       "    </tr>\n",
       "  </tbody>\n",
       "</table>\n",
       "</div>"
      ],
      "text/plain": [
       "   id   age  gender  height  weight  ap_hi  ap_lo  cholesterol  gluc  smoke  \\\n",
       "0   0  50.0       2     168    62.0    110     80            1     1      0   \n",
       "1   1  55.0       1     156    85.0    140     90            3     1      0   \n",
       "2   2  52.0       1     165    64.0    130     70            3     1      0   \n",
       "3   3  48.0       2     169    82.0    150    100            1     1      0   \n",
       "4   4  48.0       1     156    56.0    100     60            1     1      0   \n",
       "\n",
       "   alco  active  cardio  \n",
       "0     0       1       0  \n",
       "1     0       1       1  \n",
       "2     0       0       1  \n",
       "3     0       1       1  \n",
       "4     0       0       0  "
      ]
     },
     "execution_count": 22,
     "metadata": {},
     "output_type": "execute_result"
    }
   ],
   "source": [
    "df_train.head()"
   ]
  },
  {
   "cell_type": "markdown",
   "id": "23b5a4bc",
   "metadata": {},
   "source": [
    "### Вес"
   ]
  },
  {
   "cell_type": "code",
   "execution_count": 23,
   "id": "46dd2f0b",
   "metadata": {},
   "outputs": [
    {
     "data": {
      "text/plain": [
       "65.0    3850\n",
       "70.0    3764\n",
       "68.0    2831\n",
       "75.0    2740\n",
       "60.0    2710\n",
       "        ... \n",
       "92.2       1\n",
       "75.6       1\n",
       "82.9       1\n",
       "23.0       1\n",
       "99.9       1\n",
       "Name: weight, Length: 287, dtype: int64"
      ]
     },
     "execution_count": 23,
     "metadata": {},
     "output_type": "execute_result"
    }
   ],
   "source": [
    "df_train.weight.value_counts()"
   ]
  },
  {
   "cell_type": "code",
   "execution_count": 24,
   "id": "4eda39fb",
   "metadata": {},
   "outputs": [
    {
     "data": {
      "image/png": "[encoded data removed]",
      "text/plain": [
       "<Figure size 640x480 with 1 Axes>"
      ]
     },
     "metadata": {},
     "output_type": "display_data"
    }
   ],
   "source": [
    "plt.boxplot(df_train['weight']);"
   ]
  },
  {
   "cell_type": "code",
   "execution_count": 25,
   "id": "79ca58d8-7c9f-4f8a-811b-6c7e0cd91905",
   "metadata": {},
   "outputs": [
    {
     "data": {
      "image/png": "[encoded data removed]",
      "text/plain": [
       "<Figure size 640x480 with 1 Axes>"
      ]
     },
     "metadata": {},
     "output_type": "display_data"
    }
   ],
   "source": [
    "plt.boxplot(df_test['weight']);"
   ]
  },
  {
   "cell_type": "code",
   "execution_count": 26,
   "id": "0e7cc2f7",
   "metadata": {},
   "outputs": [
    {
     "name": "stdout",
     "output_type": "stream",
     "text": [
      "65.0\n"
     ]
    }
   ],
   "source": [
    "q1 = df_train['weight'].quantile(0.25)\n",
    "print(q1)"
   ]
  },
  {
   "cell_type": "code",
   "execution_count": 27,
   "id": "bc95b56b",
   "metadata": {},
   "outputs": [
    {
     "name": "stdout",
     "output_type": "stream",
     "text": [
      "82.0\n"
     ]
    }
   ],
   "source": [
    "q3 = df_train['weight'].quantile(0.75)\n",
    "print(q3)"
   ]
  },
  {
   "cell_type": "code",
   "execution_count": 28,
   "id": "1a487dc3",
   "metadata": {},
   "outputs": [
    {
     "name": "stdout",
     "output_type": "stream",
     "text": [
      "107.5\n"
     ]
    }
   ],
   "source": [
    "max = q3 + 1.5*(q3 - q1)\n",
    "print(max)"
   ]
  },
  {
   "cell_type": "code",
   "execution_count": 29,
   "id": "6cd5df15",
   "metadata": {},
   "outputs": [
    {
     "name": "stdout",
     "output_type": "stream",
     "text": [
      "39.5\n"
     ]
    }
   ],
   "source": [
    "min = q1 - 1.5*(q3 - q1)\n",
    "print(min)"
   ]
  },
  {
   "cell_type": "code",
   "execution_count": 30,
   "id": "e2d44e22",
   "metadata": {},
   "outputs": [
    {
     "data": {
      "text/html": [
       "<div>\n",
       "<style scoped>\n",
       "    .dataframe tbody tr th:only-of-type {\n",
       "        vertical-align: middle;\n",
       "    }\n",
       "\n",
       "    .dataframe tbody tr th {\n",
       "        vertical-align: top;\n",
       "    }\n",
       "\n",
       "    .dataframe thead th {\n",
       "        text-align: right;\n",
       "    }\n",
       "</style>\n",
       "<table border=\"1\" class=\"dataframe\">\n",
       "  <thead>\n",
       "    <tr style=\"text-align: right;\">\n",
       "      <th></th>\n",
       "      <th>id</th>\n",
       "      <th>age</th>\n",
       "      <th>gender</th>\n",
       "      <th>height</th>\n",
       "      <th>weight</th>\n",
       "      <th>ap_hi</th>\n",
       "      <th>ap_lo</th>\n",
       "      <th>cholesterol</th>\n",
       "      <th>gluc</th>\n",
       "      <th>smoke</th>\n",
       "      <th>alco</th>\n",
       "      <th>active</th>\n",
       "      <th>cardio</th>\n",
       "    </tr>\n",
       "  </thead>\n",
       "  <tbody>\n",
       "    <tr>\n",
       "      <th>15</th>\n",
       "      <td>24</td>\n",
       "      <td>46.0</td>\n",
       "      <td>2</td>\n",
       "      <td>172</td>\n",
       "      <td>112.0</td>\n",
       "      <td>120</td>\n",
       "      <td>80</td>\n",
       "      <td>1</td>\n",
       "      <td>1</td>\n",
       "      <td>0</td>\n",
       "      <td>0</td>\n",
       "      <td>0</td>\n",
       "      <td>1</td>\n",
       "    </tr>\n",
       "    <tr>\n",
       "      <th>46</th>\n",
       "      <td>61</td>\n",
       "      <td>50.0</td>\n",
       "      <td>1</td>\n",
       "      <td>162</td>\n",
       "      <td>107.0</td>\n",
       "      <td>150</td>\n",
       "      <td>90</td>\n",
       "      <td>2</td>\n",
       "      <td>1</td>\n",
       "      <td>0</td>\n",
       "      <td>0</td>\n",
       "      <td>1</td>\n",
       "      <td>1</td>\n",
       "    </tr>\n",
       "    <tr>\n",
       "      <th>62</th>\n",
       "      <td>81</td>\n",
       "      <td>56.0</td>\n",
       "      <td>2</td>\n",
       "      <td>187</td>\n",
       "      <td>115.0</td>\n",
       "      <td>130</td>\n",
       "      <td>90</td>\n",
       "      <td>1</td>\n",
       "      <td>1</td>\n",
       "      <td>0</td>\n",
       "      <td>1</td>\n",
       "      <td>1</td>\n",
       "      <td>0</td>\n",
       "    </tr>\n",
       "    <tr>\n",
       "      <th>83</th>\n",
       "      <td>114</td>\n",
       "      <td>54.0</td>\n",
       "      <td>1</td>\n",
       "      <td>152</td>\n",
       "      <td>110.0</td>\n",
       "      <td>160</td>\n",
       "      <td>90</td>\n",
       "      <td>1</td>\n",
       "      <td>1</td>\n",
       "      <td>0</td>\n",
       "      <td>0</td>\n",
       "      <td>1</td>\n",
       "      <td>1</td>\n",
       "    </tr>\n",
       "    <tr>\n",
       "      <th>196</th>\n",
       "      <td>267</td>\n",
       "      <td>62.0</td>\n",
       "      <td>1</td>\n",
       "      <td>176</td>\n",
       "      <td>108.0</td>\n",
       "      <td>140</td>\n",
       "      <td>90</td>\n",
       "      <td>1</td>\n",
       "      <td>1</td>\n",
       "      <td>0</td>\n",
       "      <td>0</td>\n",
       "      <td>0</td>\n",
       "      <td>0</td>\n",
       "    </tr>\n",
       "    <tr>\n",
       "      <th>...</th>\n",
       "      <td>...</td>\n",
       "      <td>...</td>\n",
       "      <td>...</td>\n",
       "      <td>...</td>\n",
       "      <td>...</td>\n",
       "      <td>...</td>\n",
       "      <td>...</td>\n",
       "      <td>...</td>\n",
       "      <td>...</td>\n",
       "      <td>...</td>\n",
       "      <td>...</td>\n",
       "      <td>...</td>\n",
       "      <td>...</td>\n",
       "    </tr>\n",
       "    <tr>\n",
       "      <th>69873</th>\n",
       "      <td>99799</td>\n",
       "      <td>54.0</td>\n",
       "      <td>2</td>\n",
       "      <td>188</td>\n",
       "      <td>108.0</td>\n",
       "      <td>130</td>\n",
       "      <td>80</td>\n",
       "      <td>2</td>\n",
       "      <td>2</td>\n",
       "      <td>0</td>\n",
       "      <td>1</td>\n",
       "      <td>0</td>\n",
       "      <td>1</td>\n",
       "    </tr>\n",
       "    <tr>\n",
       "      <th>69946</th>\n",
       "      <td>99925</td>\n",
       "      <td>58.0</td>\n",
       "      <td>1</td>\n",
       "      <td>164</td>\n",
       "      <td>115.0</td>\n",
       "      <td>130</td>\n",
       "      <td>80</td>\n",
       "      <td>1</td>\n",
       "      <td>1</td>\n",
       "      <td>0</td>\n",
       "      <td>0</td>\n",
       "      <td>1</td>\n",
       "      <td>1</td>\n",
       "    </tr>\n",
       "    <tr>\n",
       "      <th>69947</th>\n",
       "      <td>99930</td>\n",
       "      <td>64.0</td>\n",
       "      <td>2</td>\n",
       "      <td>172</td>\n",
       "      <td>113.0</td>\n",
       "      <td>110</td>\n",
       "      <td>80</td>\n",
       "      <td>1</td>\n",
       "      <td>1</td>\n",
       "      <td>0</td>\n",
       "      <td>0</td>\n",
       "      <td>0</td>\n",
       "      <td>1</td>\n",
       "    </tr>\n",
       "    <tr>\n",
       "      <th>69981</th>\n",
       "      <td>99972</td>\n",
       "      <td>48.0</td>\n",
       "      <td>2</td>\n",
       "      <td>182</td>\n",
       "      <td>110.0</td>\n",
       "      <td>130</td>\n",
       "      <td>90</td>\n",
       "      <td>2</td>\n",
       "      <td>2</td>\n",
       "      <td>0</td>\n",
       "      <td>0</td>\n",
       "      <td>1</td>\n",
       "      <td>1</td>\n",
       "    </tr>\n",
       "    <tr>\n",
       "      <th>69996</th>\n",
       "      <td>99995</td>\n",
       "      <td>62.0</td>\n",
       "      <td>1</td>\n",
       "      <td>158</td>\n",
       "      <td>126.0</td>\n",
       "      <td>140</td>\n",
       "      <td>90</td>\n",
       "      <td>2</td>\n",
       "      <td>2</td>\n",
       "      <td>0</td>\n",
       "      <td>0</td>\n",
       "      <td>1</td>\n",
       "      <td>1</td>\n",
       "    </tr>\n",
       "  </tbody>\n",
       "</table>\n",
       "<p>2032 rows × 13 columns</p>\n",
       "</div>"
      ],
      "text/plain": [
       "          id   age  gender  height  weight  ap_hi  ap_lo  cholesterol  gluc  \\\n",
       "15        24  46.0       2     172   112.0    120     80            1     1   \n",
       "46        61  50.0       1     162   107.0    150     90            2     1   \n",
       "62        81  56.0       2     187   115.0    130     90            1     1   \n",
       "83       114  54.0       1     152   110.0    160     90            1     1   \n",
       "196      267  62.0       1     176   108.0    140     90            1     1   \n",
       "...      ...   ...     ...     ...     ...    ...    ...          ...   ...   \n",
       "69873  99799  54.0       2     188   108.0    130     80            2     2   \n",
       "69946  99925  58.0       1     164   115.0    130     80            1     1   \n",
       "69947  99930  64.0       2     172   113.0    110     80            1     1   \n",
       "69981  99972  48.0       2     182   110.0    130     90            2     2   \n",
       "69996  99995  62.0       1     158   126.0    140     90            2     2   \n",
       "\n",
       "       smoke  alco  active  cardio  \n",
       "15         0     0       0       1  \n",
       "46         0     0       1       1  \n",
       "62         0     1       1       0  \n",
       "83         0     0       1       1  \n",
       "196        0     0       0       0  \n",
       "...      ...   ...     ...     ...  \n",
       "69873      0     1       0       1  \n",
       "69946      0     0       1       1  \n",
       "69947      0     0       0       1  \n",
       "69981      0     0       1       1  \n",
       "69996      0     0       1       1  \n",
       "\n",
       "[2032 rows x 13 columns]"
      ]
     },
     "execution_count": 30,
     "metadata": {},
     "output_type": "execute_result"
    }
   ],
   "source": [
    "df_train.loc[(df_train['weight'] >105) ]"
   ]
  },
  {
   "cell_type": "markdown",
   "id": "a9f13c66",
   "metadata": {},
   "source": [
    "### Давление"
   ]
  },
  {
   "cell_type": "code",
   "execution_count": 31,
   "id": "4a9b2742",
   "metadata": {},
   "outputs": [
    {
     "data": {
      "text/plain": [
       "[110,\n",
       " 140,\n",
       " 130,\n",
       " 150,\n",
       " 100,\n",
       " 120,\n",
       " 145,\n",
       " 170,\n",
       " 135,\n",
       " 125,\n",
       " 90,\n",
       " 180,\n",
       " 160,\n",
       " 133,\n",
       " 190,\n",
       " 80,\n",
       " 122,\n",
       " 169,\n",
       " 126,\n",
       " 158,\n",
       " 200,\n",
       " 14,\n",
       " 123,\n",
       " 70,\n",
       " 161,\n",
       " 147,\n",
       " 115,\n",
       " 137,\n",
       " 153,\n",
       " 11,\n",
       " 148,\n",
       " 105,\n",
       " 220,\n",
       " 119,\n",
       " 141,\n",
       " 165,\n",
       " 164,\n",
       " 12,\n",
       " 124,\n",
       " 172,\n",
       " 902,\n",
       " 162,\n",
       " 906,\n",
       " 117,\n",
       " 134,\n",
       " 166,\n",
       " 210,\n",
       " 176,\n",
       " 116,\n",
       " 10,\n",
       " 121,\n",
       " 16,\n",
       " 112,\n",
       " 159,\n",
       " 113,\n",
       " 118,\n",
       " 155,\n",
       " 142,\n",
       " 131,\n",
       " 157,\n",
       " 136,\n",
       " 146,\n",
       " 138,\n",
       " -100,\n",
       " 909,\n",
       " 109,\n",
       " 85,\n",
       " 106,\n",
       " 129,\n",
       " 93,\n",
       " 7,\n",
       " 95,\n",
       " 179,\n",
       " 156,\n",
       " 168,\n",
       " 132,\n",
       " 104,\n",
       " 103,\n",
       " 178,\n",
       " 175,\n",
       " 128,\n",
       " 151,\n",
       " 15,\n",
       " 139,\n",
       " 11500,\n",
       " 127,\n",
       " 17,\n",
       " 108,\n",
       " 144,\n",
       " 102,\n",
       " 1,\n",
       " 1420,\n",
       " 13,\n",
       " 143,\n",
       " 701,\n",
       " 107,\n",
       " 184,\n",
       " 149,\n",
       " 167,\n",
       " 114,\n",
       " 101,\n",
       " 60,\n",
       " 1500,\n",
       " 181,\n",
       " 171,\n",
       " 202,\n",
       " -115,\n",
       " 111,\n",
       " 907,\n",
       " 20,\n",
       " 188,\n",
       " 185,\n",
       " 163,\n",
       " 173,\n",
       " 154,\n",
       " 177,\n",
       " -140,\n",
       " 174,\n",
       " -120,\n",
       " 14020,\n",
       " 1400,\n",
       " 240,\n",
       " 191,\n",
       " 197,\n",
       " 1620,\n",
       " 152,\n",
       " 96,\n",
       " 199,\n",
       " -150,\n",
       " 1130,\n",
       " 193,\n",
       " 99,\n",
       " 196,\n",
       " 309,\n",
       " 401,\n",
       " 16020,\n",
       " 1202,\n",
       " 806,\n",
       " 1300,\n",
       " 230,\n",
       " 207,\n",
       " 215,\n",
       " 97,\n",
       " 1409,\n",
       " 11020,\n",
       " 24,\n",
       " 960,\n",
       " 13010,\n",
       " 1110,\n",
       " 195,\n",
       " 1205,\n",
       " 187,\n",
       " 2000]"
      ]
     },
     "execution_count": 31,
     "metadata": {},
     "output_type": "execute_result"
    }
   ],
   "source": [
    "list(df_train.ap_hi.unique())"
   ]
  },
  {
   "cell_type": "code",
   "execution_count": 32,
   "id": "dd79fbc1-37e2-4010-978a-e83def578e59",
   "metadata": {},
   "outputs": [],
   "source": [
    "def press(a):\n",
    "    if a > 999 and a< 9999:\n",
    "        a = a//10\n",
    "    elif a > 9999:\n",
    "        a = a//10\n",
    "    return a"
   ]
  },
  {
   "cell_type": "code",
   "execution_count": 33,
   "id": "8c67d702-c010-4b77-a3b2-0846931703dc",
   "metadata": {},
   "outputs": [],
   "source": [
    "df_train['ap_hi'] = df_train['ap_hi'].apply(press)\n",
    "df_train['ap_hi'] = df_train['ap_hi'].apply(abs)"
   ]
  },
  {
   "cell_type": "code",
   "execution_count": 34,
   "id": "3b1c6da4",
   "metadata": {},
   "outputs": [
    {
     "data": {
      "image/png": "[encoded data removed]",
      "text/plain": [
       "<Figure size 640x480 with 1 Axes>"
      ]
     },
     "metadata": {},
     "output_type": "display_data"
    }
   ],
   "source": [
    "plt.boxplot(df_train['ap_hi']);"
   ]
  },
  {
   "cell_type": "code",
   "execution_count": 35,
   "id": "1e6188c2-6cd8-479e-82cc-a721a1d8b1ec",
   "metadata": {},
   "outputs": [
    {
     "name": "stdout",
     "output_type": "stream",
     "text": [
      "120.0\n"
     ]
    }
   ],
   "source": [
    "q1= df_train['ap_hi'].quantile(0.25)\n",
    "print(q1)"
   ]
  },
  {
   "cell_type": "code",
   "execution_count": 36,
   "id": "16bee4df-ba45-4fe2-8df1-6e8f52874168",
   "metadata": {},
   "outputs": [
    {
     "name": "stdout",
     "output_type": "stream",
     "text": [
      "140.0\n"
     ]
    }
   ],
   "source": [
    "q3= df_train['ap_hi'].quantile(0.75)\n",
    "print(q3)"
   ]
  },
  {
   "cell_type": "code",
   "execution_count": 37,
   "id": "9a4a4bda-31e2-4f4c-8f1f-d222c50e7c99",
   "metadata": {},
   "outputs": [
    {
     "name": "stdout",
     "output_type": "stream",
     "text": [
      "170.0\n"
     ]
    }
   ],
   "source": [
    "max = q3 + 1.5*(q3-q1)\n",
    "print(max)"
   ]
  },
  {
   "cell_type": "code",
   "execution_count": 38,
   "id": "45cff1ea-b4f1-4f8d-a4b6-c83e3b2100fe",
   "metadata": {},
   "outputs": [
    {
     "name": "stdout",
     "output_type": "stream",
     "text": [
      "90.0\n"
     ]
    }
   ],
   "source": [
    "min = q1 - 1.5*(q3-q1)\n",
    "print(min)"
   ]
  },
  {
   "cell_type": "code",
   "execution_count": 39,
   "id": "25713a9c-4502-43ff-a644-937b621fdc58",
   "metadata": {},
   "outputs": [],
   "source": [
    "df_train = df_train.loc[df_train['ap_hi'] < 300]"
   ]
  },
  {
   "cell_type": "code",
   "execution_count": 40,
   "id": "637f26f6-8b29-4b8f-9af0-14a356cae2ce",
   "metadata": {},
   "outputs": [
    {
     "data": {
      "text/plain": [
       "68586"
      ]
     },
     "execution_count": 40,
     "metadata": {},
     "output_type": "execute_result"
    }
   ],
   "source": [
    "df_train.loc[df_train['ap_hi'].between(min, max)].shape[0]"
   ]
  },
  {
   "cell_type": "markdown",
   "id": "22bc170f",
   "metadata": {},
   "source": [
    "### Пульс"
   ]
  },
  {
   "cell_type": "code",
   "execution_count": 41,
   "id": "08d30177",
   "metadata": {},
   "outputs": [
    {
     "data": {
      "text/plain": [
       "80     34840\n",
       "90     14313\n",
       "70     10243\n",
       "100     4082\n",
       "60      2722\n",
       "       ...  \n",
       "56         1\n",
       "182        1\n",
       "810        1\n",
       "9          1\n",
       "602        1\n",
       "Name: ap_lo, Length: 157, dtype: int64"
      ]
     },
     "execution_count": 41,
     "metadata": {},
     "output_type": "execute_result"
    }
   ],
   "source": [
    "df_train.ap_lo.value_counts()"
   ]
  },
  {
   "cell_type": "code",
   "execution_count": 42,
   "id": "0321e6e1",
   "metadata": {},
   "outputs": [
    {
     "data": {
      "text/plain": [
       "[80,\n",
       " 90,\n",
       " 70,\n",
       " 100,\n",
       " 60,\n",
       " 85,\n",
       " 89,\n",
       " 110,\n",
       " 65,\n",
       " 63,\n",
       " 79,\n",
       " 1100,\n",
       " 1000,\n",
       " 800,\n",
       " 120,\n",
       " 50,\n",
       " 30,\n",
       " 109,\n",
       " 84,\n",
       " 1033,\n",
       " 150,\n",
       " 91,\n",
       " 40,\n",
       " 73,\n",
       " 78,\n",
       " 75,\n",
       " 86,\n",
       " 87,\n",
       " 1001,\n",
       " 82,\n",
       " 95,\n",
       " 69,\n",
       " 74,\n",
       " 97,\n",
       " 81,\n",
       " 1200,\n",
       " 83,\n",
       " 119,\n",
       " 93,\n",
       " 105,\n",
       " 10000,\n",
       " 99,\n",
       " 77,\n",
       " 59,\n",
       " 8044,\n",
       " 140,\n",
       " 92,\n",
       " 1044,\n",
       " 108,\n",
       " 125,\n",
       " 115,\n",
       " 68,\n",
       " 61,\n",
       " 106,\n",
       " 102,\n",
       " 94,\n",
       " 66,\n",
       " 52,\n",
       " 170,\n",
       " 76,\n",
       " 160,\n",
       " 62,\n",
       " 96,\n",
       " 130,\n",
       " 113,\n",
       " 67,\n",
       " 9100,\n",
       " 10,\n",
       " 88,\n",
       " 902,\n",
       " 8,\n",
       " 112,\n",
       " 104,\n",
       " 71,\n",
       " 72,\n",
       " 1008,\n",
       " 98,\n",
       " 2088,\n",
       " 20,\n",
       " 802,\n",
       " 8000,\n",
       " 1022,\n",
       " 850,\n",
       " 708,\n",
       " 57,\n",
       " 101,\n",
       " 9011,\n",
       " 1011,\n",
       " 64,\n",
       " 0,\n",
       " 1007,\n",
       " 1177,\n",
       " 7100,\n",
       " 45,\n",
       " 709,\n",
       " 8500,\n",
       " 58,\n",
       " 1110,\n",
       " 8099,\n",
       " 1088,\n",
       " 126,\n",
       " 1077,\n",
       " 1120,\n",
       " 7,\n",
       " 103,\n",
       " 1125,\n",
       " 180,\n",
       " 121,\n",
       " 8100,\n",
       " 710,\n",
       " 5700,\n",
       " 8079,\n",
       " 1111,\n",
       " 1003,\n",
       " 6,\n",
       " 1900,\n",
       " 809,\n",
       " 114,\n",
       " 801,\n",
       " 1002,\n",
       " 53,\n",
       " 111,\n",
       " 1,\n",
       " 118,\n",
       " 56,\n",
       " 182,\n",
       " 810,\n",
       " 9,\n",
       " 7099,\n",
       " 11000,\n",
       " 9800,\n",
       " 8200,\n",
       " 1139,\n",
       " 107,\n",
       " 820,\n",
       " 55,\n",
       " 1400,\n",
       " 190,\n",
       " 900,\n",
       " 122,\n",
       " 6800,\n",
       " 135,\n",
       " 700,\n",
       " 15,\n",
       " 1101,\n",
       " 910,\n",
       " 1140,\n",
       " 1211,\n",
       " -70,\n",
       " 54,\n",
       " 8077,\n",
       " 901,\n",
       " 880,\n",
       " 870,\n",
       " 585,\n",
       " 49,\n",
       " 602]"
      ]
     },
     "execution_count": 42,
     "metadata": {},
     "output_type": "execute_result"
    }
   ],
   "source": [
    "list(df_train.ap_lo.unique())"
   ]
  },
  {
   "cell_type": "code",
   "execution_count": 43,
   "id": "e0dfdf9e",
   "metadata": {},
   "outputs": [],
   "source": [
    "df_train['ap_lo'] = df_train['ap_lo'].apply(press)\n",
    "df_train['ap_lo'] = df_train['ap_lo'].apply(abs)"
   ]
  },
  {
   "cell_type": "code",
   "execution_count": 44,
   "id": "cf9b1f8a-959e-43ce-b550-df2c91ff5532",
   "metadata": {},
   "outputs": [
    {
     "data": {
      "image/png": "[encoded data removed]",
      "text/plain": [
       "<Figure size 640x480 with 1 Axes>"
      ]
     },
     "metadata": {},
     "output_type": "display_data"
    }
   ],
   "source": [
    "plt.boxplot(df_train['ap_lo']);"
   ]
  },
  {
   "cell_type": "code",
   "execution_count": 45,
   "id": "2e7bc44d-d04c-48a9-b617-762973da11ec",
   "metadata": {},
   "outputs": [
    {
     "name": "stdout",
     "output_type": "stream",
     "text": [
      "80.0\n"
     ]
    }
   ],
   "source": [
    "q1= df_train['ap_lo'].quantile(0.25)\n",
    "print(q1)"
   ]
  },
  {
   "cell_type": "code",
   "execution_count": 46,
   "id": "05a1ce28-06f4-43d4-b4ce-1ad9c9659709",
   "metadata": {},
   "outputs": [
    {
     "name": "stdout",
     "output_type": "stream",
     "text": [
      "90.0\n"
     ]
    }
   ],
   "source": [
    "q3= df_train['ap_lo'].quantile(0.75)\n",
    "print(q3)"
   ]
  },
  {
   "cell_type": "code",
   "execution_count": 47,
   "id": "539112aa-7afa-473c-b50e-1517a787ec2d",
   "metadata": {},
   "outputs": [
    {
     "name": "stdout",
     "output_type": "stream",
     "text": [
      "105.0\n"
     ]
    }
   ],
   "source": [
    "max = q3 + 1.5*(q3-q1)\n",
    "print(max)"
   ]
  },
  {
   "cell_type": "code",
   "execution_count": 48,
   "id": "ed4aaaa9-0d8b-495d-9352-60b9859ab31c",
   "metadata": {},
   "outputs": [
    {
     "name": "stdout",
     "output_type": "stream",
     "text": [
      "65.0\n"
     ]
    }
   ],
   "source": [
    "min = q1 - 1.5*(q3-q1)\n",
    "print(min)"
   ]
  },
  {
   "cell_type": "code",
   "execution_count": 49,
   "id": "41d89263-13e7-4442-ad70-cd45569885b4",
   "metadata": {},
   "outputs": [],
   "source": [
    "df_train = df_train.loc[df_train['ap_lo'] < 200]"
   ]
  },
  {
   "cell_type": "code",
   "execution_count": null,
   "id": "8921b3dc-68ba-43a4-a462-2c01b0c6f7ed",
   "metadata": {},
   "outputs": [],
   "source": []
  },
  {
   "cell_type": "markdown",
   "id": "c5bcdbe6",
   "metadata": {},
   "source": [
    "### Уровень халестерина"
   ]
  },
  {
   "cell_type": "code",
   "execution_count": 50,
   "id": "4edba976",
   "metadata": {},
   "outputs": [
    {
     "data": {
      "text/plain": [
       "1    52326\n",
       "2     9533\n",
       "3     8059\n",
       "Name: cholesterol, dtype: int64"
      ]
     },
     "execution_count": 50,
     "metadata": {},
     "output_type": "execute_result"
    }
   ],
   "source": [
    "df_train.cholesterol.value_counts()"
   ]
  },
  {
   "cell_type": "markdown",
   "id": "dcda84b1",
   "metadata": {},
   "source": [
    "### Уровень сахара"
   ]
  },
  {
   "cell_type": "code",
   "execution_count": 51,
   "id": "3c10911f",
   "metadata": {},
   "outputs": [
    {
     "data": {
      "text/plain": [
       "1    59413\n",
       "3     5324\n",
       "2     5181\n",
       "Name: gluc, dtype: int64"
      ]
     },
     "execution_count": 51,
     "metadata": {},
     "output_type": "execute_result"
    }
   ],
   "source": [
    "df_train.gluc.value_counts()"
   ]
  },
  {
   "cell_type": "markdown",
   "id": "2fb07889",
   "metadata": {},
   "source": [
    "### Курение"
   ]
  },
  {
   "cell_type": "code",
   "execution_count": 52,
   "id": "6f9ea814",
   "metadata": {},
   "outputs": [
    {
     "data": {
      "text/plain": [
       "0    63755\n",
       "1     6163\n",
       "Name: smoke, dtype: int64"
      ]
     },
     "execution_count": 52,
     "metadata": {},
     "output_type": "execute_result"
    }
   ],
   "source": [
    "df_train.smoke.value_counts()"
   ]
  },
  {
   "cell_type": "markdown",
   "id": "d8694439",
   "metadata": {},
   "source": [
    "### Употребление алкоголя"
   ]
  },
  {
   "cell_type": "code",
   "execution_count": 53,
   "id": "9667ad7d",
   "metadata": {},
   "outputs": [
    {
     "data": {
      "text/plain": [
       "0    66160\n",
       "1     3758\n",
       "Name: alco, dtype: int64"
      ]
     },
     "execution_count": 53,
     "metadata": {},
     "output_type": "execute_result"
    }
   ],
   "source": [
    "df_train.alco.value_counts()"
   ]
  },
  {
   "cell_type": "markdown",
   "id": "ade20e0d",
   "metadata": {},
   "source": [
    "### Физическая активность"
   ]
  },
  {
   "cell_type": "code",
   "execution_count": 54,
   "id": "ae64886a",
   "metadata": {},
   "outputs": [
    {
     "data": {
      "text/plain": [
       "1    56193\n",
       "0    13725\n",
       "Name: active, dtype: int64"
      ]
     },
     "execution_count": 54,
     "metadata": {},
     "output_type": "execute_result"
    }
   ],
   "source": [
    "df_train.active.value_counts()"
   ]
  },
  {
   "cell_type": "code",
   "execution_count": 55,
   "id": "4f953926",
   "metadata": {},
   "outputs": [
    {
     "data": {
      "text/plain": [
       "Index(['id', 'age', 'gender', 'height', 'weight', 'ap_hi', 'ap_lo',\n",
       "       'cholesterol', 'gluc', 'smoke', 'alco', 'active', 'cardio'],\n",
       "      dtype='object')"
      ]
     },
     "execution_count": 55,
     "metadata": {},
     "output_type": "execute_result"
    }
   ],
   "source": [
    "df_train.columns"
   ]
  },
  {
   "cell_type": "code",
   "execution_count": 56,
   "id": "f34bf943",
   "metadata": {},
   "outputs": [
    {
     "data": {
      "image/png": "[encoded data removed]",
      "text/plain": [
       "<Figure size 640x480 with 2 Axes>"
      ]
     },
     "metadata": {},
     "output_type": "display_data"
    }
   ],
   "source": [
    "sns.heatmap(df_train.corr());"
   ]
  },
  {
   "cell_type": "code",
   "execution_count": 57,
   "id": "51d1269c",
   "metadata": {},
   "outputs": [],
   "source": [
    "#sns.pairplot(df_train, hue = 'cardio');"
   ]
  },
  {
   "cell_type": "code",
   "execution_count": 58,
   "id": "9e2164df",
   "metadata": {},
   "outputs": [
    {
     "data": {
      "text/plain": [
       "(69918, 13)"
      ]
     },
     "execution_count": 58,
     "metadata": {},
     "output_type": "execute_result"
    }
   ],
   "source": [
    "df_train.shape"
   ]
  },
  {
   "cell_type": "code",
   "execution_count": 59,
   "id": "a6e5452c-422f-4acc-bc97-9975e3d0ace2",
   "metadata": {},
   "outputs": [
    {
     "data": {
      "text/plain": [
       "0.008042857142857143"
      ]
     },
     "execution_count": 59,
     "metadata": {},
     "output_type": "execute_result"
    }
   ],
   "source": [
    "(70000-69437)/70000"
   ]
  },
  {
   "cell_type": "code",
   "execution_count": 60,
   "id": "07cd3a8d-a522-4bd9-8d98-7c27d5a91ca5",
   "metadata": {},
   "outputs": [
    {
     "data": {
      "text/html": [
       "<div>\n",
       "<style scoped>\n",
       "    .dataframe tbody tr th:only-of-type {\n",
       "        vertical-align: middle;\n",
       "    }\n",
       "\n",
       "    .dataframe tbody tr th {\n",
       "        vertical-align: top;\n",
       "    }\n",
       "\n",
       "    .dataframe thead th {\n",
       "        text-align: right;\n",
       "    }\n",
       "</style>\n",
       "<table border=\"1\" class=\"dataframe\">\n",
       "  <thead>\n",
       "    <tr style=\"text-align: right;\">\n",
       "      <th></th>\n",
       "      <th>id</th>\n",
       "      <th>age</th>\n",
       "      <th>gender</th>\n",
       "      <th>height</th>\n",
       "      <th>weight</th>\n",
       "      <th>ap_hi</th>\n",
       "      <th>ap_lo</th>\n",
       "      <th>cholesterol</th>\n",
       "      <th>gluc</th>\n",
       "      <th>smoke</th>\n",
       "      <th>alco</th>\n",
       "      <th>active</th>\n",
       "      <th>cardio</th>\n",
       "    </tr>\n",
       "  </thead>\n",
       "  <tbody>\n",
       "    <tr>\n",
       "      <th>0</th>\n",
       "      <td>0</td>\n",
       "      <td>50.0</td>\n",
       "      <td>2</td>\n",
       "      <td>168</td>\n",
       "      <td>62.0</td>\n",
       "      <td>110</td>\n",
       "      <td>80</td>\n",
       "      <td>1</td>\n",
       "      <td>1</td>\n",
       "      <td>0</td>\n",
       "      <td>0</td>\n",
       "      <td>1</td>\n",
       "      <td>0</td>\n",
       "    </tr>\n",
       "    <tr>\n",
       "      <th>1</th>\n",
       "      <td>1</td>\n",
       "      <td>55.0</td>\n",
       "      <td>1</td>\n",
       "      <td>156</td>\n",
       "      <td>85.0</td>\n",
       "      <td>140</td>\n",
       "      <td>90</td>\n",
       "      <td>3</td>\n",
       "      <td>1</td>\n",
       "      <td>0</td>\n",
       "      <td>0</td>\n",
       "      <td>1</td>\n",
       "      <td>1</td>\n",
       "    </tr>\n",
       "    <tr>\n",
       "      <th>2</th>\n",
       "      <td>2</td>\n",
       "      <td>52.0</td>\n",
       "      <td>1</td>\n",
       "      <td>165</td>\n",
       "      <td>64.0</td>\n",
       "      <td>130</td>\n",
       "      <td>70</td>\n",
       "      <td>3</td>\n",
       "      <td>1</td>\n",
       "      <td>0</td>\n",
       "      <td>0</td>\n",
       "      <td>0</td>\n",
       "      <td>1</td>\n",
       "    </tr>\n",
       "    <tr>\n",
       "      <th>3</th>\n",
       "      <td>3</td>\n",
       "      <td>48.0</td>\n",
       "      <td>2</td>\n",
       "      <td>169</td>\n",
       "      <td>82.0</td>\n",
       "      <td>150</td>\n",
       "      <td>100</td>\n",
       "      <td>1</td>\n",
       "      <td>1</td>\n",
       "      <td>0</td>\n",
       "      <td>0</td>\n",
       "      <td>1</td>\n",
       "      <td>1</td>\n",
       "    </tr>\n",
       "    <tr>\n",
       "      <th>4</th>\n",
       "      <td>4</td>\n",
       "      <td>48.0</td>\n",
       "      <td>1</td>\n",
       "      <td>156</td>\n",
       "      <td>56.0</td>\n",
       "      <td>100</td>\n",
       "      <td>60</td>\n",
       "      <td>1</td>\n",
       "      <td>1</td>\n",
       "      <td>0</td>\n",
       "      <td>0</td>\n",
       "      <td>0</td>\n",
       "      <td>0</td>\n",
       "    </tr>\n",
       "  </tbody>\n",
       "</table>\n",
       "</div>"
      ],
      "text/plain": [
       "   id   age  gender  height  weight  ap_hi  ap_lo  cholesterol  gluc  smoke  \\\n",
       "0   0  50.0       2     168    62.0    110     80            1     1      0   \n",
       "1   1  55.0       1     156    85.0    140     90            3     1      0   \n",
       "2   2  52.0       1     165    64.0    130     70            3     1      0   \n",
       "3   3  48.0       2     169    82.0    150    100            1     1      0   \n",
       "4   4  48.0       1     156    56.0    100     60            1     1      0   \n",
       "\n",
       "   alco  active  cardio  \n",
       "0     0       1       0  \n",
       "1     0       1       1  \n",
       "2     0       0       1  \n",
       "3     0       1       1  \n",
       "4     0       0       0  "
      ]
     },
     "execution_count": 60,
     "metadata": {},
     "output_type": "execute_result"
    }
   ],
   "source": [
    "df_train.head()"
   ]
  },
  {
   "cell_type": "code",
   "execution_count": 61,
   "id": "26214e5c-ae77-48a7-9a51-033f2f0817cf",
   "metadata": {},
   "outputs": [
    {
     "data": {
      "text/plain": [
       "<AxesSubplot: >"
      ]
     },
     "execution_count": 61,
     "metadata": {},
     "output_type": "execute_result"
    },
    {
     "data": {
      "image/png": "[encoded data removed]",
      "text/plain": [
       "<Figure size 640x480 with 1 Axes>"
      ]
     },
     "metadata": {},
     "output_type": "display_data"
    }
   ],
   "source": [
    "df_train['cardio'].hist()"
   ]
  },
  {
   "cell_type": "code",
   "execution_count": 62,
   "id": "d3a559bc-f138-4733-9698-f420c2d0aa4a",
   "metadata": {},
   "outputs": [
    {
     "data": {
      "text/plain": [
       "0    34980\n",
       "1    34938\n",
       "Name: cardio, dtype: int64"
      ]
     },
     "execution_count": 62,
     "metadata": {},
     "output_type": "execute_result"
    }
   ],
   "source": [
    "df_train['cardio'].value_counts()"
   ]
  },
  {
   "cell_type": "code",
   "execution_count": null,
   "id": "ae80797b-cd4d-4311-9823-ee6f30c20946",
   "metadata": {},
   "outputs": [],
   "source": []
  }
 ],
 "metadata": {
  "kernelspec": {
   "display_name": "Python 3 (ipykernel)",
   "language": "python",
   "name": "python3"
  },
  "language_info": {
   "codemirror_mode": {
    "name": "ipython",
    "version": 3
   },
   "file_extension": ".py",
   "mimetype": "text/x-python",
   "name": "python",
   "nbconvert_exporter": "python",
   "pygments_lexer": "ipython3",
   "version": "3.9.12"
  }
 },
 "nbformat": 4,
 "nbformat_minor": 5
}
