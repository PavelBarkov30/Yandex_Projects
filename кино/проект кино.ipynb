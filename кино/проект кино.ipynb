{
 "cells": [
  {
   "cell_type": "markdown",
   "metadata": {
    "id": "sIfNaMOxgFyK"
   },
   "source": [
    "## Исследование данных о российском кинопрокате\n",
    "\n"
   ]
  },
  {
   "cell_type": "markdown",
   "metadata": {},
   "source": [
    "В нашем распоряжении данные, опубликованные на портале открытых данных Министерства культуры.<br>\n",
    "Набор данных содержит информацию о прокатных удостоверениях, сборах и государственной поддержке фильмов, а также информацию с сайта КиноПоиск.<br>\n",
    "Нам нужно изучить рынок российского кинопроката и выявить текущие тренды. Уделить внимание фильмам, которые получили государственную поддержку. Ответить на вопрос, насколько такие фильмы интересны зрителю."
   ]
  },
  {
   "cell_type": "markdown",
   "metadata": {},
   "source": [
    "**Цель исследования** — проверить :\n",
    "- сколько фильмов выходило каждый год в прокате;\n",
    "- изучить как менялась динамика проката по годам;\n",
    "- изучить медианную и среднюю сумму сборов по годам;\n",
    "- изучить влияет ли возрастное ограничение на сборы фильмов в прокате;\n",
    "- исследовать фильмы получившие гос.поддержку."
   ]
  },
  {
   "cell_type": "markdown",
   "metadata": {},
   "source": [
    "**Ход исследования**\n",
    "\n",
    "Данные мы получаем из двух датасетов:<br>\n",
    "- /datasets/mkrf_movies.csv — данные о прокатных удостоверениях.<br>\n",
    "- /datasets/mkrf_shows.csv — данные о прокате в российских кинотеатрах.<br>\n",
    "Нужно объедините данные таким образом, чтобы все объекты из датасета mkrf_movies обязательно вошли в получившийся датафрейм.<br>\n",
    "О качестве данных ничего не известно. Поэтому перед проверкой гипотез понадобится обзор данных. <br>\n",
    "Таким образом, исследование пройдёт в три этапа:\n",
    " 1. Обзор данных.\n",
    " 2. Предобработка данных.\n",
    " 3. Исследовательский анализ."
   ]
  },
  {
   "cell_type": "markdown",
   "metadata": {
    "id": "3bSlkCsbgFyL"
   },
   "source": [
    "### Шаг 1. Откройте файлы с данными и объедините их в один датафрейм. \n",
    "\n",
    "Объедините данные таким образом, чтобы все объекты из датасета `mkrf_movies` обязательно вошли в получившийся датафрейм. \n",
    "\n",
    "<div id=\"accordion\">\n",
    "    <div class=\"card\">\n",
    "        <div class=\"card-header\" id=\"headingThree\">\n",
    "            <button class=\"btn btn-link collapsed\" data-toggle=\"collapse\" data-target=\"#collapseHint_0\" aria-expanded=\"false\" aria-controls=\"collapseHint_0\">Подсказка</button>\n",
    "        </div>\n",
    "        <div id=\"collapseHint_0\" class=\"collapse\" aria-labelledby=\"headingThree\" data-parent=\"#accordion\">\n",
    "            <div class=\"card-body\">\n",
    "Обратите внимание на тип данных столбца, по которому будете соединять датафреймы. Тип данных этих столбцов должен быть одинаковым в обоих датафреймах.\n",
    "            </div>\n",
    "        </div>\n",
    "    </div>\n",
    "</div>"
   ]
  },
  {
   "cell_type": "code",
   "execution_count": 1,
   "metadata": {
    "id": "dw87FlzMgFyM"
   },
   "outputs": [],
   "source": [
    "import pandas as pd\n",
    "import matplotlib.pyplot as plt"
   ]
  },
  {
   "cell_type": "code",
   "execution_count": 2,
   "metadata": {},
   "outputs": [],
   "source": [
    "try:\n",
    "    data1=pd.read_csv('/datasets/mkrf_movies.csv')\n",
    "except:\n",
    "    data1=pd.read_csv(r'C:\\Users\\pulka\\Downloads\\mkrf_movies.csv')"
   ]
  },
  {
   "cell_type": "code",
   "execution_count": 3,
   "metadata": {},
   "outputs": [],
   "source": [
    "try:\n",
    "    data2=pd.read_csv('/datasets/mkrf_shows.csv')\n",
    "except:\n",
    "    data2=pd.read_csv(r'C:\\Users\\pulka\\Downloads\\mkrf_shows.csv')"
   ]
  },
  {
   "cell_type": "code",
   "execution_count": 4,
   "metadata": {},
   "outputs": [
    {
     "data": {
      "text/html": [
       "<div>\n",
       "<style scoped>\n",
       "    .dataframe tbody tr th:only-of-type {\n",
       "        vertical-align: middle;\n",
       "    }\n",
       "\n",
       "    .dataframe tbody tr th {\n",
       "        vertical-align: top;\n",
       "    }\n",
       "\n",
       "    .dataframe thead th {\n",
       "        text-align: right;\n",
       "    }\n",
       "</style>\n",
       "<table border=\"1\" class=\"dataframe\">\n",
       "  <thead>\n",
       "    <tr style=\"text-align: right;\">\n",
       "      <th></th>\n",
       "      <th>title</th>\n",
       "      <th>puNumber</th>\n",
       "      <th>show_start_date</th>\n",
       "      <th>type</th>\n",
       "      <th>film_studio</th>\n",
       "      <th>production_country</th>\n",
       "      <th>director</th>\n",
       "      <th>producer</th>\n",
       "      <th>age_restriction</th>\n",
       "      <th>refundable_support</th>\n",
       "      <th>nonrefundable_support</th>\n",
       "      <th>budget</th>\n",
       "      <th>financing_source</th>\n",
       "      <th>ratings</th>\n",
       "      <th>genres</th>\n",
       "    </tr>\n",
       "  </thead>\n",
       "  <tbody>\n",
       "    <tr>\n",
       "      <th>0</th>\n",
       "      <td>Открытый простор</td>\n",
       "      <td>221048915</td>\n",
       "      <td>2015-11-27T12:00:00.000Z</td>\n",
       "      <td>Художественный</td>\n",
       "      <td>Тачстоун Пикчерз, Кобальт Пикчерз, Бикон Пикче...</td>\n",
       "      <td>США</td>\n",
       "      <td>Кевин Костнер</td>\n",
       "      <td>Дэвид Валдес, Кевин Костнер, Джейк Эбертс</td>\n",
       "      <td>«18+» - запрещено для детей</td>\n",
       "      <td>NaN</td>\n",
       "      <td>NaN</td>\n",
       "      <td>NaN</td>\n",
       "      <td>NaN</td>\n",
       "      <td>7.2</td>\n",
       "      <td>боевик,драма,мелодрама</td>\n",
       "    </tr>\n",
       "    <tr>\n",
       "      <th>1</th>\n",
       "      <td>Особо важное задание</td>\n",
       "      <td>111013716</td>\n",
       "      <td>2016-09-13T12:00:00.000Z</td>\n",
       "      <td>Художественный</td>\n",
       "      <td>Киностудия \"Мосфильм\"</td>\n",
       "      <td>СССР</td>\n",
       "      <td>Е.Матвеев</td>\n",
       "      <td>NaN</td>\n",
       "      <td>«6+» - для детей старше 6 лет</td>\n",
       "      <td>NaN</td>\n",
       "      <td>NaN</td>\n",
       "      <td>NaN</td>\n",
       "      <td>NaN</td>\n",
       "      <td>6.6</td>\n",
       "      <td>драма,военный</td>\n",
       "    </tr>\n",
       "    <tr>\n",
       "      <th>2</th>\n",
       "      <td>Особо опасен</td>\n",
       "      <td>221038416</td>\n",
       "      <td>2016-10-10T12:00:00.000Z</td>\n",
       "      <td>Художественный</td>\n",
       "      <td>Юниверсал Пикчерз, Кикстарт Продакшнз, Марк Пл...</td>\n",
       "      <td>США</td>\n",
       "      <td>Тимур Бекмамбетов</td>\n",
       "      <td>Джим Лемли, Джейсон Нетер, Марк Е.Платт, Яйн Смит</td>\n",
       "      <td>«18+» - запрещено для детей</td>\n",
       "      <td>NaN</td>\n",
       "      <td>NaN</td>\n",
       "      <td>NaN</td>\n",
       "      <td>NaN</td>\n",
       "      <td>6.8</td>\n",
       "      <td>фантастика,боевик,триллер</td>\n",
       "    </tr>\n",
       "    <tr>\n",
       "      <th>3</th>\n",
       "      <td>Особо опасен</td>\n",
       "      <td>221026916</td>\n",
       "      <td>2016-06-10T12:00:00.000Z</td>\n",
       "      <td>Художественный</td>\n",
       "      <td>Юниверсал Пикчерз, Кикстарт Продакшнз, Марк Пл...</td>\n",
       "      <td>США</td>\n",
       "      <td>Тимур Бекмамбетов</td>\n",
       "      <td>Джим Лемли, Джейсон Нетер, Марк Е.Платт, Яйн Смит</td>\n",
       "      <td>«18+» - запрещено для детей</td>\n",
       "      <td>NaN</td>\n",
       "      <td>NaN</td>\n",
       "      <td>NaN</td>\n",
       "      <td>NaN</td>\n",
       "      <td>6.8</td>\n",
       "      <td>фантастика,боевик,триллер</td>\n",
       "    </tr>\n",
       "    <tr>\n",
       "      <th>4</th>\n",
       "      <td>Особо опасен</td>\n",
       "      <td>221030815</td>\n",
       "      <td>2015-07-29T12:00:00.000Z</td>\n",
       "      <td>Художественный</td>\n",
       "      <td>Юниверсал Пикчерз, Кикстарт Продакшнз, Марк Пл...</td>\n",
       "      <td>США</td>\n",
       "      <td>Тимур Бекмамбетов</td>\n",
       "      <td>Джим Лемли, Джейсон Нетер, Марк Е.Платт, Яйн Смит</td>\n",
       "      <td>«18+» - запрещено для детей</td>\n",
       "      <td>NaN</td>\n",
       "      <td>NaN</td>\n",
       "      <td>NaN</td>\n",
       "      <td>NaN</td>\n",
       "      <td>6.8</td>\n",
       "      <td>фантастика,боевик,триллер</td>\n",
       "    </tr>\n",
       "  </tbody>\n",
       "</table>\n",
       "</div>"
      ],
      "text/plain": [
       "                  title   puNumber           show_start_date            type  \\\n",
       "0      Открытый простор  221048915  2015-11-27T12:00:00.000Z  Художественный   \n",
       "1  Особо важное задание  111013716  2016-09-13T12:00:00.000Z  Художественный   \n",
       "2          Особо опасен  221038416  2016-10-10T12:00:00.000Z  Художественный   \n",
       "3          Особо опасен  221026916  2016-06-10T12:00:00.000Z  Художественный   \n",
       "4          Особо опасен  221030815  2015-07-29T12:00:00.000Z  Художественный   \n",
       "\n",
       "                                         film_studio production_country  \\\n",
       "0  Тачстоун Пикчерз, Кобальт Пикчерз, Бикон Пикче...                США   \n",
       "1                              Киностудия \"Мосфильм\"               СССР   \n",
       "2  Юниверсал Пикчерз, Кикстарт Продакшнз, Марк Пл...                США   \n",
       "3  Юниверсал Пикчерз, Кикстарт Продакшнз, Марк Пл...                США   \n",
       "4  Юниверсал Пикчерз, Кикстарт Продакшнз, Марк Пл...                США   \n",
       "\n",
       "            director                                           producer  \\\n",
       "0      Кевин Костнер          Дэвид Валдес, Кевин Костнер, Джейк Эбертс   \n",
       "1          Е.Матвеев                                                NaN   \n",
       "2  Тимур Бекмамбетов  Джим Лемли, Джейсон Нетер, Марк Е.Платт, Яйн Смит   \n",
       "3  Тимур Бекмамбетов  Джим Лемли, Джейсон Нетер, Марк Е.Платт, Яйн Смит   \n",
       "4  Тимур Бекмамбетов  Джим Лемли, Джейсон Нетер, Марк Е.Платт, Яйн Смит   \n",
       "\n",
       "                 age_restriction  refundable_support  nonrefundable_support  \\\n",
       "0    «18+» - запрещено для детей                 NaN                    NaN   \n",
       "1  «6+» - для детей старше 6 лет                 NaN                    NaN   \n",
       "2    «18+» - запрещено для детей                 NaN                    NaN   \n",
       "3    «18+» - запрещено для детей                 NaN                    NaN   \n",
       "4    «18+» - запрещено для детей                 NaN                    NaN   \n",
       "\n",
       "   budget financing_source ratings                     genres  \n",
       "0     NaN              NaN     7.2     боевик,драма,мелодрама  \n",
       "1     NaN              NaN     6.6              драма,военный  \n",
       "2     NaN              NaN     6.8  фантастика,боевик,триллер  \n",
       "3     NaN              NaN     6.8  фантастика,боевик,триллер  \n",
       "4     NaN              NaN     6.8  фантастика,боевик,триллер  "
      ]
     },
     "execution_count": 4,
     "metadata": {},
     "output_type": "execute_result"
    }
   ],
   "source": [
    "data1.head(2)"
   ]
  },
  {
   "cell_type": "code",
   "execution_count": 5,
   "metadata": {},
   "outputs": [],
   "source": [
    "data2['puNumber']=data2['puNumber'].astype('str')"
   ]
  },
  {
   "cell_type": "code",
   "execution_count": 6,
   "metadata": {},
   "outputs": [],
   "source": [
    "df=data1.merge(data2,how='left',on='puNumber')"
   ]
  },
  {
   "cell_type": "code",
   "execution_count": 7,
   "metadata": {},
   "outputs": [
    {
     "data": {
      "text/html": [
       "<div>\n",
       "<style scoped>\n",
       "    .dataframe tbody tr th:only-of-type {\n",
       "        vertical-align: middle;\n",
       "    }\n",
       "\n",
       "    .dataframe tbody tr th {\n",
       "        vertical-align: top;\n",
       "    }\n",
       "\n",
       "    .dataframe thead th {\n",
       "        text-align: right;\n",
       "    }\n",
       "</style>\n",
       "<table border=\"1\" class=\"dataframe\">\n",
       "  <thead>\n",
       "    <tr style=\"text-align: right;\">\n",
       "      <th></th>\n",
       "      <th>title</th>\n",
       "      <th>puNumber</th>\n",
       "      <th>show_start_date</th>\n",
       "      <th>type</th>\n",
       "      <th>film_studio</th>\n",
       "      <th>production_country</th>\n",
       "      <th>director</th>\n",
       "      <th>producer</th>\n",
       "      <th>age_restriction</th>\n",
       "      <th>refundable_support</th>\n",
       "      <th>nonrefundable_support</th>\n",
       "      <th>budget</th>\n",
       "      <th>financing_source</th>\n",
       "      <th>ratings</th>\n",
       "      <th>genres</th>\n",
       "      <th>box_office</th>\n",
       "    </tr>\n",
       "  </thead>\n",
       "  <tbody>\n",
       "    <tr>\n",
       "      <th>0</th>\n",
       "      <td>Открытый простор</td>\n",
       "      <td>221048915</td>\n",
       "      <td>2015-11-27T12:00:00.000Z</td>\n",
       "      <td>Художественный</td>\n",
       "      <td>Тачстоун Пикчерз, Кобальт Пикчерз, Бикон Пикче...</td>\n",
       "      <td>США</td>\n",
       "      <td>Кевин Костнер</td>\n",
       "      <td>Дэвид Валдес, Кевин Костнер, Джейк Эбертс</td>\n",
       "      <td>«18+» - запрещено для детей</td>\n",
       "      <td>NaN</td>\n",
       "      <td>NaN</td>\n",
       "      <td>NaN</td>\n",
       "      <td>NaN</td>\n",
       "      <td>7.2</td>\n",
       "      <td>боевик,драма,мелодрама</td>\n",
       "      <td>NaN</td>\n",
       "    </tr>\n",
       "    <tr>\n",
       "      <th>1</th>\n",
       "      <td>Особо важное задание</td>\n",
       "      <td>111013716</td>\n",
       "      <td>2016-09-13T12:00:00.000Z</td>\n",
       "      <td>Художественный</td>\n",
       "      <td>Киностудия \"Мосфильм\"</td>\n",
       "      <td>СССР</td>\n",
       "      <td>Е.Матвеев</td>\n",
       "      <td>NaN</td>\n",
       "      <td>«6+» - для детей старше 6 лет</td>\n",
       "      <td>NaN</td>\n",
       "      <td>NaN</td>\n",
       "      <td>NaN</td>\n",
       "      <td>NaN</td>\n",
       "      <td>6.6</td>\n",
       "      <td>драма,военный</td>\n",
       "      <td>NaN</td>\n",
       "    </tr>\n",
       "    <tr>\n",
       "      <th>2</th>\n",
       "      <td>Особо опасен</td>\n",
       "      <td>221038416</td>\n",
       "      <td>2016-10-10T12:00:00.000Z</td>\n",
       "      <td>Художественный</td>\n",
       "      <td>Юниверсал Пикчерз, Кикстарт Продакшнз, Марк Пл...</td>\n",
       "      <td>США</td>\n",
       "      <td>Тимур Бекмамбетов</td>\n",
       "      <td>Джим Лемли, Джейсон Нетер, Марк Е.Платт, Яйн Смит</td>\n",
       "      <td>«18+» - запрещено для детей</td>\n",
       "      <td>NaN</td>\n",
       "      <td>NaN</td>\n",
       "      <td>NaN</td>\n",
       "      <td>NaN</td>\n",
       "      <td>6.8</td>\n",
       "      <td>фантастика,боевик,триллер</td>\n",
       "      <td>NaN</td>\n",
       "    </tr>\n",
       "    <tr>\n",
       "      <th>3</th>\n",
       "      <td>Особо опасен</td>\n",
       "      <td>221026916</td>\n",
       "      <td>2016-06-10T12:00:00.000Z</td>\n",
       "      <td>Художественный</td>\n",
       "      <td>Юниверсал Пикчерз, Кикстарт Продакшнз, Марк Пл...</td>\n",
       "      <td>США</td>\n",
       "      <td>Тимур Бекмамбетов</td>\n",
       "      <td>Джим Лемли, Джейсон Нетер, Марк Е.Платт, Яйн Смит</td>\n",
       "      <td>«18+» - запрещено для детей</td>\n",
       "      <td>NaN</td>\n",
       "      <td>NaN</td>\n",
       "      <td>NaN</td>\n",
       "      <td>NaN</td>\n",
       "      <td>6.8</td>\n",
       "      <td>фантастика,боевик,триллер</td>\n",
       "      <td>NaN</td>\n",
       "    </tr>\n",
       "    <tr>\n",
       "      <th>4</th>\n",
       "      <td>Особо опасен</td>\n",
       "      <td>221030815</td>\n",
       "      <td>2015-07-29T12:00:00.000Z</td>\n",
       "      <td>Художественный</td>\n",
       "      <td>Юниверсал Пикчерз, Кикстарт Продакшнз, Марк Пл...</td>\n",
       "      <td>США</td>\n",
       "      <td>Тимур Бекмамбетов</td>\n",
       "      <td>Джим Лемли, Джейсон Нетер, Марк Е.Платт, Яйн Смит</td>\n",
       "      <td>«18+» - запрещено для детей</td>\n",
       "      <td>NaN</td>\n",
       "      <td>NaN</td>\n",
       "      <td>NaN</td>\n",
       "      <td>NaN</td>\n",
       "      <td>6.8</td>\n",
       "      <td>фантастика,боевик,триллер</td>\n",
       "      <td>NaN</td>\n",
       "    </tr>\n",
       "  </tbody>\n",
       "</table>\n",
       "</div>"
      ],
      "text/plain": [
       "                  title   puNumber           show_start_date            type  \\\n",
       "0      Открытый простор  221048915  2015-11-27T12:00:00.000Z  Художественный   \n",
       "1  Особо важное задание  111013716  2016-09-13T12:00:00.000Z  Художественный   \n",
       "2          Особо опасен  221038416  2016-10-10T12:00:00.000Z  Художественный   \n",
       "3          Особо опасен  221026916  2016-06-10T12:00:00.000Z  Художественный   \n",
       "4          Особо опасен  221030815  2015-07-29T12:00:00.000Z  Художественный   \n",
       "\n",
       "                                         film_studio production_country  \\\n",
       "0  Тачстоун Пикчерз, Кобальт Пикчерз, Бикон Пикче...                США   \n",
       "1                              Киностудия \"Мосфильм\"               СССР   \n",
       "2  Юниверсал Пикчерз, Кикстарт Продакшнз, Марк Пл...                США   \n",
       "3  Юниверсал Пикчерз, Кикстарт Продакшнз, Марк Пл...                США   \n",
       "4  Юниверсал Пикчерз, Кикстарт Продакшнз, Марк Пл...                США   \n",
       "\n",
       "            director                                           producer  \\\n",
       "0      Кевин Костнер          Дэвид Валдес, Кевин Костнер, Джейк Эбертс   \n",
       "1          Е.Матвеев                                                NaN   \n",
       "2  Тимур Бекмамбетов  Джим Лемли, Джейсон Нетер, Марк Е.Платт, Яйн Смит   \n",
       "3  Тимур Бекмамбетов  Джим Лемли, Джейсон Нетер, Марк Е.Платт, Яйн Смит   \n",
       "4  Тимур Бекмамбетов  Джим Лемли, Джейсон Нетер, Марк Е.Платт, Яйн Смит   \n",
       "\n",
       "                 age_restriction  refundable_support  nonrefundable_support  \\\n",
       "0    «18+» - запрещено для детей                 NaN                    NaN   \n",
       "1  «6+» - для детей старше 6 лет                 NaN                    NaN   \n",
       "2    «18+» - запрещено для детей                 NaN                    NaN   \n",
       "3    «18+» - запрещено для детей                 NaN                    NaN   \n",
       "4    «18+» - запрещено для детей                 NaN                    NaN   \n",
       "\n",
       "   budget financing_source ratings                     genres  box_office  \n",
       "0     NaN              NaN     7.2     боевик,драма,мелодрама         NaN  \n",
       "1     NaN              NaN     6.6              драма,военный         NaN  \n",
       "2     NaN              NaN     6.8  фантастика,боевик,триллер         NaN  \n",
       "3     NaN              NaN     6.8  фантастика,боевик,триллер         NaN  \n",
       "4     NaN              NaN     6.8  фантастика,боевик,триллер         NaN  "
      ]
     },
     "execution_count": 7,
     "metadata": {},
     "output_type": "execute_result"
    }
   ],
   "source": [
    "df.head(2)"
   ]
  },
  {
   "cell_type": "code",
   "execution_count": 8,
   "metadata": {},
   "outputs": [
    {
     "data": {
      "text/plain": [
       "(7486, 15)"
      ]
     },
     "metadata": {},
     "output_type": "display_data"
    },
    {
     "data": {
      "text/plain": [
       "(3158, 2)"
      ]
     },
     "metadata": {},
     "output_type": "display_data"
    },
    {
     "data": {
      "text/plain": [
       "(7486, 16)"
      ]
     },
     "metadata": {},
     "output_type": "display_data"
    }
   ],
   "source": [
    "display(data1.shape)\n",
    "display(data2.shape)\n",
    "display(df.shape)"
   ]
  },
  {
   "cell_type": "markdown",
   "metadata": {},
   "source": [
    "Объединили два датасета таким образом, чтобы все объекты из датасета mkrf_movies обязательно вошли в получившийся датафрейм.<br>\n",
    "Объединили датасеты по общему столбцу puNumber.\n",
    "- /datasets/mkrf_movies.csv — данные о прокатных удостоверениях.\n",
    "- /datasets/mkrf_shows.csv — данные о прокате в российских кинотеатрах.<br>\n",
    "Провели проверку размерности получившегося датафрейма.\n"
   ]
  },
  {
   "cell_type": "markdown",
   "metadata": {
    "id": "KLDGpPG0gFyM"
   },
   "source": [
    "### Шаг 2. Предобработка данных"
   ]
  },
  {
   "cell_type": "markdown",
   "metadata": {
    "id": "ssWwKXsxgFyO"
   },
   "source": [
    "#### Шаг 2.1. Проверьте типы данных\n",
    "\n",
    "- Проверьте типы данных в датафрейме и преобразуйте их там, где это необходимо."
   ]
  },
  {
   "cell_type": "code",
   "execution_count": 9,
   "metadata": {
    "id": "kVGSplJOgFyO"
   },
   "outputs": [
    {
     "name": "stdout",
     "output_type": "stream",
     "text": [
      "<class 'pandas.core.frame.DataFrame'>\n",
      "Int64Index: 7486 entries, 0 to 7485\n",
      "Data columns (total 16 columns):\n",
      " #   Column                 Non-Null Count  Dtype  \n",
      "---  ------                 --------------  -----  \n",
      " 0   title                  7486 non-null   object \n",
      " 1   puNumber               7486 non-null   object \n",
      " 2   show_start_date        7486 non-null   object \n",
      " 3   type                   7486 non-null   object \n",
      " 4   film_studio            7468 non-null   object \n",
      " 5   production_country     7484 non-null   object \n",
      " 6   director               7477 non-null   object \n",
      " 7   producer               6918 non-null   object \n",
      " 8   age_restriction        7486 non-null   object \n",
      " 9   refundable_support     332 non-null    float64\n",
      " 10  nonrefundable_support  332 non-null    float64\n",
      " 11  budget                 332 non-null    float64\n",
      " 12  financing_source       332 non-null    object \n",
      " 13  ratings                6519 non-null   object \n",
      " 14  genres                 6510 non-null   object \n",
      " 15  box_office             3158 non-null   float64\n",
      "dtypes: float64(4), object(12)\n",
      "memory usage: 994.2+ KB\n"
     ]
    }
   ],
   "source": [
    "df.info()"
   ]
  },
  {
   "cell_type": "markdown",
   "metadata": {},
   "source": [
    "- Для удобства работы с временем привели столбец **show_start_date** к типу **datetime**.-"
   ]
  },
  {
   "cell_type": "code",
   "execution_count": 10,
   "metadata": {},
   "outputs": [],
   "source": [
    "df['show_start_date']=pd.to_datetime(df['show_start_date'],format='%Y-%m-%dT%H:%M:%S')"
   ]
  },
  {
   "cell_type": "code",
   "execution_count": 11,
   "metadata": {},
   "outputs": [
    {
     "data": {
      "text/plain": [
       "0      2015-11-27 12:00:00+00:00\n",
       "1      2016-09-13 12:00:00+00:00\n",
       "2      2016-10-10 12:00:00+00:00\n",
       "3      2016-06-10 12:00:00+00:00\n",
       "4      2015-07-29 12:00:00+00:00\n",
       "                  ...           \n",
       "7481   2019-12-23 12:00:00+00:00\n",
       "7482   2019-12-24 12:00:00+00:00\n",
       "7483   2019-12-28 12:00:00+00:00\n",
       "7484   2019-12-30 12:00:00+00:00\n",
       "7485   2019-12-30 12:00:00+00:00\n",
       "Name: show_start_date, Length: 7486, dtype: datetime64[ns, UTC]"
      ]
     },
     "execution_count": 11,
     "metadata": {},
     "output_type": "execute_result"
    }
   ],
   "source": [
    "df['show_start_date']"
   ]
  },
  {
   "cell_type": "markdown",
   "metadata": {},
   "source": [
    "- Поменяем тип данных в столбце **ratings**, но для этого обработаем некоторые значения в нем."
   ]
  },
  {
   "cell_type": "code",
   "execution_count": 12,
   "metadata": {},
   "outputs": [
    {
     "data": {
      "text/plain": [
       "array(['7.2', '6.6', '6.8', '7.7', '8.3', '8.0', '7.8', '8.1', '7.1',\n",
       "       '6.0', '7.4', '5.8', '8.7', '6.3', '6.9', '5.0', '4.3', '7.3',\n",
       "       '7.0', '6.4', nan, '8.2', '7.5', '6.7', '7.9', '5.9', '6.2', '5.6',\n",
       "       '6.5', '2.4', '7.6', '6.1', '8.6', '8.5', '8.8', '5.5', '5.1',\n",
       "       '5.7', '5.4', '99%', '4.4', '4.5', '5.3', '4.1', '8.4', '2.6',\n",
       "       '3.8', '4.6', '4.8', '4.0', '3.0', '1.6', '4.2', '5.2', '4.7',\n",
       "       '4.9', '3.9', '2.7', '3.3', '2.9', '28%', '3.7', '1.4', '3.1',\n",
       "       '97%', '3.5', '3.2', '2.8', '1.5', '2.1', '2.5', '9.2', '3.4',\n",
       "       '1.1', '3.6', '83%', '64%', '91%', '94%', '62%', '79%', '90%',\n",
       "       '19%', '88%', '1.0', '89%', '1.3', '1.9', '1.8', '1.2', '1.7',\n",
       "       '9.0', '98%', '8.9', '9.1'], dtype=object)"
      ]
     },
     "execution_count": 12,
     "metadata": {},
     "output_type": "execute_result"
    }
   ],
   "source": [
    "df['ratings'].unique()"
   ]
  },
  {
   "cell_type": "code",
   "execution_count": 13,
   "metadata": {},
   "outputs": [],
   "source": [
    "df['ratings']=df['ratings'].replace({'99%':9.9,'28%':2.8,'97%':9.7,'83%':8.3,'64%':6.4,'91%':9.1,'94%':9.4,'62%':6.2,'79%':7.9,'90%':9.0,'19%':1.9,'88%':8.8,'89%':8.9,'98%':9.8})"
   ]
  },
  {
   "cell_type": "code",
   "execution_count": 14,
   "metadata": {},
   "outputs": [],
   "source": [
    "df['ratings']=df['ratings'].astype(float)"
   ]
  },
  {
   "cell_type": "markdown",
   "metadata": {
    "id": "i0MOLbF-gFyP"
   },
   "source": [
    "#### Шаг 2.2. Изучите пропуски в датафрейме\n",
    "\n",
    "- Объясните, почему заполнили пропуски определённым образом или почему не стали этого делать."
   ]
  },
  {
   "cell_type": "code",
   "execution_count": 15,
   "metadata": {
    "id": "8MJD_lkngFyP"
   },
   "outputs": [
    {
     "data": {
      "text/plain": [
       "refundable_support       0.955651\n",
       "nonrefundable_support    0.955651\n",
       "budget                   0.955651\n",
       "financing_source         0.955651\n",
       "box_office               0.578146\n",
       "genres                   0.130377\n",
       "ratings                  0.129174\n",
       "producer                 0.075875\n",
       "film_studio              0.002404\n",
       "director                 0.001202\n",
       "production_country       0.000267\n",
       "title                    0.000000\n",
       "puNumber                 0.000000\n",
       "show_start_date          0.000000\n",
       "type                     0.000000\n",
       "age_restriction          0.000000\n",
       "dtype: float64"
      ]
     },
     "execution_count": 15,
     "metadata": {},
     "output_type": "execute_result"
    }
   ],
   "source": [
    "df.isna().mean().sort_values(ascending=False)"
   ]
  },
  {
   "cell_type": "markdown",
   "metadata": {},
   "source": [
    "- **financing_source** - источник государственного финансирования<br>\n",
    "Если пропуск в данных, значит фильм без гос. финансирования.<br>\n",
    "Заполним пропуски строкой **'без гос.финансирования'**\n"
   ]
  },
  {
   "cell_type": "code",
   "execution_count": 16,
   "metadata": {},
   "outputs": [],
   "source": [
    "df['financing_source']=df['financing_source'].fillna('без гос.финансирования')"
   ]
  },
  {
   "cell_type": "markdown",
   "metadata": {},
   "source": [
    "- **refundable_support** - это объемы возвратных средств гос.поддержки<br>\n",
    "- **nonrefundable_support** -это объемы невозвратных средств гос.поддержки <br>\n",
    "- **budget** - общий бюджет фильма.<br> \n",
    "Если фильм без гос. финансирования,то **refundable_support** и **nonrefundable_support**  будут равны нулю для этого фильма.<br>\n",
    " **budget** уже включает в себя полный объём государственной поддержки. Данные в этом столбце указаны только для тех фильмов, которые получили государственную поддержку. Если у фильма нет гос.поддержки, то столбец **budget** для этого фильма заполним фразой \n",
    "\"не известен\"."
   ]
  },
  {
   "cell_type": "code",
   "execution_count": 17,
   "metadata": {},
   "outputs": [],
   "source": [
    "df[['refundable_support','nonrefundable_support']]=df[[\n",
    "    'refundable_support','nonrefundable_support']].fillna(0)"
   ]
  },
  {
   "cell_type": "code",
   "execution_count": 18,
   "metadata": {},
   "outputs": [],
   "source": [
    "df['budget']=df['budget'].fillna('не известен')"
   ]
  },
  {
   "cell_type": "code",
   "execution_count": 19,
   "metadata": {},
   "outputs": [
    {
     "data": {
      "text/plain": [
       "box_office               0.578146\n",
       "genres                   0.130377\n",
       "ratings                  0.129174\n",
       "producer                 0.075875\n",
       "film_studio              0.002404\n",
       "director                 0.001202\n",
       "production_country       0.000267\n",
       "title                    0.000000\n",
       "puNumber                 0.000000\n",
       "show_start_date          0.000000\n",
       "type                     0.000000\n",
       "age_restriction          0.000000\n",
       "refundable_support       0.000000\n",
       "nonrefundable_support    0.000000\n",
       "budget                   0.000000\n",
       "financing_source         0.000000\n",
       "dtype: float64"
      ]
     },
     "execution_count": 19,
     "metadata": {},
     "output_type": "execute_result"
    }
   ],
   "source": [
    "df.isna().mean().sort_values(ascending=False)"
   ]
  },
  {
   "cell_type": "markdown",
   "metadata": {},
   "source": [
    "**Зполним пропущеные значения в столбце с жанром фильма фразой \"жанр неизвестен\"**<br>\n",
    "**Заполним пропущенные значения в столбце с режиссерами и продюсерами фильма фразой \"нет\"** <br>\n",
    "**Заполним пропущенные значения в столбце с рейтингом нулями.**"
   ]
  },
  {
   "cell_type": "code",
   "execution_count": 20,
   "metadata": {},
   "outputs": [],
   "source": [
    "df['genres']=df['genres'].fillna('жанр не известен')"
   ]
  },
  {
   "cell_type": "code",
   "execution_count": 21,
   "metadata": {},
   "outputs": [],
   "source": [
    "df[['director','producer']]=df[['director','producer']].fillna('нет')"
   ]
  },
  {
   "cell_type": "code",
   "execution_count": 22,
   "metadata": {},
   "outputs": [],
   "source": [
    "df['ratings']=df['ratings'].fillna(0)"
   ]
  },
  {
   "cell_type": "markdown",
   "metadata": {},
   "source": [
    "Заполним  столбец **box_office** фразой \"не известен\""
   ]
  },
  {
   "cell_type": "code",
   "execution_count": 23,
   "metadata": {},
   "outputs": [],
   "source": [
    "df['box_office']=df['box_office'].fillna('не известен')"
   ]
  },
  {
   "cell_type": "markdown",
   "metadata": {},
   "source": [
    "Удалим строки с пропущенными значениями в столбцах **production_country** и **film_studio** так как таких меньше процента."
   ]
  },
  {
   "cell_type": "code",
   "execution_count": 24,
   "metadata": {},
   "outputs": [],
   "source": [
    "df=df.dropna(subset=['production_country','film_studio'])"
   ]
  },
  {
   "cell_type": "markdown",
   "metadata": {
    "id": "4c6k1t9ygFyQ"
   },
   "source": [
    "#### Шаг 2.3. Изучите дубликаты в датафрейме\n",
    "- Проверьте, есть ли в данных дубликаты. Опишите причины, которые могли повлиять на появление дублей."
   ]
  },
  {
   "cell_type": "code",
   "execution_count": 25,
   "metadata": {
    "id": "aKck8RIdgFyQ"
   },
   "outputs": [
    {
     "data": {
      "text/plain": [
       "0"
      ]
     },
     "execution_count": 25,
     "metadata": {},
     "output_type": "execute_result"
    }
   ],
   "source": [
    "df.duplicated().sum()"
   ]
  },
  {
   "cell_type": "markdown",
   "metadata": {},
   "source": [
    "Явных дубликатов не обнаружено."
   ]
  },
  {
   "cell_type": "markdown",
   "metadata": {
    "id": "52fOPrEBgFyQ"
   },
   "source": [
    "#### Шаг 2.4. Изучим категориальные значения"
   ]
  },
  {
   "cell_type": "code",
   "execution_count": 26,
   "metadata": {},
   "outputs": [
    {
     "data": {
      "text/plain": [
       "array(['Художественный', 'Анимационный', 'Прочие', 'Документальный',\n",
       "       'Научно-популярный', ' Художественный', ' Анимационный',\n",
       "       'Музыкально-развлекательный'], dtype=object)"
      ]
     },
     "execution_count": 26,
     "metadata": {},
     "output_type": "execute_result"
    }
   ],
   "source": [
    "df['type'].unique()"
   ]
  },
  {
   "cell_type": "code",
   "execution_count": 27,
   "metadata": {
    "id": "PnXKIVdFgFyR"
   },
   "outputs": [],
   "source": [
    "df['type']=df['type'].str.strip()"
   ]
  },
  {
   "cell_type": "code",
   "execution_count": 28,
   "metadata": {},
   "outputs": [
    {
     "data": {
      "text/plain": [
       "array(['Художественный', 'Анимационный', 'Прочие', 'Документальный',\n",
       "       'Научно-популярный', 'Музыкально-развлекательный'], dtype=object)"
      ]
     },
     "execution_count": 28,
     "metadata": {},
     "output_type": "execute_result"
    }
   ],
   "source": [
    "df['type'].unique()"
   ]
  },
  {
   "cell_type": "code",
   "execution_count": 29,
   "metadata": {},
   "outputs": [
    {
     "data": {
      "text/plain": [
       "6754"
      ]
     },
     "execution_count": 29,
     "metadata": {},
     "output_type": "execute_result"
    }
   ],
   "source": [
    "len(df['title'].unique())"
   ]
  },
  {
   "cell_type": "code",
   "execution_count": 30,
   "metadata": {},
   "outputs": [
    {
     "name": "stderr",
     "output_type": "stream",
     "text": [
      "/tmp/ipykernel_48/3972515134.py:1: FutureWarning: The default value of regex will change from True to False in a future version. In addition, single character regular expressions will*not* be treated as literal strings when regex=True.\n",
      "  df['title']=df['title'].str.replace('.','')\n"
     ]
    }
   ],
   "source": [
    "df['title']=df['title'].str.replace('.','')"
   ]
  },
  {
   "cell_type": "code",
   "execution_count": 31,
   "metadata": {},
   "outputs": [],
   "source": [
    "df['title']=df['title'].str.replace('_','')"
   ]
  },
  {
   "cell_type": "code",
   "execution_count": 32,
   "metadata": {},
   "outputs": [
    {
     "data": {
      "text/plain": [
       "['Открытый простор',\n",
       " 'Особо важное задание',\n",
       " 'Особо опасен',\n",
       " 'Остановился поезд',\n",
       " 'Любовь и голуби',\n",
       " 'Любовь и сигареты',\n",
       " 'Отпетые мошенники',\n",
       " 'Отпуск за свой счет',\n",
       " 'Превосходство Борна /По одноименной новелле Роберта Ладлэма/',\n",
       " 'Ответный ход',\n",
       " 'Малышка на миллион /По мотивам рассказов ФХТула из сборника \"Клейма от канатов\"/',\n",
       " 'Преданный садовник',\n",
       " 'Отель /По мотивам пьесы Джона Уэбстера/',\n",
       " 'Председатель',\n",
       " 'Осенний марафон',\n",
       " 'Осень',\n",
       " 'Неподдающиеся',\n",
       " 'Неподсуден',\n",
       " 'Незабываемый 1919-й год',\n",
       " 'Незаконченная жизнь',\n",
       " 'Операция \"Ы\" и другие приключения Шурика',\n",
       " 'Неизвестные страницы из жизни разведчика',\n",
       " 'Неисправимый лгун',\n",
       " 'Призрак замка Моррисвиль',\n",
       " 'Оружейный барон',\n",
       " 'Отставной козы барабанщик',\n",
       " 'Паршивая овца',\n",
       " 'Плюмбум, или Опасная игра',\n",
       " 'Первое свидание',\n",
       " 'Охота на лис',\n",
       " 'Пиноккио 3000',\n",
       " 'Перелом',\n",
       " 'Мисс Поттер',\n",
       " 'Миссис Хендерсон представляет',\n",
       " 'Планета КА-ПЭКС /По мотивам романа Джин Бруэр/',\n",
       " 'Молчи в тряпочку',\n",
       " 'Мужики!',\n",
       " 'Автомобиль, скрипка и собака Клякса',\n",
       " 'Алекс и Эмма',\n",
       " 'Мой лучший любовник',\n",
       " 'Мемуары гейши (по роману Артура Голдена)',\n",
       " 'Адъютант его превосходительства',\n",
       " 'Без свидетелей',\n",
       " 'Без солнца',\n",
       " 'Андрей Рублев',\n",
       " 'Азартные игры',\n",
       " '36, Набережная Орфевр',\n",
       " 'Асса',\n",
       " 'Бандитки',\n",
       " 'Айболит - 66',\n",
       " 'Алешкина любовь',\n",
       " '50 первых поцелуев',\n",
       " 'Адмирал Ушаков',\n",
       " 'А был ли Каротин?',\n",
       " 'А если это любовь?',\n",
       " 'Бесшабашное ограбление',\n",
       " 'Бешеное золото',\n",
       " 'Братец медвежонок /По одноименному произведению Лорны Кемерун/',\n",
       " 'Американская дочь',\n",
       " 'Беспредел ',\n",
       " 'Бешеные деньги',\n",
       " 'Аттестат зрелости',\n",
       " 'Бархатный сезон',\n",
       " 'Анна Павлова',\n",
       " 'Босиком по мостовой',\n",
       " 'Алые паруса',\n",
       " 'Аэлита, не приставай к мужчинам',\n",
       " 'Бой после победы',\n",
       " 'Братья Карамазовы',\n",
       " 'Белая графиня',\n",
       " 'В шесть часов вечера после войны',\n",
       " 'Борец и клоун',\n",
       " 'Борис Годунов',\n",
       " 'Большой аттракцион',\n",
       " 'Битва в пути',\n",
       " 'Будьте моим мужем',\n",
       " 'Букашки 3D',\n",
       " 'Вирус любви',\n",
       " 'Високосный год',\n",
       " 'Вакансия',\n",
       " 'Берегите мужчин!',\n",
       " 'Блондинка и блондинка',\n",
       " 'Валентин и Валентина',\n",
       " 'Валентина',\n",
       " 'Взрослые дети',\n",
       " 'Ватерлоо',\n",
       " 'Выстрел',\n",
       " 'Возмездие',\n",
       " 'Время, вперед!',\n",
       " 'Вас ожидает гражданка Никанорова',\n",
       " 'Васса',\n",
       " 'Вольт',\n",
       " 'Горбатая гора',\n",
       " 'Дамы приглашают кавалеров',\n",
       " 'Возвращение Василия Бортникова',\n",
       " 'Встречное расследование',\n",
       " 'Во имя чести',\n",
       " 'Время желаний',\n",
       " 'Горе от ума',\n",
       " 'Враг государства № 1',\n",
       " 'Враг государства № 1: Легенда',\n",
       " 'Гори, гори, моя звезда',\n",
       " 'Внимание, черепаха!',\n",
       " 'Встреча на Эльбе',\n",
       " 'Волшебная страна',\n",
       " 'Гранатовый браслет',\n",
       " 'Гарри Поттер и орден Феникса /По роману ДжКРолинг/',\n",
       " 'Гарри Поттер и тайная комната /По роману ДжКРолинг/',\n",
       " 'Гарри Поттер и узник Азкабана /По роману ДжКРолинг/',\n",
       " 'Гарри Поттер и философский камень /По роману ДжКРолинг/',\n",
       " 'Гангстер',\n",
       " 'Готика',\n",
       " 'Горячий снег',\n",
       " 'Гладиатор',\n",
       " 'Доброй ночи и удачи',\n",
       " 'Глаз',\n",
       " 'Гарри Поттер и кубок огня /По роману ДжКРолинг/',\n",
       " 'Деньги на двоих',\n",
       " 'Галапагосы 3D',\n",
       " 'Дорога на Арлингтон',\n",
       " 'Дачники',\n",
       " 'Джиперс Криперс',\n",
       " 'Дикий мед',\n",
       " 'Дело № 306',\n",
       " 'Джейн Эйр /По одноименному роману Шарлотты Бронте/',\n",
       " 'Джиперс Криперс 2',\n",
       " 'Двенадцать друзей Оушена',\n",
       " 'Джентльмены удачи',\n",
       " 'Девушка в парке',\n",
       " 'Дневник Бриджет Джонс /По мотивам романа Хелен Филдинг/',\n",
       " 'Дети Дон-Кихота',\n",
       " 'Деловые люди',\n",
       " 'Долгая помолвка /По роману Себастьяна Жапризо/',\n",
       " 'Девушка из Джерси',\n",
       " 'Двадцать одно /По произведению Бена Мезрича \"Удар по казино Как сорвать куш: Реальная история шести студентов, обыгравших Лас-Вегас на миллионы долларов\"/',\n",
       " 'Двадцать шесть дней из жизни Достоевского',\n",
       " 'Дневник памяти /По роману Николаса Спракса/',\n",
       " 'Законный брак',\n",
       " 'Законы привлекательности',\n",
       " 'Женитьба Бальзаминова',\n",
       " 'Живые и мертвые',\n",
       " 'Знакомьтесь, Джо Блэк',\n",
       " 'Жди меня',\n",
       " 'Жестокий романс',\n",
       " 'Жестокость',\n",
       " 'Еще раз про любовь',\n",
       " 'Дом из песка и тумана (по книге Андре Дюбуи III)',\n",
       " 'Дорогая Елена Сергеевна',\n",
       " 'Друг мой, Колька!',\n",
       " 'Друг невесты',\n",
       " 'Если свекровь - монстр',\n",
       " 'Жемчужная девушка',\n",
       " 'Егор Булычев и другие',\n",
       " 'Дом у озера',\n",
       " 'Душечка',\n",
       " 'Журавушка',\n",
       " 'За спичками',\n",
       " 'Земля Санникова',\n",
       " 'Зигзаг удачи',\n",
       " 'Забавные игры',\n",
       " 'Зина-Зинуля',\n",
       " 'Запомните меня такой',\n",
       " 'Жили-были старик со старухой',\n",
       " 'Звонят, откройте дверь',\n",
       " 'Здесь курят /По книге Кристофера Бакли/',\n",
       " 'Загадка Эндхауза',\n",
       " 'Зак и Мири снимают порно',\n",
       " 'Замок с привидениями 3D',\n",
       " 'Забытая мелодия для флейты',\n",
       " 'Забытое',\n",
       " 'Заколдованная Элла /По книге ГГЛивайн/',\n",
       " 'Змеелов',\n",
       " 'Жуковский',\n",
       " 'Загнанный',\n",
       " 'Инкогнито из Петербурга',\n",
       " 'ИГРА',\n",
       " 'Испытательный срок',\n",
       " 'Игры дьявола',\n",
       " 'Иван Васильевич меняет профессию',\n",
       " 'Искушение Темпеста: Порочная страсть',\n",
       " 'Золотой ключик',\n",
       " 'Золотой компас /По мотивам книги Филипа Пуллмана/',\n",
       " 'И грянул гром /По рассказу Рэя Брэдберри/',\n",
       " 'И жизнь, и слезы, и любовь',\n",
       " 'Идентификация Борна /По одноименной книге Роберта Ладлэма/',\n",
       " 'Интердевочка',\n",
       " 'Искупление /По произведению Яна МакЭвана/',\n",
       " 'Ко мне, Мухтар!',\n",
       " 'Катала',\n",
       " 'Клетка для канареек',\n",
       " 'Карты, деньги, два ствола',\n",
       " 'Кавказская пленница, или Новые приключения Шурика',\n",
       " 'Калина красная',\n",
       " 'Зонтик для новобрачных',\n",
       " 'Из жизни отдыхающих',\n",
       " 'Коллеги',\n",
       " 'Кинг Конг ',\n",
       " 'Казино Рояль /По книге Яна Флеминга/',\n",
       " 'Капитанская дочка ',\n",
       " 'Клевый парень',\n",
       " 'Новые приключения неуловимых',\n",
       " 'Ограбление по-итальянски',\n",
       " 'Одиноким предоставляется общежитие',\n",
       " 'Обыкновенный фашизм',\n",
       " 'Одержимость',\n",
       " 'Каратель',\n",
       " 'Одиночное плавание',\n",
       " 'Неуловимые мстители',\n",
       " 'Новая Франция',\n",
       " 'Когда ты в последний раз видел своего отца',\n",
       " 'Новые приключения Золушки',\n",
       " 'Корабли штурмуют бастионы',\n",
       " 'Крейцерова соната',\n",
       " 'Кровавый алмаз',\n",
       " 'Крепкий орешек',\n",
       " 'Красота по-английски',\n",
       " 'Полиция Майами: Отдел нравов',\n",
       " 'Королевство',\n",
       " 'Полустанок',\n",
       " 'Композитор Глинка',\n",
       " 'По главной улице с оркестром',\n",
       " 'Красный дракон /По одноименному роману Томаса Гарриса/',\n",
       " 'Красавчик',\n",
       " 'Комедия давно минувших дней',\n",
       " 'Послесловие',\n",
       " 'Повар,вор,его жена и ее любовник',\n",
       " 'Поездки на старом автомобиле',\n",
       " 'Порко Россо',\n",
       " 'Подранки',\n",
       " 'Помни /По рассказу Джонатана Нолана/',\n",
       " 'Помни имя свое',\n",
       " 'Легенда Зорро',\n",
       " 'Ларец Марии Медичи',\n",
       " 'Легенда о Тиле',\n",
       " 'Пока не сыграл в ящик',\n",
       " 'Леденец',\n",
       " 'Лемони Сникет: 33 несчастья',\n",
       " 'Леди Макбет Мценского уезда',\n",
       " 'Любимая женщина механика Гаврилова',\n",
       " 'Натали',\n",
       " 'Лучший друг',\n",
       " 'На колесах',\n",
       " 'Пришла и говорю',\n",
       " 'Наследница по прямой',\n",
       " 'Не может быть!',\n",
       " 'Не оставляющий следа',\n",
       " 'Мученицы',\n",
       " 'Напряги извилины',\n",
       " 'Рай',\n",
       " 'Мулан',\n",
       " 'Прошлое',\n",
       " 'Путь к причалу',\n",
       " 'Наш дом',\n",
       " 'Не горюй!',\n",
       " 'Раз на раз не приходится',\n",
       " 'Разбойник и принцесса /По мотивам сказок Карела Чапека/',\n",
       " 'Раба любви',\n",
       " 'Прощание',\n",
       " 'Пуленепробиваемый',\n",
       " 'Рецепт ее молодости',\n",
       " 'Пропало лето',\n",
       " 'Пять вечеров',\n",
       " 'Романс о влюбленных',\n",
       " 'Проделки в старинном духе',\n",
       " 'Пять препятствий',\n",
       " 'Розыгрыш',\n",
       " 'Сокровище Амазонки',\n",
       " 'Сахара /По роману Клайва Касслера/',\n",
       " 'Сбежавшая невеста',\n",
       " 'Свадебный переполох',\n",
       " 'Сердцеедки',\n",
       " 'Свадьба с приданым',\n",
       " 'Сережа',\n",
       " 'Сверстницы',\n",
       " 'Сомнение /По одноименной пьесе Джона Патрика Шэнли/',\n",
       " 'Скрытая угроза',\n",
       " 'Скрытое',\n",
       " 'Сириана',\n",
       " 'Сорок первый',\n",
       " 'Собачья жара',\n",
       " 'Табор уходит в небо',\n",
       " 'Сто дней после детства',\n",
       " 'Стачка',\n",
       " 'Стертая реальность',\n",
       " 'Старомодная комедия',\n",
       " 'Старшая сестра',\n",
       " 'Тайна \"Черных дроздов\"',\n",
       " 'Суини Тодд, демон-парикмахер с Флит-стрит',\n",
       " 'Твин Пикс: Сквозь огонь',\n",
       " 'Тридцать три',\n",
       " 'Ты - мне, я - тебе',\n",
       " 'Тринадцать друзей Оушена',\n",
       " 'Тринадцать привидений',\n",
       " 'Тегеран-43',\n",
       " 'Три Икса',\n",
       " 'Темнота наступает',\n",
       " 'У опасной черты',\n",
       " 'Ультиматум Борна /По одноименному роману Роберта Ладлэма/',\n",
       " 'Учитель танцев',\n",
       " 'Успех',\n",
       " 'Хроники Нарнии: Лев, колдунья и волшебный шкаф /По произведению Клайва Стейплза Льюиса/',\n",
       " 'Фара',\n",
       " 'Хроники Хуаду: лезвие розы',\n",
       " 'Цареубийца',\n",
       " 'Человек, который любит',\n",
       " 'Хеллбой 2: Золотая армия /По мотивам комикса Майка Миньолы и компании \"Дарк Хорз\"/',\n",
       " 'Хеллбой: Герой из пекла',\n",
       " 'Хуже не бывает',\n",
       " 'Человек ниоткуда',\n",
       " 'Человек родился',\n",
       " 'Халк',\n",
       " 'Фанфан-Тюльпан',\n",
       " 'Шоссе в никуда',\n",
       " 'Через Вселенную',\n",
       " 'Хозяин тайги',\n",
       " 'Шальные деньги',\n",
       " 'Частная жизнь',\n",
       " 'Эквилибриум',\n",
       " 'Чистое небо',\n",
       " 'Шестой день',\n",
       " 'Шумный день',\n",
       " 'Призраки бывших подружек',\n",
       " 'Безумцы',\n",
       " 'Я знаю, что вы сделали прошлым летом',\n",
       " 'Эскадрилья \"Лафайет\"',\n",
       " 'Другой мужчина',\n",
       " 'Каникулы строгого режима',\n",
       " 'Гарри Поттер и Принц-полукровка /По роману ДжКРолинг/',\n",
       " 'Робин Гуд (Robin Hood)',\n",
       " 'Не брать живым /По книге Раджива Чандрасекарана/',\n",
       " 'Казнены на рассвете',\n",
       " 'Красавчик-2',\n",
       " 'Неудержимые',\n",
       " 'Однажды в Версале',\n",
       " 'Повелитель бури',\n",
       " 'Братц',\n",
       " 'Кольцо из Амстердама',\n",
       " 'Испытание верности',\n",
       " 'Идеальный муж',\n",
       " 'Мимино',\n",
       " 'День ангела',\n",
       " 'Волшебное приключение',\n",
       " 'Время отдыха с субботы до понедельника',\n",
       " 'Дело Артамоновых',\n",
       " 'Эффект бабочки 3',\n",
       " 'Агент 117: Миссия в Рио',\n",
       " 'Дорога /По новелле Кормака МкКарфи/',\n",
       " 'Тетро',\n",
       " 'Пятая заповедь',\n",
       " 'Ехали в трамвае Ильф и Петров',\n",
       " 'Мертвые души',\n",
       " 'Акция',\n",
       " 'Мой младший брат',\n",
       " 'Много шума из ничего',\n",
       " 'Странная женщина',\n",
       " 'Тревожное воскресенье',\n",
       " 'Родня',\n",
       " 'Револьвер',\n",
       " 'Сумерки Сага Новолуние /По произведению Стефани Майер/',\n",
       " 'Заноза',\n",
       " 'Таймер',\n",
       " 'Гарри Поттер и Дары Смерти - Часть 1/По роману ДжКРолинг/',\n",
       " 'Механик',\n",
       " 'Отчаянная домохозяйка',\n",
       " 'Телохранитель ',\n",
       " 'Любовь и прочие обстоятельства',\n",
       " 'Серфинг на Таити 3D',\n",
       " 'Телохранители и убийцы',\n",
       " 'Рапунцель: Запутанная история',\n",
       " 'То лето страсти',\n",
       " 'Буря /По одноименной пьесе УШекспира/',\n",
       " 'Соблазнитель',\n",
       " 'Как заняться любовью с женщиной',\n",
       " 'Секс и Дзен 3D: Экстремальный экстаз',\n",
       " 'Дом грёз',\n",
       " 'Приключения Тинтина: Тайна Единорога /По серии комиксов Эрже \"Приключения Тинтина\"/',\n",
       " 'Время',\n",
       " 'Драйв',\n",
       " 'Нечто /По произведению Джона Кемпбелла младшего/',\n",
       " 'Красный штат',\n",
       " 'Любовь с риском для жизни',\n",
       " 'Палата',\n",
       " 'Паранормальное явление 3',\n",
       " 'Гарри Поттер и Дары Смерти - Часть 2 /По роману ДжКРолинг/',\n",
       " 'Зеленый фонарь',\n",
       " 'Страшно красив',\n",
       " 'Ариэтти из страны лилипутов',\n",
       " 'Под ветвями боярышника',\n",
       " 'Расплата',\n",
       " 'Как выйти замуж за миллиардера',\n",
       " 'Агент Джонни Инглиш: Перезагрузка',\n",
       " 'Рожденные на воле 3D',\n",
       " 'Боже, благослови Америку',\n",
       " 'Обезьянки',\n",
       " 'Окно в лето',\n",
       " 'Кассадага',\n",
       " 'Хочу в Голливуд',\n",
       " 'Красавица из трущоб',\n",
       " 'Суперкласико',\n",
       " 'Пьетро Масканьи Сельская честь /По одноименной новелле ДжВерги/ Руджеро Леонкавалло Паяцы Постановка Teatro ala Scala',\n",
       " 'Опера на льду',\n",
       " 'Папаши без вредных привычек',\n",
       " 'Одержимая',\n",
       " 'Долгий поцелуй на ночь',\n",
       " 'Президент Линкольн: Охотник на вампиров',\n",
       " 'Моя маленькая принцесса',\n",
       " 'Все любят китов',\n",
       " 'На грани',\n",
       " 'Бессонная ночь',\n",
       " 'Заключенный R',\n",
       " 'Прислуга /По роману Кэтрин Стокетт/',\n",
       " 'Франческо Чилеа Адриана Лекуврёр /По одноименной пьесе Эжена Скриба и Габриэля Легуве/ Постановка Royal Opera House',\n",
       " 'Тост',\n",
       " 'Рок на века',\n",
       " 'Храбрая сердцем',\n",
       " 'Немножко женаты',\n",
       " 'Леди',\n",
       " 'Опасный метод',\n",
       " 'Искатели могил',\n",
       " 'Сезон ураганов',\n",
       " 'Новый парень для моей девушки',\n",
       " 'Красотка на велике /По мотивам романа Марчело Рубенса Пайвы \"Велосипедистка Малу\"/',\n",
       " 'Какая к черту любовь?',\n",
       " 'Королевство полной луны',\n",
       " \"The Chemical Brothers - Don't Think (Не думай)\",\n",
       " 'Артур Сеймур Салливан Микадо Постановка Sydney Opera House',\n",
       " 'Три тенора: Лучано Паваротти, Пласидо Доминго и Хосе Каррерас',\n",
       " 'Белоснежка и охотник',\n",
       " 'Схватка ',\n",
       " 'Музыка нас связала',\n",
       " 'Лиссабонские тайны /По роману Камилу Каштелу Бранку/',\n",
       " 'Любовь ',\n",
       " '100 миллионов евро',\n",
       " 'Лето Одноклассники Любовь',\n",
       " 'Путешествие - 2: Таинственный остров',\n",
       " 'Код доступа \"Кейптаун\"',\n",
       " 'Август Восьмого',\n",
       " 'Тот еще!',\n",
       " 'КОКОКО',\n",
       " 'Тор: Легенда викингов 3D',\n",
       " 'Белоснежка: Месть гномов',\n",
       " 'Король Лев',\n",
       " 'Разговор',\n",
       " 'Сделка  ',\n",
       " 'Продавец игрушек',\n",
       " '901 километр',\n",
       " '8 первых свиданий',\n",
       " 'Конвой',\n",
       " 'Дирижер',\n",
       " 'Джон Картер',\n",
       " 'Тираннозавр',\n",
       " 'Отель \"Мэриголд\" Лучший из экзотических',\n",
       " 'Голодные игры',\n",
       " 'Вождь Разнокожих',\n",
       " 'Выбор киллера',\n",
       " 'Проклятая школа',\n",
       " 'Футбольные гладиаторы',\n",
       " 'Проект Х Дорвались',\n",
       " 'Рейд-',\n",
       " 'Отважная Лифи',\n",
       " 'Папаши 2',\n",
       " 'Уличные танцы 2',\n",
       " 'Закон доблести',\n",
       " 'Свидание',\n",
       " 'Матч',\n",
       " 'Диктатор',\n",
       " 'Отряд особого назначения',\n",
       " 'Космическая станция 3D',\n",
       " 'На глубине морской 3D',\n",
       " 'Джакомо Пуччини Богема /По произведению Анри Мюрже \"Сцены из жизни богемы\"/ Постановка Sydney Opera House',\n",
       " 'Гаэтано Доницетти Лукреция Борджиа 3D /По одноименной пьесе Виктора Гюго/ Постановка Ennglish National Opera',\n",
       " 'U2 3D',\n",
       " 'Ворон-',\n",
       " 'Вспоминая моих печальных шлюх /По роману Габриэля Гарсиа Маркеса/',\n",
       " 'Учитель на замену',\n",
       " 'Любовь живет три года /По роману Фредерика Бегбедера/',\n",
       " 'Эмили Жоли',\n",
       " 'Гаэтано Доницетти Анна Болейн /По пьесам Ипполито Пондемонто \"Генрих VIII, или Анна Болейн\" и Алессандро Пеполи \"Анна Болейн\"/ Постановка Wiener Staatsoper',\n",
       " 'Джузеппе Верди Макбет /По одноименной пьесе Шекспира/ Постановка Royal Opera House',\n",
       " 'Мадагаскар 3',\n",
       " 'Кафе де Флор',\n",
       " 'Крылатые монстры 3D',\n",
       " 'Ржевский против Наполеона',\n",
       " 'Ночь в супермаркете',\n",
       " 'Транзит-',\n",
       " 'Zолушка',\n",
       " 'Хроника',\n",
       " 'Пять звезд',\n",
       " 'В доме отца',\n",
       " 'Охотник /По одноименному роману Джулии Ли/',\n",
       " 'Тарбозавр 3D',\n",
       " 'Кориолан',\n",
       " 'МЫ Верим в любовь',\n",
       " 'Орда',\n",
       " 'Похождения бравого солдата Швейка',\n",
       " 'Дон-Жуан де Марко',\n",
       " 'Нокаут ',\n",
       " 'Черное золото',\n",
       " 'Чудеса океана 3D',\n",
       " 'Мартовские иды /По пьесе Бо Уиллимона/',\n",
       " 'Веселые каникулы',\n",
       " 'Осторожно, Любовь! (SOS Love! - The Million Dollar Contract)',\n",
       " 'Железная леди',\n",
       " 'Титаник в 3D',\n",
       " 'Вольфганг Амадей Моцарт Волшебная флейта Постановка Teatro alla Scala',\n",
       " 'Потерпевший',\n",
       " 'Мальчик с велосипедом',\n",
       " 'В краю крови и меда',\n",
       " 'Киногамма Часть 1: Восток',\n",
       " 'Киногамма Часть 2: Дальний Восток',\n",
       " 'Тайны старого отеля',\n",
       " 'Морской бой',\n",
       " 'Маппеты',\n",
       " 'Мачо и ботан',\n",
       " 'Алоис Небель и его призраки',\n",
       " 'Невидимая',\n",
       " '1+1',\n",
       " 'Мрачные тени',\n",
       " 'Счастливчик ',\n",
       " 'Укрытие',\n",
       " 'Где-то сегодня ночью',\n",
       " 'Напролом-',\n",
       " 'Берсерк: Золотой век Фильм I: бехерит Властителя',\n",
       " 'Ася',\n",
       " 'Банкомат',\n",
       " 'Гамер',\n",
       " 'Обитель зла',\n",
       " 'Люди в черном 3 /По комиксу Лоуэлла Каннингема/',\n",
       " 'Прометей',\n",
       " 'Чего ждать, когда ждешь ребенка',\n",
       " 'В окружении',\n",
       " 'Мгновения любви',\n",
       " 'Секса много не бывает',\n",
       " 'Че: Часть первая Аргентинец',\n",
       " 'Че: Часть вторая Партизан',\n",
       " 'Пазл любви',\n",
       " 'Материк',\n",
       " 'Бомж с дробовиком',\n",
       " 'Играй до смерти',\n",
       " 'Смерть супергероя /По роману Энтони МакКартена/',\n",
       " 'Последнее завещание Нобеля',\n",
       " 'Между',\n",
       " 'Том Сойер /По мотивам произведений МТвена/',\n",
       " 'Защитник (Safe)',\n",
       " 'Экстрасенс',\n",
       " 'Финишная прямая',\n",
       " 'Сначала любовь, потом свадьба',\n",
       " 'Игра--',\n",
       " 'Запах вереска',\n",
       " 'Откровения',\n",
       " 'Искупление ',\n",
       " 'Шпион, выйди вон! /По мотивам романа Джона Ле Карре/',\n",
       " 'Сумерки Сага: Рассвет - Часть 1 /По произведению Стефани Майер/',\n",
       " 'Игра на выживание',\n",
       " 'Лоракс /По одноименной книге доктора Сьюсса (Теодора Гейзеля)/',\n",
       " 'Клятва ',\n",
       " 'Мамы',\n",
       " 'Старинные часы',\n",
       " 'Грабитель',\n",
       " 'Золото',\n",
       " 'Потомки',\n",
       " 'Мачан (Дружбаны)',\n",
       " 'Вышибала',\n",
       " 'Поморы',\n",
       " 'Мистер Ганджубас',\n",
       " 'Как украсть небоскреб',\n",
       " 'Духless',\n",
       " 'Неоконченный роман /По роману Филиппа Джиана/',\n",
       " 'Женщина в черном /По роману Сьюзан Хилл/',\n",
       " 'Мужчины в большом городе - 2',\n",
       " 'Кайли Миноуг - Афродита 3D (Kylie 3D - Aphrodite Les Folies)',\n",
       " 'Однажды в Ирландии',\n",
       " 'Маттиола пахнет духами',\n",
       " 'Значит, война',\n",
       " 'Марта, Марси, Мэй, Марлен',\n",
       " 'Цирк \"Колумбия\" /По одноименному роману ИДжикича/',\n",
       " 'Американский пирог: Все в сборе',\n",
       " 'Дети сексу не помеха',\n",
       " 'Милый друг /По роману Ги де Мопассана/',\n",
       " 'Стыд-',\n",
       " 'Звёздные войны Эпизод 1: Скрытая угроза 3D',\n",
       " 'Мне бы в небо',\n",
       " 'Белый Тигр',\n",
       " 'Артист',\n",
       " 'Гнев титанов',\n",
       " 'Ловушка для невесты',\n",
       " 'Искусство любить',\n",
       " 'Три дня с придурком',\n",
       " 'Неприкасаемые',\n",
       " 'Бедная богатая девочка',\n",
       " 'Призрачный гонщик 2 в 3 D',\n",
       " '7 дней и ночей с Мэрилин',\n",
       " 'Контрабанда',\n",
       " 'Сфера колдовства',\n",
       " 'Ева: Искусственный разум',\n",
       " 'Хижина в лесу',\n",
       " 'Такие разные близнецы',\n",
       " 'Нью-йоркская куколка',\n",
       " 'Скотт Уокер: Человек ХХХ столетия',\n",
       " 'Джок',\n",
       " 'Свадебный разгром',\n",
       " 'ДжЭдгар',\n",
       " 'Охотники за головами',\n",
       " 'Мстители',\n",
       " 'Пираты: Банда неудачников',\n",
       " 'Право на \"лево\"',\n",
       " 'Заклинательница акул',\n",
       " 'То, что ее заводит /По роману Олага Нильссена/',\n",
       " 'Я устал от тебя',\n",
       " 'Рыба моей мечты',\n",
       " 'Няньки',\n",
       " 'Очень опасная штучка',\n",
       " 'Игры киллеров',\n",
       " 'Мастер (The Master)',\n",
       " 'Любовь по-взрослому',\n",
       " 'Метеора',\n",
       " 'Джекпот',\n",
       " 'Сумерки Сага: Рассвет - Часть 2 /По произведению Стефани Майер/',\n",
       " 'Грязная кампания за честные выборы',\n",
       " 'Помогите стать отцом',\n",
       " 'Приключения Гекльберри Финна /По мотивам произведений МТвена/',\n",
       " 'Риф',\n",
       " 'В первый раз',\n",
       " 'Нет',\n",
       " 'Рай: Вера',\n",
       " 'Измеряя мир',\n",
       " 'Покажи мне любовь',\n",
       " 'Беспредел (Outrage; Autoreiji)',\n",
       " 'Месть: История любви',\n",
       " 'Дочь',\n",
       " 'Последняя искра жизни',\n",
       " 'Обнаженные чувства',\n",
       " 'Приключения итальянцев в Марокко',\n",
       " 'Ай Вэйвэй: Никогда не извиняйся',\n",
       " 'Студенческий отряд',\n",
       " 'Любовь за стеной',\n",
       " 'Оз: Великий и ужасный /По произведению ЛФрэнка Баума/',\n",
       " 'Квартет /По пьесе Рональда Харвуда/',\n",
       " 'Джентльмены, удачи!',\n",
       " 'Толстяк на ринге',\n",
       " 'Красавица и чудовище (Beauty and the Beast)',\n",
       " 'Эффект колибри',\n",
       " 'Эпик /По произведению Уильяма Джойса/',\n",
       " 'Я очень возбужден',\n",
       " 'Доля ангелов',\n",
       " 'Корпорация \"Святые моторы\"',\n",
       " 'Последнее изгнание дьявола: Второе пришествие',\n",
       " 'Таймлесс Рубиновая книга /По роману Керстин Гир/',\n",
       " 'Эдвард руки-ножницы /По рассказу Тима Бертона/',\n",
       " 'Cirque du Soleil: Сказочный мир в 3D',\n",
       " 'Хоббит: Нежданное путешествие /По произведению Джона Рональда Руэла Толкина \"Хоббит, или Туда и обратно\"/',\n",
       " 'Совсем не простая история',\n",
       " 'Пацаны',\n",
       " 'Твоя рука в моей руке',\n",
       " 'Пленница Побег',\n",
       " 'Отвязные каникулы',\n",
       " 'Улыбайся',\n",
       " 'Полный беспредел',\n",
       " 'Paul McCartney Rockshow',\n",
       " 'Умберто Джордано Андре Шенье Постановка фестиваля в Брегенце',\n",
       " 'Луи-Джозеф-Фердинанд Герольд Тщетная предостороженность Постановка Royal Opera House',\n",
       " '1812: Уланская баллада',\n",
       " 'Паранормальное явление 4',\n",
       " 'На дороге /По роману Джека Керуака \"В дороге\"/',\n",
       " 'Петля времени',\n",
       " 'Детский юмористический киножурнал \"Ералаш\", выпуски 258 - 263',\n",
       " 'Адский бункер: Черное Солнце',\n",
       " 'После Люсии',\n",
       " 'Облачный атлас /По одноименному роману Дэвида Митчелла/',\n",
       " '21 и больше (в переводе Гоблина)',\n",
       " 'Киллер Джо /По пьесе Трэйси Леттс/',\n",
       " 'Форсаж 6',\n",
       " 'Обливион',\n",
       " 'Поймай толстуху, если сможешь',\n",
       " 'Гамбит',\n",
       " 'Неуловимые',\n",
       " 'Отверженные /По одноименному произведению Виктора Гюго/',\n",
       " 'Кукольный дом',\n",
       " 'Вспоминая 1942',\n",
       " 'Груффало /По мотивам книги Джулии Дональдсон и Алекса Шеффлера/',\n",
       " 'Берсерк: Золотой век Фильм III: Сошествие',\n",
       " 'Распутин',\n",
       " 'Семь психопатов',\n",
       " 'Голая бухта',\n",
       " 'Я буду рядом',\n",
       " 'Queen Live in Budapest 1986',\n",
       " 'Джузеппе Верди Травиата /По мотивам романа \"Дама с камелиями\" АДюма-сына/ Постановка театра Арена ди Верона, лето 2011',\n",
       " 'Самый страшный фильм 3D',\n",
       " 'За Маркса',\n",
       " 'Охота ',\n",
       " 'Гостья /По произведению Стефани Майер/',\n",
       " 'Падение Олимпа',\n",
       " 'Зловещие мертвецы',\n",
       " 'Энималс',\n",
       " 'Вишенка на новогоднем торте',\n",
       " 'Рихард Штраус Кавалер розы Постановка Флорентийского оперного фестиваля',\n",
       " 'Три звезды Концерт в Waldbuhne Theater, Берлин Анна Нетребко Йонес Кауфман Эрвин Шрот',\n",
       " 'Петр Ильич Чайковский Щелкунчик /По мотивам сказки ЭТАГофмана \"Щелкунчик и мышиный король\" в переложении Александра Дюма-отца/ Постановка Royal Opera House',\n",
       " 'Петр Ильич Чайковский Щелкунчик 3D /По мотивам сказки ЭТАГофмана \"Щелкунчик и мышиный король\" в переложении Александра Дюма-отца/ Постановка Мариинского театра',\n",
       " 'Пустой дом',\n",
       " 'Сексуальные хроники французской семьи',\n",
       " 'Стив Джобс Потерянное интервью',\n",
       " 'Сейчас самое время',\n",
       " 'Сайлент Хилл 2 3D (Сайлент Хилл 2)',\n",
       " 'В другой стране',\n",
       " 'Пока ночь не разлучит',\n",
       " 'Больше, чем любовь',\n",
       " 'Хуан - истребитель кубинских зомби',\n",
       " 'Проект \"Динозавр\" /По рассказу Тома Придхэма и Сида Беннетта/',\n",
       " '10 лет спустя',\n",
       " 'Солдаты Удачи',\n",
       " 'Неудержимые 2',\n",
       " 'Грэбберсы',\n",
       " 'Примечание',\n",
       " 'Табу',\n",
       " 'Барбара',\n",
       " 'Уже не дети',\n",
       " 'Все свободны',\n",
       " 'Что творят мужчины',\n",
       " 'Побег с планеты Земля 3D',\n",
       " '21 и больше',\n",
       " 'Ведьма войны',\n",
       " 'Суперстар',\n",
       " 'Секс и ничего лишнего',\n",
       " 'Никто не выживет',\n",
       " 'Магазин самоубийств',\n",
       " 'Любовь на кончиках пальцев',\n",
       " 'Легенда о Каспаре Хаузере',\n",
       " 'Возвращение Буратино 3D',\n",
       " 'Паранормальный Якутск',\n",
       " 'Синистер',\n",
       " 'Параллельные миры',\n",
       " 'Боже, храни мой каблук',\n",
       " 'Самая одинокая планета /По рассказу Тома Бисселла/',\n",
       " 'Дом в конце улицы',\n",
       " 'Праздник взаперти',\n",
       " 'От винта!',\n",
       " 'Гавана, я люблю тебя',\n",
       " 'ВРОНГ',\n",
       " 'Любит/Не любит',\n",
       " 'Блокбастер 3D',\n",
       " 'Афганский алфавит',\n",
       " 'Кубатон',\n",
       " 'Агитатор',\n",
       " 'Я нормально супер гуд /По сборнику рассказов Владимира Каминера \"Русская дискотека\"/',\n",
       " 'Эксперимент \"Повиновение\"',\n",
       " 'Весенние надежды',\n",
       " 'Дом терпимости',\n",
       " 'Бобби Фишер против всего мира',\n",
       " 'Цветы войны /По мотивам романа Джелин Ян \"Тринадцать цветов войны\"/',\n",
       " 'Атлантида: Затерянный мир',\n",
       " 'Геркулес (Hercules)',\n",
       " 'GIJoe: Бросок кобры 2',\n",
       " 'Кровавый Санта',\n",
       " 'Отель \"Люкс\"',\n",
       " 'РэПэПэ (Режим Полного Погружения)',\n",
       " 'Охотники на гангстеров /По мотивам одноименной книги Пола Либермана/',\n",
       " 'Мама (Mama)',\n",
       " 'Харакири 3D',\n",
       " 'Ледниковый период 4: Континентальный дрейф',\n",
       " 'Джунгли зовут! В поисках Марсупилами',\n",
       " 'Одним меньше',\n",
       " '\"Море\"',\n",
       " 'Мёбиус',\n",
       " 'Кон-Тики',\n",
       " 'Джакомо Пуччини Тоска /По одноименной драме Викторьена Сарду/ Постановка Royal Opera House',\n",
       " 'Лео Делиб Лакме /По роману Пьера Лоти \"Рараю или Женитьба Лоти\"/ Постановка Sydney Opera House',\n",
       " 'Гавр',\n",
       " 'Новый человек-паук',\n",
       " 'Частное пионерское',\n",
       " 'После мрака свет',\n",
       " 'Добро пожаловать в капкан',\n",
       " 'Легенда № 17',\n",
       " 'Транс',\n",
       " 'Вспомнить все /По произведению ФДика/',\n",
       " 'Счастливчики 60-х',\n",
       " 'Blood-C: Последний темный',\n",
       " 'Банда Ольсена: рок-звезды зажигают',\n",
       " 'Линкольн /По книге Дорис Кернс Гудвин/',\n",
       " 'Судья Дредд 3D',\n",
       " 'Экспат',\n",
       " 'Кольцо',\n",
       " 'Недетские танцы',\n",
       " 'Я, Алекс Кросс /По книге Джеймса Паттерсона/',\n",
       " 'Ку! Кин-дза-дза',\n",
       " 'Самсара',\n",
       " \"The Doors - Live At the Bowl'68 Концерт\",\n",
       " 'Джузеппе Верди Аида 3D Постановка театра Арена, Верона',\n",
       " 'Джузеппе Верди Луиза Миллер /По пьесе Фридриха Шиллера \"Коварство и любовь\"/ Постановка театра Реджио, Парма',\n",
       " 'Шкатулка проклятия',\n",
       " 'Дорога',\n",
       " 'Стальная бабочка',\n",
       " 'ЗЛО',\n",
       " 'Особо опасны',\n",
       " 'Родительский беспредел',\n",
       " 'Прощай, Катя',\n",
       " 'Большие надежды /По роману Чарльза Диккенса/',\n",
       " 'Давай, до свидания!',\n",
       " 'Парад',\n",
       " 'Ограбление казино /По произведению Джорджа ВХиггинса/',\n",
       " 'Все просто',\n",
       " 'Президент и бомж',\n",
       " 'Неудержимый',\n",
       " 'ОХОТА НА ПРИНЦЕССУ Часть 2',\n",
       " 'Долгая счастливая жизнь',\n",
       " 'Арктика 3D',\n",
       " 'КУТА (Трясина)',\n",
       " 'Экипаж',\n",
       " 'Жизнь',\n",
       " 'Побочный эффект',\n",
       " 'Тревожный вызов',\n",
       " 'Фортуна Вегаса',\n",
       " 'Миллион для чайников',\n",
       " 'Пустошь',\n",
       " 'Гадкий Я 2',\n",
       " 'Фэтбой Слим Лайв',\n",
       " 'Заложница 2',\n",
       " 'Их первая ночь',\n",
       " 'Папаша',\n",
       " 'Берсерк: Золотой век Фильм II: Битва за Долдрей',\n",
       " 'Помощники',\n",
       " 'Руби Спаркс',\n",
       " 'Холостячки',\n",
       " 'Прощай, моя королева! /По одноименному роману Шанталь Тома/',\n",
       " 'Гладиаторы Рима',\n",
       " 'Привет, мне пора',\n",
       " 'Гайд-парк на Гудзоне',\n",
       " 'Модест Петрович Мусоргский Борис Годунов /По мотивам одноименного произведения АСПушкина/ Постановка Театра Regio, Турин',\n",
       " 'Led Zeppelin Celebration Day',\n",
       " 'Сергей Сергеевич Прокофьев Ромео и Джульетта /По одноименной пьесе Уильяма Шекспира/ Постановка Royal Opera House, Ковент-Гарден',\n",
       " 'В тумане /По одноименной повести Василя Быкова/',\n",
       " 'Сломленные',\n",
       " 'Случайный доступ Версия 1 3D',\n",
       " 'Танец Дели',\n",
       " 'Железный человек 3',\n",
       " 'Девушка и смерть',\n",
       " 'Гольциус и Пеликанья компания',\n",
       " 'Приключения Маши в Стране чудес',\n",
       " 'Киногид извращенца: Идеология',\n",
       " 'Стартрек: Возмездие',\n",
       " 'Людвиг Баварский',\n",
       " 'Работодатель',\n",
       " 'Стукач ',\n",
       " 'Тихая гавань',\n",
       " 'Кусочки льда',\n",
       " 'Группа 7 /По рассказу Альберто Родригеса/',\n",
       " 'Болт и Блип спешат на помощь',\n",
       " 'Джунгли ',\n",
       " 'Письмо для Момо',\n",
       " 'Летние войны',\n",
       " 'Волчьи дети Амэ и Юки',\n",
       " 'Буквоежка',\n",
       " 'Тачка №19',\n",
       " 'Ариран',\n",
       " 'Пьета',\n",
       " 'Снято!',\n",
       " 'Феи: Тайна зимнего леса',\n",
       " 'Топ Кэт',\n",
       " 'Бульвар страха',\n",
       " 'Ложь во спасение',\n",
       " 'Только представь!',\n",
       " 'Великий Гэтсби /По одноименному роману Фрэнсиса Скотта Фицджеральда/',\n",
       " 'Большая свадьба',\n",
       " 'Пентхаус с видом на Север',\n",
       " 'Призраки в Коннектикуте 2: Тени прошлого',\n",
       " 'Большой Лебовски',\n",
       " 'Автобиография лжеца 3D',\n",
       " 'Что-то в воздухе',\n",
       " 'Невидимый мир',\n",
       " 'Обезьяна',\n",
       " 'Место под соснами',\n",
       " 'Власть убеждений',\n",
       " 'ПЕЛЬМЕНИ',\n",
       " 'ОДНОКЛАССНИКИRU: HACLICKAЙ УДАЧУ',\n",
       " 'Крутые кексы',\n",
       " 'Клиника любви',\n",
       " 'Мрачные небеса',\n",
       " 'Вся в меня',\n",
       " 'Умопомрачительные фантазии Чарльза Свона-третьего',\n",
       " 'Печать царя Соломона',\n",
       " 'Гагарин Первый в космосе',\n",
       " 'Очень страшное кино 5',\n",
       " 'Огонь Кристиана Лубутена 3D',\n",
       " 'Идеальный голос /По произведению Мики Рэпкина/',\n",
       " 'Петр Ильич Чайковский Спящая красавица /По одноименной сказке Шарля Перро/ Постановка Royal Opera House',\n",
       " 'Джакомо Пуччини Мадам Баттерфляй /По мотивам драмы Дэвида Беласко \"Гейша\"/ Постановка Фестиваля Пуччини-2012 в Торре дель Лаго',\n",
       " 'На грани сомнения',\n",
       " 'Даю год',\n",
       " 'Как приручить медведя',\n",
       " 'Гарегин Нжде',\n",
       " '(Не)жданный принц',\n",
       " 'Репортаж со свадьбы',\n",
       " 'Мальчишник - Часть III',\n",
       " 'После любви',\n",
       " 'Атака на Перл-Харбор',\n",
       " 'Пушки, телки и азарт',\n",
       " 'Штиль',\n",
       " 'Маньяк',\n",
       " 'Переполох на районе',\n",
       " 'Судная ночь',\n",
       " 'Слежка',\n",
       " 'Повелители Салема',\n",
       " 'Братва из джунглей',\n",
       " 'Клин клином',\n",
       " 'Последний звонок (Last Call; Per Exhibit A1-A3)',\n",
       " 'В белом плену',\n",
       " 'Призрачный патруль /По мотивам одноименного комикса Питера МЛенкова/',\n",
       " 'Не входить, мы не одеты!',\n",
       " 'После нашей эры',\n",
       " 'И все же Лоранс',\n",
       " 'К чуду',\n",
       " 'Великий мастер',\n",
       " 'Страх и ненависть в Лас-Вегасе /По роману Хантера СТомпсона/',\n",
       " 'Эрнест и Селестина: Приключения мышки и медведя',\n",
       " 'Разрешите вас прикончить?',\n",
       " 'Роль',\n",
       " 'Детский юмористический киножурнал \"Ералаш\", выпуски 264 - 269',\n",
       " 'ТотКтоПрошелСквозьОгонь',\n",
       " 'Дружинники',\n",
       " 'Ищу друга на конец света',\n",
       " 'Вольфганг Амадей Моцарт Дон Жуан, или Наказанный развратник Постановка Teatro alla Scala',\n",
       " 'Последний риф 3D',\n",
       " 'Мисима Финальная глава',\n",
       " 'Экстази /По одноименному произведению Ирвина Уэлша/',\n",
       " 'О чем говорят французские мужчины',\n",
       " 'Слова',\n",
       " 'Коллекционер 2',\n",
       " 'Тэд и Затерянный город 3D',\n",
       " 'Большая Ржака',\n",
       " 'Эволюция Борна',\n",
       " 'Явление',\n",
       " 'Энтропия',\n",
       " 'Хороший доктор',\n",
       " 'Чувственная математика',\n",
       " 'Монстры на острове',\n",
       " 'Суши Гёл',\n",
       " 'На волне',\n",
       " 'Измена ',\n",
       " 'Пираньи 3DD',\n",
       " 'Бригада Наследник',\n",
       " 'Любовный переплет',\n",
       " 'Медальон',\n",
       " 'Боб Марли',\n",
       " 'Патруль',\n",
       " 'Короли рулетки',\n",
       " 'Присутствие великолепия',\n",
       " 'Джакомо Пуччини Турандот /По одноименной пьесе КГоцци/ Постановка Sydney Opera House',\n",
       " 'Жюль Массне Манон /По мотивам романа Антуана Франсуа Прево \"История кавалера де Гриё и Манон Леско/ Постановка Немецкой государственной оперы',\n",
       " 'Папа - досвидос',\n",
       " 'Нико 2',\n",
       " 'МУВИ 43 / MOVIE 43',\n",
       " 'Песочный человек',\n",
       " 'Влюбленные',\n",
       " 'Апартаменты 1303 3D',\n",
       " 'Три богатыря на дальних берегах',\n",
       " 'Пришелец из космоса',\n",
       " 'Римские приключения',\n",
       " 'Ты и я /По роману Никколо Амманити/',\n",
       " 'Криминальное чтиво /По рассказу Квентина Тарантино и Роджера Эвери/',\n",
       " 'Ромео + Джульетта /По одноименной пьесе УШекспира/',\n",
       " 'Красные огни',\n",
       " 'Третий лишний ',\n",
       " 'Агент Джонни Инглиш 2: Перезагрузка',\n",
       " 'Кот в сапогах  ',\n",
       " '4:44 Последний день на Земле',\n",
       " 'Хорошо быть тихоней',\n",
       " 'Снежная Королева',\n",
       " 'Черный дрозд',\n",
       " 'Мой парень - псих! История оптимиста',\n",
       " 'Сироп',\n",
       " 'Бункер',\n",
       " 'Клуб безбашенных',\n",
       " 'Три метра над уровнем неба Я тебя хочу',\n",
       " 'Встречный ветер /По одноименному роману Оливье Адама/',\n",
       " 'Звери дикого юга',\n",
       " 'Сафари 3D',\n",
       " 'сНежное шоу',\n",
       " 'Железное небо',\n",
       " 'Небесные жены луговых мари',\n",
       " 'Крошка Молли',\n",
       " 'Жизнь Пи /По произведению Янна Мартела/',\n",
       " 'Ржавчина и кость',\n",
       " 'Хватай и беги',\n",
       " 'Марко Макако',\n",
       " 'Жена художника /По книге Анастасии Арнольд \"Страсть Мари\"/',\n",
       " 'Запретная зона',\n",
       " 'Космополис',\n",
       " 'Приходи, как есть',\n",
       " 'Супер Майк',\n",
       " 'Шаг вперед 4',\n",
       " 'Замечательная жизнь',\n",
       " 'Проклятье 3D',\n",
       " 'В доме',\n",
       " 'Порочная страсть',\n",
       " 'Крепкий орешек Хороший день, чтобы умереть',\n",
       " 'Хичкок',\n",
       " 'Париж-Манхэттен',\n",
       " 'Цезарь должен умереть',\n",
       " 'Любовь (Amour)',\n",
       " 'Джанго освобожденный',\n",
       " ...]"
      ]
     },
     "execution_count": 32,
     "metadata": {},
     "output_type": "execute_result"
    }
   ],
   "source": [
    "df['title'].unique().tolist()"
   ]
  },
  {
   "cell_type": "markdown",
   "metadata": {
    "id": "XFSN5lrEgFyR"
   },
   "source": [
    "#### Шаг 2.5. Проверьте количественные значения\n",
    "\n",
    "- Проверьте, обнаружились ли в таких столбцах подозрительные данные. Как с такими данными лучше поступить?\n",
    "\n",
    "<div id=\"accordion\">\n",
    "    <div class=\"card\">\n",
    "        <div class=\"card-header\" id=\"headingThree\">\n",
    "            <button class=\"btn btn-link collapsed\" data-toggle=\"collapse\" data-target=\"#collapseHint_budget\" aria-expanded=\"false\" aria-controls=\"collapseHint_budget\">Подсказка</button>\n",
    "        </div>\n",
    "        <div id=\"collapseHint_budget\" class=\"collapse\" aria-labelledby=\"headingThree\" data-parent=\"#accordion\">\n",
    "            <div class=\"card-body\">\n",
    "Обратите внимание на описание столбца <code>budget</code>. Как этот столбец соотносится с двумя другими: <code>refundable_support</code> и <code>nonrefundable_support</code>?\n",
    "            </div>\n",
    "        </div>\n",
    "    </div>\n",
    "</div>"
   ]
  },
  {
   "cell_type": "code",
   "execution_count": 33,
   "metadata": {},
   "outputs": [
    {
     "data": {
      "text/html": [
       "<div>\n",
       "<style scoped>\n",
       "    .dataframe tbody tr th:only-of-type {\n",
       "        vertical-align: middle;\n",
       "    }\n",
       "\n",
       "    .dataframe tbody tr th {\n",
       "        vertical-align: top;\n",
       "    }\n",
       "\n",
       "    .dataframe thead th {\n",
       "        text-align: right;\n",
       "    }\n",
       "</style>\n",
       "<table border=\"1\" class=\"dataframe\">\n",
       "  <thead>\n",
       "    <tr style=\"text-align: right;\">\n",
       "      <th></th>\n",
       "      <th>title</th>\n",
       "      <th>puNumber</th>\n",
       "      <th>show_start_date</th>\n",
       "      <th>type</th>\n",
       "      <th>film_studio</th>\n",
       "      <th>production_country</th>\n",
       "      <th>director</th>\n",
       "      <th>producer</th>\n",
       "      <th>age_restriction</th>\n",
       "      <th>refundable_support</th>\n",
       "      <th>nonrefundable_support</th>\n",
       "      <th>budget</th>\n",
       "      <th>financing_source</th>\n",
       "      <th>ratings</th>\n",
       "      <th>genres</th>\n",
       "      <th>box_office</th>\n",
       "    </tr>\n",
       "  </thead>\n",
       "  <tbody>\n",
       "    <tr>\n",
       "      <th>2053</th>\n",
       "      <td>14+</td>\n",
       "      <td>111023614</td>\n",
       "      <td>2014-12-19 12:00:00+00:00</td>\n",
       "      <td>Художественный</td>\n",
       "      <td>ООО Киностудия  \"Сентябрь\"</td>\n",
       "      <td>Россия</td>\n",
       "      <td>А.Зайцев</td>\n",
       "      <td>О.Гранина, А.Зайцев</td>\n",
       "      <td>«16+» - для детей старше 16 лет</td>\n",
       "      <td>0.0</td>\n",
       "      <td>23000000.0</td>\n",
       "      <td>0.0</td>\n",
       "      <td>Министерство культуры, Фонд кино</td>\n",
       "      <td>6.6</td>\n",
       "      <td>мелодрама</td>\n",
       "      <td>10234016.1</td>\n",
       "    </tr>\n",
       "    <tr>\n",
       "      <th>2058</th>\n",
       "      <td>Дуxless 2</td>\n",
       "      <td>111000415</td>\n",
       "      <td>2015-01-26 12:00:00+00:00</td>\n",
       "      <td>Художественный</td>\n",
       "      <td>ООО \"Киностудия \"Слово\", ООО \"Арт Пикчерс Студия\"</td>\n",
       "      <td>Россия</td>\n",
       "      <td>Р.Прыгунов</td>\n",
       "      <td>П.Ануров, Ф.Бондарчук, Д.Рудовский</td>\n",
       "      <td>«16+» - для детей старше 16 лет</td>\n",
       "      <td>0.0</td>\n",
       "      <td>75000000.0</td>\n",
       "      <td>0.0</td>\n",
       "      <td>Фонд кино</td>\n",
       "      <td>6.6</td>\n",
       "      <td>драма</td>\n",
       "      <td>446163511.0</td>\n",
       "    </tr>\n",
       "    <tr>\n",
       "      <th>2472</th>\n",
       "      <td>Воин (2015)</td>\n",
       "      <td>111017315</td>\n",
       "      <td>2015-09-28 12:00:00+00:00</td>\n",
       "      <td>Художественный</td>\n",
       "      <td>ООО \"Форпост Продакшн\", ООО \"Арт Пикчерс Студия\"</td>\n",
       "      <td>Россия</td>\n",
       "      <td>А.Андрианов</td>\n",
       "      <td>ООО \"Арт Пикчерс Студия\"</td>\n",
       "      <td>«12+» - для детей старше 12 лет</td>\n",
       "      <td>10000000.0</td>\n",
       "      <td>70000000.0</td>\n",
       "      <td>0.0</td>\n",
       "      <td>Фонд кино</td>\n",
       "      <td>7.8</td>\n",
       "      <td>боевик,драма,криминал</td>\n",
       "      <td>196572438.4</td>\n",
       "    </tr>\n",
       "    <tr>\n",
       "      <th>2532</th>\n",
       "      <td>Бармен</td>\n",
       "      <td>111009615</td>\n",
       "      <td>2015-05-26 12:00:00+00:00</td>\n",
       "      <td>Художественный</td>\n",
       "      <td>АО \"ВайТ Медиа\", ООО \"Арт Пикчерс Студия\"</td>\n",
       "      <td>Россия</td>\n",
       "      <td>Д.Штурманова</td>\n",
       "      <td>Т.Вайнштейн</td>\n",
       "      <td>«16+» - для детей старше 16 лет</td>\n",
       "      <td>20000000.0</td>\n",
       "      <td>0.0</td>\n",
       "      <td>0.0</td>\n",
       "      <td>Фонд кино</td>\n",
       "      <td>6.2</td>\n",
       "      <td>комедия,фэнтези</td>\n",
       "      <td>67418974.8</td>\n",
       "    </tr>\n",
       "    <tr>\n",
       "      <th>2615</th>\n",
       "      <td>Савва Сердце воина</td>\n",
       "      <td>114001715</td>\n",
       "      <td>2015-07-21 12:00:00+00:00</td>\n",
       "      <td>Анимационный</td>\n",
       "      <td>ООО \"Глюкоза Продакшн\", ООО \"Арт Пикчерс Студия\"</td>\n",
       "      <td>Россия</td>\n",
       "      <td>М.Фадеев</td>\n",
       "      <td>А.Чистяков</td>\n",
       "      <td>«6+» - для детей старше 6 лет</td>\n",
       "      <td>60000000.0</td>\n",
       "      <td>100000000.0</td>\n",
       "      <td>0.0</td>\n",
       "      <td>Фонд кино</td>\n",
       "      <td>4.6</td>\n",
       "      <td>мультфильм,приключения,фэнтези</td>\n",
       "      <td>184487551.4</td>\n",
       "    </tr>\n",
       "    <tr>\n",
       "      <th>2684</th>\n",
       "      <td>Тряпичный союз</td>\n",
       "      <td>111010215</td>\n",
       "      <td>2015-06-08 12:00:00+00:00</td>\n",
       "      <td>Художественный</td>\n",
       "      <td>ООО \"Кинокомпания \"КОКТЕБЕЛЬ\"</td>\n",
       "      <td>Россия</td>\n",
       "      <td>М.Местецкий</td>\n",
       "      <td>Р.Борисевич, А.Кушаев</td>\n",
       "      <td>«18+» - запрещено для детей</td>\n",
       "      <td>0.0</td>\n",
       "      <td>59000000.0</td>\n",
       "      <td>0.0</td>\n",
       "      <td>Фонд кино</td>\n",
       "      <td>6.3</td>\n",
       "      <td>комедия,драма</td>\n",
       "      <td>1957738.51</td>\n",
       "    </tr>\n",
       "    <tr>\n",
       "      <th>2788</th>\n",
       "      <td>Срочно выйду замуж</td>\n",
       "      <td>111017115</td>\n",
       "      <td>2015-09-30 12:00:00+00:00</td>\n",
       "      <td>Художественный</td>\n",
       "      <td>АО \"ВайТ Медиа\", ООО \"Арт Пикчерс Студия\"</td>\n",
       "      <td>Россия</td>\n",
       "      <td>С Чекалов</td>\n",
       "      <td>Ф.Бондарчук, Т.Вайнштейн, Д.Рудовский</td>\n",
       "      <td>«16+» - для детей старше 16 лет</td>\n",
       "      <td>0.0</td>\n",
       "      <td>35000000.0</td>\n",
       "      <td>0.0</td>\n",
       "      <td>Фонд кино</td>\n",
       "      <td>5.1</td>\n",
       "      <td>комедия,мелодрама</td>\n",
       "      <td>72937783.2</td>\n",
       "    </tr>\n",
       "    <tr>\n",
       "      <th>2874</th>\n",
       "      <td>Помню - не помню!</td>\n",
       "      <td>111004916</td>\n",
       "      <td>2016-03-01 12:00:00+00:00</td>\n",
       "      <td>Художественный</td>\n",
       "      <td>ООО \"КиноФирма\"</td>\n",
       "      <td>Россия</td>\n",
       "      <td>В.Ровенский</td>\n",
       "      <td>ООО \"КиноФирма\"</td>\n",
       "      <td>«12+» - для детей старше 12 лет</td>\n",
       "      <td>0.0</td>\n",
       "      <td>6000000.0</td>\n",
       "      <td>0.0</td>\n",
       "      <td>Министерство культуры</td>\n",
       "      <td>4.3</td>\n",
       "      <td>комедия</td>\n",
       "      <td>15362931.43</td>\n",
       "    </tr>\n",
       "    <tr>\n",
       "      <th>3047</th>\n",
       "      <td>Любовь с ограничениями</td>\n",
       "      <td>111008216</td>\n",
       "      <td>2016-04-29 12:00:00+00:00</td>\n",
       "      <td>Художественный</td>\n",
       "      <td>АО \"ВайТ Медиа\", ООО \"Арт Пикчерс Студия\"</td>\n",
       "      <td>Россия</td>\n",
       "      <td>Д.Тюрин</td>\n",
       "      <td>Ф.Бондарчук, Т.Вайнштейн, Д.Рудовский</td>\n",
       "      <td>«16+» - для детей старше 16 лет</td>\n",
       "      <td>19000000.0</td>\n",
       "      <td>51000000.0</td>\n",
       "      <td>0.0</td>\n",
       "      <td>Фонд кино</td>\n",
       "      <td>6.3</td>\n",
       "      <td>комедия,мелодрама</td>\n",
       "      <td>70299052.0</td>\n",
       "    </tr>\n",
       "    <tr>\n",
       "      <th>3565</th>\n",
       "      <td>Притяжение (2016)</td>\n",
       "      <td>111018116</td>\n",
       "      <td>2016-12-16 12:00:00+00:00</td>\n",
       "      <td>Художественный</td>\n",
       "      <td>ООО \"Водород 2011\",  ООО \"Арт Пикчерс Студия\"</td>\n",
       "      <td>Россия</td>\n",
       "      <td>Ф.Бондарчук</td>\n",
       "      <td>ООО \"Арт Пикчерс Студия\"</td>\n",
       "      <td>«12+» - для детей старше 12 лет</td>\n",
       "      <td>0.0</td>\n",
       "      <td>250000000.0</td>\n",
       "      <td>0.0</td>\n",
       "      <td>Фонд кино</td>\n",
       "      <td>5.6</td>\n",
       "      <td>фантастика</td>\n",
       "      <td>1038321489.0</td>\n",
       "    </tr>\n",
       "    <tr>\n",
       "      <th>3675</th>\n",
       "      <td>Чудо-юдо</td>\n",
       "      <td>114001817</td>\n",
       "      <td>2017-06-27 12:00:00+00:00</td>\n",
       "      <td>Анимационный</td>\n",
       "      <td>ООО \"КиноФирма\"</td>\n",
       "      <td>Россия</td>\n",
       "      <td>А.Лукичев</td>\n",
       "      <td>ООО \"КиноФирма\"</td>\n",
       "      <td>«6+» - для детей старше 6 лет</td>\n",
       "      <td>20000000.0</td>\n",
       "      <td>20000000.0</td>\n",
       "      <td>0.0</td>\n",
       "      <td>Фонд кино</td>\n",
       "      <td>5.2</td>\n",
       "      <td>мультфильм,фэнтези,семейный</td>\n",
       "      <td>55108014.76</td>\n",
       "    </tr>\n",
       "    <tr>\n",
       "      <th>3739</th>\n",
       "      <td>Мифы</td>\n",
       "      <td>111004317</td>\n",
       "      <td>2017-06-07 12:00:00+00:00</td>\n",
       "      <td>Художественный</td>\n",
       "      <td>ООО \"ХАЙПФИЛМ\", ООО \"Арт Пикчерс Студия\"</td>\n",
       "      <td>Россия</td>\n",
       "      <td>А.Молочников</td>\n",
       "      <td>Ф.Бондарчук, Д.Рудовский, И.Стюарт, М.Османн, ...</td>\n",
       "      <td>«16+» - для детей старше 16 лет</td>\n",
       "      <td>25000000.0</td>\n",
       "      <td>20000000.0</td>\n",
       "      <td>0.0</td>\n",
       "      <td>Фонд кино</td>\n",
       "      <td>4.8</td>\n",
       "      <td>комедия</td>\n",
       "      <td>50451949.0</td>\n",
       "    </tr>\n",
       "    <tr>\n",
       "      <th>5673</th>\n",
       "      <td>Селфи</td>\n",
       "      <td>111012117</td>\n",
       "      <td>2018-02-01 12:00:00+00:00</td>\n",
       "      <td>Художественный</td>\n",
       "      <td>ООО \"Киностудия \"Слово\", ООО \"Арт Пикчерс Студия\"</td>\n",
       "      <td>Россия</td>\n",
       "      <td>Н.Хомерики</td>\n",
       "      <td>П.Ануров, Ф.Бондарчук, Д.Рудовский</td>\n",
       "      <td>«16+» - для детей старше 16 лет</td>\n",
       "      <td>20000000.0</td>\n",
       "      <td>40000000.0</td>\n",
       "      <td>0.0</td>\n",
       "      <td>Фонд кино</td>\n",
       "      <td>5.8</td>\n",
       "      <td>триллер,драма</td>\n",
       "      <td>225196400.03</td>\n",
       "    </tr>\n",
       "    <tr>\n",
       "      <th>5806</th>\n",
       "      <td>Два хвоста</td>\n",
       "      <td>114001018</td>\n",
       "      <td>2018-05-31 12:00:00+00:00</td>\n",
       "      <td>Анимационный</td>\n",
       "      <td>ООО \"ЛИЦЕНЗИОННЫЕ БРЕНДЫ\"</td>\n",
       "      <td>Россия</td>\n",
       "      <td>В.Ровенский, Н.Лопато, В.Азеев</td>\n",
       "      <td>ООО \"ЛИЦЕНЗИОННЫЕ БРЕНДЫ\"</td>\n",
       "      <td>«6+» - для детей старше 6 лет</td>\n",
       "      <td>10000000.0</td>\n",
       "      <td>60000000.0</td>\n",
       "      <td>0.0</td>\n",
       "      <td>Фонд кино</td>\n",
       "      <td>5.0</td>\n",
       "      <td>мультфильм,детский</td>\n",
       "      <td>106514301.03</td>\n",
       "    </tr>\n",
       "    <tr>\n",
       "      <th>6008</th>\n",
       "      <td>Принцесса и дракон</td>\n",
       "      <td>114003018</td>\n",
       "      <td>2018-08-23 12:00:00+00:00</td>\n",
       "      <td>Анимационный</td>\n",
       "      <td>ООО \"ЛИЦЕНЗИОННЫЕ БРЕНДЫ\"</td>\n",
       "      <td>Россия</td>\n",
       "      <td>М.Нефедова</td>\n",
       "      <td>ООО \"ЛИЦЕНЗИОННЫЕ БРЕНДЫ\"</td>\n",
       "      <td>«6+» - для детей старше 6 лет</td>\n",
       "      <td>40000000.0</td>\n",
       "      <td>40000000.0</td>\n",
       "      <td>0.0</td>\n",
       "      <td>Фонд кино</td>\n",
       "      <td>5.2</td>\n",
       "      <td>мультфильм,фэнтези,детский</td>\n",
       "      <td>83366328.66</td>\n",
       "    </tr>\n",
       "    <tr>\n",
       "      <th>6323</th>\n",
       "      <td>Баба Яга</td>\n",
       "      <td>114006518</td>\n",
       "      <td>2018-11-08 12:00:00+00:00</td>\n",
       "      <td>Анимационный</td>\n",
       "      <td>ООО \"Арт Пикчерс Студия\"</td>\n",
       "      <td>Россия</td>\n",
       "      <td>В.Саков</td>\n",
       "      <td>ООО \"Арт Пикчерс Студия\", ООО \"КРИЭЙТИВ АНИМЭЙ...</td>\n",
       "      <td>«6+» - для детей старше 6 лет</td>\n",
       "      <td>0.0</td>\n",
       "      <td>138969465.0</td>\n",
       "      <td>0.0</td>\n",
       "      <td>Фонд кино</td>\n",
       "      <td>0.0</td>\n",
       "      <td>жанр не известен</td>\n",
       "      <td>1334699.4</td>\n",
       "    </tr>\n",
       "    <tr>\n",
       "      <th>6823</th>\n",
       "      <td>Большое путешествие</td>\n",
       "      <td>114002419</td>\n",
       "      <td>2019-04-20 12:00:00+00:00</td>\n",
       "      <td>Анимационный</td>\n",
       "      <td>ООО \"ЛИЦЕНЗИОННЫЕ БРЕНДЫ\"</td>\n",
       "      <td>Россия</td>\n",
       "      <td>Н.Лопато, В.Ровенский</td>\n",
       "      <td>ООО \"ЛИЦЕНЗИОННЫЕ БРЕНДЫ\"</td>\n",
       "      <td>«6+» - для детей старше 6 лет</td>\n",
       "      <td>60000000.0</td>\n",
       "      <td>120000000.0</td>\n",
       "      <td>0.0</td>\n",
       "      <td>Фонд кино</td>\n",
       "      <td>6.2</td>\n",
       "      <td>мультфильм,комедия,приключения</td>\n",
       "      <td>147606826.51</td>\n",
       "    </tr>\n",
       "  </tbody>\n",
       "</table>\n",
       "</div>"
      ],
      "text/plain": [
       "                       title   puNumber           show_start_date  \\\n",
       "2053                     14+  111023614 2014-12-19 12:00:00+00:00   \n",
       "2058               Дуxless 2  111000415 2015-01-26 12:00:00+00:00   \n",
       "2472             Воин (2015)  111017315 2015-09-28 12:00:00+00:00   \n",
       "2532                  Бармен  111009615 2015-05-26 12:00:00+00:00   \n",
       "2615      Савва Сердце воина  114001715 2015-07-21 12:00:00+00:00   \n",
       "2684          Тряпичный союз  111010215 2015-06-08 12:00:00+00:00   \n",
       "2788      Срочно выйду замуж  111017115 2015-09-30 12:00:00+00:00   \n",
       "2874       Помню - не помню!  111004916 2016-03-01 12:00:00+00:00   \n",
       "3047  Любовь с ограничениями  111008216 2016-04-29 12:00:00+00:00   \n",
       "3565       Притяжение (2016)  111018116 2016-12-16 12:00:00+00:00   \n",
       "3675                Чудо-юдо  114001817 2017-06-27 12:00:00+00:00   \n",
       "3739                    Мифы  111004317 2017-06-07 12:00:00+00:00   \n",
       "5673                   Селфи  111012117 2018-02-01 12:00:00+00:00   \n",
       "5806              Два хвоста  114001018 2018-05-31 12:00:00+00:00   \n",
       "6008      Принцесса и дракон  114003018 2018-08-23 12:00:00+00:00   \n",
       "6323                Баба Яга  114006518 2018-11-08 12:00:00+00:00   \n",
       "6823     Большое путешествие  114002419 2019-04-20 12:00:00+00:00   \n",
       "\n",
       "                type                                        film_studio  \\\n",
       "2053  Художественный                         ООО Киностудия  \"Сентябрь\"   \n",
       "2058  Художественный  ООО \"Киностудия \"Слово\", ООО \"Арт Пикчерс Студия\"   \n",
       "2472  Художественный   ООО \"Форпост Продакшн\", ООО \"Арт Пикчерс Студия\"   \n",
       "2532  Художественный          АО \"ВайТ Медиа\", ООО \"Арт Пикчерс Студия\"   \n",
       "2615    Анимационный   ООО \"Глюкоза Продакшн\", ООО \"Арт Пикчерс Студия\"   \n",
       "2684  Художественный                      ООО \"Кинокомпания \"КОКТЕБЕЛЬ\"   \n",
       "2788  Художественный          АО \"ВайТ Медиа\", ООО \"Арт Пикчерс Студия\"   \n",
       "2874  Художественный                                    ООО \"КиноФирма\"   \n",
       "3047  Художественный          АО \"ВайТ Медиа\", ООО \"Арт Пикчерс Студия\"   \n",
       "3565  Художественный      ООО \"Водород 2011\",  ООО \"Арт Пикчерс Студия\"   \n",
       "3675    Анимационный                                    ООО \"КиноФирма\"   \n",
       "3739  Художественный           ООО \"ХАЙПФИЛМ\", ООО \"Арт Пикчерс Студия\"   \n",
       "5673  Художественный  ООО \"Киностудия \"Слово\", ООО \"Арт Пикчерс Студия\"   \n",
       "5806    Анимационный                          ООО \"ЛИЦЕНЗИОННЫЕ БРЕНДЫ\"   \n",
       "6008    Анимационный                          ООО \"ЛИЦЕНЗИОННЫЕ БРЕНДЫ\"   \n",
       "6323    Анимационный                           ООО \"Арт Пикчерс Студия\"   \n",
       "6823    Анимационный                          ООО \"ЛИЦЕНЗИОННЫЕ БРЕНДЫ\"   \n",
       "\n",
       "     production_country                        director  \\\n",
       "2053             Россия                        А.Зайцев   \n",
       "2058             Россия                      Р.Прыгунов   \n",
       "2472             Россия                     А.Андрианов   \n",
       "2532             Россия                    Д.Штурманова   \n",
       "2615             Россия                        М.Фадеев   \n",
       "2684             Россия                     М.Местецкий   \n",
       "2788             Россия                       С Чекалов   \n",
       "2874             Россия                     В.Ровенский   \n",
       "3047             Россия                         Д.Тюрин   \n",
       "3565             Россия                     Ф.Бондарчук   \n",
       "3675             Россия                       А.Лукичев   \n",
       "3739             Россия                    А.Молочников   \n",
       "5673             Россия                      Н.Хомерики   \n",
       "5806             Россия  В.Ровенский, Н.Лопато, В.Азеев   \n",
       "6008             Россия                      М.Нефедова   \n",
       "6323             Россия                         В.Саков   \n",
       "6823             Россия           Н.Лопато, В.Ровенский   \n",
       "\n",
       "                                               producer  \\\n",
       "2053                                О.Гранина, А.Зайцев   \n",
       "2058                 П.Ануров, Ф.Бондарчук, Д.Рудовский   \n",
       "2472                           ООО \"Арт Пикчерс Студия\"   \n",
       "2532                                        Т.Вайнштейн   \n",
       "2615                                         А.Чистяков   \n",
       "2684                              Р.Борисевич, А.Кушаев   \n",
       "2788              Ф.Бондарчук, Т.Вайнштейн, Д.Рудовский   \n",
       "2874                                    ООО \"КиноФирма\"   \n",
       "3047              Ф.Бондарчук, Т.Вайнштейн, Д.Рудовский   \n",
       "3565                           ООО \"Арт Пикчерс Студия\"   \n",
       "3675                                    ООО \"КиноФирма\"   \n",
       "3739  Ф.Бондарчук, Д.Рудовский, И.Стюарт, М.Османн, ...   \n",
       "5673                 П.Ануров, Ф.Бондарчук, Д.Рудовский   \n",
       "5806                          ООО \"ЛИЦЕНЗИОННЫЕ БРЕНДЫ\"   \n",
       "6008                          ООО \"ЛИЦЕНЗИОННЫЕ БРЕНДЫ\"   \n",
       "6323  ООО \"Арт Пикчерс Студия\", ООО \"КРИЭЙТИВ АНИМЭЙ...   \n",
       "6823                          ООО \"ЛИЦЕНЗИОННЫЕ БРЕНДЫ\"   \n",
       "\n",
       "                      age_restriction  refundable_support  \\\n",
       "2053  «16+» - для детей старше 16 лет                 0.0   \n",
       "2058  «16+» - для детей старше 16 лет                 0.0   \n",
       "2472  «12+» - для детей старше 12 лет          10000000.0   \n",
       "2532  «16+» - для детей старше 16 лет          20000000.0   \n",
       "2615    «6+» - для детей старше 6 лет          60000000.0   \n",
       "2684      «18+» - запрещено для детей                 0.0   \n",
       "2788  «16+» - для детей старше 16 лет                 0.0   \n",
       "2874  «12+» - для детей старше 12 лет                 0.0   \n",
       "3047  «16+» - для детей старше 16 лет          19000000.0   \n",
       "3565  «12+» - для детей старше 12 лет                 0.0   \n",
       "3675    «6+» - для детей старше 6 лет          20000000.0   \n",
       "3739  «16+» - для детей старше 16 лет          25000000.0   \n",
       "5673  «16+» - для детей старше 16 лет          20000000.0   \n",
       "5806    «6+» - для детей старше 6 лет          10000000.0   \n",
       "6008    «6+» - для детей старше 6 лет          40000000.0   \n",
       "6323    «6+» - для детей старше 6 лет                 0.0   \n",
       "6823    «6+» - для детей старше 6 лет          60000000.0   \n",
       "\n",
       "      nonrefundable_support budget                  financing_source  ratings  \\\n",
       "2053             23000000.0    0.0  Министерство культуры, Фонд кино      6.6   \n",
       "2058             75000000.0    0.0                         Фонд кино      6.6   \n",
       "2472             70000000.0    0.0                         Фонд кино      7.8   \n",
       "2532                    0.0    0.0                         Фонд кино      6.2   \n",
       "2615            100000000.0    0.0                         Фонд кино      4.6   \n",
       "2684             59000000.0    0.0                         Фонд кино      6.3   \n",
       "2788             35000000.0    0.0                         Фонд кино      5.1   \n",
       "2874              6000000.0    0.0             Министерство культуры      4.3   \n",
       "3047             51000000.0    0.0                         Фонд кино      6.3   \n",
       "3565            250000000.0    0.0                         Фонд кино      5.6   \n",
       "3675             20000000.0    0.0                         Фонд кино      5.2   \n",
       "3739             20000000.0    0.0                         Фонд кино      4.8   \n",
       "5673             40000000.0    0.0                         Фонд кино      5.8   \n",
       "5806             60000000.0    0.0                         Фонд кино      5.0   \n",
       "6008             40000000.0    0.0                         Фонд кино      5.2   \n",
       "6323            138969465.0    0.0                         Фонд кино      0.0   \n",
       "6823            120000000.0    0.0                         Фонд кино      6.2   \n",
       "\n",
       "                              genres    box_office  \n",
       "2053                       мелодрама    10234016.1  \n",
       "2058                           драма   446163511.0  \n",
       "2472           боевик,драма,криминал   196572438.4  \n",
       "2532                 комедия,фэнтези    67418974.8  \n",
       "2615  мультфильм,приключения,фэнтези   184487551.4  \n",
       "2684                   комедия,драма    1957738.51  \n",
       "2788               комедия,мелодрама    72937783.2  \n",
       "2874                         комедия   15362931.43  \n",
       "3047               комедия,мелодрама    70299052.0  \n",
       "3565                      фантастика  1038321489.0  \n",
       "3675     мультфильм,фэнтези,семейный   55108014.76  \n",
       "3739                         комедия    50451949.0  \n",
       "5673                   триллер,драма  225196400.03  \n",
       "5806              мультфильм,детский  106514301.03  \n",
       "6008      мультфильм,фэнтези,детский   83366328.66  \n",
       "6323                жанр не известен     1334699.4  \n",
       "6823  мультфильм,комедия,приключения  147606826.51  "
      ]
     },
     "execution_count": 33,
     "metadata": {},
     "output_type": "execute_result"
    }
   ],
   "source": [
    "df[df['budget']==0]"
   ]
  },
  {
   "cell_type": "markdown",
   "metadata": {},
   "source": [
    "**budget** уже включает в себя полный объём государственной поддержки.Но есть строки где у фильма есть один из видов гос.финансирования ,но есть фильмы у которых **budget** равен нулю там где хотя бы один из типов гос.поддержки не равен нулю. Заменим нули на сумму обоих видов гос.поддержки. "
   ]
  },
  {
   "cell_type": "code",
   "execution_count": 34,
   "metadata": {},
   "outputs": [],
   "source": [
    "df.loc[df['budget']==0,'budget']=df['refundable_support']+df['nonrefundable_support']"
   ]
  },
  {
   "cell_type": "markdown",
   "metadata": {
    "id": "Eu6oWp2CgFyS"
   },
   "source": [
    "#### Шаг 2.6. Добавьте новые столбцы\n",
    "\n",
    "\n",
    "\n"
   ]
  },
  {
   "cell_type": "markdown",
   "metadata": {
    "id": "7GgW-UpAgFyS"
   },
   "source": [
    "- Создайте столбец с информацией о годе проката. Выделите год из даты премьеры фильма."
   ]
  },
  {
   "cell_type": "code",
   "execution_count": 35,
   "metadata": {
    "id": "I-yd1DkWgFyT"
   },
   "outputs": [],
   "source": [
    "df['year']=df['show_start_date'].dt.year"
   ]
  },
  {
   "cell_type": "markdown",
   "metadata": {
    "id": "nFTDLDYOgFyT"
   },
   "source": [
    "- Создайте два столбца: с именем и фамилией главного режиссёра и основным жанром фильма. В столбцы войдут первые значения из списка режиссёров и жанров соответственно.\n",
    "\n",
    "<div id=\"accordion\">\n",
    "    <div class=\"card\">\n",
    "        <div class=\"card-header\" id=\"headingThree\">\n",
    "            <button class=\"btn btn-link collapsed\" data-toggle=\"collapse\" data-target=\"#collapseHint_2\" aria-expanded=\"false\" aria-controls=\"collapseHint_2\">Подсказка</button>\n",
    "        </div>\n",
    "        <div id=\"collapseHint_2\" class=\"collapse\" aria-labelledby=\"headingThree\" data-parent=\"#accordion\">\n",
    "            <div class=\"card-body\">\n",
    "Чтобы создать такие столбцы, лучше всего использовать собственную функцию. Эту функцию можно применить к двум столбцам сразу. \n",
    "            </div>\n",
    "        </div>\n",
    "    </div>\n",
    "</div>"
   ]
  },
  {
   "cell_type": "code",
   "execution_count": 36,
   "metadata": {},
   "outputs": [],
   "source": [
    "def director_genres(x):\n",
    "    return x.split(',')[0]"
   ]
  },
  {
   "cell_type": "code",
   "execution_count": 37,
   "metadata": {
    "id": "LSbRZKbMgFyU"
   },
   "outputs": [],
   "source": [
    "df['director_first']=df['director'].apply(director_genres)\n",
    "    "
   ]
  },
  {
   "cell_type": "code",
   "execution_count": 38,
   "metadata": {},
   "outputs": [],
   "source": [
    "df['genres_first']=df['genres'].apply(director_genres)"
   ]
  },
  {
   "cell_type": "code",
   "execution_count": 39,
   "metadata": {},
   "outputs": [
    {
     "data": {
      "text/html": [
       "<div>\n",
       "<style scoped>\n",
       "    .dataframe tbody tr th:only-of-type {\n",
       "        vertical-align: middle;\n",
       "    }\n",
       "\n",
       "    .dataframe tbody tr th {\n",
       "        vertical-align: top;\n",
       "    }\n",
       "\n",
       "    .dataframe thead th {\n",
       "        text-align: right;\n",
       "    }\n",
       "</style>\n",
       "<table border=\"1\" class=\"dataframe\">\n",
       "  <thead>\n",
       "    <tr style=\"text-align: right;\">\n",
       "      <th></th>\n",
       "      <th>title</th>\n",
       "      <th>puNumber</th>\n",
       "      <th>show_start_date</th>\n",
       "      <th>type</th>\n",
       "      <th>film_studio</th>\n",
       "      <th>production_country</th>\n",
       "      <th>director</th>\n",
       "      <th>producer</th>\n",
       "      <th>age_restriction</th>\n",
       "      <th>refundable_support</th>\n",
       "      <th>nonrefundable_support</th>\n",
       "      <th>budget</th>\n",
       "      <th>financing_source</th>\n",
       "      <th>ratings</th>\n",
       "      <th>genres</th>\n",
       "      <th>box_office</th>\n",
       "      <th>year</th>\n",
       "      <th>director_first</th>\n",
       "      <th>genres_first</th>\n",
       "    </tr>\n",
       "  </thead>\n",
       "  <tbody>\n",
       "    <tr>\n",
       "      <th>0</th>\n",
       "      <td>Открытый простор</td>\n",
       "      <td>221048915</td>\n",
       "      <td>2015-11-27 12:00:00+00:00</td>\n",
       "      <td>Художественный</td>\n",
       "      <td>Тачстоун Пикчерз, Кобальт Пикчерз, Бикон Пикче...</td>\n",
       "      <td>США</td>\n",
       "      <td>Кевин Костнер</td>\n",
       "      <td>Дэвид Валдес, Кевин Костнер, Джейк Эбертс</td>\n",
       "      <td>«18+» - запрещено для детей</td>\n",
       "      <td>0.0</td>\n",
       "      <td>0.0</td>\n",
       "      <td>не известен</td>\n",
       "      <td>без гос.финансирования</td>\n",
       "      <td>7.2</td>\n",
       "      <td>боевик,драма,мелодрама</td>\n",
       "      <td>не известен</td>\n",
       "      <td>2015</td>\n",
       "      <td>Кевин Костнер</td>\n",
       "      <td>боевик</td>\n",
       "    </tr>\n",
       "    <tr>\n",
       "      <th>1</th>\n",
       "      <td>Особо важное задание</td>\n",
       "      <td>111013716</td>\n",
       "      <td>2016-09-13 12:00:00+00:00</td>\n",
       "      <td>Художественный</td>\n",
       "      <td>Киностудия \"Мосфильм\"</td>\n",
       "      <td>СССР</td>\n",
       "      <td>Е.Матвеев</td>\n",
       "      <td>нет</td>\n",
       "      <td>«6+» - для детей старше 6 лет</td>\n",
       "      <td>0.0</td>\n",
       "      <td>0.0</td>\n",
       "      <td>не известен</td>\n",
       "      <td>без гос.финансирования</td>\n",
       "      <td>6.6</td>\n",
       "      <td>драма,военный</td>\n",
       "      <td>не известен</td>\n",
       "      <td>2016</td>\n",
       "      <td>Е.Матвеев</td>\n",
       "      <td>драма</td>\n",
       "    </tr>\n",
       "    <tr>\n",
       "      <th>2</th>\n",
       "      <td>Особо опасен</td>\n",
       "      <td>221038416</td>\n",
       "      <td>2016-10-10 12:00:00+00:00</td>\n",
       "      <td>Художественный</td>\n",
       "      <td>Юниверсал Пикчерз, Кикстарт Продакшнз, Марк Пл...</td>\n",
       "      <td>США</td>\n",
       "      <td>Тимур Бекмамбетов</td>\n",
       "      <td>Джим Лемли, Джейсон Нетер, Марк Е.Платт, Яйн Смит</td>\n",
       "      <td>«18+» - запрещено для детей</td>\n",
       "      <td>0.0</td>\n",
       "      <td>0.0</td>\n",
       "      <td>не известен</td>\n",
       "      <td>без гос.финансирования</td>\n",
       "      <td>6.8</td>\n",
       "      <td>фантастика,боевик,триллер</td>\n",
       "      <td>не известен</td>\n",
       "      <td>2016</td>\n",
       "      <td>Тимур Бекмамбетов</td>\n",
       "      <td>фантастика</td>\n",
       "    </tr>\n",
       "    <tr>\n",
       "      <th>3</th>\n",
       "      <td>Особо опасен</td>\n",
       "      <td>221026916</td>\n",
       "      <td>2016-06-10 12:00:00+00:00</td>\n",
       "      <td>Художественный</td>\n",
       "      <td>Юниверсал Пикчерз, Кикстарт Продакшнз, Марк Пл...</td>\n",
       "      <td>США</td>\n",
       "      <td>Тимур Бекмамбетов</td>\n",
       "      <td>Джим Лемли, Джейсон Нетер, Марк Е.Платт, Яйн Смит</td>\n",
       "      <td>«18+» - запрещено для детей</td>\n",
       "      <td>0.0</td>\n",
       "      <td>0.0</td>\n",
       "      <td>не известен</td>\n",
       "      <td>без гос.финансирования</td>\n",
       "      <td>6.8</td>\n",
       "      <td>фантастика,боевик,триллер</td>\n",
       "      <td>не известен</td>\n",
       "      <td>2016</td>\n",
       "      <td>Тимур Бекмамбетов</td>\n",
       "      <td>фантастика</td>\n",
       "    </tr>\n",
       "    <tr>\n",
       "      <th>4</th>\n",
       "      <td>Особо опасен</td>\n",
       "      <td>221030815</td>\n",
       "      <td>2015-07-29 12:00:00+00:00</td>\n",
       "      <td>Художественный</td>\n",
       "      <td>Юниверсал Пикчерз, Кикстарт Продакшнз, Марк Пл...</td>\n",
       "      <td>США</td>\n",
       "      <td>Тимур Бекмамбетов</td>\n",
       "      <td>Джим Лемли, Джейсон Нетер, Марк Е.Платт, Яйн Смит</td>\n",
       "      <td>«18+» - запрещено для детей</td>\n",
       "      <td>0.0</td>\n",
       "      <td>0.0</td>\n",
       "      <td>не известен</td>\n",
       "      <td>без гос.финансирования</td>\n",
       "      <td>6.8</td>\n",
       "      <td>фантастика,боевик,триллер</td>\n",
       "      <td>не известен</td>\n",
       "      <td>2015</td>\n",
       "      <td>Тимур Бекмамбетов</td>\n",
       "      <td>фантастика</td>\n",
       "    </tr>\n",
       "  </tbody>\n",
       "</table>\n",
       "</div>"
      ],
      "text/plain": [
       "                  title   puNumber           show_start_date            type  \\\n",
       "0      Открытый простор  221048915 2015-11-27 12:00:00+00:00  Художественный   \n",
       "1  Особо важное задание  111013716 2016-09-13 12:00:00+00:00  Художественный   \n",
       "2          Особо опасен  221038416 2016-10-10 12:00:00+00:00  Художественный   \n",
       "3          Особо опасен  221026916 2016-06-10 12:00:00+00:00  Художественный   \n",
       "4          Особо опасен  221030815 2015-07-29 12:00:00+00:00  Художественный   \n",
       "\n",
       "                                         film_studio production_country  \\\n",
       "0  Тачстоун Пикчерз, Кобальт Пикчерз, Бикон Пикче...                США   \n",
       "1                              Киностудия \"Мосфильм\"               СССР   \n",
       "2  Юниверсал Пикчерз, Кикстарт Продакшнз, Марк Пл...                США   \n",
       "3  Юниверсал Пикчерз, Кикстарт Продакшнз, Марк Пл...                США   \n",
       "4  Юниверсал Пикчерз, Кикстарт Продакшнз, Марк Пл...                США   \n",
       "\n",
       "            director                                           producer  \\\n",
       "0      Кевин Костнер          Дэвид Валдес, Кевин Костнер, Джейк Эбертс   \n",
       "1          Е.Матвеев                                                нет   \n",
       "2  Тимур Бекмамбетов  Джим Лемли, Джейсон Нетер, Марк Е.Платт, Яйн Смит   \n",
       "3  Тимур Бекмамбетов  Джим Лемли, Джейсон Нетер, Марк Е.Платт, Яйн Смит   \n",
       "4  Тимур Бекмамбетов  Джим Лемли, Джейсон Нетер, Марк Е.Платт, Яйн Смит   \n",
       "\n",
       "                 age_restriction  refundable_support  nonrefundable_support  \\\n",
       "0    «18+» - запрещено для детей                 0.0                    0.0   \n",
       "1  «6+» - для детей старше 6 лет                 0.0                    0.0   \n",
       "2    «18+» - запрещено для детей                 0.0                    0.0   \n",
       "3    «18+» - запрещено для детей                 0.0                    0.0   \n",
       "4    «18+» - запрещено для детей                 0.0                    0.0   \n",
       "\n",
       "        budget        financing_source  ratings                     genres  \\\n",
       "0  не известен  без гос.финансирования      7.2     боевик,драма,мелодрама   \n",
       "1  не известен  без гос.финансирования      6.6              драма,военный   \n",
       "2  не известен  без гос.финансирования      6.8  фантастика,боевик,триллер   \n",
       "3  не известен  без гос.финансирования      6.8  фантастика,боевик,триллер   \n",
       "4  не известен  без гос.финансирования      6.8  фантастика,боевик,триллер   \n",
       "\n",
       "    box_office  year     director_first genres_first  \n",
       "0  не известен  2015      Кевин Костнер       боевик  \n",
       "1  не известен  2016          Е.Матвеев        драма  \n",
       "2  не известен  2016  Тимур Бекмамбетов   фантастика  \n",
       "3  не известен  2016  Тимур Бекмамбетов   фантастика  \n",
       "4  не известен  2015  Тимур Бекмамбетов   фантастика  "
      ]
     },
     "execution_count": 39,
     "metadata": {},
     "output_type": "execute_result"
    }
   ],
   "source": [
    "df.head()"
   ]
  },
  {
   "cell_type": "markdown",
   "metadata": {
    "id": "1FsCXHwdgFyU"
   },
   "source": [
    "- Посчитайте, какую долю от общего бюджета фильма составляет государственная поддержка."
   ]
  },
  {
   "cell_type": "markdown",
   "metadata": {},
   "source": [
    "**Создадим новый датафрейм только с фильмами,которые получили гос.поддержку.**"
   ]
  },
  {
   "cell_type": "code",
   "execution_count": 40,
   "metadata": {},
   "outputs": [],
   "source": [
    "data3=df.loc[df['budget']!='не известен']"
   ]
  },
  {
   "cell_type": "code",
   "execution_count": 41,
   "metadata": {
    "id": "LV6qFuZLgFyV"
   },
   "outputs": [
    {
     "name": "stderr",
     "output_type": "stream",
     "text": [
      "/tmp/ipykernel_48/3612106823.py:1: SettingWithCopyWarning: \n",
      "A value is trying to be set on a copy of a slice from a DataFrame.\n",
      "Try using .loc[row_indexer,col_indexer] = value instead\n",
      "\n",
      "See the caveats in the documentation: https://pandas.pydata.org/pandas-docs/stable/user_guide/indexing.html#returning-a-view-versus-a-copy\n",
      "  data3['gos_percent']=(data3['refundable_support']+data3['nonrefundable_support'])/data3['budget']\n"
     ]
    }
   ],
   "source": [
    "data3['gos_percent']=(data3['refundable_support']+data3['nonrefundable_support'])/data3['budget']\n",
    "        "
   ]
  },
  {
   "cell_type": "code",
   "execution_count": 42,
   "metadata": {},
   "outputs": [
    {
     "data": {
      "text/plain": [
       "count    332.000000\n",
       "mean       0.542098\n",
       "std        0.196925\n",
       "min        0.044043\n",
       "25%        0.384615\n",
       "50%        0.614038\n",
       "75%        0.661412\n",
       "max        1.000000\n",
       "Name: gos_percent, dtype: float64"
      ]
     },
     "execution_count": 42,
     "metadata": {},
     "output_type": "execute_result"
    }
   ],
   "source": [
    "data3['gos_percent'].astype('float').describe()"
   ]
  },
  {
   "cell_type": "code",
   "execution_count": 43,
   "metadata": {},
   "outputs": [
    {
     "data": {
      "text/plain": [
       "332"
      ]
     },
     "execution_count": 43,
     "metadata": {},
     "output_type": "execute_result"
    }
   ],
   "source": [
    "len(data3['title'].unique())"
   ]
  },
  {
   "cell_type": "code",
   "execution_count": 44,
   "metadata": {},
   "outputs": [
    {
     "ename": "DataError",
     "evalue": "No numeric types to aggregate",
     "output_type": "error",
     "traceback": [
      "\u001b[0;31m---------------------------------------------------------------------------\u001b[0m",
      "\u001b[0;31mDataError\u001b[0m                                 Traceback (most recent call last)",
      "\u001b[0;32m/tmp/ipykernel_48/3533276993.py\u001b[0m in \u001b[0;36m<module>\u001b[0;34m\u001b[0m\n\u001b[0;32m----> 1\u001b[0;31m \u001b[0mdata3\u001b[0m\u001b[0;34m.\u001b[0m\u001b[0mgroupby\u001b[0m\u001b[0;34m(\u001b[0m\u001b[0;34m[\u001b[0m\u001b[0;34m'year'\u001b[0m\u001b[0;34m]\u001b[0m\u001b[0;34m)\u001b[0m\u001b[0;34m[\u001b[0m\u001b[0;34m'gos_percent'\u001b[0m\u001b[0;34m]\u001b[0m\u001b[0;34m.\u001b[0m\u001b[0mmedian\u001b[0m\u001b[0;34m(\u001b[0m\u001b[0;34m)\u001b[0m\u001b[0;34m.\u001b[0m\u001b[0mplot\u001b[0m\u001b[0;34m(\u001b[0m\u001b[0mkind\u001b[0m\u001b[0;34m=\u001b[0m\u001b[0;34m'bar'\u001b[0m\u001b[0;34m)\u001b[0m\u001b[0;34m\u001b[0m\u001b[0;34m\u001b[0m\u001b[0m\n\u001b[0m\u001b[1;32m      2\u001b[0m \u001b[0mplt\u001b[0m\u001b[0;34m.\u001b[0m\u001b[0mshow\u001b[0m\u001b[0;34m(\u001b[0m\u001b[0;34m)\u001b[0m\u001b[0;34m\u001b[0m\u001b[0;34m\u001b[0m\u001b[0m\n",
      "\u001b[0;32m/opt/conda/lib/python3.9/site-packages/pandas/core/groupby/groupby.py\u001b[0m in \u001b[0;36mmedian\u001b[0;34m(self, numeric_only)\u001b[0m\n\u001b[1;32m   1520\u001b[0m             \u001b[0mMedian\u001b[0m \u001b[0mof\u001b[0m \u001b[0mvalues\u001b[0m \u001b[0mwithin\u001b[0m \u001b[0meach\u001b[0m \u001b[0mgroup\u001b[0m\u001b[0;34m.\u001b[0m\u001b[0;34m\u001b[0m\u001b[0;34m\u001b[0m\u001b[0m\n\u001b[1;32m   1521\u001b[0m         \"\"\"\n\u001b[0;32m-> 1522\u001b[0;31m         return self._cython_agg_general(\n\u001b[0m\u001b[1;32m   1523\u001b[0m             \u001b[0;34m\"median\"\u001b[0m\u001b[0;34m,\u001b[0m\u001b[0;34m\u001b[0m\u001b[0;34m\u001b[0m\u001b[0m\n\u001b[1;32m   1524\u001b[0m             \u001b[0malt\u001b[0m\u001b[0;34m=\u001b[0m\u001b[0;32mlambda\u001b[0m \u001b[0mx\u001b[0m\u001b[0;34m,\u001b[0m \u001b[0maxis\u001b[0m\u001b[0;34m:\u001b[0m \u001b[0mSeries\u001b[0m\u001b[0;34m(\u001b[0m\u001b[0mx\u001b[0m\u001b[0;34m)\u001b[0m\u001b[0;34m.\u001b[0m\u001b[0mmedian\u001b[0m\u001b[0;34m(\u001b[0m\u001b[0maxis\u001b[0m\u001b[0;34m=\u001b[0m\u001b[0maxis\u001b[0m\u001b[0;34m,\u001b[0m \u001b[0mnumeric_only\u001b[0m\u001b[0;34m=\u001b[0m\u001b[0mnumeric_only\u001b[0m\u001b[0;34m)\u001b[0m\u001b[0;34m,\u001b[0m\u001b[0;34m\u001b[0m\u001b[0;34m\u001b[0m\u001b[0m\n",
      "\u001b[0;32m/opt/conda/lib/python3.9/site-packages/pandas/core/groupby/groupby.py\u001b[0m in \u001b[0;36m_cython_agg_general\u001b[0;34m(self, how, alt, numeric_only, min_count)\u001b[0m\n\u001b[1;32m   1079\u001b[0m \u001b[0;34m\u001b[0m\u001b[0m\n\u001b[1;32m   1080\u001b[0m         \u001b[0;32mif\u001b[0m \u001b[0;32mnot\u001b[0m \u001b[0moutput\u001b[0m\u001b[0;34m:\u001b[0m\u001b[0;34m\u001b[0m\u001b[0;34m\u001b[0m\u001b[0m\n\u001b[0;32m-> 1081\u001b[0;31m             \u001b[0;32mraise\u001b[0m \u001b[0mDataError\u001b[0m\u001b[0;34m(\u001b[0m\u001b[0;34m\"No numeric types to aggregate\"\u001b[0m\u001b[0;34m)\u001b[0m\u001b[0;34m\u001b[0m\u001b[0;34m\u001b[0m\u001b[0m\n\u001b[0m\u001b[1;32m   1082\u001b[0m \u001b[0;34m\u001b[0m\u001b[0m\n\u001b[1;32m   1083\u001b[0m         \u001b[0;32mreturn\u001b[0m \u001b[0mself\u001b[0m\u001b[0;34m.\u001b[0m\u001b[0m_wrap_aggregated_output\u001b[0m\u001b[0;34m(\u001b[0m\u001b[0moutput\u001b[0m\u001b[0;34m,\u001b[0m \u001b[0mindex\u001b[0m\u001b[0;34m=\u001b[0m\u001b[0mself\u001b[0m\u001b[0;34m.\u001b[0m\u001b[0mgrouper\u001b[0m\u001b[0;34m.\u001b[0m\u001b[0mresult_index\u001b[0m\u001b[0;34m)\u001b[0m\u001b[0;34m\u001b[0m\u001b[0;34m\u001b[0m\u001b[0m\n",
      "\u001b[0;31mDataError\u001b[0m: No numeric types to aggregate"
     ]
    }
   ],
   "source": [
    "data3.groupby(['year'])['gos_percent'].median().plot(kind='bar')\n",
    "plt.show()"
   ]
  },
  {
   "cell_type": "code",
   "execution_count": null,
   "metadata": {},
   "outputs": [],
   "source": [
    "data3.sort_values(['gos_percent'])"
   ]
  },
  {
   "cell_type": "code",
   "execution_count": null,
   "metadata": {},
   "outputs": [],
   "source": [
    "data3.loc[data3['gos_percent']==1.0,'title'].count()"
   ]
  },
  {
   "cell_type": "markdown",
   "metadata": {},
   "source": [
    "Гос.поддержка в среднем не менее 50 %, минимальная гос.поддержка 4% ,фильм \"За гранью реальности\",максимальная 100%, таких фильмов аж 17. Всего государством было профинансированно 332 фильма. Больше всего государство поддерживало фильмы в 2016 году, ментше всего в 2013 году."
   ]
  },
  {
   "cell_type": "markdown",
   "metadata": {
    "id": "6t4EukPLgFyV"
   },
   "source": [
    "### Шаг 3. Проведите исследовательский анализ данных\n"
   ]
  },
  {
   "cell_type": "markdown",
   "metadata": {
    "id": "vAH8WCzugFyV"
   },
   "source": [
    "- Посмотрите, сколько фильмов выходило в прокат каждый год. Обратите внимание, что данные о прокате в кинотеатрах известны не для всех фильмов. Посчитайте, какую долю составляют фильмы с указанной информацией о прокате в кинотеатрах."
   ]
  },
  {
   "cell_type": "markdown",
   "metadata": {},
   "source": [
    "Количество фильмов,выходящих в прокат каждый год."
   ]
  },
  {
   "cell_type": "markdown",
   "metadata": {},
   "source": [
    "Для фильмов, у которых наличие проката в кинотеатрах неизвестно, значения в столбце **box_office** равно **\"не известен\"**.<br>\n",
    "Создадим новый датафрейм сосотоящий только из фильмов, про которые известно,что они были в прокате и проанализируем его."
   ]
  },
  {
   "cell_type": "code",
   "execution_count": null,
   "metadata": {},
   "outputs": [],
   "source": [
    "data4=df[df['box_office']!='не известен']"
   ]
  },
  {
   "cell_type": "code",
   "execution_count": null,
   "metadata": {},
   "outputs": [],
   "source": [
    "data4.groupby('year')['title'].count().plot(kind='bar',figsize=(5,5),grid=True)\n",
    "plt.show()"
   ]
  },
  {
   "cell_type": "code",
   "execution_count": null,
   "metadata": {},
   "outputs": [],
   "source": [
    "data4.loc[(df['budget']!='не известен') & (df['year']==2010),'title'].count()"
   ]
  },
  {
   "cell_type": "code",
   "execution_count": null,
   "metadata": {},
   "outputs": [],
   "source": [
    "data4.loc[(df['budget']!='не известен') & (df['year']==2016),'title'].count()"
   ]
  },
  {
   "cell_type": "code",
   "execution_count": null,
   "metadata": {},
   "outputs": [],
   "source": [
    "data4.loc[(df['budget']!='не известен') & (df['year']==2017),'title'].count()"
   ]
  },
  {
   "cell_type": "code",
   "execution_count": null,
   "metadata": {},
   "outputs": [],
   "source": [
    "data4.loc[(df['budget']!='не известен') & (df['year']==2019),'title'].count()"
   ]
  },
  {
   "cell_type": "markdown",
   "metadata": {},
   "source": [
    "Начиная с **2010** года наблюдается динамика росту выхода фильмов в кинотеатрах. Если в в **2010** году выходило чуть больше **100 фильмов**, то в **2016** уже бльше **500 фильмов**. В **2017** году наблюдается резкое подание выхода фильмов в прокат в кинотеатрах, а после снова возврат на прежний уровень.<br>\n",
    "Одной из причин может быть то,что в **2017** году меньшее количество фильмов получилос гос.поддержку. "
   ]
  },
  {
   "cell_type": "code",
   "execution_count": null,
   "metadata": {},
   "outputs": [],
   "source": [
    "len(data4)/len(df)"
   ]
  },
  {
   "cell_type": "markdown",
   "metadata": {},
   "source": [
    "**42 %** фильмов с указанными данными о прокате фильма в кинотеатре."
   ]
  },
  {
   "cell_type": "code",
   "execution_count": null,
   "metadata": {},
   "outputs": [],
   "source": [
    "df.groupby('year')['title'].count().plot(kind='bar',figsize=(5,5),grid=True,title='all')\n",
    "plt.show()\n",
    "data4.groupby('year')['title'].count().plot(kind='bar',figsize=(5,5),grid=True)\n",
    "plt.show()"
   ]
  },
  {
   "cell_type": "markdown",
   "metadata": {},
   "source": [
    "**Построив два графика, представленные выше, видно,что информация о прокате фильмов в кинотеатрах полнее всего представлена в 2019 году. Менее всего в 2010 году.**"
   ]
  },
  {
   "cell_type": "markdown",
   "metadata": {
    "id": "BEOdcIrIgFyW"
   },
   "source": [
    "- Изучите, как менялась динамика проката по годам. В каком году сумма сборов была минимальной? А максимальной?"
   ]
  },
  {
   "cell_type": "code",
   "execution_count": null,
   "metadata": {},
   "outputs": [],
   "source": [
    "d=data4.query('year.between(2010,2014)')"
   ]
  },
  {
   "cell_type": "code",
   "execution_count": null,
   "metadata": {
    "id": "tfEhofYvgFyX"
   },
   "outputs": [],
   "source": [
    "data4.pivot_table(index='year',values='box_office',aggfunc='median').plot(kind='bar',grid=True)\n",
    "plt.show()\n",
    "d.pivot_table(index='year',values='box_office',aggfunc='median').plot(kind='bar',grid=True)\n",
    "plt.show()"
   ]
  },
  {
   "cell_type": "markdown",
   "metadata": {},
   "source": [
    "С 2010 года по 2017 год идет наблюдается динамика на увеличение суммы сборов за прокат фильмов. С 2017 до 2019 падение более чем в два раза."
   ]
  },
  {
   "cell_type": "code",
   "execution_count": null,
   "metadata": {},
   "outputs": [],
   "source": [
    "df.query('box_office==0').count()"
   ]
  },
  {
   "cell_type": "markdown",
   "metadata": {},
   "source": [
    "**24 фильма  из нашего датафрейма с нулем в графе колиичества сборов**"
   ]
  },
  {
   "cell_type": "markdown",
   "metadata": {
    "id": "G-7qS-N-gFyY"
   },
   "source": [
    "- С помощью сводной таблицы посчитайте среднюю и медианную сумму сборов для каждого года."
   ]
  },
  {
   "cell_type": "code",
   "execution_count": null,
   "metadata": {
    "id": "jmp-rgg9gFyY",
    "scrolled": true
   },
   "outputs": [],
   "source": [
    "data4.query('year.between(2014,2019)').pivot_table(index='year',values='box_office',aggfunc=['median','mean']).plot(kind='bar')\n",
    "plt.show()"
   ]
  },
  {
   "cell_type": "code",
   "execution_count": null,
   "metadata": {},
   "outputs": [],
   "source": [
    "data4['box_office'].astype('float').describe()"
   ]
  },
  {
   "cell_type": "markdown",
   "metadata": {},
   "source": [
    "Огромные различия в подсчете медианной и средней суммы сборов. Все потому,что есть фильмы с суммой сборов больше 100 млн, а есть фильмы с нулём в этой графе. Половина фильмов с суммой сборов в два с небольшим миллиона."
   ]
  },
  {
   "cell_type": "markdown",
   "metadata": {
    "id": "Ok89WFwJgFyZ"
   },
   "source": [
    "- Определите, влияет ли возрастное ограничение аудитории («6+», «12+», «16+», «18+» и т. д.) на сборы фильма в прокате в период с 2015 по 2019 год? Фильмы с каким возрастным ограничением собрали больше всего денег в прокате? Меняется ли картина в зависимости от года? Если да, предположите, с чем это может быть связано."
   ]
  },
  {
   "cell_type": "code",
   "execution_count": 45,
   "metadata": {
    "id": "jsSbEqfjgFya"
   },
   "outputs": [
    {
     "ename": "NameError",
     "evalue": "name 'data4' is not defined",
     "output_type": "error",
     "traceback": [
      "\u001b[0;31m---------------------------------------------------------------------------\u001b[0m",
      "\u001b[0;31mNameError\u001b[0m                                 Traceback (most recent call last)",
      "\u001b[0;32m/tmp/ipykernel_48/1824002900.py\u001b[0m in \u001b[0;36m<module>\u001b[0;34m\u001b[0m\n\u001b[0;32m----> 1\u001b[0;31m data4.query('year.between(2015,2019)').pivot_table(\n\u001b[0m\u001b[1;32m      2\u001b[0m     index='year',columns='age_restriction',values='box_office',aggfunc='median').plot(kind='bar',grid=True)\n\u001b[1;32m      3\u001b[0m \u001b[0mplt\u001b[0m\u001b[0;34m.\u001b[0m\u001b[0mshow\u001b[0m\u001b[0;34m(\u001b[0m\u001b[0;34m)\u001b[0m\u001b[0;34m\u001b[0m\u001b[0;34m\u001b[0m\u001b[0m\n",
      "\u001b[0;31mNameError\u001b[0m: name 'data4' is not defined"
     ]
    }
   ],
   "source": [
    "data4.query('year.between(2015,2019)').pivot_table(\n",
    "    index='year',columns='age_restriction',values='box_office',aggfunc='median').plot(kind='bar',grid=True)\n",
    "plt.show()"
   ]
  },
  {
   "cell_type": "markdown",
   "metadata": {},
   "source": [
    "Возрастное ограничение влияет на сумму сборов от проката фильмов. Больше всего собирают **\"6+\"-для детей старше 6 лет**. Видимо в эту категорию попадают такие картины, на которые ходят всей семьей. Особенно велика разница в сборах в этой категории и в других в **2017 году**. Возможно, в этом году выходило много семейных картин.<br>\n",
    "Однако в **2016 году**  картина по сборам отличается. Больше всего собрали фильмы категории **\"18+\"- запрещено для детей**. Можно предположить,что в том году выходило мало семейных фильмов. В том году в целом очень маленькие сборы, по сравнению с другими годами."
   ]
  },
  {
   "cell_type": "markdown",
   "metadata": {
    "id": "l_Kg6Ku4gFya"
   },
   "source": [
    "### Шаг 4. Исследуйте фильмы, которые получили государственную поддержку\n",
    "\n",
    "На этом этапе нет конкретных инструкций и заданий — поищите интересные закономерности в данных. Посмотрите, сколько выделяют средств на поддержку кино. Проверьте, хорошо ли окупаются такие фильмы, какой у них рейтинг."
   ]
  },
  {
   "cell_type": "markdown",
   "metadata": {},
   "source": [
    "- Сколько выделялось денег на поддержку кино."
   ]
  },
  {
   "cell_type": "code",
   "execution_count": null,
   "metadata": {
    "id": "W9QKpjUdgFyb"
   },
   "outputs": [],
   "source": [
    "data3.pivot_table(index='year',values='budget',aggfunc=['mean','median']).plot(kind='bar',grid=True)\n",
    "plt.show()"
   ]
  },
  {
   "cell_type": "code",
   "execution_count": null,
   "metadata": {},
   "outputs": [],
   "source": [
    "data3.query('year==2013')['budget'].astype('float').describe()"
   ]
  },
  {
   "cell_type": "code",
   "execution_count": null,
   "metadata": {},
   "outputs": [],
   "source": [
    "data3.query('year==2017')['budget'].astype('float').describe()"
   ]
  },
  {
   "cell_type": "markdown",
   "metadata": {},
   "source": [
    "Видно, что деньги выделялись только с 2013 года. Изучив средние и медианные значения, можно отметить,что в 2013 году эти значения равны, а в остальные годы  отличаются. Можно предположить,что в 2013 году суммы на поддержку разных фильмов были близкие, тогда как в остальные годы какие-то фильмы получали  мало денег, какие-то очень много."
   ]
  },
  {
   "cell_type": "markdown",
   "metadata": {},
   "source": [
    "- Сколько фильмов получили гос.поддержку."
   ]
  },
  {
   "cell_type": "code",
   "execution_count": null,
   "metadata": {},
   "outputs": [],
   "source": [
    "len(data3)/len(df)"
   ]
  },
  {
   "cell_type": "markdown",
   "metadata": {},
   "source": [
    "**Всего 4 процента фильмов получили гос.поддержку.**"
   ]
  },
  {
   "cell_type": "markdown",
   "metadata": {},
   "source": [
    "- Сколько фильмов из получивших гос.поддержку получили ее на только на возвратной основе."
   ]
  },
  {
   "cell_type": "code",
   "execution_count": null,
   "metadata": {},
   "outputs": [],
   "source": [
    "len(data3.query('refundable_support!=0 and nonrefundable_support==0'))/len(data3)"
   ]
  },
  {
   "cell_type": "code",
   "execution_count": null,
   "metadata": {},
   "outputs": [],
   "source": [
    "data3.query('refundable_support!=0 and nonrefundable_support==0').groupby('year')['refundable_support'].median().plot(\n",
    "    kind='bar')\n",
    "plt.show()"
   ]
  },
  {
   "cell_type": "markdown",
   "metadata": {},
   "source": [
    " **Около 3 процентов фильмов из получивших гос.поддержку получили ее только на возвратной основе.Больше всего в 2018 году**."
   ]
  },
  {
   "cell_type": "markdown",
   "metadata": {},
   "source": [
    "- Сколько фильмов из получивших гос.поддержку получили ее на только на не возвратной основе."
   ]
  },
  {
   "cell_type": "code",
   "execution_count": null,
   "metadata": {},
   "outputs": [],
   "source": [
    "len(data3.query('nonrefundable_support!=0 and refundable_support==0'))/len(data3)"
   ]
  },
  {
   "cell_type": "code",
   "execution_count": null,
   "metadata": {},
   "outputs": [],
   "source": [
    "data3.query('nonrefundable_support!=0 and refundable_support==0').groupby('year')['nonrefundable_support'].median().plot(\n",
    "    kind='bar')\n",
    "plt.show()"
   ]
  },
  {
   "cell_type": "markdown",
   "metadata": {},
   "source": [
    " **65  процентов фильмов из получивших гос.поддержку получили ее только на не возвратной основе. Больше всего в 2013 году.** "
   ]
  },
  {
   "cell_type": "markdown",
   "metadata": {},
   "source": [
    "- Бюджет фильмов с гос.поддержкой по годам."
   ]
  },
  {
   "cell_type": "code",
   "execution_count": null,
   "metadata": {},
   "outputs": [],
   "source": [
    "data3.pivot_table(values=['budget'],index='year',aggfunc='median').plot(\n",
    "    kind='bar',grid=True)"
   ]
  },
  {
   "cell_type": "markdown",
   "metadata": {},
   "source": [
    "Максимальный бюджет у фильмов с гос.поддержкой был в 2013 году. В остальные годы он примерно одинковый и составляет где-то половину бюджета за 2013 год."
   ]
  },
  {
   "cell_type": "markdown",
   "metadata": {},
   "source": [
    "- Рейтинг фильмов с гос.поддежкой по годам."
   ]
  },
  {
   "cell_type": "code",
   "execution_count": null,
   "metadata": {},
   "outputs": [],
   "source": [
    "data3['ratings'].describe()"
   ]
  },
  {
   "cell_type": "code",
   "execution_count": null,
   "metadata": {},
   "outputs": [],
   "source": [
    "data3.groupby('year')['ratings'].median().plot(kind='bar')\n",
    "plt.show()"
   ]
  },
  {
   "cell_type": "markdown",
   "metadata": {},
   "source": [
    "Медианный рейтинг фильмов с гос.поддержкой 6 баллов, что является достаточно посредственным рейтингом. "
   ]
  },
  {
   "cell_type": "markdown",
   "metadata": {},
   "source": [
    "- Сборы фильмов с гос.поддержкой."
   ]
  },
  {
   "cell_type": "code",
   "execution_count": null,
   "metadata": {},
   "outputs": [],
   "source": [
    "data3.query('box_office!= \"не известен\"').groupby('year')['box_office','budget'].median().plot(kind='bar',grid=True)\n",
    "plt.show()"
   ]
  },
  {
   "cell_type": "markdown",
   "metadata": {},
   "source": [
    "Видно, что в период с 2013 по 2019 годы фильмы, которые получали гос.поддержку и по которым есть данные о прокате в кинотеатрах, финансово проваливались. В 2013 году картина совсем печальная. "
   ]
  },
  {
   "cell_type": "markdown",
   "metadata": {
    "id": "V2gYwMcPgFyd"
   },
   "source": [
    "### Шаг 5. Общий вывод"
   ]
  },
  {
   "cell_type": "markdown",
   "metadata": {},
   "source": [
    "#### Исследовав полученные данные можно сделать следующие выводы:"
   ]
  },
  {
   "cell_type": "markdown",
   "metadata": {
    "id": "AYRg3dzXgFye"
   },
   "source": [
    "- только у **42 %** фильмов  указанны данные о прокате фильма в кинотеатре."
   ]
  },
  {
   "cell_type": "markdown",
   "metadata": {},
   "source": [
    "- наиболее полно информация о прокате фильмов в кинотеатрах представлена в 2019 году. Меньше всего информации за 2010 год."
   ]
  },
  {
   "cell_type": "markdown",
   "metadata": {},
   "source": [
    "- начиная с **2010** года наблюдается динамика росту количества выходов фильмов в кинотеатрах. Если в в **2010** году выходило чуть больше **100 фильмов**, то в **2016** уже бльше **500 фильмов**.<br>\n",
    "В **2017** году наблюдается резкое подание выхода фильмов в прокат в кинотеатрах, а после снова возврат на прежний уровень.<br>\n",
    "Одной из причин может быть то,что в **2017** году меньшее количество фильмов получилос гос.поддержку. "
   ]
  },
  {
   "cell_type": "markdown",
   "metadata": {},
   "source": [
    "- С 2010 года по 2017 год идет наблюдается динамика на увеличение суммы сборов за прокат фильмов. С 2017 до 2019 падение более чем в два раза."
   ]
  },
  {
   "cell_type": "markdown",
   "metadata": {},
   "source": [
    "- Больше всего собирают **\"6+\"-для детей старше 6 лет**. Видимо в эту категорию попадают такие картины, на которые ходят всей семьей. Особенно велика разница в сборах в этой категории и в других в **2017 году**. Возможно, в этом году выходило много семейных картин.<br>\n",
    "Однако в **2016 году**  картина по сборам отличается. Больше всего собрали фильмы категории **\"18+\"- запрещено для детей**. Можно предположить,что в том году выходило мало семейных фильмов. В том году в целом очень маленькие сборы, по сравнению с другими годами."
   ]
  },
  {
   "cell_type": "markdown",
   "metadata": {},
   "source": [
    "- Всего 4 процента фильмов получили гос.поддержку."
   ]
  },
  {
   "cell_type": "markdown",
   "metadata": {},
   "source": [
    "- Гос.поддержка в среднем за исследуемый период не менее 50 % бюджета, минимальная гос.поддержка 4% (фильм \"За гранью реальности\"),максимальная 100%, таких фильмов 17.<br> \n",
    "Всего государством было профинансированно 332 фильма. Больше всего государство поддерживало фильмы в 2016 году, меньше всего в 2013 году."
   ]
  },
  {
   "cell_type": "markdown",
   "metadata": {},
   "source": [
    "- гос.поддержка начала выделяться только с 2013 года. "
   ]
  },
  {
   "cell_type": "markdown",
   "metadata": {},
   "source": [
    "- Сильно разнятся средние и меддианные значения бюджета для всех годов,кроме 2013.<br>\n",
    "Можно предположить,что в 2013 году суммы на поддержку разных фильмов были близкие, тогда как в остальные годы были сильные выбросы по суммам бюджета."
   ]
  },
  {
   "cell_type": "markdown",
   "metadata": {},
   "source": [
    "- Около 3 процентов фильмов из получивших гос.поддержку получили ее только на возвратной основе.Больше всего  таких было в 2018 году."
   ]
  },
  {
   "cell_type": "markdown",
   "metadata": {},
   "source": [
    " - 65  процентов фильмов из получивших гос.поддержку получили ее только на не возвратной основе. Больше всего в 2013 году."
   ]
  },
  {
   "cell_type": "markdown",
   "metadata": {},
   "source": [
    "- максимальный бюджет у фильмов с гос.поддержкой был в 2013 году. В остальные годы он примерно одинковый и составляет где-то половину от бюджета за 2013 год."
   ]
  },
  {
   "cell_type": "markdown",
   "metadata": {},
   "source": [
    "- рейтинг фильмов с гос.поддержкой  где-то 6 баллов, зрителям такие фильмы видимо не очень нравятся."
   ]
  },
  {
   "cell_type": "markdown",
   "metadata": {},
   "source": [
    "- за весь исследуемый период, фильмы, которые получали гос.поддержку и по которым есть данные о прокате в кинотеатрах, финансово проваливались. В 2013 году картина совсем печальная. "
   ]
  }
 ],
 "metadata": {
  "ExecuteTimeLog": [
   {
    "duration": 537,
    "start_time": "2021-07-07T10:12:08.634Z"
   },
   {
    "duration": 206,
    "start_time": "2021-07-07T10:12:30.191Z"
   },
   {
    "duration": 227,
    "start_time": "2021-07-07T10:12:33.078Z"
   },
   {
    "duration": 153,
    "start_time": "2021-07-07T10:13:42.146Z"
   },
   {
    "duration": 233,
    "start_time": "2021-07-07T10:30:09.252Z"
   },
   {
    "duration": 19,
    "start_time": "2021-07-07T10:30:15.577Z"
   },
   {
    "duration": 18,
    "start_time": "2021-07-07T10:30:57.348Z"
   },
   {
    "duration": 19,
    "start_time": "2021-07-07T10:31:17.452Z"
   },
   {
    "duration": 21,
    "start_time": "2021-07-07T10:31:32.227Z"
   },
   {
    "duration": 27,
    "start_time": "2021-07-07T10:32:06.588Z"
   },
   {
    "duration": 23,
    "start_time": "2021-07-07T10:32:43.645Z"
   },
   {
    "duration": 24,
    "start_time": "2021-07-07T10:33:06.948Z"
   },
   {
    "duration": 7,
    "start_time": "2021-07-07T10:33:28.558Z"
   },
   {
    "duration": 23,
    "start_time": "2021-07-07T10:33:43.761Z"
   },
   {
    "duration": 28,
    "start_time": "2021-07-07T10:34:13.466Z"
   },
   {
    "duration": 23,
    "start_time": "2021-07-07T10:35:56.187Z"
   },
   {
    "duration": 6,
    "start_time": "2021-07-07T10:36:48.182Z"
   },
   {
    "duration": 14,
    "start_time": "2021-07-07T10:37:49.641Z"
   },
   {
    "duration": 6,
    "start_time": "2021-07-07T10:38:06.694Z"
   },
   {
    "duration": 6,
    "start_time": "2021-07-07T10:38:13.493Z"
   },
   {
    "duration": 19,
    "start_time": "2021-07-07T10:38:44.056Z"
   },
   {
    "duration": 186,
    "start_time": "2021-07-07T10:48:35.618Z"
   },
   {
    "duration": 24,
    "start_time": "2021-07-07T10:48:51.498Z"
   },
   {
    "duration": 20,
    "start_time": "2021-07-07T10:48:59.415Z"
   },
   {
    "duration": 20,
    "start_time": "2021-07-07T10:53:02.195Z"
   },
   {
    "duration": 188,
    "start_time": "2021-07-07T10:54:40.486Z"
   },
   {
    "duration": 115,
    "start_time": "2021-07-07T10:54:52.552Z"
   },
   {
    "duration": 214,
    "start_time": "2021-07-07T10:54:56.354Z"
   },
   {
    "duration": 47,
    "start_time": "2021-07-07T10:54:58.282Z"
   },
   {
    "duration": 217,
    "start_time": "2021-07-07T10:59:16.075Z"
   },
   {
    "duration": 51,
    "start_time": "2021-07-07T10:59:16.243Z"
   },
   {
    "duration": 578,
    "start_time": "2021-07-07T10:59:18.774Z"
   },
   {
    "duration": 161,
    "start_time": "2021-07-07T10:59:21.238Z"
   },
   {
    "duration": 59,
    "start_time": "2021-07-07T10:59:21.453Z"
   },
   {
    "duration": 3,
    "start_time": "2021-07-07T11:02:10.786Z"
   },
   {
    "duration": 13,
    "start_time": "2021-07-07T11:07:07.722Z"
   },
   {
    "duration": 26,
    "start_time": "2021-07-07T11:07:17.958Z"
   },
   {
    "duration": 22,
    "start_time": "2021-07-07T11:08:17.939Z"
   },
   {
    "duration": 212,
    "start_time": "2021-07-07T11:08:19.665Z"
   },
   {
    "duration": 21,
    "start_time": "2021-07-07T11:08:29.945Z"
   },
   {
    "duration": 31,
    "start_time": "2021-07-07T11:08:38.899Z"
   },
   {
    "duration": 23,
    "start_time": "2021-07-07T11:08:54.527Z"
   },
   {
    "duration": 8,
    "start_time": "2021-07-07T11:18:55.974Z"
   },
   {
    "duration": 7,
    "start_time": "2021-07-07T11:19:03.639Z"
   },
   {
    "duration": 7,
    "start_time": "2021-07-07T11:19:06.444Z"
   },
   {
    "duration": 578,
    "start_time": "2021-07-07T12:09:59.576Z"
   },
   {
    "duration": 195,
    "start_time": "2021-07-07T12:10:00.156Z"
   },
   {
    "duration": 115,
    "start_time": "2021-07-07T12:10:00.353Z"
   },
   {
    "duration": 3,
    "start_time": "2021-07-07T12:10:00.470Z"
   },
   {
    "duration": 32,
    "start_time": "2021-07-07T12:10:00.474Z"
   },
   {
    "duration": 23,
    "start_time": "2021-07-07T12:10:00.508Z"
   },
   {
    "duration": 19,
    "start_time": "2021-07-07T12:10:00.533Z"
   },
   {
    "duration": 44,
    "start_time": "2021-07-07T12:10:00.553Z"
   },
   {
    "duration": 7,
    "start_time": "2021-07-07T12:10:00.600Z"
   },
   {
    "duration": 7,
    "start_time": "2021-07-07T12:19:45.761Z"
   },
   {
    "duration": 21,
    "start_time": "2021-07-07T12:21:35.482Z"
   },
   {
    "duration": 21,
    "start_time": "2021-07-07T12:29:23.569Z"
   },
   {
    "duration": 525,
    "start_time": "2021-07-07T12:29:44.542Z"
   },
   {
    "duration": 214,
    "start_time": "2021-07-07T12:29:45.069Z"
   },
   {
    "duration": 92,
    "start_time": "2021-07-07T12:29:45.285Z"
   },
   {
    "duration": 3,
    "start_time": "2021-07-07T12:29:45.379Z"
   },
   {
    "duration": 28,
    "start_time": "2021-07-07T12:29:45.384Z"
   },
   {
    "duration": 23,
    "start_time": "2021-07-07T12:29:45.413Z"
   },
   {
    "duration": 21,
    "start_time": "2021-07-07T12:29:45.437Z"
   },
   {
    "duration": 41,
    "start_time": "2021-07-07T12:29:45.460Z"
   },
   {
    "duration": 7,
    "start_time": "2021-07-07T12:29:45.502Z"
   },
   {
    "duration": 20,
    "start_time": "2021-07-07T12:29:45.511Z"
   },
   {
    "duration": 12,
    "start_time": "2021-07-07T12:34:02.800Z"
   },
   {
    "duration": 7,
    "start_time": "2021-07-07T12:35:10.479Z"
   },
   {
    "duration": 8,
    "start_time": "2021-07-07T12:35:22.440Z"
   },
   {
    "duration": 6,
    "start_time": "2021-07-07T12:35:35.649Z"
   },
   {
    "duration": 6,
    "start_time": "2021-07-07T12:35:43.107Z"
   },
   {
    "duration": 22,
    "start_time": "2021-07-07T12:38:03.029Z"
   },
   {
    "duration": 10,
    "start_time": "2021-07-07T12:38:06.592Z"
   },
   {
    "duration": 563,
    "start_time": "2021-07-07T12:38:46.493Z"
   },
   {
    "duration": 265,
    "start_time": "2021-07-07T12:38:47.058Z"
   },
   {
    "duration": 94,
    "start_time": "2021-07-07T12:38:47.325Z"
   },
   {
    "duration": 3,
    "start_time": "2021-07-07T12:38:47.422Z"
   },
   {
    "duration": 30,
    "start_time": "2021-07-07T12:38:47.427Z"
   },
   {
    "duration": 16,
    "start_time": "2021-07-07T12:38:53.305Z"
   },
   {
    "duration": 10,
    "start_time": "2021-07-07T12:38:53.499Z"
   },
   {
    "duration": 8,
    "start_time": "2021-07-07T12:39:48.161Z"
   },
   {
    "duration": 27,
    "start_time": "2021-07-07T12:41:17.629Z"
   },
   {
    "duration": 17,
    "start_time": "2021-07-07T12:41:17.867Z"
   },
   {
    "duration": 21,
    "start_time": "2021-07-07T12:41:19.310Z"
   },
   {
    "duration": 7,
    "start_time": "2021-07-07T12:41:19.544Z"
   },
   {
    "duration": 20,
    "start_time": "2021-07-07T12:41:20.504Z"
   },
   {
    "duration": 554,
    "start_time": "2021-07-07T12:56:23.696Z"
   },
   {
    "duration": 200,
    "start_time": "2021-07-07T12:56:25.234Z"
   },
   {
    "duration": 119,
    "start_time": "2021-07-07T12:56:25.480Z"
   },
   {
    "duration": 4,
    "start_time": "2021-07-07T12:56:25.762Z"
   },
   {
    "duration": 26,
    "start_time": "2021-07-07T12:56:27.172Z"
   },
   {
    "duration": 12,
    "start_time": "2021-07-07T12:56:29.051Z"
   },
   {
    "duration": 10,
    "start_time": "2021-07-07T12:56:29.291Z"
   },
   {
    "duration": 8,
    "start_time": "2021-07-07T12:56:29.623Z"
   },
   {
    "duration": 28,
    "start_time": "2021-07-07T12:56:32.137Z"
   },
   {
    "duration": 19,
    "start_time": "2021-07-07T12:56:39.785Z"
   },
   {
    "duration": 20,
    "start_time": "2021-07-07T12:56:44.297Z"
   },
   {
    "duration": 7,
    "start_time": "2021-07-07T12:56:45.392Z"
   },
   {
    "duration": 23,
    "start_time": "2021-07-07T12:56:46.615Z"
   },
   {
    "duration": 4,
    "start_time": "2021-07-07T12:57:06.625Z"
   },
   {
    "duration": 32,
    "start_time": "2021-07-07T12:57:36.690Z"
   },
   {
    "duration": 18,
    "start_time": "2021-07-07T12:58:00.149Z"
   },
   {
    "duration": 15,
    "start_time": "2021-07-07T12:59:16.793Z"
   },
   {
    "duration": 7,
    "start_time": "2021-07-07T13:19:22.624Z"
   },
   {
    "duration": 6,
    "start_time": "2021-07-07T14:17:33.527Z"
   },
   {
    "duration": 9,
    "start_time": "2021-07-07T14:17:48.409Z"
   },
   {
    "duration": 8,
    "start_time": "2021-07-07T14:20:13.060Z"
   },
   {
    "duration": 8,
    "start_time": "2021-07-07T14:20:37.957Z"
   },
   {
    "duration": 8,
    "start_time": "2021-07-07T14:20:47.470Z"
   },
   {
    "duration": 9,
    "start_time": "2021-07-07T14:20:54.503Z"
   },
   {
    "duration": 10,
    "start_time": "2021-07-07T14:28:57.763Z"
   },
   {
    "duration": 3,
    "start_time": "2021-07-07T14:30:23.377Z"
   },
   {
    "duration": 3,
    "start_time": "2021-07-07T14:30:36.489Z"
   },
   {
    "duration": 103,
    "start_time": "2021-07-07T14:30:52.351Z"
   },
   {
    "duration": 8,
    "start_time": "2021-07-07T14:30:54.763Z"
   },
   {
    "duration": 8,
    "start_time": "2021-07-07T14:31:29.301Z"
   },
   {
    "duration": 13,
    "start_time": "2021-07-07T14:31:44.516Z"
   },
   {
    "duration": 7,
    "start_time": "2021-07-07T14:33:10.972Z"
   },
   {
    "duration": 11,
    "start_time": "2021-07-07T14:33:27.780Z"
   },
   {
    "duration": 8,
    "start_time": "2021-07-07T14:34:44.588Z"
   },
   {
    "duration": 57,
    "start_time": "2021-07-07T14:35:59.042Z"
   },
   {
    "duration": 3,
    "start_time": "2021-07-07T14:36:28.168Z"
   },
   {
    "duration": 5,
    "start_time": "2021-07-07T14:36:46.254Z"
   },
   {
    "duration": 4,
    "start_time": "2021-07-07T14:36:52.714Z"
   },
   {
    "duration": 3,
    "start_time": "2021-07-07T14:36:56.612Z"
   },
   {
    "duration": 4,
    "start_time": "2021-07-07T14:36:57.049Z"
   },
   {
    "duration": 3,
    "start_time": "2021-07-07T14:39:21.214Z"
   },
   {
    "duration": 7,
    "start_time": "2021-07-07T14:39:52.406Z"
   },
   {
    "duration": 11,
    "start_time": "2021-07-07T14:39:58.576Z"
   },
   {
    "duration": 9,
    "start_time": "2021-07-07T14:40:26.301Z"
   },
   {
    "duration": 10,
    "start_time": "2021-07-07T14:40:31.704Z"
   },
   {
    "duration": 11,
    "start_time": "2021-07-07T14:40:36.249Z"
   },
   {
    "duration": 10,
    "start_time": "2021-07-07T14:40:39.783Z"
   },
   {
    "duration": 9,
    "start_time": "2021-07-07T14:40:48.558Z"
   },
   {
    "duration": 10,
    "start_time": "2021-07-07T14:40:57.143Z"
   },
   {
    "duration": 9,
    "start_time": "2021-07-07T14:41:06.074Z"
   },
   {
    "duration": 4324,
    "start_time": "2021-07-07T14:41:22.004Z"
   },
   {
    "duration": 11,
    "start_time": "2021-07-07T14:41:33.392Z"
   },
   {
    "duration": 9,
    "start_time": "2021-07-07T14:41:39.288Z"
   },
   {
    "duration": 569,
    "start_time": "2021-07-07T14:42:14.387Z"
   },
   {
    "duration": 197,
    "start_time": "2021-07-07T14:42:14.959Z"
   },
   {
    "duration": 84,
    "start_time": "2021-07-07T14:42:16.052Z"
   },
   {
    "duration": 4,
    "start_time": "2021-07-07T14:42:16.900Z"
   },
   {
    "duration": 27,
    "start_time": "2021-07-07T14:42:19.898Z"
   },
   {
    "duration": 12,
    "start_time": "2021-07-07T14:42:21.577Z"
   },
   {
    "duration": 9,
    "start_time": "2021-07-07T14:42:21.813Z"
   },
   {
    "duration": 9,
    "start_time": "2021-07-07T14:42:22.569Z"
   },
   {
    "duration": 29,
    "start_time": "2021-07-07T14:42:25.837Z"
   },
   {
    "duration": 20,
    "start_time": "2021-07-07T14:42:27.003Z"
   },
   {
    "duration": 21,
    "start_time": "2021-07-07T14:42:28.767Z"
   },
   {
    "duration": 7,
    "start_time": "2021-07-07T14:42:29.838Z"
   },
   {
    "duration": 4,
    "start_time": "2021-07-07T14:43:25.493Z"
   },
   {
    "duration": 7,
    "start_time": "2021-07-07T14:43:26.573Z"
   },
   {
    "duration": 10,
    "start_time": "2021-07-07T14:43:31.639Z"
   },
   {
    "duration": 9,
    "start_time": "2021-07-07T14:43:32.046Z"
   },
   {
    "duration": 10,
    "start_time": "2021-07-07T14:43:33.301Z"
   },
   {
    "duration": 12,
    "start_time": "2021-07-07T14:43:33.658Z"
   },
   {
    "duration": 8,
    "start_time": "2021-07-07T14:43:34.552Z"
   },
   {
    "duration": 9,
    "start_time": "2021-07-07T14:43:35.058Z"
   },
   {
    "duration": 12,
    "start_time": "2021-07-07T14:43:35.914Z"
   },
   {
    "duration": 17,
    "start_time": "2021-07-07T14:45:34.368Z"
   },
   {
    "duration": 512,
    "start_time": "2021-07-07T14:51:58.236Z"
   },
   {
    "duration": 223,
    "start_time": "2021-07-07T14:51:58.750Z"
   },
   {
    "duration": 93,
    "start_time": "2021-07-07T14:51:58.977Z"
   },
   {
    "duration": 4,
    "start_time": "2021-07-07T14:51:59.071Z"
   },
   {
    "duration": 37,
    "start_time": "2021-07-07T14:51:59.077Z"
   },
   {
    "duration": 18,
    "start_time": "2021-07-07T14:51:59.116Z"
   },
   {
    "duration": 10,
    "start_time": "2021-07-07T14:51:59.137Z"
   },
   {
    "duration": 8,
    "start_time": "2021-07-07T14:51:59.149Z"
   },
   {
    "duration": 54,
    "start_time": "2021-07-07T14:51:59.158Z"
   },
   {
    "duration": 18,
    "start_time": "2021-07-07T14:51:59.213Z"
   },
   {
    "duration": 22,
    "start_time": "2021-07-07T14:51:59.232Z"
   },
   {
    "duration": 36,
    "start_time": "2021-07-07T14:51:59.255Z"
   },
   {
    "duration": 7,
    "start_time": "2021-07-07T14:51:59.293Z"
   },
   {
    "duration": 10,
    "start_time": "2021-07-07T14:51:59.302Z"
   },
   {
    "duration": 9,
    "start_time": "2021-07-07T14:51:59.313Z"
   },
   {
    "duration": 11,
    "start_time": "2021-07-07T14:51:59.324Z"
   },
   {
    "duration": 8,
    "start_time": "2021-07-07T14:51:59.337Z"
   },
   {
    "duration": 46,
    "start_time": "2021-07-07T14:51:59.347Z"
   },
   {
    "duration": 22,
    "start_time": "2021-07-07T14:51:59.395Z"
   },
   {
    "duration": 24,
    "start_time": "2021-07-07T14:57:32.911Z"
   },
   {
    "duration": 7,
    "start_time": "2021-07-07T14:58:22.070Z"
   },
   {
    "duration": 4,
    "start_time": "2021-07-07T14:59:11.239Z"
   },
   {
    "duration": 25,
    "start_time": "2021-07-07T15:07:22.208Z"
   },
   {
    "duration": 16,
    "start_time": "2021-07-07T15:08:25.560Z"
   },
   {
    "duration": 15,
    "start_time": "2021-07-07T15:08:40.647Z"
   },
   {
    "duration": 14,
    "start_time": "2021-07-07T15:08:46.669Z"
   },
   {
    "duration": 533,
    "start_time": "2021-07-07T15:18:07.440Z"
   },
   {
    "duration": 173,
    "start_time": "2021-07-07T15:18:07.974Z"
   },
   {
    "duration": 84,
    "start_time": "2021-07-07T15:18:08.149Z"
   },
   {
    "duration": 3,
    "start_time": "2021-07-07T15:18:08.235Z"
   },
   {
    "duration": 30,
    "start_time": "2021-07-07T15:18:08.240Z"
   },
   {
    "duration": 22,
    "start_time": "2021-07-07T15:18:08.272Z"
   },
   {
    "duration": 11,
    "start_time": "2021-07-07T15:18:08.295Z"
   },
   {
    "duration": 11,
    "start_time": "2021-07-07T15:18:08.309Z"
   },
   {
    "duration": 40,
    "start_time": "2021-07-07T15:18:08.322Z"
   },
   {
    "duration": 42,
    "start_time": "2021-07-07T15:18:08.364Z"
   },
   {
    "duration": 22,
    "start_time": "2021-07-07T15:18:08.408Z"
   },
   {
    "duration": 5,
    "start_time": "2021-07-07T15:18:08.432Z"
   },
   {
    "duration": 13,
    "start_time": "2021-07-07T15:18:08.439Z"
   },
   {
    "duration": 9,
    "start_time": "2021-07-07T15:18:08.454Z"
   },
   {
    "duration": 32,
    "start_time": "2021-07-07T15:18:08.465Z"
   },
   {
    "duration": 10,
    "start_time": "2021-07-07T15:18:08.501Z"
   },
   {
    "duration": 7,
    "start_time": "2021-07-07T15:18:08.513Z"
   },
   {
    "duration": 11,
    "start_time": "2021-07-07T15:18:08.521Z"
   },
   {
    "duration": 17,
    "start_time": "2021-07-07T15:18:08.534Z"
   },
   {
    "duration": 44,
    "start_time": "2021-07-07T15:18:08.553Z"
   },
   {
    "duration": 22,
    "start_time": "2021-07-07T15:18:08.599Z"
   },
   {
    "duration": 61,
    "start_time": "2021-07-07T15:18:08.622Z"
   },
   {
    "duration": 7,
    "start_time": "2021-07-07T15:18:39.457Z"
   },
   {
    "duration": 5,
    "start_time": "2021-07-07T16:05:17.020Z"
   },
   {
    "duration": 5,
    "start_time": "2021-07-07T16:51:28.794Z"
   },
   {
    "duration": 546,
    "start_time": "2021-07-07T16:52:26.306Z"
   },
   {
    "duration": 203,
    "start_time": "2021-07-07T16:52:27.523Z"
   },
   {
    "duration": 85,
    "start_time": "2021-07-07T16:52:27.736Z"
   },
   {
    "duration": 4,
    "start_time": "2021-07-07T16:52:27.899Z"
   },
   {
    "duration": 25,
    "start_time": "2021-07-07T16:52:28.674Z"
   },
   {
    "duration": 8,
    "start_time": "2021-07-07T16:52:32.956Z"
   },
   {
    "duration": 18,
    "start_time": "2021-07-07T16:52:35.616Z"
   },
   {
    "duration": 6,
    "start_time": "2021-07-07T16:52:36.913Z"
   },
   {
    "duration": 11,
    "start_time": "2021-07-07T16:52:40.258Z"
   },
   {
    "duration": 10,
    "start_time": "2021-07-07T16:52:46.251Z"
   },
   {
    "duration": 8,
    "start_time": "2021-07-07T16:52:47.182Z"
   },
   {
    "duration": 27,
    "start_time": "2021-07-07T16:53:20.391Z"
   },
   {
    "duration": 20,
    "start_time": "2021-07-07T16:53:22.022Z"
   },
   {
    "duration": 23,
    "start_time": "2021-07-07T16:53:23.690Z"
   },
   {
    "duration": 8,
    "start_time": "2021-07-07T16:53:24.261Z"
   },
   {
    "duration": 4,
    "start_time": "2021-07-07T16:53:38.733Z"
   },
   {
    "duration": 7,
    "start_time": "2021-07-07T16:53:40.445Z"
   },
   {
    "duration": 11,
    "start_time": "2021-07-07T16:53:41.348Z"
   },
   {
    "duration": 13,
    "start_time": "2021-07-07T16:53:45.250Z"
   },
   {
    "duration": 12,
    "start_time": "2021-07-07T16:53:45.467Z"
   },
   {
    "duration": 4,
    "start_time": "2021-07-07T16:55:32.704Z"
   },
   {
    "duration": 12,
    "start_time": "2021-07-07T16:55:49.012Z"
   },
   {
    "duration": 18,
    "start_time": "2021-07-07T16:55:49.547Z"
   },
   {
    "duration": 611,
    "start_time": "2021-07-07T16:58:35.156Z"
   },
   {
    "duration": 200,
    "start_time": "2021-07-07T16:58:35.770Z"
   },
   {
    "duration": 86,
    "start_time": "2021-07-07T16:58:35.972Z"
   },
   {
    "duration": 3,
    "start_time": "2021-07-07T16:58:36.060Z"
   },
   {
    "duration": 27,
    "start_time": "2021-07-07T16:58:36.065Z"
   },
   {
    "duration": 8,
    "start_time": "2021-07-07T16:58:36.094Z"
   },
   {
    "duration": 17,
    "start_time": "2021-07-07T16:58:36.103Z"
   },
   {
    "duration": 5,
    "start_time": "2021-07-07T16:58:36.123Z"
   },
   {
    "duration": 11,
    "start_time": "2021-07-07T16:58:36.130Z"
   },
   {
    "duration": 7,
    "start_time": "2021-07-07T16:58:36.143Z"
   },
   {
    "duration": 37,
    "start_time": "2021-07-07T16:58:36.152Z"
   },
   {
    "duration": 27,
    "start_time": "2021-07-07T16:58:36.191Z"
   },
   {
    "duration": 19,
    "start_time": "2021-07-07T16:58:36.219Z"
   },
   {
    "duration": 49,
    "start_time": "2021-07-07T16:58:36.240Z"
   },
   {
    "duration": 6,
    "start_time": "2021-07-07T16:58:36.291Z"
   },
   {
    "duration": 3,
    "start_time": "2021-07-07T16:58:36.299Z"
   },
   {
    "duration": 13,
    "start_time": "2021-07-07T16:58:36.304Z"
   },
   {
    "duration": 10,
    "start_time": "2021-07-07T16:58:36.319Z"
   },
   {
    "duration": 10,
    "start_time": "2021-07-07T16:58:36.331Z"
   },
   {
    "duration": 44,
    "start_time": "2021-07-07T16:58:36.343Z"
   },
   {
    "duration": 4,
    "start_time": "2021-07-07T16:58:36.388Z"
   },
   {
    "duration": 13,
    "start_time": "2021-07-07T16:58:36.394Z"
   },
   {
    "duration": 16,
    "start_time": "2021-07-07T16:58:36.410Z"
   },
   {
    "duration": 8,
    "start_time": "2021-07-07T17:02:31.629Z"
   },
   {
    "duration": 8,
    "start_time": "2021-07-07T17:02:34.308Z"
   },
   {
    "duration": 6,
    "start_time": "2021-07-07T17:05:13.483Z"
   },
   {
    "duration": 17,
    "start_time": "2021-07-07T17:05:20.606Z"
   },
   {
    "duration": 7,
    "start_time": "2021-07-07T17:05:34.638Z"
   },
   {
    "duration": 3,
    "start_time": "2021-07-07T17:06:31.883Z"
   },
   {
    "duration": 570,
    "start_time": "2021-07-07T17:06:37.165Z"
   },
   {
    "duration": 174,
    "start_time": "2021-07-07T17:06:37.737Z"
   },
   {
    "duration": 47,
    "start_time": "2021-07-07T17:06:37.913Z"
   },
   {
    "duration": 3,
    "start_time": "2021-07-07T17:06:37.962Z"
   },
   {
    "duration": 27,
    "start_time": "2021-07-07T17:06:37.967Z"
   },
   {
    "duration": 7,
    "start_time": "2021-07-07T17:06:37.996Z"
   },
   {
    "duration": 16,
    "start_time": "2021-07-07T17:06:38.005Z"
   },
   {
    "duration": 6,
    "start_time": "2021-07-07T17:06:38.024Z"
   },
   {
    "duration": 12,
    "start_time": "2021-07-07T17:06:38.031Z"
   },
   {
    "duration": 41,
    "start_time": "2021-07-07T17:06:38.045Z"
   },
   {
    "duration": 8,
    "start_time": "2021-07-07T17:06:38.088Z"
   },
   {
    "duration": 26,
    "start_time": "2021-07-07T17:06:38.098Z"
   },
   {
    "duration": 17,
    "start_time": "2021-07-07T17:06:38.126Z"
   },
   {
    "duration": 43,
    "start_time": "2021-07-07T17:06:38.144Z"
   },
   {
    "duration": 6,
    "start_time": "2021-07-07T17:06:38.188Z"
   },
   {
    "duration": 5,
    "start_time": "2021-07-07T17:06:38.195Z"
   },
   {
    "duration": 9,
    "start_time": "2021-07-07T17:06:38.201Z"
   },
   {
    "duration": 12,
    "start_time": "2021-07-07T17:06:38.212Z"
   },
   {
    "duration": 11,
    "start_time": "2021-07-07T17:06:38.226Z"
   },
   {
    "duration": 47,
    "start_time": "2021-07-07T17:06:38.239Z"
   },
   {
    "duration": 4,
    "start_time": "2021-07-07T17:06:38.288Z"
   },
   {
    "duration": 13,
    "start_time": "2021-07-07T17:06:38.293Z"
   },
   {
    "duration": 5,
    "start_time": "2021-07-07T17:06:38.309Z"
   },
   {
    "duration": 18,
    "start_time": "2021-07-07T17:06:38.325Z"
   },
   {
    "duration": 20,
    "start_time": "2021-07-07T17:07:02.805Z"
   },
   {
    "duration": 19,
    "start_time": "2021-07-07T17:07:08.527Z"
   },
   {
    "duration": 19,
    "start_time": "2021-07-07T17:07:12.758Z"
   },
   {
    "duration": 22,
    "start_time": "2021-07-07T17:07:17.497Z"
   },
   {
    "duration": 19,
    "start_time": "2021-07-07T17:07:19.645Z"
   },
   {
    "duration": 10,
    "start_time": "2021-07-07T17:07:34.239Z"
   },
   {
    "duration": 17,
    "start_time": "2021-07-07T17:07:54.144Z"
   },
   {
    "duration": 14,
    "start_time": "2021-07-07T17:08:14.357Z"
   },
   {
    "duration": 616,
    "start_time": "2021-07-07T17:08:45.254Z"
   },
   {
    "duration": 178,
    "start_time": "2021-07-07T17:08:45.872Z"
   },
   {
    "duration": 60,
    "start_time": "2021-07-07T17:08:46.054Z"
   },
   {
    "duration": 3,
    "start_time": "2021-07-07T17:08:46.116Z"
   },
   {
    "duration": 26,
    "start_time": "2021-07-07T17:08:46.121Z"
   },
   {
    "duration": 7,
    "start_time": "2021-07-07T17:08:46.149Z"
   },
   {
    "duration": 17,
    "start_time": "2021-07-07T17:08:46.158Z"
   },
   {
    "duration": 14,
    "start_time": "2021-07-07T17:08:46.176Z"
   },
   {
    "duration": 17,
    "start_time": "2021-07-07T17:08:46.193Z"
   },
   {
    "duration": 9,
    "start_time": "2021-07-07T17:08:46.211Z"
   },
   {
    "duration": 21,
    "start_time": "2021-07-07T17:08:46.221Z"
   },
   {
    "duration": 49,
    "start_time": "2021-07-07T17:08:46.244Z"
   },
   {
    "duration": 24,
    "start_time": "2021-07-07T17:08:46.295Z"
   },
   {
    "duration": 22,
    "start_time": "2021-07-07T17:08:46.321Z"
   },
   {
    "duration": 6,
    "start_time": "2021-07-07T17:08:46.345Z"
   },
   {
    "duration": 5,
    "start_time": "2021-07-07T17:08:46.353Z"
   },
   {
    "duration": 13,
    "start_time": "2021-07-07T17:08:46.386Z"
   },
   {
    "duration": 12,
    "start_time": "2021-07-07T17:08:46.402Z"
   },
   {
    "duration": 10,
    "start_time": "2021-07-07T17:08:46.415Z"
   },
   {
    "duration": 7,
    "start_time": "2021-07-07T17:08:46.427Z"
   },
   {
    "duration": 8,
    "start_time": "2021-07-07T17:08:46.435Z"
   },
   {
    "duration": 68,
    "start_time": "2021-07-07T17:08:46.446Z"
   },
   {
    "duration": 13,
    "start_time": "2021-07-07T17:08:46.516Z"
   },
   {
    "duration": 78,
    "start_time": "2021-07-07T17:08:46.530Z"
   },
   {
    "duration": 40,
    "start_time": "2021-07-07T17:09:08.185Z"
   },
   {
    "duration": 16,
    "start_time": "2021-07-07T17:09:19.324Z"
   },
   {
    "duration": 21,
    "start_time": "2021-07-07T17:09:23.290Z"
   },
   {
    "duration": 13,
    "start_time": "2021-07-07T17:09:54.812Z"
   },
   {
    "duration": 13,
    "start_time": "2021-07-07T17:10:02.039Z"
   },
   {
    "duration": 10,
    "start_time": "2021-07-07T17:10:29.632Z"
   },
   {
    "duration": 13,
    "start_time": "2021-07-07T17:10:52.372Z"
   },
   {
    "duration": 13,
    "start_time": "2021-07-07T17:11:17.270Z"
   },
   {
    "duration": 13,
    "start_time": "2021-07-07T17:14:59.284Z"
   },
   {
    "duration": 547,
    "start_time": "2021-07-07T17:18:52.403Z"
   },
   {
    "duration": 163,
    "start_time": "2021-07-07T17:18:52.952Z"
   },
   {
    "duration": 44,
    "start_time": "2021-07-07T17:18:53.117Z"
   },
   {
    "duration": 3,
    "start_time": "2021-07-07T17:18:53.162Z"
   },
   {
    "duration": 26,
    "start_time": "2021-07-07T17:18:53.167Z"
   },
   {
    "duration": 6,
    "start_time": "2021-07-07T17:18:53.195Z"
   },
   {
    "duration": 15,
    "start_time": "2021-07-07T17:18:53.203Z"
   },
   {
    "duration": 5,
    "start_time": "2021-07-07T17:18:53.220Z"
   },
   {
    "duration": 11,
    "start_time": "2021-07-07T17:18:53.228Z"
   },
   {
    "duration": 9,
    "start_time": "2021-07-07T17:18:53.241Z"
   },
   {
    "duration": 41,
    "start_time": "2021-07-07T17:18:53.252Z"
   },
   {
    "duration": 33,
    "start_time": "2021-07-07T17:18:53.295Z"
   },
   {
    "duration": 19,
    "start_time": "2021-07-07T17:18:53.330Z"
   },
   {
    "duration": 49,
    "start_time": "2021-07-07T17:18:53.350Z"
   },
   {
    "duration": 5,
    "start_time": "2021-07-07T17:18:53.401Z"
   },
   {
    "duration": 5,
    "start_time": "2021-07-07T17:18:53.408Z"
   },
   {
    "duration": 11,
    "start_time": "2021-07-07T17:18:53.414Z"
   },
   {
    "duration": 9,
    "start_time": "2021-07-07T17:18:53.427Z"
   },
   {
    "duration": 10,
    "start_time": "2021-07-07T17:18:53.437Z"
   },
   {
    "duration": 39,
    "start_time": "2021-07-07T17:18:53.448Z"
   },
   {
    "duration": 26,
    "start_time": "2021-07-07T17:18:55.799Z"
   },
   {
    "duration": 598,
    "start_time": "2021-07-07T17:20:17.862Z"
   },
   {
    "duration": 161,
    "start_time": "2021-07-07T17:20:18.462Z"
   },
   {
    "duration": 45,
    "start_time": "2021-07-07T17:20:18.626Z"
   },
   {
    "duration": 4,
    "start_time": "2021-07-07T17:20:18.673Z"
   },
   {
    "duration": 38,
    "start_time": "2021-07-07T17:20:26.877Z"
   },
   {
    "duration": 7,
    "start_time": "2021-07-07T17:20:37.405Z"
   },
   {
    "duration": 19,
    "start_time": "2021-07-07T17:20:51.534Z"
   },
   {
    "duration": 5,
    "start_time": "2021-07-07T17:20:57.228Z"
   },
   {
    "duration": 7,
    "start_time": "2021-07-07T17:21:08.235Z"
   },
   {
    "duration": 19,
    "start_time": "2021-07-07T17:21:42.158Z"
   },
   {
    "duration": 14,
    "start_time": "2021-07-07T17:21:50.225Z"
   },
   {
    "duration": 22,
    "start_time": "2021-07-07T17:22:54.104Z"
   },
   {
    "duration": 5,
    "start_time": "2021-07-07T17:22:56.371Z"
   },
   {
    "duration": 14,
    "start_time": "2021-07-07T17:22:58.316Z"
   },
   {
    "duration": 5,
    "start_time": "2021-07-07T17:22:58.493Z"
   },
   {
    "duration": 35,
    "start_time": "2021-07-07T17:22:59.666Z"
   },
   {
    "duration": 6,
    "start_time": "2021-07-07T17:23:02.410Z"
   },
   {
    "duration": 611,
    "start_time": "2021-07-07T17:24:59.664Z"
   },
   {
    "duration": 178,
    "start_time": "2021-07-07T17:25:01.945Z"
   },
   {
    "duration": 47,
    "start_time": "2021-07-07T17:25:02.125Z"
   },
   {
    "duration": 2,
    "start_time": "2021-07-07T17:25:07.903Z"
   },
   {
    "duration": 254,
    "start_time": "2021-07-07T17:25:08.232Z"
   },
   {
    "duration": 182,
    "start_time": "2021-07-07T17:25:08.671Z"
   },
   {
    "duration": 6,
    "start_time": "2021-07-07T17:25:13.104Z"
   },
   {
    "duration": 36,
    "start_time": "2021-07-07T17:25:13.662Z"
   },
   {
    "duration": 7,
    "start_time": "2021-07-07T17:25:14.528Z"
   },
   {
    "duration": 24,
    "start_time": "2021-07-07T17:25:27.982Z"
   },
   {
    "duration": 3,
    "start_time": "2021-07-07T17:25:48.982Z"
   },
   {
    "duration": 165,
    "start_time": "2021-07-07T17:25:48.987Z"
   },
   {
    "duration": 50,
    "start_time": "2021-07-07T17:25:49.154Z"
   },
   {
    "duration": 4,
    "start_time": "2021-07-07T17:25:49.206Z"
   },
   {
    "duration": 26,
    "start_time": "2021-07-07T17:25:49.212Z"
   },
   {
    "duration": 7,
    "start_time": "2021-07-07T17:25:49.240Z"
   },
   {
    "duration": 16,
    "start_time": "2021-07-07T17:25:49.249Z"
   },
   {
    "duration": 22,
    "start_time": "2021-07-07T17:25:49.266Z"
   },
   {
    "duration": 16,
    "start_time": "2021-07-07T17:25:49.291Z"
   },
   {
    "duration": 9,
    "start_time": "2021-07-07T17:25:49.309Z"
   },
   {
    "duration": 7,
    "start_time": "2021-07-07T17:25:49.319Z"
   },
   {
    "duration": 28,
    "start_time": "2021-07-07T17:25:49.328Z"
   },
   {
    "duration": 44,
    "start_time": "2021-07-07T17:25:49.357Z"
   },
   {
    "duration": 22,
    "start_time": "2021-07-07T17:25:49.403Z"
   },
   {
    "duration": 7,
    "start_time": "2021-07-07T17:25:49.427Z"
   },
   {
    "duration": 3,
    "start_time": "2021-07-07T17:25:49.436Z"
   },
   {
    "duration": 44,
    "start_time": "2021-07-07T17:25:49.441Z"
   },
   {
    "duration": 12,
    "start_time": "2021-07-07T17:25:49.488Z"
   },
   {
    "duration": 13,
    "start_time": "2021-07-07T17:25:49.502Z"
   },
   {
    "duration": 10,
    "start_time": "2021-07-07T17:25:49.516Z"
   },
   {
    "duration": 62,
    "start_time": "2021-07-07T17:25:49.527Z"
   },
   {
    "duration": 26,
    "start_time": "2021-07-07T17:26:51.809Z"
   },
   {
    "duration": 26,
    "start_time": "2021-07-07T17:26:55.759Z"
   },
   {
    "duration": 26,
    "start_time": "2021-07-07T17:27:04.501Z"
   },
   {
    "duration": 25,
    "start_time": "2021-07-07T17:28:24.859Z"
   },
   {
    "duration": 21,
    "start_time": "2021-07-07T17:28:55.250Z"
   },
   {
    "duration": 21,
    "start_time": "2021-07-07T17:28:58.885Z"
   },
   {
    "duration": 7,
    "start_time": "2021-07-07T17:45:40.972Z"
   },
   {
    "duration": 13,
    "start_time": "2021-07-07T17:45:42.529Z"
   },
   {
    "duration": 27,
    "start_time": "2021-07-07T17:45:51.026Z"
   },
   {
    "duration": 518,
    "start_time": "2021-07-07T17:46:15.532Z"
   },
   {
    "duration": 235,
    "start_time": "2021-07-07T17:46:16.053Z"
   },
   {
    "duration": 80,
    "start_time": "2021-07-07T17:46:16.292Z"
   },
   {
    "duration": 5,
    "start_time": "2021-07-07T17:46:16.373Z"
   },
   {
    "duration": 26,
    "start_time": "2021-07-07T17:46:16.380Z"
   },
   {
    "duration": 7,
    "start_time": "2021-07-07T17:46:16.408Z"
   },
   {
    "duration": 16,
    "start_time": "2021-07-07T17:46:16.418Z"
   },
   {
    "duration": 5,
    "start_time": "2021-07-07T17:46:16.436Z"
   },
   {
    "duration": 13,
    "start_time": "2021-07-07T17:46:16.442Z"
   },
   {
    "duration": 35,
    "start_time": "2021-07-07T17:46:16.456Z"
   },
   {
    "duration": 8,
    "start_time": "2021-07-07T17:46:16.493Z"
   },
   {
    "duration": 28,
    "start_time": "2021-07-07T17:46:16.502Z"
   },
   {
    "duration": 17,
    "start_time": "2021-07-07T17:46:16.532Z"
   },
   {
    "duration": 44,
    "start_time": "2021-07-07T17:46:16.551Z"
   },
   {
    "duration": 6,
    "start_time": "2021-07-07T17:46:16.597Z"
   },
   {
    "duration": 4,
    "start_time": "2021-07-07T17:46:16.605Z"
   },
   {
    "duration": 9,
    "start_time": "2021-07-07T17:46:16.610Z"
   },
   {
    "duration": 9,
    "start_time": "2021-07-07T17:46:16.621Z"
   },
   {
    "duration": 10,
    "start_time": "2021-07-07T17:46:16.632Z"
   },
   {
    "duration": 43,
    "start_time": "2021-07-07T17:46:16.644Z"
   },
   {
    "duration": 26,
    "start_time": "2021-07-07T17:46:16.689Z"
   },
   {
    "duration": 19,
    "start_time": "2021-07-07T17:46:16.718Z"
   },
   {
    "duration": 8,
    "start_time": "2021-07-07T17:46:16.738Z"
   },
   {
    "duration": 43,
    "start_time": "2021-07-07T17:46:16.747Z"
   },
   {
    "duration": 19,
    "start_time": "2021-07-07T17:46:16.791Z"
   },
   {
    "duration": 9,
    "start_time": "2021-07-07T17:46:16.812Z"
   },
   {
    "duration": 60,
    "start_time": "2021-07-07T17:46:16.822Z"
   },
   {
    "duration": -8,
    "start_time": "2021-07-07T17:46:16.892Z"
   },
   {
    "duration": 12,
    "start_time": "2021-07-07T17:48:47.707Z"
   },
   {
    "duration": 553,
    "start_time": "2021-07-07T18:10:09.350Z"
   },
   {
    "duration": 230,
    "start_time": "2021-07-07T18:10:09.905Z"
   },
   {
    "duration": 97,
    "start_time": "2021-07-07T18:10:10.137Z"
   },
   {
    "duration": 5,
    "start_time": "2021-07-07T18:10:10.236Z"
   },
   {
    "duration": 29,
    "start_time": "2021-07-07T18:10:10.242Z"
   },
   {
    "duration": 7,
    "start_time": "2021-07-07T18:10:10.272Z"
   },
   {
    "duration": 15,
    "start_time": "2021-07-07T18:10:10.281Z"
   },
   {
    "duration": 4,
    "start_time": "2021-07-07T18:10:10.299Z"
   },
   {
    "duration": 14,
    "start_time": "2021-07-07T18:10:10.305Z"
   },
   {
    "duration": 8,
    "start_time": "2021-07-07T18:10:10.321Z"
   },
   {
    "duration": 8,
    "start_time": "2021-07-07T18:10:10.331Z"
   },
   {
    "duration": 56,
    "start_time": "2021-07-07T18:10:10.341Z"
   },
   {
    "duration": 19,
    "start_time": "2021-07-07T18:10:10.399Z"
   },
   {
    "duration": 23,
    "start_time": "2021-07-07T18:10:10.419Z"
   },
   {
    "duration": 6,
    "start_time": "2021-07-07T18:10:10.444Z"
   },
   {
    "duration": 9,
    "start_time": "2021-07-07T18:10:10.451Z"
   },
   {
    "duration": 30,
    "start_time": "2021-07-07T18:10:10.462Z"
   },
   {
    "duration": 9,
    "start_time": "2021-07-07T18:10:10.494Z"
   },
   {
    "duration": 14,
    "start_time": "2021-07-07T18:10:10.505Z"
   },
   {
    "duration": 7,
    "start_time": "2021-07-07T18:10:10.521Z"
   },
   {
    "duration": 26,
    "start_time": "2021-07-07T18:10:10.530Z"
   },
   {
    "duration": 44,
    "start_time": "2021-07-07T18:10:10.558Z"
   },
   {
    "duration": 7,
    "start_time": "2021-07-07T18:10:10.605Z"
   },
   {
    "duration": 11,
    "start_time": "2021-07-07T18:10:10.614Z"
   },
   {
    "duration": 19,
    "start_time": "2021-07-07T18:10:10.626Z"
   },
   {
    "duration": 44,
    "start_time": "2021-07-07T18:10:10.646Z"
   },
   {
    "duration": 516,
    "start_time": "2021-07-07T18:14:00.826Z"
   },
   {
    "duration": 230,
    "start_time": "2021-07-07T18:14:01.344Z"
   },
   {
    "duration": 105,
    "start_time": "2021-07-07T18:14:01.576Z"
   },
   {
    "duration": 5,
    "start_time": "2021-07-07T18:14:01.683Z"
   },
   {
    "duration": 46,
    "start_time": "2021-07-07T18:14:01.690Z"
   },
   {
    "duration": 7,
    "start_time": "2021-07-07T18:14:01.738Z"
   },
   {
    "duration": 20,
    "start_time": "2021-07-07T18:14:01.747Z"
   },
   {
    "duration": 16,
    "start_time": "2021-07-07T18:14:01.769Z"
   },
   {
    "duration": 14,
    "start_time": "2021-07-07T18:14:01.787Z"
   },
   {
    "duration": 15,
    "start_time": "2021-07-07T18:14:01.803Z"
   },
   {
    "duration": 12,
    "start_time": "2021-07-07T18:14:01.820Z"
   },
   {
    "duration": 35,
    "start_time": "2021-07-07T18:14:01.833Z"
   },
   {
    "duration": 31,
    "start_time": "2021-07-07T18:14:01.869Z"
   },
   {
    "duration": 37,
    "start_time": "2021-07-07T18:14:01.902Z"
   },
   {
    "duration": 8,
    "start_time": "2021-07-07T18:14:01.942Z"
   },
   {
    "duration": 16,
    "start_time": "2021-07-07T18:14:01.952Z"
   },
   {
    "duration": 13,
    "start_time": "2021-07-07T18:14:01.970Z"
   },
   {
    "duration": 32,
    "start_time": "2021-07-07T18:14:01.985Z"
   },
   {
    "duration": 11,
    "start_time": "2021-07-07T18:14:02.019Z"
   },
   {
    "duration": 22,
    "start_time": "2021-07-07T18:14:02.031Z"
   },
   {
    "duration": 27,
    "start_time": "2021-07-07T18:14:02.055Z"
   },
   {
    "duration": 18,
    "start_time": "2021-07-07T18:14:02.084Z"
   },
   {
    "duration": 18,
    "start_time": "2021-07-07T18:14:02.106Z"
   },
   {
    "duration": 11,
    "start_time": "2021-07-07T18:14:02.126Z"
   },
   {
    "duration": 21,
    "start_time": "2021-07-07T18:14:02.138Z"
   },
   {
    "duration": 32,
    "start_time": "2021-07-07T18:14:02.161Z"
   },
   {
    "duration": 28,
    "start_time": "2021-07-07T18:14:44.295Z"
   },
   {
    "duration": 6,
    "start_time": "2021-07-07T18:15:05.834Z"
   },
   {
    "duration": 511,
    "start_time": "2021-07-07T18:15:41.541Z"
   },
   {
    "duration": 183,
    "start_time": "2021-07-07T18:15:42.054Z"
   },
   {
    "duration": 50,
    "start_time": "2021-07-07T18:15:42.239Z"
   },
   {
    "duration": 5,
    "start_time": "2021-07-07T18:15:42.291Z"
   },
   {
    "duration": 48,
    "start_time": "2021-07-07T18:15:42.297Z"
   },
   {
    "duration": 8,
    "start_time": "2021-07-07T18:15:42.346Z"
   },
   {
    "duration": 17,
    "start_time": "2021-07-07T18:15:42.356Z"
   },
   {
    "duration": 15,
    "start_time": "2021-07-07T18:15:42.375Z"
   },
   {
    "duration": 12,
    "start_time": "2021-07-07T18:15:42.392Z"
   },
   {
    "duration": 7,
    "start_time": "2021-07-07T18:15:42.406Z"
   },
   {
    "duration": 7,
    "start_time": "2021-07-07T18:15:42.415Z"
   },
   {
    "duration": 29,
    "start_time": "2021-07-07T18:15:42.423Z"
   },
   {
    "duration": 43,
    "start_time": "2021-07-07T18:15:42.453Z"
   },
   {
    "duration": 18,
    "start_time": "2021-07-07T18:15:42.497Z"
   },
   {
    "duration": 6,
    "start_time": "2021-07-07T18:15:42.516Z"
   },
   {
    "duration": 3,
    "start_time": "2021-07-07T18:15:42.523Z"
   },
   {
    "duration": 18,
    "start_time": "2021-07-07T18:15:42.528Z"
   },
   {
    "duration": 10,
    "start_time": "2021-07-07T18:15:42.547Z"
   },
   {
    "duration": 36,
    "start_time": "2021-07-07T18:15:42.559Z"
   },
   {
    "duration": 8,
    "start_time": "2021-07-07T18:15:42.597Z"
   },
   {
    "duration": 28,
    "start_time": "2021-07-07T18:15:42.606Z"
   },
   {
    "duration": 52,
    "start_time": "2021-07-07T18:15:42.635Z"
   },
   {
    "duration": 7,
    "start_time": "2021-07-07T18:15:42.690Z"
   },
   {
    "duration": 10,
    "start_time": "2021-07-07T18:15:42.699Z"
   },
   {
    "duration": 19,
    "start_time": "2021-07-07T18:15:42.711Z"
   },
   {
    "duration": 9,
    "start_time": "2021-07-07T18:15:42.732Z"
   },
   {
    "duration": 5,
    "start_time": "2021-07-07T18:15:42.743Z"
   },
   {
    "duration": 1450,
    "start_time": "2021-07-07T18:15:51.984Z"
   },
   {
    "duration": 161,
    "start_time": "2021-07-07T18:15:53.435Z"
   },
   {
    "duration": 124,
    "start_time": "2021-07-07T18:15:53.598Z"
   },
   {
    "duration": 5,
    "start_time": "2021-07-07T18:15:53.724Z"
   },
   {
    "duration": 34,
    "start_time": "2021-07-07T18:15:53.730Z"
   },
   {
    "duration": 7,
    "start_time": "2021-07-07T18:15:53.765Z"
   },
   {
    "duration": 15,
    "start_time": "2021-07-07T18:15:53.773Z"
   },
   {
    "duration": 5,
    "start_time": "2021-07-07T18:15:53.791Z"
   },
   {
    "duration": 19,
    "start_time": "2021-07-07T18:15:53.798Z"
   },
   {
    "duration": 9,
    "start_time": "2021-07-07T18:15:53.818Z"
   },
   {
    "duration": 19,
    "start_time": "2021-07-07T18:15:53.828Z"
   },
   {
    "duration": 27,
    "start_time": "2021-07-07T18:15:53.848Z"
   },
   {
    "duration": 16,
    "start_time": "2021-07-07T18:15:53.884Z"
   },
   {
    "duration": 29,
    "start_time": "2021-07-07T18:15:53.901Z"
   },
   {
    "duration": 5,
    "start_time": "2021-07-07T18:15:53.932Z"
   },
   {
    "duration": 15,
    "start_time": "2021-07-07T18:15:53.939Z"
   },
   {
    "duration": 13,
    "start_time": "2021-07-07T18:15:53.956Z"
   },
   {
    "duration": 20,
    "start_time": "2021-07-07T18:15:53.971Z"
   },
   {
    "duration": 14,
    "start_time": "2021-07-07T18:15:53.992Z"
   },
   {
    "duration": 9,
    "start_time": "2021-07-07T18:15:54.009Z"
   },
   {
    "duration": 28,
    "start_time": "2021-07-07T18:15:54.020Z"
   },
   {
    "duration": 50,
    "start_time": "2021-07-07T18:15:54.051Z"
   },
   {
    "duration": 8,
    "start_time": "2021-07-07T18:15:54.105Z"
   },
   {
    "duration": 11,
    "start_time": "2021-07-07T18:15:54.115Z"
   },
   {
    "duration": 20,
    "start_time": "2021-07-07T18:15:54.128Z"
   },
   {
    "duration": 13,
    "start_time": "2021-07-07T18:15:54.184Z"
   },
   {
    "duration": 7,
    "start_time": "2021-07-07T18:15:54.199Z"
   },
   {
    "duration": 7,
    "start_time": "2021-07-07T18:17:08.042Z"
   },
   {
    "duration": 8,
    "start_time": "2021-07-07T18:17:21.008Z"
   },
   {
    "duration": 7,
    "start_time": "2021-07-07T18:17:29.003Z"
   },
   {
    "duration": 8,
    "start_time": "2021-07-07T18:17:32.492Z"
   },
   {
    "duration": 9,
    "start_time": "2021-07-07T18:17:41.758Z"
   },
   {
    "duration": 255,
    "start_time": "2021-07-07T18:20:20.897Z"
   },
   {
    "duration": 173,
    "start_time": "2021-07-07T18:20:26.636Z"
   },
   {
    "duration": 7,
    "start_time": "2021-07-07T18:21:47.164Z"
   },
   {
    "duration": 254,
    "start_time": "2021-07-07T18:23:08.703Z"
   },
   {
    "duration": 21,
    "start_time": "2021-07-07T18:23:22.506Z"
   },
   {
    "duration": 315,
    "start_time": "2021-07-07T18:25:54.801Z"
   },
   {
    "duration": 34,
    "start_time": "2021-07-07T18:26:51.817Z"
   },
   {
    "duration": 327,
    "start_time": "2021-07-07T18:26:56.147Z"
   },
   {
    "duration": 342,
    "start_time": "2021-07-07T18:27:15.887Z"
   },
   {
    "duration": 302,
    "start_time": "2021-07-07T18:28:18.569Z"
   },
   {
    "duration": 226,
    "start_time": "2021-07-07T18:29:20.879Z"
   },
   {
    "duration": 207,
    "start_time": "2021-07-07T18:29:58.114Z"
   },
   {
    "duration": 140,
    "start_time": "2021-07-07T18:32:04.372Z"
   },
   {
    "duration": 158,
    "start_time": "2021-07-07T18:32:32.508Z"
   },
   {
    "duration": 145,
    "start_time": "2021-07-07T18:32:41.365Z"
   },
   {
    "duration": 132,
    "start_time": "2021-07-07T18:32:45.199Z"
   },
   {
    "duration": 11,
    "start_time": "2021-07-07T18:35:24.679Z"
   },
   {
    "duration": 268,
    "start_time": "2021-07-07T18:36:16.145Z"
   },
   {
    "duration": 227,
    "start_time": "2021-07-07T18:37:04.918Z"
   },
   {
    "duration": 3,
    "start_time": "2021-07-07T18:37:33.012Z"
   },
   {
    "duration": 671,
    "start_time": "2021-07-07T18:37:38.295Z"
   },
   {
    "duration": 54,
    "start_time": "2021-07-07T18:37:53.406Z"
   },
   {
    "duration": 631,
    "start_time": "2021-07-07T18:37:56.463Z"
   },
   {
    "duration": 19,
    "start_time": "2021-07-07T18:39:40.535Z"
   },
   {
    "duration": 20,
    "start_time": "2021-07-07T18:40:12.236Z"
   },
   {
    "duration": 633,
    "start_time": "2021-07-07T18:42:00.398Z"
   },
   {
    "duration": 218,
    "start_time": "2021-07-07T18:42:01.033Z"
   },
   {
    "duration": 49,
    "start_time": "2021-07-07T18:42:01.253Z"
   },
   {
    "duration": 5,
    "start_time": "2021-07-07T18:42:01.303Z"
   },
   {
    "duration": 27,
    "start_time": "2021-07-07T18:42:01.310Z"
   },
   {
    "duration": 8,
    "start_time": "2021-07-07T18:42:01.339Z"
   },
   {
    "duration": 20,
    "start_time": "2021-07-07T18:42:01.348Z"
   },
   {
    "duration": 6,
    "start_time": "2021-07-07T18:42:01.386Z"
   },
   {
    "duration": 16,
    "start_time": "2021-07-07T18:42:01.394Z"
   },
   {
    "duration": 9,
    "start_time": "2021-07-07T18:42:01.411Z"
   },
   {
    "duration": 11,
    "start_time": "2021-07-07T18:42:01.421Z"
   },
   {
    "duration": 31,
    "start_time": "2021-07-07T18:42:01.434Z"
   },
   {
    "duration": 18,
    "start_time": "2021-07-07T18:42:01.485Z"
   },
   {
    "duration": 23,
    "start_time": "2021-07-07T18:42:01.505Z"
   },
   {
    "duration": 6,
    "start_time": "2021-07-07T18:42:01.530Z"
   },
   {
    "duration": 10,
    "start_time": "2021-07-07T18:42:01.538Z"
   },
   {
    "duration": 13,
    "start_time": "2021-07-07T18:42:01.550Z"
   },
   {
    "duration": 24,
    "start_time": "2021-07-07T18:42:01.564Z"
   },
   {
    "duration": 20,
    "start_time": "2021-07-07T18:42:01.590Z"
   },
   {
    "duration": 8,
    "start_time": "2021-07-07T18:42:01.611Z"
   },
   {
    "duration": 31,
    "start_time": "2021-07-07T18:42:01.620Z"
   },
   {
    "duration": 39,
    "start_time": "2021-07-07T18:42:01.653Z"
   },
   {
    "duration": 8,
    "start_time": "2021-07-07T18:42:01.696Z"
   },
   {
    "duration": 13,
    "start_time": "2021-07-07T18:42:01.705Z"
   },
   {
    "duration": 20,
    "start_time": "2021-07-07T18:42:01.720Z"
   },
   {
    "duration": 12,
    "start_time": "2021-07-07T18:42:01.741Z"
   },
   {
    "duration": 35,
    "start_time": "2021-07-07T18:42:01.755Z"
   },
   {
    "duration": 14,
    "start_time": "2021-07-07T18:42:01.792Z"
   },
   {
    "duration": 188,
    "start_time": "2021-07-07T18:42:01.808Z"
   },
   {
    "duration": 19,
    "start_time": "2021-07-07T18:42:01.998Z"
   },
   {
    "duration": 175,
    "start_time": "2021-07-07T18:42:02.019Z"
   },
   {
    "duration": 134,
    "start_time": "2021-07-07T18:42:02.196Z"
   },
   {
    "duration": 10,
    "start_time": "2021-07-07T18:42:02.331Z"
   },
   {
    "duration": 19,
    "start_time": "2021-07-07T18:42:02.343Z"
   },
   {
    "duration": 628,
    "start_time": "2021-07-07T18:46:30.701Z"
   },
   {
    "duration": 183,
    "start_time": "2021-07-07T18:46:31.331Z"
   },
   {
    "duration": 48,
    "start_time": "2021-07-07T18:46:31.516Z"
   },
   {
    "duration": 5,
    "start_time": "2021-07-07T18:46:31.566Z"
   },
   {
    "duration": 28,
    "start_time": "2021-07-07T18:46:31.572Z"
   },
   {
    "duration": 8,
    "start_time": "2021-07-07T18:46:31.602Z"
   },
   {
    "duration": 19,
    "start_time": "2021-07-07T18:46:31.611Z"
   },
   {
    "duration": 6,
    "start_time": "2021-07-07T18:46:31.633Z"
   },
   {
    "duration": 17,
    "start_time": "2021-07-07T18:46:31.642Z"
   },
   {
    "duration": 10,
    "start_time": "2021-07-07T18:46:31.684Z"
   },
   {
    "duration": 9,
    "start_time": "2021-07-07T18:46:31.695Z"
   },
   {
    "duration": 28,
    "start_time": "2021-07-07T18:46:31.705Z"
   },
   {
    "duration": 18,
    "start_time": "2021-07-07T18:46:31.735Z"
   },
   {
    "duration": 48,
    "start_time": "2021-07-07T18:46:31.755Z"
   },
   {
    "duration": 6,
    "start_time": "2021-07-07T18:46:31.804Z"
   },
   {
    "duration": 4,
    "start_time": "2021-07-07T18:46:31.812Z"
   },
   {
    "duration": 9,
    "start_time": "2021-07-07T18:46:31.817Z"
   },
   {
    "duration": 10,
    "start_time": "2021-07-07T18:46:31.827Z"
   },
   {
    "duration": 12,
    "start_time": "2021-07-07T18:46:31.838Z"
   },
   {
    "duration": 39,
    "start_time": "2021-07-07T18:46:31.851Z"
   },
   {
    "duration": 24,
    "start_time": "2021-07-07T18:46:31.892Z"
   },
   {
    "duration": 15,
    "start_time": "2021-07-07T18:46:31.918Z"
   },
   {
    "duration": 7,
    "start_time": "2021-07-07T18:46:31.936Z"
   },
   {
    "duration": 8,
    "start_time": "2021-07-07T18:46:31.944Z"
   },
   {
    "duration": 19,
    "start_time": "2021-07-07T18:46:31.984Z"
   },
   {
    "duration": 10,
    "start_time": "2021-07-07T18:46:32.004Z"
   },
   {
    "duration": 5,
    "start_time": "2021-07-07T18:46:32.016Z"
   },
   {
    "duration": 9,
    "start_time": "2021-07-07T18:46:32.023Z"
   },
   {
    "duration": 199,
    "start_time": "2021-07-07T18:46:32.033Z"
   },
   {
    "duration": 19,
    "start_time": "2021-07-07T18:46:32.234Z"
   },
   {
    "duration": 159,
    "start_time": "2021-07-07T18:46:32.255Z"
   },
   {
    "duration": 134,
    "start_time": "2021-07-07T18:46:32.416Z"
   },
   {
    "duration": 10,
    "start_time": "2021-07-07T18:46:32.552Z"
   },
   {
    "duration": 34,
    "start_time": "2021-07-07T18:46:32.563Z"
   },
   {
    "duration": 1039,
    "start_time": "2021-07-08T08:41:09.419Z"
   },
   {
    "duration": 333,
    "start_time": "2021-07-08T08:41:10.459Z"
   },
   {
    "duration": 173,
    "start_time": "2021-07-08T08:41:10.794Z"
   },
   {
    "duration": 5,
    "start_time": "2021-07-08T08:41:10.968Z"
   },
   {
    "duration": 25,
    "start_time": "2021-07-08T08:41:10.975Z"
   },
   {
    "duration": 9,
    "start_time": "2021-07-08T08:41:11.002Z"
   },
   {
    "duration": 18,
    "start_time": "2021-07-08T08:41:11.013Z"
   },
   {
    "duration": 6,
    "start_time": "2021-07-08T08:41:11.033Z"
   },
   {
    "duration": 44,
    "start_time": "2021-07-08T08:41:11.042Z"
   },
   {
    "duration": 10,
    "start_time": "2021-07-08T08:41:11.088Z"
   },
   {
    "duration": 9,
    "start_time": "2021-07-08T08:41:11.100Z"
   },
   {
    "duration": 27,
    "start_time": "2021-07-08T08:41:11.111Z"
   },
   {
    "duration": 46,
    "start_time": "2021-07-08T08:41:11.140Z"
   },
   {
    "duration": 17,
    "start_time": "2021-07-08T08:41:11.187Z"
   },
   {
    "duration": 6,
    "start_time": "2021-07-08T08:41:11.206Z"
   },
   {
    "duration": 5,
    "start_time": "2021-07-08T08:41:11.213Z"
   },
   {
    "duration": 10,
    "start_time": "2021-07-08T08:41:11.219Z"
   },
   {
    "duration": 9,
    "start_time": "2021-07-08T08:41:11.230Z"
   },
   {
    "duration": 45,
    "start_time": "2021-07-08T08:41:11.241Z"
   },
   {
    "duration": 7,
    "start_time": "2021-07-08T08:41:11.287Z"
   },
   {
    "duration": 24,
    "start_time": "2021-07-08T08:41:11.296Z"
   },
   {
    "duration": 16,
    "start_time": "2021-07-08T08:41:11.322Z"
   },
   {
    "duration": 7,
    "start_time": "2021-07-08T08:41:11.341Z"
   },
   {
    "duration": 41,
    "start_time": "2021-07-08T08:41:11.349Z"
   },
   {
    "duration": 17,
    "start_time": "2021-07-08T08:41:11.391Z"
   },
   {
    "duration": 9,
    "start_time": "2021-07-08T08:41:11.410Z"
   },
   {
    "duration": 5,
    "start_time": "2021-07-08T08:41:11.421Z"
   },
   {
    "duration": 6,
    "start_time": "2021-07-08T08:41:11.428Z"
   },
   {
    "duration": 198,
    "start_time": "2021-07-08T08:41:11.435Z"
   },
   {
    "duration": 18,
    "start_time": "2021-07-08T08:41:11.635Z"
   },
   {
    "duration": 155,
    "start_time": "2021-07-08T08:41:11.655Z"
   },
   {
    "duration": 138,
    "start_time": "2021-07-08T08:41:11.811Z"
   },
   {
    "duration": 10,
    "start_time": "2021-07-08T08:41:11.950Z"
   },
   {
    "duration": 29,
    "start_time": "2021-07-08T08:41:11.961Z"
   },
   {
    "duration": 171,
    "start_time": "2021-07-08T08:47:44.522Z"
   },
   {
    "duration": 124,
    "start_time": "2021-07-08T08:47:46.872Z"
   },
   {
    "duration": 191,
    "start_time": "2021-07-08T08:47:58.148Z"
   },
   {
    "duration": 191,
    "start_time": "2021-07-08T08:48:07.412Z"
   },
   {
    "duration": 261,
    "start_time": "2021-07-08T08:48:10.385Z"
   },
   {
    "duration": 255,
    "start_time": "2021-07-08T08:48:14.494Z"
   },
   {
    "duration": 219,
    "start_time": "2021-07-08T08:48:22.752Z"
   },
   {
    "duration": 173,
    "start_time": "2021-07-08T08:49:06.395Z"
   },
   {
    "duration": 180,
    "start_time": "2021-07-08T08:49:21.011Z"
   },
   {
    "duration": 6,
    "start_time": "2021-07-08T08:50:31.697Z"
   },
   {
    "duration": 10,
    "start_time": "2021-07-08T08:50:47.394Z"
   },
   {
    "duration": 11,
    "start_time": "2021-07-08T08:53:49.332Z"
   },
   {
    "duration": 171,
    "start_time": "2021-07-08T08:54:28.408Z"
   },
   {
    "duration": 636,
    "start_time": "2021-07-08T09:02:48.385Z"
   },
   {
    "duration": 227,
    "start_time": "2021-07-08T09:02:49.023Z"
   },
   {
    "duration": 104,
    "start_time": "2021-07-08T09:02:49.252Z"
   },
   {
    "duration": 5,
    "start_time": "2021-07-08T09:02:49.358Z"
   },
   {
    "duration": 27,
    "start_time": "2021-07-08T09:02:49.365Z"
   },
   {
    "duration": 8,
    "start_time": "2021-07-08T09:02:49.394Z"
   },
   {
    "duration": 18,
    "start_time": "2021-07-08T09:02:49.404Z"
   },
   {
    "duration": 6,
    "start_time": "2021-07-08T09:02:49.424Z"
   },
   {
    "duration": 11,
    "start_time": "2021-07-08T09:02:49.433Z"
   },
   {
    "duration": 13,
    "start_time": "2021-07-08T09:02:49.485Z"
   },
   {
    "duration": 9,
    "start_time": "2021-07-08T09:02:49.500Z"
   },
   {
    "duration": 38,
    "start_time": "2021-07-08T09:02:49.511Z"
   },
   {
    "duration": 42,
    "start_time": "2021-07-08T09:02:49.551Z"
   },
   {
    "duration": 21,
    "start_time": "2021-07-08T09:02:49.594Z"
   },
   {
    "duration": 6,
    "start_time": "2021-07-08T09:02:49.616Z"
   },
   {
    "duration": 3,
    "start_time": "2021-07-08T09:02:49.623Z"
   },
   {
    "duration": 9,
    "start_time": "2021-07-08T09:02:49.628Z"
   },
   {
    "duration": 52,
    "start_time": "2021-07-08T09:02:49.638Z"
   },
   {
    "duration": 11,
    "start_time": "2021-07-08T09:02:49.692Z"
   },
   {
    "duration": 8,
    "start_time": "2021-07-08T09:02:49.704Z"
   },
   {
    "duration": 27,
    "start_time": "2021-07-08T09:02:49.713Z"
   },
   {
    "duration": 59,
    "start_time": "2021-07-08T09:02:49.741Z"
   },
   {
    "duration": 8,
    "start_time": "2021-07-08T09:02:49.803Z"
   },
   {
    "duration": 14,
    "start_time": "2021-07-08T09:02:49.813Z"
   },
   {
    "duration": 20,
    "start_time": "2021-07-08T09:02:49.829Z"
   },
   {
    "duration": 44,
    "start_time": "2021-07-08T09:02:49.851Z"
   },
   {
    "duration": 14,
    "start_time": "2021-07-08T09:02:49.896Z"
   },
   {
    "duration": 221,
    "start_time": "2021-07-08T09:02:49.912Z"
   },
   {
    "duration": 6,
    "start_time": "2021-07-08T09:02:50.134Z"
   },
   {
    "duration": 206,
    "start_time": "2021-07-08T09:02:50.142Z"
   },
   {
    "duration": 19,
    "start_time": "2021-07-08T09:02:50.350Z"
   },
   {
    "duration": 21,
    "start_time": "2021-07-08T09:02:50.370Z"
   },
   {
    "duration": 20,
    "start_time": "2021-07-08T09:02:50.393Z"
   },
   {
    "duration": 5,
    "start_time": "2021-07-08T09:02:50.414Z"
   },
   {
    "duration": 5,
    "start_time": "2021-07-08T09:03:34.173Z"
   },
   {
    "duration": 6,
    "start_time": "2021-07-08T09:04:49.062Z"
   },
   {
    "duration": 9,
    "start_time": "2021-07-08T09:04:50.118Z"
   },
   {
    "duration": 14,
    "start_time": "2021-07-08T09:04:58.512Z"
   },
   {
    "duration": 9,
    "start_time": "2021-07-08T09:05:10.988Z"
   },
   {
    "duration": 11,
    "start_time": "2021-07-08T09:05:11.743Z"
   },
   {
    "duration": 7,
    "start_time": "2021-07-08T09:05:25.677Z"
   },
   {
    "duration": 13,
    "start_time": "2021-07-08T09:05:47.189Z"
   },
   {
    "duration": 13,
    "start_time": "2021-07-08T09:05:54.755Z"
   },
   {
    "duration": 4,
    "start_time": "2021-07-08T09:06:29.189Z"
   },
   {
    "duration": 244,
    "start_time": "2021-07-08T09:06:29.195Z"
   },
   {
    "duration": 91,
    "start_time": "2021-07-08T09:06:29.441Z"
   },
   {
    "duration": 4,
    "start_time": "2021-07-08T09:06:29.534Z"
   },
   {
    "duration": 28,
    "start_time": "2021-07-08T09:06:29.540Z"
   },
   {
    "duration": 6,
    "start_time": "2021-07-08T09:06:29.570Z"
   },
   {
    "duration": 18,
    "start_time": "2021-07-08T09:06:29.578Z"
   },
   {
    "duration": 5,
    "start_time": "2021-07-08T09:06:29.597Z"
   },
   {
    "duration": 13,
    "start_time": "2021-07-08T09:06:29.605Z"
   },
   {
    "duration": 8,
    "start_time": "2021-07-08T09:06:29.620Z"
   },
   {
    "duration": 7,
    "start_time": "2021-07-08T09:06:29.630Z"
   },
   {
    "duration": 63,
    "start_time": "2021-07-08T09:06:29.639Z"
   },
   {
    "duration": 17,
    "start_time": "2021-07-08T09:06:29.704Z"
   },
   {
    "duration": 20,
    "start_time": "2021-07-08T09:06:29.723Z"
   },
   {
    "duration": 6,
    "start_time": "2021-07-08T09:06:29.745Z"
   },
   {
    "duration": 3,
    "start_time": "2021-07-08T09:06:29.752Z"
   },
   {
    "duration": 7,
    "start_time": "2021-07-08T09:06:29.785Z"
   },
   {
    "duration": 11,
    "start_time": "2021-07-08T09:06:29.794Z"
   },
   {
    "duration": 15,
    "start_time": "2021-07-08T09:06:29.807Z"
   },
   {
    "duration": 8,
    "start_time": "2021-07-08T09:06:29.823Z"
   },
   {
    "duration": 70,
    "start_time": "2021-07-08T09:06:29.832Z"
   },
   {
    "duration": 17,
    "start_time": "2021-07-08T09:06:29.903Z"
   },
   {
    "duration": 9,
    "start_time": "2021-07-08T09:06:29.921Z"
   },
   {
    "duration": 9,
    "start_time": "2021-07-08T09:06:29.932Z"
   },
   {
    "duration": 57,
    "start_time": "2021-07-08T09:06:29.942Z"
   },
   {
    "duration": 11,
    "start_time": "2021-07-08T09:06:30.001Z"
   },
   {
    "duration": 19,
    "start_time": "2021-07-08T09:06:30.016Z"
   },
   {
    "duration": 217,
    "start_time": "2021-07-08T09:06:30.037Z"
   },
   {
    "duration": 6,
    "start_time": "2021-07-08T09:06:30.255Z"
   },
   {
    "duration": 205,
    "start_time": "2021-07-08T09:06:30.263Z"
   },
   {
    "duration": 27,
    "start_time": "2021-07-08T09:06:30.470Z"
   },
   {
    "duration": 11,
    "start_time": "2021-07-08T09:06:30.500Z"
   },
   {
    "duration": 31,
    "start_time": "2021-07-08T09:06:30.513Z"
   },
   {
    "duration": 18,
    "start_time": "2021-07-08T09:06:30.546Z"
   },
   {
    "duration": 11,
    "start_time": "2021-07-08T09:06:30.566Z"
   },
   {
    "duration": 19,
    "start_time": "2021-07-08T09:06:30.579Z"
   },
   {
    "duration": 20,
    "start_time": "2021-07-08T09:06:49.466Z"
   },
   {
    "duration": 9,
    "start_time": "2021-07-08T09:06:51.994Z"
   },
   {
    "duration": 20,
    "start_time": "2021-07-08T09:06:52.273Z"
   },
   {
    "duration": 246,
    "start_time": "2021-07-08T09:10:21.272Z"
   },
   {
    "duration": 84,
    "start_time": "2021-07-08T09:10:21.436Z"
   },
   {
    "duration": 7,
    "start_time": "2021-07-08T09:10:37.608Z"
   },
   {
    "duration": 189,
    "start_time": "2021-07-08T09:10:38.573Z"
   },
   {
    "duration": 185,
    "start_time": "2021-07-08T09:10:53.181Z"
   },
   {
    "duration": 11,
    "start_time": "2021-07-08T09:10:59.549Z"
   },
   {
    "duration": 42,
    "start_time": "2021-07-08T09:10:59.709Z"
   },
   {
    "duration": 12,
    "start_time": "2021-07-08T09:11:02.857Z"
   },
   {
    "duration": 28,
    "start_time": "2021-07-08T09:11:10.062Z"
   },
   {
    "duration": 249,
    "start_time": "2021-07-08T09:11:37.388Z"
   },
   {
    "duration": 232,
    "start_time": "2021-07-08T09:11:49.485Z"
   },
   {
    "duration": 453,
    "start_time": "2021-07-08T09:12:01.546Z"
   },
   {
    "duration": 440,
    "start_time": "2021-07-08T09:12:12.347Z"
   },
   {
    "duration": 213,
    "start_time": "2021-07-08T09:13:32.196Z"
   },
   {
    "duration": 172,
    "start_time": "2021-07-08T09:14:07.400Z"
   },
   {
    "duration": 185,
    "start_time": "2021-07-08T09:14:14.905Z"
   },
   {
    "duration": 209,
    "start_time": "2021-07-08T09:14:40.109Z"
   },
   {
    "duration": 201,
    "start_time": "2021-07-08T09:14:54.506Z"
   },
   {
    "duration": 622,
    "start_time": "2021-07-08T09:18:14.497Z"
   },
   {
    "duration": 220,
    "start_time": "2021-07-08T09:18:15.121Z"
   },
   {
    "duration": 79,
    "start_time": "2021-07-08T09:18:15.343Z"
   },
   {
    "duration": 4,
    "start_time": "2021-07-08T09:18:15.425Z"
   },
   {
    "duration": 24,
    "start_time": "2021-07-08T09:18:15.431Z"
   },
   {
    "duration": 8,
    "start_time": "2021-07-08T09:18:15.457Z"
   },
   {
    "duration": 16,
    "start_time": "2021-07-08T09:18:15.466Z"
   },
   {
    "duration": 5,
    "start_time": "2021-07-08T09:18:15.484Z"
   },
   {
    "duration": 10,
    "start_time": "2021-07-08T09:18:15.493Z"
   },
   {
    "duration": 8,
    "start_time": "2021-07-08T09:18:15.504Z"
   },
   {
    "duration": 7,
    "start_time": "2021-07-08T09:18:15.513Z"
   },
   {
    "duration": 26,
    "start_time": "2021-07-08T09:18:15.522Z"
   },
   {
    "duration": 49,
    "start_time": "2021-07-08T09:18:15.550Z"
   },
   {
    "duration": 21,
    "start_time": "2021-07-08T09:18:15.601Z"
   },
   {
    "duration": 8,
    "start_time": "2021-07-08T09:18:15.624Z"
   },
   {
    "duration": 3,
    "start_time": "2021-07-08T09:18:15.634Z"
   },
   {
    "duration": 8,
    "start_time": "2021-07-08T09:18:15.639Z"
   },
   {
    "duration": 45,
    "start_time": "2021-07-08T09:18:15.649Z"
   },
   {
    "duration": 13,
    "start_time": "2021-07-08T09:18:15.696Z"
   },
   {
    "duration": 10,
    "start_time": "2021-07-08T09:18:15.711Z"
   },
   {
    "duration": 64,
    "start_time": "2021-07-08T09:18:15.722Z"
   },
   {
    "duration": 19,
    "start_time": "2021-07-08T09:18:15.788Z"
   },
   {
    "duration": 9,
    "start_time": "2021-07-08T09:18:15.809Z"
   },
   {
    "duration": 9,
    "start_time": "2021-07-08T09:18:15.820Z"
   },
   {
    "duration": 18,
    "start_time": "2021-07-08T09:18:15.831Z"
   },
   {
    "duration": 43,
    "start_time": "2021-07-08T09:18:15.851Z"
   },
   {
    "duration": 12,
    "start_time": "2021-07-08T09:18:15.897Z"
   },
   {
    "duration": 219,
    "start_time": "2021-07-08T09:18:15.911Z"
   },
   {
    "duration": 8,
    "start_time": "2021-07-08T09:18:16.132Z"
   },
   {
    "duration": 199,
    "start_time": "2021-07-08T09:18:16.141Z"
   },
   {
    "duration": 18,
    "start_time": "2021-07-08T09:18:16.341Z"
   },
   {
    "duration": 24,
    "start_time": "2021-07-08T09:18:16.361Z"
   },
   {
    "duration": 24,
    "start_time": "2021-07-08T09:18:16.387Z"
   },
   {
    "duration": 211,
    "start_time": "2021-07-08T09:18:16.413Z"
   },
   {
    "duration": 18,
    "start_time": "2021-07-08T09:18:16.626Z"
   },
   {
    "duration": 596,
    "start_time": "2021-07-08T10:06:33.623Z"
   },
   {
    "duration": 181,
    "start_time": "2021-07-08T10:06:34.221Z"
   },
   {
    "duration": 176,
    "start_time": "2021-07-08T10:06:34.635Z"
   },
   {
    "duration": 239,
    "start_time": "2021-07-08T10:06:55.572Z"
   },
   {
    "duration": 6,
    "start_time": "2021-07-08T10:06:57.687Z"
   },
   {
    "duration": 4,
    "start_time": "2021-07-08T10:07:03.956Z"
   },
   {
    "duration": 4,
    "start_time": "2021-07-08T10:07:10.376Z"
   },
   {
    "duration": 4,
    "start_time": "2021-07-08T10:17:19.889Z"
   },
   {
    "duration": 3,
    "start_time": "2021-07-08T10:19:19.407Z"
   },
   {
    "duration": 197,
    "start_time": "2021-07-08T10:19:19.412Z"
   },
   {
    "duration": 127,
    "start_time": "2021-07-08T10:19:19.611Z"
   },
   {
    "duration": 4,
    "start_time": "2021-07-08T10:19:19.740Z"
   },
   {
    "duration": 27,
    "start_time": "2021-07-08T10:19:19.746Z"
   },
   {
    "duration": 7,
    "start_time": "2021-07-08T10:19:19.775Z"
   },
   {
    "duration": 30,
    "start_time": "2021-07-08T10:19:19.784Z"
   },
   {
    "duration": 7,
    "start_time": "2021-07-08T10:19:19.817Z"
   },
   {
    "duration": 26,
    "start_time": "2021-07-08T10:19:19.826Z"
   },
   {
    "duration": 18,
    "start_time": "2021-07-08T10:19:19.854Z"
   },
   {
    "duration": 14,
    "start_time": "2021-07-08T10:19:19.874Z"
   },
   {
    "duration": 48,
    "start_time": "2021-07-08T10:19:19.890Z"
   },
   {
    "duration": 17,
    "start_time": "2021-07-08T10:19:19.940Z"
   },
   {
    "duration": 38,
    "start_time": "2021-07-08T10:19:19.959Z"
   },
   {
    "duration": 8,
    "start_time": "2021-07-08T10:19:19.999Z"
   },
   {
    "duration": 15,
    "start_time": "2021-07-08T10:19:20.009Z"
   },
   {
    "duration": 22,
    "start_time": "2021-07-08T10:19:20.026Z"
   },
   {
    "duration": 10,
    "start_time": "2021-07-08T10:19:20.050Z"
   },
   {
    "duration": 10,
    "start_time": "2021-07-08T10:19:20.062Z"
   },
   {
    "duration": 20,
    "start_time": "2021-07-08T10:19:20.073Z"
   },
   {
    "duration": 29,
    "start_time": "2021-07-08T10:19:20.095Z"
   },
   {
    "duration": 17,
    "start_time": "2021-07-08T10:19:20.126Z"
   },
   {
    "duration": 40,
    "start_time": "2021-07-08T10:19:20.146Z"
   },
   {
    "duration": 15,
    "start_time": "2021-07-08T10:19:20.189Z"
   },
   {
    "duration": 19,
    "start_time": "2021-07-08T10:19:20.206Z"
   },
   {
    "duration": 10,
    "start_time": "2021-07-08T10:19:20.226Z"
   },
   {
    "duration": 11,
    "start_time": "2021-07-08T10:19:20.238Z"
   },
   {
    "duration": 297,
    "start_time": "2021-07-08T10:19:20.250Z"
   },
   {
    "duration": 6,
    "start_time": "2021-07-08T10:19:20.549Z"
   },
   {
    "duration": 191,
    "start_time": "2021-07-08T10:19:20.557Z"
   },
   {
    "duration": 19,
    "start_time": "2021-07-08T10:19:20.750Z"
   },
   {
    "duration": 20,
    "start_time": "2021-07-08T10:19:20.771Z"
   },
   {
    "duration": 15,
    "start_time": "2021-07-08T10:19:20.793Z"
   },
   {
    "duration": 222,
    "start_time": "2021-07-08T10:19:20.809Z"
   },
   {
    "duration": 20,
    "start_time": "2021-07-08T10:19:21.033Z"
   },
   {
    "duration": 27,
    "start_time": "2021-07-08T10:45:04.055Z"
   },
   {
    "duration": 8,
    "start_time": "2021-07-08T10:45:08.478Z"
   },
   {
    "duration": 8,
    "start_time": "2021-07-08T10:45:31.982Z"
   },
   {
    "duration": 10,
    "start_time": "2021-07-08T10:46:01.221Z"
   },
   {
    "duration": 17,
    "start_time": "2021-07-08T10:46:40.011Z"
   },
   {
    "duration": 193,
    "start_time": "2021-07-08T10:48:19.471Z"
   },
   {
    "duration": 225,
    "start_time": "2021-07-08T10:49:26.480Z"
   },
   {
    "duration": 204,
    "start_time": "2021-07-08T10:49:59.992Z"
   },
   {
    "duration": 435,
    "start_time": "2021-07-08T10:50:06.779Z"
   },
   {
    "duration": 199,
    "start_time": "2021-07-08T10:50:14.891Z"
   },
   {
    "duration": 204,
    "start_time": "2021-07-08T10:50:18.501Z"
   },
   {
    "duration": 244,
    "start_time": "2021-07-08T10:50:23.359Z"
   },
   {
    "duration": 192,
    "start_time": "2021-07-08T10:50:29.135Z"
   },
   {
    "duration": 218,
    "start_time": "2021-07-08T10:50:33.092Z"
   },
   {
    "duration": 207,
    "start_time": "2021-07-08T10:52:45.381Z"
   },
   {
    "duration": 5,
    "start_time": "2021-07-08T10:53:34.641Z"
   },
   {
    "duration": 196,
    "start_time": "2021-07-08T10:53:41.478Z"
   },
   {
    "duration": 43,
    "start_time": "2021-07-08T10:53:50.335Z"
   },
   {
    "duration": 32,
    "start_time": "2021-07-08T10:53:55.294Z"
   },
   {
    "duration": 55,
    "start_time": "2021-07-08T10:54:09.675Z"
   },
   {
    "duration": 16,
    "start_time": "2021-07-08T10:54:12.260Z"
   },
   {
    "duration": 15,
    "start_time": "2021-07-08T10:54:49.150Z"
   },
   {
    "duration": 20,
    "start_time": "2021-07-08T10:56:07.596Z"
   },
   {
    "duration": 16,
    "start_time": "2021-07-08T10:58:26.276Z"
   },
   {
    "duration": 22,
    "start_time": "2021-07-08T10:59:00.486Z"
   },
   {
    "duration": 18,
    "start_time": "2021-07-08T11:02:09.653Z"
   },
   {
    "duration": 10,
    "start_time": "2021-07-08T11:03:44.331Z"
   },
   {
    "duration": 10,
    "start_time": "2021-07-08T11:03:54.055Z"
   },
   {
    "duration": 12,
    "start_time": "2021-07-08T11:04:41.967Z"
   },
   {
    "duration": 24,
    "start_time": "2021-07-08T11:07:30.732Z"
   },
   {
    "duration": 6,
    "start_time": "2021-07-08T11:07:37.364Z"
   },
   {
    "duration": 16,
    "start_time": "2021-07-08T11:08:01.819Z"
   },
   {
    "duration": 17,
    "start_time": "2021-07-08T11:09:47.488Z"
   },
   {
    "duration": 246,
    "start_time": "2021-07-08T11:10:00.830Z"
   },
   {
    "duration": 18,
    "start_time": "2021-07-08T11:13:55.195Z"
   },
   {
    "duration": 204,
    "start_time": "2021-07-08T11:14:04.951Z"
   },
   {
    "duration": 19,
    "start_time": "2021-07-08T11:15:10.613Z"
   },
   {
    "duration": 680,
    "start_time": "2021-07-08T11:16:25.793Z"
   },
   {
    "duration": 451,
    "start_time": "2021-07-08T11:16:40.313Z"
   },
   {
    "duration": 469,
    "start_time": "2021-07-08T11:17:21.286Z"
   },
   {
    "duration": 20,
    "start_time": "2021-07-08T11:19:12.554Z"
   },
   {
    "duration": 35,
    "start_time": "2021-07-08T11:20:05.484Z"
   },
   {
    "duration": 53,
    "start_time": "2021-07-08T11:21:40.050Z"
   },
   {
    "duration": 13,
    "start_time": "2021-07-08T11:22:26.059Z"
   },
   {
    "duration": 19,
    "start_time": "2021-07-08T11:22:47.419Z"
   },
   {
    "duration": 25,
    "start_time": "2021-07-08T11:23:19.958Z"
   },
   {
    "duration": 29,
    "start_time": "2021-07-08T11:23:25.415Z"
   },
   {
    "duration": 10,
    "start_time": "2021-07-08T11:24:45.138Z"
   },
   {
    "duration": 19,
    "start_time": "2021-07-08T11:24:54.498Z"
   },
   {
    "duration": 12,
    "start_time": "2021-07-08T11:25:32.225Z"
   },
   {
    "duration": 19,
    "start_time": "2021-07-08T11:25:37.092Z"
   },
   {
    "duration": 17,
    "start_time": "2021-07-08T11:25:58.116Z"
   },
   {
    "duration": 15,
    "start_time": "2021-07-08T11:26:02.258Z"
   },
   {
    "duration": 8,
    "start_time": "2021-07-08T11:26:59.682Z"
   },
   {
    "duration": 184,
    "start_time": "2021-07-08T11:27:21.894Z"
   },
   {
    "duration": 8,
    "start_time": "2021-07-08T11:27:23.824Z"
   },
   {
    "duration": 202,
    "start_time": "2021-07-08T11:27:23.962Z"
   },
   {
    "duration": 360,
    "start_time": "2021-07-08T11:28:33.215Z"
   },
   {
    "duration": 231,
    "start_time": "2021-07-08T11:32:05.542Z"
   },
   {
    "duration": 607,
    "start_time": "2021-07-08T11:36:27.854Z"
   },
   {
    "duration": 241,
    "start_time": "2021-07-08T11:36:28.463Z"
   },
   {
    "duration": 67,
    "start_time": "2021-07-08T11:36:28.709Z"
   },
   {
    "duration": 5,
    "start_time": "2021-07-08T11:36:28.778Z"
   },
   {
    "duration": 32,
    "start_time": "2021-07-08T11:36:28.784Z"
   },
   {
    "duration": 11,
    "start_time": "2021-07-08T11:36:28.819Z"
   },
   {
    "duration": 20,
    "start_time": "2021-07-08T11:36:28.834Z"
   },
   {
    "duration": 36,
    "start_time": "2021-07-08T11:36:28.857Z"
   },
   {
    "duration": 16,
    "start_time": "2021-07-08T11:36:28.895Z"
   },
   {
    "duration": 14,
    "start_time": "2021-07-08T11:36:28.913Z"
   },
   {
    "duration": 9,
    "start_time": "2021-07-08T11:36:28.930Z"
   },
   {
    "duration": 55,
    "start_time": "2021-07-08T11:36:28.941Z"
   },
   {
    "duration": 27,
    "start_time": "2021-07-08T11:36:28.999Z"
   },
   {
    "duration": 30,
    "start_time": "2021-07-08T11:36:29.028Z"
   },
   {
    "duration": 31,
    "start_time": "2021-07-08T11:36:29.060Z"
   },
   {
    "duration": 3,
    "start_time": "2021-07-08T11:36:29.093Z"
   },
   {
    "duration": 12,
    "start_time": "2021-07-08T11:36:29.099Z"
   },
   {
    "duration": 11,
    "start_time": "2021-07-08T11:36:29.112Z"
   },
   {
    "duration": 12,
    "start_time": "2021-07-08T11:36:29.125Z"
   },
   {
    "duration": 9,
    "start_time": "2021-07-08T11:36:29.139Z"
   },
   {
    "duration": 31,
    "start_time": "2021-07-08T11:36:29.191Z"
   },
   {
    "duration": 17,
    "start_time": "2021-07-08T11:36:29.226Z"
   },
   {
    "duration": 7,
    "start_time": "2021-07-08T11:36:29.245Z"
   },
   {
    "duration": 10,
    "start_time": "2021-07-08T11:36:29.254Z"
   },
   {
    "duration": 30,
    "start_time": "2021-07-08T11:36:29.292Z"
   },
   {
    "duration": 11,
    "start_time": "2021-07-08T11:36:29.324Z"
   },
   {
    "duration": 11,
    "start_time": "2021-07-08T11:36:29.337Z"
   },
   {
    "duration": 230,
    "start_time": "2021-07-08T11:36:29.349Z"
   },
   {
    "duration": 13,
    "start_time": "2021-07-08T11:36:29.588Z"
   },
   {
    "duration": 205,
    "start_time": "2021-07-08T11:36:29.603Z"
   },
   {
    "duration": 20,
    "start_time": "2021-07-08T11:36:29.810Z"
   },
   {
    "duration": 9,
    "start_time": "2021-07-08T11:36:29.832Z"
   },
   {
    "duration": 16,
    "start_time": "2021-07-08T11:36:29.843Z"
   },
   {
    "duration": 283,
    "start_time": "2021-07-08T11:36:29.861Z"
   },
   {
    "duration": 50,
    "start_time": "2021-07-08T11:36:30.146Z"
   },
   {
    "duration": 14,
    "start_time": "2021-07-08T11:36:30.198Z"
   },
   {
    "duration": 11,
    "start_time": "2021-07-08T11:36:30.214Z"
   },
   {
    "duration": 245,
    "start_time": "2021-07-08T11:36:30.227Z"
   },
   {
    "duration": 439,
    "start_time": "2021-07-08T11:36:30.474Z"
   },
   {
    "duration": 210,
    "start_time": "2021-07-08T11:36:30.915Z"
   },
   {
    "duration": 15,
    "start_time": "2021-07-08T11:36:31.127Z"
   },
   {
    "duration": 17,
    "start_time": "2021-07-08T11:38:20.451Z"
   },
   {
    "duration": 642,
    "start_time": "2021-07-08T11:46:17.881Z"
   },
   {
    "duration": 210,
    "start_time": "2021-07-08T11:46:18.525Z"
   },
   {
    "duration": 104,
    "start_time": "2021-07-08T11:46:18.741Z"
   },
   {
    "duration": 8,
    "start_time": "2021-07-08T11:46:18.847Z"
   },
   {
    "duration": 25,
    "start_time": "2021-07-08T11:46:18.857Z"
   },
   {
    "duration": 14,
    "start_time": "2021-07-08T11:46:18.884Z"
   },
   {
    "duration": 22,
    "start_time": "2021-07-08T11:46:18.900Z"
   },
   {
    "duration": 5,
    "start_time": "2021-07-08T11:46:18.924Z"
   },
   {
    "duration": 13,
    "start_time": "2021-07-08T11:46:18.931Z"
   },
   {
    "duration": 45,
    "start_time": "2021-07-08T11:46:18.946Z"
   },
   {
    "duration": 12,
    "start_time": "2021-07-08T11:46:18.993Z"
   },
   {
    "duration": 38,
    "start_time": "2021-07-08T11:46:19.006Z"
   },
   {
    "duration": 50,
    "start_time": "2021-07-08T11:46:19.046Z"
   },
   {
    "duration": 29,
    "start_time": "2021-07-08T11:46:19.099Z"
   },
   {
    "duration": 7,
    "start_time": "2021-07-08T11:46:19.130Z"
   },
   {
    "duration": 3,
    "start_time": "2021-07-08T11:46:19.139Z"
   },
   {
    "duration": 11,
    "start_time": "2021-07-08T11:46:19.144Z"
   },
   {
    "duration": 40,
    "start_time": "2021-07-08T11:46:19.157Z"
   },
   {
    "duration": 15,
    "start_time": "2021-07-08T11:46:19.199Z"
   },
   {
    "duration": 10,
    "start_time": "2021-07-08T11:46:19.217Z"
   },
   {
    "duration": 68,
    "start_time": "2021-07-08T11:46:19.230Z"
   },
   {
    "duration": 17,
    "start_time": "2021-07-08T11:46:19.301Z"
   },
   {
    "duration": 7,
    "start_time": "2021-07-08T11:46:19.321Z"
   },
   {
    "duration": 11,
    "start_time": "2021-07-08T11:46:19.330Z"
   },
   {
    "duration": 59,
    "start_time": "2021-07-08T11:46:19.343Z"
   },
   {
    "duration": 17,
    "start_time": "2021-07-08T11:46:19.405Z"
   },
   {
    "duration": 16,
    "start_time": "2021-07-08T11:46:19.424Z"
   },
   {
    "duration": 252,
    "start_time": "2021-07-08T11:46:19.443Z"
   },
   {
    "duration": 9,
    "start_time": "2021-07-08T11:46:19.697Z"
   },
   {
    "duration": 224,
    "start_time": "2021-07-08T11:46:19.708Z"
   },
   {
    "duration": 21,
    "start_time": "2021-07-08T11:46:19.934Z"
   },
   {
    "duration": 9,
    "start_time": "2021-07-08T11:46:19.956Z"
   },
   {
    "duration": 32,
    "start_time": "2021-07-08T11:46:19.967Z"
   },
   {
    "duration": 288,
    "start_time": "2021-07-08T11:46:20.004Z"
   },
   {
    "duration": 23,
    "start_time": "2021-07-08T11:46:20.300Z"
   },
   {
    "duration": 11,
    "start_time": "2021-07-08T11:46:20.325Z"
   },
   {
    "duration": 11,
    "start_time": "2021-07-08T11:46:20.339Z"
   },
   {
    "duration": 259,
    "start_time": "2021-07-08T11:46:20.352Z"
   },
   {
    "duration": 438,
    "start_time": "2021-07-08T11:46:20.613Z"
   },
   {
    "duration": 207,
    "start_time": "2021-07-08T11:46:21.054Z"
   },
   {
    "duration": 27,
    "start_time": "2021-07-08T11:46:21.262Z"
   },
   {
    "duration": 19,
    "start_time": "2021-07-08T11:46:21.291Z"
   },
   {
    "duration": 820,
    "start_time": "2021-07-08T11:49:01.655Z"
   },
   {
    "duration": 372,
    "start_time": "2021-07-08T11:49:02.478Z"
   },
   {
    "duration": 98,
    "start_time": "2021-07-08T11:49:02.853Z"
   },
   {
    "duration": 6,
    "start_time": "2021-07-08T11:49:02.953Z"
   },
   {
    "duration": 39,
    "start_time": "2021-07-08T11:49:02.960Z"
   },
   {
    "duration": 9,
    "start_time": "2021-07-08T11:49:03.003Z"
   },
   {
    "duration": 23,
    "start_time": "2021-07-08T11:49:03.014Z"
   },
   {
    "duration": 6,
    "start_time": "2021-07-08T11:49:03.041Z"
   },
   {
    "duration": 20,
    "start_time": "2021-07-08T11:49:03.049Z"
   },
   {
    "duration": 18,
    "start_time": "2021-07-08T11:49:03.084Z"
   },
   {
    "duration": 14,
    "start_time": "2021-07-08T11:49:03.104Z"
   },
   {
    "duration": 39,
    "start_time": "2021-07-08T11:49:03.119Z"
   },
   {
    "duration": 38,
    "start_time": "2021-07-08T11:49:03.160Z"
   },
   {
    "duration": 26,
    "start_time": "2021-07-08T11:49:03.200Z"
   },
   {
    "duration": 7,
    "start_time": "2021-07-08T11:49:03.227Z"
   },
   {
    "duration": 4,
    "start_time": "2021-07-08T11:49:03.236Z"
   },
   {
    "duration": 15,
    "start_time": "2021-07-08T11:49:03.243Z"
   },
   {
    "duration": 21,
    "start_time": "2021-07-08T11:49:03.285Z"
   },
   {
    "duration": 17,
    "start_time": "2021-07-08T11:49:03.309Z"
   },
   {
    "duration": 10,
    "start_time": "2021-07-08T11:49:03.328Z"
   },
   {
    "duration": 65,
    "start_time": "2021-07-08T11:49:03.340Z"
   },
   {
    "duration": 18,
    "start_time": "2021-07-08T11:49:03.407Z"
   },
   {
    "duration": 8,
    "start_time": "2021-07-08T11:49:03.428Z"
   },
   {
    "duration": 15,
    "start_time": "2021-07-08T11:49:03.438Z"
   },
   {
    "duration": 40,
    "start_time": "2021-07-08T11:49:03.455Z"
   },
   {
    "duration": 12,
    "start_time": "2021-07-08T11:49:03.497Z"
   },
   {
    "duration": 29,
    "start_time": "2021-07-08T11:49:03.511Z"
   },
   {
    "duration": 285,
    "start_time": "2021-07-08T11:49:03.542Z"
   },
   {
    "duration": 8,
    "start_time": "2021-07-08T11:49:03.829Z"
   },
   {
    "duration": 227,
    "start_time": "2021-07-08T11:49:03.838Z"
   },
   {
    "duration": 40,
    "start_time": "2021-07-08T11:49:04.066Z"
   },
   {
    "duration": 10,
    "start_time": "2021-07-08T11:49:04.108Z"
   },
   {
    "duration": 26,
    "start_time": "2021-07-08T11:49:04.121Z"
   },
   {
    "duration": 290,
    "start_time": "2021-07-08T11:49:04.149Z"
   },
   {
    "duration": 26,
    "start_time": "2021-07-08T11:49:04.441Z"
   },
   {
    "duration": 31,
    "start_time": "2021-07-08T11:49:04.470Z"
   },
   {
    "duration": 14,
    "start_time": "2021-07-08T11:49:04.503Z"
   },
   {
    "duration": 259,
    "start_time": "2021-07-08T11:49:04.521Z"
   },
   {
    "duration": 480,
    "start_time": "2021-07-08T11:49:04.782Z"
   },
   {
    "duration": 225,
    "start_time": "2021-07-08T11:49:05.264Z"
   },
   {
    "duration": 22,
    "start_time": "2021-07-08T11:49:05.491Z"
   },
   {
    "duration": 24,
    "start_time": "2021-07-08T11:49:05.515Z"
   },
   {
    "duration": 634,
    "start_time": "2021-07-08T11:52:24.960Z"
   },
   {
    "duration": 199,
    "start_time": "2021-07-08T11:52:25.599Z"
   },
   {
    "duration": 106,
    "start_time": "2021-07-08T11:52:25.803Z"
   },
   {
    "duration": 7,
    "start_time": "2021-07-08T11:52:25.911Z"
   },
   {
    "duration": 29,
    "start_time": "2021-07-08T11:52:25.920Z"
   },
   {
    "duration": 7,
    "start_time": "2021-07-08T11:52:25.951Z"
   },
   {
    "duration": 26,
    "start_time": "2021-07-08T11:52:25.961Z"
   },
   {
    "duration": 11,
    "start_time": "2021-07-08T11:52:25.990Z"
   },
   {
    "duration": 29,
    "start_time": "2021-07-08T11:52:26.005Z"
   },
   {
    "duration": 9,
    "start_time": "2021-07-08T11:52:26.036Z"
   },
   {
    "duration": 8,
    "start_time": "2021-07-08T11:52:26.047Z"
   },
   {
    "duration": 63,
    "start_time": "2021-07-08T11:52:26.057Z"
   },
   {
    "duration": 17,
    "start_time": "2021-07-08T11:52:26.122Z"
   },
   {
    "duration": 43,
    "start_time": "2021-07-08T11:52:26.142Z"
   },
   {
    "duration": 17,
    "start_time": "2021-07-08T11:52:26.187Z"
   },
   {
    "duration": 5,
    "start_time": "2021-07-08T11:52:26.206Z"
   },
   {
    "duration": 12,
    "start_time": "2021-07-08T11:52:26.212Z"
   },
   {
    "duration": 11,
    "start_time": "2021-07-08T11:52:26.226Z"
   },
   {
    "duration": 12,
    "start_time": "2021-07-08T11:52:26.238Z"
   },
   {
    "duration": 38,
    "start_time": "2021-07-08T11:52:26.252Z"
   },
   {
    "duration": 40,
    "start_time": "2021-07-08T11:52:26.292Z"
   },
   {
    "duration": 17,
    "start_time": "2021-07-08T11:52:26.336Z"
   },
   {
    "duration": 39,
    "start_time": "2021-07-08T11:52:26.355Z"
   },
   {
    "duration": 11,
    "start_time": "2021-07-08T11:52:26.395Z"
   },
   {
    "duration": 23,
    "start_time": "2021-07-08T11:52:26.408Z"
   },
   {
    "duration": 12,
    "start_time": "2021-07-08T11:52:26.432Z"
   },
   {
    "duration": 41,
    "start_time": "2021-07-08T11:52:26.446Z"
   },
   {
    "duration": 215,
    "start_time": "2021-07-08T11:52:26.493Z"
   },
   {
    "duration": 8,
    "start_time": "2021-07-08T11:52:26.710Z"
   },
   {
    "duration": 228,
    "start_time": "2021-07-08T11:52:26.720Z"
   },
   {
    "duration": 18,
    "start_time": "2021-07-08T11:52:26.950Z"
   },
   {
    "duration": 35,
    "start_time": "2021-07-08T11:52:26.969Z"
   },
   {
    "duration": 23,
    "start_time": "2021-07-08T11:52:27.006Z"
   },
   {
    "duration": 258,
    "start_time": "2021-07-08T11:52:27.030Z"
   },
   {
    "duration": 24,
    "start_time": "2021-07-08T11:52:27.290Z"
   },
   {
    "duration": 12,
    "start_time": "2021-07-08T11:52:27.316Z"
   },
   {
    "duration": 10,
    "start_time": "2021-07-08T11:52:27.329Z"
   },
   {
    "duration": 298,
    "start_time": "2021-07-08T11:52:27.341Z"
   },
   {
    "duration": 436,
    "start_time": "2021-07-08T11:52:27.641Z"
   },
   {
    "duration": 216,
    "start_time": "2021-07-08T11:52:28.079Z"
   },
   {
    "duration": 20,
    "start_time": "2021-07-08T11:52:28.297Z"
   },
   {
    "duration": 17,
    "start_time": "2021-07-08T11:52:28.319Z"
   },
   {
    "duration": 778,
    "start_time": "2022-09-05T17:41:17.811Z"
   },
   {
    "duration": 207,
    "start_time": "2022-09-05T17:45:11.861Z"
   },
   {
    "duration": 82,
    "start_time": "2022-09-05T17:45:12.763Z"
   },
   {
    "duration": 19,
    "start_time": "2022-09-05T17:45:25.522Z"
   },
   {
    "duration": 23,
    "start_time": "2022-09-05T17:45:53.260Z"
   },
   {
    "duration": 80,
    "start_time": "2022-09-05T17:48:08.676Z"
   },
   {
    "duration": 50,
    "start_time": "2022-09-05T17:48:50.382Z"
   },
   {
    "duration": 75,
    "start_time": "2022-09-05T18:01:13.169Z"
   },
   {
    "duration": 10,
    "start_time": "2022-09-05T18:01:40.304Z"
   },
   {
    "duration": 22,
    "start_time": "2022-09-05T18:01:51.633Z"
   },
   {
    "duration": 6,
    "start_time": "2022-09-05T18:02:59.058Z"
   },
   {
    "duration": 25,
    "start_time": "2022-09-05T18:03:02.904Z"
   },
   {
    "duration": 20,
    "start_time": "2022-09-05T18:03:27.843Z"
   },
   {
    "duration": 15,
    "start_time": "2022-09-05T18:05:00.330Z"
   },
   {
    "duration": 849,
    "start_time": "2022-09-05T19:40:10.199Z"
   },
   {
    "duration": 238,
    "start_time": "2022-09-05T19:40:11.050Z"
   },
   {
    "duration": 75,
    "start_time": "2022-09-05T19:40:11.290Z"
   },
   {
    "duration": 21,
    "start_time": "2022-09-05T19:40:13.896Z"
   },
   {
    "duration": 7,
    "start_time": "2022-09-05T19:40:13.919Z"
   },
   {
    "duration": 24,
    "start_time": "2022-09-05T19:40:13.928Z"
   },
   {
    "duration": 14,
    "start_time": "2022-09-05T19:40:18.173Z"
   },
   {
    "duration": 24,
    "start_time": "2022-09-05T19:41:24.543Z"
   },
   {
    "duration": 18,
    "start_time": "2022-09-05T19:46:42.622Z"
   },
   {
    "duration": 8,
    "start_time": "2022-09-05T19:51:16.073Z"
   },
   {
    "duration": 67,
    "start_time": "2022-09-05T19:55:05.283Z"
   },
   {
    "duration": 11,
    "start_time": "2022-09-05T19:57:07.040Z"
   },
   {
    "duration": 8,
    "start_time": "2022-09-05T19:57:16.084Z"
   },
   {
    "duration": 10,
    "start_time": "2022-09-05T19:57:29.501Z"
   },
   {
    "duration": 6,
    "start_time": "2022-09-05T19:57:38.297Z"
   },
   {
    "duration": 10,
    "start_time": "2022-09-05T19:57:56.117Z"
   },
   {
    "duration": 7,
    "start_time": "2022-09-05T19:57:59.235Z"
   },
   {
    "duration": 5,
    "start_time": "2022-09-05T19:58:14.151Z"
   },
   {
    "duration": 8,
    "start_time": "2022-09-05T19:58:19.042Z"
   },
   {
    "duration": 6,
    "start_time": "2022-09-05T19:59:10.568Z"
   },
   {
    "duration": 12,
    "start_time": "2022-09-05T20:02:18.302Z"
   },
   {
    "duration": 9,
    "start_time": "2022-09-05T20:03:37.877Z"
   },
   {
    "duration": 10,
    "start_time": "2022-09-05T20:04:00.035Z"
   },
   {
    "duration": 15,
    "start_time": "2022-09-05T20:05:16.149Z"
   },
   {
    "duration": 6,
    "start_time": "2022-09-05T20:06:28.904Z"
   },
   {
    "duration": 10,
    "start_time": "2022-09-05T20:06:59.896Z"
   },
   {
    "duration": 7,
    "start_time": "2022-09-05T20:08:54.642Z"
   },
   {
    "duration": 7,
    "start_time": "2022-09-05T20:10:10.971Z"
   },
   {
    "duration": 14,
    "start_time": "2022-09-05T20:10:17.081Z"
   },
   {
    "duration": 6,
    "start_time": "2022-09-05T20:11:26.903Z"
   },
   {
    "duration": 5,
    "start_time": "2022-09-05T20:11:31.474Z"
   },
   {
    "duration": 7,
    "start_time": "2022-09-05T20:11:38.205Z"
   },
   {
    "duration": 8,
    "start_time": "2022-09-05T20:11:38.478Z"
   },
   {
    "duration": 6,
    "start_time": "2022-09-05T20:11:40.835Z"
   },
   {
    "duration": 6,
    "start_time": "2022-09-05T20:11:41.104Z"
   },
   {
    "duration": 9,
    "start_time": "2022-09-05T20:11:41.439Z"
   },
   {
    "duration": 9,
    "start_time": "2022-09-05T20:12:11.283Z"
   },
   {
    "duration": 6,
    "start_time": "2022-09-05T20:12:11.642Z"
   },
   {
    "duration": 11,
    "start_time": "2022-09-05T20:12:45.083Z"
   },
   {
    "duration": 9,
    "start_time": "2022-09-05T20:12:45.283Z"
   },
   {
    "duration": 796,
    "start_time": "2022-09-06T14:59:57.146Z"
   },
   {
    "duration": 200,
    "start_time": "2022-09-06T14:59:57.944Z"
   },
   {
    "duration": 79,
    "start_time": "2022-09-06T14:59:58.145Z"
   },
   {
    "duration": 24,
    "start_time": "2022-09-06T14:59:58.526Z"
   },
   {
    "duration": 6,
    "start_time": "2022-09-06T14:59:59.374Z"
   },
   {
    "duration": 16,
    "start_time": "2022-09-06T14:59:59.718Z"
   },
   {
    "duration": 9,
    "start_time": "2022-09-06T15:01:42.246Z"
   },
   {
    "duration": 7,
    "start_time": "2022-09-06T15:01:51.778Z"
   },
   {
    "duration": 6,
    "start_time": "2022-09-06T15:01:52.356Z"
   },
   {
    "duration": 84,
    "start_time": "2022-09-06T15:02:15.926Z"
   },
   {
    "duration": 9,
    "start_time": "2022-09-06T15:04:08.306Z"
   },
   {
    "duration": 15,
    "start_time": "2022-09-06T15:05:36.533Z"
   },
   {
    "duration": 5,
    "start_time": "2022-09-06T15:09:23.882Z"
   },
   {
    "duration": 5,
    "start_time": "2022-09-06T15:14:21.089Z"
   },
   {
    "duration": 6,
    "start_time": "2022-09-06T15:14:22.926Z"
   },
   {
    "duration": 5,
    "start_time": "2022-09-06T15:14:55.605Z"
   },
   {
    "duration": 4,
    "start_time": "2022-09-06T15:14:55.626Z"
   },
   {
    "duration": 5,
    "start_time": "2022-09-06T15:15:02.655Z"
   },
   {
    "duration": 7,
    "start_time": "2022-09-06T15:15:02.737Z"
   },
   {
    "duration": 6,
    "start_time": "2022-09-06T15:15:06.992Z"
   },
   {
    "duration": 5,
    "start_time": "2022-09-06T15:15:24.526Z"
   },
   {
    "duration": 6,
    "start_time": "2022-09-06T15:15:25.249Z"
   },
   {
    "duration": 10,
    "start_time": "2022-09-06T15:15:28.815Z"
   },
   {
    "duration": 5,
    "start_time": "2022-09-06T15:15:29.945Z"
   },
   {
    "duration": 5,
    "start_time": "2022-09-06T15:15:30.317Z"
   },
   {
    "duration": 555,
    "start_time": "2022-09-06T15:15:40.759Z"
   },
   {
    "duration": 86,
    "start_time": "2022-09-06T15:15:41.316Z"
   },
   {
    "duration": 39,
    "start_time": "2022-09-06T15:15:41.403Z"
   },
   {
    "duration": 22,
    "start_time": "2022-09-06T15:15:41.444Z"
   },
   {
    "duration": 6,
    "start_time": "2022-09-06T15:15:41.468Z"
   },
   {
    "duration": 20,
    "start_time": "2022-09-06T15:15:41.475Z"
   },
   {
    "duration": 17,
    "start_time": "2022-09-06T15:15:41.496Z"
   },
   {
    "duration": 9,
    "start_time": "2022-09-06T15:15:41.515Z"
   },
   {
    "duration": 5,
    "start_time": "2022-09-06T15:15:41.525Z"
   },
   {
    "duration": 9,
    "start_time": "2022-09-06T15:15:41.532Z"
   },
   {
    "duration": 10,
    "start_time": "2022-09-06T15:15:41.543Z"
   },
   {
    "duration": 10,
    "start_time": "2022-09-06T15:15:41.555Z"
   },
   {
    "duration": 12,
    "start_time": "2022-09-06T15:15:41.567Z"
   },
   {
    "duration": 29,
    "start_time": "2022-09-06T15:15:41.581Z"
   },
   {
    "duration": 5,
    "start_time": "2022-09-06T15:15:41.611Z"
   },
   {
    "duration": 8,
    "start_time": "2022-09-06T15:15:41.618Z"
   },
   {
    "duration": 22,
    "start_time": "2022-09-06T15:15:41.628Z"
   },
   {
    "duration": 22,
    "start_time": "2022-09-06T15:16:01.722Z"
   },
   {
    "duration": 57,
    "start_time": "2022-09-06T15:19:26.055Z"
   },
   {
    "duration": 2648,
    "start_time": "2022-09-06T15:28:30.235Z"
   },
   {
    "duration": 5,
    "start_time": "2022-09-06T15:29:24.613Z"
   },
   {
    "duration": 72,
    "start_time": "2022-09-06T15:30:58.024Z"
   },
   {
    "duration": 1029,
    "start_time": "2022-09-06T15:31:15.534Z"
   },
   {
    "duration": 957,
    "start_time": "2022-09-06T15:31:44.545Z"
   },
   {
    "duration": 16,
    "start_time": "2022-09-06T15:32:08.013Z"
   },
   {
    "duration": 16,
    "start_time": "2022-09-06T15:32:22.787Z"
   },
   {
    "duration": 13,
    "start_time": "2022-09-06T15:33:04.454Z"
   },
   {
    "duration": 8,
    "start_time": "2022-09-06T15:34:14.155Z"
   },
   {
    "duration": 8,
    "start_time": "2022-09-06T15:34:18.210Z"
   },
   {
    "duration": 11,
    "start_time": "2022-09-06T15:35:21.816Z"
   },
   {
    "duration": 13,
    "start_time": "2022-09-06T15:40:14.777Z"
   },
   {
    "duration": 12,
    "start_time": "2022-09-06T15:41:01.484Z"
   },
   {
    "duration": 13,
    "start_time": "2022-09-06T15:41:51.906Z"
   },
   {
    "duration": 10,
    "start_time": "2022-09-06T15:42:06.484Z"
   },
   {
    "duration": 704,
    "start_time": "2022-09-06T15:43:30.080Z"
   },
   {
    "duration": 88,
    "start_time": "2022-09-06T15:43:30.786Z"
   },
   {
    "duration": 39,
    "start_time": "2022-09-06T15:43:30.876Z"
   },
   {
    "duration": 21,
    "start_time": "2022-09-06T15:43:30.916Z"
   },
   {
    "duration": 6,
    "start_time": "2022-09-06T15:43:30.940Z"
   },
   {
    "duration": 26,
    "start_time": "2022-09-06T15:43:30.948Z"
   },
   {
    "duration": 30,
    "start_time": "2022-09-06T15:43:30.975Z"
   },
   {
    "duration": 14,
    "start_time": "2022-09-06T15:43:31.007Z"
   },
   {
    "duration": 35,
    "start_time": "2022-09-06T15:43:31.022Z"
   },
   {
    "duration": 17,
    "start_time": "2022-09-06T15:43:31.059Z"
   },
   {
    "duration": 10,
    "start_time": "2022-09-06T15:43:31.078Z"
   },
   {
    "duration": 14,
    "start_time": "2022-09-06T15:43:31.090Z"
   },
   {
    "duration": 26,
    "start_time": "2022-09-06T15:43:31.106Z"
   },
   {
    "duration": 71,
    "start_time": "2022-09-06T15:43:31.135Z"
   },
   {
    "duration": 0,
    "start_time": "2022-09-06T15:43:31.208Z"
   },
   {
    "duration": 1,
    "start_time": "2022-09-06T15:43:31.209Z"
   },
   {
    "duration": 0,
    "start_time": "2022-09-06T15:43:31.211Z"
   },
   {
    "duration": 0,
    "start_time": "2022-09-06T15:43:31.212Z"
   },
   {
    "duration": 9,
    "start_time": "2022-09-06T15:43:38.706Z"
   },
   {
    "duration": 7,
    "start_time": "2022-09-06T15:43:42.508Z"
   },
   {
    "duration": 9,
    "start_time": "2022-09-06T15:43:43.608Z"
   },
   {
    "duration": 14,
    "start_time": "2022-09-06T15:43:49.779Z"
   },
   {
    "duration": 6,
    "start_time": "2022-09-06T15:43:51.377Z"
   },
   {
    "duration": 5,
    "start_time": "2022-09-06T15:43:51.980Z"
   },
   {
    "duration": 6,
    "start_time": "2022-09-06T15:43:52.845Z"
   },
   {
    "duration": 9,
    "start_time": "2022-09-06T15:43:53.989Z"
   },
   {
    "duration": 11,
    "start_time": "2022-09-06T15:43:54.459Z"
   },
   {
    "duration": 5,
    "start_time": "2022-09-06T15:44:16.237Z"
   },
   {
    "duration": 8,
    "start_time": "2022-09-06T15:44:28.291Z"
   },
   {
    "duration": 15,
    "start_time": "2022-09-06T15:44:37.337Z"
   },
   {
    "duration": 10,
    "start_time": "2022-09-06T15:46:24.857Z"
   },
   {
    "duration": 16,
    "start_time": "2022-09-06T15:47:15.736Z"
   },
   {
    "duration": 610,
    "start_time": "2022-09-06T16:18:34.159Z"
   },
   {
    "duration": 86,
    "start_time": "2022-09-06T16:18:34.771Z"
   },
   {
    "duration": 41,
    "start_time": "2022-09-06T16:18:34.858Z"
   },
   {
    "duration": 23,
    "start_time": "2022-09-06T16:18:34.901Z"
   },
   {
    "duration": 16,
    "start_time": "2022-09-06T16:18:34.926Z"
   },
   {
    "duration": 15,
    "start_time": "2022-09-06T16:18:34.944Z"
   },
   {
    "duration": 10,
    "start_time": "2022-09-06T16:18:34.960Z"
   },
   {
    "duration": 41,
    "start_time": "2022-09-06T16:18:34.971Z"
   },
   {
    "duration": 25,
    "start_time": "2022-09-06T16:18:35.014Z"
   },
   {
    "duration": 12,
    "start_time": "2022-09-06T16:18:35.041Z"
   },
   {
    "duration": 10,
    "start_time": "2022-09-06T16:18:35.055Z"
   },
   {
    "duration": 11,
    "start_time": "2022-09-06T16:18:35.066Z"
   },
   {
    "duration": 8,
    "start_time": "2022-09-06T16:18:35.078Z"
   },
   {
    "duration": 6,
    "start_time": "2022-09-06T16:18:35.089Z"
   },
   {
    "duration": 14,
    "start_time": "2022-09-06T16:18:35.108Z"
   },
   {
    "duration": 17,
    "start_time": "2022-09-06T16:18:35.123Z"
   },
   {
    "duration": 13,
    "start_time": "2022-09-06T16:18:35.142Z"
   },
   {
    "duration": 30,
    "start_time": "2022-09-06T16:18:35.156Z"
   },
   {
    "duration": 5,
    "start_time": "2022-09-06T16:18:35.188Z"
   },
   {
    "duration": 23,
    "start_time": "2022-09-06T16:18:35.194Z"
   },
   {
    "duration": 69,
    "start_time": "2022-09-06T16:29:08.555Z"
   },
   {
    "duration": 5,
    "start_time": "2022-09-06T16:29:13.026Z"
   },
   {
    "duration": 3,
    "start_time": "2022-09-06T16:31:30.715Z"
   },
   {
    "duration": 20,
    "start_time": "2022-09-06T16:31:35.608Z"
   },
   {
    "duration": 3,
    "start_time": "2022-09-06T16:32:05.755Z"
   },
   {
    "duration": 8,
    "start_time": "2022-09-06T16:32:07.438Z"
   },
   {
    "duration": 17,
    "start_time": "2022-09-06T16:32:07.922Z"
   },
   {
    "duration": 15,
    "start_time": "2022-09-06T16:32:29.127Z"
   },
   {
    "duration": 8,
    "start_time": "2022-09-06T16:32:31.036Z"
   },
   {
    "duration": 11,
    "start_time": "2022-09-06T16:32:35.428Z"
   },
   {
    "duration": 10,
    "start_time": "2022-09-06T16:32:38.006Z"
   },
   {
    "duration": 5,
    "start_time": "2022-09-06T16:32:38.557Z"
   },
   {
    "duration": 5,
    "start_time": "2022-09-06T16:32:39.036Z"
   },
   {
    "duration": 11,
    "start_time": "2022-09-06T16:32:41.124Z"
   },
   {
    "duration": 1310,
    "start_time": "2022-09-06T16:32:42.880Z"
   },
   {
    "duration": 7,
    "start_time": "2022-09-06T16:32:48.235Z"
   },
   {
    "duration": 1971,
    "start_time": "2022-09-06T16:32:59.668Z"
   },
   {
    "duration": 13,
    "start_time": "2022-09-06T16:33:04.719Z"
   },
   {
    "duration": 10,
    "start_time": "2022-09-06T17:46:03.991Z"
   },
   {
    "duration": 831,
    "start_time": "2022-09-07T16:11:52.202Z"
   },
   {
    "duration": 255,
    "start_time": "2022-09-07T16:11:53.035Z"
   },
   {
    "duration": 77,
    "start_time": "2022-09-07T16:11:53.291Z"
   },
   {
    "duration": 22,
    "start_time": "2022-09-07T16:11:53.370Z"
   },
   {
    "duration": 19,
    "start_time": "2022-09-07T16:11:53.393Z"
   },
   {
    "duration": 41,
    "start_time": "2022-09-07T16:11:53.414Z"
   },
   {
    "duration": 23,
    "start_time": "2022-09-07T16:11:53.457Z"
   },
   {
    "duration": 23,
    "start_time": "2022-09-07T16:11:53.481Z"
   },
   {
    "duration": 25,
    "start_time": "2022-09-07T16:11:53.505Z"
   },
   {
    "duration": 27,
    "start_time": "2022-09-07T16:11:53.533Z"
   },
   {
    "duration": 30,
    "start_time": "2022-09-07T16:11:53.561Z"
   },
   {
    "duration": 6,
    "start_time": "2022-09-07T16:11:53.592Z"
   },
   {
    "duration": 30,
    "start_time": "2022-09-07T16:11:53.600Z"
   },
   {
    "duration": 10,
    "start_time": "2022-09-07T16:11:53.631Z"
   },
   {
    "duration": 20,
    "start_time": "2022-09-07T16:11:53.642Z"
   },
   {
    "duration": 13,
    "start_time": "2022-09-07T16:11:53.663Z"
   },
   {
    "duration": 22,
    "start_time": "2022-09-07T16:11:53.677Z"
   },
   {
    "duration": 29,
    "start_time": "2022-09-07T16:11:53.700Z"
   },
   {
    "duration": 29,
    "start_time": "2022-09-07T16:11:53.730Z"
   },
   {
    "duration": 26,
    "start_time": "2022-09-07T16:11:53.761Z"
   },
   {
    "duration": 6,
    "start_time": "2022-09-07T16:11:53.788Z"
   },
   {
    "duration": 21,
    "start_time": "2022-09-07T16:11:53.795Z"
   },
   {
    "duration": 66,
    "start_time": "2022-09-07T16:13:41.845Z"
   },
   {
    "duration": 3,
    "start_time": "2022-09-07T16:14:04.989Z"
   },
   {
    "duration": 78,
    "start_time": "2022-09-07T16:14:05.440Z"
   },
   {
    "duration": 36,
    "start_time": "2022-09-07T16:14:05.805Z"
   },
   {
    "duration": 19,
    "start_time": "2022-09-07T16:14:06.301Z"
   },
   {
    "duration": 11,
    "start_time": "2022-09-07T16:14:10.159Z"
   },
   {
    "duration": 13,
    "start_time": "2022-09-07T16:15:12.774Z"
   },
   {
    "duration": 13,
    "start_time": "2022-09-07T16:15:20.834Z"
   },
   {
    "duration": 19,
    "start_time": "2022-09-07T16:15:59.818Z"
   },
   {
    "duration": 12,
    "start_time": "2022-09-07T16:16:12.517Z"
   },
   {
    "duration": 14,
    "start_time": "2022-09-07T16:22:04.156Z"
   },
   {
    "duration": 374,
    "start_time": "2022-09-07T16:22:56.580Z"
   },
   {
    "duration": 373,
    "start_time": "2022-09-07T16:23:44.095Z"
   },
   {
    "duration": 80,
    "start_time": "2022-09-07T16:24:32.610Z"
   },
   {
    "duration": 36,
    "start_time": "2022-09-07T16:24:32.870Z"
   },
   {
    "duration": 482,
    "start_time": "2022-09-07T16:24:33.167Z"
   },
   {
    "duration": 12,
    "start_time": "2022-09-07T16:26:25.487Z"
   },
   {
    "duration": 5,
    "start_time": "2022-09-07T16:26:49.897Z"
   },
   {
    "duration": 3,
    "start_time": "2022-09-07T16:28:29.054Z"
   },
   {
    "duration": 77,
    "start_time": "2022-09-07T16:28:29.471Z"
   },
   {
    "duration": 36,
    "start_time": "2022-09-07T16:28:30.074Z"
   },
   {
    "duration": 10,
    "start_time": "2022-09-07T16:28:32.195Z"
   },
   {
    "duration": 11,
    "start_time": "2022-09-07T16:28:34.501Z"
   },
   {
    "duration": 11,
    "start_time": "2022-09-07T16:29:16.306Z"
   },
   {
    "duration": 10,
    "start_time": "2022-09-07T16:29:52.046Z"
   },
   {
    "duration": 5,
    "start_time": "2022-09-07T16:30:21.591Z"
   },
   {
    "duration": 4,
    "start_time": "2022-09-07T16:30:50.288Z"
   },
   {
    "duration": 5,
    "start_time": "2022-09-07T16:30:59.466Z"
   },
   {
    "duration": 85734,
    "start_time": "2022-09-07T16:35:31.863Z"
   },
   {
    "duration": 10,
    "start_time": "2022-09-07T16:36:57.630Z"
   },
   {
    "duration": 14,
    "start_time": "2022-09-07T16:36:57.642Z"
   },
   {
    "duration": 0,
    "start_time": "2022-09-07T16:36:57.657Z"
   },
   {
    "duration": 5,
    "start_time": "2022-09-07T16:52:45.772Z"
   },
   {
    "duration": 29,
    "start_time": "2022-09-07T16:52:46.132Z"
   },
   {
    "duration": 11,
    "start_time": "2022-09-07T16:52:56.922Z"
   },
   {
    "duration": 14,
    "start_time": "2022-09-07T16:53:23.329Z"
   },
   {
    "duration": 19,
    "start_time": "2022-09-07T16:53:37.603Z"
   },
   {
    "duration": 7,
    "start_time": "2022-09-07T16:53:40.624Z"
   },
   {
    "duration": 12,
    "start_time": "2022-09-07T16:53:43.580Z"
   },
   {
    "duration": 4,
    "start_time": "2022-09-07T16:53:45.363Z"
   },
   {
    "duration": 4,
    "start_time": "2022-09-07T16:53:45.785Z"
   },
   {
    "duration": 5,
    "start_time": "2022-09-07T16:53:48.760Z"
   },
   {
    "duration": 11,
    "start_time": "2022-09-07T16:53:55.351Z"
   },
   {
    "duration": 10,
    "start_time": "2022-09-07T16:53:55.740Z"
   },
   {
    "duration": 13,
    "start_time": "2022-09-07T16:54:07.875Z"
   },
   {
    "duration": 18,
    "start_time": "2022-09-07T16:54:25.023Z"
   },
   {
    "duration": 3,
    "start_time": "2022-09-07T16:54:26.700Z"
   },
   {
    "duration": 6,
    "start_time": "2022-09-07T16:54:27.905Z"
   },
   {
    "duration": 5,
    "start_time": "2022-09-07T16:54:38.546Z"
   },
   {
    "duration": 9,
    "start_time": "2022-09-07T16:57:35.476Z"
   },
   {
    "duration": 23,
    "start_time": "2022-09-07T16:58:04.460Z"
   },
   {
    "duration": 10,
    "start_time": "2022-09-07T16:59:14.767Z"
   },
   {
    "duration": 11,
    "start_time": "2022-09-07T17:01:50.246Z"
   },
   {
    "duration": 5,
    "start_time": "2022-09-07T17:02:50.132Z"
   },
   {
    "duration": 12,
    "start_time": "2022-09-07T17:04:30.375Z"
   },
   {
    "duration": 109,
    "start_time": "2022-09-07T17:04:49.931Z"
   },
   {
    "duration": 122,
    "start_time": "2022-09-07T17:05:07.840Z"
   },
   {
    "duration": 5,
    "start_time": "2022-09-07T17:09:44.027Z"
   },
   {
    "duration": 7,
    "start_time": "2022-09-07T17:09:44.543Z"
   },
   {
    "duration": 4,
    "start_time": "2022-09-07T17:09:53.330Z"
   },
   {
    "duration": 5,
    "start_time": "2022-09-07T17:11:00.277Z"
   },
   {
    "duration": 6,
    "start_time": "2022-09-07T17:11:31.743Z"
   },
   {
    "duration": 10,
    "start_time": "2022-09-07T17:13:35.210Z"
   },
   {
    "duration": 1156,
    "start_time": "2022-09-07T17:14:20.615Z"
   },
   {
    "duration": 7,
    "start_time": "2022-09-07T17:14:30.698Z"
   },
   {
    "duration": 8,
    "start_time": "2022-09-07T17:14:46.923Z"
   },
   {
    "duration": 1117,
    "start_time": "2022-09-07T17:15:19.622Z"
   },
   {
    "duration": 5,
    "start_time": "2022-09-07T17:15:23.215Z"
   },
   {
    "duration": 4,
    "start_time": "2022-09-07T17:15:52.117Z"
   },
   {
    "duration": 6,
    "start_time": "2022-09-07T17:15:53.338Z"
   },
   {
    "duration": 5,
    "start_time": "2022-09-07T17:15:53.656Z"
   },
   {
    "duration": 6,
    "start_time": "2022-09-07T17:16:10.392Z"
   },
   {
    "duration": 4,
    "start_time": "2022-09-07T17:16:11.924Z"
   },
   {
    "duration": 4,
    "start_time": "2022-09-07T17:20:30.962Z"
   },
   {
    "duration": 14,
    "start_time": "2022-09-07T17:28:20.466Z"
   },
   {
    "duration": 5,
    "start_time": "2022-09-07T17:29:13.249Z"
   },
   {
    "duration": 14,
    "start_time": "2022-09-07T17:33:31.636Z"
   },
   {
    "duration": 5,
    "start_time": "2022-09-07T17:34:05.449Z"
   },
   {
    "duration": 5,
    "start_time": "2022-09-07T17:34:47.318Z"
   },
   {
    "duration": 773,
    "start_time": "2022-09-09T15:28:28.245Z"
   },
   {
    "duration": 202,
    "start_time": "2022-09-09T15:28:29.020Z"
   },
   {
    "duration": 75,
    "start_time": "2022-09-09T15:28:29.224Z"
   },
   {
    "duration": 6,
    "start_time": "2022-09-09T15:28:29.301Z"
   },
   {
    "duration": 34,
    "start_time": "2022-09-09T15:28:29.308Z"
   },
   {
    "duration": 31,
    "start_time": "2022-09-09T15:28:29.344Z"
   },
   {
    "duration": 51,
    "start_time": "2022-09-09T15:28:29.377Z"
   },
   {
    "duration": 20,
    "start_time": "2022-09-09T15:28:29.430Z"
   },
   {
    "duration": 29,
    "start_time": "2022-09-09T15:28:29.452Z"
   },
   {
    "duration": 30,
    "start_time": "2022-09-09T15:28:29.484Z"
   },
   {
    "duration": 35,
    "start_time": "2022-09-09T15:28:29.516Z"
   },
   {
    "duration": 41,
    "start_time": "2022-09-09T15:28:29.553Z"
   },
   {
    "duration": 25,
    "start_time": "2022-09-09T15:28:29.597Z"
   },
   {
    "duration": 35,
    "start_time": "2022-09-09T15:28:29.624Z"
   },
   {
    "duration": 43,
    "start_time": "2022-09-09T15:28:29.661Z"
   },
   {
    "duration": 16,
    "start_time": "2022-09-09T15:28:29.706Z"
   },
   {
    "duration": 145,
    "start_time": "2022-09-09T15:28:29.723Z"
   },
   {
    "duration": 4,
    "start_time": "2022-09-09T15:28:29.870Z"
   },
   {
    "duration": 27,
    "start_time": "2022-09-09T15:28:29.875Z"
   },
   {
    "duration": 42,
    "start_time": "2022-09-09T15:28:29.903Z"
   },
   {
    "duration": 16,
    "start_time": "2022-09-09T15:28:29.947Z"
   },
   {
    "duration": 92,
    "start_time": "2022-09-09T15:28:29.965Z"
   },
   {
    "duration": 0,
    "start_time": "2022-09-09T15:28:30.059Z"
   },
   {
    "duration": 16,
    "start_time": "2022-09-09T15:29:20.182Z"
   },
   {
    "duration": 6,
    "start_time": "2022-09-09T15:29:34.220Z"
   },
   {
    "duration": 13,
    "start_time": "2022-09-09T15:30:17.758Z"
   },
   {
    "duration": 3,
    "start_time": "2022-09-09T15:30:28.761Z"
   },
   {
    "duration": 16,
    "start_time": "2022-09-09T15:30:56.929Z"
   },
   {
    "duration": 66,
    "start_time": "2022-09-09T15:31:26.944Z"
   },
   {
    "duration": 9,
    "start_time": "2022-09-09T15:34:45.962Z"
   },
   {
    "duration": 8,
    "start_time": "2022-09-09T15:34:49.969Z"
   },
   {
    "duration": 13,
    "start_time": "2022-09-09T15:34:54.899Z"
   },
   {
    "duration": 5,
    "start_time": "2022-09-09T15:35:02.866Z"
   },
   {
    "duration": 597,
    "start_time": "2022-09-09T15:35:19.482Z"
   },
   {
    "duration": 10,
    "start_time": "2022-09-09T15:37:06.831Z"
   },
   {
    "duration": 58,
    "start_time": "2022-09-09T15:37:41.533Z"
   },
   {
    "duration": 8,
    "start_time": "2022-09-09T15:37:52.242Z"
   },
   {
    "duration": 8,
    "start_time": "2022-09-09T15:40:17.886Z"
   },
   {
    "duration": 11,
    "start_time": "2022-09-09T15:40:26.594Z"
   },
   {
    "duration": 4,
    "start_time": "2022-09-09T15:40:39.767Z"
   },
   {
    "duration": 7,
    "start_time": "2022-09-09T15:44:24.450Z"
   },
   {
    "duration": 8,
    "start_time": "2022-09-09T15:46:11.561Z"
   },
   {
    "duration": 13,
    "start_time": "2022-09-09T15:46:20.867Z"
   },
   {
    "duration": 9,
    "start_time": "2022-09-09T15:46:47.963Z"
   },
   {
    "duration": 11,
    "start_time": "2022-09-09T15:47:18.702Z"
   },
   {
    "duration": 30,
    "start_time": "2022-09-09T15:47:28.890Z"
   },
   {
    "duration": 30,
    "start_time": "2022-09-09T15:47:42.049Z"
   },
   {
    "duration": 9,
    "start_time": "2022-09-09T15:48:00.840Z"
   },
   {
    "duration": 8,
    "start_time": "2022-09-09T15:49:53.649Z"
   },
   {
    "duration": 23,
    "start_time": "2022-09-09T15:57:07.271Z"
   },
   {
    "duration": 5,
    "start_time": "2022-09-09T15:59:17.768Z"
   },
   {
    "duration": 5,
    "start_time": "2022-09-09T15:59:20.747Z"
   },
   {
    "duration": 4,
    "start_time": "2022-09-09T15:59:23.487Z"
   },
   {
    "duration": 4,
    "start_time": "2022-09-09T15:59:23.799Z"
   },
   {
    "duration": 3,
    "start_time": "2022-09-09T15:59:26.578Z"
   },
   {
    "duration": 5,
    "start_time": "2022-09-09T15:59:26.814Z"
   },
   {
    "duration": 8,
    "start_time": "2022-09-09T15:59:27.215Z"
   },
   {
    "duration": 564,
    "start_time": "2022-09-09T15:59:38.475Z"
   },
   {
    "duration": 85,
    "start_time": "2022-09-09T15:59:39.041Z"
   },
   {
    "duration": 39,
    "start_time": "2022-09-09T15:59:39.128Z"
   },
   {
    "duration": 5,
    "start_time": "2022-09-09T15:59:39.169Z"
   },
   {
    "duration": 19,
    "start_time": "2022-09-09T15:59:39.175Z"
   },
   {
    "duration": 17,
    "start_time": "2022-09-09T15:59:39.196Z"
   },
   {
    "duration": 13,
    "start_time": "2022-09-09T15:59:39.215Z"
   },
   {
    "duration": 8,
    "start_time": "2022-09-09T15:59:39.230Z"
   },
   {
    "duration": 16,
    "start_time": "2022-09-09T15:59:39.239Z"
   },
   {
    "duration": 8,
    "start_time": "2022-09-09T15:59:39.257Z"
   },
   {
    "duration": 12,
    "start_time": "2022-09-09T15:59:39.267Z"
   },
   {
    "duration": 13,
    "start_time": "2022-09-09T15:59:39.280Z"
   },
   {
    "duration": 16,
    "start_time": "2022-09-09T15:59:39.294Z"
   },
   {
    "duration": 11,
    "start_time": "2022-09-09T15:59:39.311Z"
   },
   {
    "duration": 23,
    "start_time": "2022-09-09T15:59:39.324Z"
   },
   {
    "duration": 5,
    "start_time": "2022-09-09T15:59:39.349Z"
   },
   {
    "duration": 151,
    "start_time": "2022-09-09T15:59:39.356Z"
   },
   {
    "duration": 6,
    "start_time": "2022-09-09T15:59:39.508Z"
   },
   {
    "duration": 21,
    "start_time": "2022-09-09T15:59:39.516Z"
   },
   {
    "duration": 5,
    "start_time": "2022-09-09T15:59:39.539Z"
   },
   {
    "duration": 7,
    "start_time": "2022-09-09T15:59:39.548Z"
   },
   {
    "duration": 13,
    "start_time": "2022-09-09T15:59:39.556Z"
   },
   {
    "duration": 41,
    "start_time": "2022-09-09T15:59:39.570Z"
   },
   {
    "duration": 0,
    "start_time": "2022-09-09T15:59:39.612Z"
   },
   {
    "duration": 0,
    "start_time": "2022-09-09T15:59:39.614Z"
   },
   {
    "duration": 4,
    "start_time": "2022-09-09T16:00:15.343Z"
   },
   {
    "duration": 5,
    "start_time": "2022-09-09T16:00:15.908Z"
   },
   {
    "duration": 4,
    "start_time": "2022-09-09T16:00:19.909Z"
   },
   {
    "duration": 6,
    "start_time": "2022-09-09T16:00:21.424Z"
   },
   {
    "duration": 5,
    "start_time": "2022-09-09T16:00:22.482Z"
   },
   {
    "duration": 10,
    "start_time": "2022-09-09T16:01:50.729Z"
   },
   {
    "duration": 12,
    "start_time": "2022-09-09T16:01:52.171Z"
   },
   {
    "duration": 95,
    "start_time": "2022-09-09T16:04:01.584Z"
   },
   {
    "duration": 648,
    "start_time": "2022-09-09T16:04:25.400Z"
   },
   {
    "duration": 84,
    "start_time": "2022-09-09T16:04:26.050Z"
   },
   {
    "duration": 39,
    "start_time": "2022-09-09T16:04:26.136Z"
   },
   {
    "duration": 5,
    "start_time": "2022-09-09T16:04:26.177Z"
   },
   {
    "duration": 17,
    "start_time": "2022-09-09T16:04:26.183Z"
   },
   {
    "duration": 18,
    "start_time": "2022-09-09T16:04:26.201Z"
   },
   {
    "duration": 15,
    "start_time": "2022-09-09T16:04:26.220Z"
   },
   {
    "duration": 10,
    "start_time": "2022-09-09T16:04:26.237Z"
   },
   {
    "duration": 18,
    "start_time": "2022-09-09T16:04:26.249Z"
   },
   {
    "duration": 4,
    "start_time": "2022-09-09T16:04:26.269Z"
   },
   {
    "duration": 21,
    "start_time": "2022-09-09T16:04:26.274Z"
   },
   {
    "duration": 15,
    "start_time": "2022-09-09T16:04:26.297Z"
   },
   {
    "duration": 55,
    "start_time": "2022-09-09T16:04:26.314Z"
   },
   {
    "duration": 39,
    "start_time": "2022-09-09T16:04:26.370Z"
   },
   {
    "duration": 24,
    "start_time": "2022-09-09T16:04:26.411Z"
   },
   {
    "duration": 4,
    "start_time": "2022-09-09T16:04:26.436Z"
   },
   {
    "duration": 144,
    "start_time": "2022-09-09T16:04:26.442Z"
   },
   {
    "duration": 5,
    "start_time": "2022-09-09T16:04:26.587Z"
   },
   {
    "duration": 10,
    "start_time": "2022-09-09T16:04:26.593Z"
   },
   {
    "duration": 7,
    "start_time": "2022-09-09T16:04:26.605Z"
   },
   {
    "duration": 7,
    "start_time": "2022-09-09T16:04:26.614Z"
   },
   {
    "duration": 20,
    "start_time": "2022-09-09T16:04:26.622Z"
   },
   {
    "duration": 85,
    "start_time": "2022-09-09T16:04:26.644Z"
   },
   {
    "duration": 0,
    "start_time": "2022-09-09T16:04:26.731Z"
   },
   {
    "duration": 0,
    "start_time": "2022-09-09T16:04:26.732Z"
   },
   {
    "duration": 6,
    "start_time": "2022-09-09T16:04:29.470Z"
   },
   {
    "duration": 18,
    "start_time": "2022-09-09T16:04:50.916Z"
   },
   {
    "duration": 4,
    "start_time": "2022-09-09T16:10:57.842Z"
   },
   {
    "duration": 17,
    "start_time": "2022-09-09T16:11:01.115Z"
   },
   {
    "duration": 627,
    "start_time": "2022-09-09T16:11:13.061Z"
   },
   {
    "duration": 86,
    "start_time": "2022-09-09T16:11:13.694Z"
   },
   {
    "duration": 39,
    "start_time": "2022-09-09T16:11:13.782Z"
   },
   {
    "duration": 5,
    "start_time": "2022-09-09T16:11:13.823Z"
   },
   {
    "duration": 56,
    "start_time": "2022-09-09T16:11:13.830Z"
   },
   {
    "duration": 19,
    "start_time": "2022-09-09T16:11:13.888Z"
   },
   {
    "duration": 16,
    "start_time": "2022-09-09T16:11:13.909Z"
   },
   {
    "duration": 13,
    "start_time": "2022-09-09T16:11:13.927Z"
   },
   {
    "duration": 17,
    "start_time": "2022-09-09T16:11:13.942Z"
   },
   {
    "duration": 5,
    "start_time": "2022-09-09T16:11:13.964Z"
   },
   {
    "duration": 9,
    "start_time": "2022-09-09T16:11:13.971Z"
   },
   {
    "duration": 12,
    "start_time": "2022-09-09T16:11:13.982Z"
   },
   {
    "duration": 17,
    "start_time": "2022-09-09T16:11:13.995Z"
   },
   {
    "duration": 24,
    "start_time": "2022-09-09T16:11:14.014Z"
   },
   {
    "duration": 26,
    "start_time": "2022-09-09T16:11:14.040Z"
   },
   {
    "duration": 6,
    "start_time": "2022-09-09T16:11:14.068Z"
   },
   {
    "duration": 152,
    "start_time": "2022-09-09T16:11:14.076Z"
   },
   {
    "duration": 8,
    "start_time": "2022-09-09T16:11:14.231Z"
   },
   {
    "duration": 11,
    "start_time": "2022-09-09T16:11:14.241Z"
   },
   {
    "duration": 15,
    "start_time": "2022-09-09T16:11:14.254Z"
   },
   {
    "duration": 9,
    "start_time": "2022-09-09T16:11:14.271Z"
   },
   {
    "duration": 13,
    "start_time": "2022-09-09T16:11:14.281Z"
   },
   {
    "duration": 69,
    "start_time": "2022-09-09T16:11:14.296Z"
   },
   {
    "duration": 0,
    "start_time": "2022-09-09T16:11:14.366Z"
   },
   {
    "duration": 0,
    "start_time": "2022-09-09T16:11:14.368Z"
   },
   {
    "duration": 0,
    "start_time": "2022-09-09T16:11:14.368Z"
   },
   {
    "duration": 23,
    "start_time": "2022-09-09T16:11:22.303Z"
   },
   {
    "duration": 7,
    "start_time": "2022-09-09T16:11:39.919Z"
   },
   {
    "duration": 28,
    "start_time": "2022-09-09T16:11:40.386Z"
   },
   {
    "duration": 50,
    "start_time": "2022-09-09T16:13:12.558Z"
   },
   {
    "duration": 70,
    "start_time": "2022-09-09T16:13:31.923Z"
   },
   {
    "duration": 55,
    "start_time": "2022-09-09T16:15:27.680Z"
   },
   {
    "duration": 44,
    "start_time": "2022-09-09T16:21:42.746Z"
   },
   {
    "duration": 53,
    "start_time": "2022-09-09T16:21:53.862Z"
   },
   {
    "duration": 51,
    "start_time": "2022-09-09T16:22:04.382Z"
   },
   {
    "duration": 9,
    "start_time": "2022-09-09T16:22:34.984Z"
   },
   {
    "duration": 4,
    "start_time": "2022-09-09T16:25:04.146Z"
   },
   {
    "duration": 4,
    "start_time": "2022-09-09T16:25:24.992Z"
   },
   {
    "duration": 18,
    "start_time": "2022-09-09T16:25:27.842Z"
   },
   {
    "duration": 28,
    "start_time": "2022-09-09T16:26:00.696Z"
   },
   {
    "duration": 4,
    "start_time": "2022-09-09T16:27:21.484Z"
   },
   {
    "duration": 4,
    "start_time": "2022-09-09T16:27:21.692Z"
   },
   {
    "duration": 6,
    "start_time": "2022-09-09T16:31:27.952Z"
   },
   {
    "duration": 11,
    "start_time": "2022-09-09T16:33:08.631Z"
   },
   {
    "duration": 114,
    "start_time": "2022-09-09T16:34:48.732Z"
   },
   {
    "duration": 106,
    "start_time": "2022-09-09T16:35:03.887Z"
   },
   {
    "duration": 8,
    "start_time": "2022-09-09T16:35:31.519Z"
   },
   {
    "duration": 19,
    "start_time": "2022-09-09T16:37:58.486Z"
   },
   {
    "duration": 14,
    "start_time": "2022-09-09T16:38:21.704Z"
   },
   {
    "duration": 6,
    "start_time": "2022-09-09T16:42:14.441Z"
   },
   {
    "duration": 22,
    "start_time": "2022-09-09T16:42:21.795Z"
   },
   {
    "duration": 154,
    "start_time": "2022-09-09T16:43:52.673Z"
   },
   {
    "duration": 115,
    "start_time": "2022-09-09T16:43:56.660Z"
   },
   {
    "duration": 55,
    "start_time": "2022-09-09T16:46:17.685Z"
   },
   {
    "duration": 3,
    "start_time": "2022-09-09T16:46:54.890Z"
   },
   {
    "duration": 189,
    "start_time": "2022-09-09T16:47:55.167Z"
   },
   {
    "duration": 4,
    "start_time": "2022-09-09T16:48:17.747Z"
   },
   {
    "duration": 283,
    "start_time": "2022-09-09T16:48:18.170Z"
   },
   {
    "duration": 649,
    "start_time": "2022-09-09T16:48:44.855Z"
   },
   {
    "duration": 87,
    "start_time": "2022-09-09T16:48:45.506Z"
   },
   {
    "duration": 39,
    "start_time": "2022-09-09T16:48:45.595Z"
   },
   {
    "duration": 6,
    "start_time": "2022-09-09T16:48:45.637Z"
   },
   {
    "duration": 16,
    "start_time": "2022-09-09T16:48:45.645Z"
   },
   {
    "duration": 20,
    "start_time": "2022-09-09T16:48:45.663Z"
   },
   {
    "duration": 18,
    "start_time": "2022-09-09T16:48:45.685Z"
   },
   {
    "duration": 32,
    "start_time": "2022-09-09T16:48:45.705Z"
   },
   {
    "duration": 13,
    "start_time": "2022-09-09T16:48:45.739Z"
   },
   {
    "duration": 5,
    "start_time": "2022-09-09T16:48:45.755Z"
   },
   {
    "duration": 11,
    "start_time": "2022-09-09T16:48:45.762Z"
   },
   {
    "duration": 5,
    "start_time": "2022-09-09T16:48:45.775Z"
   },
   {
    "duration": 13,
    "start_time": "2022-09-09T16:48:45.782Z"
   },
   {
    "duration": 50,
    "start_time": "2022-09-09T16:48:45.797Z"
   },
   {
    "duration": 25,
    "start_time": "2022-09-09T16:48:45.850Z"
   },
   {
    "duration": 8,
    "start_time": "2022-09-09T16:48:45.877Z"
   },
   {
    "duration": 157,
    "start_time": "2022-09-09T16:48:45.886Z"
   },
   {
    "duration": 8,
    "start_time": "2022-09-09T16:48:46.045Z"
   },
   {
    "duration": 7,
    "start_time": "2022-09-09T16:48:46.055Z"
   },
   {
    "duration": 13,
    "start_time": "2022-09-09T16:48:46.064Z"
   },
   {
    "duration": 15,
    "start_time": "2022-09-09T16:48:46.079Z"
   },
   {
    "duration": 11,
    "start_time": "2022-09-09T16:48:46.095Z"
   },
   {
    "duration": 8,
    "start_time": "2022-09-09T16:48:46.108Z"
   },
   {
    "duration": 3,
    "start_time": "2022-09-09T16:48:46.138Z"
   },
   {
    "duration": 328,
    "start_time": "2022-09-09T16:48:46.143Z"
   },
   {
    "duration": 0,
    "start_time": "2022-09-09T16:48:46.473Z"
   },
   {
    "duration": 0,
    "start_time": "2022-09-09T16:48:46.474Z"
   },
   {
    "duration": 0,
    "start_time": "2022-09-09T16:48:46.476Z"
   },
   {
    "duration": 0,
    "start_time": "2022-09-09T16:48:46.477Z"
   },
   {
    "duration": 3,
    "start_time": "2022-09-09T16:48:51.384Z"
   },
   {
    "duration": 234,
    "start_time": "2022-09-09T16:48:51.614Z"
   },
   {
    "duration": 2,
    "start_time": "2022-09-09T16:50:44.338Z"
   },
   {
    "duration": 241,
    "start_time": "2022-09-09T16:50:44.554Z"
   },
   {
    "duration": 4,
    "start_time": "2022-09-09T16:50:54.288Z"
   },
   {
    "duration": 198,
    "start_time": "2022-09-09T16:50:54.502Z"
   },
   {
    "duration": 855,
    "start_time": "2022-09-09T16:53:27.615Z"
   },
   {
    "duration": 200,
    "start_time": "2022-09-09T16:53:44.474Z"
   },
   {
    "duration": 2,
    "start_time": "2022-09-09T17:03:07.707Z"
   },
   {
    "duration": 86,
    "start_time": "2022-09-09T17:03:07.986Z"
   },
   {
    "duration": 40,
    "start_time": "2022-09-09T17:03:08.296Z"
   },
   {
    "duration": 6,
    "start_time": "2022-09-09T17:03:08.671Z"
   },
   {
    "duration": 11,
    "start_time": "2022-09-09T17:03:09.024Z"
   },
   {
    "duration": 14,
    "start_time": "2022-09-09T17:03:25.930Z"
   },
   {
    "duration": 15,
    "start_time": "2022-09-09T17:03:28.510Z"
   },
   {
    "duration": 10,
    "start_time": "2022-09-09T17:06:28.918Z"
   },
   {
    "duration": 16,
    "start_time": "2022-09-09T17:07:02.371Z"
   },
   {
    "duration": 12,
    "start_time": "2022-09-09T17:07:24.810Z"
   },
   {
    "duration": 648,
    "start_time": "2022-09-09T17:07:32.816Z"
   },
   {
    "duration": 84,
    "start_time": "2022-09-09T17:07:33.465Z"
   },
   {
    "duration": 39,
    "start_time": "2022-09-09T17:07:33.550Z"
   },
   {
    "duration": 6,
    "start_time": "2022-09-09T17:07:33.590Z"
   },
   {
    "duration": 16,
    "start_time": "2022-09-09T17:07:33.597Z"
   },
   {
    "duration": 17,
    "start_time": "2022-09-09T17:07:33.614Z"
   },
   {
    "duration": 15,
    "start_time": "2022-09-09T17:07:33.633Z"
   },
   {
    "duration": 7,
    "start_time": "2022-09-09T17:07:33.649Z"
   },
   {
    "duration": 14,
    "start_time": "2022-09-09T17:07:33.657Z"
   },
   {
    "duration": 4,
    "start_time": "2022-09-09T17:07:33.674Z"
   },
   {
    "duration": 10,
    "start_time": "2022-09-09T17:07:33.680Z"
   },
   {
    "duration": 8,
    "start_time": "2022-09-09T17:07:33.691Z"
   },
   {
    "duration": 16,
    "start_time": "2022-09-09T17:07:33.701Z"
   },
   {
    "duration": 19,
    "start_time": "2022-09-09T17:07:33.719Z"
   },
   {
    "duration": 23,
    "start_time": "2022-09-09T17:07:33.739Z"
   },
   {
    "duration": 4,
    "start_time": "2022-09-09T17:07:33.764Z"
   },
   {
    "duration": 152,
    "start_time": "2022-09-09T17:07:33.769Z"
   },
   {
    "duration": 4,
    "start_time": "2022-09-09T17:07:33.923Z"
   },
   {
    "duration": 6,
    "start_time": "2022-09-09T17:07:33.936Z"
   },
   {
    "duration": 11,
    "start_time": "2022-09-09T17:07:33.943Z"
   },
   {
    "duration": 7,
    "start_time": "2022-09-09T17:07:33.956Z"
   },
   {
    "duration": 11,
    "start_time": "2022-09-09T17:07:33.964Z"
   },
   {
    "duration": 7,
    "start_time": "2022-09-09T17:07:33.976Z"
   },
   {
    "duration": 6,
    "start_time": "2022-09-09T17:07:33.984Z"
   },
   {
    "duration": 403,
    "start_time": "2022-09-09T17:07:33.992Z"
   },
   {
    "duration": 0,
    "start_time": "2022-09-09T17:07:34.397Z"
   },
   {
    "duration": 0,
    "start_time": "2022-09-09T17:07:34.398Z"
   },
   {
    "duration": 0,
    "start_time": "2022-09-09T17:07:34.399Z"
   },
   {
    "duration": 0,
    "start_time": "2022-09-09T17:07:34.400Z"
   },
   {
    "duration": 0,
    "start_time": "2022-09-09T17:07:34.401Z"
   },
   {
    "duration": 153,
    "start_time": "2022-09-09T17:07:37.675Z"
   },
   {
    "duration": 140,
    "start_time": "2022-09-09T17:08:14.240Z"
   },
   {
    "duration": 137,
    "start_time": "2022-09-09T17:08:25.448Z"
   },
   {
    "duration": 161,
    "start_time": "2022-09-09T17:08:48.905Z"
   },
   {
    "duration": 19,
    "start_time": "2022-09-09T17:10:07.982Z"
   },
   {
    "duration": 6,
    "start_time": "2022-09-09T17:13:08.180Z"
   },
   {
    "duration": 4,
    "start_time": "2022-09-09T17:13:16.356Z"
   },
   {
    "duration": 491,
    "start_time": "2022-09-09T17:13:32.086Z"
   },
   {
    "duration": 5,
    "start_time": "2022-09-09T17:13:44.707Z"
   },
   {
    "duration": 13,
    "start_time": "2022-09-09T17:14:14.484Z"
   },
   {
    "duration": 13,
    "start_time": "2022-09-09T17:14:31.812Z"
   },
   {
    "duration": 125,
    "start_time": "2022-09-09T17:14:44.017Z"
   },
   {
    "duration": 15,
    "start_time": "2022-09-09T17:14:57.462Z"
   },
   {
    "duration": 749,
    "start_time": "2022-09-09T18:58:30.990Z"
   },
   {
    "duration": 365,
    "start_time": "2022-09-09T18:58:31.741Z"
   },
   {
    "duration": 131,
    "start_time": "2022-09-09T18:58:32.108Z"
   },
   {
    "duration": 6,
    "start_time": "2022-09-09T18:58:32.241Z"
   },
   {
    "duration": 22,
    "start_time": "2022-09-09T18:58:32.250Z"
   },
   {
    "duration": 18,
    "start_time": "2022-09-09T18:58:32.274Z"
   },
   {
    "duration": 15,
    "start_time": "2022-09-09T18:58:32.294Z"
   },
   {
    "duration": 7,
    "start_time": "2022-09-09T18:58:32.310Z"
   },
   {
    "duration": 44,
    "start_time": "2022-09-09T18:58:32.319Z"
   },
   {
    "duration": 5,
    "start_time": "2022-09-09T18:58:32.364Z"
   },
   {
    "duration": 10,
    "start_time": "2022-09-09T18:58:32.370Z"
   },
   {
    "duration": 7,
    "start_time": "2022-09-09T18:58:32.382Z"
   },
   {
    "duration": 9,
    "start_time": "2022-09-09T18:58:32.390Z"
   },
   {
    "duration": 9,
    "start_time": "2022-09-09T18:58:32.402Z"
   },
   {
    "duration": 34,
    "start_time": "2022-09-09T18:58:32.413Z"
   },
   {
    "duration": 5,
    "start_time": "2022-09-09T18:58:32.460Z"
   },
   {
    "duration": 147,
    "start_time": "2022-09-09T18:58:32.467Z"
   },
   {
    "duration": 5,
    "start_time": "2022-09-09T18:58:32.615Z"
   },
   {
    "duration": 7,
    "start_time": "2022-09-09T18:58:32.621Z"
   },
   {
    "duration": 31,
    "start_time": "2022-09-09T18:58:32.629Z"
   },
   {
    "duration": 7,
    "start_time": "2022-09-09T18:58:32.662Z"
   },
   {
    "duration": 15,
    "start_time": "2022-09-09T18:58:32.671Z"
   },
   {
    "duration": 5,
    "start_time": "2022-09-09T18:58:32.687Z"
   },
   {
    "duration": 4,
    "start_time": "2022-09-09T18:58:32.694Z"
   },
   {
    "duration": 275,
    "start_time": "2022-09-09T18:58:32.700Z"
   },
   {
    "duration": 0,
    "start_time": "2022-09-09T18:58:32.977Z"
   },
   {
    "duration": 0,
    "start_time": "2022-09-09T18:58:32.978Z"
   },
   {
    "duration": 0,
    "start_time": "2022-09-09T18:58:32.979Z"
   },
   {
    "duration": 0,
    "start_time": "2022-09-09T18:58:32.980Z"
   },
   {
    "duration": 0,
    "start_time": "2022-09-09T18:58:32.982Z"
   },
   {
    "duration": 0,
    "start_time": "2022-09-09T18:58:32.983Z"
   },
   {
    "duration": 0,
    "start_time": "2022-09-09T18:58:32.983Z"
   },
   {
    "duration": 15,
    "start_time": "2022-09-09T18:59:18.145Z"
   },
   {
    "duration": 4,
    "start_time": "2022-09-09T19:01:48.205Z"
   },
   {
    "duration": 4,
    "start_time": "2022-09-09T19:02:14.260Z"
   },
   {
    "duration": 10,
    "start_time": "2022-09-09T19:02:15.995Z"
   },
   {
    "duration": 637,
    "start_time": "2022-09-09T19:02:28.888Z"
   },
   {
    "duration": 94,
    "start_time": "2022-09-09T19:02:29.527Z"
   },
   {
    "duration": 56,
    "start_time": "2022-09-09T19:02:29.623Z"
   },
   {
    "duration": 6,
    "start_time": "2022-09-09T19:02:29.681Z"
   },
   {
    "duration": 19,
    "start_time": "2022-09-09T19:02:29.689Z"
   },
   {
    "duration": 22,
    "start_time": "2022-09-09T19:02:29.710Z"
   },
   {
    "duration": 23,
    "start_time": "2022-09-09T19:02:29.733Z"
   },
   {
    "duration": 16,
    "start_time": "2022-09-09T19:02:29.761Z"
   },
   {
    "duration": 23,
    "start_time": "2022-09-09T19:02:29.779Z"
   },
   {
    "duration": 13,
    "start_time": "2022-09-09T19:02:29.803Z"
   },
   {
    "duration": 14,
    "start_time": "2022-09-09T19:02:29.817Z"
   },
   {
    "duration": 17,
    "start_time": "2022-09-09T19:02:29.832Z"
   },
   {
    "duration": 29,
    "start_time": "2022-09-09T19:02:29.850Z"
   },
   {
    "duration": 36,
    "start_time": "2022-09-09T19:02:29.882Z"
   },
   {
    "duration": 48,
    "start_time": "2022-09-09T19:02:29.920Z"
   },
   {
    "duration": 10,
    "start_time": "2022-09-09T19:02:29.970Z"
   },
   {
    "duration": 156,
    "start_time": "2022-09-09T19:02:29.982Z"
   },
   {
    "duration": 14,
    "start_time": "2022-09-09T19:02:30.140Z"
   },
   {
    "duration": 24,
    "start_time": "2022-09-09T19:02:30.157Z"
   },
   {
    "duration": 22,
    "start_time": "2022-09-09T19:02:30.183Z"
   },
   {
    "duration": 15,
    "start_time": "2022-09-09T19:02:30.206Z"
   },
   {
    "duration": 15,
    "start_time": "2022-09-09T19:02:30.223Z"
   },
   {
    "duration": 32,
    "start_time": "2022-09-09T19:02:30.240Z"
   },
   {
    "duration": 12,
    "start_time": "2022-09-09T19:02:30.273Z"
   },
   {
    "duration": 22,
    "start_time": "2022-09-09T19:02:30.286Z"
   },
   {
    "duration": 21,
    "start_time": "2022-09-09T19:02:30.310Z"
   },
   {
    "duration": 293,
    "start_time": "2022-09-09T19:02:30.332Z"
   },
   {
    "duration": 0,
    "start_time": "2022-09-09T19:02:30.626Z"
   },
   {
    "duration": 0,
    "start_time": "2022-09-09T19:02:30.628Z"
   },
   {
    "duration": 0,
    "start_time": "2022-09-09T19:02:30.629Z"
   },
   {
    "duration": 0,
    "start_time": "2022-09-09T19:02:30.630Z"
   },
   {
    "duration": 0,
    "start_time": "2022-09-09T19:02:30.631Z"
   },
   {
    "duration": 0,
    "start_time": "2022-09-09T19:02:30.631Z"
   },
   {
    "duration": 0,
    "start_time": "2022-09-09T19:02:30.632Z"
   },
   {
    "duration": 5,
    "start_time": "2022-09-09T19:03:48.463Z"
   },
   {
    "duration": 11,
    "start_time": "2022-09-09T19:03:48.839Z"
   },
   {
    "duration": 5,
    "start_time": "2022-09-09T19:04:16.167Z"
   },
   {
    "duration": 5,
    "start_time": "2022-09-09T19:05:55.407Z"
   },
   {
    "duration": 5,
    "start_time": "2022-09-09T19:07:06.101Z"
   },
   {
    "duration": 5,
    "start_time": "2022-09-09T19:07:17.178Z"
   },
   {
    "duration": 11,
    "start_time": "2022-09-09T19:07:20.397Z"
   },
   {
    "duration": 890,
    "start_time": "2022-09-09T19:07:38.943Z"
   },
   {
    "duration": 94,
    "start_time": "2022-09-09T19:07:39.835Z"
   },
   {
    "duration": 54,
    "start_time": "2022-09-09T19:07:39.931Z"
   },
   {
    "duration": 6,
    "start_time": "2022-09-09T19:07:39.987Z"
   },
   {
    "duration": 17,
    "start_time": "2022-09-09T19:07:39.994Z"
   },
   {
    "duration": 23,
    "start_time": "2022-09-09T19:07:40.013Z"
   },
   {
    "duration": 18,
    "start_time": "2022-09-09T19:07:40.037Z"
   },
   {
    "duration": 7,
    "start_time": "2022-09-09T19:07:40.058Z"
   },
   {
    "duration": 10,
    "start_time": "2022-09-09T19:07:40.067Z"
   },
   {
    "duration": 5,
    "start_time": "2022-09-09T19:07:40.080Z"
   },
   {
    "duration": 14,
    "start_time": "2022-09-09T19:07:40.086Z"
   },
   {
    "duration": 13,
    "start_time": "2022-09-09T19:07:40.102Z"
   },
   {
    "duration": 10,
    "start_time": "2022-09-09T19:07:40.117Z"
   },
   {
    "duration": 22,
    "start_time": "2022-09-09T19:07:40.129Z"
   },
   {
    "duration": 9,
    "start_time": "2022-09-09T19:07:40.153Z"
   },
   {
    "duration": 37,
    "start_time": "2022-09-09T19:07:40.164Z"
   },
   {
    "duration": 7,
    "start_time": "2022-09-09T19:07:40.210Z"
   },
   {
    "duration": 166,
    "start_time": "2022-09-09T19:07:40.219Z"
   },
   {
    "duration": 6,
    "start_time": "2022-09-09T19:07:40.387Z"
   },
   {
    "duration": 9,
    "start_time": "2022-09-09T19:07:40.394Z"
   },
   {
    "duration": 13,
    "start_time": "2022-09-09T19:07:40.404Z"
   },
   {
    "duration": 7,
    "start_time": "2022-09-09T19:07:40.418Z"
   },
   {
    "duration": 36,
    "start_time": "2022-09-09T19:07:40.427Z"
   },
   {
    "duration": 5,
    "start_time": "2022-09-09T19:07:40.465Z"
   },
   {
    "duration": 5,
    "start_time": "2022-09-09T19:07:40.472Z"
   },
   {
    "duration": 4,
    "start_time": "2022-09-09T19:07:40.479Z"
   },
   {
    "duration": 413,
    "start_time": "2022-09-09T19:07:40.485Z"
   },
   {
    "duration": 0,
    "start_time": "2022-09-09T19:07:40.901Z"
   },
   {
    "duration": 0,
    "start_time": "2022-09-09T19:07:40.902Z"
   },
   {
    "duration": 0,
    "start_time": "2022-09-09T19:07:40.903Z"
   },
   {
    "duration": 0,
    "start_time": "2022-09-09T19:07:40.904Z"
   },
   {
    "duration": 0,
    "start_time": "2022-09-09T19:07:40.905Z"
   },
   {
    "duration": 0,
    "start_time": "2022-09-09T19:07:40.906Z"
   },
   {
    "duration": 0,
    "start_time": "2022-09-09T19:07:40.906Z"
   },
   {
    "duration": 6,
    "start_time": "2022-09-09T19:07:45.962Z"
   },
   {
    "duration": 4,
    "start_time": "2022-09-09T19:08:27.101Z"
   },
   {
    "duration": 6,
    "start_time": "2022-09-09T19:08:42.814Z"
   },
   {
    "duration": 3,
    "start_time": "2022-09-09T19:08:44.123Z"
   },
   {
    "duration": 6,
    "start_time": "2022-09-09T19:08:44.701Z"
   },
   {
    "duration": 6,
    "start_time": "2022-09-09T19:09:08.925Z"
   },
   {
    "duration": 254,
    "start_time": "2022-09-09T19:09:15.499Z"
   },
   {
    "duration": 831,
    "start_time": "2022-09-09T19:09:42.692Z"
   },
   {
    "duration": 13,
    "start_time": "2022-09-09T19:09:49.248Z"
   },
   {
    "duration": 23,
    "start_time": "2022-09-09T19:10:27.706Z"
   },
   {
    "duration": 56,
    "start_time": "2022-09-09T19:12:05.920Z"
   },
   {
    "duration": 6,
    "start_time": "2022-09-09T19:13:15.305Z"
   },
   {
    "duration": 9,
    "start_time": "2022-09-09T19:13:28.297Z"
   },
   {
    "duration": 7,
    "start_time": "2022-09-09T19:13:35.659Z"
   },
   {
    "duration": 4,
    "start_time": "2022-09-09T19:15:30.000Z"
   },
   {
    "duration": 4,
    "start_time": "2022-09-09T19:15:47.209Z"
   },
   {
    "duration": 8,
    "start_time": "2022-09-09T19:15:58.011Z"
   },
   {
    "duration": 18,
    "start_time": "2022-09-09T19:16:10.194Z"
   },
   {
    "duration": 6,
    "start_time": "2022-09-09T19:16:27.024Z"
   },
   {
    "duration": 7,
    "start_time": "2022-09-09T19:16:27.422Z"
   },
   {
    "duration": 25,
    "start_time": "2022-09-09T19:16:27.916Z"
   },
   {
    "duration": 608,
    "start_time": "2022-09-09T19:17:02.285Z"
   },
   {
    "duration": 88,
    "start_time": "2022-09-09T19:17:02.895Z"
   },
   {
    "duration": 38,
    "start_time": "2022-09-09T19:17:02.985Z"
   },
   {
    "duration": 6,
    "start_time": "2022-09-09T19:17:03.025Z"
   },
   {
    "duration": 16,
    "start_time": "2022-09-09T19:17:03.032Z"
   },
   {
    "duration": 22,
    "start_time": "2022-09-09T19:17:03.050Z"
   },
   {
    "duration": 16,
    "start_time": "2022-09-09T19:17:03.073Z"
   },
   {
    "duration": 7,
    "start_time": "2022-09-09T19:17:03.090Z"
   },
   {
    "duration": 13,
    "start_time": "2022-09-09T19:17:03.098Z"
   },
   {
    "duration": 4,
    "start_time": "2022-09-09T19:17:03.114Z"
   },
   {
    "duration": 29,
    "start_time": "2022-09-09T19:17:03.119Z"
   },
   {
    "duration": 5,
    "start_time": "2022-09-09T19:17:03.150Z"
   },
   {
    "duration": 15,
    "start_time": "2022-09-09T19:17:03.156Z"
   },
   {
    "duration": 10,
    "start_time": "2022-09-09T19:17:03.173Z"
   },
   {
    "duration": 3,
    "start_time": "2022-09-09T19:17:03.185Z"
   },
   {
    "duration": 9,
    "start_time": "2022-09-09T19:17:03.190Z"
   },
   {
    "duration": 23,
    "start_time": "2022-09-09T19:17:03.201Z"
   },
   {
    "duration": 23,
    "start_time": "2022-09-09T19:17:03.225Z"
   },
   {
    "duration": 163,
    "start_time": "2022-09-09T19:17:03.249Z"
   },
   {
    "duration": 6,
    "start_time": "2022-09-09T19:17:03.414Z"
   },
   {
    "duration": 9,
    "start_time": "2022-09-09T19:17:03.422Z"
   },
   {
    "duration": 16,
    "start_time": "2022-09-09T19:17:03.432Z"
   },
   {
    "duration": 12,
    "start_time": "2022-09-09T19:17:03.449Z"
   },
   {
    "duration": 12,
    "start_time": "2022-09-09T19:17:03.463Z"
   },
   {
    "duration": 5,
    "start_time": "2022-09-09T19:17:03.478Z"
   },
   {
    "duration": 6,
    "start_time": "2022-09-09T19:17:03.485Z"
   },
   {
    "duration": 8,
    "start_time": "2022-09-09T19:17:03.492Z"
   },
   {
    "duration": 8,
    "start_time": "2022-09-09T19:17:03.503Z"
   },
   {
    "duration": 40,
    "start_time": "2022-09-09T19:17:03.512Z"
   },
   {
    "duration": 6,
    "start_time": "2022-09-09T19:17:03.554Z"
   },
   {
    "duration": 4,
    "start_time": "2022-09-09T19:17:03.562Z"
   },
   {
    "duration": 165,
    "start_time": "2022-09-09T19:17:03.567Z"
   },
   {
    "duration": 169,
    "start_time": "2022-09-09T19:17:03.734Z"
   },
   {
    "duration": 24,
    "start_time": "2022-09-09T19:17:03.905Z"
   },
   {
    "duration": 29,
    "start_time": "2022-09-09T19:17:03.931Z"
   },
   {
    "duration": 807,
    "start_time": "2022-09-10T09:14:32.034Z"
   },
   {
    "duration": 195,
    "start_time": "2022-09-10T09:14:32.844Z"
   },
   {
    "duration": 73,
    "start_time": "2022-09-10T09:14:33.040Z"
   },
   {
    "duration": 6,
    "start_time": "2022-09-10T09:14:33.115Z"
   },
   {
    "duration": 17,
    "start_time": "2022-09-10T09:14:33.122Z"
   },
   {
    "duration": 22,
    "start_time": "2022-09-10T09:14:33.141Z"
   },
   {
    "duration": 15,
    "start_time": "2022-09-10T09:14:33.165Z"
   },
   {
    "duration": 7,
    "start_time": "2022-09-10T09:14:33.182Z"
   },
   {
    "duration": 36,
    "start_time": "2022-09-10T09:14:33.191Z"
   },
   {
    "duration": 4,
    "start_time": "2022-09-10T09:14:33.229Z"
   },
   {
    "duration": 9,
    "start_time": "2022-09-10T09:14:33.235Z"
   },
   {
    "duration": 6,
    "start_time": "2022-09-10T09:14:33.246Z"
   },
   {
    "duration": 10,
    "start_time": "2022-09-10T09:14:33.253Z"
   },
   {
    "duration": 11,
    "start_time": "2022-09-10T09:14:33.264Z"
   },
   {
    "duration": 8,
    "start_time": "2022-09-10T09:14:33.277Z"
   },
   {
    "duration": 34,
    "start_time": "2022-09-10T09:14:33.287Z"
   },
   {
    "duration": 48,
    "start_time": "2022-09-10T09:14:33.323Z"
   },
   {
    "duration": 6,
    "start_time": "2022-09-10T09:14:33.373Z"
   },
   {
    "duration": 176,
    "start_time": "2022-09-10T09:14:33.380Z"
   },
   {
    "duration": 5,
    "start_time": "2022-09-10T09:14:33.557Z"
   },
   {
    "duration": 11,
    "start_time": "2022-09-10T09:14:33.564Z"
   },
   {
    "duration": 10,
    "start_time": "2022-09-10T09:14:33.577Z"
   },
   {
    "duration": 7,
    "start_time": "2022-09-10T09:14:33.589Z"
   },
   {
    "duration": 29,
    "start_time": "2022-09-10T09:14:33.597Z"
   },
   {
    "duration": 5,
    "start_time": "2022-09-10T09:14:33.627Z"
   },
   {
    "duration": 5,
    "start_time": "2022-09-10T09:14:33.633Z"
   },
   {
    "duration": 10,
    "start_time": "2022-09-10T09:14:33.639Z"
   },
   {
    "duration": 7,
    "start_time": "2022-09-10T09:14:33.652Z"
   },
   {
    "duration": 24,
    "start_time": "2022-09-10T09:14:33.661Z"
   },
   {
    "duration": 8,
    "start_time": "2022-09-10T09:14:33.687Z"
   },
   {
    "duration": 26,
    "start_time": "2022-09-10T09:14:33.696Z"
   },
   {
    "duration": 153,
    "start_time": "2022-09-10T09:14:33.724Z"
   },
   {
    "duration": 149,
    "start_time": "2022-09-10T09:14:33.878Z"
   },
   {
    "duration": 19,
    "start_time": "2022-09-10T09:14:34.029Z"
   },
   {
    "duration": 9,
    "start_time": "2022-09-10T09:14:34.050Z"
   },
   {
    "duration": 12,
    "start_time": "2022-09-10T09:16:39.915Z"
   },
   {
    "duration": 588,
    "start_time": "2022-09-10T09:17:24.062Z"
   },
   {
    "duration": 86,
    "start_time": "2022-09-10T09:17:24.652Z"
   },
   {
    "duration": 37,
    "start_time": "2022-09-10T09:17:24.782Z"
   },
   {
    "duration": 6,
    "start_time": "2022-09-10T09:17:25.107Z"
   },
   {
    "duration": 13,
    "start_time": "2022-09-10T09:17:25.606Z"
   },
   {
    "duration": 20,
    "start_time": "2022-09-10T09:17:26.060Z"
   },
   {
    "duration": 26,
    "start_time": "2022-09-10T09:17:27.195Z"
   },
   {
    "duration": 81,
    "start_time": "2022-09-10T09:18:08.443Z"
   },
   {
    "duration": 18,
    "start_time": "2022-09-10T09:18:38.631Z"
   },
   {
    "duration": 681,
    "start_time": "2022-09-10T09:40:25.256Z"
   },
   {
    "duration": 88,
    "start_time": "2022-09-10T09:40:25.939Z"
   },
   {
    "duration": 38,
    "start_time": "2022-09-10T09:40:26.028Z"
   },
   {
    "duration": 7,
    "start_time": "2022-09-10T09:40:26.068Z"
   },
   {
    "duration": 22,
    "start_time": "2022-09-10T09:40:26.076Z"
   },
   {
    "duration": 22,
    "start_time": "2022-09-10T09:40:26.101Z"
   },
   {
    "duration": 17,
    "start_time": "2022-09-10T09:40:26.124Z"
   },
   {
    "duration": 7,
    "start_time": "2022-09-10T09:40:26.143Z"
   },
   {
    "duration": 14,
    "start_time": "2022-09-10T09:40:26.152Z"
   },
   {
    "duration": 4,
    "start_time": "2022-09-10T09:40:26.170Z"
   },
   {
    "duration": 15,
    "start_time": "2022-09-10T09:40:26.175Z"
   },
   {
    "duration": 30,
    "start_time": "2022-09-10T09:40:26.192Z"
   },
   {
    "duration": 9,
    "start_time": "2022-09-10T09:40:26.224Z"
   },
   {
    "duration": 17,
    "start_time": "2022-09-10T09:40:26.235Z"
   },
   {
    "duration": 12,
    "start_time": "2022-09-10T09:40:26.254Z"
   },
   {
    "duration": 6,
    "start_time": "2022-09-10T09:40:26.269Z"
   },
   {
    "duration": 49,
    "start_time": "2022-09-10T09:40:26.276Z"
   },
   {
    "duration": 6,
    "start_time": "2022-09-10T09:40:26.326Z"
   },
   {
    "duration": 191,
    "start_time": "2022-09-10T09:40:26.334Z"
   },
   {
    "duration": 5,
    "start_time": "2022-09-10T09:40:26.527Z"
   },
   {
    "duration": 9,
    "start_time": "2022-09-10T09:40:26.534Z"
   },
   {
    "duration": 12,
    "start_time": "2022-09-10T09:40:26.545Z"
   },
   {
    "duration": 12,
    "start_time": "2022-09-10T09:40:26.560Z"
   },
   {
    "duration": 16,
    "start_time": "2022-09-10T09:40:26.575Z"
   },
   {
    "duration": 28,
    "start_time": "2022-09-10T09:40:26.594Z"
   },
   {
    "duration": 4,
    "start_time": "2022-09-10T09:40:26.624Z"
   },
   {
    "duration": 23,
    "start_time": "2022-09-10T09:40:26.629Z"
   },
   {
    "duration": 14,
    "start_time": "2022-09-10T09:40:26.658Z"
   },
   {
    "duration": 31,
    "start_time": "2022-09-10T09:40:26.674Z"
   },
   {
    "duration": 22,
    "start_time": "2022-09-10T09:40:26.707Z"
   },
   {
    "duration": 7,
    "start_time": "2022-09-10T09:40:26.731Z"
   },
   {
    "duration": 151,
    "start_time": "2022-09-10T09:40:26.740Z"
   },
   {
    "duration": 157,
    "start_time": "2022-09-10T09:40:26.893Z"
   },
   {
    "duration": 24,
    "start_time": "2022-09-10T09:40:27.051Z"
   },
   {
    "duration": 10,
    "start_time": "2022-09-10T09:40:27.077Z"
   },
   {
    "duration": 14,
    "start_time": "2022-09-10T09:42:36.255Z"
   },
   {
    "duration": 5,
    "start_time": "2022-09-10T09:43:56.410Z"
   },
   {
    "duration": 10,
    "start_time": "2022-09-10T09:43:56.731Z"
   },
   {
    "duration": 11,
    "start_time": "2022-09-10T09:43:57.456Z"
   },
   {
    "duration": 4,
    "start_time": "2022-09-10T09:45:51.964Z"
   },
   {
    "duration": 5,
    "start_time": "2022-09-10T09:45:52.319Z"
   },
   {
    "duration": 4,
    "start_time": "2022-09-10T09:45:52.620Z"
   },
   {
    "duration": 4,
    "start_time": "2022-09-10T09:46:28.296Z"
   },
   {
    "duration": 6,
    "start_time": "2022-09-10T09:46:28.512Z"
   },
   {
    "duration": 11,
    "start_time": "2022-09-10T09:46:32.739Z"
   },
   {
    "duration": 8,
    "start_time": "2022-09-10T09:48:47.148Z"
   },
   {
    "duration": 13,
    "start_time": "2022-09-10T09:48:52.631Z"
   },
   {
    "duration": 9,
    "start_time": "2022-09-10T09:49:16.500Z"
   },
   {
    "duration": 13,
    "start_time": "2022-09-10T09:49:18.911Z"
   },
   {
    "duration": 9,
    "start_time": "2022-09-10T09:52:31.950Z"
   },
   {
    "duration": 9,
    "start_time": "2022-09-10T09:52:35.074Z"
   },
   {
    "duration": 34,
    "start_time": "2022-09-10T09:54:33.281Z"
   },
   {
    "duration": 8,
    "start_time": "2022-09-10T09:59:46.524Z"
   },
   {
    "duration": 16,
    "start_time": "2022-09-10T10:00:03.861Z"
   },
   {
    "duration": 7,
    "start_time": "2022-09-10T10:01:39.660Z"
   },
   {
    "duration": 12,
    "start_time": "2022-09-10T10:01:47.855Z"
   },
   {
    "duration": 7,
    "start_time": "2022-09-10T10:01:58.640Z"
   },
   {
    "duration": 50,
    "start_time": "2022-09-10T10:02:22.529Z"
   },
   {
    "duration": 75,
    "start_time": "2022-09-10T10:02:32.278Z"
   },
   {
    "duration": 44,
    "start_time": "2022-09-10T10:02:47.554Z"
   },
   {
    "duration": 7,
    "start_time": "2022-09-10T10:02:52.868Z"
   },
   {
    "duration": 7,
    "start_time": "2022-09-10T10:03:23.298Z"
   },
   {
    "duration": 6,
    "start_time": "2022-09-10T10:03:48.590Z"
   },
   {
    "duration": 13,
    "start_time": "2022-09-10T10:07:24.359Z"
   },
   {
    "duration": 11,
    "start_time": "2022-09-10T10:07:40.261Z"
   },
   {
    "duration": 102,
    "start_time": "2022-09-10T10:09:03.379Z"
   },
   {
    "duration": 634,
    "start_time": "2022-09-10T10:11:16.866Z"
   },
   {
    "duration": 89,
    "start_time": "2022-09-10T10:11:17.503Z"
   },
   {
    "duration": 37,
    "start_time": "2022-09-10T10:11:17.594Z"
   },
   {
    "duration": 6,
    "start_time": "2022-09-10T10:11:17.633Z"
   },
   {
    "duration": 17,
    "start_time": "2022-09-10T10:11:17.641Z"
   },
   {
    "duration": 20,
    "start_time": "2022-09-10T10:11:17.660Z"
   },
   {
    "duration": 18,
    "start_time": "2022-09-10T10:11:17.682Z"
   },
   {
    "duration": 19,
    "start_time": "2022-09-10T10:11:17.702Z"
   },
   {
    "duration": 29,
    "start_time": "2022-09-10T10:11:17.723Z"
   },
   {
    "duration": 12,
    "start_time": "2022-09-10T10:11:17.754Z"
   },
   {
    "duration": 30,
    "start_time": "2022-09-10T10:11:17.768Z"
   },
   {
    "duration": 14,
    "start_time": "2022-09-10T10:11:17.800Z"
   },
   {
    "duration": 28,
    "start_time": "2022-09-10T10:11:17.816Z"
   },
   {
    "duration": 12,
    "start_time": "2022-09-10T10:11:17.846Z"
   },
   {
    "duration": 23,
    "start_time": "2022-09-10T10:11:17.860Z"
   },
   {
    "duration": 30,
    "start_time": "2022-09-10T10:11:17.885Z"
   },
   {
    "duration": 45,
    "start_time": "2022-09-10T10:11:17.917Z"
   },
   {
    "duration": 46,
    "start_time": "2022-09-10T10:11:17.964Z"
   },
   {
    "duration": 5,
    "start_time": "2022-09-10T10:11:18.011Z"
   },
   {
    "duration": 18,
    "start_time": "2022-09-10T10:11:18.018Z"
   },
   {
    "duration": 22,
    "start_time": "2022-09-10T10:11:18.038Z"
   },
   {
    "duration": 21,
    "start_time": "2022-09-10T10:11:18.062Z"
   },
   {
    "duration": 29,
    "start_time": "2022-09-10T10:11:18.085Z"
   },
   {
    "duration": 207,
    "start_time": "2022-09-10T10:11:18.116Z"
   },
   {
    "duration": 0,
    "start_time": "2022-09-10T10:11:18.325Z"
   },
   {
    "duration": 0,
    "start_time": "2022-09-10T10:11:18.326Z"
   },
   {
    "duration": 0,
    "start_time": "2022-09-10T10:11:18.327Z"
   },
   {
    "duration": 0,
    "start_time": "2022-09-10T10:11:18.329Z"
   },
   {
    "duration": 0,
    "start_time": "2022-09-10T10:11:18.330Z"
   },
   {
    "duration": 0,
    "start_time": "2022-09-10T10:11:18.331Z"
   },
   {
    "duration": 0,
    "start_time": "2022-09-10T10:11:18.333Z"
   },
   {
    "duration": 0,
    "start_time": "2022-09-10T10:11:18.334Z"
   },
   {
    "duration": 0,
    "start_time": "2022-09-10T10:11:18.335Z"
   },
   {
    "duration": 0,
    "start_time": "2022-09-10T10:11:18.337Z"
   },
   {
    "duration": 0,
    "start_time": "2022-09-10T10:11:18.338Z"
   },
   {
    "duration": 118,
    "start_time": "2022-09-10T10:11:29.520Z"
   },
   {
    "duration": 131,
    "start_time": "2022-09-10T10:12:29.031Z"
   },
   {
    "duration": 619,
    "start_time": "2022-09-10T10:12:41.268Z"
   },
   {
    "duration": 95,
    "start_time": "2022-09-10T10:12:41.889Z"
   },
   {
    "duration": 37,
    "start_time": "2022-09-10T10:12:41.986Z"
   },
   {
    "duration": 6,
    "start_time": "2022-09-10T10:12:42.025Z"
   },
   {
    "duration": 29,
    "start_time": "2022-09-10T10:12:42.033Z"
   },
   {
    "duration": 28,
    "start_time": "2022-09-10T10:12:42.064Z"
   },
   {
    "duration": 19,
    "start_time": "2022-09-10T10:12:42.094Z"
   },
   {
    "duration": 11,
    "start_time": "2022-09-10T10:12:42.115Z"
   },
   {
    "duration": 11,
    "start_time": "2022-09-10T10:12:42.128Z"
   },
   {
    "duration": 18,
    "start_time": "2022-09-10T10:12:42.141Z"
   },
   {
    "duration": 31,
    "start_time": "2022-09-10T10:12:42.161Z"
   },
   {
    "duration": 18,
    "start_time": "2022-09-10T10:12:42.193Z"
   },
   {
    "duration": 30,
    "start_time": "2022-09-10T10:12:42.213Z"
   },
   {
    "duration": 9,
    "start_time": "2022-09-10T10:12:42.247Z"
   },
   {
    "duration": 12,
    "start_time": "2022-09-10T10:12:42.258Z"
   },
   {
    "duration": 7,
    "start_time": "2022-09-10T10:12:42.272Z"
   },
   {
    "duration": 18,
    "start_time": "2022-09-10T10:12:42.280Z"
   },
   {
    "duration": 32,
    "start_time": "2022-09-10T10:12:42.300Z"
   },
   {
    "duration": 4,
    "start_time": "2022-09-10T10:12:42.334Z"
   },
   {
    "duration": 7,
    "start_time": "2022-09-10T10:12:42.340Z"
   },
   {
    "duration": 9,
    "start_time": "2022-09-10T10:12:42.349Z"
   },
   {
    "duration": 11,
    "start_time": "2022-09-10T10:12:42.360Z"
   },
   {
    "duration": 9,
    "start_time": "2022-09-10T10:12:42.373Z"
   },
   {
    "duration": 216,
    "start_time": "2022-09-10T10:12:42.384Z"
   },
   {
    "duration": 0,
    "start_time": "2022-09-10T10:12:42.602Z"
   },
   {
    "duration": 0,
    "start_time": "2022-09-10T10:12:42.603Z"
   },
   {
    "duration": 0,
    "start_time": "2022-09-10T10:12:42.604Z"
   },
   {
    "duration": 0,
    "start_time": "2022-09-10T10:12:42.605Z"
   },
   {
    "duration": 0,
    "start_time": "2022-09-10T10:12:42.606Z"
   },
   {
    "duration": 0,
    "start_time": "2022-09-10T10:12:42.607Z"
   },
   {
    "duration": 0,
    "start_time": "2022-09-10T10:12:42.621Z"
   },
   {
    "duration": 0,
    "start_time": "2022-09-10T10:12:42.622Z"
   },
   {
    "duration": 0,
    "start_time": "2022-09-10T10:12:42.623Z"
   },
   {
    "duration": 0,
    "start_time": "2022-09-10T10:12:42.624Z"
   },
   {
    "duration": 0,
    "start_time": "2022-09-10T10:12:42.625Z"
   },
   {
    "duration": 114,
    "start_time": "2022-09-10T10:13:02.106Z"
   },
   {
    "duration": 116,
    "start_time": "2022-09-10T10:13:12.804Z"
   },
   {
    "duration": 123,
    "start_time": "2022-09-10T10:13:29.184Z"
   },
   {
    "duration": 168,
    "start_time": "2022-09-10T10:14:59.803Z"
   },
   {
    "duration": 8,
    "start_time": "2022-09-10T10:15:04.803Z"
   },
   {
    "duration": 122,
    "start_time": "2022-09-10T10:15:08.104Z"
   },
   {
    "duration": 117,
    "start_time": "2022-09-10T10:16:54.500Z"
   },
   {
    "duration": 19,
    "start_time": "2022-09-10T10:17:17.858Z"
   },
   {
    "duration": 10,
    "start_time": "2022-09-10T10:20:13.547Z"
   },
   {
    "duration": 9,
    "start_time": "2022-09-10T10:20:39.401Z"
   },
   {
    "duration": 14,
    "start_time": "2022-09-10T10:21:22.026Z"
   },
   {
    "duration": 219,
    "start_time": "2022-09-10T10:22:21.982Z"
   },
   {
    "duration": 626,
    "start_time": "2022-09-10T10:23:02.655Z"
   },
   {
    "duration": 88,
    "start_time": "2022-09-10T10:23:03.283Z"
   },
   {
    "duration": 38,
    "start_time": "2022-09-10T10:23:03.376Z"
   },
   {
    "duration": 7,
    "start_time": "2022-09-10T10:23:03.415Z"
   },
   {
    "duration": 18,
    "start_time": "2022-09-10T10:23:03.423Z"
   },
   {
    "duration": 22,
    "start_time": "2022-09-10T10:23:03.443Z"
   },
   {
    "duration": 20,
    "start_time": "2022-09-10T10:23:03.467Z"
   },
   {
    "duration": 11,
    "start_time": "2022-09-10T10:23:03.489Z"
   },
   {
    "duration": 26,
    "start_time": "2022-09-10T10:23:03.504Z"
   },
   {
    "duration": 11,
    "start_time": "2022-09-10T10:23:03.532Z"
   },
   {
    "duration": 12,
    "start_time": "2022-09-10T10:23:03.545Z"
   },
   {
    "duration": 9,
    "start_time": "2022-09-10T10:23:03.559Z"
   },
   {
    "duration": 19,
    "start_time": "2022-09-10T10:23:03.569Z"
   },
   {
    "duration": 5,
    "start_time": "2022-09-10T10:23:03.589Z"
   },
   {
    "duration": 17,
    "start_time": "2022-09-10T10:23:03.595Z"
   },
   {
    "duration": 16,
    "start_time": "2022-09-10T10:23:03.613Z"
   },
   {
    "duration": 13,
    "start_time": "2022-09-10T10:23:03.631Z"
   },
   {
    "duration": 29,
    "start_time": "2022-09-10T10:23:03.646Z"
   },
   {
    "duration": 5,
    "start_time": "2022-09-10T10:23:03.677Z"
   },
   {
    "duration": 13,
    "start_time": "2022-09-10T10:23:03.683Z"
   },
   {
    "duration": 14,
    "start_time": "2022-09-10T10:23:03.698Z"
   },
   {
    "duration": 13,
    "start_time": "2022-09-10T10:23:03.714Z"
   },
   {
    "duration": 14,
    "start_time": "2022-09-10T10:23:03.729Z"
   },
   {
    "duration": 11,
    "start_time": "2022-09-10T10:23:03.745Z"
   },
   {
    "duration": 6,
    "start_time": "2022-09-10T10:23:03.757Z"
   },
   {
    "duration": 12,
    "start_time": "2022-09-10T10:23:03.765Z"
   },
   {
    "duration": 8,
    "start_time": "2022-09-10T10:23:03.780Z"
   },
   {
    "duration": 30,
    "start_time": "2022-09-10T10:23:03.789Z"
   },
   {
    "duration": 281,
    "start_time": "2022-09-10T10:23:03.821Z"
   },
   {
    "duration": 0,
    "start_time": "2022-09-10T10:23:04.104Z"
   },
   {
    "duration": 0,
    "start_time": "2022-09-10T10:23:04.105Z"
   },
   {
    "duration": 0,
    "start_time": "2022-09-10T10:23:04.106Z"
   },
   {
    "duration": 0,
    "start_time": "2022-09-10T10:23:04.108Z"
   },
   {
    "duration": 0,
    "start_time": "2022-09-10T10:23:04.109Z"
   },
   {
    "duration": 0,
    "start_time": "2022-09-10T10:23:04.111Z"
   },
   {
    "duration": 8,
    "start_time": "2022-09-10T10:23:18.118Z"
   },
   {
    "duration": 4,
    "start_time": "2022-09-10T10:23:18.447Z"
   },
   {
    "duration": 12,
    "start_time": "2022-09-10T10:23:18.762Z"
   },
   {
    "duration": 4,
    "start_time": "2022-09-10T10:23:22.504Z"
   },
   {
    "duration": 5,
    "start_time": "2022-09-10T10:23:22.841Z"
   },
   {
    "duration": 5,
    "start_time": "2022-09-10T10:23:23.244Z"
   },
   {
    "duration": 9,
    "start_time": "2022-09-10T10:23:23.755Z"
   },
   {
    "duration": 24,
    "start_time": "2022-09-10T10:23:24.262Z"
   },
   {
    "duration": 5,
    "start_time": "2022-09-10T10:23:25.439Z"
   },
   {
    "duration": 8,
    "start_time": "2022-09-10T10:23:25.695Z"
   },
   {
    "duration": 5,
    "start_time": "2022-09-10T10:23:25.904Z"
   },
   {
    "duration": 8,
    "start_time": "2022-09-10T10:23:26.880Z"
   },
   {
    "duration": 8,
    "start_time": "2022-09-10T10:23:27.056Z"
   },
   {
    "duration": 4,
    "start_time": "2022-09-10T10:23:42.451Z"
   },
   {
    "duration": 3,
    "start_time": "2022-09-10T10:23:43.922Z"
   },
   {
    "duration": 7,
    "start_time": "2022-09-10T10:23:44.513Z"
   },
   {
    "duration": 7,
    "start_time": "2022-09-10T10:23:44.881Z"
   },
   {
    "duration": 21,
    "start_time": "2022-09-10T10:23:45.414Z"
   },
   {
    "duration": 229,
    "start_time": "2022-09-10T10:23:47.035Z"
   },
   {
    "duration": 196,
    "start_time": "2022-09-10T10:24:43.402Z"
   },
   {
    "duration": 236,
    "start_time": "2022-09-10T10:25:28.311Z"
   },
   {
    "duration": 30,
    "start_time": "2022-09-10T10:25:36.232Z"
   },
   {
    "duration": 32,
    "start_time": "2022-09-10T10:27:24.305Z"
   },
   {
    "duration": 6,
    "start_time": "2022-09-10T10:27:35.764Z"
   },
   {
    "duration": 18,
    "start_time": "2022-09-10T10:29:35.165Z"
   },
   {
    "duration": 30,
    "start_time": "2022-09-10T10:30:22.991Z"
   },
   {
    "duration": 682,
    "start_time": "2022-09-10T10:31:54.093Z"
   },
   {
    "duration": 87,
    "start_time": "2022-09-10T10:31:54.777Z"
   },
   {
    "duration": 36,
    "start_time": "2022-09-10T10:31:54.866Z"
   },
   {
    "duration": 6,
    "start_time": "2022-09-10T10:31:54.904Z"
   },
   {
    "duration": 16,
    "start_time": "2022-09-10T10:31:55.178Z"
   },
   {
    "duration": 21,
    "start_time": "2022-09-10T10:31:57.268Z"
   },
   {
    "duration": 30,
    "start_time": "2022-09-10T10:32:12.536Z"
   },
   {
    "duration": 24,
    "start_time": "2022-09-10T10:35:23.629Z"
   },
   {
    "duration": 24,
    "start_time": "2022-09-10T10:35:32.504Z"
   },
   {
    "duration": 802,
    "start_time": "2022-09-10T14:20:49.285Z"
   },
   {
    "duration": 347,
    "start_time": "2022-09-10T14:20:50.090Z"
   },
   {
    "duration": 70,
    "start_time": "2022-09-10T14:20:50.442Z"
   },
   {
    "duration": 5,
    "start_time": "2022-09-10T14:20:50.514Z"
   },
   {
    "duration": 19,
    "start_time": "2022-09-10T14:20:50.522Z"
   },
   {
    "duration": 20,
    "start_time": "2022-09-10T14:20:50.543Z"
   },
   {
    "duration": 29,
    "start_time": "2022-09-10T14:20:50.564Z"
   },
   {
    "duration": 37,
    "start_time": "2022-09-10T14:20:50.595Z"
   },
   {
    "duration": 12,
    "start_time": "2022-09-10T14:20:50.635Z"
   },
   {
    "duration": 11,
    "start_time": "2022-09-10T14:20:50.650Z"
   },
   {
    "duration": 5,
    "start_time": "2022-09-10T14:20:50.663Z"
   },
   {
    "duration": 9,
    "start_time": "2022-09-10T14:20:50.670Z"
   },
   {
    "duration": 9,
    "start_time": "2022-09-10T14:20:50.681Z"
   },
   {
    "duration": 38,
    "start_time": "2022-09-10T14:20:50.692Z"
   },
   {
    "duration": 18,
    "start_time": "2022-09-10T14:20:50.733Z"
   },
   {
    "duration": 9,
    "start_time": "2022-09-10T14:20:50.753Z"
   },
   {
    "duration": 17,
    "start_time": "2022-09-10T14:20:50.764Z"
   },
   {
    "duration": 26,
    "start_time": "2022-09-10T14:20:50.783Z"
   },
   {
    "duration": 27,
    "start_time": "2022-09-10T14:20:50.811Z"
   },
   {
    "duration": 4,
    "start_time": "2022-09-10T14:20:50.840Z"
   },
   {
    "duration": 9,
    "start_time": "2022-09-10T14:20:50.846Z"
   },
   {
    "duration": 8,
    "start_time": "2022-09-10T14:20:50.857Z"
   },
   {
    "duration": 8,
    "start_time": "2022-09-10T14:20:50.867Z"
   },
   {
    "duration": 11,
    "start_time": "2022-09-10T14:20:50.876Z"
   },
   {
    "duration": 8,
    "start_time": "2022-09-10T14:20:50.889Z"
   },
   {
    "duration": 22,
    "start_time": "2022-09-10T14:20:50.899Z"
   },
   {
    "duration": 8,
    "start_time": "2022-09-10T14:20:50.924Z"
   },
   {
    "duration": 10,
    "start_time": "2022-09-10T14:20:50.934Z"
   },
   {
    "duration": 33,
    "start_time": "2022-09-10T14:20:50.946Z"
   },
   {
    "duration": 29,
    "start_time": "2022-09-10T14:20:50.980Z"
   },
   {
    "duration": 43,
    "start_time": "2022-09-10T14:20:51.011Z"
   },
   {
    "duration": 94,
    "start_time": "2022-09-10T14:20:51.056Z"
   },
   {
    "duration": 0,
    "start_time": "2022-09-10T14:20:51.152Z"
   },
   {
    "duration": 0,
    "start_time": "2022-09-10T14:20:51.154Z"
   },
   {
    "duration": 0,
    "start_time": "2022-09-10T14:20:51.156Z"
   },
   {
    "duration": 1,
    "start_time": "2022-09-10T14:20:51.156Z"
   },
   {
    "duration": 0,
    "start_time": "2022-09-10T14:20:51.158Z"
   },
   {
    "duration": 28,
    "start_time": "2022-09-10T14:22:45.187Z"
   },
   {
    "duration": 5,
    "start_time": "2022-09-10T14:23:58.631Z"
   },
   {
    "duration": 5,
    "start_time": "2022-09-10T14:23:58.997Z"
   },
   {
    "duration": 17,
    "start_time": "2022-09-10T14:29:12.051Z"
   },
   {
    "duration": 6,
    "start_time": "2022-09-10T14:30:39.938Z"
   },
   {
    "duration": 12,
    "start_time": "2022-09-10T14:31:07.993Z"
   },
   {
    "duration": 30,
    "start_time": "2022-09-10T14:31:15.842Z"
   },
   {
    "duration": 20,
    "start_time": "2022-09-10T14:31:32.689Z"
   },
   {
    "duration": 258,
    "start_time": "2022-09-10T14:32:38.270Z"
   },
   {
    "duration": 210,
    "start_time": "2022-09-10T14:33:04.256Z"
   },
   {
    "duration": 194,
    "start_time": "2022-09-10T14:33:36.810Z"
   },
   {
    "duration": 31,
    "start_time": "2022-09-10T14:34:11.294Z"
   },
   {
    "duration": 4,
    "start_time": "2022-09-10T14:37:59.851Z"
   },
   {
    "duration": 12,
    "start_time": "2022-09-10T14:38:07.925Z"
   },
   {
    "duration": 10,
    "start_time": "2022-09-10T14:38:31.677Z"
   },
   {
    "duration": 11,
    "start_time": "2022-09-10T14:38:43.998Z"
   },
   {
    "duration": 5,
    "start_time": "2022-09-10T14:39:24.832Z"
   },
   {
    "duration": 12,
    "start_time": "2022-09-10T14:39:25.216Z"
   },
   {
    "duration": 26,
    "start_time": "2022-09-10T14:39:53.871Z"
   },
   {
    "duration": 19,
    "start_time": "2022-09-10T14:40:33.088Z"
   },
   {
    "duration": 19,
    "start_time": "2022-09-10T14:40:56.672Z"
   },
   {
    "duration": 15,
    "start_time": "2022-09-10T14:44:40.778Z"
   },
   {
    "duration": 654,
    "start_time": "2022-09-10T14:45:04.507Z"
   },
   {
    "duration": 83,
    "start_time": "2022-09-10T14:45:05.163Z"
   },
   {
    "duration": 37,
    "start_time": "2022-09-10T14:45:05.248Z"
   },
   {
    "duration": 6,
    "start_time": "2022-09-10T14:45:05.287Z"
   },
   {
    "duration": 30,
    "start_time": "2022-09-10T14:45:05.295Z"
   },
   {
    "duration": 21,
    "start_time": "2022-09-10T14:45:05.327Z"
   },
   {
    "duration": 34,
    "start_time": "2022-09-10T14:45:05.349Z"
   },
   {
    "duration": 12,
    "start_time": "2022-09-10T14:45:05.385Z"
   },
   {
    "duration": 16,
    "start_time": "2022-09-10T14:45:05.399Z"
   },
   {
    "duration": 4,
    "start_time": "2022-09-10T14:45:05.418Z"
   },
   {
    "duration": 13,
    "start_time": "2022-09-10T14:45:05.423Z"
   },
   {
    "duration": 5,
    "start_time": "2022-09-10T14:45:05.437Z"
   },
   {
    "duration": 14,
    "start_time": "2022-09-10T14:45:05.443Z"
   },
   {
    "duration": 12,
    "start_time": "2022-09-10T14:45:05.459Z"
   },
   {
    "duration": 15,
    "start_time": "2022-09-10T14:45:05.472Z"
   },
   {
    "duration": 7,
    "start_time": "2022-09-10T14:45:05.489Z"
   },
   {
    "duration": 38,
    "start_time": "2022-09-10T14:45:05.497Z"
   },
   {
    "duration": 25,
    "start_time": "2022-09-10T14:45:05.536Z"
   },
   {
    "duration": 4,
    "start_time": "2022-09-10T14:45:05.563Z"
   },
   {
    "duration": 8,
    "start_time": "2022-09-10T14:45:05.569Z"
   },
   {
    "duration": 7,
    "start_time": "2022-09-10T14:45:05.579Z"
   },
   {
    "duration": 41,
    "start_time": "2022-09-10T14:45:05.587Z"
   },
   {
    "duration": 24,
    "start_time": "2022-09-10T14:45:05.630Z"
   },
   {
    "duration": 18,
    "start_time": "2022-09-10T14:45:05.656Z"
   },
   {
    "duration": 8,
    "start_time": "2022-09-10T14:45:05.675Z"
   },
   {
    "duration": 4,
    "start_time": "2022-09-10T14:45:05.684Z"
   },
   {
    "duration": 8,
    "start_time": "2022-09-10T14:45:05.690Z"
   },
   {
    "duration": 9,
    "start_time": "2022-09-10T14:45:05.701Z"
   },
   {
    "duration": 25,
    "start_time": "2022-09-10T14:45:05.711Z"
   },
   {
    "duration": 85,
    "start_time": "2022-09-10T14:45:05.738Z"
   },
   {
    "duration": 0,
    "start_time": "2022-09-10T14:45:05.825Z"
   },
   {
    "duration": 0,
    "start_time": "2022-09-10T14:45:05.826Z"
   },
   {
    "duration": 0,
    "start_time": "2022-09-10T14:45:05.827Z"
   },
   {
    "duration": 0,
    "start_time": "2022-09-10T14:45:05.829Z"
   },
   {
    "duration": 0,
    "start_time": "2022-09-10T14:45:05.830Z"
   },
   {
    "duration": 17,
    "start_time": "2022-09-10T14:45:27.541Z"
   },
   {
    "duration": 9,
    "start_time": "2022-09-10T14:47:25.143Z"
   },
   {
    "duration": 6,
    "start_time": "2022-09-10T14:47:46.725Z"
   },
   {
    "duration": 4,
    "start_time": "2022-09-10T14:47:57.040Z"
   },
   {
    "duration": 5,
    "start_time": "2022-09-10T14:47:59.232Z"
   },
   {
    "duration": 153,
    "start_time": "2022-09-10T14:48:33.789Z"
   },
   {
    "duration": 6,
    "start_time": "2022-09-10T14:49:26.976Z"
   },
   {
    "duration": 8,
    "start_time": "2022-09-10T14:49:34.668Z"
   },
   {
    "duration": 4,
    "start_time": "2022-09-10T14:50:06.793Z"
   },
   {
    "duration": 7,
    "start_time": "2022-09-10T14:50:07.068Z"
   },
   {
    "duration": 7,
    "start_time": "2022-09-10T14:51:21.190Z"
   },
   {
    "duration": 4,
    "start_time": "2022-09-10T14:52:56.925Z"
   },
   {
    "duration": 5,
    "start_time": "2022-09-10T14:53:05.599Z"
   },
   {
    "duration": 7,
    "start_time": "2022-09-10T14:54:24.698Z"
   },
   {
    "duration": 5,
    "start_time": "2022-09-10T14:54:34.555Z"
   },
   {
    "duration": 8,
    "start_time": "2022-09-10T14:54:50.590Z"
   },
   {
    "duration": 150,
    "start_time": "2022-09-10T15:06:01.287Z"
   },
   {
    "duration": 9,
    "start_time": "2022-09-10T15:06:30.084Z"
   },
   {
    "duration": 6,
    "start_time": "2022-09-10T15:08:02.529Z"
   },
   {
    "duration": 4,
    "start_time": "2022-09-10T15:08:51.629Z"
   },
   {
    "duration": 728,
    "start_time": "2022-09-10T15:24:17.136Z"
   },
   {
    "duration": 103,
    "start_time": "2022-09-10T15:24:17.866Z"
   },
   {
    "duration": 38,
    "start_time": "2022-09-10T15:24:17.971Z"
   },
   {
    "duration": 7,
    "start_time": "2022-09-10T15:24:18.039Z"
   },
   {
    "duration": 13,
    "start_time": "2022-09-10T15:24:18.384Z"
   },
   {
    "duration": 20,
    "start_time": "2022-09-10T15:24:18.751Z"
   },
   {
    "duration": 16,
    "start_time": "2022-09-10T15:24:27.291Z"
   },
   {
    "duration": 663,
    "start_time": "2022-09-10T15:27:11.790Z"
   },
   {
    "duration": 89,
    "start_time": "2022-09-10T15:27:12.455Z"
   },
   {
    "duration": 37,
    "start_time": "2022-09-10T15:27:12.545Z"
   },
   {
    "duration": 6,
    "start_time": "2022-09-10T15:27:12.584Z"
   },
   {
    "duration": 16,
    "start_time": "2022-09-10T15:27:12.592Z"
   },
   {
    "duration": 25,
    "start_time": "2022-09-10T15:27:12.609Z"
   },
   {
    "duration": 21,
    "start_time": "2022-09-10T15:27:12.636Z"
   },
   {
    "duration": 12,
    "start_time": "2022-09-10T15:27:12.659Z"
   },
   {
    "duration": 17,
    "start_time": "2022-09-10T15:27:12.673Z"
   },
   {
    "duration": 5,
    "start_time": "2022-09-10T15:27:12.692Z"
   },
   {
    "duration": 30,
    "start_time": "2022-09-10T15:27:12.698Z"
   },
   {
    "duration": 5,
    "start_time": "2022-09-10T15:27:12.736Z"
   },
   {
    "duration": 22,
    "start_time": "2022-09-10T15:27:12.745Z"
   },
   {
    "duration": 4,
    "start_time": "2022-09-10T15:27:12.769Z"
   },
   {
    "duration": 6,
    "start_time": "2022-09-10T15:27:12.775Z"
   },
   {
    "duration": 6,
    "start_time": "2022-09-10T15:27:12.782Z"
   },
   {
    "duration": 13,
    "start_time": "2022-09-10T15:27:12.790Z"
   },
   {
    "duration": 43,
    "start_time": "2022-09-10T15:27:12.805Z"
   },
   {
    "duration": 5,
    "start_time": "2022-09-10T15:27:12.850Z"
   },
   {
    "duration": 7,
    "start_time": "2022-09-10T15:27:12.857Z"
   },
   {
    "duration": 5,
    "start_time": "2022-09-10T15:27:12.867Z"
   },
   {
    "duration": 63,
    "start_time": "2022-09-10T15:27:12.874Z"
   },
   {
    "duration": 8,
    "start_time": "2022-09-10T15:27:12.939Z"
   },
   {
    "duration": 20,
    "start_time": "2022-09-10T15:27:12.949Z"
   },
   {
    "duration": 6,
    "start_time": "2022-09-10T15:27:12.971Z"
   },
   {
    "duration": 6,
    "start_time": "2022-09-10T15:27:12.979Z"
   },
   {
    "duration": 9,
    "start_time": "2022-09-10T15:27:12.986Z"
   },
   {
    "duration": 9,
    "start_time": "2022-09-10T15:27:12.998Z"
   },
   {
    "duration": 57,
    "start_time": "2022-09-10T15:27:13.008Z"
   },
   {
    "duration": 12,
    "start_time": "2022-09-10T15:27:13.067Z"
   },
   {
    "duration": 7,
    "start_time": "2022-09-10T15:27:13.081Z"
   },
   {
    "duration": 15,
    "start_time": "2022-09-10T15:27:13.091Z"
   },
   {
    "duration": 6,
    "start_time": "2022-09-10T15:27:13.110Z"
   },
   {
    "duration": 185,
    "start_time": "2022-09-10T15:27:13.121Z"
   },
   {
    "duration": 8,
    "start_time": "2022-09-10T15:27:13.307Z"
   },
   {
    "duration": 175,
    "start_time": "2022-09-10T15:27:13.317Z"
   },
   {
    "duration": 31,
    "start_time": "2022-09-10T15:27:13.494Z"
   },
   {
    "duration": 15,
    "start_time": "2022-09-10T15:27:13.528Z"
   },
   {
    "duration": 19,
    "start_time": "2022-09-10T15:33:18.419Z"
   },
   {
    "duration": 12,
    "start_time": "2022-09-10T15:38:50.839Z"
   },
   {
    "duration": 5,
    "start_time": "2022-09-10T15:39:40.101Z"
   },
   {
    "duration": 5,
    "start_time": "2022-09-10T15:39:40.503Z"
   },
   {
    "duration": 7,
    "start_time": "2022-09-10T15:39:40.944Z"
   },
   {
    "duration": 6,
    "start_time": "2022-09-10T15:39:58.231Z"
   },
   {
    "duration": 9,
    "start_time": "2022-09-10T15:40:12.802Z"
   },
   {
    "duration": 31,
    "start_time": "2022-09-10T15:45:11.636Z"
   },
   {
    "duration": 772,
    "start_time": "2022-09-14T10:16:39.746Z"
   },
   {
    "duration": 352,
    "start_time": "2022-09-14T10:16:40.520Z"
   },
   {
    "duration": 125,
    "start_time": "2022-09-14T10:16:40.874Z"
   },
   {
    "duration": 23,
    "start_time": "2022-09-14T10:16:41.001Z"
   },
   {
    "duration": 6,
    "start_time": "2022-09-14T10:16:41.025Z"
   },
   {
    "duration": 28,
    "start_time": "2022-09-14T10:16:41.032Z"
   },
   {
    "duration": 16,
    "start_time": "2022-09-14T10:16:41.062Z"
   },
   {
    "duration": 24,
    "start_time": "2022-09-14T10:16:41.079Z"
   },
   {
    "duration": 13,
    "start_time": "2022-09-14T10:16:41.104Z"
   },
   {
    "duration": 17,
    "start_time": "2022-09-14T10:16:41.119Z"
   },
   {
    "duration": 15,
    "start_time": "2022-09-14T10:16:41.137Z"
   },
   {
    "duration": 17,
    "start_time": "2022-09-14T10:16:41.154Z"
   },
   {
    "duration": 12,
    "start_time": "2022-09-14T10:16:41.173Z"
   },
   {
    "duration": 21,
    "start_time": "2022-09-14T10:16:41.187Z"
   },
   {
    "duration": 13,
    "start_time": "2022-09-14T10:16:41.209Z"
   },
   {
    "duration": 21,
    "start_time": "2022-09-14T10:16:41.223Z"
   },
   {
    "duration": 11,
    "start_time": "2022-09-14T10:16:41.246Z"
   },
   {
    "duration": 23,
    "start_time": "2022-09-14T10:16:41.258Z"
   },
   {
    "duration": 3,
    "start_time": "2022-09-14T10:16:41.283Z"
   },
   {
    "duration": 23,
    "start_time": "2022-09-14T10:16:41.287Z"
   },
   {
    "duration": 18,
    "start_time": "2022-09-14T10:16:41.311Z"
   },
   {
    "duration": 24,
    "start_time": "2022-09-14T10:16:41.331Z"
   },
   {
    "duration": 15,
    "start_time": "2022-09-14T10:16:41.356Z"
   },
   {
    "duration": 30,
    "start_time": "2022-09-14T10:16:41.373Z"
   },
   {
    "duration": 4,
    "start_time": "2022-09-14T10:16:41.405Z"
   },
   {
    "duration": 22,
    "start_time": "2022-09-14T10:16:41.410Z"
   },
   {
    "duration": 22,
    "start_time": "2022-09-14T10:16:41.434Z"
   },
   {
    "duration": 15,
    "start_time": "2022-09-14T10:16:41.459Z"
   },
   {
    "duration": 13,
    "start_time": "2022-09-14T10:16:41.475Z"
   },
   {
    "duration": 14,
    "start_time": "2022-09-14T10:16:41.490Z"
   },
   {
    "duration": 36,
    "start_time": "2022-09-14T10:16:41.505Z"
   },
   {
    "duration": 23,
    "start_time": "2022-09-14T10:16:41.544Z"
   },
   {
    "duration": 19,
    "start_time": "2022-09-14T10:16:41.569Z"
   },
   {
    "duration": 19,
    "start_time": "2022-09-14T10:16:41.589Z"
   },
   {
    "duration": 17,
    "start_time": "2022-09-14T10:16:41.610Z"
   },
   {
    "duration": 20,
    "start_time": "2022-09-14T10:16:41.629Z"
   },
   {
    "duration": 18,
    "start_time": "2022-09-14T10:16:41.651Z"
   },
   {
    "duration": 35,
    "start_time": "2022-09-14T10:16:41.670Z"
   },
   {
    "duration": 20,
    "start_time": "2022-09-14T10:16:41.707Z"
   },
   {
    "duration": 13,
    "start_time": "2022-09-14T10:16:41.729Z"
   },
   {
    "duration": 31,
    "start_time": "2022-09-14T10:16:41.747Z"
   },
   {
    "duration": 13,
    "start_time": "2022-09-14T10:16:41.780Z"
   },
   {
    "duration": 80,
    "start_time": "2022-09-14T10:16:41.795Z"
   },
   {
    "duration": 0,
    "start_time": "2022-09-14T10:16:41.876Z"
   },
   {
    "duration": 0,
    "start_time": "2022-09-14T10:16:41.878Z"
   },
   {
    "duration": 0,
    "start_time": "2022-09-14T10:16:41.880Z"
   },
   {
    "duration": 0,
    "start_time": "2022-09-14T10:16:41.881Z"
   },
   {
    "duration": 0,
    "start_time": "2022-09-14T10:16:41.882Z"
   },
   {
    "duration": 0,
    "start_time": "2022-09-14T10:16:41.884Z"
   },
   {
    "duration": 0,
    "start_time": "2022-09-14T10:16:41.885Z"
   },
   {
    "duration": 0,
    "start_time": "2022-09-14T10:16:41.887Z"
   },
   {
    "duration": 0,
    "start_time": "2022-09-14T10:16:41.888Z"
   },
   {
    "duration": 0,
    "start_time": "2022-09-14T10:16:41.889Z"
   },
   {
    "duration": 0,
    "start_time": "2022-09-14T10:16:41.890Z"
   },
   {
    "duration": 0,
    "start_time": "2022-09-14T10:16:41.892Z"
   },
   {
    "duration": 0,
    "start_time": "2022-09-14T10:16:41.893Z"
   },
   {
    "duration": 0,
    "start_time": "2022-09-14T10:16:41.894Z"
   },
   {
    "duration": 0,
    "start_time": "2022-09-14T10:16:41.895Z"
   },
   {
    "duration": 0,
    "start_time": "2022-09-14T10:16:41.896Z"
   },
   {
    "duration": 0,
    "start_time": "2022-09-14T10:16:41.897Z"
   },
   {
    "duration": 0,
    "start_time": "2022-09-14T10:16:41.898Z"
   },
   {
    "duration": 0,
    "start_time": "2022-09-14T10:16:41.899Z"
   },
   {
    "duration": 0,
    "start_time": "2022-09-14T10:16:41.900Z"
   },
   {
    "duration": 0,
    "start_time": "2022-09-14T10:16:41.901Z"
   },
   {
    "duration": 0,
    "start_time": "2022-09-14T10:16:41.902Z"
   },
   {
    "duration": 0,
    "start_time": "2022-09-14T10:16:41.903Z"
   },
   {
    "duration": 0,
    "start_time": "2022-09-14T10:16:41.904Z"
   },
   {
    "duration": 0,
    "start_time": "2022-09-14T10:16:41.905Z"
   },
   {
    "duration": 0,
    "start_time": "2022-09-14T10:16:41.906Z"
   },
   {
    "duration": 0,
    "start_time": "2022-09-14T10:16:41.907Z"
   },
   {
    "duration": 0,
    "start_time": "2022-09-14T10:16:41.908Z"
   },
   {
    "duration": 14,
    "start_time": "2022-09-14T10:45:22.438Z"
   },
   {
    "duration": 7,
    "start_time": "2022-09-14T10:45:58.736Z"
   },
   {
    "duration": 4,
    "start_time": "2022-09-14T10:46:03.256Z"
   },
   {
    "duration": 4,
    "start_time": "2022-09-14T10:46:16.062Z"
   },
   {
    "duration": 5,
    "start_time": "2022-09-14T10:46:38.062Z"
   },
   {
    "duration": 4,
    "start_time": "2022-09-14T10:46:56.571Z"
   },
   {
    "duration": 7,
    "start_time": "2022-09-14T10:48:05.923Z"
   },
   {
    "duration": 656,
    "start_time": "2022-09-14T10:49:25.498Z"
   },
   {
    "duration": 82,
    "start_time": "2022-09-14T10:49:26.156Z"
   },
   {
    "duration": 48,
    "start_time": "2022-09-14T10:49:26.239Z"
   },
   {
    "duration": 16,
    "start_time": "2022-09-14T10:49:26.290Z"
   },
   {
    "duration": 7,
    "start_time": "2022-09-14T10:49:26.308Z"
   },
   {
    "duration": 14,
    "start_time": "2022-09-14T10:49:26.316Z"
   },
   {
    "duration": 15,
    "start_time": "2022-09-14T10:49:26.331Z"
   },
   {
    "duration": 8,
    "start_time": "2022-09-14T10:49:26.348Z"
   },
   {
    "duration": 16,
    "start_time": "2022-09-14T10:49:26.377Z"
   },
   {
    "duration": 7,
    "start_time": "2022-09-14T10:49:26.396Z"
   },
   {
    "duration": 5,
    "start_time": "2022-09-14T10:49:26.405Z"
   },
   {
    "duration": 6,
    "start_time": "2022-09-14T10:49:26.412Z"
   },
   {
    "duration": 16,
    "start_time": "2022-09-14T10:49:26.420Z"
   },
   {
    "duration": 5,
    "start_time": "2022-09-14T10:49:26.437Z"
   },
   {
    "duration": 11,
    "start_time": "2022-09-14T10:49:26.476Z"
   },
   {
    "duration": 4,
    "start_time": "2022-09-14T10:49:26.488Z"
   },
   {
    "duration": 8,
    "start_time": "2022-09-14T10:49:26.493Z"
   },
   {
    "duration": 4,
    "start_time": "2022-09-14T10:49:26.502Z"
   },
   {
    "duration": 14,
    "start_time": "2022-09-14T10:49:26.507Z"
   },
   {
    "duration": 5,
    "start_time": "2022-09-14T10:49:26.522Z"
   },
   {
    "duration": 9,
    "start_time": "2022-09-14T10:49:26.529Z"
   },
   {
    "duration": 4,
    "start_time": "2022-09-14T10:49:26.539Z"
   },
   {
    "duration": 5,
    "start_time": "2022-09-14T10:49:26.577Z"
   },
   {
    "duration": 11,
    "start_time": "2022-09-14T10:49:26.584Z"
   },
   {
    "duration": 24,
    "start_time": "2022-09-14T10:49:26.596Z"
   },
   {
    "duration": 4,
    "start_time": "2022-09-14T10:49:26.622Z"
   },
   {
    "duration": 11,
    "start_time": "2022-09-14T10:49:26.627Z"
   },
   {
    "duration": 35,
    "start_time": "2022-09-14T10:49:26.642Z"
   },
   {
    "duration": 5,
    "start_time": "2022-09-14T10:49:26.679Z"
   },
   {
    "duration": 11,
    "start_time": "2022-09-14T10:49:26.685Z"
   },
   {
    "duration": 6,
    "start_time": "2022-09-14T10:49:26.698Z"
   },
   {
    "duration": 18,
    "start_time": "2022-09-14T10:49:26.706Z"
   },
   {
    "duration": 22,
    "start_time": "2022-09-14T10:49:26.725Z"
   },
   {
    "duration": 33,
    "start_time": "2022-09-14T10:49:26.748Z"
   },
   {
    "duration": 7,
    "start_time": "2022-09-14T10:49:26.783Z"
   },
   {
    "duration": 5,
    "start_time": "2022-09-14T10:49:26.792Z"
   },
   {
    "duration": 9,
    "start_time": "2022-09-14T10:49:26.799Z"
   },
   {
    "duration": 9,
    "start_time": "2022-09-14T10:49:26.809Z"
   },
   {
    "duration": 20,
    "start_time": "2022-09-14T10:49:26.819Z"
   },
   {
    "duration": 8,
    "start_time": "2022-09-14T10:49:26.840Z"
   },
   {
    "duration": 28,
    "start_time": "2022-09-14T10:49:26.849Z"
   },
   {
    "duration": 7,
    "start_time": "2022-09-14T10:49:26.879Z"
   },
   {
    "duration": 6,
    "start_time": "2022-09-14T10:49:26.887Z"
   },
   {
    "duration": 90,
    "start_time": "2022-09-14T10:49:26.894Z"
   },
   {
    "duration": 0,
    "start_time": "2022-09-14T10:49:26.986Z"
   },
   {
    "duration": 0,
    "start_time": "2022-09-14T10:49:26.988Z"
   },
   {
    "duration": 0,
    "start_time": "2022-09-14T10:49:26.989Z"
   },
   {
    "duration": 0,
    "start_time": "2022-09-14T10:49:26.991Z"
   },
   {
    "duration": 0,
    "start_time": "2022-09-14T10:49:26.992Z"
   },
   {
    "duration": 0,
    "start_time": "2022-09-14T10:49:26.993Z"
   },
   {
    "duration": 0,
    "start_time": "2022-09-14T10:49:26.995Z"
   },
   {
    "duration": 0,
    "start_time": "2022-09-14T10:49:26.996Z"
   },
   {
    "duration": 0,
    "start_time": "2022-09-14T10:49:26.997Z"
   },
   {
    "duration": 0,
    "start_time": "2022-09-14T10:49:26.998Z"
   },
   {
    "duration": 0,
    "start_time": "2022-09-14T10:49:27.000Z"
   },
   {
    "duration": 0,
    "start_time": "2022-09-14T10:49:27.001Z"
   },
   {
    "duration": 0,
    "start_time": "2022-09-14T10:49:27.002Z"
   },
   {
    "duration": 0,
    "start_time": "2022-09-14T10:49:27.004Z"
   },
   {
    "duration": 0,
    "start_time": "2022-09-14T10:49:27.005Z"
   },
   {
    "duration": 0,
    "start_time": "2022-09-14T10:49:27.006Z"
   },
   {
    "duration": 0,
    "start_time": "2022-09-14T10:49:27.007Z"
   },
   {
    "duration": 0,
    "start_time": "2022-09-14T10:49:27.009Z"
   },
   {
    "duration": 0,
    "start_time": "2022-09-14T10:49:27.010Z"
   },
   {
    "duration": 0,
    "start_time": "2022-09-14T10:49:27.012Z"
   },
   {
    "duration": 0,
    "start_time": "2022-09-14T10:49:27.013Z"
   },
   {
    "duration": 0,
    "start_time": "2022-09-14T10:49:27.015Z"
   },
   {
    "duration": 0,
    "start_time": "2022-09-14T10:49:27.016Z"
   },
   {
    "duration": 0,
    "start_time": "2022-09-14T10:49:27.018Z"
   },
   {
    "duration": 0,
    "start_time": "2022-09-14T10:49:27.019Z"
   },
   {
    "duration": 0,
    "start_time": "2022-09-14T10:49:27.021Z"
   },
   {
    "duration": 0,
    "start_time": "2022-09-14T10:49:27.022Z"
   },
   {
    "duration": 0,
    "start_time": "2022-09-14T10:49:27.023Z"
   },
   {
    "duration": 180,
    "start_time": "2022-09-14T10:56:26.669Z"
   },
   {
    "duration": 659,
    "start_time": "2022-09-14T10:56:38.240Z"
   },
   {
    "duration": 81,
    "start_time": "2022-09-14T10:56:38.900Z"
   },
   {
    "duration": 48,
    "start_time": "2022-09-14T10:56:38.983Z"
   },
   {
    "duration": 19,
    "start_time": "2022-09-14T10:56:39.034Z"
   },
   {
    "duration": 6,
    "start_time": "2022-09-14T10:56:39.055Z"
   },
   {
    "duration": 20,
    "start_time": "2022-09-14T10:56:39.063Z"
   },
   {
    "duration": 15,
    "start_time": "2022-09-14T10:56:39.085Z"
   },
   {
    "duration": 9,
    "start_time": "2022-09-14T10:56:39.102Z"
   },
   {
    "duration": 15,
    "start_time": "2022-09-14T10:56:39.112Z"
   },
   {
    "duration": 7,
    "start_time": "2022-09-14T10:56:39.129Z"
   },
   {
    "duration": 9,
    "start_time": "2022-09-14T10:56:39.137Z"
   },
   {
    "duration": 32,
    "start_time": "2022-09-14T10:56:39.148Z"
   },
   {
    "duration": 14,
    "start_time": "2022-09-14T10:56:39.182Z"
   },
   {
    "duration": 4,
    "start_time": "2022-09-14T10:56:39.197Z"
   },
   {
    "duration": 12,
    "start_time": "2022-09-14T10:56:39.203Z"
   },
   {
    "duration": 4,
    "start_time": "2022-09-14T10:56:39.217Z"
   },
   {
    "duration": 10,
    "start_time": "2022-09-14T10:56:39.223Z"
   },
   {
    "duration": 6,
    "start_time": "2022-09-14T10:56:39.235Z"
   },
   {
    "duration": 41,
    "start_time": "2022-09-14T10:56:39.242Z"
   },
   {
    "duration": 9,
    "start_time": "2022-09-14T10:56:39.285Z"
   },
   {
    "duration": 15,
    "start_time": "2022-09-14T10:56:39.296Z"
   },
   {
    "duration": 4,
    "start_time": "2022-09-14T10:56:39.312Z"
   },
   {
    "duration": 7,
    "start_time": "2022-09-14T10:56:39.318Z"
   },
   {
    "duration": 13,
    "start_time": "2022-09-14T10:56:39.327Z"
   },
   {
    "duration": 41,
    "start_time": "2022-09-14T10:56:39.341Z"
   },
   {
    "duration": 5,
    "start_time": "2022-09-14T10:56:39.383Z"
   },
   {
    "duration": 14,
    "start_time": "2022-09-14T10:56:39.390Z"
   },
   {
    "duration": 5,
    "start_time": "2022-09-14T10:56:39.410Z"
   },
   {
    "duration": 10,
    "start_time": "2022-09-14T10:56:39.417Z"
   },
   {
    "duration": 7,
    "start_time": "2022-09-14T10:56:39.429Z"
   },
   {
    "duration": 7,
    "start_time": "2022-09-14T10:56:39.438Z"
   },
   {
    "duration": 43,
    "start_time": "2022-09-14T10:56:39.447Z"
   },
   {
    "duration": 23,
    "start_time": "2022-09-14T10:56:39.492Z"
   },
   {
    "duration": 7,
    "start_time": "2022-09-14T10:56:39.517Z"
   },
   {
    "duration": 8,
    "start_time": "2022-09-14T10:56:39.525Z"
   },
   {
    "duration": 4,
    "start_time": "2022-09-14T10:56:39.534Z"
   },
   {
    "duration": 37,
    "start_time": "2022-09-14T10:56:39.540Z"
   },
   {
    "duration": 10,
    "start_time": "2022-09-14T10:56:39.579Z"
   },
   {
    "duration": 28,
    "start_time": "2022-09-14T10:56:39.591Z"
   },
   {
    "duration": 13,
    "start_time": "2022-09-14T10:56:39.621Z"
   },
   {
    "duration": 4,
    "start_time": "2022-09-14T10:56:39.636Z"
   },
   {
    "duration": 11,
    "start_time": "2022-09-14T10:56:39.642Z"
   },
   {
    "duration": 27,
    "start_time": "2022-09-14T10:56:39.654Z"
   },
   {
    "duration": 70,
    "start_time": "2022-09-14T10:56:39.682Z"
   },
   {
    "duration": 0,
    "start_time": "2022-09-14T10:56:39.753Z"
   },
   {
    "duration": 0,
    "start_time": "2022-09-14T10:56:39.755Z"
   },
   {
    "duration": 0,
    "start_time": "2022-09-14T10:56:39.755Z"
   },
   {
    "duration": 0,
    "start_time": "2022-09-14T10:56:39.776Z"
   },
   {
    "duration": 0,
    "start_time": "2022-09-14T10:56:39.777Z"
   },
   {
    "duration": 0,
    "start_time": "2022-09-14T10:56:39.779Z"
   },
   {
    "duration": 0,
    "start_time": "2022-09-14T10:56:39.780Z"
   },
   {
    "duration": 0,
    "start_time": "2022-09-14T10:56:39.781Z"
   },
   {
    "duration": 0,
    "start_time": "2022-09-14T10:56:39.783Z"
   },
   {
    "duration": 0,
    "start_time": "2022-09-14T10:56:39.784Z"
   },
   {
    "duration": 0,
    "start_time": "2022-09-14T10:56:39.786Z"
   },
   {
    "duration": 0,
    "start_time": "2022-09-14T10:56:39.787Z"
   },
   {
    "duration": 0,
    "start_time": "2022-09-14T10:56:39.789Z"
   },
   {
    "duration": 0,
    "start_time": "2022-09-14T10:56:39.791Z"
   },
   {
    "duration": 0,
    "start_time": "2022-09-14T10:56:39.792Z"
   },
   {
    "duration": 0,
    "start_time": "2022-09-14T10:56:39.793Z"
   },
   {
    "duration": 0,
    "start_time": "2022-09-14T10:56:39.795Z"
   },
   {
    "duration": 0,
    "start_time": "2022-09-14T10:56:39.796Z"
   },
   {
    "duration": 0,
    "start_time": "2022-09-14T10:56:39.798Z"
   },
   {
    "duration": 0,
    "start_time": "2022-09-14T10:56:39.800Z"
   },
   {
    "duration": 0,
    "start_time": "2022-09-14T10:56:39.801Z"
   },
   {
    "duration": 0,
    "start_time": "2022-09-14T10:56:39.802Z"
   },
   {
    "duration": 0,
    "start_time": "2022-09-14T10:56:39.804Z"
   },
   {
    "duration": 0,
    "start_time": "2022-09-14T10:56:39.805Z"
   },
   {
    "duration": 0,
    "start_time": "2022-09-14T10:56:39.806Z"
   },
   {
    "duration": 0,
    "start_time": "2022-09-14T10:56:39.808Z"
   },
   {
    "duration": 0,
    "start_time": "2022-09-14T10:56:39.809Z"
   },
   {
    "duration": 0,
    "start_time": "2022-09-14T10:56:39.810Z"
   },
   {
    "duration": 69,
    "start_time": "2022-09-14T10:56:51.583Z"
   },
   {
    "duration": 3,
    "start_time": "2022-09-14T10:56:59.970Z"
   },
   {
    "duration": 108,
    "start_time": "2022-09-14T10:57:00.394Z"
   },
   {
    "duration": 39,
    "start_time": "2022-09-14T10:57:00.689Z"
   },
   {
    "duration": 15,
    "start_time": "2022-09-14T10:57:01.452Z"
   },
   {
    "duration": 7,
    "start_time": "2022-09-14T10:57:02.279Z"
   },
   {
    "duration": 18,
    "start_time": "2022-09-14T10:57:02.564Z"
   },
   {
    "duration": 26,
    "start_time": "2022-09-14T10:57:02.957Z"
   },
   {
    "duration": 8,
    "start_time": "2022-09-14T10:57:03.354Z"
   },
   {
    "duration": 18,
    "start_time": "2022-09-14T10:57:04.574Z"
   },
   {
    "duration": 7,
    "start_time": "2022-09-14T10:57:04.974Z"
   },
   {
    "duration": 5,
    "start_time": "2022-09-14T10:57:05.173Z"
   },
   {
    "duration": 6,
    "start_time": "2022-09-14T10:57:05.580Z"
   },
   {
    "duration": 18,
    "start_time": "2022-09-14T10:57:05.788Z"
   },
   {
    "duration": 6,
    "start_time": "2022-09-14T10:57:05.989Z"
   },
   {
    "duration": 13,
    "start_time": "2022-09-14T10:57:06.574Z"
   },
   {
    "duration": 5,
    "start_time": "2022-09-14T10:57:06.960Z"
   },
   {
    "duration": 9,
    "start_time": "2022-09-14T10:57:07.349Z"
   },
   {
    "duration": 5,
    "start_time": "2022-09-14T10:57:07.543Z"
   },
   {
    "duration": 11,
    "start_time": "2022-09-14T10:57:07.735Z"
   },
   {
    "duration": 4,
    "start_time": "2022-09-14T10:57:08.134Z"
   },
   {
    "duration": 10,
    "start_time": "2022-09-14T10:57:08.337Z"
   },
   {
    "duration": 4,
    "start_time": "2022-09-14T10:57:08.744Z"
   },
   {
    "duration": 6,
    "start_time": "2022-09-14T10:57:09.306Z"
   },
   {
    "duration": 11,
    "start_time": "2022-09-14T10:57:09.754Z"
   },
   {
    "duration": 44,
    "start_time": "2022-09-14T10:57:10.407Z"
   },
   {
    "duration": 6,
    "start_time": "2022-09-14T10:57:11.270Z"
   },
   {
    "duration": 6,
    "start_time": "2022-09-14T10:57:11.486Z"
   },
   {
    "duration": 6,
    "start_time": "2022-09-14T10:57:11.690Z"
   },
   {
    "duration": 6,
    "start_time": "2022-09-14T10:57:11.893Z"
   },
   {
    "duration": 8,
    "start_time": "2022-09-14T10:57:12.097Z"
   },
   {
    "duration": 9,
    "start_time": "2022-09-14T10:57:12.311Z"
   },
   {
    "duration": 25,
    "start_time": "2022-09-14T10:57:12.516Z"
   },
   {
    "duration": 25,
    "start_time": "2022-09-14T10:57:13.134Z"
   },
   {
    "duration": 6,
    "start_time": "2022-09-14T10:57:13.620Z"
   },
   {
    "duration": 4,
    "start_time": "2022-09-14T10:57:14.653Z"
   },
   {
    "duration": 3,
    "start_time": "2022-09-14T10:57:15.334Z"
   },
   {
    "duration": 7,
    "start_time": "2022-09-14T10:57:15.692Z"
   },
   {
    "duration": 9,
    "start_time": "2022-09-14T10:57:16.001Z"
   },
   {
    "duration": 24,
    "start_time": "2022-09-14T10:57:16.263Z"
   },
   {
    "duration": 8,
    "start_time": "2022-09-14T10:57:17.477Z"
   },
   {
    "duration": 5,
    "start_time": "2022-09-14T10:57:17.734Z"
   },
   {
    "duration": 11,
    "start_time": "2022-09-14T10:57:17.964Z"
   },
   {
    "duration": 5,
    "start_time": "2022-09-14T10:57:18.177Z"
   },
   {
    "duration": 10,
    "start_time": "2022-09-14T10:57:18.393Z"
   },
   {
    "duration": 10,
    "start_time": "2022-09-14T10:57:33.050Z"
   },
   {
    "duration": 32,
    "start_time": "2022-09-14T10:57:43.046Z"
   },
   {
    "duration": 4,
    "start_time": "2022-09-14T10:57:57.073Z"
   },
   {
    "duration": 8,
    "start_time": "2022-09-14T10:57:57.757Z"
   },
   {
    "duration": 5,
    "start_time": "2022-09-14T10:57:58.215Z"
   },
   {
    "duration": 12,
    "start_time": "2022-09-14T10:57:58.686Z"
   },
   {
    "duration": 10,
    "start_time": "2022-09-14T10:58:43.771Z"
   },
   {
    "duration": 30,
    "start_time": "2022-09-14T10:58:46.843Z"
   },
   {
    "duration": 5,
    "start_time": "2022-09-14T10:58:47.469Z"
   },
   {
    "duration": 6,
    "start_time": "2022-09-14T10:58:49.699Z"
   },
   {
    "duration": 155,
    "start_time": "2022-09-14T10:58:49.968Z"
   },
   {
    "duration": 7,
    "start_time": "2022-09-14T10:58:50.342Z"
   },
   {
    "duration": 7,
    "start_time": "2022-09-14T10:58:50.730Z"
   },
   {
    "duration": 6,
    "start_time": "2022-09-14T10:58:51.119Z"
   },
   {
    "duration": 6,
    "start_time": "2022-09-14T10:58:51.792Z"
   },
   {
    "duration": 4,
    "start_time": "2022-09-14T10:58:52.498Z"
   },
   {
    "duration": 268,
    "start_time": "2022-09-14T10:58:53.109Z"
   },
   {
    "duration": 10,
    "start_time": "2022-09-14T10:58:54.307Z"
   },
   {
    "duration": 27,
    "start_time": "2022-09-14T10:58:54.661Z"
   },
   {
    "duration": 11,
    "start_time": "2022-09-14T10:59:10.704Z"
   },
   {
    "duration": 96,
    "start_time": "2022-09-14T10:59:11.604Z"
   },
   {
    "duration": 8,
    "start_time": "2022-09-14T10:59:12.107Z"
   },
   {
    "duration": 19,
    "start_time": "2022-09-14T10:59:14.217Z"
   },
   {
    "duration": 17,
    "start_time": "2022-09-14T10:59:15.644Z"
   },
   {
    "duration": 10,
    "start_time": "2022-09-14T10:59:15.911Z"
   },
   {
    "duration": 10,
    "start_time": "2022-09-14T10:59:16.255Z"
   },
   {
    "duration": 4,
    "start_time": "2022-09-14T10:59:16.979Z"
   },
   {
    "duration": 8,
    "start_time": "2022-09-14T10:59:17.637Z"
   },
   {
    "duration": 111,
    "start_time": "2022-09-14T10:59:17.822Z"
   },
   {
    "duration": 44,
    "start_time": "2022-09-15T16:17:01.621Z"
   },
   {
    "duration": 802,
    "start_time": "2022-09-15T16:17:13.761Z"
   },
   {
    "duration": 271,
    "start_time": "2022-09-15T16:17:14.566Z"
   },
   {
    "duration": 87,
    "start_time": "2022-09-15T16:17:14.839Z"
   },
   {
    "duration": 19,
    "start_time": "2022-09-15T16:17:14.928Z"
   },
   {
    "duration": 6,
    "start_time": "2022-09-15T16:17:14.948Z"
   },
   {
    "duration": 20,
    "start_time": "2022-09-15T16:17:14.955Z"
   },
   {
    "duration": 16,
    "start_time": "2022-09-15T16:17:14.977Z"
   },
   {
    "duration": 9,
    "start_time": "2022-09-15T16:17:14.994Z"
   },
   {
    "duration": 43,
    "start_time": "2022-09-15T16:17:15.005Z"
   },
   {
    "duration": 8,
    "start_time": "2022-09-15T16:17:15.050Z"
   },
   {
    "duration": 9,
    "start_time": "2022-09-15T16:17:15.059Z"
   },
   {
    "duration": 7,
    "start_time": "2022-09-15T16:17:15.070Z"
   },
   {
    "duration": 12,
    "start_time": "2022-09-15T16:17:15.079Z"
   },
   {
    "duration": 4,
    "start_time": "2022-09-15T16:17:15.092Z"
   },
   {
    "duration": 21,
    "start_time": "2022-09-15T16:17:15.098Z"
   },
   {
    "duration": 17,
    "start_time": "2022-09-15T16:17:15.121Z"
   },
   {
    "duration": 11,
    "start_time": "2022-09-15T16:17:15.140Z"
   },
   {
    "duration": 6,
    "start_time": "2022-09-15T16:17:15.153Z"
   },
   {
    "duration": 11,
    "start_time": "2022-09-15T16:17:15.161Z"
   },
   {
    "duration": 3,
    "start_time": "2022-09-15T16:17:15.173Z"
   },
   {
    "duration": 13,
    "start_time": "2022-09-15T16:17:15.178Z"
   },
   {
    "duration": 3,
    "start_time": "2022-09-15T16:17:15.192Z"
   },
   {
    "duration": 10,
    "start_time": "2022-09-15T16:17:15.196Z"
   },
   {
    "duration": 25,
    "start_time": "2022-09-15T16:17:15.213Z"
   },
   {
    "duration": 24,
    "start_time": "2022-09-15T16:17:15.239Z"
   },
   {
    "duration": 5,
    "start_time": "2022-09-15T16:17:15.265Z"
   },
   {
    "duration": 25,
    "start_time": "2022-09-15T16:17:15.272Z"
   },
   {
    "duration": 20,
    "start_time": "2022-09-15T16:17:15.302Z"
   },
   {
    "duration": 11,
    "start_time": "2022-09-15T16:17:15.323Z"
   },
   {
    "duration": 13,
    "start_time": "2022-09-15T16:17:15.335Z"
   },
   {
    "duration": 12,
    "start_time": "2022-09-15T16:17:15.349Z"
   },
   {
    "duration": 18,
    "start_time": "2022-09-15T16:17:15.362Z"
   },
   {
    "duration": 21,
    "start_time": "2022-09-15T16:17:15.382Z"
   },
   {
    "duration": 19,
    "start_time": "2022-09-15T16:17:15.405Z"
   },
   {
    "duration": 6,
    "start_time": "2022-09-15T16:17:15.426Z"
   },
   {
    "duration": 3,
    "start_time": "2022-09-15T16:17:15.434Z"
   },
   {
    "duration": 8,
    "start_time": "2022-09-15T16:17:15.439Z"
   },
   {
    "duration": 10,
    "start_time": "2022-09-15T16:17:15.450Z"
   },
   {
    "duration": 25,
    "start_time": "2022-09-15T16:17:15.461Z"
   },
   {
    "duration": 30,
    "start_time": "2022-09-15T16:17:15.488Z"
   },
   {
    "duration": 6,
    "start_time": "2022-09-15T16:17:15.523Z"
   },
   {
    "duration": 10,
    "start_time": "2022-09-15T16:17:15.531Z"
   },
   {
    "duration": 7,
    "start_time": "2022-09-15T16:17:15.542Z"
   },
   {
    "duration": 86,
    "start_time": "2022-09-15T16:17:15.551Z"
   },
   {
    "duration": 0,
    "start_time": "2022-09-15T16:17:15.639Z"
   },
   {
    "duration": 0,
    "start_time": "2022-09-15T16:17:15.641Z"
   },
   {
    "duration": 0,
    "start_time": "2022-09-15T16:17:15.642Z"
   },
   {
    "duration": 0,
    "start_time": "2022-09-15T16:17:15.644Z"
   },
   {
    "duration": 0,
    "start_time": "2022-09-15T16:17:15.645Z"
   },
   {
    "duration": 0,
    "start_time": "2022-09-15T16:17:15.647Z"
   },
   {
    "duration": 0,
    "start_time": "2022-09-15T16:17:15.648Z"
   },
   {
    "duration": 0,
    "start_time": "2022-09-15T16:17:15.649Z"
   },
   {
    "duration": 0,
    "start_time": "2022-09-15T16:17:15.651Z"
   },
   {
    "duration": 0,
    "start_time": "2022-09-15T16:17:15.653Z"
   },
   {
    "duration": 0,
    "start_time": "2022-09-15T16:17:15.654Z"
   },
   {
    "duration": 0,
    "start_time": "2022-09-15T16:17:15.655Z"
   },
   {
    "duration": 0,
    "start_time": "2022-09-15T16:17:15.656Z"
   },
   {
    "duration": 0,
    "start_time": "2022-09-15T16:17:15.657Z"
   },
   {
    "duration": 0,
    "start_time": "2022-09-15T16:17:15.659Z"
   },
   {
    "duration": 0,
    "start_time": "2022-09-15T16:17:15.660Z"
   },
   {
    "duration": 0,
    "start_time": "2022-09-15T16:17:15.662Z"
   },
   {
    "duration": 0,
    "start_time": "2022-09-15T16:17:15.705Z"
   },
   {
    "duration": 0,
    "start_time": "2022-09-15T16:17:15.709Z"
   },
   {
    "duration": 0,
    "start_time": "2022-09-15T16:17:15.709Z"
   },
   {
    "duration": 0,
    "start_time": "2022-09-15T16:17:15.710Z"
   },
   {
    "duration": 0,
    "start_time": "2022-09-15T16:17:15.712Z"
   },
   {
    "duration": 0,
    "start_time": "2022-09-15T16:17:15.713Z"
   },
   {
    "duration": 0,
    "start_time": "2022-09-15T16:17:15.715Z"
   },
   {
    "duration": 0,
    "start_time": "2022-09-15T16:17:15.716Z"
   },
   {
    "duration": 0,
    "start_time": "2022-09-15T16:17:15.719Z"
   },
   {
    "duration": 0,
    "start_time": "2022-09-15T16:17:15.721Z"
   },
   {
    "duration": 0,
    "start_time": "2022-09-15T16:17:15.722Z"
   },
   {
    "duration": 16,
    "start_time": "2022-09-15T16:18:06.002Z"
   }
  ],
  "colab": {
   "name": "DA+. Сборный проект 1. Шаблон (1).ipynb",
   "provenance": []
  },
  "kernelspec": {
   "display_name": "Python 3 (ipykernel)",
   "language": "python",
   "name": "python3"
  },
  "language_info": {
   "codemirror_mode": {
    "name": "ipython",
    "version": 3
   },
   "file_extension": ".py",
   "mimetype": "text/x-python",
   "name": "python",
   "nbconvert_exporter": "python",
   "pygments_lexer": "ipython3",
   "version": "3.9.13"
  },
  "toc": {
   "base_numbering": 1,
   "nav_menu": {},
   "number_sections": true,
   "sideBar": true,
   "skip_h1_title": true,
   "title_cell": "Table of Contents",
   "title_sidebar": "Contents",
   "toc_cell": false,
   "toc_position": {
    "height": "calc(100% - 180px)",
    "left": "10px",
    "top": "150px",
    "width": "375.391px"
   },
   "toc_section_display": true,
   "toc_window_display": false
  }
 },
 "nbformat": 4,
 "nbformat_minor": 1
}
