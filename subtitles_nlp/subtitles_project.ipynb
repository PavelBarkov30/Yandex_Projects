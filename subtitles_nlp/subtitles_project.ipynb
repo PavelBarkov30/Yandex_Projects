{
 "cells": [
  {
   "cell_type": "markdown",
   "id": "7f54c9a6-9038-40fc-9b27-d2c22fd0910d",
   "metadata": {
    "pycharm": {
     "name": "#%% md\n"
    }
   },
   "source": [
    "#### Просмотр фильмов на языке оригинала - популярный‌ и действенный метод прокачаться при изучении иностранных языков. Важно выбрать фильм, который‌ подойдет по уровню сложности, чтобы студент понимал 50-70 % диалогов.<br>\n",
    "#### `Цель:` разработать ML-решение для автоматического определения уровня сложности англоязычных фильмов."
   ]
  },
  {
   "cell_type": "markdown",
   "id": "f598e35e-3c39-4fc5-a405-c7c658bcb1da",
   "metadata": {
    "pycharm": {
     "name": "#%% md\n"
    }
   },
   "source": [
    "Исходные данные: размеченный датасет с названиями фильмов, субтитрами и меткой уровня сложности языка (A1/A2/B1/B2/C1/C2). "
   ]
  },
  {
   "cell_type": "code",
   "execution_count": 1,
   "id": "a581938e-a99e-47fa-85df-412a8d88cd2e",
   "metadata": {
    "pycharm": {
     "name": "#%%\n"
    }
   },
   "outputs": [
    {
     "name": "stdout",
     "output_type": "stream",
     "text": [
      "Note: you may need to restart the kernel to use updated packages.\n"
     ]
    }
   ],
   "source": [
    "pip install -q spacy"
   ]
  },
  {
   "cell_type": "code",
   "execution_count": 2,
   "id": "ec50dcd8-96f5-4d97-ad56-388dc5993425",
   "metadata": {
    "pycharm": {
     "name": "#%%\n"
    }
   },
   "outputs": [
    {
     "name": "stdout",
     "output_type": "stream",
     "text": [
      "Note: you may need to restart the kernel to use updated packages.\n"
     ]
    }
   ],
   "source": [
    "pip install -q pysrt"
   ]
  },
  {
   "cell_type": "code",
   "execution_count": 1,
   "id": "59aa8452-ccf8-4ea5-afc5-2c421ff8bde3",
   "metadata": {
    "pycharm": {
     "name": "#%%\n"
    }
   },
   "outputs": [
    {
     "name": "stderr",
     "output_type": "stream",
     "text": [
      "[nltk_data] Downloading package stopwords to\n",
      "[nltk_data]     C:\\Users\\pulka\\AppData\\Roaming\\nltk_data...\n",
      "[nltk_data]   Package stopwords is already up-to-date!\n",
      "[nltk_data] Downloading package wordnet to\n",
      "[nltk_data]     C:\\Users\\pulka\\AppData\\Roaming\\nltk_data...\n",
      "[nltk_data]   Package wordnet is already up-to-date!\n",
      "[nltk_data] Downloading package punkt to\n",
      "[nltk_data]     C:\\Users\\pulka\\AppData\\Roaming\\nltk_data...\n",
      "[nltk_data]   Package punkt is already up-to-date!\n",
      "[nltk_data] Downloading package omw-1.4 to\n",
      "[nltk_data]     C:\\Users\\pulka\\AppData\\Roaming\\nltk_data...\n",
      "[nltk_data]   Package omw-1.4 is already up-to-date!\n"
     ]
    },
    {
     "data": {
      "text/plain": "True"
     },
     "execution_count": 1,
     "metadata": {},
     "output_type": "execute_result"
    }
   ],
   "source": [
    "# импорт необходимых модулей\n",
    "import pandas as pd\n",
    "import matplotlib.pyplot as plt\n",
    "import nltk\n",
    "import spacy\n",
    "import pysrt\n",
    "import os\n",
    "import re\n",
    "from sklearn.model_selection import train_test_split\n",
    "from catboost import CatBoostClassifier, Pool\n",
    "from sklearn.model_selection import GridSearchCV\n",
    "from sklearn.metrics import accuracy_score, f1_score, confusion_matrix, ConfusionMatrixDisplay\n",
    "from imblearn.over_sampling import SMOTE\n",
    "from nltk.tokenize import word_tokenize, sent_tokenize\n",
    "from nltk.stem import wordnet\n",
    "from nltk.corpus import stopwords\n",
    "import string\n",
    "from nltk.stem import WordNetLemmatizer\n",
    "from sklearn.feature_extraction.text import CountVectorizer\n",
    "nltk.download('stopwords')\n",
    "nltk.download('wordnet')\n",
    "nltk.download('punkt')\n",
    "nltk.download('omw-1.4')"
   ]
  },
  {
   "cell_type": "markdown",
   "id": "91f8a527-5f6e-4604-a6b3-50fd138245ea",
   "metadata": {
    "pycharm": {
     "name": "#%% md\n"
    }
   },
   "source": [
    "### Чтение данных из файлов."
   ]
  },
  {
   "cell_type": "markdown",
   "id": "3c4e5659-8ed2-474d-b8d9-2cf42b1c9610",
   "metadata": {
    "pycharm": {
     "name": "#%% md\n"
    }
   },
   "source": [
    "#### Выборка с известными лэйблами"
   ]
  },
  {
   "cell_type": "code",
   "execution_count": 2,
   "id": "28c66ee1-7f6f-4f26-b583-f1be404bd064",
   "metadata": {
    "pycharm": {
     "name": "#%%\n"
    }
   },
   "outputs": [],
   "source": [
    "df = pd.read_excel('D:\\мастерская NLP\\English_level\\movies_labels.xlsx')"
   ]
  },
  {
   "cell_type": "code",
   "execution_count": 3,
   "id": "89cafe88-1431-498a-8e99-8f774c9b6ef5",
   "metadata": {
    "pycharm": {
     "name": "#%%\n"
    }
   },
   "outputs": [
    {
     "data": {
      "text/plain": "      id                             Movie   Level\n0      0         10_Cloverfield_lane(2016)      B1\n1      1  10_things_I_hate_about_you(1999)      B1\n2      2              A_knights_tale(2001)      B2\n3      3              A_star_is_born(2018)      B2\n4      4                     Aladdin(1992)  A2/A2+\n..   ...                               ...     ...\n236  236                     Matilda(2022)      C1\n237  237                      Bullet train      B1\n238  238            Thor: love and thunder      B2\n239  239                         Lightyear      B2\n240  240                        The Grinch      B1\n\n[241 rows x 3 columns]",
      "text/html": "<div>\n<style scoped>\n    .dataframe tbody tr th:only-of-type {\n        vertical-align: middle;\n    }\n\n    .dataframe tbody tr th {\n        vertical-align: top;\n    }\n\n    .dataframe thead th {\n        text-align: right;\n    }\n</style>\n<table border=\"1\" class=\"dataframe\">\n  <thead>\n    <tr style=\"text-align: right;\">\n      <th></th>\n      <th>id</th>\n      <th>Movie</th>\n      <th>Level</th>\n    </tr>\n  </thead>\n  <tbody>\n    <tr>\n      <th>0</th>\n      <td>0</td>\n      <td>10_Cloverfield_lane(2016)</td>\n      <td>B1</td>\n    </tr>\n    <tr>\n      <th>1</th>\n      <td>1</td>\n      <td>10_things_I_hate_about_you(1999)</td>\n      <td>B1</td>\n    </tr>\n    <tr>\n      <th>2</th>\n      <td>2</td>\n      <td>A_knights_tale(2001)</td>\n      <td>B2</td>\n    </tr>\n    <tr>\n      <th>3</th>\n      <td>3</td>\n      <td>A_star_is_born(2018)</td>\n      <td>B2</td>\n    </tr>\n    <tr>\n      <th>4</th>\n      <td>4</td>\n      <td>Aladdin(1992)</td>\n      <td>A2/A2+</td>\n    </tr>\n    <tr>\n      <th>...</th>\n      <td>...</td>\n      <td>...</td>\n      <td>...</td>\n    </tr>\n    <tr>\n      <th>236</th>\n      <td>236</td>\n      <td>Matilda(2022)</td>\n      <td>C1</td>\n    </tr>\n    <tr>\n      <th>237</th>\n      <td>237</td>\n      <td>Bullet train</td>\n      <td>B1</td>\n    </tr>\n    <tr>\n      <th>238</th>\n      <td>238</td>\n      <td>Thor: love and thunder</td>\n      <td>B2</td>\n    </tr>\n    <tr>\n      <th>239</th>\n      <td>239</td>\n      <td>Lightyear</td>\n      <td>B2</td>\n    </tr>\n    <tr>\n      <th>240</th>\n      <td>240</td>\n      <td>The Grinch</td>\n      <td>B1</td>\n    </tr>\n  </tbody>\n</table>\n<p>241 rows × 3 columns</p>\n</div>"
     },
     "execution_count": 3,
     "metadata": {},
     "output_type": "execute_result"
    }
   ],
   "source": [
    "df"
   ]
  },
  {
   "cell_type": "markdown",
   "id": "9adada8a-e09c-4eb5-bcfa-659962ce4f27",
   "metadata": {
    "pycharm": {
     "name": "#%% md\n"
    }
   },
   "source": [
    "#### Выборка без лэйблов"
   ]
  },
  {
   "cell_type": "code",
   "execution_count": 4,
   "id": "1003c8dc-a4f3-4098-87bb-e7a5c13cdfed",
   "metadata": {
    "pycharm": {
     "name": "#%%\n"
    }
   },
   "outputs": [],
   "source": [
    "def text_sub(path):\n",
    "    films = os.listdir(path = path)\n",
    "    data = {}\n",
    "    for i in range(len(films)):\n",
    "        subs = pysrt.open(path + films[i], encoding='iso-8859-1')\n",
    "        subt=[]\n",
    "        for sub in subs:\n",
    "            subt.append(sub.text_without_tags.split('\\n'))\n",
    "        data[films[i]] = subt\n",
    "    data = pd.DataFrame({'Movie': films, 'Subtitles': data.values()})\n",
    "    return data"
   ]
  },
  {
   "cell_type": "code",
   "execution_count": 5,
   "id": "439a42ba-3e0e-4832-b144-f866db0f4156",
   "metadata": {
    "pycharm": {
     "name": "#%%\n"
    }
   },
   "outputs": [],
   "source": [
    "data_1 = text_sub('D:/мастерская NLP/English_level/Subtitles_all/Subtitles/')"
   ]
  },
  {
   "cell_type": "code",
   "execution_count": 6,
   "id": "ee683170-50e9-4ebd-b13c-d2043ffcd398",
   "metadata": {
    "pycharm": {
     "name": "#%%\n"
    }
   },
   "outputs": [],
   "source": [
    "data_1['Movie'] = [i[:-4] for i in data_1['Movie']]"
   ]
  },
  {
   "cell_type": "code",
   "execution_count": 7,
   "id": "aab152ac-2a55-4ac1-906d-32e26824c6d4",
   "metadata": {
    "pycharm": {
     "name": "#%%\n"
    }
   },
   "outputs": [
    {
     "data": {
      "text/plain": "                                     Movie  \\\n0                              Dredd(2012)   \n1                      Despicable_Me(2010)   \n2    The_secret_life_of_Walter_Mitty(2013)   \n3                              Shrek(2001)   \n4                           Deadpool(2016)   \n..                                     ...   \n110                          Matilda(1996)   \n111                              Her(2013)   \n112       The_Fundamentals_of_Caring(2016)   \n113                       The_Intern(2015)   \n114                          Aladdin(1992)   \n\n                                             Subtitles  \n0    [[America is an irradiated wasteIand.], [Withi...  \n1    [[Excuse me, sir,, is there a commode?], [Just...  \n2    [[Huh?], [Hi! Todd Mahar,, eHarmony.], [How ca...  \n3    [[anoXmous, https://thepiratebay.se/user/Zen_B...  \n4    [[WordsKill, Edited by ahmedhamdy90 / subscene...  \n..                                                 ...  \n110  [[(MUSIC)], [ NARRATOR: Everyone is born,], [b...  \n111  [[Advertise your product or brand here, contac...  \n112  [[Caregiving is not just, about feeding and cl...  \n113  [[Freud said, \"love and work., Work and love.]...  \n114  [[Oh, I come from a land, From a faraway place...  \n\n[115 rows x 2 columns]",
      "text/html": "<div>\n<style scoped>\n    .dataframe tbody tr th:only-of-type {\n        vertical-align: middle;\n    }\n\n    .dataframe tbody tr th {\n        vertical-align: top;\n    }\n\n    .dataframe thead th {\n        text-align: right;\n    }\n</style>\n<table border=\"1\" class=\"dataframe\">\n  <thead>\n    <tr style=\"text-align: right;\">\n      <th></th>\n      <th>Movie</th>\n      <th>Subtitles</th>\n    </tr>\n  </thead>\n  <tbody>\n    <tr>\n      <th>0</th>\n      <td>Dredd(2012)</td>\n      <td>[[America is an irradiated wasteIand.], [Withi...</td>\n    </tr>\n    <tr>\n      <th>1</th>\n      <td>Despicable_Me(2010)</td>\n      <td>[[Excuse me, sir,, is there a commode?], [Just...</td>\n    </tr>\n    <tr>\n      <th>2</th>\n      <td>The_secret_life_of_Walter_Mitty(2013)</td>\n      <td>[[Huh?], [Hi! Todd Mahar,, eHarmony.], [How ca...</td>\n    </tr>\n    <tr>\n      <th>3</th>\n      <td>Shrek(2001)</td>\n      <td>[[anoXmous, https://thepiratebay.se/user/Zen_B...</td>\n    </tr>\n    <tr>\n      <th>4</th>\n      <td>Deadpool(2016)</td>\n      <td>[[WordsKill, Edited by ahmedhamdy90 / subscene...</td>\n    </tr>\n    <tr>\n      <th>...</th>\n      <td>...</td>\n      <td>...</td>\n    </tr>\n    <tr>\n      <th>110</th>\n      <td>Matilda(1996)</td>\n      <td>[[(MUSIC)], [ NARRATOR: Everyone is born,], [b...</td>\n    </tr>\n    <tr>\n      <th>111</th>\n      <td>Her(2013)</td>\n      <td>[[Advertise your product or brand here, contac...</td>\n    </tr>\n    <tr>\n      <th>112</th>\n      <td>The_Fundamentals_of_Caring(2016)</td>\n      <td>[[Caregiving is not just, about feeding and cl...</td>\n    </tr>\n    <tr>\n      <th>113</th>\n      <td>The_Intern(2015)</td>\n      <td>[[Freud said, \"love and work., Work and love.]...</td>\n    </tr>\n    <tr>\n      <th>114</th>\n      <td>Aladdin(1992)</td>\n      <td>[[Oh, I come from a land, From a faraway place...</td>\n    </tr>\n  </tbody>\n</table>\n<p>115 rows × 2 columns</p>\n</div>"
     },
     "execution_count": 7,
     "metadata": {},
     "output_type": "execute_result"
    }
   ],
   "source": [
    "data_1"
   ]
  },
  {
   "cell_type": "code",
   "execution_count": 105,
   "id": "1bde4692-0bee-4411-8586-b0418bf7a252",
   "metadata": {
    "pycharm": {
     "name": "#%%\n"
    }
   },
   "outputs": [],
   "source": [
    "data_2 = data_1.merge(df, on= 'Movie')"
   ]
  },
  {
   "cell_type": "code",
   "execution_count": 106,
   "id": "c1956679-7ca8-47a5-a5a3-8e212a5e43e3",
   "metadata": {
    "pycharm": {
     "name": "#%%\n"
    }
   },
   "outputs": [],
   "source": [
    "data_2 = data_2.drop('id',axis = 1)"
   ]
  },
  {
   "cell_type": "code",
   "execution_count": 107,
   "id": "c4f6ed4b-062f-488c-a831-2378391339a7",
   "metadata": {
    "pycharm": {
     "name": "#%%\n"
    }
   },
   "outputs": [
    {
     "data": {
      "text/html": [
       "<div>\n",
       "<style scoped>\n",
       "    .dataframe tbody tr th:only-of-type {\n",
       "        vertical-align: middle;\n",
       "    }\n",
       "\n",
       "    .dataframe tbody tr th {\n",
       "        vertical-align: top;\n",
       "    }\n",
       "\n",
       "    .dataframe thead th {\n",
       "        text-align: right;\n",
       "    }\n",
       "</style>\n",
       "<table border=\"1\" class=\"dataframe\">\n",
       "  <thead>\n",
       "    <tr style=\"text-align: right;\">\n",
       "      <th></th>\n",
       "      <th>Movie</th>\n",
       "      <th>Subtitles</th>\n",
       "      <th>Level</th>\n",
       "    </tr>\n",
       "  </thead>\n",
       "  <tbody>\n",
       "    <tr>\n",
       "      <th>0</th>\n",
       "      <td>Dredd(2012)</td>\n",
       "      <td>[[America is an irradiated wasteIand.], [Withi...</td>\n",
       "      <td>A2/A2+</td>\n",
       "    </tr>\n",
       "    <tr>\n",
       "      <th>1</th>\n",
       "      <td>Despicable_Me(2010)</td>\n",
       "      <td>[[Excuse me, sir,, is there a commode?], [Just...</td>\n",
       "      <td>B2</td>\n",
       "    </tr>\n",
       "    <tr>\n",
       "      <th>2</th>\n",
       "      <td>The_secret_life_of_Walter_Mitty(2013)</td>\n",
       "      <td>[[Huh?], [Hi! Todd Mahar,, eHarmony.], [How ca...</td>\n",
       "      <td>B1</td>\n",
       "    </tr>\n",
       "    <tr>\n",
       "      <th>3</th>\n",
       "      <td>Shrek(2001)</td>\n",
       "      <td>[[anoXmous, https://thepiratebay.se/user/Zen_B...</td>\n",
       "      <td>B1</td>\n",
       "    </tr>\n",
       "    <tr>\n",
       "      <th>4</th>\n",
       "      <td>Deadpool(2016)</td>\n",
       "      <td>[[WordsKill, Edited by ahmedhamdy90 / subscene...</td>\n",
       "      <td>B2</td>\n",
       "    </tr>\n",
       "    <tr>\n",
       "      <th>...</th>\n",
       "      <td>...</td>\n",
       "      <td>...</td>\n",
       "      <td>...</td>\n",
       "    </tr>\n",
       "    <tr>\n",
       "      <th>105</th>\n",
       "      <td>Matilda(1996)</td>\n",
       "      <td>[[(MUSIC)], [ NARRATOR: Everyone is born,], [b...</td>\n",
       "      <td>B1</td>\n",
       "    </tr>\n",
       "    <tr>\n",
       "      <th>106</th>\n",
       "      <td>Her(2013)</td>\n",
       "      <td>[[Advertise your product or brand here, contac...</td>\n",
       "      <td>A2/A2+, B1</td>\n",
       "    </tr>\n",
       "    <tr>\n",
       "      <th>107</th>\n",
       "      <td>The_Fundamentals_of_Caring(2016)</td>\n",
       "      <td>[[Caregiving is not just, about feeding and cl...</td>\n",
       "      <td>B1</td>\n",
       "    </tr>\n",
       "    <tr>\n",
       "      <th>108</th>\n",
       "      <td>The_Intern(2015)</td>\n",
       "      <td>[[Freud said, \"love and work., Work and love.]...</td>\n",
       "      <td>B2</td>\n",
       "    </tr>\n",
       "    <tr>\n",
       "      <th>109</th>\n",
       "      <td>Aladdin(1992)</td>\n",
       "      <td>[[Oh, I come from a land, From a faraway place...</td>\n",
       "      <td>A2/A2+</td>\n",
       "    </tr>\n",
       "  </tbody>\n",
       "</table>\n",
       "<p>110 rows × 3 columns</p>\n",
       "</div>"
      ],
      "text/plain": [
       "                                     Movie  \\\n",
       "0                              Dredd(2012)   \n",
       "1                      Despicable_Me(2010)   \n",
       "2    The_secret_life_of_Walter_Mitty(2013)   \n",
       "3                              Shrek(2001)   \n",
       "4                           Deadpool(2016)   \n",
       "..                                     ...   \n",
       "105                          Matilda(1996)   \n",
       "106                              Her(2013)   \n",
       "107       The_Fundamentals_of_Caring(2016)   \n",
       "108                       The_Intern(2015)   \n",
       "109                          Aladdin(1992)   \n",
       "\n",
       "                                             Subtitles       Level  \n",
       "0    [[America is an irradiated wasteIand.], [Withi...      A2/A2+  \n",
       "1    [[Excuse me, sir,, is there a commode?], [Just...          B2  \n",
       "2    [[Huh?], [Hi! Todd Mahar,, eHarmony.], [How ca...          B1  \n",
       "3    [[anoXmous, https://thepiratebay.se/user/Zen_B...          B1  \n",
       "4    [[WordsKill, Edited by ahmedhamdy90 / subscene...          B2  \n",
       "..                                                 ...         ...  \n",
       "105  [[(MUSIC)], [ NARRATOR: Everyone is born,], [b...          B1  \n",
       "106  [[Advertise your product or brand here, contac...  A2/A2+, B1  \n",
       "107  [[Caregiving is not just, about feeding and cl...          B1  \n",
       "108  [[Freud said, \"love and work., Work and love.]...          B2  \n",
       "109  [[Oh, I come from a land, From a faraway place...      A2/A2+  \n",
       "\n",
       "[110 rows x 3 columns]"
      ]
     },
     "execution_count": 107,
     "metadata": {},
     "output_type": "execute_result"
    }
   ],
   "source": [
    "data_2"
   ]
  },
  {
   "cell_type": "markdown",
   "id": "111cfc3f-73aa-44df-b7f8-35a7098eac2f",
   "metadata": {
    "pycharm": {
     "name": "#%% md\n"
    }
   },
   "source": [
    "### A2"
   ]
  },
  {
   "cell_type": "code",
   "execution_count": 108,
   "id": "cfaf74ff-c423-44a5-a40b-b719cdb88066",
   "metadata": {
    "pycharm": {
     "name": "#%%\n"
    }
   },
   "outputs": [],
   "source": [
    "data_3 = text_sub('D:/мастерская NLP/English_level/Subtitles_all/A2/')"
   ]
  },
  {
   "cell_type": "code",
   "execution_count": 109,
   "id": "db359c81",
   "metadata": {
    "pycharm": {
     "name": "#%%\n"
    }
   },
   "outputs": [],
   "source": [
    "data_3['Level'] = 'A2'"
   ]
  },
  {
   "cell_type": "code",
   "execution_count": 110,
   "id": "bdccbcaf",
   "metadata": {
    "pycharm": {
     "name": "#%%\n"
    }
   },
   "outputs": [],
   "source": [
    "data_3['Movie'] = [i[:-4] for i in data_3['Movie']]"
   ]
  },
  {
   "cell_type": "code",
   "execution_count": 111,
   "id": "64048260",
   "metadata": {
    "pycharm": {
     "name": "#%%\n"
    }
   },
   "outputs": [
    {
     "data": {
      "text/html": [
       "<div>\n",
       "<style scoped>\n",
       "    .dataframe tbody tr th:only-of-type {\n",
       "        vertical-align: middle;\n",
       "    }\n",
       "\n",
       "    .dataframe tbody tr th {\n",
       "        vertical-align: top;\n",
       "    }\n",
       "\n",
       "    .dataframe thead th {\n",
       "        text-align: right;\n",
       "    }\n",
       "</style>\n",
       "<table border=\"1\" class=\"dataframe\">\n",
       "  <thead>\n",
       "    <tr style=\"text-align: right;\">\n",
       "      <th></th>\n",
       "      <th>Movie</th>\n",
       "      <th>Subtitles</th>\n",
       "      <th>Level</th>\n",
       "    </tr>\n",
       "  </thead>\n",
       "  <tbody>\n",
       "    <tr>\n",
       "      <th>0</th>\n",
       "      <td>The Walking Dead-S01E03-Tell It To The Frogs.E...</td>\n",
       "      <td>[[( thunder rumbling )], [Merle:, That's right...</td>\n",
       "      <td>A2</td>\n",
       "    </tr>\n",
       "    <tr>\n",
       "      <th>1</th>\n",
       "      <td>The Walking Dead-S01E05-Wildfire.English</td>\n",
       "      <td>[[- ( walkie-talkie squawks ), - Rick: Morgan,...</td>\n",
       "      <td>A2</td>\n",
       "    </tr>\n",
       "    <tr>\n",
       "      <th>2</th>\n",
       "      <td>The Walking Dead-S01E02-Guts.English</td>\n",
       "      <td>[[- ( birds chirping ), - ( bugs chittering )]...</td>\n",
       "      <td>A2</td>\n",
       "    </tr>\n",
       "    <tr>\n",
       "      <th>3</th>\n",
       "      <td>The Walking Dead-S01E04-Vatos.English</td>\n",
       "      <td>[[( birds chirping )], [- What?, - Nothing.], ...</td>\n",
       "      <td>A2</td>\n",
       "    </tr>\n",
       "    <tr>\n",
       "      <th>4</th>\n",
       "      <td>The Walking Dead-S01E06-TS-19.English</td>\n",
       "      <td>[[- ( people yelling ), - ( radio chatter )], ...</td>\n",
       "      <td>A2</td>\n",
       "    </tr>\n",
       "    <tr>\n",
       "      <th>5</th>\n",
       "      <td>The Walking Dead-S01E01-Days Gone Bye.English</td>\n",
       "      <td>[[( bugs chittering )], [( brakes squeak )], [...</td>\n",
       "      <td>A2</td>\n",
       "    </tr>\n",
       "  </tbody>\n",
       "</table>\n",
       "</div>"
      ],
      "text/plain": [
       "                                               Movie  \\\n",
       "0  The Walking Dead-S01E03-Tell It To The Frogs.E...   \n",
       "1           The Walking Dead-S01E05-Wildfire.English   \n",
       "2               The Walking Dead-S01E02-Guts.English   \n",
       "3              The Walking Dead-S01E04-Vatos.English   \n",
       "4              The Walking Dead-S01E06-TS-19.English   \n",
       "5      The Walking Dead-S01E01-Days Gone Bye.English   \n",
       "\n",
       "                                           Subtitles Level  \n",
       "0  [[( thunder rumbling )], [Merle:, That's right...    A2  \n",
       "1  [[- ( walkie-talkie squawks ), - Rick: Morgan,...    A2  \n",
       "2  [[- ( birds chirping ), - ( bugs chittering )]...    A2  \n",
       "3  [[( birds chirping )], [- What?, - Nothing.], ...    A2  \n",
       "4  [[- ( people yelling ), - ( radio chatter )], ...    A2  \n",
       "5  [[( bugs chittering )], [( brakes squeak )], [...    A2  "
      ]
     },
     "execution_count": 111,
     "metadata": {},
     "output_type": "execute_result"
    }
   ],
   "source": [
    "data_3"
   ]
  },
  {
   "cell_type": "markdown",
   "id": "7008403d",
   "metadata": {
    "pycharm": {
     "name": "#%% md\n"
    }
   },
   "source": [
    "### B1"
   ]
  },
  {
   "cell_type": "code",
   "execution_count": 112,
   "id": "6deab158",
   "metadata": {
    "pycharm": {
     "name": "#%%\n"
    }
   },
   "outputs": [],
   "source": [
    "data_4 = text_sub('D:/мастерская NLP/English_level/Subtitles_all/B1/')"
   ]
  },
  {
   "cell_type": "code",
   "execution_count": 113,
   "id": "5a0656a2",
   "metadata": {
    "pycharm": {
     "name": "#%%\n"
    }
   },
   "outputs": [],
   "source": [
    "data_4['Level'] = 'B1'"
   ]
  },
  {
   "cell_type": "code",
   "execution_count": 114,
   "id": "9af0df5b",
   "metadata": {
    "pycharm": {
     "name": "#%%\n"
    }
   },
   "outputs": [],
   "source": [
    "data_4['Movie'] = [i[:-4] for i in data_4['Movie']]"
   ]
  },
  {
   "cell_type": "code",
   "execution_count": 115,
   "id": "e9df661e",
   "metadata": {
    "pycharm": {
     "name": "#%%\n"
    }
   },
   "outputs": [
    {
     "data": {
      "text/html": [
       "<div>\n",
       "<style scoped>\n",
       "    .dataframe tbody tr th:only-of-type {\n",
       "        vertical-align: middle;\n",
       "    }\n",
       "\n",
       "    .dataframe tbody tr th {\n",
       "        vertical-align: top;\n",
       "    }\n",
       "\n",
       "    .dataframe thead th {\n",
       "        text-align: right;\n",
       "    }\n",
       "</style>\n",
       "<table border=\"1\" class=\"dataframe\">\n",
       "  <thead>\n",
       "    <tr style=\"text-align: right;\">\n",
       "      <th></th>\n",
       "      <th>Movie</th>\n",
       "      <th>Subtitles</th>\n",
       "      <th>Level</th>\n",
       "    </tr>\n",
       "  </thead>\n",
       "  <tbody>\n",
       "    <tr>\n",
       "      <th>0</th>\n",
       "      <td>Seven.Worlds.One.Planet.S01E06.2160p.BluRay.Re...</td>\n",
       "      <td>[[One continent on our planet changes], [more ...</td>\n",
       "      <td>B1</td>\n",
       "    </tr>\n",
       "    <tr>\n",
       "      <th>1</th>\n",
       "      <td>Spirit.Stallion.of.the.Cimarron.EN</td>\n",
       "      <td>[[''Spirit Stallion of the Cimarron''], [The s...</td>\n",
       "      <td>B1</td>\n",
       "    </tr>\n",
       "    <tr>\n",
       "      <th>2</th>\n",
       "      <td>AmericanBeauty1999.BRRip</td>\n",
       "      <td>[[I need a father who's a role model,, not som...</td>\n",
       "      <td>B1</td>\n",
       "    </tr>\n",
       "    <tr>\n",
       "      <th>3</th>\n",
       "      <td>Seven.Worlds.One.Planet.S01E01.2160p.BluRay.Re...</td>\n",
       "      <td>[[200 million years ago,], [our planet looked ...</td>\n",
       "      <td>B1</td>\n",
       "    </tr>\n",
       "    <tr>\n",
       "      <th>4</th>\n",
       "      <td>Seven.Worlds.One.Planet.S01E07.2160p.BluRay.Re...</td>\n",
       "      <td>[[Africa.], [No continent on Earth today, has ...</td>\n",
       "      <td>B1</td>\n",
       "    </tr>\n",
       "  </tbody>\n",
       "</table>\n",
       "</div>"
      ],
      "text/plain": [
       "                                               Movie  \\\n",
       "0  Seven.Worlds.One.Planet.S01E06.2160p.BluRay.Re...   \n",
       "1                 Spirit.Stallion.of.the.Cimarron.EN   \n",
       "2                           AmericanBeauty1999.BRRip   \n",
       "3  Seven.Worlds.One.Planet.S01E01.2160p.BluRay.Re...   \n",
       "4  Seven.Worlds.One.Planet.S01E07.2160p.BluRay.Re...   \n",
       "\n",
       "                                           Subtitles Level  \n",
       "0  [[One continent on our planet changes], [more ...    B1  \n",
       "1  [[''Spirit Stallion of the Cimarron''], [The s...    B1  \n",
       "2  [[I need a father who's a role model,, not som...    B1  \n",
       "3  [[200 million years ago,], [our planet looked ...    B1  \n",
       "4  [[Africa.], [No continent on Earth today, has ...    B1  "
      ]
     },
     "execution_count": 115,
     "metadata": {},
     "output_type": "execute_result"
    }
   ],
   "source": [
    "data_4.head()"
   ]
  },
  {
   "cell_type": "markdown",
   "id": "b511c03d",
   "metadata": {
    "pycharm": {
     "name": "#%% md\n"
    }
   },
   "source": [
    "### B2"
   ]
  },
  {
   "cell_type": "code",
   "execution_count": 116,
   "id": "b886f752",
   "metadata": {
    "pycharm": {
     "name": "#%%\n"
    }
   },
   "outputs": [],
   "source": [
    "data_5 = text_sub('D:/мастерская NLP/English_level/Subtitles_all/B2/')"
   ]
  },
  {
   "cell_type": "code",
   "execution_count": 117,
   "id": "113188f3",
   "metadata": {
    "pycharm": {
     "name": "#%%\n"
    }
   },
   "outputs": [],
   "source": [
    "data_5['Level'] = 'B2'"
   ]
  },
  {
   "cell_type": "code",
   "execution_count": 118,
   "id": "7ec95916",
   "metadata": {
    "pycharm": {
     "name": "#%%\n"
    }
   },
   "outputs": [],
   "source": [
    "data_5['Movie'] = [i[:-4] for i in data_5['Movie']]"
   ]
  },
  {
   "cell_type": "code",
   "execution_count": 119,
   "id": "f289c633",
   "metadata": {
    "pycharm": {
     "name": "#%%\n"
    }
   },
   "outputs": [
    {
     "data": {
      "text/html": [
       "<div>\n",
       "<style scoped>\n",
       "    .dataframe tbody tr th:only-of-type {\n",
       "        vertical-align: middle;\n",
       "    }\n",
       "\n",
       "    .dataframe tbody tr th {\n",
       "        vertical-align: top;\n",
       "    }\n",
       "\n",
       "    .dataframe thead th {\n",
       "        text-align: right;\n",
       "    }\n",
       "</style>\n",
       "<table border=\"1\" class=\"dataframe\">\n",
       "  <thead>\n",
       "    <tr style=\"text-align: right;\">\n",
       "      <th></th>\n",
       "      <th>Movie</th>\n",
       "      <th>Subtitles</th>\n",
       "      <th>Level</th>\n",
       "    </tr>\n",
       "  </thead>\n",
       "  <tbody>\n",
       "    <tr>\n",
       "      <th>0</th>\n",
       "      <td>Crown, The S01E01 - Wolferton Splash.en</td>\n",
       "      <td>[[In seeking his British, nationalization, His...</td>\n",
       "      <td>B2</td>\n",
       "    </tr>\n",
       "    <tr>\n",
       "      <th>1</th>\n",
       "      <td>Suits.Episode 1- Denial</td>\n",
       "      <td>[[You're the most amazing woman, I have ever m...</td>\n",
       "      <td>B2</td>\n",
       "    </tr>\n",
       "    <tr>\n",
       "      <th>2</th>\n",
       "      <td>Crazy4TV.com - Suits.S06E06.720p.BluRay.x265.H...</td>\n",
       "      <td>[[(HARVEY READING)], [I've been after Sutter, ...</td>\n",
       "      <td>B2</td>\n",
       "    </tr>\n",
       "    <tr>\n",
       "      <th>3</th>\n",
       "      <td>Suits.S02E08.HDTV.x264-EVOLVE</td>\n",
       "      <td>[[[Car horn blares]], [You're late.], [Nope. 3...</td>\n",
       "      <td>B2</td>\n",
       "    </tr>\n",
       "    <tr>\n",
       "      <th>4</th>\n",
       "      <td>Virgin.River.S01E07.INTERNAL.720p.WEB.x264-STRiFE</td>\n",
       "      <td>[[Are you sure I can't convince you to stay?],...</td>\n",
       "      <td>B2</td>\n",
       "    </tr>\n",
       "  </tbody>\n",
       "</table>\n",
       "</div>"
      ],
      "text/plain": [
       "                                               Movie  \\\n",
       "0            Crown, The S01E01 - Wolferton Splash.en   \n",
       "1                            Suits.Episode 1- Denial   \n",
       "2  Crazy4TV.com - Suits.S06E06.720p.BluRay.x265.H...   \n",
       "3                      Suits.S02E08.HDTV.x264-EVOLVE   \n",
       "4  Virgin.River.S01E07.INTERNAL.720p.WEB.x264-STRiFE   \n",
       "\n",
       "                                           Subtitles Level  \n",
       "0  [[In seeking his British, nationalization, His...    B2  \n",
       "1  [[You're the most amazing woman, I have ever m...    B2  \n",
       "2  [[(HARVEY READING)], [I've been after Sutter, ...    B2  \n",
       "3  [[[Car horn blares]], [You're late.], [Nope. 3...    B2  \n",
       "4  [[Are you sure I can't convince you to stay?],...    B2  "
      ]
     },
     "execution_count": 119,
     "metadata": {},
     "output_type": "execute_result"
    }
   ],
   "source": [
    "data_5.head()"
   ]
  },
  {
   "cell_type": "markdown",
   "id": "5db6e161",
   "metadata": {
    "pycharm": {
     "name": "#%% md\n"
    }
   },
   "source": [
    "### C1"
   ]
  },
  {
   "cell_type": "code",
   "execution_count": 120,
   "id": "b14870ee",
   "metadata": {
    "pycharm": {
     "name": "#%%\n"
    }
   },
   "outputs": [],
   "source": [
    "data_6 = text_sub('D:/мастерская NLP/English_level/Subtitles_all/C1/')"
   ]
  },
  {
   "cell_type": "code",
   "execution_count": 121,
   "id": "44371c2f",
   "metadata": {
    "pycharm": {
     "name": "#%%\n"
    }
   },
   "outputs": [],
   "source": [
    "data_6['Level'] = 'C1'"
   ]
  },
  {
   "cell_type": "code",
   "execution_count": 122,
   "id": "6c088267",
   "metadata": {
    "pycharm": {
     "name": "#%%\n"
    }
   },
   "outputs": [],
   "source": [
    "data_6['Movie'] = [i[:-4] for i in data_6['Movie']]"
   ]
  },
  {
   "cell_type": "code",
   "execution_count": 123,
   "id": "5367ead9",
   "metadata": {
    "pycharm": {
     "name": "#%%\n"
    }
   },
   "outputs": [
    {
     "data": {
      "text/html": [
       "<div>\n",
       "<style scoped>\n",
       "    .dataframe tbody tr th:only-of-type {\n",
       "        vertical-align: middle;\n",
       "    }\n",
       "\n",
       "    .dataframe tbody tr th {\n",
       "        vertical-align: top;\n",
       "    }\n",
       "\n",
       "    .dataframe thead th {\n",
       "        text-align: right;\n",
       "    }\n",
       "</style>\n",
       "<table border=\"1\" class=\"dataframe\">\n",
       "  <thead>\n",
       "    <tr style=\"text-align: right;\">\n",
       "      <th></th>\n",
       "      <th>Movie</th>\n",
       "      <th>Subtitles</th>\n",
       "      <th>Level</th>\n",
       "    </tr>\n",
       "  </thead>\n",
       "  <tbody>\n",
       "    <tr>\n",
       "      <th>0</th>\n",
       "      <td>Suits S04E11 EngSub</td>\n",
       "      <td>[]</td>\n",
       "      <td>C1</td>\n",
       "    </tr>\n",
       "    <tr>\n",
       "      <th>1</th>\n",
       "      <td>Downton Abbey - S01E01 - Episode 1.eng.SDH</td>\n",
       "      <td>[[[TELEGRAPH MACHINE BEEPING]], [[TRAIN WHISTL...</td>\n",
       "      <td>C1</td>\n",
       "    </tr>\n",
       "    <tr>\n",
       "      <th>2</th>\n",
       "      <td>Suits S04E08 EngSub</td>\n",
       "      <td>[]</td>\n",
       "      <td>C1</td>\n",
       "    </tr>\n",
       "    <tr>\n",
       "      <th>3</th>\n",
       "      <td>Downton Abbey - S01E02 - Episode 2.eng.SDH</td>\n",
       "      <td>[[Here we are, ma'am, Crawley House.], [For go...</td>\n",
       "      <td>C1</td>\n",
       "    </tr>\n",
       "    <tr>\n",
       "      <th>4</th>\n",
       "      <td>Downton Abbey - S01E03 - Episode 3.eng.SDH</td>\n",
       "      <td>[[There you are, Mr. Bates., It's in. Came thi...</td>\n",
       "      <td>C1</td>\n",
       "    </tr>\n",
       "  </tbody>\n",
       "</table>\n",
       "</div>"
      ],
      "text/plain": [
       "                                        Movie  \\\n",
       "0                         Suits S04E11 EngSub   \n",
       "1  Downton Abbey - S01E01 - Episode 1.eng.SDH   \n",
       "2                         Suits S04E08 EngSub   \n",
       "3  Downton Abbey - S01E02 - Episode 2.eng.SDH   \n",
       "4  Downton Abbey - S01E03 - Episode 3.eng.SDH   \n",
       "\n",
       "                                           Subtitles Level  \n",
       "0                                                 []    C1  \n",
       "1  [[[TELEGRAPH MACHINE BEEPING]], [[TRAIN WHISTL...    C1  \n",
       "2                                                 []    C1  \n",
       "3  [[Here we are, ma'am, Crawley House.], [For go...    C1  \n",
       "4  [[There you are, Mr. Bates., It's in. Came thi...    C1  "
      ]
     },
     "execution_count": 123,
     "metadata": {},
     "output_type": "execute_result"
    }
   ],
   "source": [
    "data_6.head()"
   ]
  },
  {
   "cell_type": "markdown",
   "id": "e4f57ffb",
   "metadata": {
    "pycharm": {
     "name": "#%% md\n"
    }
   },
   "source": [
    "### Объединение в один датафрейм"
   ]
  },
  {
   "cell_type": "code",
   "execution_count": 124,
   "id": "7e509d27",
   "metadata": {
    "pycharm": {
     "name": "#%%\n"
    }
   },
   "outputs": [],
   "source": [
    "df = pd.concat([data_2, data_3, data_4, data_5, data_6]).reset_index(drop=True)"
   ]
  },
  {
   "cell_type": "code",
   "execution_count": 125,
   "id": "9958e57a",
   "metadata": {
    "pycharm": {
     "name": "#%%\n"
    }
   },
   "outputs": [
    {
     "data": {
      "text/html": [
       "<div>\n",
       "<style scoped>\n",
       "    .dataframe tbody tr th:only-of-type {\n",
       "        vertical-align: middle;\n",
       "    }\n",
       "\n",
       "    .dataframe tbody tr th {\n",
       "        vertical-align: top;\n",
       "    }\n",
       "\n",
       "    .dataframe thead th {\n",
       "        text-align: right;\n",
       "    }\n",
       "</style>\n",
       "<table border=\"1\" class=\"dataframe\">\n",
       "  <thead>\n",
       "    <tr style=\"text-align: right;\">\n",
       "      <th></th>\n",
       "      <th>Movie</th>\n",
       "      <th>Subtitles</th>\n",
       "      <th>Level</th>\n",
       "    </tr>\n",
       "  </thead>\n",
       "  <tbody>\n",
       "    <tr>\n",
       "      <th>0</th>\n",
       "      <td>Dredd(2012)</td>\n",
       "      <td>[[America is an irradiated wasteIand.], [Withi...</td>\n",
       "      <td>A2/A2+</td>\n",
       "    </tr>\n",
       "    <tr>\n",
       "      <th>1</th>\n",
       "      <td>Despicable_Me(2010)</td>\n",
       "      <td>[[Excuse me, sir,, is there a commode?], [Just...</td>\n",
       "      <td>B2</td>\n",
       "    </tr>\n",
       "    <tr>\n",
       "      <th>2</th>\n",
       "      <td>The_secret_life_of_Walter_Mitty(2013)</td>\n",
       "      <td>[[Huh?], [Hi! Todd Mahar,, eHarmony.], [How ca...</td>\n",
       "      <td>B1</td>\n",
       "    </tr>\n",
       "    <tr>\n",
       "      <th>3</th>\n",
       "      <td>Shrek(2001)</td>\n",
       "      <td>[[anoXmous, https://thepiratebay.se/user/Zen_B...</td>\n",
       "      <td>B1</td>\n",
       "    </tr>\n",
       "    <tr>\n",
       "      <th>4</th>\n",
       "      <td>Deadpool(2016)</td>\n",
       "      <td>[[WordsKill, Edited by ahmedhamdy90 / subscene...</td>\n",
       "      <td>B2</td>\n",
       "    </tr>\n",
       "    <tr>\n",
       "      <th>...</th>\n",
       "      <td>...</td>\n",
       "      <td>...</td>\n",
       "      <td>...</td>\n",
       "    </tr>\n",
       "    <tr>\n",
       "      <th>268</th>\n",
       "      <td>Suits.S03E08.480p.HDTV.x264-mSD</td>\n",
       "      <td>[[I get Ava Hessington acquitted,], [Darby bac...</td>\n",
       "      <td>C1</td>\n",
       "    </tr>\n",
       "    <tr>\n",
       "      <th>269</th>\n",
       "      <td>Suits S04E06 EngSub</td>\n",
       "      <td>[]</td>\n",
       "      <td>C1</td>\n",
       "    </tr>\n",
       "    <tr>\n",
       "      <th>270</th>\n",
       "      <td>Suits.S03E07.HDTV.x264-mSD</td>\n",
       "      <td>[[Previously on, Suits...], [It's going up, on...</td>\n",
       "      <td>C1</td>\n",
       "    </tr>\n",
       "    <tr>\n",
       "      <th>271</th>\n",
       "      <td>Suits S04E03 EngSub</td>\n",
       "      <td>[]</td>\n",
       "      <td>C1</td>\n",
       "    </tr>\n",
       "    <tr>\n",
       "      <th>272</th>\n",
       "      <td>Suits S04E12 EngSub</td>\n",
       "      <td>[]</td>\n",
       "      <td>C1</td>\n",
       "    </tr>\n",
       "  </tbody>\n",
       "</table>\n",
       "<p>273 rows × 3 columns</p>\n",
       "</div>"
      ],
      "text/plain": [
       "                                     Movie  \\\n",
       "0                              Dredd(2012)   \n",
       "1                      Despicable_Me(2010)   \n",
       "2    The_secret_life_of_Walter_Mitty(2013)   \n",
       "3                              Shrek(2001)   \n",
       "4                           Deadpool(2016)   \n",
       "..                                     ...   \n",
       "268        Suits.S03E08.480p.HDTV.x264-mSD   \n",
       "269                    Suits S04E06 EngSub   \n",
       "270             Suits.S03E07.HDTV.x264-mSD   \n",
       "271                    Suits S04E03 EngSub   \n",
       "272                    Suits S04E12 EngSub   \n",
       "\n",
       "                                             Subtitles   Level  \n",
       "0    [[America is an irradiated wasteIand.], [Withi...  A2/A2+  \n",
       "1    [[Excuse me, sir,, is there a commode?], [Just...      B2  \n",
       "2    [[Huh?], [Hi! Todd Mahar,, eHarmony.], [How ca...      B1  \n",
       "3    [[anoXmous, https://thepiratebay.se/user/Zen_B...      B1  \n",
       "4    [[WordsKill, Edited by ahmedhamdy90 / subscene...      B2  \n",
       "..                                                 ...     ...  \n",
       "268  [[I get Ava Hessington acquitted,], [Darby bac...      C1  \n",
       "269                                                 []      C1  \n",
       "270  [[Previously on, Suits...], [It's going up, on...      C1  \n",
       "271                                                 []      C1  \n",
       "272                                                 []      C1  \n",
       "\n",
       "[273 rows x 3 columns]"
      ]
     },
     "execution_count": 125,
     "metadata": {},
     "output_type": "execute_result"
    }
   ],
   "source": [
    "df"
   ]
  },
  {
   "cell_type": "code",
   "execution_count": 134,
   "id": "848c1ebd-3d0c-4b97-b6ba-0076d6ce609c",
   "metadata": {
    "pycharm": {
     "name": "#%%\n"
    }
   },
   "outputs": [],
   "source": [
    "df.to_excel(r'C:\\Users\\pulka\\OneDrive\\Рабочий стол\\nlp.xlsx')"
   ]
  },
  {
   "cell_type": "code",
   "execution_count": 126,
   "id": "9ac4b204",
   "metadata": {
    "pycharm": {
     "name": "#%%\n"
    }
   },
   "outputs": [],
   "source": [
    "df['Level']= df['Level'].replace('A2/A2+','A2+')\n",
    "df['Level']= df['Level'].replace('A2/A2+, B1','B1')\n",
    "df['Level']= df['Level'].replace('B1, B2','B2')"
   ]
  },
  {
   "cell_type": "code",
   "execution_count": 127,
   "id": "628cc99a",
   "metadata": {
    "pycharm": {
     "name": "#%%\n"
    }
   },
   "outputs": [
    {
     "data": {
      "text/plain": [
       "array(['A2+', 'B2', 'B1', 'C1', 'A2'], dtype=object)"
      ]
     },
     "execution_count": 127,
     "metadata": {},
     "output_type": "execute_result"
    }
   ],
   "source": [
    "df['Level'].unique()"
   ]
  },
  {
   "cell_type": "markdown",
   "id": "043dd24a",
   "metadata": {
    "pycharm": {
     "name": "#%% md\n"
    }
   },
   "source": [
    "### Предобработка данных."
   ]
  },
  {
   "cell_type": "markdown",
   "id": "b4f77c4b-bdf7-4427-bc8a-11fa3d81e461",
   "metadata": {
    "pycharm": {
     "name": "#%% md\n"
    }
   },
   "source": [
    "Определение признаков."
   ]
  },
  {
   "cell_type": "code",
   "execution_count": 128,
   "id": "5f4d9efd",
   "metadata": {
    "pycharm": {
     "name": "#%%\n"
    }
   },
   "outputs": [],
   "source": [
    "X,y = df['Subtitles'], df['Level']"
   ]
  },
  {
   "cell_type": "code",
   "execution_count": 129,
   "id": "13b79b5b-446c-434d-a287-95acad435123",
   "metadata": {
    "pycharm": {
     "name": "#%%\n"
    }
   },
   "outputs": [],
   "source": [
    "nlp = spacy.load(\"en_core_web_sm\")"
   ]
  },
  {
   "cell_type": "code",
   "execution_count": 130,
   "id": "7302428f-9af5-4fad-b3e0-2d160a55ae7b",
   "metadata": {
    "pycharm": {
     "name": "#%%\n"
    }
   },
   "outputs": [],
   "source": [
    "# функция для обработки текста.\n",
    "def preprocess(text):\n",
    "    # удаление символов\n",
    "    document = re.sub(r'\\W', ' ', str(text))\n",
    "    # удаление одиноко стоящих слов\n",
    "    document = re.sub(r'\\s+[a-zA-Z]\\s+', ' ', document)\n",
    "    # приведение к нижнему регистру \n",
    "    document = document.lower()\n",
    "    # токенизация\n",
    "    #document = nltk.word_tokenize(document,language = \"english\")\n",
    "    # лемматизация\n",
    "    spacy_results = nlp(document)\n",
    "    document = ' '.join([token.lemma_ for token in spacy_results])\n",
    "    return document"
   ]
  },
  {
   "cell_type": "code",
   "execution_count": 131,
   "id": "c0941265-3655-4494-bfe4-981ddac757e9",
   "metadata": {
    "pycharm": {
     "name": "#%%\n"
    }
   },
   "outputs": [],
   "source": [
    "X = X.apply(preprocess)"
   ]
  },
  {
   "cell_type": "code",
   "execution_count": 132,
   "id": "ebcc4d18",
   "metadata": {
    "pycharm": {
     "name": "#%%\n"
    }
   },
   "outputs": [],
   "source": [
    "vectorizer = CountVectorizer(stop_words=stopwords.words('english'))\n",
    "X = vectorizer.fit_transform(X).toarray()"
   ]
  },
  {
   "cell_type": "markdown",
   "id": "4f3428ab-3b2e-4b3f-84f2-756913254881",
   "metadata": {
    "tags": [],
    "pycharm": {
     "name": "#%% md\n"
    }
   },
   "source": [
    "### Проверка баланса классов в выборке."
   ]
  },
  {
   "cell_type": "code",
   "execution_count": 133,
   "id": "9cc51d1a-0841-4cbb-b56b-7a5b650ace4a",
   "metadata": {
    "pycharm": {
     "name": "#%%\n"
    }
   },
   "outputs": [
    {
     "data": {
      "text/plain": [
       "<AxesSubplot: >"
      ]
     },
     "execution_count": 133,
     "metadata": {},
     "output_type": "execute_result"
    },
    {
     "data": {
      "image/png": "[encoded data removed]",
      "text/plain": [
       "<Figure size 640x480 with 1 Axes>"
      ]
     },
     "metadata": {},
     "output_type": "display_data"
    }
   ],
   "source": [
    "y.hist()"
   ]
  },
  {
   "cell_type": "markdown",
   "id": "30f86169-eec7-4d05-a890-bd02ed18761e",
   "metadata": {
    "pycharm": {
     "name": "#%% md\n"
    }
   },
   "source": [
    "#### Борьба с диссбалансом."
   ]
  },
  {
   "cell_type": "code",
   "execution_count": 135,
   "id": "f1e4275f-8650-4dd2-ae1a-6ccf16d062bb",
   "metadata": {
    "pycharm": {
     "name": "#%%\n"
    }
   },
   "outputs": [],
   "source": [
    "X_resampled, y_resampled = SMOTE().fit_resample(X, y)"
   ]
  },
  {
   "cell_type": "code",
   "execution_count": 136,
   "id": "d93f4f00-7253-4a3d-ae53-63bd5b54360c",
   "metadata": {
    "pycharm": {
     "name": "#%%\n"
    }
   },
   "outputs": [
    {
     "data": {
      "text/plain": [
       "<AxesSubplot: >"
      ]
     },
     "execution_count": 136,
     "metadata": {},
     "output_type": "execute_result"
    },
    {
     "data": {
      "image/png": "[encoded data removed]",
      "text/plain": [
       "<Figure size 640x480 with 1 Axes>"
      ]
     },
     "metadata": {},
     "output_type": "display_data"
    }
   ],
   "source": [
    "y_resampled.hist()"
   ]
  },
  {
   "cell_type": "markdown",
   "id": "5e0a381e-5c38-473d-a8ff-918a99bc3abc",
   "metadata": {
    "pycharm": {
     "name": "#%% md\n"
    }
   },
   "source": [
    "Делим нашу выборку на тренировочную и тестовую."
   ]
  },
  {
   "cell_type": "code",
   "execution_count": 137,
   "id": "10e59fd1-7a2e-46b9-8f22-9a5841dca985",
   "metadata": {
    "pycharm": {
     "name": "#%%\n"
    }
   },
   "outputs": [],
   "source": [
    "X_train, X_test, y_train, y_test = train_test_split(X_resampled, y_resampled, \n",
    "                                                    test_size = 0.3, random_state = 42)"
   ]
  },
  {
   "cell_type": "code",
   "execution_count": 140,
   "id": "63d28bd6",
   "metadata": {
    "pycharm": {
     "name": "#%%\n"
    }
   },
   "outputs": [
    {
     "name": "stdout",
     "output_type": "stream",
     "text": [
      "All:(720, 29854)\n",
      "train:(504, 29854)\n",
      "test:(216, 29854)\n"
     ]
    }
   ],
   "source": [
    "# проверка размерности\n",
    "print(f'All:{X_resampled.shape}')\n",
    "print(f'train:{X_train.shape}')\n",
    "print(f'test:{X_test.shape}')"
   ]
  },
  {
   "cell_type": "markdown",
   "id": "512cecee-4e71-4f6e-be61-3634e0026367",
   "metadata": {
    "pycharm": {
     "name": "#%% md\n"
    }
   },
   "source": [
    "#### Модель `CatBoostClassifier `"
   ]
  },
  {
   "cell_type": "code",
   "execution_count": 141,
   "id": "64fd61df-7c60-4e81-84f5-f689f3b22506",
   "metadata": {
    "pycharm": {
     "name": "#%%\n"
    }
   },
   "outputs": [
    {
     "data": {
      "text/plain": [
       "<catboost.core.CatBoostClassifier at 0x23ba4f87a30>"
      ]
     },
     "execution_count": 141,
     "metadata": {},
     "output_type": "execute_result"
    }
   ],
   "source": [
    "train_pool = Pool(X_train, \n",
    "                  y_train)\n",
    "\n",
    "test_pool = Pool(X_test, \n",
    "                 y_test) \n",
    "\n",
    "model = CatBoostClassifier(verbose=False)\n",
    "#train the model\n",
    "model.fit(train_pool) \n"
   ]
  },
  {
   "cell_type": "markdown",
   "id": "60295232-93fc-42b7-ac9e-7455be7489e2",
   "metadata": {
    "pycharm": {
     "name": "#%% md\n"
    }
   },
   "source": [
    "### Возьмем в качестве метрики `accuracy`"
   ]
  },
  {
   "cell_type": "code",
   "execution_count": 142,
   "id": "14069009-11c7-4f77-8fc7-155de5163402",
   "metadata": {
    "pycharm": {
     "name": "#%%\n"
    }
   },
   "outputs": [
    {
     "name": "stdout",
     "output_type": "stream",
     "text": [
      "1.0\n"
     ]
    }
   ],
   "source": [
    "predict_train = model.predict(X_train)\n",
    "print(accuracy_score(y_train, predict_train))"
   ]
  },
  {
   "cell_type": "code",
   "execution_count": 143,
   "id": "82e52ad1-ef67-4a8c-b21d-31146ad3f2dc",
   "metadata": {
    "pycharm": {
     "name": "#%%\n"
    }
   },
   "outputs": [
    {
     "name": "stdout",
     "output_type": "stream",
     "text": [
      "0.9166666666666666\n"
     ]
    }
   ],
   "source": [
    "predict_test = model.predict(X_test)\n",
    "print(accuracy_score(y_test, predict_test))"
   ]
  },
  {
   "cell_type": "code",
   "execution_count": 144,
   "id": "ce19174c-d95a-4b48-bc58-cf5b6adba6dc",
   "metadata": {
    "pycharm": {
     "name": "#%%\n"
    }
   },
   "outputs": [
    {
     "data": {
      "image/png": "[encoded data removed]",
      "text/plain": [
       "<Figure size 640x480 with 2 Axes>"
      ]
     },
     "metadata": {},
     "output_type": "display_data"
    }
   ],
   "source": [
    "cm = confusion_matrix(y_train, predict_train, labels = model.classes_)\n",
    "disp = ConfusionMatrixDisplay(confusion_matrix = cm,\n",
    "display_labels = model.classes_)\n",
    "disp.plot()\n",
    "plt.show()\n"
   ]
  },
  {
   "cell_type": "markdown",
   "id": "b36b697b-4fab-4906-b644-5b770e158e31",
   "metadata": {
    "pycharm": {
     "name": "#%% md\n"
    }
   },
   "source": [
    "Для анализа текстов субтитров и определения по ним уровня знания английского языка была разработана модель машинного обучения.<br>\n",
    "Модель - `CatBoostClassifier`, в качестве метрики выбрано количество правильных ответов `accuracy`, ее значение на тестовой выборке составило `0.91`."
   ]
  },
  {
   "cell_type": "code",
   "execution_count": null,
   "id": "b140025c-725b-456e-b565-898104ba55f9",
   "metadata": {
    "pycharm": {
     "name": "#%%\n"
    }
   },
   "outputs": [],
   "source": []
  },
  {
   "cell_type": "code",
   "execution_count": null,
   "id": "ea428be0-9b28-4f11-8401-f0ae577974f1",
   "metadata": {
    "pycharm": {
     "name": "#%%\n"
    }
   },
   "outputs": [],
   "source": []
  },
  {
   "cell_type": "code",
   "execution_count": null,
   "id": "781bb513-43a8-4fc7-b8a4-90ff31bcf660",
   "metadata": {
    "pycharm": {
     "name": "#%%\n"
    }
   },
   "outputs": [],
   "source": []
  },
  {
   "cell_type": "code",
   "execution_count": null,
   "id": "e4ba8658-62e5-4948-855b-2bf47d13cc5c",
   "metadata": {
    "pycharm": {
     "name": "#%%\n"
    }
   },
   "outputs": [],
   "source": []
  },
  {
   "cell_type": "code",
   "execution_count": null,
   "id": "1e575a98-ca90-4b38-817d-826ddcb8f7c0",
   "metadata": {
    "pycharm": {
     "name": "#%%\n"
    }
   },
   "outputs": [],
   "source": []
  },
  {
   "cell_type": "code",
   "execution_count": null,
   "id": "1a713934-0210-4a4d-a0aa-84b845cc92da",
   "metadata": {
    "pycharm": {
     "name": "#%%\n"
    }
   },
   "outputs": [],
   "source": []
  },
  {
   "cell_type": "code",
   "execution_count": null,
   "id": "923576bc-7634-4fd6-8427-1012b5af2bac",
   "metadata": {
    "pycharm": {
     "name": "#%%\n"
    }
   },
   "outputs": [],
   "source": []
  },
  {
   "cell_type": "code",
   "execution_count": null,
   "id": "3f4a2ed8-2c84-47b9-a924-c6a56ee5afe0",
   "metadata": {
    "pycharm": {
     "name": "#%%\n"
    }
   },
   "outputs": [],
   "source": []
  },
  {
   "cell_type": "code",
   "execution_count": null,
   "id": "4e4fd511-9c32-448f-94a9-49e2a04375d2",
   "metadata": {
    "pycharm": {
     "name": "#%%\n"
    }
   },
   "outputs": [],
   "source": []
  },
  {
   "cell_type": "code",
   "execution_count": null,
   "id": "aa19c76c-c76b-4202-a504-5629ec4b5a36",
   "metadata": {
    "pycharm": {
     "name": "#%%\n"
    }
   },
   "outputs": [],
   "source": []
  },
  {
   "cell_type": "code",
   "execution_count": null,
   "id": "f7836f61-3b9f-4678-bcbb-8e7337d995b5",
   "metadata": {
    "pycharm": {
     "name": "#%%\n"
    }
   },
   "outputs": [],
   "source": []
  },
  {
   "cell_type": "code",
   "execution_count": null,
   "id": "9d92b406-42db-45d9-bb8d-c2a35f74f4fd",
   "metadata": {
    "pycharm": {
     "name": "#%%\n"
    }
   },
   "outputs": [],
   "source": []
  },
  {
   "cell_type": "code",
   "execution_count": null,
   "id": "8697faed-727c-48f0-bb66-ff25c5a068f0",
   "metadata": {
    "pycharm": {
     "name": "#%%\n"
    }
   },
   "outputs": [],
   "source": []
  }
 ],
 "metadata": {
  "kernelspec": {
   "display_name": "Python 3 (ipykernel)",
   "language": "python",
   "name": "python3"
  },
  "language_info": {
   "codemirror_mode": {
    "name": "ipython",
    "version": 3
   },
   "file_extension": ".py",
   "mimetype": "text/x-python",
   "name": "python",
   "nbconvert_exporter": "python",
   "pygments_lexer": "ipython3",
   "version": "3.9.12"
  }
 },
 "nbformat": 4,
 "nbformat_minor": 5
}