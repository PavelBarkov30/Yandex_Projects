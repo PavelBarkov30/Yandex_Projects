{
 "cells": [
  {
   "cell_type": "markdown",
   "source": [
    "# Выбор локации для скважины"
   ],
   "metadata": {
    "collapsed": false,
    "pycharm": {
     "name": "#%% md\n"
    }
   }
  },
  {
   "cell_type": "markdown",
   "source": [
    "Допустим, вы работаете в добывающей компании «ГлавРосГосНефть». Нужно решить, где бурить новую скважину.\n",
    "\n",
    "Вам предоставлены пробы нефти в трёх регионах: в каждом 10 000 месторождений, где измерили качество нефти и объём её запасов. Постройте модель машинного обучения, которая поможет определить регион, где добыча принесёт наибольшую прибыль. Проанализируйте возможную прибыль и риски техникой *Bootstrap.*\n"
   ],
   "metadata": {
    "collapsed": false,
    "pycharm": {
     "name": "#%% md\n"
    }
   }
  },
  {
   "cell_type": "markdown",
   "source": [
    "#### Описание данных : <br>\n",
    "Данные геологоразведки трёх регионов находятся в трех файлах:\n",
    "   - geo_data_0 - первый регион;\n",
    "   - geo_data_1 - второй регион;\n",
    "   - geo_data_2 - третий регион;"
   ],
   "metadata": {
    "collapsed": false,
    "pycharm": {
     "name": "#%% md\n"
    }
   }
  },
  {
   "cell_type": "markdown",
   "source": [
    "Каждый файл состоит из следующих столбцов:<br>"
   ],
   "metadata": {
    "collapsed": false,
    "pycharm": {
     "name": "#%% md\n"
    }
   }
  },
  {
   "cell_type": "markdown",
   "source": [
    "- id — уникальный идентификатор скважины;\n",
    "- f0, f1, f2 — три признака точек (неважно, что они означают, но сами признаки значимы);\n",
    "- product — объём запасов в скважине (тыс. баррелей).\n"
   ],
   "metadata": {
    "collapsed": false,
    "pycharm": {
     "name": "#%% md\n"
    }
   }
  },
  {
   "cell_type": "markdown",
   "source": [
    "## Загрузка и подготовка данных"
   ],
   "metadata": {
    "collapsed": false,
    "pycharm": {
     "name": "#%% md\n"
    }
   }
  },
  {
   "cell_type": "code",
   "execution_count": null,
   "outputs": [],
   "source": [
    "pip install phik"
   ],
   "metadata": {
    "collapsed": false,
    "pycharm": {
     "name": "#%%\n"
    }
   }
  },
  {
   "cell_type": "code",
   "execution_count": null,
   "outputs": [],
   "source": [
    "# импортируем необходимые для работы библиотеки\n",
    "import pandas as pd\n",
    "import seaborn as sns\n",
    "import numpy as np\n",
    "import matplotlib.pyplot as plt\n",
    "#import phik\n",
    "#from phik.report import plot_correlation_matrix\n",
    "#from phik import report\n",
    "from sklearn.model_selection import train_test_split\n",
    "from sklearn.linear_model import LinearRegression\n",
    "from sklearn.preprocessing import StandardScaler\n",
    "from sklearn.metrics import mean_squared_error"
   ],
   "metadata": {
    "collapsed": false,
    "pycharm": {
     "name": "#%%\n"
    }
   }
  },
  {
   "cell_type": "code",
   "execution_count": null,
   "outputs": [],
   "source": [
    "# Основные характеристики для расчетов:\n",
    "BUDGET=10E9         # общий бюджет на разработку\n",
    "BARREL_PRICE=450000 # стоимость одной тысячи баррелей\n",
    "TOP_HOLES=200       # количество скважин c максимальным запасом по предсказанию\n",
    "HOLES=500           # количество скважин для разработки\n",
    "BOOTSTRAP_SIZE=1000  "
   ],
   "metadata": {
    "collapsed": false,
    "pycharm": {
     "name": "#%%\n"
    }
   }
  },
  {
   "cell_type": "code",
   "execution_count": null,
   "outputs": [],
   "source": [
    "try:\n",
    "    df_1 = pd.read_csv(r'D:\\project ML в бизнесе\\geo_data_0.csv')\n",
    "    df_2 = pd.read_csv(r'D:\\project ML в бизнесе\\geo_data_1.csv')\n",
    "    df_3 = pd.read_csv(r'D:\\project ML в бизнесе\\geo_data_2.csv')\n",
    "except:\n",
    "    df_1 = pd.read_csv('/datasets/geo_data_0.csv')\n",
    "    df_2 = pd.read_csv('/datasets/geo_data_1.csv')\n",
    "    df_3 = pd.read_csv('/datasets/geo_data_2.csv')"
   ],
   "metadata": {
    "collapsed": false,
    "pycharm": {
     "name": "#%%\n"
    }
   }
  },
  {
   "cell_type": "markdown",
   "source": [
    "#### Изучение и подготовка данных для первого региона."
   ],
   "metadata": {
    "collapsed": false,
    "pycharm": {
     "name": "#%% md\n"
    }
   }
  },
  {
   "cell_type": "code",
   "execution_count": null,
   "outputs": [],
   "source": [
    "display(df_1.head()), display(df_1.info())"
   ],
   "metadata": {
    "collapsed": false,
    "pycharm": {
     "name": "#%%\n"
    }
   }
  },
  {
   "cell_type": "markdown",
   "source": [
    "Посмотрим основные статистики нашей выборки:"
   ],
   "metadata": {
    "collapsed": false,
    "pycharm": {
     "name": "#%% md\n"
    }
   }
  },
  {
   "cell_type": "code",
   "execution_count": null,
   "outputs": [],
   "source": [
    "df_1.describe()"
   ],
   "metadata": {
    "collapsed": false,
    "pycharm": {
     "name": "#%%\n"
    }
   }
  },
  {
   "cell_type": "markdown",
   "source": [
    "Проведем проверку на наличие явных дубликатов: "
   ],
   "metadata": {
    "collapsed": false,
    "pycharm": {
     "name": "#%% md\n"
    }
   }
  },
  {
   "cell_type": "code",
   "execution_count": null,
   "outputs": [],
   "source": [
    "df_1.head()"
   ],
   "metadata": {
    "collapsed": false,
    "pycharm": {
     "name": "#%%\n"
    }
   }
  },
  {
   "cell_type": "code",
   "execution_count": null,
   "outputs": [],
   "source": [
    "df_1['new'] = df_1['f0']* 100"
   ],
   "metadata": {
    "collapsed": false,
    "pycharm": {
     "name": "#%%\n"
    }
   }
  },
  {
   "cell_type": "code",
   "execution_count": null,
   "outputs": [],
   "source": [
    "df_1.head()"
   ],
   "metadata": {
    "collapsed": false,
    "pycharm": {
     "name": "#%%\n"
    }
   }
  },
  {
   "cell_type": "code",
   "execution_count": null,
   "outputs": [],
   "source": [
    "df_1.duplicated().sum()"
   ],
   "metadata": {
    "collapsed": false,
    "pycharm": {
     "name": "#%%\n"
    }
   }
  },
  {
   "cell_type": "code",
   "execution_count": null,
   "outputs": [],
   "source": [
    "df_1[['f0','f1','f2','product']].corr()"
   ],
   "metadata": {
    "collapsed": false,
    "pycharm": {
     "name": "#%%\n"
    }
   }
  },
  {
   "cell_type": "code",
   "execution_count": null,
   "outputs": [],
   "source": [
    "df_1[['f0','f1','f2','product']].phik_matrix()"
   ],
   "metadata": {
    "collapsed": false,
    "pycharm": {
     "name": "#%%\n"
    }
   }
  },
  {
   "cell_type": "code",
   "execution_count": null,
   "outputs": [],
   "source": [
    "df_1['f0'].plot(kind='hist',grid=True,title='Признак \"f0\" первого региона');"
   ],
   "metadata": {
    "collapsed": false,
    "pycharm": {
     "name": "#%%\n"
    }
   }
  },
  {
   "cell_type": "code",
   "execution_count": null,
   "outputs": [],
   "source": [
    "df_1['f1'].plot(kind='hist',grid=True,title='Признак \"f1\" первого региона');"
   ],
   "metadata": {
    "collapsed": false,
    "pycharm": {
     "name": "#%%\n"
    }
   }
  },
  {
   "cell_type": "code",
   "execution_count": null,
   "outputs": [],
   "source": [
    "df_1['f2'].plot(kind='hist',grid=True,title='Признак \"f2\" первого региона');"
   ],
   "metadata": {
    "collapsed": false,
    "pycharm": {
     "name": "#%%\n"
    }
   }
  },
  {
   "cell_type": "code",
   "execution_count": null,
   "outputs": [],
   "source": [
    "df_1['product'].plot(kind='hist',grid=True,title='Целевой признак \"product\" первого региона');\n",
    "plt.xlabel('тыс.бар.');"
   ],
   "metadata": {
    "collapsed": false,
    "pycharm": {
     "name": "#%%\n"
    }
   }
  },
  {
   "cell_type": "markdown",
   "source": [
    "### Подготовка данных для второго региона."
   ],
   "metadata": {
    "collapsed": false,
    "pycharm": {
     "name": "#%% md\n"
    }
   }
  },
  {
   "cell_type": "code",
   "execution_count": null,
   "outputs": [],
   "source": [
    "display(df_2.head()), display(df_2.info())"
   ],
   "metadata": {
    "collapsed": false,
    "pycharm": {
     "name": "#%%\n"
    }
   }
  },
  {
   "cell_type": "markdown",
   "source": [
    "Посмотрим основные статистики нашей выборки:"
   ],
   "metadata": {
    "collapsed": false,
    "pycharm": {
     "name": "#%% md\n"
    }
   }
  },
  {
   "cell_type": "code",
   "execution_count": null,
   "outputs": [],
   "source": [
    "df_2.describe()"
   ],
   "metadata": {
    "collapsed": false,
    "pycharm": {
     "name": "#%%\n"
    }
   }
  },
  {
   "cell_type": "markdown",
   "source": [
    "Проведем проверку на наличие явных дубликатов: "
   ],
   "metadata": {
    "collapsed": false,
    "pycharm": {
     "name": "#%% md\n"
    }
   }
  },
  {
   "cell_type": "code",
   "execution_count": null,
   "outputs": [],
   "source": [
    "df_2.duplicated().sum()"
   ],
   "metadata": {
    "collapsed": false,
    "pycharm": {
     "name": "#%%\n"
    }
   }
  },
  {
   "cell_type": "code",
   "execution_count": null,
   "outputs": [],
   "source": [
    "df_2[['f0','f1','f2','product']].corr()"
   ],
   "metadata": {
    "collapsed": false,
    "pycharm": {
     "name": "#%%\n"
    }
   }
  },
  {
   "cell_type": "code",
   "execution_count": null,
   "outputs": [],
   "source": [
    "df_2[['f0','f1','f2','product']].phik_matrix()"
   ],
   "metadata": {
    "collapsed": false,
    "pycharm": {
     "name": "#%%\n"
    }
   }
  },
  {
   "cell_type": "code",
   "execution_count": null,
   "outputs": [],
   "source": [
    "df_2['f0'].plot(kind='hist',grid=True,title='Признак \"f0\" второго региона');"
   ],
   "metadata": {
    "collapsed": false,
    "pycharm": {
     "name": "#%%\n"
    }
   }
  },
  {
   "cell_type": "code",
   "execution_count": null,
   "outputs": [],
   "source": [
    "df_2['f1'].plot(kind='hist',grid=True,title='Признак \"f1\" второго региона');"
   ],
   "metadata": {
    "collapsed": false,
    "pycharm": {
     "name": "#%%\n"
    }
   }
  },
  {
   "cell_type": "code",
   "execution_count": null,
   "outputs": [],
   "source": [
    "df_2['f2'].plot(kind='hist',grid=True,title='Признак \"f2\" второго региона');"
   ],
   "metadata": {
    "collapsed": false,
    "pycharm": {
     "name": "#%%\n"
    }
   }
  },
  {
   "cell_type": "code",
   "execution_count": null,
   "outputs": [],
   "source": [
    "df_2['product'].plot(kind='hist',grid=True,title='Целевой признак \"product\" второго региона');\n",
    "plt.xlabel('тыс.бар.');"
   ],
   "metadata": {
    "collapsed": false,
    "pycharm": {
     "name": "#%%\n"
    }
   }
  },
  {
   "cell_type": "markdown",
   "source": [
    "### Подготовка данных для третьего региона."
   ],
   "metadata": {
    "collapsed": false,
    "pycharm": {
     "name": "#%% md\n"
    }
   }
  },
  {
   "cell_type": "code",
   "execution_count": null,
   "outputs": [],
   "source": [
    "display(df_3.head()), display(df_3.info())"
   ],
   "metadata": {
    "collapsed": false,
    "pycharm": {
     "name": "#%%\n"
    }
   }
  },
  {
   "cell_type": "markdown",
   "source": [
    "Посмотрим основные статистики нашей выборки:"
   ],
   "metadata": {
    "collapsed": false,
    "pycharm": {
     "name": "#%% md\n"
    }
   }
  },
  {
   "cell_type": "code",
   "execution_count": null,
   "outputs": [],
   "source": [
    "df_3.describe()"
   ],
   "metadata": {
    "collapsed": false,
    "pycharm": {
     "name": "#%%\n"
    }
   }
  },
  {
   "cell_type": "markdown",
   "source": [
    "Проведем проверку на наличие явных дубликатов: "
   ],
   "metadata": {
    "collapsed": false,
    "pycharm": {
     "name": "#%% md\n"
    }
   }
  },
  {
   "cell_type": "code",
   "execution_count": null,
   "outputs": [],
   "source": [
    "df_3.duplicated().sum()"
   ],
   "metadata": {
    "collapsed": false,
    "pycharm": {
     "name": "#%%\n"
    }
   }
  },
  {
   "cell_type": "code",
   "execution_count": null,
   "outputs": [],
   "source": [
    "df_3[['f0','f1','f2','product']].corr()"
   ],
   "metadata": {
    "collapsed": false,
    "pycharm": {
     "name": "#%%\n"
    }
   }
  },
  {
   "cell_type": "code",
   "execution_count": null,
   "outputs": [],
   "source": [
    "df_3[['f0','f1','f2','product']].phik_matrix()"
   ],
   "metadata": {
    "collapsed": false,
    "pycharm": {
     "name": "#%%\n"
    }
   }
  },
  {
   "cell_type": "code",
   "execution_count": null,
   "outputs": [],
   "source": [
    "df_3['f0'].plot(kind = 'hist',grid = True,title='Признак \"f0\" третьего региона');"
   ],
   "metadata": {
    "collapsed": false,
    "pycharm": {
     "name": "#%%\n"
    }
   }
  },
  {
   "cell_type": "code",
   "execution_count": null,
   "outputs": [],
   "source": [
    "df_3['f1'].plot(kind='hist',grid=True,title='Признак \"f1\" третьего региона');"
   ],
   "metadata": {
    "collapsed": false,
    "pycharm": {
     "name": "#%%\n"
    }
   }
  },
  {
   "cell_type": "code",
   "execution_count": null,
   "outputs": [],
   "source": [
    "df_3['f2'].plot(kind='hist',grid=True,title='Признак \"f2\" третьего региона');"
   ],
   "metadata": {
    "collapsed": false,
    "pycharm": {
     "name": "#%%\n"
    }
   }
  },
  {
   "cell_type": "code",
   "execution_count": null,
   "outputs": [],
   "source": [
    "df_3['product'].plot(kind='hist',grid=True,title='Целевой признак \"product\" третьего региона');\n",
    "plt.xlabel('тыс.бар.');"
   ],
   "metadata": {
    "collapsed": false,
    "pycharm": {
     "name": "#%%\n"
    }
   }
  },
  {
   "cell_type": "markdown",
   "source": [
    "## Обучение и проверка модели"
   ],
   "metadata": {
    "collapsed": false,
    "pycharm": {
     "name": "#%% md\n"
    }
   }
  },
  {
   "cell_type": "code",
   "execution_count": null,
   "outputs": [],
   "source": [
    "def modeling(df):\n",
    "    \n",
    "    # выделяем целевой признак и признаки для прогноза\n",
    "    X=df.drop(['id','product'], axis=1)\n",
    "    y=df['product']\n",
    "    \n",
    "    # делим выборку на тренировочную и валидационную выборки в соотношении 75:25\n",
    "    X_train, X_valid, y_train, y_valid = train_test_split(X, y, test_size=0.25, random_state=42)\n",
    "    \n",
    "    # обучаем модель линейной регрессии\n",
    "    model = LinearRegression()\n",
    "    model.fit(X_train, y_train)\n",
    "    pred = model.predict(X_valid)\n",
    "    mse = mean_squared_error(pred, y_valid)\n",
    "    rmse = np.sqrt(mse)\n",
    "    mean_values=pred.mean()\n",
    "    return y_valid, pred, mse, rmse, mean_values"
   ],
   "metadata": {
    "collapsed": false,
    "pycharm": {
     "name": "#%%\n"
    }
   }
  },
  {
   "cell_type": "markdown",
   "source": [
    "#### Первый регион."
   ],
   "metadata": {
    "collapsed": false,
    "pycharm": {
     "name": "#%% md\n"
    }
   }
  },
  {
   "cell_type": "code",
   "execution_count": null,
   "outputs": [],
   "source": [
    "y_valid_1, pred_1, mse_1, rmse_1, mean_values_1 = modeling(df_1)"
   ],
   "metadata": {
    "collapsed": false,
    "pycharm": {
     "name": "#%%\n"
    }
   }
  },
  {
   "cell_type": "code",
   "execution_count": null,
   "outputs": [],
   "source": [
    "print('RMSE_1:', rmse_1)\n",
    "print('Средний запас предсказанного сырья:', mean_values_1,'тыс.бар.')"
   ],
   "metadata": {
    "collapsed": false,
    "pycharm": {
     "name": "#%%\n"
    }
   }
  },
  {
   "cell_type": "markdown",
   "source": [
    "#### Второй регион."
   ],
   "metadata": {
    "collapsed": false,
    "pycharm": {
     "name": "#%% md\n"
    }
   }
  },
  {
   "cell_type": "code",
   "execution_count": null,
   "outputs": [],
   "source": [
    "y_valid_2, pred_2, mse_2, rmse_2, mean_values_2 = modeling(df_2)"
   ],
   "metadata": {
    "collapsed": false,
    "pycharm": {
     "name": "#%%\n"
    }
   }
  },
  {
   "cell_type": "code",
   "execution_count": null,
   "outputs": [],
   "source": [
    "print('RMSE_2:', rmse_2)\n",
    "print('Средний запас предсказанного сырья:', mean_values_2,'тыс.бар.')"
   ],
   "metadata": {
    "collapsed": false,
    "pycharm": {
     "name": "#%%\n"
    }
   }
  },
  {
   "cell_type": "markdown",
   "source": [
    "#### Третий регион."
   ],
   "metadata": {
    "collapsed": false,
    "pycharm": {
     "name": "#%% md\n"
    }
   }
  },
  {
   "cell_type": "code",
   "execution_count": null,
   "outputs": [],
   "source": [
    "y_valid_3, pred_3, mse_3, rmse_3, mean_values_3 = modeling(df_3)"
   ],
   "metadata": {
    "collapsed": false,
    "pycharm": {
     "name": "#%%\n"
    }
   }
  },
  {
   "cell_type": "code",
   "execution_count": null,
   "outputs": [],
   "source": [
    "print('RMSE_3:', rmse_3)\n",
    "print('Средний запас предсказанного сырья:', mean_values_3,'тыс.бар.')"
   ],
   "metadata": {
    "collapsed": false,
    "pycharm": {
     "name": "#%%\n"
    }
   }
  },
  {
   "cell_type": "markdown",
   "source": [
    "Средний запас сырья по предсказанным данным больше у третьего региона, но среднеквадратическая ошибка здесь так же самая большаяя."
   ],
   "metadata": {
    "collapsed": false,
    "pycharm": {
     "name": "#%% md\n"
    }
   }
  },
  {
   "cell_type": "markdown",
   "source": [
    "## Подготовка к расчёту прибыли"
   ],
   "metadata": {
    "collapsed": false,
    "pycharm": {
     "name": "#%% md\n"
    }
   }
  },
  {
   "cell_type": "markdown",
   "source": [
    "#### Функция для расчета прибыли."
   ],
   "metadata": {
    "collapsed": false,
    "pycharm": {
     "name": "#%% md\n"
    }
   }
  },
  {
   "cell_type": "code",
   "execution_count": null,
   "outputs": [],
   "source": [
    "min_price=np.round(BUDGET/(BARREL_PRICE*TOP_HOLES)) \n",
    "print(min_price,'тыс.бар.')"
   ],
   "metadata": {
    "collapsed": false,
    "pycharm": {
     "name": "#%%\n"
    }
   }
  },
  {
   "cell_type": "markdown",
   "source": [
    "- Достаточный объём сырья для безубыточной разработки новой скважины= 111 тыс.баррелей"
   ],
   "metadata": {
    "collapsed": false,
    "pycharm": {
     "name": "#%% md\n"
    }
   }
  },
  {
   "cell_type": "markdown",
   "source": [
    "#### Сравним средним запас по предсказаниям модели в каждом регионе  с достаточным объёмом сырья для безубыточной разработки новой скважины."
   ],
   "metadata": {
    "collapsed": false,
    "pycharm": {
     "name": "#%% md\n"
    }
   }
  },
  {
   "cell_type": "code",
   "execution_count": null,
   "outputs": [],
   "source": [
    "print('Достаточный объём:', min_price,'тыс.бар.')\n",
    "print('Первый регион:', np.round(y_valid_1.mean(),decimals=2),'тыс.бар.')\n",
    "print('Второй регион:', np.round(y_valid_2.mean(),decimals=2),'тыс.бар.')\n",
    "print('Третий регион:', np.round(y_valid_3.mean(),decimals=2),'тыс.бар.')"
   ],
   "metadata": {
    "collapsed": false,
    "pycharm": {
     "name": "#%%\n"
    }
   }
  },
  {
   "cell_type": "markdown",
   "source": [
    "- Во всех регионах средний запас сырья по предсказаниям модели меньше достаточного объёма сырья для безубыточной разработки новой скважины."
   ],
   "metadata": {
    "collapsed": false,
    "pycharm": {
     "name": "#%% md\n"
    }
   }
  },
  {
   "cell_type": "markdown",
   "source": [
    "## Расчёт прибыли и рисков "
   ],
   "metadata": {
    "collapsed": false,
    "pycharm": {
     "name": "#%% md\n"
    }
   }
  },
  {
   "cell_type": "markdown",
   "source": [
    "Подготовка типов данных:"
   ],
   "metadata": {
    "collapsed": false,
    "pycharm": {
     "name": "#%% md\n"
    }
   }
  },
  {
   "cell_type": "code",
   "execution_count": null,
   "outputs": [],
   "source": [
    "def type_series(y, pred):\n",
    "    y=y.reset_index(drop=True)\n",
    "    pred=pd.Series(pred)\n",
    "    return y, pred"
   ],
   "metadata": {
    "collapsed": false,
    "pycharm": {
     "name": "#%%\n"
    }
   }
  },
  {
   "cell_type": "code",
   "execution_count": null,
   "outputs": [],
   "source": [
    "y_valid_1, pred_1=type_series(y_valid_1, pred_1)"
   ],
   "metadata": {
    "collapsed": false,
    "pycharm": {
     "name": "#%%\n"
    }
   }
  },
  {
   "cell_type": "code",
   "execution_count": null,
   "outputs": [],
   "source": [
    "y_valid_2, pred_2=type_series(y_valid_2, pred_2)"
   ],
   "metadata": {
    "collapsed": false,
    "pycharm": {
     "name": "#%%\n"
    }
   }
  },
  {
   "cell_type": "code",
   "execution_count": null,
   "outputs": [],
   "source": [
    "y_valid_3, pred_3=type_series(y_valid_3, pred_3)"
   ],
   "metadata": {
    "collapsed": false,
    "pycharm": {
     "name": "#%%\n"
    }
   }
  },
  {
   "cell_type": "markdown",
   "source": [
    "#### Посчитаем прибыль по выбранным скважинам и предсказаниям модели."
   ],
   "metadata": {
    "collapsed": false,
    "pycharm": {
     "name": "#%% md\n"
    }
   }
  },
  {
   "cell_type": "code",
   "execution_count": null,
   "outputs": [],
   "source": [
    "#функция для расчёта прибыли по выбранным скважинам и предсказаниям модели\n",
    "def profit(y: pd.Series, pred: pd.Series)-> int:\n",
    "    pred_top = pred.sort_values(ascending = False)\n",
    "    selected = y[pred_top.index][:TOP_HOLES]\n",
    "    value = selected.sum()\n",
    "    profit = value*BARREL_PRICE-BUDGET \n",
    "    return profit"
   ],
   "metadata": {
    "collapsed": false,
    "pycharm": {
     "name": "#%%\n"
    }
   }
  },
  {
   "cell_type": "markdown",
   "source": [
    "Первый регион"
   ],
   "metadata": {
    "collapsed": false,
    "pycharm": {
     "name": "#%% md\n"
    }
   }
  },
  {
   "cell_type": "code",
   "execution_count": null,
   "outputs": [],
   "source": [
    "print(np.round(profit(y_valid_1, pred_1)/1000000,decimals=2),',млн.руб.')"
   ],
   "metadata": {
    "collapsed": false,
    "pycharm": {
     "name": "#%%\n"
    }
   }
  },
  {
   "cell_type": "markdown",
   "source": [
    "Второй регион"
   ],
   "metadata": {
    "collapsed": false,
    "pycharm": {
     "name": "#%% md\n"
    }
   }
  },
  {
   "cell_type": "code",
   "execution_count": null,
   "outputs": [],
   "source": [
    "print(np.round(profit(y_valid_2, pred_2)/1000000,decimals=2),',млн.руб.')"
   ],
   "metadata": {
    "collapsed": false,
    "pycharm": {
     "name": "#%%\n"
    }
   }
  },
  {
   "cell_type": "markdown",
   "source": [
    "Третий регион"
   ],
   "metadata": {
    "collapsed": false,
    "pycharm": {
     "name": "#%% md\n"
    }
   }
  },
  {
   "cell_type": "code",
   "execution_count": null,
   "outputs": [],
   "source": [
    "print(np.round(profit(y_valid_3, pred_3)/1000000,decimals=2),',млн.руб.')"
   ],
   "metadata": {
    "collapsed": false,
    "pycharm": {
     "name": "#%%\n"
    }
   }
  },
  {
   "cell_type": "markdown",
   "source": [
    "#### Применим технику Bootstrap c 1000 выборок, чтобы найти распределение прибыли. Также найдем среднюю прибыль, 95%-ый доверительный интервал и риск убытков."
   ],
   "metadata": {
    "collapsed": false,
    "pycharm": {
     "name": "#%% md\n"
    }
   }
  },
  {
   "cell_type": "code",
   "execution_count": null,
   "outputs": [],
   "source": [
    "def bootstrap(y_valid: pd.Series , pred: pd.Series):\n",
    "    state = np.random.RandomState(12345)\n",
    "    values_profit = []\n",
    "    for i in range(BOOTSTRAP_SIZE):\n",
    "        y_subsample = y_valid.sample(n = HOLES, replace = True, random_state=state)\n",
    "        pred_subsumple = pred[y_subsample.index]\n",
    "        pred_subsumple = pred_subsumple.reset_index(drop = True)\n",
    "        y_subsample = y_subsample.reset_index(drop = True)\n",
    "        profit_dist = profit(y_subsample, pred_subsumple)\n",
    "        values_profit.append(profit_dist/1000000)\n",
    "    values_profit = pd.Series(values_profit)    \n",
    "    profit_mean = np.round(values_profit.mean(),decimals=2),\n",
    "    lower = np.round(values_profit.quantile(0.25),decimals=2),\n",
    "    higher = np.round(values_profit.quantile(0.975),decimals=2),\n",
    "    risk = ((values_profit < 0).mean())*100\n",
    "    return values_profit, profit_mean, lower, higher, risk"
   ],
   "metadata": {
    "collapsed": false,
    "pycharm": {
     "name": "#%%\n"
    }
   }
  },
  {
   "cell_type": "markdown",
   "source": [
    "#### Первый регион"
   ],
   "metadata": {
    "collapsed": false,
    "pycharm": {
     "name": "#%% md\n"
    }
   }
  },
  {
   "cell_type": "code",
   "execution_count": null,
   "outputs": [],
   "source": [
    "values_profit_1, profit_mean_1, lower_1, higher_1, risk_1 = bootstrap(y_valid_1,pred_1)"
   ],
   "metadata": {
    "collapsed": false,
    "pycharm": {
     "name": "#%%\n"
    }
   }
  },
  {
   "cell_type": "code",
   "execution_count": null,
   "outputs": [],
   "source": [
    "values_profit_1.plot(kind='hist',title='Распределение прибыли в первом регионе',grid=True);\n",
    "plt.xlabel('млн.руб.');"
   ],
   "metadata": {
    "collapsed": false,
    "pycharm": {
     "name": "#%%\n"
    }
   }
  },
  {
   "cell_type": "markdown",
   "source": [
    "#### Второй регион"
   ],
   "metadata": {
    "collapsed": false,
    "pycharm": {
     "name": "#%% md\n"
    }
   }
  },
  {
   "cell_type": "code",
   "execution_count": null,
   "outputs": [],
   "source": [
    "values_profit_2, profit_mean_2, lower_2, higher_2, risk_2 = bootstrap(y_valid_2,pred_2)"
   ],
   "metadata": {
    "collapsed": false,
    "pycharm": {
     "name": "#%%\n"
    }
   }
  },
  {
   "cell_type": "code",
   "execution_count": null,
   "outputs": [],
   "source": [
    "values_profit_1.plot(kind='hist',title='Распределение прибыли во втором регионе',grid=True);\n",
    "plt.xlabel('млн.руб.');"
   ],
   "metadata": {
    "collapsed": false,
    "pycharm": {
     "name": "#%%\n"
    }
   }
  },
  {
   "cell_type": "markdown",
   "source": [
    "#### Третий регион"
   ],
   "metadata": {
    "collapsed": false,
    "pycharm": {
     "name": "#%% md\n"
    }
   }
  },
  {
   "cell_type": "code",
   "execution_count": null,
   "outputs": [],
   "source": [
    "values_profit_3, profit_mean_3, lower_3, higher_3, risk_3 = bootstrap(y_valid_3,pred_3)"
   ],
   "metadata": {
    "collapsed": false,
    "pycharm": {
     "name": "#%%\n"
    }
   }
  },
  {
   "cell_type": "code",
   "execution_count": null,
   "outputs": [],
   "source": [
    "values_profit_3.plot(kind='hist',title='Распределение прибыли в третьем регионе',grid=True);\n",
    "plt.xlabel('млн.руб.');"
   ],
   "metadata": {
    "collapsed": false,
    "pycharm": {
     "name": "#%%\n"
    }
   }
  },
  {
   "cell_type": "code",
   "execution_count": null,
   "outputs": [],
   "source": [
    "final=pd.DataFrame(\n",
    "                  [\n",
    "                   [profit_mean_1, lower_1, higher_1, risk_1],\n",
    "                   [profit_mean_2, lower_2, higher_2, risk_2],\n",
    "                   [profit_mean_3, lower_3, higher_3, risk_3]],\n",
    "                   index=['Первый регион','Второй регион','Третий регион'],\n",
    "                   columns=['Средняя прибыль,млн.руб','Нижняя граница доверительно интервала,млн.руб.',\n",
    "                            'Верхний граница доверительно интервала,млн.руб.','Риск убытков,%'\n",
    "                                                                                                        ]\n",
    "                                                                                                        )"
   ],
   "metadata": {
    "collapsed": false,
    "pycharm": {
     "name": "#%%\n"
    }
   }
  },
  {
   "cell_type": "code",
   "execution_count": null,
   "outputs": [],
   "source": [
    "display(final)"
   ],
   "metadata": {
    "collapsed": false,
    "pycharm": {
     "name": "#%%\n"
    }
   }
  },
  {
   "cell_type": "markdown",
   "source": [
    "### Вывод:<br>\n",
    "В рамках данного исследования была проведена подготовка данных, обучена модель линейной регрессии и сделан прогноз запасов для скважин из трёх регионов:<br> \n",
    "* Регион 1. Средний запас сырья: 92.33 тыс. баррелей*   \n",
    "* Регион 2. Средний запас сырья: 68.73 тыс. баррелей*  \n",
    "* Регион 3. Средний запас сырья: 95.15 тыс. баррелей*  \n",
    "Достаточный объём: 1111.0\n",
    "\n",
    "Достаточный объём сырья для безубыточной разработки - новой скважины равен 111 тыс. барреля.\n",
    "\n",
    "В каждом из трёх регионов средний запас сырья скважины меньше полученного значения достаточного объёма сырья.\n",
    "\n",
    "#### Прибыль по выбранным скважинам и предсказаниям модели. <br>\n",
    "\n",
    " - Регион 1- 3359,14 ,млн.руб.\n",
    " - Регион 2- 2415 ,млн.руб. \n",
    " - Реuион 3- 2598,57 ,млн.руб."
   ],
   "metadata": {
    "collapsed": false,
    "pycharm": {
     "name": "#%% md\n"
    }
   }
  },
  {
   "cell_type": "markdown",
   "source": [
    "#### Применили технику Bootstrap с 1000 выборок, для нахождения распределение прибыли. <br>"
   ],
   "metadata": {
    "collapsed": false,
    "pycharm": {
     "name": "#%% md\n"
    }
   }
  },
  {
   "cell_type": "code",
   "execution_count": null,
   "outputs": [],
   "source": [
    "display(final)"
   ],
   "metadata": {
    "collapsed": false,
    "pycharm": {
     "name": "#%%\n"
    }
   }
  },
  {
   "cell_type": "markdown",
   "source": [
    "На основании полученных данных можно сделать вывод, что `регион 2` является наиболее привлекательным для разработки. Самая высокая прибыль лучших месторождений и наименьший риск получения убытков..  \n",
    "\n",
    "Данный регион рекомендован к освоению.  "
   ],
   "metadata": {
    "collapsed": false,
    "pycharm": {
     "name": "#%% md\n"
    }
   }
  }
 ],
 "metadata": {
  "ExecuteTimeLog": [
   {
    "duration": 1620,
    "start_time": "2022-12-12T16:32:46.795Z"
   },
   {
    "duration": 188,
    "start_time": "2022-12-12T16:32:48.416Z"
   },
   {
    "duration": 0,
    "start_time": "2022-12-12T16:32:48.608Z"
   },
   {
    "duration": 0,
    "start_time": "2022-12-12T16:32:48.609Z"
   },
   {
    "duration": 0,
    "start_time": "2022-12-12T16:32:48.610Z"
   },
   {
    "duration": 0,
    "start_time": "2022-12-12T16:32:48.611Z"
   },
   {
    "duration": 0,
    "start_time": "2022-12-12T16:32:48.612Z"
   },
   {
    "duration": 0,
    "start_time": "2022-12-12T16:32:48.613Z"
   },
   {
    "duration": 0,
    "start_time": "2022-12-12T16:32:48.622Z"
   },
   {
    "duration": 0,
    "start_time": "2022-12-12T16:32:48.623Z"
   },
   {
    "duration": 0,
    "start_time": "2022-12-12T16:32:48.625Z"
   },
   {
    "duration": 0,
    "start_time": "2022-12-12T16:32:48.626Z"
   },
   {
    "duration": 0,
    "start_time": "2022-12-12T16:32:48.628Z"
   },
   {
    "duration": 0,
    "start_time": "2022-12-12T16:32:48.629Z"
   },
   {
    "duration": 0,
    "start_time": "2022-12-12T16:32:48.630Z"
   },
   {
    "duration": 0,
    "start_time": "2022-12-12T16:32:48.631Z"
   },
   {
    "duration": 0,
    "start_time": "2022-12-12T16:32:48.633Z"
   },
   {
    "duration": 0,
    "start_time": "2022-12-12T16:32:48.634Z"
   },
   {
    "duration": 0,
    "start_time": "2022-12-12T16:32:48.635Z"
   },
   {
    "duration": 0,
    "start_time": "2022-12-12T16:32:48.637Z"
   },
   {
    "duration": 0,
    "start_time": "2022-12-12T16:32:48.638Z"
   },
   {
    "duration": 0,
    "start_time": "2022-12-12T16:32:48.639Z"
   },
   {
    "duration": 0,
    "start_time": "2022-12-12T16:32:48.641Z"
   },
   {
    "duration": 0,
    "start_time": "2022-12-12T16:32:48.642Z"
   },
   {
    "duration": 0,
    "start_time": "2022-12-12T16:32:48.643Z"
   },
   {
    "duration": 0,
    "start_time": "2022-12-12T16:32:48.645Z"
   },
   {
    "duration": 0,
    "start_time": "2022-12-12T16:32:48.646Z"
   },
   {
    "duration": 0,
    "start_time": "2022-12-12T16:32:48.647Z"
   },
   {
    "duration": 0,
    "start_time": "2022-12-12T16:32:48.649Z"
   },
   {
    "duration": 0,
    "start_time": "2022-12-12T16:32:48.650Z"
   },
   {
    "duration": 0,
    "start_time": "2022-12-12T16:32:48.651Z"
   },
   {
    "duration": 0,
    "start_time": "2022-12-12T16:32:48.652Z"
   },
   {
    "duration": 0,
    "start_time": "2022-12-12T16:32:48.653Z"
   },
   {
    "duration": 0,
    "start_time": "2022-12-12T16:32:48.655Z"
   },
   {
    "duration": 0,
    "start_time": "2022-12-12T16:32:48.656Z"
   },
   {
    "duration": 0,
    "start_time": "2022-12-12T16:32:48.657Z"
   },
   {
    "duration": 0,
    "start_time": "2022-12-12T16:32:48.658Z"
   },
   {
    "duration": 0,
    "start_time": "2022-12-12T16:32:48.659Z"
   },
   {
    "duration": 0,
    "start_time": "2022-12-12T16:32:48.660Z"
   },
   {
    "duration": 0,
    "start_time": "2022-12-12T16:32:48.661Z"
   },
   {
    "duration": 0,
    "start_time": "2022-12-12T16:32:48.725Z"
   },
   {
    "duration": 0,
    "start_time": "2022-12-12T16:32:48.726Z"
   },
   {
    "duration": 0,
    "start_time": "2022-12-12T16:32:48.727Z"
   },
   {
    "duration": 0,
    "start_time": "2022-12-12T16:32:48.728Z"
   },
   {
    "duration": 0,
    "start_time": "2022-12-12T16:32:48.729Z"
   },
   {
    "duration": 0,
    "start_time": "2022-12-12T16:32:48.730Z"
   },
   {
    "duration": 1606,
    "start_time": "2022-12-12T16:33:31.543Z"
   },
   {
    "duration": 398,
    "start_time": "2022-12-12T16:33:33.151Z"
   },
   {
    "duration": 29,
    "start_time": "2022-12-12T16:33:33.551Z"
   },
   {
    "duration": 57,
    "start_time": "2022-12-12T16:33:33.582Z"
   },
   {
    "duration": 46,
    "start_time": "2022-12-12T16:33:33.640Z"
   },
   {
    "duration": 11,
    "start_time": "2022-12-12T16:33:33.687Z"
   },
   {
    "duration": 357,
    "start_time": "2022-12-12T16:33:33.699Z"
   },
   {
    "duration": 350,
    "start_time": "2022-12-12T16:33:34.058Z"
   },
   {
    "duration": 177,
    "start_time": "2022-12-12T16:33:34.410Z"
   },
   {
    "duration": 33,
    "start_time": "2022-12-12T16:33:34.590Z"
   },
   {
    "duration": 34,
    "start_time": "2022-12-12T16:33:34.625Z"
   },
   {
    "duration": 62,
    "start_time": "2022-12-12T16:33:34.661Z"
   },
   {
    "duration": 13,
    "start_time": "2022-12-12T16:33:34.724Z"
   },
   {
    "duration": 302,
    "start_time": "2022-12-12T16:33:34.739Z"
   },
   {
    "duration": 321,
    "start_time": "2022-12-12T16:33:35.043Z"
   },
   {
    "duration": 256,
    "start_time": "2022-12-12T16:33:35.366Z"
   },
   {
    "duration": 26,
    "start_time": "2022-12-12T16:33:35.623Z"
   },
   {
    "duration": 38,
    "start_time": "2022-12-12T16:33:35.651Z"
   },
   {
    "duration": 74,
    "start_time": "2022-12-12T16:33:35.692Z"
   },
   {
    "duration": 15,
    "start_time": "2022-12-12T16:33:35.767Z"
   },
   {
    "duration": 345,
    "start_time": "2022-12-12T16:33:35.784Z"
   },
   {
    "duration": 330,
    "start_time": "2022-12-12T16:33:36.130Z"
   },
   {
    "duration": 184,
    "start_time": "2022-12-12T16:33:36.461Z"
   },
   {
    "duration": 4,
    "start_time": "2022-12-12T16:33:36.647Z"
   },
   {
    "duration": 101,
    "start_time": "2022-12-12T16:33:36.653Z"
   },
   {
    "duration": 65,
    "start_time": "2022-12-12T16:33:36.756Z"
   },
   {
    "duration": 300,
    "start_time": "2022-12-12T16:33:36.823Z"
   },
   {
    "duration": 3,
    "start_time": "2022-12-12T16:33:37.127Z"
   },
   {
    "duration": 409,
    "start_time": "2022-12-12T16:33:37.131Z"
   },
   {
    "duration": 5,
    "start_time": "2022-12-12T16:33:37.621Z"
   },
   {
    "duration": 95,
    "start_time": "2022-12-12T16:33:37.628Z"
   },
   {
    "duration": 6,
    "start_time": "2022-12-12T16:33:37.725Z"
   },
   {
    "duration": 11,
    "start_time": "2022-12-12T16:33:37.732Z"
   },
   {
    "duration": 4,
    "start_time": "2022-12-12T16:33:37.745Z"
   },
   {
    "duration": 9,
    "start_time": "2022-12-12T16:33:37.751Z"
   },
   {
    "duration": 15,
    "start_time": "2022-12-12T16:33:37.761Z"
   },
   {
    "duration": 9,
    "start_time": "2022-12-12T16:33:37.778Z"
   },
   {
    "duration": 8,
    "start_time": "2022-12-12T16:33:37.788Z"
   },
   {
    "duration": 11,
    "start_time": "2022-12-12T16:33:37.797Z"
   },
   {
    "duration": 8,
    "start_time": "2022-12-12T16:33:37.822Z"
   },
   {
    "duration": 9,
    "start_time": "2022-12-12T16:33:37.831Z"
   },
   {
    "duration": 5,
    "start_time": "2022-12-12T16:33:37.841Z"
   },
   {
    "duration": 7,
    "start_time": "2022-12-12T16:33:37.847Z"
   },
   {
    "duration": 1224,
    "start_time": "2022-12-12T16:33:37.857Z"
   },
   {
    "duration": 1146,
    "start_time": "2022-12-12T16:33:39.083Z"
   },
   {
    "duration": 1164,
    "start_time": "2022-12-12T16:33:40.230Z"
   },
   {
    "duration": 5,
    "start_time": "2022-12-12T16:35:50.302Z"
   },
   {
    "duration": 1139,
    "start_time": "2022-12-12T16:35:52.805Z"
   },
   {
    "duration": 1181,
    "start_time": "2022-12-12T16:35:58.101Z"
   },
   {
    "duration": 1195,
    "start_time": "2022-12-12T16:36:00.681Z"
   },
   {
    "duration": 1589,
    "start_time": "2022-12-12T16:39:11.583Z"
   },
   {
    "duration": 408,
    "start_time": "2022-12-12T16:39:13.175Z"
   },
   {
    "duration": 39,
    "start_time": "2022-12-12T16:39:13.585Z"
   },
   {
    "duration": 39,
    "start_time": "2022-12-12T16:39:13.626Z"
   },
   {
    "duration": 69,
    "start_time": "2022-12-12T16:39:13.667Z"
   },
   {
    "duration": 11,
    "start_time": "2022-12-12T16:39:13.737Z"
   },
   {
    "duration": 330,
    "start_time": "2022-12-12T16:39:13.750Z"
   },
   {
    "duration": 447,
    "start_time": "2022-12-12T16:39:14.084Z"
   },
   {
    "duration": 182,
    "start_time": "2022-12-12T16:39:14.533Z"
   },
   {
    "duration": 29,
    "start_time": "2022-12-12T16:39:14.724Z"
   },
   {
    "duration": 68,
    "start_time": "2022-12-12T16:39:14.755Z"
   },
   {
    "duration": 64,
    "start_time": "2022-12-12T16:39:14.825Z"
   },
   {
    "duration": 38,
    "start_time": "2022-12-12T16:39:14.891Z"
   },
   {
    "duration": 317,
    "start_time": "2022-12-12T16:39:14.931Z"
   },
   {
    "duration": 318,
    "start_time": "2022-12-12T16:39:15.250Z"
   },
   {
    "duration": 336,
    "start_time": "2022-12-12T16:39:15.570Z"
   },
   {
    "duration": 31,
    "start_time": "2022-12-12T16:39:15.908Z"
   },
   {
    "duration": 40,
    "start_time": "2022-12-12T16:39:15.941Z"
   },
   {
    "duration": 81,
    "start_time": "2022-12-12T16:39:15.983Z"
   },
   {
    "duration": 13,
    "start_time": "2022-12-12T16:39:16.066Z"
   },
   {
    "duration": 334,
    "start_time": "2022-12-12T16:39:16.081Z"
   },
   {
    "duration": 331,
    "start_time": "2022-12-12T16:39:16.422Z"
   },
   {
    "duration": 184,
    "start_time": "2022-12-12T16:39:16.754Z"
   },
   {
    "duration": 5,
    "start_time": "2022-12-12T16:39:16.941Z"
   },
   {
    "duration": 101,
    "start_time": "2022-12-12T16:39:16.947Z"
   },
   {
    "duration": 72,
    "start_time": "2022-12-12T16:39:17.053Z"
   },
   {
    "duration": 293,
    "start_time": "2022-12-12T16:39:17.129Z"
   },
   {
    "duration": 4,
    "start_time": "2022-12-12T16:39:17.426Z"
   },
   {
    "duration": 340,
    "start_time": "2022-12-12T16:39:17.431Z"
   },
   {
    "duration": 51,
    "start_time": "2022-12-12T16:39:17.773Z"
   },
   {
    "duration": 105,
    "start_time": "2022-12-12T16:39:17.829Z"
   },
   {
    "duration": 18,
    "start_time": "2022-12-12T16:39:17.937Z"
   },
   {
    "duration": 7,
    "start_time": "2022-12-12T16:39:17.957Z"
   },
   {
    "duration": 7,
    "start_time": "2022-12-12T16:39:17.966Z"
   },
   {
    "duration": 7,
    "start_time": "2022-12-12T16:39:17.975Z"
   },
   {
    "duration": 9,
    "start_time": "2022-12-12T16:39:17.984Z"
   },
   {
    "duration": 6,
    "start_time": "2022-12-12T16:39:17.995Z"
   },
   {
    "duration": 6,
    "start_time": "2022-12-12T16:39:18.003Z"
   },
   {
    "duration": 11,
    "start_time": "2022-12-12T16:39:18.010Z"
   },
   {
    "duration": 9,
    "start_time": "2022-12-12T16:39:18.023Z"
   },
   {
    "duration": 7,
    "start_time": "2022-12-12T16:39:18.034Z"
   },
   {
    "duration": 2,
    "start_time": "2022-12-12T16:39:18.043Z"
   },
   {
    "duration": 7,
    "start_time": "2022-12-12T16:39:18.046Z"
   },
   {
    "duration": 1426,
    "start_time": "2022-12-12T16:39:18.055Z"
   },
   {
    "duration": 1378,
    "start_time": "2022-12-12T16:39:19.483Z"
   },
   {
    "duration": 1419,
    "start_time": "2022-12-12T16:39:20.862Z"
   },
   {
    "duration": 2375,
    "start_time": "2022-12-13T21:12:50.556Z"
   },
   {
    "duration": 1641,
    "start_time": "2022-12-13T21:12:52.933Z"
   },
   {
    "duration": 3,
    "start_time": "2022-12-13T21:12:54.576Z"
   },
   {
    "duration": 432,
    "start_time": "2022-12-13T21:12:54.581Z"
   },
   {
    "duration": 35,
    "start_time": "2022-12-13T21:12:55.015Z"
   },
   {
    "duration": 37,
    "start_time": "2022-12-13T21:12:55.052Z"
   },
   {
    "duration": 67,
    "start_time": "2022-12-13T21:12:55.091Z"
   },
   {
    "duration": 19,
    "start_time": "2022-12-13T21:12:55.160Z"
   },
   {
    "duration": 305,
    "start_time": "2022-12-13T21:12:55.181Z"
   },
   {
    "duration": 192,
    "start_time": "2022-12-13T21:12:55.489Z"
   },
   {
    "duration": 153,
    "start_time": "2022-12-13T21:12:55.682Z"
   },
   {
    "duration": 162,
    "start_time": "2022-12-13T21:12:55.837Z"
   },
   {
    "duration": 189,
    "start_time": "2022-12-13T21:12:56.001Z"
   },
   {
    "duration": 24,
    "start_time": "2022-12-13T21:12:56.192Z"
   },
   {
    "duration": 51,
    "start_time": "2022-12-13T21:12:56.217Z"
   },
   {
    "duration": 46,
    "start_time": "2022-12-13T21:12:56.270Z"
   },
   {
    "duration": 21,
    "start_time": "2022-12-13T21:12:56.335Z"
   },
   {
    "duration": 314,
    "start_time": "2022-12-13T21:12:56.357Z"
   },
   {
    "duration": 182,
    "start_time": "2022-12-13T21:12:56.673Z"
   },
   {
    "duration": 230,
    "start_time": "2022-12-13T21:12:56.856Z"
   },
   {
    "duration": 167,
    "start_time": "2022-12-13T21:12:57.088Z"
   },
   {
    "duration": 181,
    "start_time": "2022-12-13T21:12:57.257Z"
   },
   {
    "duration": 24,
    "start_time": "2022-12-13T21:12:57.440Z"
   },
   {
    "duration": 35,
    "start_time": "2022-12-13T21:12:57.466Z"
   },
   {
    "duration": 68,
    "start_time": "2022-12-13T21:12:57.503Z"
   },
   {
    "duration": 21,
    "start_time": "2022-12-13T21:12:57.573Z"
   },
   {
    "duration": 316,
    "start_time": "2022-12-13T21:12:57.595Z"
   },
   {
    "duration": 181,
    "start_time": "2022-12-13T21:12:57.916Z"
   },
   {
    "duration": 168,
    "start_time": "2022-12-13T21:12:58.098Z"
   },
   {
    "duration": 163,
    "start_time": "2022-12-13T21:12:58.267Z"
   },
   {
    "duration": 176,
    "start_time": "2022-12-13T21:12:58.434Z"
   },
   {
    "duration": 4,
    "start_time": "2022-12-13T21:12:58.612Z"
   },
   {
    "duration": 39,
    "start_time": "2022-12-13T21:12:58.618Z"
   },
   {
    "duration": 80,
    "start_time": "2022-12-13T21:12:58.659Z"
   },
   {
    "duration": 123,
    "start_time": "2022-12-13T21:12:58.742Z"
   },
   {
    "duration": 72,
    "start_time": "2022-12-13T21:12:58.867Z"
   },
   {
    "duration": 127,
    "start_time": "2022-12-13T21:12:58.941Z"
   },
   {
    "duration": 68,
    "start_time": "2022-12-13T21:12:59.071Z"
   },
   {
    "duration": 110,
    "start_time": "2022-12-13T21:12:59.141Z"
   },
   {
    "duration": 18,
    "start_time": "2022-12-13T21:12:59.253Z"
   },
   {
    "duration": 9,
    "start_time": "2022-12-13T21:12:59.273Z"
   },
   {
    "duration": 15,
    "start_time": "2022-12-13T21:12:59.284Z"
   },
   {
    "duration": 10,
    "start_time": "2022-12-13T21:12:59.301Z"
   },
   {
    "duration": 21,
    "start_time": "2022-12-13T21:12:59.313Z"
   },
   {
    "duration": 14,
    "start_time": "2022-12-13T21:12:59.335Z"
   },
   {
    "duration": 14,
    "start_time": "2022-12-13T21:12:59.350Z"
   },
   {
    "duration": 9,
    "start_time": "2022-12-13T21:12:59.366Z"
   },
   {
    "duration": 9,
    "start_time": "2022-12-13T21:12:59.376Z"
   },
   {
    "duration": 6,
    "start_time": "2022-12-13T21:12:59.386Z"
   },
   {
    "duration": 1167,
    "start_time": "2022-12-13T21:12:59.394Z"
   },
   {
    "duration": 155,
    "start_time": "2022-12-13T21:13:00.564Z"
   },
   {
    "duration": 1179,
    "start_time": "2022-12-13T21:13:00.721Z"
   },
   {
    "duration": 170,
    "start_time": "2022-12-13T21:13:01.902Z"
   },
   {
    "duration": 1242,
    "start_time": "2022-12-13T21:13:02.074Z"
   },
   {
    "duration": 159,
    "start_time": "2022-12-13T21:13:03.318Z"
   },
   {
    "duration": 5,
    "start_time": "2022-12-13T21:13:03.479Z"
   },
   {
    "duration": 23,
    "start_time": "2022-12-13T21:13:03.485Z"
   },
   {
    "duration": 23,
    "start_time": "2022-12-13T21:13:03.510Z"
   },
   {
    "duration": 1383,
    "start_time": "2022-12-27T16:42:01.036Z"
   },
   {
    "duration": 0,
    "start_time": "2022-12-27T16:42:02.421Z"
   },
   {
    "duration": 0,
    "start_time": "2022-12-27T16:42:02.422Z"
   },
   {
    "duration": 8,
    "start_time": "2022-12-27T16:42:03.643Z"
   },
   {
    "duration": 10,
    "start_time": "2022-12-27T16:42:20.407Z"
   },
   {
    "duration": 2,
    "start_time": "2022-12-27T16:42:20.923Z"
   },
   {
    "duration": 8,
    "start_time": "2022-12-27T16:42:29.132Z"
   },
   {
    "duration": 7,
    "start_time": "2022-12-27T16:42:33.860Z"
   },
   {
    "duration": 270,
    "start_time": "2022-12-27T16:42:38.953Z"
   },
   {
    "duration": 3,
    "start_time": "2022-12-27T16:42:39.493Z"
   },
   {
    "duration": 728,
    "start_time": "2022-12-27T16:42:39.893Z"
   },
   {
    "duration": 24,
    "start_time": "2022-12-27T16:42:40.710Z"
   },
   {
    "duration": 33,
    "start_time": "2022-12-27T16:42:42.460Z"
   },
   {
    "duration": 11,
    "start_time": "2022-12-27T16:42:59.810Z"
   },
   {
    "duration": 8,
    "start_time": "2022-12-27T16:43:09.066Z"
   },
   {
    "duration": 5,
    "start_time": "2022-12-27T16:43:36.821Z"
   },
   {
    "duration": 9,
    "start_time": "2022-12-27T16:43:46.233Z"
   }
  ],
  "kernelspec": {
   "display_name": "Python 3 (ipykernel)",
   "language": "python",
   "name": "python3"
  },
  "language_info": {
   "codemirror_mode": {
    "name": "ipython",
    "version": 3
   },
   "file_extension": ".py",
   "mimetype": "text/x-python",
   "name": "python",
   "nbconvert_exporter": "python",
   "pygments_lexer": "ipython3",
   "version": "3.9.13"
  },
  "toc": {
   "base_numbering": 1,
   "nav_menu": {},
   "number_sections": true,
   "sideBar": true,
   "skip_h1_title": true,
   "title_cell": "Table of Contents",
   "title_sidebar": "Contents",
   "toc_cell": false,
   "toc_position": {},
   "toc_section_display": true,
   "toc_window_display": false
  }
 },
 "nbformat": 4,
 "nbformat_minor": 2
}