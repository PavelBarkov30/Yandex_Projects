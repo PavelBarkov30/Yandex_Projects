{
 "cells": [
  {
   "cell_type": "code",
   "execution_count": null,
   "id": "6efe344b-78c3-4d4b-b795-2b3800b11000",
   "metadata": {},
   "outputs": [],
   "source": [
    "pip install catboost"
   ]
  },
  {
   "cell_type": "code",
   "execution_count": 1,
   "id": "f83fdd4b-4c55-415c-abfe-52b270108f26",
   "metadata": {},
   "outputs": [],
   "source": [
    "# импорт необходимых библиотек\n",
    "import pandas as pd\n",
    "import numpy as np\n",
    "import matplotlib.pyplot as plt\n",
    "import seaborn as sns\n",
    "from sklearn.preprocessing import StandardScaler, MinMaxScaler\n",
    "from sklearn.model_selection import GridSearchCV, train_test_split, RandomizedSearchCV\n",
    "from sklearn.ensemble import RandomForestClassifier\n",
    "from sklearn.metrics import roc_auc_score, roc_curve, f1_score\n",
    "from sklearn.linear_model import LinearRegression, LogisticRegression\n",
    "from catboost import CatBoostClassifier\n",
    "from sklearn.pipeline import make_pipeline\n",
    "\n",
    "import warnings"
   ]
  },
  {
   "cell_type": "code",
   "execution_count": 2,
   "id": "7b050585-8b16-4a25-ae50-207dae4afd46",
   "metadata": {},
   "outputs": [
    {
     "data": {
      "text/plain": [
       "4"
      ]
     },
     "execution_count": 2,
     "metadata": {},
     "output_type": "execute_result"
    }
   ],
   "source": [
    "2+2"
   ]
  },
  {
   "cell_type": "code",
   "execution_count": 3,
   "id": "63b3945d-020b-4d76-990b-e9c395f9e9e5",
   "metadata": {},
   "outputs": [],
   "source": [
    "warnings.filterwarnings('ignore')\n",
    "%matplotlib inline"
   ]
  },
  {
   "cell_type": "code",
   "execution_count": 4,
   "id": "93488988-45e3-4817-aa13-a4b4a7d51001",
   "metadata": {},
   "outputs": [],
   "source": [
    "df_train = pd.read_csv(r'C:\\Users\\pulka\\train.csv')\n",
    "df_test = pd.read_csv(r'C:\\Users\\pulka\\test.csv')"
   ]
  },
  {
   "cell_type": "code",
   "execution_count": 5,
   "id": "b56d97bc-410d-4423-8446-92bd22369b9f",
   "metadata": {},
   "outputs": [],
   "source": [
    "numeric = ['age', 'height', 'weight', 'ap_hi', 'ap_lo']"
   ]
  },
  {
   "cell_type": "code",
   "execution_count": 6,
   "id": "2580b6bd-c2b9-4cbe-8a9b-b8604f787a0b",
   "metadata": {},
   "outputs": [],
   "source": [
    "# X_train[numeric] = scaler.transform(X_train[numeric])\n",
    "# X_test[numeric] = scaler.transform(X_test[numeric])\n",
    "# df_test[numeric] = scaler.transform(df_test[numeric])"
   ]
  },
  {
   "cell_type": "code",
   "execution_count": 7,
   "id": "4f4b1d96-66c1-45e1-be85-b9bb67d5e1e3",
   "metadata": {},
   "outputs": [],
   "source": [
    "pipe = make_pipeline(MinMaxScaler(), RandomForestClassifier())"
   ]
  },
  {
   "cell_type": "code",
   "execution_count": 8,
   "id": "747f5cc3-3ec4-418c-a784-10c5d4ea3c33",
   "metadata": {},
   "outputs": [],
   "source": [
    "X_train, X_test, y_train, y_test = train_test_split(df_train[['age', 'gender',\t'height', 'weight',\t'ap_hi', 'ap_lo', 'cholesterol',\n",
    "                                                              'gluc', 'smoke', 'alco',\t'active']], df_train['cardio'],\n",
    "                                                   test_size=0.25, stratify =  df_train['cardio'], random_state=1234)"
   ]
  },
  {
   "cell_type": "code",
   "execution_count": null,
   "id": "2becc5ff-727e-43cc-9f55-a68596bd743a",
   "metadata": {},
   "outputs": [],
   "source": [
    "model = RandomForestClassifier(random_state=1234)\n",
    "distributions = {'n_estimators':range(60),'max_depth': range(12), 'min_samples_leaf': range(2,4), 'min_samples_split':range(2,5)}\n",
    "clf = GridSearchCV(model,distributions, scoring = 'roc_auc')\n",
    "clf.fit(X_train, y_train)"
   ]
  },
  {
   "cell_type": "code",
   "execution_count": null,
   "id": "8fc7073d-b9ec-452d-838f-b1613a9f0ca8",
   "metadata": {},
   "outputs": [],
   "source": [
    "clf.best_params_"
   ]
  },
  {
   "cell_type": "code",
   "execution_count": null,
   "id": "cc4dbab3-7b9f-483f-b41d-fd692734910a",
   "metadata": {},
   "outputs": [],
   "source": [
    "clf.best_score_"
   ]
  },
  {
   "cell_type": "code",
   "execution_count": null,
   "id": "94eb530a-e697-4925-8e2e-1a68aa914658",
   "metadata": {},
   "outputs": [],
   "source": [
    "mod = clf.best_estimator_"
   ]
  },
  {
   "cell_type": "code",
   "execution_count": null,
   "id": "ad88e254-5079-4df1-9ef1-9e7c5a4772c5",
   "metadata": {},
   "outputs": [],
   "source": [
    "roc_auc_score(y_test, mod.predict_proba(X_test)[:,1])"
   ]
  },
  {
   "cell_type": "code",
   "execution_count": null,
   "id": "d913c007-6273-48eb-b189-63683abbe787",
   "metadata": {},
   "outputs": [],
   "source": [
    "df_test.head()\n",
    "df_test_1=df_test.drop('id', axis = 1)\n",
    "df_test_1.head()"
   ]
  },
  {
   "cell_type": "code",
   "execution_count": null,
   "id": "4ddca8fc-4d13-49ac-b241-fddd87ae7eff",
   "metadata": {},
   "outputs": [],
   "source": [
    "pred = mod.predict_proba(df_test_1)[:,1]"
   ]
  },
  {
   "cell_type": "code",
   "execution_count": null,
   "id": "ab31482a-4960-420c-a46c-ff92687fd39b",
   "metadata": {},
   "outputs": [],
   "source": [
    "df_test['cardio'] = pred\n",
    "df_test.head()"
   ]
  },
  {
   "cell_type": "code",
   "execution_count": null,
   "id": "6bf184f6-67dd-4847-a3a7-f667d85eac51",
   "metadata": {},
   "outputs": [],
   "source": [
    "df_test[['id','cardio']].to_csv('masterKaggle.csv', index = False)"
   ]
  },
  {
   "cell_type": "code",
   "execution_count": null,
   "id": "216f7701-1b9b-4425-b753-49c185fc66cd",
   "metadata": {},
   "outputs": [],
   "source": [
    "pd.read_csv(r'C:\\Users\\pulka\\masterKaggle.csv')"
   ]
  },
  {
   "cell_type": "code",
   "execution_count": null,
   "id": "81cefc2b-3549-4333-843d-0dfcf7583708",
   "metadata": {},
   "outputs": [],
   "source": [
    "2+2"
   ]
  },
  {
   "cell_type": "code",
   "execution_count": null,
   "id": "4f04ff55-8c85-4b8b-8a3b-4b9f6745c922",
   "metadata": {},
   "outputs": [],
   "source": []
  }
 ],
 "metadata": {
  "kernelspec": {
   "display_name": "Python 3 (ipykernel)",
   "language": "python",
   "name": "python3"
  },
  "language_info": {
   "codemirror_mode": {
    "name": "ipython",
    "version": 3
   },
   "file_extension": ".py",
   "mimetype": "text/x-python",
   "name": "python",
   "nbconvert_exporter": "python",
   "pygments_lexer": "ipython3",
   "version": "3.9.12"
  }
 },
 "nbformat": 4,
 "nbformat_minor": 5
}
